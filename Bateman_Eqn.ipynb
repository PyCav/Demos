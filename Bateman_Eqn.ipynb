{
 "cells": [
  {
   "cell_type": "code",
   "execution_count": 1,
   "metadata": {
    "collapsed": false
   },
   "outputs": [],
   "source": [
    "import numpy as np\n",
    "import matplotlib.pyplot as plt\n",
    "\n",
    "%matplotlib notebook\n",
    "\n",
    "from IPython.display import display\n",
    "import ipywidgets as widgets\n",
    "from ipywidgets import interact, FloatSlider, IntSlider"
   ]
  },
  {
   "cell_type": "code",
   "execution_count": 2,
   "metadata": {
    "collapsed": true
   },
   "outputs": [],
   "source": [
    "def decay_cycle(N_t,N,N_d,P,data):\n",
    "\tfor i in range(1,N_t+1):\n",
    "\t\trand = np.random.rand(N)\n",
    "\t\tfor j in range(N):\n",
    "\t\t\tfor k in range(N_d):\n",
    "\t\t\t\tif rand[j] < P[k]:\n",
    "\t\t\t\t\tif data[j,i] < N_d:                    \n",
    "\t\t\t\t\t\tdata[j,i:] = data[j,i:] + 1.0\n",
    "\t\t\t\t\t\tbreak\n",
    "\treturn data"
   ]
  },
  {
   "cell_type": "code",
   "execution_count": 3,
   "metadata": {
    "collapsed": true
   },
   "outputs": [],
   "source": [
    "def counter(N_t,N_d,data):\n",
    "\t# Counted nucleii\n",
    "\tcount = np.zeros((N_d,N_t+1))\n",
    "\tfor i in range(N_d):\n",
    "\t\tcount[i,:] = np.sum(data.astype('int64') == i,axis = 0)\n",
    "\treturn count"
   ]
  },
  {
   "cell_type": "code",
   "execution_count": 4,
   "metadata": {
    "collapsed": true
   },
   "outputs": [],
   "source": [
    "global N,N_t,N_d\n",
    "\n",
    "# Number of nucleii\n",
    "N = 100000\n",
    "\n",
    "# Number of daughters in chain\n",
    "N_d = 4\n",
    "\n",
    "# Probability of each decay\n",
    "P = np.zeros((N_d))\n",
    "P[0] = 0.25\n",
    "P[1] = 0.025\n",
    "P[2] = 0.075\n",
    "P[3] = 0.0001\n",
    "\n",
    "# Number of time steps\n",
    "N_t = 25\n",
    "\n",
    "def N_update(val):\n",
    "    global N\n",
    "    N = val\n",
    "\n",
    "def N_t_update(val):\n",
    "    global N_t\n",
    "    N_t = val\n",
    "\n",
    "def N_d_update(val):\n",
    "    global N_d\n",
    "    N_d = val\n",
    "\n",
    "def main(event):\n",
    "    plt.clf()\n",
    "    # Data record array\n",
    "    initial_state = np.zeros((N,N_t+1))\n",
    "\n",
    "    data = decay_cycle(N_t,N,N_d,P,initial_state)\n",
    "\n",
    "    count = counter(N_t,N_d,data)\n",
    "\n",
    "    time = np.arange(0,N_t+1)\n",
    "    stable = np.sum(count, axis = 0)\n",
    "    for i in range(N_d):\n",
    "        plt.plot(time,count[i,:])\n",
    "    plt.plot(time,N-stable)\n",
    "\n",
    "    plt.show()"
   ]
  },
  {
   "cell_type": "code",
   "execution_count": 5,
   "metadata": {
    "collapsed": false
   },
   "outputs": [
    {
     "data": {
      "application/javascript": [
       "/* Put everything inside the global mpl namespace */\n",
       "window.mpl = {};\n",
       "\n",
       "mpl.get_websocket_type = function() {\n",
       "    if (typeof(WebSocket) !== 'undefined') {\n",
       "        return WebSocket;\n",
       "    } else if (typeof(MozWebSocket) !== 'undefined') {\n",
       "        return MozWebSocket;\n",
       "    } else {\n",
       "        alert('Your browser does not have WebSocket support.' +\n",
       "              'Please try Chrome, Safari or Firefox ≥ 6. ' +\n",
       "              'Firefox 4 and 5 are also supported but you ' +\n",
       "              'have to enable WebSockets in about:config.');\n",
       "    };\n",
       "}\n",
       "\n",
       "mpl.figure = function(figure_id, websocket, ondownload, parent_element) {\n",
       "    this.id = figure_id;\n",
       "\n",
       "    this.ws = websocket;\n",
       "\n",
       "    this.supports_binary = (this.ws.binaryType != undefined);\n",
       "\n",
       "    if (!this.supports_binary) {\n",
       "        var warnings = document.getElementById(\"mpl-warnings\");\n",
       "        if (warnings) {\n",
       "            warnings.style.display = 'block';\n",
       "            warnings.textContent = (\n",
       "                \"This browser does not support binary websocket messages. \" +\n",
       "                    \"Performance may be slow.\");\n",
       "        }\n",
       "    }\n",
       "\n",
       "    this.imageObj = new Image();\n",
       "\n",
       "    this.context = undefined;\n",
       "    this.message = undefined;\n",
       "    this.canvas = undefined;\n",
       "    this.rubberband_canvas = undefined;\n",
       "    this.rubberband_context = undefined;\n",
       "    this.format_dropdown = undefined;\n",
       "\n",
       "    this.image_mode = 'full';\n",
       "\n",
       "    this.root = $('<div/>');\n",
       "    this._root_extra_style(this.root)\n",
       "    this.root.attr('style', 'display: inline-block');\n",
       "\n",
       "    $(parent_element).append(this.root);\n",
       "\n",
       "    this._init_header(this);\n",
       "    this._init_canvas(this);\n",
       "    this._init_toolbar(this);\n",
       "\n",
       "    var fig = this;\n",
       "\n",
       "    this.waiting = false;\n",
       "\n",
       "    this.ws.onopen =  function () {\n",
       "            fig.send_message(\"supports_binary\", {value: fig.supports_binary});\n",
       "            fig.send_message(\"send_image_mode\", {});\n",
       "            fig.send_message(\"refresh\", {});\n",
       "        }\n",
       "\n",
       "    this.imageObj.onload = function() {\n",
       "            if (fig.image_mode == 'full') {\n",
       "                // Full images could contain transparency (where diff images\n",
       "                // almost always do), so we need to clear the canvas so that\n",
       "                // there is no ghosting.\n",
       "                fig.context.clearRect(0, 0, fig.canvas.width, fig.canvas.height);\n",
       "            }\n",
       "            fig.context.drawImage(fig.imageObj, 0, 0);\n",
       "        };\n",
       "\n",
       "    this.imageObj.onunload = function() {\n",
       "        this.ws.close();\n",
       "    }\n",
       "\n",
       "    this.ws.onmessage = this._make_on_message_function(this);\n",
       "\n",
       "    this.ondownload = ondownload;\n",
       "}\n",
       "\n",
       "mpl.figure.prototype._init_header = function() {\n",
       "    var titlebar = $(\n",
       "        '<div class=\"ui-dialog-titlebar ui-widget-header ui-corner-all ' +\n",
       "        'ui-helper-clearfix\"/>');\n",
       "    var titletext = $(\n",
       "        '<div class=\"ui-dialog-title\" style=\"width: 100%; ' +\n",
       "        'text-align: center; padding: 3px;\"/>');\n",
       "    titlebar.append(titletext)\n",
       "    this.root.append(titlebar);\n",
       "    this.header = titletext[0];\n",
       "}\n",
       "\n",
       "\n",
       "\n",
       "mpl.figure.prototype._canvas_extra_style = function(canvas_div) {\n",
       "\n",
       "}\n",
       "\n",
       "\n",
       "mpl.figure.prototype._root_extra_style = function(canvas_div) {\n",
       "\n",
       "}\n",
       "\n",
       "mpl.figure.prototype._init_canvas = function() {\n",
       "    var fig = this;\n",
       "\n",
       "    var canvas_div = $('<div/>');\n",
       "\n",
       "    canvas_div.attr('style', 'position: relative; clear: both; outline: 0');\n",
       "\n",
       "    function canvas_keyboard_event(event) {\n",
       "        return fig.key_event(event, event['data']);\n",
       "    }\n",
       "\n",
       "    canvas_div.keydown('key_press', canvas_keyboard_event);\n",
       "    canvas_div.keyup('key_release', canvas_keyboard_event);\n",
       "    this.canvas_div = canvas_div\n",
       "    this._canvas_extra_style(canvas_div)\n",
       "    this.root.append(canvas_div);\n",
       "\n",
       "    var canvas = $('<canvas/>');\n",
       "    canvas.addClass('mpl-canvas');\n",
       "    canvas.attr('style', \"left: 0; top: 0; z-index: 0; outline: 0\")\n",
       "\n",
       "    this.canvas = canvas[0];\n",
       "    this.context = canvas[0].getContext(\"2d\");\n",
       "\n",
       "    var rubberband = $('<canvas/>');\n",
       "    rubberband.attr('style', \"position: absolute; left: 0; top: 0; z-index: 1;\")\n",
       "\n",
       "    var pass_mouse_events = true;\n",
       "\n",
       "    canvas_div.resizable({\n",
       "        start: function(event, ui) {\n",
       "            pass_mouse_events = false;\n",
       "        },\n",
       "        resize: function(event, ui) {\n",
       "            fig.request_resize(ui.size.width, ui.size.height);\n",
       "        },\n",
       "        stop: function(event, ui) {\n",
       "            pass_mouse_events = true;\n",
       "            fig.request_resize(ui.size.width, ui.size.height);\n",
       "        },\n",
       "    });\n",
       "\n",
       "    function mouse_event_fn(event) {\n",
       "        if (pass_mouse_events)\n",
       "            return fig.mouse_event(event, event['data']);\n",
       "    }\n",
       "\n",
       "    rubberband.mousedown('button_press', mouse_event_fn);\n",
       "    rubberband.mouseup('button_release', mouse_event_fn);\n",
       "    // Throttle sequential mouse events to 1 every 20ms.\n",
       "    rubberband.mousemove('motion_notify', mouse_event_fn);\n",
       "\n",
       "    rubberband.mouseenter('figure_enter', mouse_event_fn);\n",
       "    rubberband.mouseleave('figure_leave', mouse_event_fn);\n",
       "\n",
       "    canvas_div.on(\"wheel\", function (event) {\n",
       "        event = event.originalEvent;\n",
       "        event['data'] = 'scroll'\n",
       "        if (event.deltaY < 0) {\n",
       "            event.step = 1;\n",
       "        } else {\n",
       "            event.step = -1;\n",
       "        }\n",
       "        mouse_event_fn(event);\n",
       "    });\n",
       "\n",
       "    canvas_div.append(canvas);\n",
       "    canvas_div.append(rubberband);\n",
       "\n",
       "    this.rubberband = rubberband;\n",
       "    this.rubberband_canvas = rubberband[0];\n",
       "    this.rubberband_context = rubberband[0].getContext(\"2d\");\n",
       "    this.rubberband_context.strokeStyle = \"#000000\";\n",
       "\n",
       "    this._resize_canvas = function(width, height) {\n",
       "        // Keep the size of the canvas, canvas container, and rubber band\n",
       "        // canvas in synch.\n",
       "        canvas_div.css('width', width)\n",
       "        canvas_div.css('height', height)\n",
       "\n",
       "        canvas.attr('width', width);\n",
       "        canvas.attr('height', height);\n",
       "\n",
       "        rubberband.attr('width', width);\n",
       "        rubberband.attr('height', height);\n",
       "    }\n",
       "\n",
       "    // Set the figure to an initial 600x600px, this will subsequently be updated\n",
       "    // upon first draw.\n",
       "    this._resize_canvas(600, 600);\n",
       "\n",
       "    // Disable right mouse context menu.\n",
       "    $(this.rubberband_canvas).bind(\"contextmenu\",function(e){\n",
       "        return false;\n",
       "    });\n",
       "\n",
       "    function set_focus () {\n",
       "        canvas.focus();\n",
       "        canvas_div.focus();\n",
       "    }\n",
       "\n",
       "    window.setTimeout(set_focus, 100);\n",
       "}\n",
       "\n",
       "mpl.figure.prototype._init_toolbar = function() {\n",
       "    var fig = this;\n",
       "\n",
       "    var nav_element = $('<div/>')\n",
       "    nav_element.attr('style', 'width: 100%');\n",
       "    this.root.append(nav_element);\n",
       "\n",
       "    // Define a callback function for later on.\n",
       "    function toolbar_event(event) {\n",
       "        return fig.toolbar_button_onclick(event['data']);\n",
       "    }\n",
       "    function toolbar_mouse_event(event) {\n",
       "        return fig.toolbar_button_onmouseover(event['data']);\n",
       "    }\n",
       "\n",
       "    for(var toolbar_ind in mpl.toolbar_items) {\n",
       "        var name = mpl.toolbar_items[toolbar_ind][0];\n",
       "        var tooltip = mpl.toolbar_items[toolbar_ind][1];\n",
       "        var image = mpl.toolbar_items[toolbar_ind][2];\n",
       "        var method_name = mpl.toolbar_items[toolbar_ind][3];\n",
       "\n",
       "        if (!name) {\n",
       "            // put a spacer in here.\n",
       "            continue;\n",
       "        }\n",
       "        var button = $('<button/>');\n",
       "        button.addClass('ui-button ui-widget ui-state-default ui-corner-all ' +\n",
       "                        'ui-button-icon-only');\n",
       "        button.attr('role', 'button');\n",
       "        button.attr('aria-disabled', 'false');\n",
       "        button.click(method_name, toolbar_event);\n",
       "        button.mouseover(tooltip, toolbar_mouse_event);\n",
       "\n",
       "        var icon_img = $('<span/>');\n",
       "        icon_img.addClass('ui-button-icon-primary ui-icon');\n",
       "        icon_img.addClass(image);\n",
       "        icon_img.addClass('ui-corner-all');\n",
       "\n",
       "        var tooltip_span = $('<span/>');\n",
       "        tooltip_span.addClass('ui-button-text');\n",
       "        tooltip_span.html(tooltip);\n",
       "\n",
       "        button.append(icon_img);\n",
       "        button.append(tooltip_span);\n",
       "\n",
       "        nav_element.append(button);\n",
       "    }\n",
       "\n",
       "    var fmt_picker_span = $('<span/>');\n",
       "\n",
       "    var fmt_picker = $('<select/>');\n",
       "    fmt_picker.addClass('mpl-toolbar-option ui-widget ui-widget-content');\n",
       "    fmt_picker_span.append(fmt_picker);\n",
       "    nav_element.append(fmt_picker_span);\n",
       "    this.format_dropdown = fmt_picker[0];\n",
       "\n",
       "    for (var ind in mpl.extensions) {\n",
       "        var fmt = mpl.extensions[ind];\n",
       "        var option = $(\n",
       "            '<option/>', {selected: fmt === mpl.default_extension}).html(fmt);\n",
       "        fmt_picker.append(option)\n",
       "    }\n",
       "\n",
       "    // Add hover states to the ui-buttons\n",
       "    $( \".ui-button\" ).hover(\n",
       "        function() { $(this).addClass(\"ui-state-hover\");},\n",
       "        function() { $(this).removeClass(\"ui-state-hover\");}\n",
       "    );\n",
       "\n",
       "    var status_bar = $('<span class=\"mpl-message\"/>');\n",
       "    nav_element.append(status_bar);\n",
       "    this.message = status_bar[0];\n",
       "}\n",
       "\n",
       "mpl.figure.prototype.request_resize = function(x_pixels, y_pixels) {\n",
       "    // Request matplotlib to resize the figure. Matplotlib will then trigger a resize in the client,\n",
       "    // which will in turn request a refresh of the image.\n",
       "    this.send_message('resize', {'width': x_pixels, 'height': y_pixels});\n",
       "}\n",
       "\n",
       "mpl.figure.prototype.send_message = function(type, properties) {\n",
       "    properties['type'] = type;\n",
       "    properties['figure_id'] = this.id;\n",
       "    this.ws.send(JSON.stringify(properties));\n",
       "}\n",
       "\n",
       "mpl.figure.prototype.send_draw_message = function() {\n",
       "    if (!this.waiting) {\n",
       "        this.waiting = true;\n",
       "        this.ws.send(JSON.stringify({type: \"draw\", figure_id: this.id}));\n",
       "    }\n",
       "}\n",
       "\n",
       "\n",
       "mpl.figure.prototype.handle_save = function(fig, msg) {\n",
       "    var format_dropdown = fig.format_dropdown;\n",
       "    var format = format_dropdown.options[format_dropdown.selectedIndex].value;\n",
       "    fig.ondownload(fig, format);\n",
       "}\n",
       "\n",
       "\n",
       "mpl.figure.prototype.handle_resize = function(fig, msg) {\n",
       "    var size = msg['size'];\n",
       "    if (size[0] != fig.canvas.width || size[1] != fig.canvas.height) {\n",
       "        fig._resize_canvas(size[0], size[1]);\n",
       "        fig.send_message(\"refresh\", {});\n",
       "    };\n",
       "}\n",
       "\n",
       "mpl.figure.prototype.handle_rubberband = function(fig, msg) {\n",
       "    var x0 = msg['x0'];\n",
       "    var y0 = fig.canvas.height - msg['y0'];\n",
       "    var x1 = msg['x1'];\n",
       "    var y1 = fig.canvas.height - msg['y1'];\n",
       "    x0 = Math.floor(x0) + 0.5;\n",
       "    y0 = Math.floor(y0) + 0.5;\n",
       "    x1 = Math.floor(x1) + 0.5;\n",
       "    y1 = Math.floor(y1) + 0.5;\n",
       "    var min_x = Math.min(x0, x1);\n",
       "    var min_y = Math.min(y0, y1);\n",
       "    var width = Math.abs(x1 - x0);\n",
       "    var height = Math.abs(y1 - y0);\n",
       "\n",
       "    fig.rubberband_context.clearRect(\n",
       "        0, 0, fig.canvas.width, fig.canvas.height);\n",
       "\n",
       "    fig.rubberband_context.strokeRect(min_x, min_y, width, height);\n",
       "}\n",
       "\n",
       "mpl.figure.prototype.handle_figure_label = function(fig, msg) {\n",
       "    // Updates the figure title.\n",
       "    fig.header.textContent = msg['label'];\n",
       "}\n",
       "\n",
       "mpl.figure.prototype.handle_cursor = function(fig, msg) {\n",
       "    var cursor = msg['cursor'];\n",
       "    switch(cursor)\n",
       "    {\n",
       "    case 0:\n",
       "        cursor = 'pointer';\n",
       "        break;\n",
       "    case 1:\n",
       "        cursor = 'default';\n",
       "        break;\n",
       "    case 2:\n",
       "        cursor = 'crosshair';\n",
       "        break;\n",
       "    case 3:\n",
       "        cursor = 'move';\n",
       "        break;\n",
       "    }\n",
       "    fig.rubberband_canvas.style.cursor = cursor;\n",
       "}\n",
       "\n",
       "mpl.figure.prototype.handle_message = function(fig, msg) {\n",
       "    fig.message.textContent = msg['message'];\n",
       "}\n",
       "\n",
       "mpl.figure.prototype.handle_draw = function(fig, msg) {\n",
       "    // Request the server to send over a new figure.\n",
       "    fig.send_draw_message();\n",
       "}\n",
       "\n",
       "mpl.figure.prototype.handle_image_mode = function(fig, msg) {\n",
       "    fig.image_mode = msg['mode'];\n",
       "}\n",
       "\n",
       "mpl.figure.prototype.updated_canvas_event = function() {\n",
       "    // Called whenever the canvas gets updated.\n",
       "    this.send_message(\"ack\", {});\n",
       "}\n",
       "\n",
       "// A function to construct a web socket function for onmessage handling.\n",
       "// Called in the figure constructor.\n",
       "mpl.figure.prototype._make_on_message_function = function(fig) {\n",
       "    return function socket_on_message(evt) {\n",
       "        if (evt.data instanceof Blob) {\n",
       "            /* FIXME: We get \"Resource interpreted as Image but\n",
       "             * transferred with MIME type text/plain:\" errors on\n",
       "             * Chrome.  But how to set the MIME type?  It doesn't seem\n",
       "             * to be part of the websocket stream */\n",
       "            evt.data.type = \"image/png\";\n",
       "\n",
       "            /* Free the memory for the previous frames */\n",
       "            if (fig.imageObj.src) {\n",
       "                (window.URL || window.webkitURL).revokeObjectURL(\n",
       "                    fig.imageObj.src);\n",
       "            }\n",
       "\n",
       "            fig.imageObj.src = (window.URL || window.webkitURL).createObjectURL(\n",
       "                evt.data);\n",
       "            fig.updated_canvas_event();\n",
       "            fig.waiting = false;\n",
       "            return;\n",
       "        }\n",
       "        else if (typeof evt.data === 'string' && evt.data.slice(0, 21) == \"data:image/png;base64\") {\n",
       "            fig.imageObj.src = evt.data;\n",
       "            fig.updated_canvas_event();\n",
       "            fig.waiting = false;\n",
       "            return;\n",
       "        }\n",
       "\n",
       "        var msg = JSON.parse(evt.data);\n",
       "        var msg_type = msg['type'];\n",
       "\n",
       "        // Call the  \"handle_{type}\" callback, which takes\n",
       "        // the figure and JSON message as its only arguments.\n",
       "        try {\n",
       "            var callback = fig[\"handle_\" + msg_type];\n",
       "        } catch (e) {\n",
       "            console.log(\"No handler for the '\" + msg_type + \"' message type: \", msg);\n",
       "            return;\n",
       "        }\n",
       "\n",
       "        if (callback) {\n",
       "            try {\n",
       "                // console.log(\"Handling '\" + msg_type + \"' message: \", msg);\n",
       "                callback(fig, msg);\n",
       "            } catch (e) {\n",
       "                console.log(\"Exception inside the 'handler_\" + msg_type + \"' callback:\", e, e.stack, msg);\n",
       "            }\n",
       "        }\n",
       "    };\n",
       "}\n",
       "\n",
       "// from http://stackoverflow.com/questions/1114465/getting-mouse-location-in-canvas\n",
       "mpl.findpos = function(e) {\n",
       "    //this section is from http://www.quirksmode.org/js/events_properties.html\n",
       "    var targ;\n",
       "    if (!e)\n",
       "        e = window.event;\n",
       "    if (e.target)\n",
       "        targ = e.target;\n",
       "    else if (e.srcElement)\n",
       "        targ = e.srcElement;\n",
       "    if (targ.nodeType == 3) // defeat Safari bug\n",
       "        targ = targ.parentNode;\n",
       "\n",
       "    // jQuery normalizes the pageX and pageY\n",
       "    // pageX,Y are the mouse positions relative to the document\n",
       "    // offset() returns the position of the element relative to the document\n",
       "    var x = e.pageX - $(targ).offset().left;\n",
       "    var y = e.pageY - $(targ).offset().top;\n",
       "\n",
       "    return {\"x\": x, \"y\": y};\n",
       "};\n",
       "\n",
       "/*\n",
       " * return a copy of an object with only non-object keys\n",
       " * we need this to avoid circular references\n",
       " * http://stackoverflow.com/a/24161582/3208463\n",
       " */\n",
       "function simpleKeys (original) {\n",
       "  return Object.keys(original).reduce(function (obj, key) {\n",
       "    if (typeof original[key] !== 'object')\n",
       "        obj[key] = original[key]\n",
       "    return obj;\n",
       "  }, {});\n",
       "}\n",
       "\n",
       "mpl.figure.prototype.mouse_event = function(event, name) {\n",
       "    var canvas_pos = mpl.findpos(event)\n",
       "\n",
       "    if (name === 'button_press')\n",
       "    {\n",
       "        this.canvas.focus();\n",
       "        this.canvas_div.focus();\n",
       "    }\n",
       "\n",
       "    var x = canvas_pos.x;\n",
       "    var y = canvas_pos.y;\n",
       "\n",
       "    this.send_message(name, {x: x, y: y, button: event.button,\n",
       "                             step: event.step,\n",
       "                             guiEvent: simpleKeys(event)});\n",
       "\n",
       "    /* This prevents the web browser from automatically changing to\n",
       "     * the text insertion cursor when the button is pressed.  We want\n",
       "     * to control all of the cursor setting manually through the\n",
       "     * 'cursor' event from matplotlib */\n",
       "    event.preventDefault();\n",
       "    return false;\n",
       "}\n",
       "\n",
       "mpl.figure.prototype._key_event_extra = function(event, name) {\n",
       "    // Handle any extra behaviour associated with a key event\n",
       "}\n",
       "\n",
       "mpl.figure.prototype.key_event = function(event, name) {\n",
       "\n",
       "    // Prevent repeat events\n",
       "    if (name == 'key_press')\n",
       "    {\n",
       "        if (event.which === this._key)\n",
       "            return;\n",
       "        else\n",
       "            this._key = event.which;\n",
       "    }\n",
       "    if (name == 'key_release')\n",
       "        this._key = null;\n",
       "\n",
       "    var value = '';\n",
       "    if (event.ctrlKey && event.which != 17)\n",
       "        value += \"ctrl+\";\n",
       "    if (event.altKey && event.which != 18)\n",
       "        value += \"alt+\";\n",
       "    if (event.shiftKey && event.which != 16)\n",
       "        value += \"shift+\";\n",
       "\n",
       "    value += 'k';\n",
       "    value += event.which.toString();\n",
       "\n",
       "    this._key_event_extra(event, name);\n",
       "\n",
       "    this.send_message(name, {key: value,\n",
       "                             guiEvent: simpleKeys(event)});\n",
       "    return false;\n",
       "}\n",
       "\n",
       "mpl.figure.prototype.toolbar_button_onclick = function(name) {\n",
       "    if (name == 'download') {\n",
       "        this.handle_save(this, null);\n",
       "    } else {\n",
       "        this.send_message(\"toolbar_button\", {name: name});\n",
       "    }\n",
       "};\n",
       "\n",
       "mpl.figure.prototype.toolbar_button_onmouseover = function(tooltip) {\n",
       "    this.message.textContent = tooltip;\n",
       "};\n",
       "mpl.toolbar_items = [[\"Home\", \"Reset original view\", \"fa fa-home icon-home\", \"home\"], [\"Back\", \"Back to  previous view\", \"fa fa-arrow-left icon-arrow-left\", \"back\"], [\"Forward\", \"Forward to next view\", \"fa fa-arrow-right icon-arrow-right\", \"forward\"], [\"\", \"\", \"\", \"\"], [\"Pan\", \"Pan axes with left mouse, zoom with right\", \"fa fa-arrows icon-move\", \"pan\"], [\"Zoom\", \"Zoom to rectangle\", \"fa fa-square-o icon-check-empty\", \"zoom\"], [\"\", \"\", \"\", \"\"], [\"Download\", \"Download plot\", \"fa fa-floppy-o icon-save\", \"download\"]];\n",
       "\n",
       "mpl.extensions = [\"eps\", \"pdf\", \"png\", \"ps\", \"raw\", \"svg\"];\n",
       "\n",
       "mpl.default_extension = \"png\";var comm_websocket_adapter = function(comm) {\n",
       "    // Create a \"websocket\"-like object which calls the given IPython comm\n",
       "    // object with the appropriate methods. Currently this is a non binary\n",
       "    // socket, so there is still some room for performance tuning.\n",
       "    var ws = {};\n",
       "\n",
       "    ws.close = function() {\n",
       "        comm.close()\n",
       "    };\n",
       "    ws.send = function(m) {\n",
       "        //console.log('sending', m);\n",
       "        comm.send(m);\n",
       "    };\n",
       "    // Register the callback with on_msg.\n",
       "    comm.on_msg(function(msg) {\n",
       "        //console.log('receiving', msg['content']['data'], msg);\n",
       "        // Pass the mpl event to the overriden (by mpl) onmessage function.\n",
       "        ws.onmessage(msg['content']['data'])\n",
       "    });\n",
       "    return ws;\n",
       "}\n",
       "\n",
       "mpl.mpl_figure_comm = function(comm, msg) {\n",
       "    // This is the function which gets called when the mpl process\n",
       "    // starts-up an IPython Comm through the \"matplotlib\" channel.\n",
       "\n",
       "    var id = msg.content.data.id;\n",
       "    // Get hold of the div created by the display call when the Comm\n",
       "    // socket was opened in Python.\n",
       "    var element = $(\"#\" + id);\n",
       "    var ws_proxy = comm_websocket_adapter(comm)\n",
       "\n",
       "    function ondownload(figure, format) {\n",
       "        window.open(figure.imageObj.src);\n",
       "    }\n",
       "\n",
       "    var fig = new mpl.figure(id, ws_proxy,\n",
       "                           ondownload,\n",
       "                           element.get(0));\n",
       "\n",
       "    // Call onopen now - mpl needs it, as it is assuming we've passed it a real\n",
       "    // web socket which is closed, not our websocket->open comm proxy.\n",
       "    ws_proxy.onopen();\n",
       "\n",
       "    fig.parent_element = element.get(0);\n",
       "    fig.cell_info = mpl.find_output_cell(\"<div id='\" + id + \"'></div>\");\n",
       "    if (!fig.cell_info) {\n",
       "        console.error(\"Failed to find cell for figure\", id, fig);\n",
       "        return;\n",
       "    }\n",
       "\n",
       "    var output_index = fig.cell_info[2]\n",
       "    var cell = fig.cell_info[0];\n",
       "\n",
       "};\n",
       "\n",
       "mpl.figure.prototype.handle_close = function(fig, msg) {\n",
       "    fig.root.unbind('remove')\n",
       "\n",
       "    // Update the output cell to use the data from the current canvas.\n",
       "    fig.push_to_output();\n",
       "    var dataURL = fig.canvas.toDataURL();\n",
       "    // Re-enable the keyboard manager in IPython - without this line, in FF,\n",
       "    // the notebook keyboard shortcuts fail.\n",
       "    IPython.keyboard_manager.enable()\n",
       "    $(fig.parent_element).html('<img src=\"' + dataURL + '\">');\n",
       "    fig.close_ws(fig, msg);\n",
       "}\n",
       "\n",
       "mpl.figure.prototype.close_ws = function(fig, msg){\n",
       "    fig.send_message('closing', msg);\n",
       "    // fig.ws.close()\n",
       "}\n",
       "\n",
       "mpl.figure.prototype.push_to_output = function(remove_interactive) {\n",
       "    // Turn the data on the canvas into data in the output cell.\n",
       "    var dataURL = this.canvas.toDataURL();\n",
       "    this.cell_info[1]['text/html'] = '<img src=\"' + dataURL + '\">';\n",
       "}\n",
       "\n",
       "mpl.figure.prototype.updated_canvas_event = function() {\n",
       "    // Tell IPython that the notebook contents must change.\n",
       "    IPython.notebook.set_dirty(true);\n",
       "    this.send_message(\"ack\", {});\n",
       "    var fig = this;\n",
       "    // Wait a second, then push the new image to the DOM so\n",
       "    // that it is saved nicely (might be nice to debounce this).\n",
       "    setTimeout(function () { fig.push_to_output() }, 1000);\n",
       "}\n",
       "\n",
       "mpl.figure.prototype._init_toolbar = function() {\n",
       "    var fig = this;\n",
       "\n",
       "    var nav_element = $('<div/>')\n",
       "    nav_element.attr('style', 'width: 100%');\n",
       "    this.root.append(nav_element);\n",
       "\n",
       "    // Define a callback function for later on.\n",
       "    function toolbar_event(event) {\n",
       "        return fig.toolbar_button_onclick(event['data']);\n",
       "    }\n",
       "    function toolbar_mouse_event(event) {\n",
       "        return fig.toolbar_button_onmouseover(event['data']);\n",
       "    }\n",
       "\n",
       "    for(var toolbar_ind in mpl.toolbar_items){\n",
       "        var name = mpl.toolbar_items[toolbar_ind][0];\n",
       "        var tooltip = mpl.toolbar_items[toolbar_ind][1];\n",
       "        var image = mpl.toolbar_items[toolbar_ind][2];\n",
       "        var method_name = mpl.toolbar_items[toolbar_ind][3];\n",
       "\n",
       "        if (!name) { continue; };\n",
       "\n",
       "        var button = $('<button class=\"btn btn-default\" href=\"#\" title=\"' + name + '\"><i class=\"fa ' + image + ' fa-lg\"></i></button>');\n",
       "        button.click(method_name, toolbar_event);\n",
       "        button.mouseover(tooltip, toolbar_mouse_event);\n",
       "        nav_element.append(button);\n",
       "    }\n",
       "\n",
       "    // Add the status bar.\n",
       "    var status_bar = $('<span class=\"mpl-message\" style=\"text-align:right; float: right;\"/>');\n",
       "    nav_element.append(status_bar);\n",
       "    this.message = status_bar[0];\n",
       "\n",
       "    // Add the close button to the window.\n",
       "    var buttongrp = $('<div class=\"btn-group inline pull-right\"></div>');\n",
       "    var button = $('<button class=\"btn btn-mini btn-primary\" href=\"#\" title=\"Stop Interaction\"><i class=\"fa fa-power-off icon-remove icon-large\"></i></button>');\n",
       "    button.click(function (evt) { fig.handle_close(fig, {}); } );\n",
       "    button.mouseover('Stop Interaction', toolbar_mouse_event);\n",
       "    buttongrp.append(button);\n",
       "    var titlebar = this.root.find($('.ui-dialog-titlebar'));\n",
       "    titlebar.prepend(buttongrp);\n",
       "}\n",
       "\n",
       "mpl.figure.prototype._root_extra_style = function(el){\n",
       "    var fig = this\n",
       "    el.on(\"remove\", function(){\n",
       "\tfig.close_ws(fig, {});\n",
       "    });\n",
       "}\n",
       "\n",
       "mpl.figure.prototype._canvas_extra_style = function(el){\n",
       "    // this is important to make the div 'focusable\n",
       "    el.attr('tabindex', 0)\n",
       "    // reach out to IPython and tell the keyboard manager to turn it's self\n",
       "    // off when our div gets focus\n",
       "\n",
       "    // location in version 3\n",
       "    if (IPython.notebook.keyboard_manager) {\n",
       "        IPython.notebook.keyboard_manager.register_events(el);\n",
       "    }\n",
       "    else {\n",
       "        // location in version 2\n",
       "        IPython.keyboard_manager.register_events(el);\n",
       "    }\n",
       "\n",
       "}\n",
       "\n",
       "mpl.figure.prototype._key_event_extra = function(event, name) {\n",
       "    var manager = IPython.notebook.keyboard_manager;\n",
       "    if (!manager)\n",
       "        manager = IPython.keyboard_manager;\n",
       "\n",
       "    // Check for shift+enter\n",
       "    if (event.shiftKey && event.which == 13) {\n",
       "        this.canvas_div.blur();\n",
       "        event.shiftKey = false;\n",
       "        // Send a \"J\" for go to next cell\n",
       "        event.which = 74;\n",
       "        event.keyCode = 74;\n",
       "        manager.command_mode();\n",
       "        manager.handle_keydown(event);\n",
       "    }\n",
       "}\n",
       "\n",
       "mpl.figure.prototype.handle_save = function(fig, msg) {\n",
       "    fig.ondownload(fig, null);\n",
       "}\n",
       "\n",
       "\n",
       "mpl.find_output_cell = function(html_output) {\n",
       "    // Return the cell and output element which can be found *uniquely* in the notebook.\n",
       "    // Note - this is a bit hacky, but it is done because the \"notebook_saving.Notebook\"\n",
       "    // IPython event is triggered only after the cells have been serialised, which for\n",
       "    // our purposes (turning an active figure into a static one), is too late.\n",
       "    var cells = IPython.notebook.get_cells();\n",
       "    var ncells = cells.length;\n",
       "    for (var i=0; i<ncells; i++) {\n",
       "        var cell = cells[i];\n",
       "        if (cell.cell_type === 'code'){\n",
       "            for (var j=0; j<cell.output_area.outputs.length; j++) {\n",
       "                var data = cell.output_area.outputs[j];\n",
       "                if (data.data) {\n",
       "                    // IPython >= 3 moved mimebundle to data attribute of output\n",
       "                    data = data.data;\n",
       "                }\n",
       "                if (data['text/html'] == html_output) {\n",
       "                    return [cell, data, j];\n",
       "                }\n",
       "            }\n",
       "        }\n",
       "    }\n",
       "}\n",
       "\n",
       "// Register the function which deals with the matplotlib target/channel.\n",
       "// The kernel may be null if the page has been refreshed.\n",
       "if (IPython.notebook.kernel != null) {\n",
       "    IPython.notebook.kernel.comm_manager.register_target('matplotlib', mpl.mpl_figure_comm);\n",
       "}\n"
      ],
      "text/plain": [
       "<IPython.core.display.Javascript object>"
      ]
     },
     "metadata": {},
     "output_type": "display_data"
    },
    {
     "data": {
      "text/html": [
       "<img src=\"data:image/png;base64,iVBORw0KGgoAAAANSUhEUgAAAoAAAAHgCAYAAAA10dzkAAAgAElEQVR4nOzdd3wUdf7H8Y+ctBACUkUQbKgI1kOwl7Peidg9C6c/bKfgodhOUdFTwAoWxIaoqAjioaIiVchuKimkJ6RX0nvPlnn//pjgRaQkmdn9zm7ez8djHz8gm5mPl/nJy9mZ+YoQERERERERERERERERERERERERERERERERERERERERERERERERERERERERERERERERERERERERERERERERERERERERERERERERERERERERERERERERERERERERERERERERERERERERERERERERERERERERERERERERERERERERERERERERERERERERERERERERERERERERERERERERERERERERERERERERERERERERERERERERERERERERERERERERERERERERERERERERERERkfn+LiJ2EakTEbeI9Nrn66eJiE1EGkWkSERe2M82/iMie0SkQUSCRWSiom0QERERUSdcIXoEzpQ/BmCgiBSLyAIR6SMik0SkUEQe6fCeJ0UkX0ROEZG+IrJI9EAL8PI2iIiIiKiLLpY/BuDdIlK6z5/NEZHMDr/PEZGHO/z+TyJSLiJ3enkbRERERNRF+wvAJSKycZ/3ndv+vkARCRIRTUSm7vOezSLyphe3QURERETdsL8A/EREVu/zvpPb33eUiIwRPd5O2uc9a0TkYy9ug4iIiIi6wZ/OAB4mIqPbt80XX3zxxRdffPnOa7Tof4+Tl+wvAO+S7l2/VyYid3h5Gx2NFhHwxRdffPHFF18++Rot5HG9RL/z9krRAzCg/feHiX52bY+IvCwi/US/+zZffn/37RMikif6Y1v6i8hC0e/Q7XgHrze20VGQiKCwsBB1dXV8KX7Nnj1b+Qx88WdhxRd/HtZ58WdhjVdhYeHeAAzqZMOQAXeL/hGsu/2199cXtX99kujPCWwS/VEsz+9nGy+KSInoz+gLlj8+w89b29grSESQnV0HUm/u3LmqR6B2/FlYC38e1sGfhTXU1dUxAMmQIBHBt98yAK2A/2K1Dv4srIU/D+vgz8IaGIBkVJCI4JlnGIBWsGnTJtUjUDv+LKyFPw/r4M/CGhiAZFSQiOCqqxiAREREvoIBSEYFiQiGD6+Dpqk+nImIiKgzGIBkVJCIoFevOhQUqD6ciYiIqDMYgGRUkIhg4sQ6rFun+nAmIiKizmAAklFBIoIZM+rwzDOqD2ciIiLqDAYgGRUkIliypA6XX676cCYiIqLOYACSUUEiguDgOgweDN4IQkRE5AMYgGRUkIigoqIOffoAGRmqD2kiIiI6FAYgGRUkIqirq8OUKcCqVaoPaSIiIjoUBiAZ9VsAzpoFcIUfIiIi62MAklG/BeBnnwEXXKD6kCYiIqJDYQCSUb8FYHIyEBAAOJ2qD2siIiI6GAYgGfVbALpcwIABQGKi6sOaiIiIDoYBSEb9FoAAcNFFwIoVio9qIiIiOigGIBn1uwB87DHgoYcUH9VERER0UAxAMup3Abh6NTB5suKjmoiIiA6KAUhG/S4As7KA3r2B1lbFRzYREREdEAOQjPpdAGoaMGQIEBWl+MgmIiKiA2IAklG/C0AAuPJK4P33FR7VREREdFAMQDLqDwE4bx4wc6bCo5qIiIgOigFIRv0hAL//Hpg0SeFRTURERAfFACSj/hCARUVAr15AY6PCI5uIiIgOiAFIRv0hAAFg1CjAbld0VBMREdFBMQDJqP0G4PTpwJIlio5qIiIiOigGIBm13wB86SXg9tsVHdVERER0UAxAMmq/AbhxI3DCCYqOaiIiIjooBiAZtd8ArKgARIDqakVHNhERER0QA5CM2m8AAsCxxwJbtig4qomIiOigGIBk1AED8NZbgUWLFBzVREREdFAMQDLqgAH4+uvADTcoOKqJiIjooBiAZNQBA3DHDmDMGO8f1ERERHRwDEAy6oABWF8PHHYYUFKi4MgmIiKi/XK1uJC1MosBSIYcMAABYMIE4McfvXxkExER0e9omobasFrs/uduhAwOwbZjtzEAyZCDBuBddwHz53v5KCciIiIAQHN2M3JfzEXE8REIGRyC9AfTURtei9raWgYgGXLQAHz3XeCvf/Xy0U5ERNSDOWoc2PPRHuy6YBeCewcj8bpElK8rh7vV/dt7eA0gGXXQAIyIAIYNAzTNW4c9ERFRz+N2uFHxUwWSb0lGcN9gxEyJQeHSQrRVtO33/QxAMuqgAdjSAhx+OJCb68GjnoiIqAfSNA31MfXImJOB0OGhCD86HNnzstGY1njI72UAklEHDUAAOPNM4NtvzTzkiYiIeq6Wwhbkv5qPnafshD3QjrSZaajeUQ3N3fmP2xiAZNQhA/CBB4CnnjLjkCciIuqZXI0ulKwsQdxlcQg+PBjxV8WjdFUpXE2ubm2PAUhGHTIAP/4YuPTS7h7yREREPVdLfguynspCyBEhiJoUhYI3C9Ba3Gp4uwxAMuqQARgXBwQFAW73Ad9CRERE7fY+sy/51mQE9wlG0g1JqLHVQDPxjkoGIBl1yAB0OIB+/YC0NNOOWyIiIr/jbnOj9KtSxJwdA3uQHZmPZaI5p9kj+2IAklGHDEAAOPdc4MsvPXIMExER+bS28jbkvpyLsFFhiDwhEoVLC+Gsd3p0nwxAMqpTAThnjv4iIiIiXUNiA9LuTYOtnw3xl8ej8ufKLt3JawQDkIzqVAB+8YV+FpCIiKgn09waKn6sQNxf4mDrb8Pu+3ejIanB63MwAMmoTgVgWpp+HaDD4aUjm4iIyEKc9U4UvlOIiOMjEHZUGPIW5R1wlQ5vYACSUZ0KQLdbvxM4Ls5LRzYREZEFNGc3I/PRTNiD7IiZGoPS1aVwO9Q/FoMBSEZ1KgAB/VmAy5d74agmIiJSrDa8FknXJyG4TzBSbktBbUSt6pF+hwFIRnU6AJ96Sl8VhIiIyB9pmoaqrVWIuyQO9oF2ZP07Cy2FLarH2i8GIBnV6QBcu1ZfF5iIiMifaG4NFesrEDMlBiFDQpD7Ui4c1da+6J0BSEZ1OgBzc4HDDwdarPkfQ0RERF2iuTSUri5F1KlRCDsyDAVvFsDZ4Nnn95mFAUhGdToANQ0YNgyIiPDCkU1EROQh7jY3ilcUI3J8JMLHhaPo/SK4Wlyqx+oSBiAZ1ekABIC//hVYutTDRzUREZEHuJpdKHy3EOFHhyPypEiUfF5iiTt6u4MBSEZ1KQDnzwfuusvDRzUREZGJnHVO5L+aj9ARoYg+Ixpla8ugubyzYoenMADJqC4F4I8/AhMmePioJiIiMoGj0oGc+TkIGRyC2PNiUbmhEprm2+G3FwOQjOpSAJaUAIcdBtTXe/jIJiIi6qbW4lZkPZEFe6Ad8ZfHo3pHtd+E314MQDKqSwEIAGPGADt2eO6gJiIi6o6WvBakz0qHrZ8NidMTURfZ+b/bfA0DkIzqcgDecAPwxhsePKqJiIi6wFHtQObcTNj62ZByWwoaEhpUj+RxDEAyqssBuHAhcOutHjyqiYiIOsHtdKNoWRFChoYg/op4NCT5f/jtxQAko7ocgFu2AMce68GjmoiI6BCqtlRh58SdiDwxEhU/VfjdNX6HwgAko7ocgNXVgAhQUeHBI5uIiGg/mnY3IXFaIkIGh6DgrQK423zzOX5GMQDJqC4HIACccAKwaZOHjmoiIqJ9dLzOL31WOtoq2lSPpBQDkIzqVgDefjvw8sseOqqJiIja9eTr/A6GAUhGdSsAFy8Gpk/30FFNREQEoGpzFXae0nOv8zsYBiAZ1a0AtNuBUaM8dFQTEVGPxuv8Do0BSEZ1KwAbG4FevYCiIg8d2URE1OM4qh3IfJTX+XUGA9B6RojI1yJSKiLVIhImIhd1+PolIhIrIk0iki0iD+7z/X1EZJmIVIhInYj8KCJj9nmPGdvYq1sBCACTJgE//OCBo5qIiHoUXufXdQxA61knIjYRGSIih4nIYyJSLyKDRWSciDSKHmyHix6GtSJyXYfvXyYi8aIHW6CIrBSRXR2+PtaEbXTU7QCcORN49lkPHNVERNRj8Dq/7mEAWk+8iPyrw+8HiIgmImeLyHzRz9x1tEREtrb/uq/oZ/Wmdfj6UBFxiMj57b83YxsddTsAly0DrrzSA0c1ERH5vZa8FiRey+v8uosBaD23i8h2ETlSRHqLyL9FJF30MPtORD7Yz/sr2399uoi4RWTkPu9JF5GH239txjY66nYARkUBQ4YA/I81IiLqLM2loWBJAeyBdqTdk8br/LqJAWg9Y0XkF9HP+jlEvxbw3PavbRORV/Z5/9Xt7xMRuUD0eOu7z3siRWSeidvoqNsB2NoK9O4NZGV54MgmIiK/0xDfgJjJMYgcH4nqHdWqx/FpDEBrOUz0mzJWiMggEeklItNFv0bvdDn02bvTxPgZwM5so6NuByAATJ4MrFlj8lFNRER+xdXsQta/s2Drb0P2s9lwtbhUj+TzGIDWMkT0M3+n7/PnsSLypHTv+r1hItImIue1/36+iMR0cxsHvAZw9uzZmDt3LubOnYtNXVjj7aGHgMcf9+ARTkREPq16WzUijo9AzNQYNCTy7l4jNm3a9Nvf1bNnz2YAWkyKiHwsIgNFPyM4TURaRORS+d8dvP8U/frAC0WkRn5/B+97ot+xe3T7NlbK76PRjG10ZOgM4IoVwEUXmXyEExGRz3NUOpB6dyrsA+0ofLcQmosXjJuJZwCt53gR+V5EykT/6DdJRO7t8PWLRI+zJhHJET3kOuojIktF/0i3XkR+EpHR+7zHjG3sZSgAExOBAQMAF8/mExERAE3TULqqFKHDQ5E4LREtBS2qR/JLDEAyylAAOp1AQACQnGzykU1ERD6nObcZCX9NQOjIUJStLeMz/TyIAUhGGQpAALjgAuDzz008qomIyKd0fLTL7vt2w1HtUD2S32MAklGGA3DuXGD2bBOPaiIi8hm/PdrlxEjUBNeoHqfHYACSUYYDcNUqYMoUE49qIiKyvI6Pdsl5LoePdvEyBiAZZTgAMzKAPn2ANj7MnYioR9j7aJfYc2LRkMRHu6jAACSjDAegpgGDBwOxsSYe2UREZDm/e7TLUj7aRSUGIBllOAAB4PLLgQ8/NOmoJiIiy6neVo2wI8OQeC0f7WIFDEAyypQAfOYZ4N57TTqqiYjIMtxON7KfzYZtgA17lu/ho10sggFIRpkSgOvWAaedZtJRTUREltCS34LY82Oxc+JONCY3qh6HOmAAklGmBGBBAfCnPwFNTSYd2UREpFT59+UIOSIEux/YDVcT7/C1GgYgGWVKAGoaMHIkEBZm0pFNRERKuFpcyPhXBuxBdpStKVM9Dh0AA5CMMiUAAWDaNODtt004qomISImm9CZEnxGNmLNj0JzdrHocOggGIBllWgD+5z/AnXeacFQTEZHXlXxRAvtAO7KeyIK7za16HDoEBiAZZVoAbtgAnHiiCUc1ERF5jbPBidS7UxE6LBSVGypVj0OdxAAko0wLwPJyQASo4VKQREQ+oT6uHpEnRiLukji07mlVPQ51AQOQjDItAAFg3Djg119N2RQREXmIpmkoeq8ItgAbcl/K5YoePogBSEaZGoC33Qa8+KIpmyIiIg9wVDuQdEMSwkaHocbGj2x8FQOQjDI1AD/9FDj3XFM2RUREJqsNq0X42HAkTkuEo9KhehwygAFIRpkagIWF+gOhq6tN2RwREZlAc2vIW5QHW4ANhW8Xcjk3P8AAJKNMDUAAmDgR+PZb0zZHREQGtJa0Iv7yeEQcH4H6mHrV45BJGIBklOkB+NhjwP33m7Y5IiLqpupt1QgdEYqU21PgrHOqHodMxAAko0wPwM2bgbFj9eXhiIhIjb13+RZ/UsyPfP0QA5CMMj0Am5uBfv2AtDTTNklERJ3kdriR/lA6QkeEojasVvU45CEMQDLK9AAEgKuu4rrARETe5qhyIO6yOESdGoWWvBbV45AHMQDJKI8E4JIlwF//auomiYjoIJp2NyFyfCQSpyfCWc/r/fwdA5CM8kgApqQA/fsDLfwPUCIij6vaUoWQwSHIeiqLq3r0EAxAMsojAahpwJgxwNatpm6WiIj2sfdmj5LPS1SPQl7EACSjPBKAAHDPPcATT5i+WSIiQvvNHrPSETo8FLWhvNmjp2EAklEeC8BvvgFOPdX0zRIR9XiO6v/d7NGc26x6HFKAAUhGeSwAq6qAXr2A4mLTN01E1GM1pTch8sRIJF7Lmz16MgYgGeWxAASAqVOBzz/3yKaJiHqcqq282YN0DEAyyqMBOH8+cPvtHtk0EVGPUrSsfWWPz/ixCjEAyTiPBmBYGDBsGOB2e2TzRER+z+10I312OkKHhaImpEb1OGQRDEAyyqMB6HQCgwYB0dEe2TwRkV9zVDsQf3k8oibxZg/6PQYgGeXRAASAm24CFizw2OaJiPxSU0b7zR7TeLMH/REDkIzyeAB+9BFw4YUe2zwRkd+p/rUaIUeEIOtJ3uxB+8cAJKM8HoB5ecDhhwMe3AURkd8o+oA3e9ChMQDJKI8HIACcdBLw/fce3QURkU/T3BoyH8vkzR7UKQxAMsorAThnDvDggx7dBRGRz3I73EidkYqI4yLQnMWbPejQGIBklFcCcMMG4LjjPLoLIiKf5Gp0IeHqBESfEY3WklbV45CPYACSUV4JwMZGoE8fIDPTo7shIvIpjkoHYqbGIO6SODhreacvdR4DkIzySgACwGWXAe+95/HdEBH5hJaCFuycsBNJNybB1eJSPQ75GAYgGeW1AHz9deDaaz2+GyIiy2tMaUT4mHDsfmA3H/NC3cIAJKO8FoAJCUBgINDW5vFdERFZVm14LUKGhCDn+RxoGuOPuocBSEZ5LQA1DTjySGDHDo/viojIkip/qYQ90I7CpYWqRyEfxwAko7wWgABw113A0097ZVdERJZS8mUJbAE2lK0pUz0K+QEGIBnl1QBctQo480yv7IqIyDIKFhfAPtCOqi1VqkchP8EAJKO8GoDl5UCvXkBpqVd2R0SklKZpyHoqC6HDQlEXzfUwyTwMQDLKqwEIAH/+M/DVV17bHRGREm6nG2kz0xA+LhxN6U2qxyE/wwAko7wegPPmAf/4h9d2R0Tkda4mFxKvTUTUpCi07uHqHmQ+BiAZ5fUAtNmAkSMBt9truyQi8hpHtQOx58di1wW74Kh2qB6H/BQDkIzyegA6HPrzAOPivLZLIiKvaC1qRdSkKCRemwhXM1f3IM9hAJJRXg9AAJg+HXj1Va/ukojIo5p2NyF8XDjSZqbB7eRHHORZDEAySkkALlsGXHqpV3dJROQxdVF1CB0Wiuyns7m6B3kFA5CMUhKAWVlA795AQ4NXd0tEZLqqLVWwD7Sj4K0C1aNQD8IAJKOUBCAAHH888NNPXt8tEZFpyteVwxZgQ+lXfLgpeRcDkIxSFoCzZgEPP+z13RIRmaLsmzLYAmyo+LFC9SjUAzEAyShlAbh+PTB+vNd3S0RkWOmqUtgG2FD5S6XqUaiHYgCSUcoCsL5evw4wJ8fruyYi6raSlSWwDbChajPX9SV1GIBklLIABICLLwY+/FDJromIuqx4RTHsgXZU/1qtehTq4RiAZJTSAFy0CLjhBiW7JiLqkj0f7YF9oB01wTWqRyFiAJJhSgMwJgYICtJXByEisqqi94pgD7KjJoTxR9bAACSjlAag2w0MHw6EhCjZPRHRIRW+XQj7IDtqI2pVj0L0GwYgGaU0AAHgjjuA555TtnsiogMqeLMAIYNDUBel7t+RRPvDACSjlAfgypXA2Wcr2z0R0X7lvZKHkCEhqI+tVz0K0R8wAMko5QFYUgL06gVU8FmqRGQRuS/nInRYKBriuV4lWRMDkIxSHoAAcPrpwOrVSkcgIoKmach5IQehw0PRkMj4I+tiAJJRlgjAp54CZs5UOgIR9XCapiF7XjZCR4aiMaVR9ThEB8UAtKZzReRXEakXkRoRCe3wtdNExCYijSJSJCIv7Of7/yMie0SkQUSCRWTiPl83Yxt7WSIAf/0VOOooQNOUjkFEPZSmach6Kgtho8LQmMb4I+tjAFrPuaJH3wwR6SsivUTk7PavBYpIsYgsEJE+IjJJRApF5JEO3/+kiOSLyCnt379I9MgLMHEbHVkiAFtbgYAAIClJ6RhE1ANpmobMuZkIGx2Gpowm1eMQdQoD0HrsIvLGAb52t4iUih6Fe80RkcwOv88RkYc7/P5PIlIuIneauI2OLBGAAPC3vwFvvql6CiLqSTRNQ8a/MhA+NhzNWc2qxyHqNAagtfQXEZeIvCYiO0WkUkSiReTG9q8vEZGN+3zPuSLiFv3MXpCIaCIydZ/3bBaRN03cRkeWCcB33gGuuEL1FETUU2huDekPpSPimAg05zL+yLcwAK1ltOjxVSIiZ4l+lu4GEWkTkXNE5BMRWb3P95wserwdJSJj2r//pH3es0ZEPm7/tRnb6MgyAbh7N9C3L9DET2CIyMM0t4bd9+1GxHERaMlvUT0OUZcxAK1l79m3Rfv8+SYReUV4BvCgNA0YNw7YuFH1JETkzzSXhrT/S0Pk+Ei0FDL+yDcxAK0nUw4cgHdJ967fKxORO9p/b2QbB7wGcPbs2Zg7dy7mzp2LTZs2KTugH3gAePRRZbsnIj+nuTSk/iMVO0/eidY9rarHIeqSTZs2/fZ39ezZsxmAFjNH9Lt0TxeRw0Rkuog0i8hk0c/Q7RGRl0Wkn+h38ObL7+/gfUJE8kR/bEt/EVko+l2+He8CNrqNjixzBhAA1q0DJkxQPQUR+SNN07D7n7v1+Cth/JFv4xlAa/q3iBSISJ2IxIjItA5fmyT6ncJNoofi8/v5/hdFv46wUfb/DD8ztrGXpQKwthb405+AggLVkxCRv8l5LgfhY8LRUsCPfcn3MQDJKEsFIACcfz7wySeqpyAif1L4TiFChoagMZUPeSb/wAAkoywXgP/5D3DLLaqnICJ/UbqqFPaBdtTttM6/54iMYgCSUZYLwMhI4IgjAJdL9SRE5OsqN1bCFmBD1eYq1aMQmYoBSEZZLgBdLmDIECAiQvUkROTLasNrYQ+0o2xNmepRiEzHACSjLBeAAHDrrcCLL6qegoh8VWNyI0KGhKBoWZHqUYg8ggFIRlkyAFesAM49V/UUROSLWvJaEDY6DDkv5KgehchjGIBklCUDsLBQfxxMdbXqSYjIl7SVtyHyxEikz0qHpmmqxyHyGAYgGWXJAASAiROBb79VPQUR+QpnvRMxk2OQ/PdkaC7GH/k3BiAZZdkAfOwx4L77VE9BRL7A3epG3GVxiL8iHu42t+pxiDyOAUhGWTYAN28Gxo4F+CkOER2M5tKQfHMyYqbEwNngVD0OkVcwAMkoywZgczPQrx+QkqJ6EiKyqo7r+7ZVtKkeh8hrGIBklGUDEABuuAGYP1/1FERkVTnPt6/vm8/1falnYQCSUZYOwO+/B449lh8DE9EfFb5biJAhXN+XeiYGIBll6QBsa9NXBQkJUT0JEVlJ6dft6/tGWvPfXUSexgAkoywdgAAwaxZw//2qpyAiq+D6vkQMQDLO8gEYEQEMGgS08BIfoh6vNkJf37d0danqUYiUYgCSUZYPQE0Dxo8H1q5VPQkRqdSYoq/vW7i0UPUoRMoxAMkoywcgALz0EnDttaqnICJVWvLb1/edz/V9iQAGIBnnEwGYkwP07g2Ul6uehIi8ra28DZEncX1foo4YgGSUTwQgAFx4IfDuu6qnICJvcjW6EHN2DJJv5fq+RB0xAMkonwnA5cuByZNVT0FE3qK5NCRdn4RdF++Cu5Xr+xJ1xAAko3wmAGtqgL59gdRU1ZMQkTdkPp6JyBMj4ahyqB6FyHIYgGSUzwQgANx6K/DMM6qnICJP2/PhHoQMDUFTZpPqUYgsiQFIRvlUAP70E3D00YCbnwYR+a2qzVWwBdhQY69RPQqRZTEAySifCkCHAxg+HNi+XfUkROQJDUkNsA+yo+TLEtWjEFkaA5CM8qkABIA5c4CZM1VPQURmayttQ/i4cOS8wGf9ER0KA5CM8rkAjIkBAgOBJl4aROQ3XE0uxEyJQcodKXzWH1EnMADJKJ8LQE0DJkwAvv5a9SREZAbNrSH55mTEnh8LV4tL9ThEPoEBSEb5XAACwCuvAFdfrXoKIjJD9tPZiDg+Am0VbapHIfIZDEAyyicDsKBAXxquhNeJE/m04hXFCDkiBE27eU0HUVcwAMkonwxAAPjLX4DFi1VPQUTdVb2tGrYAG6q3V6sehcjnMADJKJ8NwM8+A844Q/UURNQdjamNCBkcguLPilWPQuSTGIBklM8GYH090L8/kJioehIi6oq28jZEHBuB7HnZqkch8lkMQDLKZwMQAO64A3jySdVTEFFnuVpciD0vFsm3JENz83EvRN3FACSjfDoAN20CjjoKcPHJEUSWp7k1pNyWgthzYuFq5v/TEhnBACSjfDoAnU7gyCOBLVtUT0JEh5LzfA4ijolAWxkf90JkFAOQjPLpAASAxx8HZsxQPQURHUzJyhLYB9nRmNKoehQiv8AAJKN8PgDj44GAAKChQfUkRLQ/NcE1sAXYULWlSvUoRH6DAUhG+XwAAsBppwErV6qegoj21ZTehJAhIdjz8R7VoxD5FQYgGeUXAfjGG8Dll6uegog6clQ6EHlCJLKezFI9CpHfYQCSUX4RgHv2AIcfDhQWqp6EiADA3erGrgt3IemGJD7uhcgDGIBklF8EIABceSXw2muqpyAiTdOQOiMVMZNj4Gri416IPIEBSEb5TQB+9RUwcSKg8WQDkVK5L+Ui/OhwtBa3qh6FyG8xAMkovwnAxkZgwABg1y7VkxD1XOX/LYd9oB0NCbwtn8iTGIBklN8EIADcfTfw6KOqpyDqmRriG2APtKP8+3LVoxD5PQYgGeVXAbhtGzBihL5CCBF5T1t5G8LHhSP3pVzVoxD1CAxAMsqvAtDlAsaMATZsUD0JUcyE934AACAASURBVM/hbnNj10W7kHxLMjRehEvkFQxAMsqvAhAA/v1v4LbbVE9B1DNomobdD+xG9BnRcDXyjl8ib2EAklF+F4DJyUC/fkBtrepJiPxf0bIihA4PRUt+i+pRiHoUBiAZ5XcBCAB//jOwYoXqKYj8W/X2atgCbKgJqVE9ClGPwwAko/wyAN9+G7j4YtVTEPmv5uxmhAwNwZ7lXOOXSAUGIBnllwFYVgb07g3k5amehMj/OOudiJoUhYx/ZagehajHYgCSUX4ZgABwzTXAggWqpyDyL5pbQ9L1SYi7LA5up1v1OEQ9FgOQjPLbAPzmG+Ckk7g0HJGZcp7PQcRxEXBUOlSPQtSjMQDJKL8NwOZmICgI2LlT9SRE/qFsbRnsA+1oTG5UPQpRj8cAJKP8NgAB4L77gIcfVj0Fke+r31UPe6AdFT9WqB6FiMAAJOP8OgBtNmDoUKCtTfUkRL6rrbQN4UeHI28R76oisgoGIBnl1wHodgPHHAOsX696EiLf5G5zI/b8WKTclsJl3ogshAFIRvl1AALAc88BN92kegoi36NpGnbftxvRZ0XD1cRl3oishAFIRvl9AKanA337AtXVqich8i2FSwsROjIULQVc5o3IahiAZJTfByAATJ0KfPih6imIfEf1Nn2Zt9pwLqpNZEUMQDKqRwTgsmXAeeepnoLINzRnNSNkSAiKPy1WPQoRHQADkIzqEQFYWQn06QNkZamehMjanHVO7DxlJzIfzVQ9ChEdBAOQjOoRAQgA118PvPDCgb+uaRqaHc0oayxDVlUW4kriYM+zY0PGBqxJWoPlscuxJHwJXgp+CU9ueRIP/vQg5m6ai9yaXG/9IxB5lObWkHhtIuKviOcyb0QWxwAko3pMAK5cW42g22bh+tXX47KVl2HK8imY8N4EjFkyBoNeGYQ//edPkBcF8qKg90u9MeS1IRj71lhMXDYR53xyDq744grc+M2NuPv7u/HwhofxzLZncMe6O9BvQT/865d/obShVPU/IpEh2fOyEXlCJBzVXOaNyOoYgGRUjwjAkoYSTFp2KvrMvBoPrHgHn+76FGuT12Jj5kaE5ocioTQBOdU5qGiqQKuztUvbTipLwnWrr8OAhQPw3K/PobaFF82T7ylbUwZ7kB2NqVzmjcgXMADJKL8PwLyaPJzw7gmY8d0MvPKaA1OnAp54nm1EYQQu+fwSDHltCN4IewPNjmbzd0LkAfWx9bANsKHy50rVoxBRJzEAySi/DsC0ijSMWTIGszfMhltzo74eGDIE2LbNM/vTNA2bszbjrI/OwujFo/FxzMdwup2e2RmRCdrK9WXe8l/NVz0KEXUBA9DavhcRTUT+0uHPLhGRWBFpEpFsEXlwn+/pIyLLRKRCROpE5EcRGbPPe8zYxl5+G4C7indh+OvD8eyvz/5uCauXXgIuucSz+3ZrbqxNXosTl56I8e+OxzfJ38Ct8aJ6sha30424S+OQfEsyl3kj8jEMQOu6S0Q2i4hb/heA40SkUfRgO1xELhKRWhG5rsP3LROReNGDLVBEVorIrg5fH2vCNjryywAMyQ/BoFcG4fXQ1//wtZoaICgICAnx/BxOtxPLY5dj9OLROPPDM7ExcyP/oiXLyHwsE1GTouBs4FlqIl/DALSmMSKS1/5/O54BnC/6mbuOlojI1vZf9xX9rN60Dl8fKiIOETnfxG105HcBuClzEwIXBeKjmI8O+J5584CrrvLeTM2OZrwZ9iaGvDYEF392McILwr23c6L9KP26FCGDQ9CU2aR6FCLqBgagNW0WkXvbf90xAL8TkQ/2ee/tIlLZ/uvTRT9jOHKf96SLyMMmbqMjvwrAb1O+RcDCAKxOWn3Q91VUAAMGAFFRXhqsXW1LLZ7f/jwCFwVi+urpSCpL8u4ARAAa4htgD7Tzpg8iH8YAtJ5ZogfgXpqIXNr+620i8so+779a9LNzIiIXiB5vffd5T6SIzDNxGx35TQCu2LUCAxYOwM/pP3fq/Y8/Dlx3nYeHOoCyxjLM+WUO+i3ohxnfzUB2dbaaQajHcVQ5EHFsBHJfylU9ChEZwAC0luNEpFhEju7wZ105A3iaGD8D2JltdBQkIpg9ezbmzp2LuXPnYtOmTaqP6y57K+ItBL0ShODc4E5/T3Ex0K8fkJDgwcEOIbcmF3d/fzf6LeiH2Rtmo6ShRN0w5Pc0l4b4q+KROD0RmpvXohL5mk2bNv32d/Xs2bMZgBZyt4i0iki56HfgVogegDUi8qGIPC9dv35vmIi0ich57b+fLyIx3dyG310DqGkaXtzxIoa+NhRRRV3/PHf2bODvf/fAYF2UUp6C69dcj6GvDcW2bA89o4Z6vOx52Yg8MRLOWt70QeTreAbQWvqJyFH7vDQRuUVEBsv/7uD9p4j0FpELRY/Djnfwvif6HbtHi8hA0e/g7RiNZmyjI58NQLfmxqMbH8WoN0chuSy5W9vIzwf69gV27zZ5uG76dNenCFgYgCXhS3i3MJmqfF057AO50geRv2AAWl/Hx8CI6I9t2SX6Wboc0UOuoz4islT0j3TrReQnERm9z3vM2MZePhmATrcTM3+YiWPfPtbw9XP33gvcdZdJg5kgsjASRy0+Cneuu5OriZApGlMaYR9oR/m6ctWjEJFJGIBklM8FYKuzFTd9cxNOWXYK9tTvMby9zEz9LGC2he7DKGkowfkrzsdZH52F/Fqu0EDd56x1IvLESGTPs9ABTkSGMQDJKJ8KwMa2Rlz15VWY/PFkVDaZ9wiLGTOABx4wbXOmaHO14cGfHsSw14dhR+4O1eOQD9LcGhKnJyL+qnhoLl5SQORPGIBklM8EYE1LDc5fcT4u/uxi1LWaO29Kin4WsLDQ1M2aYnnscgQsDMA7ke/wukDqktyXchFxXAQcVQ7VoxCRyRiAZJRPBGBZYxnO+PAMXLPqGo9dF3fzzcCcOR7ZtGERhREY9eYo3P393Whxtqgeh3xA5c+VsAfa0ZDQoHoUIvIABiAZZfkALKgtwElLT8Jt/70NDpfnzmTExQH9+wOlpR7bhSHF9cU495NzMfnjySioLVA9DllYU0YT7IPsKF1t0YOZiAxjAJJRlg7AjMoMjH1rLP750z/hcrs8vr9p04CnnvL4brqt1dmKB358ACPeGAFbnk31OGRBzgYndk7ciczHMlWPQkQexAAkoywbgE63E8e8fQye2PyE1659i4gAAgOBSosvkfph9IcIWBiApTuX8rpA+o2maUi+JRlxl8bB7XSrHoeIPIgBSEZZNgD/m/JfHPP2MV4589fR5ZcDzz/v1V12S2h+KI5880jM/GEmrwskAED+a/kIPzocbeVtqkchIg9jAJJRlg3ASz6/BK+Fvub1/dpswKBBQG2t13fdZUV1RZi6fCqmLJ+CwjoL3sJMXlO1pQq2ABvqY+pVj0JEXsAAJKMsGYDJZcnot6Cfqc/664oLLwQWLlSy6y5rdbbinh/uwcg3RiIkP0T1OKRAc24zQoaEoPizYtWjEJGXMADJKEsG4EM/P4T/++H/lO1/82Zg6FCg0UeWTdU0DcuiliFgYQA+iP6A1wX2IK4mF6LPiEb6rHTVoxCRFzEAySjLBWBtSy0GLByAmD0xymbQNODss4HFi5WN0C32PDtGvDEC962/D63OVtXjkIdpmobUGamIPT8W7jbe9EHUkzAAySjLBeC7ke9i6vKpqsfA+vXAkUcCLT52f0VBbQEmfzwZ53xyjilrJZN1Fb5TiLBRYWgtYewT9TQMQDLKUgGoaRpOWnoSvkz4UvUo0DTgtNOA995TPUnXtThbcPf3d+OoxUcpPZNKnlMTXANbgA214T5wtxIRmY4BSEZZKgC3Zm/F8NeHW+bjy7VrgaOPBtp88Kkamqbh9dDXMWDhAHyb8q3qcchELYUtCB0RiqIPilSPQkSKMADJKEsF4PVrrse8bfNUj/Eblws4+WTgk09UT9J963evx8BFA7HAtoA3h/gBV4sLMWfHIO3eNP48iXowBiAZZZkAzK/NR5+X+yC/Nl/1KL/zxRfA8ccDTqfqSbovviQeRy85Gneuu5MPjfZhmqYh9a5UxJ4TC3crb/og6skYgGSUZQLwmW3P4IY1N6ge4w+cTuDYY4GvvlI9iTElDSU455NzcO4n56K0oVT1ONQNBW8V6Dd97LHGJRJEpA4DkIyyRAC2OFsw7PVh2Ja9TekcB/Lxx8CECYDbx0+6tDhbcPt/b8fYt8YioTRB9TjUBdXbqmELsKEuUv1/rBGRegxAMsoSAfhF/Bc4+b2TLXtNU2srMGYM8N//qp7EOE3T8LLtZQxcNBA/7v5R9TjUCc3Z7St9fMqVPohIxwAkoywRgFOWT8HSnUuVznAo774LnHGG/ngYf7A2eS0GLByAN8LesGx4E+BscCLq1Chk/CtD9ShEZCEMQDJKeQBGFUUhcFEg6lqt/dFWczMwciTw00+qJzFP9J5ojHpzFO754R60uXzwWTd+TtM0JN+cjLhL4+B2+Pj1B0RkKgYgGaU8AO/+/m7M+nmWsv13xRtvAFOn+s9ZQAAoqivCWR+dhYs+uwgVTRWqx6EO8hbkIXxcONoqGOdE9HsMQDJKaQBWNFWg34J+SClPUbL/rmpoAIYMAbZuVT2JuRrbGnHjNzfiuHeOQ2p5qupxCEDFTxWwB9pRH1evehQisiAGIBmlNABfDXkVl35+qZJ9d9fLLwMXX6x6CvO5NTfmbZuHQa8MwqbMTarH6dEa0xphD7KjbE2Z6lGIyKIYgGSUsgB0uV0Y99Y4rEtd5/V9G1FTAwQFAXa76kk848uELxGwMMDyN+X4K0eNA5EnRiL76WzVoxCRhTEAyShlAbh+93qMWTIGTrfvLbHx7LPAVVepnsJzwgvCMeKNEZj18yw4XA7V4/QYmktDwt8SkPDXBGguP7rQlIhMxwAko5QF4JVfXokFtgVe368ZKiqAAQOAnTtVT+I5eTV5mPT+JFz+xeWobq5WPU6PkP1MNiJPjISjhtFNRAfHACSjlARgemU6+r7c16eXJHviCeDaa1VP4Vn1rfWY9vU0nLT0JGRU8jl0nlT2TRnsQXY0pjaqHoWIfAADkIxSEoCPbHwEd6y7w6v7NFtpKTB4sH89F3B/XC4nXlkxE09dF4D8WXcCjz8OzJkDPPggcM89wD/+Afz978CNNwLTpgFXXglceilw/vnAlCn607NPOQUYPx4YNw446ihg2DD9f7ypU4HHHgPWrdP/B+2hGuIbYA+0o2I9H8NDRJ3DACSjvB6ADW0NCHolCOEF4V7bp6d8+qneMzU1qicxWV0d8P33euQdcwzQpw8Kp0zAx1MOR/qdV+unP595BnjhBWDhQuD114G33waWLQOWLwdWrgS+/lpfO+/HH4GNG4Fff9XvnImMBHbtAuLigC+/1PcxaRJw2GHA8ccDd90FfPQRkJzs+4svd0JbRRvCx4Uj96Vc1aMQkQ9hAJJRXg/AD6M/xJkfnukXy49pmn4zyL33qp7EILcbiI3VY+6ii4DDDwdOOkk/0/fLL0BTEwBgQ8YGBC4KxOLwxebPUFOj7+vZZ4FLLgH69weOOAL429/0uYKDf5vDX7gdbsRdGoekG5OguX3//x+IyHsYgGSUVwNQ0zRMen8SVuxa4ZX9eUN+PjBwILBli+pJuqisTD8Dd+edwPDh+rNtbrgB+PBDIDf3gN8WVRSF4a8Px6MbH4Vb8+AZOocDiIoC3noLuPlmYNQoPUynTAHmztXPLpaUeG7/XpDxSAaiJkXB2eB7d8ITkVoMQDLKqwFoy7PhiFePQJPDv87kfPCBfnlbvZUXbWhr08+iPfMMcOaZQK9ewJ//rJ9xs9v14OqkrKosjH93PG5eezNanC0eHLoDTQNycv73sfGpp+ofGx93nH4d4scfA+Xl3pnFBCWflyDkiBA0ZzWrHoWIfBADkIzyagDesvYWPLH5Ca/sy5vcbv1Ty1lWW9I4Oxt4/33guuuAwEBg5Eg9llatMhxL5Y3lmLp8Ki789EJUNVeZNHAX1dTo1xc+9xxw3nlA7976P+t33+nBa1F1O+tgC7Chaqui/92IyOcxAMkorwVgUV0R+rzcB9nV/rnCQVaW/mzA4GDVkwDIy9Pvxu3dWy/TV17Rb7ow+aaKJkcTpq+ejgnvTUBeTZ6p2+6W7Gz9xpRjjwWGDgUefhiIidHPHlpEa3Erwo4KQ8HiAtWjEJEPYwCSUV4LwPnb5+OaVdd4fD8qvf22fiOrsnsVNE2/hm/gQOD++4Fqzz/A2el24sGfHsSoN0chriTO4/vrFLcbsNmAmTP1M58TJ+p3KhcXqx2r1Y3Yc2OROiPVL26CIiJ1GIBklFcCsM3VhiPfPBK/ZPzi0f2o5nLpn0TOnatg5zk5wF/+Aowd6/U7UjRNwyL7IgS9EoQtWRa7G6axUb9u8PLL9TOiV18NrF4NNHv32jtN07D7vt2ImRwDV7PLq/smIv/DACSjvBKAq5NW4/h3jvfsXaMWkZYGBAQA4d56zKHbrT9/LzBQvzlCwbJ+e30R/wUCFgbgi/gvlM1wUAUFwKJFwIknAoMGAQ88AISFeeUj4qJlRQgdEYqWAi/dNENEfo0BSEZ5JQAv+PQCzzw7zqJefRU4+WSgxdN/12dn69f4jRsHbNvm4Z11zpasLQh6JQiL7Ius+zGnpgEREXowDx6sr1KyYIH+TB8PqAmugS3AhpoQf3tiOBGpwgAkozwegPEl8ei/oD+qmz1/PZpVOJ3A5MnA0097aAduN7B0qX7Wb9Ysyz1/Jq4kDqPeHIWHfn4ILrfFP+5saQHWrtUfON27t/4x+sqV+kfHJmjObkbI0BDs+XiPKdsjIgIYgGScxwPw/h/vx33r7/PY9q0qMVFfzCI62uQNZ2Xpq3UceyywfbvJGzdPXk0eJrw3AdNXT/ed5z6WlABvvqk/Y3DgQODJJ4E93Q83Z50TO0/ZiYxHMkwckoiIAUjGeTQAq5ur0X9Bf+vcHepl//mP3hKmPJLO7dZvMx4wQH+8SUODCRv1rKrmKlz46YU455NzUNFUoXqcztM0/SLO664D+vXT76jO6FrEaS4NCX9LQPxV8XA7/f/aVyLyLgYgGeXRAFwSvgTnrzjfI9v2BQ4HcPrpwIsvGtxQRgZwwQX6qheWeNBg57U4W3Dz2psx/t3xyKrKUj1O16WkAP/3f0DfvvqSdJ08pZv1RBYiT4qEo6bzK6wQEXUWA5CM8lgAujU3jn/neKxOWm36tn1JbKz+UXBCQje+2eUClizRz/o98ohp16V5m1tz45GNj2DEGyMQVRSlepzuKSgAHn1U/1lcdhmwdesB7x4u/qwYIUeEoCnDRz76JiKfwwAkozwWgBszN2LkGyPR5rLuklzeMm8ecNZZ+s0hnbZ7t/5QwRNO0Nfq9QOLwxcjcFEgNmRsUD1K91VW6p/tDx2q/1DXrtVDvV1NiH7Hb/W2nnPTExF5HwOQjPJYAF6z6hrM3z7f9O36opYWYMIEfUW2Q3K59BsRAgL0J0orW1bEM9YkrUHAwgB8EvuJ6lGMaWwE3n1Xf/D2CScAH32E5t01CB0eiqJlRaqnIyI/xwAkozwSgNnV2ejzch8U1fEvwr0iI/WPglNTD/KmtDTgnHP0BxWHhXltNm8Lzg3G4FcH4+mtT/v+w8EdDuDLL+Gc8GdEHb4S6eesAWprVU9FRH6OAUhGeSQAn9j8BG5Ze4up2/QHjz+u951rf4/GW71aP+v3+ONeX6ZMhbSKNIx/dzyu/fpa1LWqW73EDJpbQ+L0RMSdvg3u8y4CgoKAf/9bf6wMEZEHMADJKNMDsMnRhCNePQLBub51t6o3NDXpnxYuWbLPF777To+/jRuVzKVKdXM1rvjiCkxcNhHZ1dmqx+m27KezEXlCJBxV7Xf8hoYC116rP0LmgQfQlpGB/JYW5DQ3I7OpCbubmpDS2IjEhgbE1dcjtr4eUXV1iKitRWhtLWw1NdheXY1t1dXYXFWFXyor8VNFBX6oqMB35eX4tqwMm6qqkNXcDKfbx8+gElG3MADJKNMDcMWuFZj0/iTrLgOmmM2m30iamdn+Bxs36vH3ww9K51LF6XbikY2PYMhrQ7A9x7oPtj6Qki9LYB9kR2NaIxxuN1IaG7G2rAwv5OTglrAwnPLddzh861bIjh34044d6B0cjH42GwbYbAiy23FESAiGhYZiRGgoRoWFYUx4OMaFh+O4iAiMj4zESZGROGXnTpwaFYUzoqPx5+hoTImJwYmRkegdHIzDg4MxPjISf0tIwJyMDLxbWIiNlZXIbGpiHBL5MQYgGWVqAGqahjM/PBMfRH9gyvb81cMP64t5uLcH6zW4umc/KgcAPon9BAELA/B+1PuqRzkkp9uNtMZG/PBLHrb1D8bjH+3CxJ070Ts4GP1tNpwVHY1/pKbi1fx8/FhRgezMTLhnzdLPCN5yC5CUZNocOc3N2FxVhWVFRXg0MxPTEhNxUoc4PCEyEn9NSMC/2uPwl/Y4dDAOiXwaA5CMMjUAwwvCEfRKEBrarL9KhUoNDcD1R0agrd9AYMUK1eNYRkh+CIa/PhwP/vQgHC71D1B2ut3Y3dSEdeXleCk3F39PTsakqCj0Dg7GmG+DsX5IMBY9HY1FeXlYX1GBrOZmuA525ruwEJg92/QQ3B+XpiGnuRlb2uNwbmYmrk1MxMk7d6JPcDD+tGMHjo+IwNUJCXg4IwPL9+xBamMj3DxzT+QTGIBklKkBePf3d2POL3NM2ZZfi4uDI3AwHuuzFLm5qoexlryaPJz+wem45PNLvL58nKZpiKqrw9PZ2TgjOhp9goPRNzgYp0dF4Y6UFCzMy8MPFRVIL69H1BnR2H3/7u5d6lBYqJ8G7tdPX10kMdH8f5iDcGkacpubsbWqCu+3x+FFu3ahn82GISEhuCYhAQvz8hBcU4Om/d6xRESqMQDJKFMDcNxb47Ate5sp2/JbKSnAsGHAq6/i/vuBK6444IISPVZjWyNu+uYmHPv2sUgq89xZMkCPIXtNDR7NzMTY8HAE2e24MyUF35SVIaOp6Q9n9DS3hqSbkrDr4l1wtxn8GLVjCN50UzeXizFPm9uNnXV1eKugADcnJ2NUWBgODw7G2TExeCQjA2vLylDU2qp0RiLSMQDJKNMCsLyxHPKioKalxoRD209lZQGjRgHPPw9Af1zc6NHAJz7+TGRPcGtuvLjjRQxcNBDrd683ddsOtxtbqqrwYHo6RoaGYmhICO5NS8MvlZVoPcS1cTnP5yDi2Ai0VZi4wk1REfCvf+kheOONQHy8eds2QGs/U7iqtBSz0tNxRnQ0eu3YgXHh4bg9JQXvFRVhV309bzYhUoABSEaZFoAbMjZg/LvjTTis/VR+PjBunL66R4ezSj//DAwapDcA/dG3Kd8icFEgFtkXGbqzvMXlwo8VFfi/tDQMCQnBqLAwzE5Px/bq6k4HTOnqUtiD7GhM9tCazBYNwY7qnE5srarCi7m5uDI+HgPtdgTa7bgsLg7zc3KwqaoKtV1a85CIuoMBSEaZFoAv7ngRd6y7w4TD2g+VlADjxwP//Od+P+/9xz+AadP4UfCBxJXE4eglR+P2/96OZkfnH5Ld6HLh27Iy3JaSgoF2O46JiMDjmZkIq63t8s0OdVF1sA2wofLnyq6O33V79gBz5ugheMMNQFyc5/fZTS5NQ0JDA94vKsKM1FQcFxGBXjt24NzYWLySl4eUxkY+EorIAxiAZJRpATjt62l4K+ItEw5rP1NRAUycqFfeAc40VVUBI0cCX37p5dl8SGlDKc5bcR4mfzz5oEsM1jgc+LKkBNcnJaGfzYaTd+7Es9nZiK2v73aItBa1ImxUGAreLOju+N2zZw/wyCP6GoLXX2/pEOxoT2srlu/Zg2sTE9HPZsMJkZF4LDMTwTU1/LiYyCQMQDLKlADUNA0j3xiJ0PxQkw5tP1FbC5x1ln6B/yE+Flu/Hhg4ENi1y0uz+aBWZyvu+eEejHpzFHYW7fzfn7vd+LS4GFcnJKB3cDDOiI7Gy7m5SGk0/lGtq8mFmMkxSJuZpu5M1r4h6EMHSZPLhfUVFbg3LQ0jQkNxREgIZqSmYm1ZGer4UTFRtzEAyShTArCgtgC9/tMLTY4mkw5tP9DQAJx3HvC3vwFtnbth4NVX9XtE8vM9PJsP0zQNb0W8hQELB+Cz+C/xSXExxoaH45SdO/F6fj6yTFxHWdM0JP89GbHnx8LdaoEzV8XFwKOP6iF43XXK7xruKremIaK2Fs9kZ+OU9gdnXxkfj/eKipDf0qJ6PCKfwgAko0wJwHWp63Dq+6eadFj7geZm4C9/AS69VP91J2mafpngpEn6yUPaP5em4d8JW9Fr4yocsf1nfFVSfPAHMHdT7ku5CB8XjrYyE+/4NUNx8f+uEbz1ViA1VfVE3ZLZ1IQlBQW4JC4Oh7efuX0hJ8fQx/VEPQUDkIwyJQCf3vo07vnhHpMOax/X1gZccw1w7rn6WcAucjr1k4aXXdbpE4c9hqZpWFdejok7d2JceDgWZcThxKUTcM2qa1DXat561gBQ/t9y2Afa0ZBg4VVtCgr0/2Lo2xeYMaPDAtO+p8rhwFelpbg1ORkD7XaMDgvDQ+np2NiJR/MQ9UQMQDLKlAC8/IvLuf4voNfbzTfr1/3VdP95iA0N+ibuuot3BgN6+G2orMRZ0dEYFRaGZUVFaGuPgpqWGlz91dWY8N4EpJSnmLK/uug62APtqPjBuyuRdFtODjBzph6C99wDX19epq39OY0PZ2RgbHg4Au12/CM1FVuqqjxyppfIFzEAySjDAahpGga/Ohgxe2JMPLR9kNut3+l7yin6nb8GFRcDY8cCL7xgfDRftr26GufFxmJYaCgWFxSgeT9Lk7ncLszbNg8DFg7AB9EfGPr4sDm7GaEjQr1/x68ZMjKAO+/UQ/Chh/zi4ZKapiG2vh5zMzMx3CtlHgAAIABJREFUMjQUR4WF4YmsLCR04+w6kT9hAJJRhgMwozIDfV7ugzZXD/68UtOABx8ETjhBLzeTJCcDgwcDn35q2iZ9RnhtLf4SF4dBdjsW5OWhvhN3jG7P2Y7Ri0fj+jXXo7Kp68/rc1Q6EHliJDLmZPj2NWgpKcAtt+jXCD7yiP4cSj/gdLuxsbISd6SkoL/NhtOiovBGfj72cHk66oEYgGSU4QBclbgKZ398tomHtY/RNOCxx/TTdR64fXf7diAgANi61fRNW9Ku+npck5CAQLsdz+XkoNrh6NL3VzZV4vo11+OoxUfh15xfO/19rmYXYs+LRdINSdBcPhx/HcXFAdOn6wfQk0+acmbaKuqdTnxeUoLL2m8guSI+Hl+UlKCBj5ahHoIBSEYZDsBHNz6KWT/PMvGw9jHz5+vPbvHgBfhffAEEBfncUz+6JKWxETclJaG/zYbHMzNRbuAOGE3T8GH0hxiwcACe3vo0HK6DR6Tm0pB0UxJiz42Fq/mPHzH7vKgo4OqrgcBA4Nlngepq1ROZqrClBa/l52NSVBQG2GyYkZqKzbxekPwcA9BaXhGRRBGpE5E9IvK1iIzZ5z1Hi8hPIlIvIuUislREDt/nPbNFJFdEGkUkRkQu9MA29jIcgBd8egE+i/vMvKPal7z2GjB0qP6Rm4e9/DIwerRfXNb1O5lNTZiRmop+Nhtmp6eb+nFeSnkKTvvgNJz98dnIrDpwoGc+monI8ZFoq/DzyxhCQ/XHEw0aBLz0EmDCCkBWomka4urr8VhmJo4MC8OosDA8npmJeF4vSH6IAWgtC0XkTNFjLEhEVolIXIevHyZ6IH4mIgNED7kEEXmrw3tuEZEaEbmgfTuzRKRBREabuI2ODAWg0+1EwMIAJJclm3xo+4A1a/S/SGNjvbI7TQPuvRc4/XT/+Hs7v6UF9+3ejb7BwbgnLQ25Jj7AuaMWZwse2fgIBi4aiJXxK/9wbV/BkgKEDg9Fc5Zn9m9J27cD558PDBmiP33chBVTrMbpdmNTVRXuTElBgM2GU6Oi8Hp+Pop4vSD5CQagtZ0uIm4RGdT++4tFpE1Ejujwnumix1nv9t9vF5HF+2xnl4g8a+I2OjIUgImliRiwcABcbj/82Oxg0tP1ddvWr/fqbh0O4Morgauu0n/ti9yahrcLCzHAZsPtKSlIb/LO6jEbMjZg+OvDcce6O1Dboj9lu2xtGeyBdtRF+UFRd5WmAZs2AWefDYwYASxeDHjpZ+FtDU4nVv5/e/cd3lTZhgH8ZdMWCsiS7UCRpShDtqKMT3GhgCJDQRRlKQiigIBAAdkbZG+UsimrjCZp05FuuvdI9z7dTZNzf3+8BSuzNOMk7fO7rlzfRxvaV3KS3HnH8yQnY6ifH2rLZHjX1xd7ExORYalPIkJAAdDc/cIYiy7359mMsZD77tOKMSYyxrqV/TmLMfb5fff5izF22oA/ozy9AuB+n/0YdGCQgS9rM1dYyKfh5s6V5NcLAvDqq3w20NK2OIUVFGCAtzdedHODXI86iZWVnJeM4UeH47nNz8HltAvk1nKkX6o6ByMqRRSBixd54cmWLat0EASAhOJirI+Px5teXqgtk2GEnx/2JSUhk8IgsTAUAM3XUMZn5YaV+9pixpjbfferz3h461/2Zy1jbMR991nDGHM04M8oT68A+P2l7zH3mjRBSDLTpgFvvilpmw61mu8HXLlSsiE8Fa0oYl1cHKzlcvwUEYGCh9TyMxWdqMP2E9tx0eoi9v68t/rNXj9K+SBYxWcE74opLMS6uDj09vJCHZkM//P3x4GkpKc+eU6IFCgAmqcPGN+D99F9X3/c7F3Xsj/rMwNY0Z9Rni1jDDNmzMCcOXMwZ84cXLt2rcIXYK89vXAy4KQRL3Ezc+IE0KQJEBsr9Ujg789PBh89KvVIHi84Px9vennhZXd3uJhBg+Pi5GK4dnCF6yxXdNrWCYMODEJcjuHL91gsUQQuXQJ69uRBcP36KrlH8H7RhYX4My4OPT09UUcmw/v+/jiUnIxsCoPEjFy7du3ee/WMGTMoAJqZ8YyHv6EP+d5gxlgxe/j+vbplf77NGFt/39/zZv/u3zPEzyiv0jOAxaXFqLO8DiIzI41wmZuh0FC+7+/iRalHco+jIy/xdvu21CN5UKlOh9WxsbCWyzEvMvKhHTxMPqa8Uni+4YngCcEQRRH5JfmYemEqmqxpAvsge6mHZ16qaRAEgKjCQqyJi8Mbnp6oK5Phgzt3cCQ5GTlUY5CYEZoBNC8zGQ9/Ax7x/RqMMT/G2AHGWAPGWHvGTwmXP8E7mvEZvIGMH+r4gfFyL20M+DPKq3QAVCWo0GRNE8vumFBRhYV84928eVKP5AEHDvBuIYFmdBA7IC8Pvby80NnDA+5mcmRZV6qD/3v+8H3HF7oS3X++Zx9kj8ZrGmPqhanIL6keIafCRBFwcAB69QKaNwfWras2QRDgZYpWxcaiR1kY/PDOHRxNToZAYZBIjAKgeREZP6GbW3bLK/vf8oGwHWPMoex76YyxLezf07t3TWeMxTLGChiv4Tfwvu8b4mfcVekAuEO1A8OODDPCZW2Gvv0W6NvXbI/eLlnCG5EYsAtdpWh0OiyPiYGVXI7foqJQZAazfgCvDxc6NRSq7iqU5jz8jTsuJw6DDgxCp22d4JPkY+IRWoBqHgQBILygAHaxsXhNpUI9mQwf37mD4ykpFWpTSIihUQAk+qp0AJx8fjIW3lxohMvazBw7xuulGaHNm6GIIjBpEt+/L1XNW9/cXPTw9EQ3lQqeZjLrd1fMihgo2yhRpC567P20Oi2Wy5bDaqUV1ivXQyfqHnv/akkUgcuXefmYahoEASC0oAArYmLQXaWClVyOL4OCqPsIMSkKgERflQ6A3XZ2w7mQc0a4rM1ISAhvn3XpktQjeaKSEt7kYeRIwJQTEiU6HZZER8NKLsfv0dEo1plXaEo+lAyFrQJ5/hVPxsp4JV7Y8gIG7B+A0PRQI47Ogt0fBNeurZZBEOBbHuZFRuJZpRJtlEr8GhWFkGr6b0FMhwIg0VelAmB+ST5q/lETCUIV60tWXkEB0K0bMH++1COpsOxsoGtX4PvvTVMj0Cs3F91VKrymUsEnN9f4v/ApZTpmQm4tR9bNp+99m1+SjznX5sDazhprnNegVEfLfA8lisCVK0CfPtU+CJbqdLickYGxgYGoJ5Ohj5cXdiYkUFkZYhQUAIm+KhUAFbEKtFrfykiXtZmYOhXo399s9/09Slwc0KoVb1NsLMU6HX6LioKVXI4/YmKgMbNZPwDI88uDwlaB5CPJev0c13hXvLL9FfT8qyf8U/wNNLoqqHwQbNYMsLPjn0iqqSyNBrsTE9HX2xv1ZDKMDgyEQ0YGSs3wuUIsEwVAoq9KBcANrhvw4YkPjXRZm4GjR4GmTYH4eKlHUik+PrxizZEjhv/ZHoKALh4eeMPTE3ek2nD4BEVxRVC2ViLWzjD1GotKi7Dw5kJYrbTCUqelKNFKVwTc7IkicPUqMHgwvwh/+UX600kSCy0owMKoKLR1dUVLFxfMjYiAv5k+d4jloABI9FWpADju9Dgsly030mUtseBgvu/v8mWpR6IXR0f+n7FunWGWgwu1WsyPjISVXA672FiznPUDAE22Bh5dPRD6XajBSxR5J3njtV2vodvOblAlqAz6s6skpRL48EOgfn3gu++AiAipRyQprSjiRmYmJgQHw0oux+uentisViNNwq5CxHJRACT6qlQA7Li1I65GXDXSZS2hu/v+FiyQeiQG4eXF27vOnAnoU5ElsrAQ3VUq9PHyQqAZ7+/SFevg+7Yv/Ef6Q1dqnICq0WqwQr4CViutMN9xPgo1hUb5PVVKQAAwcSJQrx7w+ed8irqaE0pLsT8pCYN9fFCnrKTM2bQ0lJjpBytifigAEn09dQDMKswCW8aQXpBuxEtbIlOmAAMGWNy+v8eJiQFeeQX4+OPKtXa9npmJJs7O+Ckiwqz3L4k6EUHjguDVywvafOPXHwxMDUSfvX3w0taX4BznbPTfVyXExPBPI1ZWwP/+B8hkpjmtZOaiCguxNDoaz7u5oamzM2aGh8MtJ6d6FNknlUYBkOjrqQOgY6Qjnt/8vBEva4kcPsz3/anVUo/E4DIzgUGDgDffBNLSKvZ3RFHEurg42MjlOJKs30EKU4hcEAm3591QkmK65TStTov1yvWwtrPGzMszkVdC+7oqJDUVWLSIt7Dp2xc4fx4w4w8XpqITRcizszE1NBSNFAq86OaGJdHRCKvMJzdS5VEAJPp66gBop7DDmFNjjHhZS+Duvr8rV6QeidEUFQFjxwIvvgiEhz/+vgVaLcYFBaGtq6vZFXV+mJgVMXBp5oKCUGneKMMzwjH44GA8t/k53Ii6IckYLJIg8E2qrVoBXbrwD2FVaPZdH0VaLc6kpWFUQADqymTo7eWFLWo1Umi/IClDAZDo66kD4Ki/R2Gty1ojXtYmlp/Pi+f99pvUIzE6nY6XNWzaFHB1ffh9YgoL0cPTE4N8fCzizSZ2VSycmzoj7460s286UYcdqh1ouKohpl6YipyiHEnHY1GKi4E9e4COHXlPwy1bKrdfoYrK0miwJzERb/n4oLZMhv/5++NocjLyqAVdtUYBkOjrqQNg241t4RTjZLyr2tQmTwYGDjRt+wyJbd8O2NgAZ8/+9+u3srLQ1NkZM8LCLGIzetyfcXB+xhl5fuaz9BqbHYvhR4ej9YbWuBRm/h1kzIpWC5w6Bbz+Oq8luHw5379A7okrKsKauDh0U6lgXdaC7nJGhtmeyifGQwGQ6OupAmByXjJqLKuB3GLz6/pQKYcO8TeahCrc0eQRzp/nIXDLFr7fb1N8PKzlcuyzkJptcevi4NzEGbk+5nctiqKIAz4H0HhNY4w/M75qHpgyJlEErl8HhgzhF+ncuUB0tNSjMjv+eXmYHxmJNkolmru4YGZ4ONwFgQ6PVBMUAIm+nioAXgy9iM7bOxv5sjaRoCC+7+/aNalHIhl3d6BZay26HAlGK6USbjmWsWwZvzGehz9v8wt/5SXmJuLjkx+j+drmOHHnBL0xV4a7O/DZZ0CdOrzR9eXL+tU0qoJ0oginrCx8ExIC27LDI0ujoxFOy+hVGgVAoq+nCoC/3/4dE89ONPJlbQL5+XzT+cKFUo9EUvFFReju4oX6e70xclIxioqkHtGTqTer4dzYGYKn+R9OAfhs4MmAk2i9oTV67emFm1E3pR6SZVKrgSVL+IGR55/nvQ7TaWb1fkVaLU6npeGTcodHNsXHI6G4WOqhEQOjAEj09VQB8L1j72Gr+1YjX9Ym8NVXvFVVNdr3dz9FdjZauLjg29BQJKTq0K8fL4GYkSH1yB5NvVUNRSMFBJVlhL/yCjQFWO28Go1WN8Lwo8Phk0TFkCtFowHs7fnycL16wIQJ/EQTza4+IFOjwV+JiRji64vaMhkG+/hgZ0ICUi3gcBd5MgqARF8VDoCiKKLZ2mZwU7uZ4NI2ooMHgebNgcREqUciCVEUsSMhAdZyOXaX+zcoLARGjQI6dQKioiQc4CMk7EiAwlYBwd3ywl95mYWZmO84H1YrrfDF6S8QmRkp9ZAsV1AQMGsWYGsL9OjBTxKbcacaKSUVF2OrWo0B3t6oLZNhmJ8f9iUlIZPK7lgsCoBEXxUOgDHZMai9vDaKSi1gnfBRAgP5pvLr16UeiSSKdTp8ExKCli4ucM7OfuD7Wi3w449AixaAyoxa3Sbs4uEvx9Uy9ihWhFpQ45sL36D+yvqY7jAdyXnmX2zbbOXl8fD32ms8DM6axWt7koeKKyrC+vh49PLyQh2ZDCPLysoI1XhFxBJRACT6qnAAPBV4Cq/vft0El7WRFBQAnTsDixdLPRJJJBYXo6+3N3p7eUH9hM1+Gzfy8zGXzKCKSeJfiVA0VCDHpeqEv/KC04Lxyd+fwMbOBotvLYZQbNkznJISRb4cPGECXx4eMoQvF9Ms1yNFFhbCLjYWr6pUqCeTYVRAAP5JTUU+HbQxexQAib4qHADnO87Htxe/NcFlbSRz5vC2U9XwU65rTg6eVSrxVXAwiir4wm5vzydLd+0y8uAeI2lfEhQNFch2fnC2sqpxjXfF4IOD0WxtM2xy24TiUtq0r5e0NGDNGuC55/jBkSVLqmSbR0MKzs/H0uhodHJ3h7Vcji+CgnAuLa3CrxnEtCgAEn1VOAAOOTQEe7z2mOCyNgJnZ8DaGggNlXokJrc3MRHWcjm2qtVPXYbE2Rl45hlgwQLTt2pNOpAERQMFsuVVP/zdJYoiLodfRved3dFhUwcc9jsMrY7efPWi1fLSMSNH8lIyn34K3LhBvYcfQxRF+OXl4beoKDzv5gZbhQKTgoOp4LSZoQBI9FWhAKgTdbBdbQvfZF8TXdoGVFDAW0ytXy/1SEyqRKfDD2FhaObiAqesrEr/nNBQXnVj3DjescsUkg8lQ9FAgSynyo/bkml1WhzxO4IOmzqg285uuBR2iWoIGkJ0NPDrr7z4e8eOvJRMaqrUozJroihCJQiYGxGBtq6ueMbZGV+HhOBcWhoKaGZQUhQAib4qFABD0kNQf2V9aLQWuJfmp5+A/v2rVfHYLI0Gb/v64nVPT8QaoLhfSgrQpw/QrRuvy2tMyUeTIbeRI+tW9Qx/5RWXFmOz22Y0W9sMAw8MhDJeKfWQqobiYuCff4B33gHq1gXGjKFZwQrQiSKcs7Pxc0QEXnRzg5Vcjo/u3MH+pCSkUWkZk6MASPRVoQB4xO8I+u3rZ6LL2oAUCr70GxYm9UhMJqqwEJ3c3fHxnTsG3cit0QB2doCVFT8pnGeE9rspx1Mgt5Ej8wb1fy1PKBaw5PYSNFjVAB+f/BhBaUFSD6nqCA8HfvmFl4Z68UW+bzAlRepRmT1RFBGYnw+72Fj08fJCLScnDPTxwbq4OOpAYiIUAIm+KhQAZ12ZhVlXZpnosjaQu0u/GzZIPRKTccvJQXMXF/wUEQGtkZYMQ0N5De327YGrVw33c1NOloW/6xT+HiUlLwUzL89E/ZX1MeHsBPin+Es9pKqjpAQ4dQoYOpTPCo4eDTg60qxgBSUWF2NXQgL+5++POjIZunh44LeoKHgIAnS0fcEoKAASfVUoAPbb1w9H/I6Y6LI2kB9/5K0tqsnSr31qKmzkcmwzwUlHnQ746y+gUSNg/Hh+4FIfqf+k8vB3jcJfRURmRuL7S9/DaqUVhh8dDsdIR9ojaEiRkXyvYIsWfAPsqlVAMtVprCihtBT/pKbiy6AgNFIo0EqpxLTQUFzNyEAxBWqDoQBI9PXEAKjRalB/ZX2EpIeY8NLWUzVa+hVFEWvj4tBAocAlE/dGTUzk3UOaNgWOHq1cN65U+1TIreXIuGLGPejMVFp+GpY6LUWztc3w6q5XccTvCEq0tBfLYEpKeD2kYcP4rOBnn/Ei8hRiKkyj0+FGZiZmhoejnasrGioUGBMYiOMpKcim+ox6oQBI9PXEAOib7Avb1bbQiRbyopefz/fybNwo9UiMrlSnw7TQULRSKuGdmyvZOM6c4aXWRowAYmIq/vfSzqTx8OdA4U8fBZoC7PLchY5bO6LNhjZYp1yHnKKqWThbMlFRwG+/AS1b8llBOzuaFXxKoijCOzcXS6Kj8ZpKhdoyGd719cVWtRoxhYVSD8/iUAAk+npiANzjtQdDDg0x4WWtp9mzq8XSr1BaihF+fuiuUiHeACd99ZWdDXz3He8gsnHjk//5087x8Jd+0bSzllWZVqfFuZBz6L+/Pxquaoifr/+M+Jx4qYdVtWg0/BPPiBF8VvDTT3mdQToF+9RiCguxWa3GO76+qC2T4VWVCr9HR8OT9g1WCAVAoq8nBsBvL36L+Y7zTXhZ60Eu5+0rwsOlHolRxRcVobtKhRF+fmbXv1MmA156CejdG/B/xBmFhO0JPPydp/BnLMp4JT7951PUXVEX48+Mt8wanuYuOhpYtAho2xZo3Bj46ivg4kXADD6QWZosjQbHU1LweWAgbBUKtFYq8X1YGK5kZFAnkkegAEj09cQA+Pru13Eq8JQJL+tKys8HXngB2LxZ6pEYlU9uLlorlfg2NNRsq/IXFQELF/KSMQsX/vt+qCvVIXxmOFyau1TZ3r7mJiIzAtMdpsNqpRWGHhmKaxHX6MCIoel0vEDmvHm89VzDhsCXXwJnz/JqBOSplJTbN9je1RU2cjk+DQjA4eRkpNNM6z0UAIm+HhsAi0qLUHt5bcRkx5j2yq6MWbOAQYOq9AbtS+npaKhQ4M+4OIt4E/f35zOBL78MODmUwm+EHzy6eqAwhvb7mFp6QTqWy5aj+drm6L6zOw75HqIDI8YgioC3N98v+NJL/DDamDG88LQximdWcXfb0i2PiUFPT0/UcnLCIB8frI+Pr/b1BikAEn09NgC6qd3QbG0z8w8bMhlf+o2IkHokRrM9IQE2cjlOWVjrKq0W2LG4EIdreuB4O39kxJnXknV1U6gpxF9ef+HlbS+j9YbWWOO8BtlF1affskmJInDnDrBkCdClC1C/PvDJJ8CxY0AOzYBXhrqo6F69wboyGV7x8MCCyEgoc3KMVvvUXFEAJPp6bADc6r4V7x17z8SX9VO6u/S7ZYvUIzEKrShiTkQEmrm4wNUC3zSynbPh0swFXl+H43/DdGjViq+MEWnpRB0uhF7AoAOD0GBVA0x3mA7vJG+ph1W1BQUBy5cDr73GD5B88AFw8CCQSfUvKyO3tBSn09IwKTgYzzg7o7mLC74OCcHxlBQkmapxuYQoABJ9PTYATjo3Cb/f/t3El/VTmjmTt6aogku/+VotPgkIQCd3d0RaYJmE5CPJkFvLkbAjAQCfEDl6lNcNHDWK19sl0vNI8MCU81NgY2eDHrt7YLvHdmQVUi9mowoPB1avBnr2BOrU4aeK9+7Vv6p6NVWq00GenY35kZHo6emJmk5OeMXDA9PDwnA6LQ0ZVbDmIAVAoq/HBsDO2zvjYuhFE1/WT8HJiS/9VsEkkVxcjF5eXnjLxweZFvbiJepERC2KgqKR4qGt3dLSgMmTgXr1gC++ePRpYWJaucW52Oe9D3339UX9lfXx5ZkvcSv6luXUALVU0dHA+vVA375A7drA228Dmzbxr5NKydJocD49HbPDw9FNpUJNJye8plJhTkQELqWnm131hMqgAEj09cgAmFucixrLaiA5z0yLnebl8YKsW7dKPRKDC8zPRwdXV0wIDra41knaAi0CRwfC7QU35AflP/a+0dHA9On8tPDIkYCLi4kGSZ4oKC0Ic6/NRbO1zfDClhewQr4CasH4bQarvfh4YNs23pO4Th2ge3dg8WJApaqSqxymklpSgn9SUzEtNBQvubujlpMT+nh54deoKDhmZqLAAkvNUAAk+npkAHSKcULbjW0luKwraMYM4K23qtyL4s2sLDRSKLA0Otr8D9/cpzipGF69vOAz0Acl6RU/YZqSwluv2tryg9xXrlSurRwxvBJtCU4HncZ7x95DneV18N6x93A66DSdIDaFnBzg5Elg3DjeeLt1a2DaNP4EqQZ73IwpvqgIh5OT8XVICNq5uqKOTIbBPj5YGh0NeXa2RXzwpgBI9PXIALjWZS1G/T1Kgsu6Am7f5i0noqKkHolB7U9KgrVcjsMW2GIq1ycXrm1dETwpGLriyr145uQAq1YBzZsDPXoAf/9d5Ru6WBS1oMYK+Qo8v/l5NF/bHD9f/xnBacFSD6t6KCkBbtzg5a7at+evf599Bhw5QodI9CSKIiILC7EnMRHjgoLQ0sUFVnI5hvr5YVVsLFxzcsyy5ioFQKKvRwbAsfZjYaewk+CyfoK8PF5sdds2qUdiMKU6HX6OiEBjZ2c4ZVne5vv08+lQNFAgdnWsQWYtCwuB7duBDh14KbW9e2nCw5zoRB1uRt3EuNPjUG9FPfTb1w/7vPchr4Tq3JmEKAK+vsAffwBvvAHUqsVXQzZurJL7oU1NFEUE5edjm1qNUQEBaOrsDBu5HMPNLBBSACT6emQAfH7z83CMdJTgsn6C6dP5JmkzeAIaQnJxMQb7+KCbSmVxhU1FUUTc2jgoGiiQdsbwpxc1GuDwYaBzZ776tWED1dI1N5mFmdjmsQ09dveAjZ0NppyfAmW80uK2L1i0+Hhgxw5g+HC+b7BrV96Cx929yrxOSkkniriTl4etajU+LQuE1mWB0C42FsqcHJRI8O9MAZDo66EBML0gHWwZM79SELduVamlX5ecHLRSKjE+KAj5FrbWqSvRIWRKCJStlcj1yjXu79IB584BffoAzzwDLF0KZGQY9VeSSvBO8sZ0h+lotLoR2m9qj9lXZuN29G2U6iz/xKXFyMnhXUe+/JL3J27VCpgyhe8lpBIzBqETRQTk5WGbWo3PygXCYSYOhBQAib4eGgCvRlxFx60djX4BP5XcXL4muH271CPRmyiK2KxWw1oux/aEBIubLdFkaODzlg883/BEcYLp1mZFkX8GGDqUV/+ZOxdISDDZrycVVFxajCvhV/Ddxe/Qcl1LNFnTBBPPTsSZ4DPIL3n8yXBiQBoNf8LMn8831dasCbz+OvDLL3w/4d0m3UQv9wfCZi4uJgmEFACJvh4aAJfLlmPc6XEGv2D18v33VWLpN6+0FF8EBaGNUmmRnT0KQgvg3tEdAaMCoM2XbtZSpQI+/ZR315o6ldfVJeZHJ+rgGu+KBTcW4OVtL6P+yvr48MSH2Oe9D6n5ltXW0OKlpgInTvAinG3b8ifPsGHA2rV8T6GFv7aai4cFwruHSpbHxMAxMxPZBqjtSgGQ6OuhAfCjkx9hg+sGvS9Qg7l5ky/9Wnhh1NCCAnTx8MAQX1+kllheGY2sm1lwbuyMqF+jIOrMY9YyOBj4+mveWevdd/meQdonaL5C0kOw2nk1+u7ri1p/1MLAAwOxTrkOEZlVt4+3WRJFICSE11H98EP++tq8OS+kFHIhAAAdeElEQVQ5c+AAoKaaj4aiE0UE5udje0ICPg8MxHNubqhR1qnk65AQ7EpIgG9uLkqfMoBTACT6emgAbLW+FRSxCkM+Byrv7tLvjh1Sj0Qvp9PSYKtQYEFk5FM/0aUm6kSot6ght5Yj6WCS1MN5qKQkfkjktdcAa2tg4kS+ymVhWyurlaTcJOz23I33jr2HuivqouuOrlh0axE8Ez0tbluExdNoAGdnYMkSoF8/frK4UyfeavPCBeAR3aJI5aSUlOBCejoWRkXhXV9fNFQoYC2XY5CPD+ZHRuJ0WhoSnlD6gAIg0dcDATBBSEDNP2qaz16dadOAIUMsdnmiVKfDvMhI2CoUOGuBm7DzA/Ph3d8bbs+7IVuRLfVwKsTPD/j5Z+DZZ4E2bYAFC4DAQKlHRR5HKBbwT+A/GHd6HGxX26LNhjaY7jAdjpGOVHRaCjk5/OTV9Om8FlPt2sCAAcCyZbwFZ76ZvD9UEdqyWcL9SUn4NjQUr5a1r2ujVOLTgACsjYuDPDv7P4cFKQASfT0QAM+FnEO3nd2keA486MYNi176TSkpwdu+vujq4YEwCyvxoi3SInpxNORWckTOj5R0v19llZYCV6/yVa369YGePYHNm/lWKGK+SrQlcIx0xHSH6WizoQ1sV9vigxMfYK3LWrir3aHRWlZv7CohNhbYtw/4/HP+qapWLV6DcMYM4Ngx/hpNs7YGlVdaCqesLKyJi8MnAQFopVSilpMTenh6YlpoKHaGhVEAJHp5IAAuvLkQk89PlvCyL5OaCrRrB+zcKfVIKkWZk4PWSiXGWWCJlyynLLi/7A7Pnp7I9TFuiRdTEQRg/35eL7dOHeCDD4BTp+ggpLnTiTp4JXphg+sGfHzyYzzz5zOwsbPBsCPDsEK+AvJYOYpK6UE0ufh43qrnxx95fabatYGWLYFPPuGHSpydeUV3YjCiKCK+qAinUlPxc0QE+ioUFACJXh4IgMOPDscOlcT77UpKeFPYzz+3uE+Voihia1mJl61qtUXtZdJkahDyTQgUDRSI3xQPXallLrs/SUwMsGIFX9lq1Aj47jvAxcXiLrVqSSfqEJAagB2qHRhrPxbPrn8WdVfUxaADg7Do1iI4RjpSRxIpFBby0Ld2LQ+BLVvyT1p9+vCQ+M8/PDQSg6ElYKKv/wRAURTxzJ/PQJWgkvbK/uEHXq/KwpZN87VajAsKQmulEkoLKvEiiiJSTqbApYUL/N/3R1Fs9ZhREUXAzY1fbk2aAC++yLc4VZE649WCKIoIzwjHPu99mHRuEjps6oBaf9RCn719MO/6PFwMvWh+Be2rA1HkT6Rjx/g+wtdf58vGbdsCY8bwtnXu7vzDPqkUCoBEX/8JgJGZkaizvA6KSyVsvLp7Ny9HEBcn3RgqIaygAF09PPC2ry9SLOhFrTCmEP7v+cOlpQtS/0m1qBlLQyouBs6e5ZMXdevyg5C//87r6NJKlmWJzY7FUf+j+Pbit+i0rRNqLKuBV3e9illXZsE+yB7JeclSD7F6yssDbt8G7OyAkSN5W5969fjm3ClTgC1bAJkMyLaMw2ZSowBI9PWfAHgy4CR67ekl3RWtUPAaHnK5dGOohLNlJV7mW1CJF12pDvEb4iG3kSN0aig0WbSx/q70dL7ffcIEvt+9bl2+I+FuILSwielqLyUvBfZB9ph5eSZe3fUqaiyrgbYb2+Kjkx9hmdMyXAy9iATB8jryWDxRBMLC+PLwwoU8FLZpAzDGS3999BF/0p05A0RGWmwlCGOhAEj09Z8AOPfaXPzg8IM0V3NcHJ/527VLmt9fCaU6HX4pK/Fy2oJKvOR658LzDU+4d3JHtow+bT+OKPL3nruBsG1bvrVp4EBg8WJeo5wCoWXJKcqBLEaGja4bMeHsBHTZ0QU1/6iJFuta4H/H/oeFNxfidNBpRGdFUyiUQkYG/6S1cSMwaRIv7lmnDq8IMWAAX1L+6y++hFyNn3wUAIm+/hMABx8cjP0++01/JRcU8D0i06aZ/ndXUlxREYb4+qKLhwdCLeRFSJuvRcTPEZBbyRG9JBraIss6nWwO7m5t2r+fF5u+GwgHDAAWLeKViyzkciDl5JfkwzXeFds9tmPK+SnosbsHai+vjcZrGuOdw+9g3vV5OHHnBELTQ6ETaSbK5EpKAH9/4MgR3gT83XeBZs14f+NOnYCxY/nSsoMDL0lTDWYLKQASfd0LgFqdFjZ2NriTcse0V7EoAl98wdfYLGDvXIlOh9WxsbCRyzElJAR5paVSD6lCMq5mwLWDK7wHeCM/iIq4Gkr5QDhpEq9cVD4QOjpSzVxLVVxaDK9EL+zx2oPvL32PPnv7oN6KemiwqgEGHhiI2Vdm45DvIfin+FOxaimIIpCYCFy+DKxaxatGdO7MS9JYWQE9evAioMuXA/b2vBq8BbzHVBQFQKKvewEwMDUQ1nbWKNWZONCsWcPfNS2gOq9jZiY6ubvjNZUKLhZyyrckpQRB44KgaKRA4u5Es+nhW1WJIp+AOHCAB8L27fn7Ud++vBrGiRN8SZlWFi2TRqvBnZQ7OOR7CLOvzMbAAwPRYFUD1F5eG912dsOXZ77EaufVcAhzQHxOPC0hS0Gj4U3Cz5wBVq4Exo/nRautrflJ5JdfBj7+GPj1V948XKXiLUctDAVAoq97AfCg70EMPDDQtFfw5cuAjQ3g7W3a3/uU1EVFGBMYCFuFAlvVaos46CGKIpL2J8G5iTMCRweiOFHCk93VXEwMX7maMQPo3ZvPEDZrBrz/Pi87c/UqkJkp9ShJZelEHaKzonEh9AJWyldirP1YdN7eGbX+qIVGqxth4IGBmO4wHbs8d8ElzgVCMfXVlYROxzuaXL3K9xd++y3fzNu0KT940rYtMGwYMHs234sukwEpKWb7aY0CINHXvQA43WE65lybY7qrNzSUV+E9edJ0v/Mpleh0+DMuDg0UCkwMDkbyE5pzmwNtoRZJ+5Pg2cMTyjZKpF9Il3pI5D5FRbz+4JYtwJdf8vqDjPHC1OPHA1u3Ah4evDQNsVxFpUXwSfLBYb/DmHd9HoYfHY5W61uBLWPosKkDPjjxARbeXIiTAScRlBZk+tUX8q+0NF59YvduPlU/fDhfmWKMT1J0785nDefOBbZvB65c4e9hEj5JKQASfd0LgH329sHxO8dNc+VmZ/Np+F9/Nc3vq4SbWVl4xcMD3VUqyC2gLlVhdCEi50fC+RlnqLqpkLg70SL791ZXGRn8PWXpUuC993iJtLp1eSOFWbOAo0eB8HCznYwgTyG9IB23o29ji/sWTL0wFX329oG1nTXqrqiL13a9hi/PfImlTktxzP8YPBI8qJC1lAoK+N7Bixd5I/FZs3i5ms6deQ3DGjV4UHzrLWDyZN5i6PhxfkI5Lc2oT1gKgERftowxpGelo+6KugjPCDfaxXqPVsvf4d5/n/9/M5NQXIzPAwPRUKHApvh4s17uFXUiMq9n4s6HdyCrK0Pg6EBky7Jp31EVIIpARAR/L5k9G3jzTR4ImzQBRozgn50OHgRcXWn5uCrQiTpEZkbibPBZ2Cns8PX5rzFg/wC0WNcCbBlD0z+bou++vph4diKWy5bjZMBJeCV60XKylHQ6ICGB1689dAhYsoRP4ffrx1vhMcZL17z6Kq8w//PPwLZtwLlzgKcnkJys12llCoBEX7aMMchCZWi8prFpgsOCBfzYvpkdotDodFhXttw7PigISWa8/laaUwr1FjXcX3aHSwsXRC+ORpG6erRvq85KSvh+9W3b+PalwYP/fZ9p2hTo359PQqxZw7uaBAXRMnJVkFOUA69EL5wMOInlsuWYeHYi+u7ri6Z/NgVbxtBiXQsM2D8AX5//GnYKO/wT+A98knyoJ7LU8vOBO3eA8+f5nsOZM/nsYY8efBMwY3xDcIcOvGzA55/zkLhpEz+17OYGqNXAIypNUAAk+rJljGGj00YMPTLU+E+IEyf4vr/QUOP/rqdwOysLXTw80NXDAzIzXu7ND8xH2A9hkNvI4d3XGynHUqArNt8ZSmIaOTk8GB49yhsnjB3La+daWfEyaS+8wCfdf/qJ722/dYtPXNBEseXLLMyEu9odR/2PYsntJRh3ehx67emFRqsbgS1jeHb9s+i3rx/GnBqDn67+hPXK9fg74G84xzkjJjuGytdIqaiIlwSQyXjP5DVreEj85BOgVy/g2Wf5EnPNmrxDyptvAp99xvcorlsHYf9+CoBEL7aMMUw4MQG/3fzNuBe7lxffTHv5snF/z1NILC7GuKAgNFQosCE+HhozXO7VleqQdiYNvkN8Ia8vR8jXIRA8admHPJlOB8TH8+LUO3bwpeQRI4DnnuPvKzY2vP76F18Av/3G97bfXZ1KSjLLHRqkgkRRRFp+GpTxSpy4cwLrlOvw49UfMfrUaPTd1xdtN7ZFrT9q3ZtBfOOvN/DhiQ/xg8MPWClfiUO+h3Az6iZC0kNoJlFKJSX85LKLC/D338D69fyT3OjREHr1ogBI9GLLGEPXjV1xJviM8S7ilBR+xP7PP433O56CRqfDhvh4NFQoMC4oCIlmuE5WklqCWLtYuLZzhWt7V8StiUNJOn1aJ4ZRVAQEBACnT/MGCt999+/qVPPmfHWqVi3+tL078TB7Nn8KHzsGODnxPYqFhVL/l5DK0uq0SMxNhCpBhbPBZ7HVfSsW3FiA8WfG4+1Db6Pj1o6ov7I+2DIG29W26LKjC4YdGYZJ5yZh3vV5WOuyFod8D+FqxFV4J3lDLahRXGp+r6VVFS0BE33ZMsZQ87eaiM+JN85VWlLCay2NG2cWa06y7Gx09fBAZw8P3M4yv9N1gkpA8MRgyOrJ4DfUD+nn0yFqpf93I9VLcTEvaO3szCceNmzgFTDGjuXblZ57jh9KYYwfTOnWjc8uTpnC98Lv2AGcOsVXt4KC+IFImlG0PKIoIrMwE/4p/rgSfgV7vPZghXwFZl6eibH2Y/H2obfReXvne/sR2TKGxmsa4+VtL2PggYH49J9P8YPDD1jqtBQ7VDtgH2QPRawCoemhyCrMogNreqAASPRlyxhD8xXNjfdEnDaNV2GXsEFqsU6Ha5mZ+CIoCA0UCqyLi0OJmSz3agu0yJZnI3Z1LLz6eEHRQIHwmeHID6b+YcS86XQ82Pn4AJcu8RJqv//OQ+DIkbyEzXPP8aVmxvhWpubNga5dgbffBsaM4cWxly3jgdHengfG4GAgPb1atHOtUkp1pUjOS4Zfsh8cIx1xzP8YNrpuxIIbCzD5/GSMPD4Svff0RvtN7VFvRT2wZQx1ltdBy3Ut8cr2V9B/f3+MPD4SE89OxI9Xf8Qyp2XY6r4VR/2P4nL4Zbip3RCaHoq0/DSqmQgKgER/towxjNg3wjhX6K5dQIsWQFyccX7+Y6SXlOBwcjI+CwhAA4UCbZRKzAgLg7pI2tOyRfFFSP07FeGzw+HV2wuy2jIoWykRODoQCbsSUCrQCxupegoK+FYmT0++DfjQIWDdOmD+fODrr3lVqN69+YFIa+t/A2OLFjwwDh4MjBoFfPMN/ztr1gB79vBuX05O/LBlQgJf2ibmTxRF5BbnIiIzAh4JHrgWcQ0n7pzADtUOrJCvwJxrc/D1+a/x0cmPMOjAIHTd0RWtN7S+FxzZMoaGqxqiw6YO6LG7B945/A4+++czTL0wFT9f/xl/yP7AZrfNOOBzAKeDTsMx0hHuancEpwUjQUhAbnGuxc8+UgAkj/MHYyyRMZbHGJMxxro+5D62jDH8dtkIB0Dkcv5K7uxs+J/9EKIoIiQ/H3/GxWGgjw9qOTmhp6cnlsXEwCdXmie7TqODoBKg3qxG4NhAuLZ1hVMtJ3i+4YnwmeFIOZGCotgii38hIsTQ8vN5Cz2VCnBw4K30Nm3iM4wzZvCDK8OHAz17As8/D9ja8tDIGD/93LYtL782ZAjfv/jtt7x24tq1wL59fHn66lVAqeThMSaG11PUaKT+LydPUqgpRGJuIgJSA6CIVeB8yHkc8DmADa4bsOjWIsy+MhtfnfsKo/4ehXcPv4vee3qj07ZOaLW+FWzsbO4FyBrLaqDR6kZot7Eduu7oin77+mHE0REYc2oMvrnwDeZcm4OlTkux1mUtdqp24rDfYZwJPoNrEdfgHOcM32RfhGeEIzE3EUKxAK3OtHscKACSR5nPGItjjHVhjNVjjK1ijCUwxqzvu58tYwz2PvaGvTJjY3mdo7/+MuzPvY9Gp4NTVhbmRESgo7s76slkGOnvj92JiUiQ4GBHSVoJ0i+kI3JBJHwG+UBuJYdzE2f4j/RHrF0sspyyHtud49q1ayYcLXkceizMS0UeD40GSE0FQkJ4sLt4kc80btgALFoEfP8938M4dCg/2NK5Mw+KjRrxU9F3A2S9enyp+oUX+KGYQYP4DOUXX/AgOXcuX7besIHPQp48yUu9XbvGP/eqVPyATWQkkJjIg2VhoVlsgTYIS39ulOpKkV2UjdjsWNxJuQOXOBdcCb+CvwP+xh6vPVivXI8lt5fgp6s/YfL5yRhrPxYjj4/E24feRq89vdB5e2e029gOz/z5DOquqHsvULJlDPVX1kfTP5ui/ab26LKjC3rv6Y0hh4bggxMf4HP7zzHl/BTMuDwD867Pw++3f8cqxSpsdtuMv7z+whG/I7APsodDmANuRd+Ca7wr/JL9EJYRhviceKQXpCO/JB86ke+NoABIHiWaMTaz3J9rMcbSGGPj77ufLWMMUUlRhnt25efzV80ffjDczywnW6PByZQUfBkUhMbOzmjh4oJvQkJwPj0d+SbaZS6KIjTZGuT55yHxr0QEfxUM95fc4VTDCR6dPRDyTQiS9ichPyQfoq7ir/pz5piwFzN5LHoszIuxHw9R5C9dSUlAWBivWnX7NnDhAj/1vHMnPwG9eDE/DT15MjB6NJ+F7N+fl9N55RW+hN2yJZ+RrFPn31B591a/Pj8007o1D5hdu/KSb4MG8Z/10Ue8HvDEicDUqcD06bzqx4IFfPZz5Uo+i7llC99hc+AAH5+9PR/r1at83C4ufLnd358H4ogIPsuZkMCLMmRmAoLAl+Y1mqcLp/Tc+C+NVoPsomwkCAkIywiDd5I3FLEKXAm/Avsgexz0PYjtHtvxp8ufWHJ7CeY7zsfMyzMx5fwUjDs9Dp/8/QlGHB2BwQcHo/ee3ui2sxte3PIiWm9ojcZrGv9n2fvure6Kumi0rBEFQPIAW8aYyBh7876vX2eMrX/IfSEIBqorJ4r8I/bgwfz0r4FEFhZiU3w83vH1RW2ZDN1VKiyKioK7IEBngI/V2iItiuKLkOuTi0zHTKScSIF6ixrRv0cj7IcwBI4OhO/bvlB1U0H5rBKy2jI4MSfIbeTwHeKLqEVRyLicAU2mfutH9MJqPuixMC+W+nhotUBeHj/UEh/Pw6WfH2/ycPs27/985gwPcXv3Alu38oC3ciU/Tb1gATBnDg+CU6cCkybxgDhqFJ+VHDqUh8c33+Sfu7t0ATp25O1pW7YEGjfmh3Dq1uV7Ku8PpOVvNWvy2U8bG/73mjXjtYjbtePL7C+/zH9+s2Zz8MYb/JBP//785f6dd3iAff99HmI//ZQf8hk3jofZyZP57OkPP/B2unPm8L2cv/3GQ/XSpcDy5bwk0Zo1fH/oxo3832PHDn7AaO9eHngPH+b/XidP8uB79iwPvw4OPAA7OgI3b/J/X5mMd2pzceFtE93d+Qytlxc/vOTnx7cABAbyw0dhYTwsR0XxwBwXx5txJCbyzm2pqfyxzMzkLe0FgT++BQX85LxGwx9zQ8/26kQdCjQFyCjIgFpQIzwjHMoIJQVA8oC2jAfATvd9/W/G2J77vmbLGMPaQXuxbchx/W8DDmLb6zuxbewNbBvvpPdt85e3MX/0NXz3iQOWjb2Bw5MUkE/zhM90n8rdpvlANVYF5VAlnHo44Ua7G7hifQUOzAEOzAHXmlzDrY63IH9TDtf3XeE50RN+c/wQtDII4bvCEXMqBupbaqT4pSBTnYmcnBwIgmCw24wZMwz68+hGj0VVudHjYZhbdraA9HQByckC4uMFxMQICA8XEBwswN9fgI+PAJVKgFIpQC4XcOuWgOvXBTg4CDh/XsDp0wJGjpyB48cFHD4sYP9+AXv2CNi5U8DWrQI2bRKwbp2ANWsErFwpYNkyAYsXC/j1VwHz5wuYM0fA7NkCpk8XMG2agClTBHz1lYAJEwSMGydg7FgBo0cLGDVKwEcfCXj/fQEjRggYOlTAO+8IeOstAQMHCujXT0CfPgJ69hTQo4eA7t0FdOkioFMnAS+9JODFFwW88IKA554T0L69gLZtBbRuLaBlSwHNmwto2lRAkyYCGjcWYGsroEEDAdbWAurXF1CnjoBatQTUqCGAMf1uNWrwn1WnjoB69QRYWfHfY2MjoGFD/rsbNeLjaNJEwDPP8LE1by6gRQs+3lat+NjbtBHQrh3/7+nQQUCHDmoKgOQBTzMD2IbxC4hudKMb3ehGN7pZ3q0NI6Sch+0BTGUP7gGswfjFY0s3utGNbnSjG90s6taG8fdxQu6ZxxiLZbz0ixVjzI4xpmYPngImhBBCCCFVyDLGWDJjLJ89ug4gIYQQQgghhBBCCCGkKqtItxBiXEsZY1rGWC7jj0MuY+y4pCOqPj5njCkYYwJjTMcYq3nf919ljMkZn0VPYPyxIsbzpMdDZIwVsv8+V+g1y/BWM8buMP44JDLGTjBeXaK8doyxS4w/BmmMsW2MsdomHGN1UZHHIpYxVsT++7x433RDJJaoot1CiHEtZfxNj5jeMMZDx2T2YOBowBhLYoytZIzVZYx1Y3wf7Y8mHmN18rjHgzEeAIeYelDVkB1j7HXGA50t4x9Ifct9vwbjoeQgY8yG8TDozxjbZNphVgtPeiwYYyyG8ecMIRVW0W4hxLgoAErvLfZg4PiKMZZy39dmM8YiTDiu6uphjwdjPAC+Y/rhVHuvMf54NCr781uMsRLGWJNy9/mI8dmnOqYdWrVz/2PBGA+AU6QZDrFEtqzitQKJcS1l/IUzlfEn8nHG2HNSDqgaeljg2MgYu3rf/fqV3a+BicZVXT0uACYxxtIZY16MsakmHld19QvjEwZ3zWaMhdx3n1aMPz7dTDWoaur+x4Ix/r6RwhjLYHxmdj6j5XjyGE/TLYQYVxfGl1AY4y+ixxhjkYyW4k3pYYFjH2Ps5H33e6Xsfq1NNK7q6lEBcAjj21VqM8beY4xlMcammXZo1c5Qxj+gDiv3tcWMMbf77lef8feU/iYaV3X0sMeCMcYGMb4UX5Pxf/8YxvcOEvJQNANovuoyvqF3qNQDqUZoBtC8PCoA3m8pY8zF+MOptj5gjGUzvrxbHs0Amt6jHouH+Yrx/fyEPFJFu4UQ06rL+EnH+z/lEeN5WOCYxGgPoFQqGgCXMMaUxh9OtTSe8cDxsA+igxljxezhewDrGn9o1c7jHouHmcT4iWFCHom6hZiHMYyxpmX/vyVj7Ajj4dxGshFVHzUZX1IcznjgsC77cw3GZ/kSGWMrGF/e6sb4qXk6BWw8j3s8XmeMvcH4IYNaZffJZIzNkGSkVdtMxgPHgEd8vwZjzI8xdoDx50l7xk+m0ilgw3vSY9GRMTaQ/fs86csYi2KMrTPJ6IhFW8aoW4jULjA+85rPeAA/zhh7QdIRVR9fMb5spSu73f3/g8u+343xE9oFjB8++F2CMVYnj3s8PmCMBTM+y5TFeOD4VpphVnki46d8c9l/a8uVDyHtGGMOZd9LZ4xtYXQC2Bie9Fj0ZjyMC4yxHMZYEGNsAeMfkgghhBBCCCGEEEIIIYQQQgghhBBCCCGEEEIIIYQQQgghhBBCCCGEEEIIIYQQQgghhBBCCCGEEEIIIYQQQgghhBBCCCGEEEIIIYQQQgghhBBCCCGEEEIIIYQQQgghhBBCCCGEEEIIIYQQQgghhBBCCCGEEEIIIYQQQgghhBBCCCGEEEIIIYQQQgghhBBCCCGEEEIIIYQQQgghhBBCCCGEEEIIIYQQQgghhBBCCCGEEEIIIYQQQgghhBBCCCGEEEIIIYQQQgghhBBCCCGEEEIIIYQQQggxsv8DndFR8pVPqNgAAAAASUVORK5CYII=\">"
      ],
      "text/plain": [
       "<IPython.core.display.HTML object>"
      ]
     },
     "metadata": {},
     "output_type": "display_data"
    }
   ],
   "source": [
    "widgets.interact(N_update,val = IntSlider(min=10, max=100000, step=1, value=N, description='Number of Nucleii'))\n",
    "widgets.interact(N_t_update,val = IntSlider(min=1, max=100, step=1, value=N_t, description='Number of Time Steps'))\n",
    "#widgets.interact(N_d_update,val = IntSlider(min=1, max=6, step=1, value=N_d, description='Length of Decay Chain'))\n",
    "\n",
    "run_button = widgets.Button(description=\"Run\")\n",
    "display(run_button)\n",
    "run_button.on_click(main)"
   ]
  },
  {
   "cell_type": "code",
   "execution_count": null,
   "metadata": {
    "collapsed": true
   },
   "outputs": [],
   "source": []
  }
 ],
 "metadata": {
  "kernelspec": {
   "display_name": "Python 2",
   "language": "python",
   "name": "python2"
  },
  "language_info": {
   "codemirror_mode": {
    "name": "ipython",
    "version": 2
   },
   "file_extension": ".py",
   "mimetype": "text/x-python",
   "name": "python",
   "nbconvert_exporter": "python",
   "pygments_lexer": "ipython2",
   "version": "2.7.11"
  },
  "widgets": {
   "state": {
    "0250d009c5b94d25a1949be727ae6989": {
     "views": []
    },
    "0277988199e4426e9819e4cbe9a4cebf": {
     "views": []
    },
    "04f5cdd903e740a1a30cb164e9fe5800": {
     "views": []
    },
    "093eae7cb31e40319f1d92fc584aa163": {
     "views": [
      {
       "cell_index": 4
      }
     ]
    },
    "0a5777ae72af433dab0d8a84d96bb08b": {
     "views": []
    },
    "0bf4630e9e674701ae7754d64b8c51fe": {
     "views": []
    },
    "0eb9119a894f49c1b80f3d2c9beac032": {
     "views": [
      {
       "cell_index": 4
      }
     ]
    },
    "11de978d5c914d01b452a3d2822b1658": {
     "views": [
      {
       "cell_index": 4
      }
     ]
    },
    "155c98006bc54263aee85eb8e933bed1": {
     "views": []
    },
    "15d2e444ae2c4186afb1cb3e868249a9": {
     "views": []
    },
    "15d58bd2c6954cfc986707cf4a48452b": {
     "views": []
    },
    "194ca0f2e51546c091f9456133a2b416": {
     "views": []
    },
    "1cfba9613fa34f49b85f4d6c0497e15c": {
     "views": []
    },
    "1e609c1a712648ce8c48e655ff7c4e23": {
     "views": []
    },
    "1f7cfb002f75446090d6578784ec6fe5": {
     "views": []
    },
    "1f8aa068067c40efbb911200b731f6a5": {
     "views": [
      {
       "cell_index": 4
      }
     ]
    },
    "1f9b166db3b243cfa0149a41f6526115": {
     "views": []
    },
    "209ce4bc0fc54169adc1c09bb4782e53": {
     "views": []
    },
    "239dba2394d44a0184ace52e91763487": {
     "views": []
    },
    "24271ff801e347b38a57f64e0290510e": {
     "views": []
    },
    "24d122aff203468c8f8a4fc8c1aa806a": {
     "views": []
    },
    "24d40976bde542b29aac0fe4c6c9d65c": {
     "views": []
    },
    "255563180dbe4baca8440bf9950c0d48": {
     "views": []
    },
    "264031532f6347abbb7c7ecc6f37e430": {
     "views": []
    },
    "2969613d9b1140c5b0e675b451da06df": {
     "views": []
    },
    "2e648e1529b8484d86ee11b511c5f582": {
     "views": []
    },
    "30d84f64cc1f4939a1d3d2250a4ff8e3": {
     "views": []
    },
    "3183167264ac4369ac5d879c54e15958": {
     "views": []
    },
    "3342cb3d3e804ea9a51417f112e1b639": {
     "views": []
    },
    "37ca400975c7466e95175bd3a7dbaa8c": {
     "views": []
    },
    "3d58fc57a6a14bce87e8de39274a6275": {
     "views": []
    },
    "40da75a50d4e41ba95ab7afcee0c7586": {
     "views": [
      {
       "cell_index": 4
      }
     ]
    },
    "41bbaffd0fe342829074c2b6d9fc30fd": {
     "views": []
    },
    "457c2a52110843eaa87a7b0064d7d32a": {
     "views": []
    },
    "4abe540a6b0248ff98f45fa08f7c2827": {
     "views": [
      {
       "cell_index": 4
      }
     ]
    },
    "4cffe49d4ded459bb6541361611eff25": {
     "views": []
    },
    "547ab40a045f46cabe0f022d1826aef6": {
     "views": []
    },
    "579287ae0b824d63bb6a229e36194b6c": {
     "views": []
    },
    "5b647d28c5e44306aa052834a850289d": {
     "views": []
    },
    "5b707f5dd65946548cc81b4671861fbd": {
     "views": []
    },
    "5f74664b13524ae7bb9ee00cb3e3b63c": {
     "views": []
    },
    "648187ab1c984b2589b32aa68813d175": {
     "views": []
    },
    "6518f9ce07b34dc49c03dfc2a0fe0585": {
     "views": []
    },
    "68cb5ca5c91842f993ac359214afbd89": {
     "views": []
    },
    "6ccebee449de4b8ca18d4f6173a6c032": {
     "views": []
    },
    "6ff58b3961a34ccd88ffd3590eb450bf": {
     "views": []
    },
    "754982ec10a44f72beaed3863fbc6512": {
     "views": [
      {
       "cell_index": 4
      }
     ]
    },
    "7816a262b5f6407ba44689fcb5b9b6f9": {
     "views": []
    },
    "79e6028db6fe4a3f87046cefdaaea34e": {
     "views": [
      {
       "cell_index": 4
      }
     ]
    },
    "7b50b7472e68448d8600978cd6e10ce0": {
     "views": []
    },
    "7c3db0290dfb4806935c93e1b8e33046": {
     "views": []
    },
    "7c91f886579442c785957774e02e09c7": {
     "views": []
    },
    "7ce451fb42894671ac88d34c8ef13fc2": {
     "views": []
    },
    "7e1c1fe398e7450c849c9c4ea00cab09": {
     "views": []
    },
    "7e6d9b47e47d43cea5baf2d19f6fc515": {
     "views": []
    },
    "80a7c269f25d44f6a76f1af63f18af6a": {
     "views": [
      {
       "cell_index": 4
      }
     ]
    },
    "8108521d711144549f95743750109ad3": {
     "views": []
    },
    "81f101d535ae436c908fc8f268868f2e": {
     "views": []
    },
    "84cee9bbef33478293f330f393efb907": {
     "views": []
    },
    "87b286a9e7b9436cadcbec9d161762e6": {
     "views": []
    },
    "88deb15a8cb74811a92786f87d2db286": {
     "views": []
    },
    "8990f5762a5c4316b5d06bd918121459": {
     "views": []
    },
    "8ac495d97ee140a693957393c0f17073": {
     "views": []
    },
    "8c8b834ee9a648fc88e3443b55624244": {
     "views": []
    },
    "8dd2199a025a40b8a9d0b9e0c40a17b4": {
     "views": []
    },
    "8f46675c8010479aaabc6bebc7853df7": {
     "views": []
    },
    "8f6f2a06ee264b1e83e5556c12df3922": {
     "views": []
    },
    "91a479a6adfa4f0baacf0d881d8b78bc": {
     "views": []
    },
    "9321778eb2fb42ffa9efe1d8e2305c4e": {
     "views": []
    },
    "946669994efa4e88838f049492f85ed1": {
     "views": []
    },
    "9731588d19f24bdc864dde7e7aea81e5": {
     "views": []
    },
    "994332294d964433bbbf2fc50200ed49": {
     "views": []
    },
    "9b57c9a3ecf84eda99972821d2c90e81": {
     "views": []
    },
    "9c95c3529dfe41de9d8eb7b4f3edce58": {
     "views": []
    },
    "9da1f0d19333454985d45dba11ad4576": {
     "views": []
    },
    "a16bcc29ec624912aa01c3064ab0e16c": {
     "views": []
    },
    "a659a619291f4b699ca3cdd372a1878f": {
     "views": []
    },
    "a66e4337064d41439751304bda1ae9e1": {
     "views": []
    },
    "a99419fd86b944fc8fce346a9800e8ff": {
     "views": []
    },
    "ad204cfcbdc14243bbed9790345cf95a": {
     "views": []
    },
    "addefe8fd2404ff3b23118f35e67046f": {
     "views": []
    },
    "b448a2e3156f4610a475cf50c226f13c": {
     "views": []
    },
    "b5491ef86f914ad3aaa97bf34f4f6223": {
     "views": []
    },
    "b65e83545cfe4c08af448b8e6d4384a7": {
     "views": []
    },
    "b81949a7b4074c77aa8417656c4fd2be": {
     "views": []
    },
    "b8e9f735097e422ea16e220c0efc3774": {
     "views": []
    },
    "ba0c712b3ad149ddad996e7ae14bef86": {
     "views": [
      {
       "cell_index": 4
      }
     ]
    },
    "ba699393623f49cf85b0fc20324201f8": {
     "views": []
    },
    "ba8cfb66f30f49d6816a657169d07525": {
     "views": []
    },
    "bb020a958edb4065a12cc565fc1e9c6b": {
     "views": []
    },
    "c01d6feb57ec4bef85a7978b9a697949": {
     "views": []
    },
    "c04fb3dda46b4e239d7dc0f2c6a59afd": {
     "views": [
      {
       "cell_index": 4
      }
     ]
    },
    "c1afd6b4de924cedb4ce351f496ab3ab": {
     "views": []
    },
    "c289c08ead694a18a68e20afbe7da51d": {
     "views": []
    },
    "c3bc12977e51479fbce1f104a4b79364": {
     "views": []
    },
    "c419e35cb27c4846aaa967b0a33df55e": {
     "views": []
    },
    "c522b604163b4fae94815d35cdd72130": {
     "views": [
      {
       "cell_index": 4
      }
     ]
    },
    "c7303d5a7cd64af5945a51152a02ee0d": {
     "views": []
    },
    "c78a3965c7684442bcc12c7dc4b75641": {
     "views": []
    },
    "ca0edf587e384d58aa1425b4e58956ec": {
     "views": [
      {
       "cell_index": 4
      }
     ]
    },
    "ca53a3393e86451194b5ba04cff00b20": {
     "views": []
    },
    "ca936b0b95d7437c9ce1f192714a002c": {
     "views": []
    },
    "cb924d95cac84df78286eaa51f5c135e": {
     "views": [
      {
       "cell_index": 4
      }
     ]
    },
    "cf64529c6b904ede95a7bda606427820": {
     "views": []
    },
    "d1702bd15a0b4618b59a84aecce6b5eb": {
     "views": []
    },
    "d2118eb3628d419d8c9ca85c87fd458d": {
     "views": []
    },
    "d2f35c85b42f43e1a9386301e6034082": {
     "views": []
    },
    "d39077cba4ef4d35ad4763e39e2affb1": {
     "views": []
    },
    "dab65b778341418abd95e02758822b48": {
     "views": []
    },
    "db1f72081b7b47ceb71368484dce6d68": {
     "views": []
    },
    "e16f7463b5b743e8aece8c8828026f64": {
     "views": []
    },
    "e283f6aa493c4db093b66180a83a8a23": {
     "views": []
    },
    "e3f340bb7f77456bac961d7f24133a39": {
     "views": []
    },
    "e4ef58a252d24a8db071fc2b19bbe82d": {
     "views": []
    },
    "e959a64ea33541ce90877d5dad9e9353": {
     "views": []
    },
    "ea8d499a584b41b192dd1d5e2687af67": {
     "views": [
      {
       "cell_index": 4
      }
     ]
    },
    "eb2cc403a4d44bb9950f4c3aad924859": {
     "views": []
    },
    "ec73cf4dce8941f18f5255e6292e6970": {
     "views": []
    },
    "ece92a56a8bd4a47bb37a35bc7b0bfe7": {
     "views": []
    },
    "edaa2b3b97284b949bdc284d682ac25c": {
     "views": []
    },
    "ef764598db694e60b1bca81a43885139": {
     "views": []
    },
    "fa4587a8556d4dfa9a5a6e841bed14a1": {
     "views": []
    },
    "fd0abfeb2ff94534a06a06d3aa731526": {
     "views": []
    },
    "fe5d90c6d2214fdb8beda64e37566983": {
     "views": []
    },
    "fe979ce7494e415cbbc2058ab0c0274e": {
     "views": []
    },
    "ff74f946b9e446e2b629dce7accf580b": {
     "views": []
    }
   },
   "version": "1.1.2"
  }
 },
 "nbformat": 4,
 "nbformat_minor": 0
}
