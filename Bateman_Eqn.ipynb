{
 "cells": [
  {
   "cell_type": "markdown",
   "metadata": {},
   "source": [
    "<center><b>Radioactive Decay Chains and the Bateman Equation</b></center>\n",
    "\n",
    "<center>Part II Particle & Nuclear Physics</center>\n",
    "\n",
    "Many radioactive decay chains exist in nature and relative abundances of substances within these chains can be used to the date the object. E.g. Uranium-238 decay chain:\n",
    "\n",
    "<img src=\"https://geoinfo.nmt.edu/resources/uranium/images/decaychain.jpg\"  style=\"width:400px;height:281px;\">\n",
    "\n",
    "For these chains, the ith isotope obeys the following decay rate equation:\n",
    "\n",
    "<center>$ \\frac{d N_i}{dt} = -\\lambda_i N_i + \\lambda_{i-1}N_{i-1} $</center>\n",
    "\n",
    "The process above in the chain produces it at a rate $\\lambda_{i-1}N_{i-1}$ as it decays at a rate $\\lambda_i N_i$. The general solution to this set of equations is the Bateman equation."
   ]
  },
  {
   "cell_type": "code",
   "execution_count": 1,
   "metadata": {
    "collapsed": false
   },
   "outputs": [],
   "source": [
    "import numpy as np\n",
    "import matplotlib.pyplot as plt\n",
    "\n",
    "%matplotlib notebook\n",
    "\n",
    "from IPython.display import display\n",
    "import ipywidgets as widgets\n",
    "from ipywidgets import interact, FloatSlider, IntSlider, fixed"
   ]
  },
  {
   "cell_type": "markdown",
   "metadata": {},
   "source": [
    "Decay_cycle: This function takes in the number of time steps (N_t), the total number of nuclei (N), the number of links in decay chain (N_d), an array containing the probability that each daughter nucleii will decay (P) and the initial data array (data).\n",
    "\n",
    "It then cycles through the time, nuclei and decay links comparing a array of random numbers between 0 and 1 (rand) to the probability of decay of a given nucleus. If the random number is less than the decay probability then the decay occurs and the nucleus moves along one step in the decay chain."
   ]
  },
  {
   "cell_type": "code",
   "execution_count": 2,
   "metadata": {
    "collapsed": true
   },
   "outputs": [],
   "source": [
    "def decay_cycle(N_t,N,N_d,P,data):\n",
    "\tfor i in range(1,N_t+1):\n",
    "\t\trand = np.random.rand(N)\n",
    "\t\tfor j in range(N):\n",
    "\t\t\tfor k in range(N_d):\n",
    "\t\t\t\tif rand[j] < P[k]:\n",
    "\t\t\t\t\tif data[j,i] == k:                    \n",
    "\t\t\t\t\t\tdata[j,i:] = data[j,i:] + 1.0\n",
    "\t\t\t\t\t\tbreak\n",
    "\treturn data"
   ]
  },
  {
   "cell_type": "markdown",
   "metadata": {},
   "source": [
    "Counter: This function counts the number of each type of nucleus of the total N nuclei at a given time step. E.g. if there are 3 type 0 nuclei at t = 0 and 2 type 0 and 1 type 1 at t = 1 then counter will return [3,0,...] and [2,1,...] respectively."
   ]
  },
  {
   "cell_type": "code",
   "execution_count": 3,
   "metadata": {
    "collapsed": true
   },
   "outputs": [],
   "source": [
    "def counter(N_t,N_d,data):\n",
    "\t# Counted nucleii\n",
    "\tcount = np.zeros((N_d,N_t+1))\n",
    "\tfor i in range(N_d):\n",
    "\t\tcount[i,:] = np.sum(data.astype('int64') == i,axis = 0)\n",
    "\treturn count"
   ]
  },
  {
   "cell_type": "markdown",
   "metadata": {},
   "source": [
    "Creates and initialises parameters for a chain containing four decays of N nuclei"
   ]
  },
  {
   "cell_type": "code",
   "execution_count": 4,
   "metadata": {
    "collapsed": false,
    "scrolled": false
   },
   "outputs": [],
   "source": [
    "global N,N_t,P\n",
    "\n",
    "# Number of nucleii\n",
    "N = 10000\n",
    "\n",
    "# Number of daughters in chain\n",
    "N_d = 4\n",
    "\n",
    "# Probability of each decay\n",
    "P = np.zeros((N_d))\n",
    "P[0] = 0.25\n",
    "P[1] = 0.025\n",
    "P[2] = 0.075\n",
    "P[3] = 0.001\n",
    "\n",
    "# Number of time steps\n",
    "N_t = 25"
   ]
  },
  {
   "cell_type": "markdown",
   "metadata": {},
   "source": [
    "This section contains plotting and widget elements for controlling the input parameters."
   ]
  },
  {
   "cell_type": "code",
   "execution_count": 8,
   "metadata": {
    "collapsed": false
   },
   "outputs": [
    {
     "data": {
      "application/javascript": [
       "/* Put everything inside the global mpl namespace */\n",
       "window.mpl = {};\n",
       "\n",
       "mpl.get_websocket_type = function() {\n",
       "    if (typeof(WebSocket) !== 'undefined') {\n",
       "        return WebSocket;\n",
       "    } else if (typeof(MozWebSocket) !== 'undefined') {\n",
       "        return MozWebSocket;\n",
       "    } else {\n",
       "        alert('Your browser does not have WebSocket support.' +\n",
       "              'Please try Chrome, Safari or Firefox ≥ 6. ' +\n",
       "              'Firefox 4 and 5 are also supported but you ' +\n",
       "              'have to enable WebSockets in about:config.');\n",
       "    };\n",
       "}\n",
       "\n",
       "mpl.figure = function(figure_id, websocket, ondownload, parent_element) {\n",
       "    this.id = figure_id;\n",
       "\n",
       "    this.ws = websocket;\n",
       "\n",
       "    this.supports_binary = (this.ws.binaryType != undefined);\n",
       "\n",
       "    if (!this.supports_binary) {\n",
       "        var warnings = document.getElementById(\"mpl-warnings\");\n",
       "        if (warnings) {\n",
       "            warnings.style.display = 'block';\n",
       "            warnings.textContent = (\n",
       "                \"This browser does not support binary websocket messages. \" +\n",
       "                    \"Performance may be slow.\");\n",
       "        }\n",
       "    }\n",
       "\n",
       "    this.imageObj = new Image();\n",
       "\n",
       "    this.context = undefined;\n",
       "    this.message = undefined;\n",
       "    this.canvas = undefined;\n",
       "    this.rubberband_canvas = undefined;\n",
       "    this.rubberband_context = undefined;\n",
       "    this.format_dropdown = undefined;\n",
       "\n",
       "    this.image_mode = 'full';\n",
       "\n",
       "    this.root = $('<div/>');\n",
       "    this._root_extra_style(this.root)\n",
       "    this.root.attr('style', 'display: inline-block');\n",
       "\n",
       "    $(parent_element).append(this.root);\n",
       "\n",
       "    this._init_header(this);\n",
       "    this._init_canvas(this);\n",
       "    this._init_toolbar(this);\n",
       "\n",
       "    var fig = this;\n",
       "\n",
       "    this.waiting = false;\n",
       "\n",
       "    this.ws.onopen =  function () {\n",
       "            fig.send_message(\"supports_binary\", {value: fig.supports_binary});\n",
       "            fig.send_message(\"send_image_mode\", {});\n",
       "            fig.send_message(\"refresh\", {});\n",
       "        }\n",
       "\n",
       "    this.imageObj.onload = function() {\n",
       "            if (fig.image_mode == 'full') {\n",
       "                // Full images could contain transparency (where diff images\n",
       "                // almost always do), so we need to clear the canvas so that\n",
       "                // there is no ghosting.\n",
       "                fig.context.clearRect(0, 0, fig.canvas.width, fig.canvas.height);\n",
       "            }\n",
       "            fig.context.drawImage(fig.imageObj, 0, 0);\n",
       "        };\n",
       "\n",
       "    this.imageObj.onunload = function() {\n",
       "        this.ws.close();\n",
       "    }\n",
       "\n",
       "    this.ws.onmessage = this._make_on_message_function(this);\n",
       "\n",
       "    this.ondownload = ondownload;\n",
       "}\n",
       "\n",
       "mpl.figure.prototype._init_header = function() {\n",
       "    var titlebar = $(\n",
       "        '<div class=\"ui-dialog-titlebar ui-widget-header ui-corner-all ' +\n",
       "        'ui-helper-clearfix\"/>');\n",
       "    var titletext = $(\n",
       "        '<div class=\"ui-dialog-title\" style=\"width: 100%; ' +\n",
       "        'text-align: center; padding: 3px;\"/>');\n",
       "    titlebar.append(titletext)\n",
       "    this.root.append(titlebar);\n",
       "    this.header = titletext[0];\n",
       "}\n",
       "\n",
       "\n",
       "\n",
       "mpl.figure.prototype._canvas_extra_style = function(canvas_div) {\n",
       "\n",
       "}\n",
       "\n",
       "\n",
       "mpl.figure.prototype._root_extra_style = function(canvas_div) {\n",
       "\n",
       "}\n",
       "\n",
       "mpl.figure.prototype._init_canvas = function() {\n",
       "    var fig = this;\n",
       "\n",
       "    var canvas_div = $('<div/>');\n",
       "\n",
       "    canvas_div.attr('style', 'position: relative; clear: both; outline: 0');\n",
       "\n",
       "    function canvas_keyboard_event(event) {\n",
       "        return fig.key_event(event, event['data']);\n",
       "    }\n",
       "\n",
       "    canvas_div.keydown('key_press', canvas_keyboard_event);\n",
       "    canvas_div.keyup('key_release', canvas_keyboard_event);\n",
       "    this.canvas_div = canvas_div\n",
       "    this._canvas_extra_style(canvas_div)\n",
       "    this.root.append(canvas_div);\n",
       "\n",
       "    var canvas = $('<canvas/>');\n",
       "    canvas.addClass('mpl-canvas');\n",
       "    canvas.attr('style', \"left: 0; top: 0; z-index: 0; outline: 0\")\n",
       "\n",
       "    this.canvas = canvas[0];\n",
       "    this.context = canvas[0].getContext(\"2d\");\n",
       "\n",
       "    var rubberband = $('<canvas/>');\n",
       "    rubberband.attr('style', \"position: absolute; left: 0; top: 0; z-index: 1;\")\n",
       "\n",
       "    var pass_mouse_events = true;\n",
       "\n",
       "    canvas_div.resizable({\n",
       "        start: function(event, ui) {\n",
       "            pass_mouse_events = false;\n",
       "        },\n",
       "        resize: function(event, ui) {\n",
       "            fig.request_resize(ui.size.width, ui.size.height);\n",
       "        },\n",
       "        stop: function(event, ui) {\n",
       "            pass_mouse_events = true;\n",
       "            fig.request_resize(ui.size.width, ui.size.height);\n",
       "        },\n",
       "    });\n",
       "\n",
       "    function mouse_event_fn(event) {\n",
       "        if (pass_mouse_events)\n",
       "            return fig.mouse_event(event, event['data']);\n",
       "    }\n",
       "\n",
       "    rubberband.mousedown('button_press', mouse_event_fn);\n",
       "    rubberband.mouseup('button_release', mouse_event_fn);\n",
       "    // Throttle sequential mouse events to 1 every 20ms.\n",
       "    rubberband.mousemove('motion_notify', mouse_event_fn);\n",
       "\n",
       "    rubberband.mouseenter('figure_enter', mouse_event_fn);\n",
       "    rubberband.mouseleave('figure_leave', mouse_event_fn);\n",
       "\n",
       "    canvas_div.on(\"wheel\", function (event) {\n",
       "        event = event.originalEvent;\n",
       "        event['data'] = 'scroll'\n",
       "        if (event.deltaY < 0) {\n",
       "            event.step = 1;\n",
       "        } else {\n",
       "            event.step = -1;\n",
       "        }\n",
       "        mouse_event_fn(event);\n",
       "    });\n",
       "\n",
       "    canvas_div.append(canvas);\n",
       "    canvas_div.append(rubberband);\n",
       "\n",
       "    this.rubberband = rubberband;\n",
       "    this.rubberband_canvas = rubberband[0];\n",
       "    this.rubberband_context = rubberband[0].getContext(\"2d\");\n",
       "    this.rubberband_context.strokeStyle = \"#000000\";\n",
       "\n",
       "    this._resize_canvas = function(width, height) {\n",
       "        // Keep the size of the canvas, canvas container, and rubber band\n",
       "        // canvas in synch.\n",
       "        canvas_div.css('width', width)\n",
       "        canvas_div.css('height', height)\n",
       "\n",
       "        canvas.attr('width', width);\n",
       "        canvas.attr('height', height);\n",
       "\n",
       "        rubberband.attr('width', width);\n",
       "        rubberband.attr('height', height);\n",
       "    }\n",
       "\n",
       "    // Set the figure to an initial 600x600px, this will subsequently be updated\n",
       "    // upon first draw.\n",
       "    this._resize_canvas(600, 600);\n",
       "\n",
       "    // Disable right mouse context menu.\n",
       "    $(this.rubberband_canvas).bind(\"contextmenu\",function(e){\n",
       "        return false;\n",
       "    });\n",
       "\n",
       "    function set_focus () {\n",
       "        canvas.focus();\n",
       "        canvas_div.focus();\n",
       "    }\n",
       "\n",
       "    window.setTimeout(set_focus, 100);\n",
       "}\n",
       "\n",
       "mpl.figure.prototype._init_toolbar = function() {\n",
       "    var fig = this;\n",
       "\n",
       "    var nav_element = $('<div/>')\n",
       "    nav_element.attr('style', 'width: 100%');\n",
       "    this.root.append(nav_element);\n",
       "\n",
       "    // Define a callback function for later on.\n",
       "    function toolbar_event(event) {\n",
       "        return fig.toolbar_button_onclick(event['data']);\n",
       "    }\n",
       "    function toolbar_mouse_event(event) {\n",
       "        return fig.toolbar_button_onmouseover(event['data']);\n",
       "    }\n",
       "\n",
       "    for(var toolbar_ind in mpl.toolbar_items) {\n",
       "        var name = mpl.toolbar_items[toolbar_ind][0];\n",
       "        var tooltip = mpl.toolbar_items[toolbar_ind][1];\n",
       "        var image = mpl.toolbar_items[toolbar_ind][2];\n",
       "        var method_name = mpl.toolbar_items[toolbar_ind][3];\n",
       "\n",
       "        if (!name) {\n",
       "            // put a spacer in here.\n",
       "            continue;\n",
       "        }\n",
       "        var button = $('<button/>');\n",
       "        button.addClass('ui-button ui-widget ui-state-default ui-corner-all ' +\n",
       "                        'ui-button-icon-only');\n",
       "        button.attr('role', 'button');\n",
       "        button.attr('aria-disabled', 'false');\n",
       "        button.click(method_name, toolbar_event);\n",
       "        button.mouseover(tooltip, toolbar_mouse_event);\n",
       "\n",
       "        var icon_img = $('<span/>');\n",
       "        icon_img.addClass('ui-button-icon-primary ui-icon');\n",
       "        icon_img.addClass(image);\n",
       "        icon_img.addClass('ui-corner-all');\n",
       "\n",
       "        var tooltip_span = $('<span/>');\n",
       "        tooltip_span.addClass('ui-button-text');\n",
       "        tooltip_span.html(tooltip);\n",
       "\n",
       "        button.append(icon_img);\n",
       "        button.append(tooltip_span);\n",
       "\n",
       "        nav_element.append(button);\n",
       "    }\n",
       "\n",
       "    var fmt_picker_span = $('<span/>');\n",
       "\n",
       "    var fmt_picker = $('<select/>');\n",
       "    fmt_picker.addClass('mpl-toolbar-option ui-widget ui-widget-content');\n",
       "    fmt_picker_span.append(fmt_picker);\n",
       "    nav_element.append(fmt_picker_span);\n",
       "    this.format_dropdown = fmt_picker[0];\n",
       "\n",
       "    for (var ind in mpl.extensions) {\n",
       "        var fmt = mpl.extensions[ind];\n",
       "        var option = $(\n",
       "            '<option/>', {selected: fmt === mpl.default_extension}).html(fmt);\n",
       "        fmt_picker.append(option)\n",
       "    }\n",
       "\n",
       "    // Add hover states to the ui-buttons\n",
       "    $( \".ui-button\" ).hover(\n",
       "        function() { $(this).addClass(\"ui-state-hover\");},\n",
       "        function() { $(this).removeClass(\"ui-state-hover\");}\n",
       "    );\n",
       "\n",
       "    var status_bar = $('<span class=\"mpl-message\"/>');\n",
       "    nav_element.append(status_bar);\n",
       "    this.message = status_bar[0];\n",
       "}\n",
       "\n",
       "mpl.figure.prototype.request_resize = function(x_pixels, y_pixels) {\n",
       "    // Request matplotlib to resize the figure. Matplotlib will then trigger a resize in the client,\n",
       "    // which will in turn request a refresh of the image.\n",
       "    this.send_message('resize', {'width': x_pixels, 'height': y_pixels});\n",
       "}\n",
       "\n",
       "mpl.figure.prototype.send_message = function(type, properties) {\n",
       "    properties['type'] = type;\n",
       "    properties['figure_id'] = this.id;\n",
       "    this.ws.send(JSON.stringify(properties));\n",
       "}\n",
       "\n",
       "mpl.figure.prototype.send_draw_message = function() {\n",
       "    if (!this.waiting) {\n",
       "        this.waiting = true;\n",
       "        this.ws.send(JSON.stringify({type: \"draw\", figure_id: this.id}));\n",
       "    }\n",
       "}\n",
       "\n",
       "\n",
       "mpl.figure.prototype.handle_save = function(fig, msg) {\n",
       "    var format_dropdown = fig.format_dropdown;\n",
       "    var format = format_dropdown.options[format_dropdown.selectedIndex].value;\n",
       "    fig.ondownload(fig, format);\n",
       "}\n",
       "\n",
       "\n",
       "mpl.figure.prototype.handle_resize = function(fig, msg) {\n",
       "    var size = msg['size'];\n",
       "    if (size[0] != fig.canvas.width || size[1] != fig.canvas.height) {\n",
       "        fig._resize_canvas(size[0], size[1]);\n",
       "        fig.send_message(\"refresh\", {});\n",
       "    };\n",
       "}\n",
       "\n",
       "mpl.figure.prototype.handle_rubberband = function(fig, msg) {\n",
       "    var x0 = msg['x0'];\n",
       "    var y0 = fig.canvas.height - msg['y0'];\n",
       "    var x1 = msg['x1'];\n",
       "    var y1 = fig.canvas.height - msg['y1'];\n",
       "    x0 = Math.floor(x0) + 0.5;\n",
       "    y0 = Math.floor(y0) + 0.5;\n",
       "    x1 = Math.floor(x1) + 0.5;\n",
       "    y1 = Math.floor(y1) + 0.5;\n",
       "    var min_x = Math.min(x0, x1);\n",
       "    var min_y = Math.min(y0, y1);\n",
       "    var width = Math.abs(x1 - x0);\n",
       "    var height = Math.abs(y1 - y0);\n",
       "\n",
       "    fig.rubberband_context.clearRect(\n",
       "        0, 0, fig.canvas.width, fig.canvas.height);\n",
       "\n",
       "    fig.rubberband_context.strokeRect(min_x, min_y, width, height);\n",
       "}\n",
       "\n",
       "mpl.figure.prototype.handle_figure_label = function(fig, msg) {\n",
       "    // Updates the figure title.\n",
       "    fig.header.textContent = msg['label'];\n",
       "}\n",
       "\n",
       "mpl.figure.prototype.handle_cursor = function(fig, msg) {\n",
       "    var cursor = msg['cursor'];\n",
       "    switch(cursor)\n",
       "    {\n",
       "    case 0:\n",
       "        cursor = 'pointer';\n",
       "        break;\n",
       "    case 1:\n",
       "        cursor = 'default';\n",
       "        break;\n",
       "    case 2:\n",
       "        cursor = 'crosshair';\n",
       "        break;\n",
       "    case 3:\n",
       "        cursor = 'move';\n",
       "        break;\n",
       "    }\n",
       "    fig.rubberband_canvas.style.cursor = cursor;\n",
       "}\n",
       "\n",
       "mpl.figure.prototype.handle_message = function(fig, msg) {\n",
       "    fig.message.textContent = msg['message'];\n",
       "}\n",
       "\n",
       "mpl.figure.prototype.handle_draw = function(fig, msg) {\n",
       "    // Request the server to send over a new figure.\n",
       "    fig.send_draw_message();\n",
       "}\n",
       "\n",
       "mpl.figure.prototype.handle_image_mode = function(fig, msg) {\n",
       "    fig.image_mode = msg['mode'];\n",
       "}\n",
       "\n",
       "mpl.figure.prototype.updated_canvas_event = function() {\n",
       "    // Called whenever the canvas gets updated.\n",
       "    this.send_message(\"ack\", {});\n",
       "}\n",
       "\n",
       "// A function to construct a web socket function for onmessage handling.\n",
       "// Called in the figure constructor.\n",
       "mpl.figure.prototype._make_on_message_function = function(fig) {\n",
       "    return function socket_on_message(evt) {\n",
       "        if (evt.data instanceof Blob) {\n",
       "            /* FIXME: We get \"Resource interpreted as Image but\n",
       "             * transferred with MIME type text/plain:\" errors on\n",
       "             * Chrome.  But how to set the MIME type?  It doesn't seem\n",
       "             * to be part of the websocket stream */\n",
       "            evt.data.type = \"image/png\";\n",
       "\n",
       "            /* Free the memory for the previous frames */\n",
       "            if (fig.imageObj.src) {\n",
       "                (window.URL || window.webkitURL).revokeObjectURL(\n",
       "                    fig.imageObj.src);\n",
       "            }\n",
       "\n",
       "            fig.imageObj.src = (window.URL || window.webkitURL).createObjectURL(\n",
       "                evt.data);\n",
       "            fig.updated_canvas_event();\n",
       "            fig.waiting = false;\n",
       "            return;\n",
       "        }\n",
       "        else if (typeof evt.data === 'string' && evt.data.slice(0, 21) == \"data:image/png;base64\") {\n",
       "            fig.imageObj.src = evt.data;\n",
       "            fig.updated_canvas_event();\n",
       "            fig.waiting = false;\n",
       "            return;\n",
       "        }\n",
       "\n",
       "        var msg = JSON.parse(evt.data);\n",
       "        var msg_type = msg['type'];\n",
       "\n",
       "        // Call the  \"handle_{type}\" callback, which takes\n",
       "        // the figure and JSON message as its only arguments.\n",
       "        try {\n",
       "            var callback = fig[\"handle_\" + msg_type];\n",
       "        } catch (e) {\n",
       "            console.log(\"No handler for the '\" + msg_type + \"' message type: \", msg);\n",
       "            return;\n",
       "        }\n",
       "\n",
       "        if (callback) {\n",
       "            try {\n",
       "                // console.log(\"Handling '\" + msg_type + \"' message: \", msg);\n",
       "                callback(fig, msg);\n",
       "            } catch (e) {\n",
       "                console.log(\"Exception inside the 'handler_\" + msg_type + \"' callback:\", e, e.stack, msg);\n",
       "            }\n",
       "        }\n",
       "    };\n",
       "}\n",
       "\n",
       "// from http://stackoverflow.com/questions/1114465/getting-mouse-location-in-canvas\n",
       "mpl.findpos = function(e) {\n",
       "    //this section is from http://www.quirksmode.org/js/events_properties.html\n",
       "    var targ;\n",
       "    if (!e)\n",
       "        e = window.event;\n",
       "    if (e.target)\n",
       "        targ = e.target;\n",
       "    else if (e.srcElement)\n",
       "        targ = e.srcElement;\n",
       "    if (targ.nodeType == 3) // defeat Safari bug\n",
       "        targ = targ.parentNode;\n",
       "\n",
       "    // jQuery normalizes the pageX and pageY\n",
       "    // pageX,Y are the mouse positions relative to the document\n",
       "    // offset() returns the position of the element relative to the document\n",
       "    var x = e.pageX - $(targ).offset().left;\n",
       "    var y = e.pageY - $(targ).offset().top;\n",
       "\n",
       "    return {\"x\": x, \"y\": y};\n",
       "};\n",
       "\n",
       "/*\n",
       " * return a copy of an object with only non-object keys\n",
       " * we need this to avoid circular references\n",
       " * http://stackoverflow.com/a/24161582/3208463\n",
       " */\n",
       "function simpleKeys (original) {\n",
       "  return Object.keys(original).reduce(function (obj, key) {\n",
       "    if (typeof original[key] !== 'object')\n",
       "        obj[key] = original[key]\n",
       "    return obj;\n",
       "  }, {});\n",
       "}\n",
       "\n",
       "mpl.figure.prototype.mouse_event = function(event, name) {\n",
       "    var canvas_pos = mpl.findpos(event)\n",
       "\n",
       "    if (name === 'button_press')\n",
       "    {\n",
       "        this.canvas.focus();\n",
       "        this.canvas_div.focus();\n",
       "    }\n",
       "\n",
       "    var x = canvas_pos.x;\n",
       "    var y = canvas_pos.y;\n",
       "\n",
       "    this.send_message(name, {x: x, y: y, button: event.button,\n",
       "                             step: event.step,\n",
       "                             guiEvent: simpleKeys(event)});\n",
       "\n",
       "    /* This prevents the web browser from automatically changing to\n",
       "     * the text insertion cursor when the button is pressed.  We want\n",
       "     * to control all of the cursor setting manually through the\n",
       "     * 'cursor' event from matplotlib */\n",
       "    event.preventDefault();\n",
       "    return false;\n",
       "}\n",
       "\n",
       "mpl.figure.prototype._key_event_extra = function(event, name) {\n",
       "    // Handle any extra behaviour associated with a key event\n",
       "}\n",
       "\n",
       "mpl.figure.prototype.key_event = function(event, name) {\n",
       "\n",
       "    // Prevent repeat events\n",
       "    if (name == 'key_press')\n",
       "    {\n",
       "        if (event.which === this._key)\n",
       "            return;\n",
       "        else\n",
       "            this._key = event.which;\n",
       "    }\n",
       "    if (name == 'key_release')\n",
       "        this._key = null;\n",
       "\n",
       "    var value = '';\n",
       "    if (event.ctrlKey && event.which != 17)\n",
       "        value += \"ctrl+\";\n",
       "    if (event.altKey && event.which != 18)\n",
       "        value += \"alt+\";\n",
       "    if (event.shiftKey && event.which != 16)\n",
       "        value += \"shift+\";\n",
       "\n",
       "    value += 'k';\n",
       "    value += event.which.toString();\n",
       "\n",
       "    this._key_event_extra(event, name);\n",
       "\n",
       "    this.send_message(name, {key: value,\n",
       "                             guiEvent: simpleKeys(event)});\n",
       "    return false;\n",
       "}\n",
       "\n",
       "mpl.figure.prototype.toolbar_button_onclick = function(name) {\n",
       "    if (name == 'download') {\n",
       "        this.handle_save(this, null);\n",
       "    } else {\n",
       "        this.send_message(\"toolbar_button\", {name: name});\n",
       "    }\n",
       "};\n",
       "\n",
       "mpl.figure.prototype.toolbar_button_onmouseover = function(tooltip) {\n",
       "    this.message.textContent = tooltip;\n",
       "};\n",
       "mpl.toolbar_items = [[\"Home\", \"Reset original view\", \"fa fa-home icon-home\", \"home\"], [\"Back\", \"Back to  previous view\", \"fa fa-arrow-left icon-arrow-left\", \"back\"], [\"Forward\", \"Forward to next view\", \"fa fa-arrow-right icon-arrow-right\", \"forward\"], [\"\", \"\", \"\", \"\"], [\"Pan\", \"Pan axes with left mouse, zoom with right\", \"fa fa-arrows icon-move\", \"pan\"], [\"Zoom\", \"Zoom to rectangle\", \"fa fa-square-o icon-check-empty\", \"zoom\"], [\"\", \"\", \"\", \"\"], [\"Download\", \"Download plot\", \"fa fa-floppy-o icon-save\", \"download\"]];\n",
       "\n",
       "mpl.extensions = [\"eps\", \"pdf\", \"png\", \"ps\", \"raw\", \"svg\"];\n",
       "\n",
       "mpl.default_extension = \"png\";var comm_websocket_adapter = function(comm) {\n",
       "    // Create a \"websocket\"-like object which calls the given IPython comm\n",
       "    // object with the appropriate methods. Currently this is a non binary\n",
       "    // socket, so there is still some room for performance tuning.\n",
       "    var ws = {};\n",
       "\n",
       "    ws.close = function() {\n",
       "        comm.close()\n",
       "    };\n",
       "    ws.send = function(m) {\n",
       "        //console.log('sending', m);\n",
       "        comm.send(m);\n",
       "    };\n",
       "    // Register the callback with on_msg.\n",
       "    comm.on_msg(function(msg) {\n",
       "        //console.log('receiving', msg['content']['data'], msg);\n",
       "        // Pass the mpl event to the overriden (by mpl) onmessage function.\n",
       "        ws.onmessage(msg['content']['data'])\n",
       "    });\n",
       "    return ws;\n",
       "}\n",
       "\n",
       "mpl.mpl_figure_comm = function(comm, msg) {\n",
       "    // This is the function which gets called when the mpl process\n",
       "    // starts-up an IPython Comm through the \"matplotlib\" channel.\n",
       "\n",
       "    var id = msg.content.data.id;\n",
       "    // Get hold of the div created by the display call when the Comm\n",
       "    // socket was opened in Python.\n",
       "    var element = $(\"#\" + id);\n",
       "    var ws_proxy = comm_websocket_adapter(comm)\n",
       "\n",
       "    function ondownload(figure, format) {\n",
       "        window.open(figure.imageObj.src);\n",
       "    }\n",
       "\n",
       "    var fig = new mpl.figure(id, ws_proxy,\n",
       "                           ondownload,\n",
       "                           element.get(0));\n",
       "\n",
       "    // Call onopen now - mpl needs it, as it is assuming we've passed it a real\n",
       "    // web socket which is closed, not our websocket->open comm proxy.\n",
       "    ws_proxy.onopen();\n",
       "\n",
       "    fig.parent_element = element.get(0);\n",
       "    fig.cell_info = mpl.find_output_cell(\"<div id='\" + id + \"'></div>\");\n",
       "    if (!fig.cell_info) {\n",
       "        console.error(\"Failed to find cell for figure\", id, fig);\n",
       "        return;\n",
       "    }\n",
       "\n",
       "    var output_index = fig.cell_info[2]\n",
       "    var cell = fig.cell_info[0];\n",
       "\n",
       "};\n",
       "\n",
       "mpl.figure.prototype.handle_close = function(fig, msg) {\n",
       "    fig.root.unbind('remove')\n",
       "\n",
       "    // Update the output cell to use the data from the current canvas.\n",
       "    fig.push_to_output();\n",
       "    var dataURL = fig.canvas.toDataURL();\n",
       "    // Re-enable the keyboard manager in IPython - without this line, in FF,\n",
       "    // the notebook keyboard shortcuts fail.\n",
       "    IPython.keyboard_manager.enable()\n",
       "    $(fig.parent_element).html('<img src=\"' + dataURL + '\">');\n",
       "    fig.close_ws(fig, msg);\n",
       "}\n",
       "\n",
       "mpl.figure.prototype.close_ws = function(fig, msg){\n",
       "    fig.send_message('closing', msg);\n",
       "    // fig.ws.close()\n",
       "}\n",
       "\n",
       "mpl.figure.prototype.push_to_output = function(remove_interactive) {\n",
       "    // Turn the data on the canvas into data in the output cell.\n",
       "    var dataURL = this.canvas.toDataURL();\n",
       "    this.cell_info[1]['text/html'] = '<img src=\"' + dataURL + '\">';\n",
       "}\n",
       "\n",
       "mpl.figure.prototype.updated_canvas_event = function() {\n",
       "    // Tell IPython that the notebook contents must change.\n",
       "    IPython.notebook.set_dirty(true);\n",
       "    this.send_message(\"ack\", {});\n",
       "    var fig = this;\n",
       "    // Wait a second, then push the new image to the DOM so\n",
       "    // that it is saved nicely (might be nice to debounce this).\n",
       "    setTimeout(function () { fig.push_to_output() }, 1000);\n",
       "}\n",
       "\n",
       "mpl.figure.prototype._init_toolbar = function() {\n",
       "    var fig = this;\n",
       "\n",
       "    var nav_element = $('<div/>')\n",
       "    nav_element.attr('style', 'width: 100%');\n",
       "    this.root.append(nav_element);\n",
       "\n",
       "    // Define a callback function for later on.\n",
       "    function toolbar_event(event) {\n",
       "        return fig.toolbar_button_onclick(event['data']);\n",
       "    }\n",
       "    function toolbar_mouse_event(event) {\n",
       "        return fig.toolbar_button_onmouseover(event['data']);\n",
       "    }\n",
       "\n",
       "    for(var toolbar_ind in mpl.toolbar_items){\n",
       "        var name = mpl.toolbar_items[toolbar_ind][0];\n",
       "        var tooltip = mpl.toolbar_items[toolbar_ind][1];\n",
       "        var image = mpl.toolbar_items[toolbar_ind][2];\n",
       "        var method_name = mpl.toolbar_items[toolbar_ind][3];\n",
       "\n",
       "        if (!name) { continue; };\n",
       "\n",
       "        var button = $('<button class=\"btn btn-default\" href=\"#\" title=\"' + name + '\"><i class=\"fa ' + image + ' fa-lg\"></i></button>');\n",
       "        button.click(method_name, toolbar_event);\n",
       "        button.mouseover(tooltip, toolbar_mouse_event);\n",
       "        nav_element.append(button);\n",
       "    }\n",
       "\n",
       "    // Add the status bar.\n",
       "    var status_bar = $('<span class=\"mpl-message\" style=\"text-align:right; float: right;\"/>');\n",
       "    nav_element.append(status_bar);\n",
       "    this.message = status_bar[0];\n",
       "\n",
       "    // Add the close button to the window.\n",
       "    var buttongrp = $('<div class=\"btn-group inline pull-right\"></div>');\n",
       "    var button = $('<button class=\"btn btn-mini btn-primary\" href=\"#\" title=\"Stop Interaction\"><i class=\"fa fa-power-off icon-remove icon-large\"></i></button>');\n",
       "    button.click(function (evt) { fig.handle_close(fig, {}); } );\n",
       "    button.mouseover('Stop Interaction', toolbar_mouse_event);\n",
       "    buttongrp.append(button);\n",
       "    var titlebar = this.root.find($('.ui-dialog-titlebar'));\n",
       "    titlebar.prepend(buttongrp);\n",
       "}\n",
       "\n",
       "mpl.figure.prototype._root_extra_style = function(el){\n",
       "    var fig = this\n",
       "    el.on(\"remove\", function(){\n",
       "\tfig.close_ws(fig, {});\n",
       "    });\n",
       "}\n",
       "\n",
       "mpl.figure.prototype._canvas_extra_style = function(el){\n",
       "    // this is important to make the div 'focusable\n",
       "    el.attr('tabindex', 0)\n",
       "    // reach out to IPython and tell the keyboard manager to turn it's self\n",
       "    // off when our div gets focus\n",
       "\n",
       "    // location in version 3\n",
       "    if (IPython.notebook.keyboard_manager) {\n",
       "        IPython.notebook.keyboard_manager.register_events(el);\n",
       "    }\n",
       "    else {\n",
       "        // location in version 2\n",
       "        IPython.keyboard_manager.register_events(el);\n",
       "    }\n",
       "\n",
       "}\n",
       "\n",
       "mpl.figure.prototype._key_event_extra = function(event, name) {\n",
       "    var manager = IPython.notebook.keyboard_manager;\n",
       "    if (!manager)\n",
       "        manager = IPython.keyboard_manager;\n",
       "\n",
       "    // Check for shift+enter\n",
       "    if (event.shiftKey && event.which == 13) {\n",
       "        this.canvas_div.blur();\n",
       "        event.shiftKey = false;\n",
       "        // Send a \"J\" for go to next cell\n",
       "        event.which = 74;\n",
       "        event.keyCode = 74;\n",
       "        manager.command_mode();\n",
       "        manager.handle_keydown(event);\n",
       "    }\n",
       "}\n",
       "\n",
       "mpl.figure.prototype.handle_save = function(fig, msg) {\n",
       "    fig.ondownload(fig, null);\n",
       "}\n",
       "\n",
       "\n",
       "mpl.find_output_cell = function(html_output) {\n",
       "    // Return the cell and output element which can be found *uniquely* in the notebook.\n",
       "    // Note - this is a bit hacky, but it is done because the \"notebook_saving.Notebook\"\n",
       "    // IPython event is triggered only after the cells have been serialised, which for\n",
       "    // our purposes (turning an active figure into a static one), is too late.\n",
       "    var cells = IPython.notebook.get_cells();\n",
       "    var ncells = cells.length;\n",
       "    for (var i=0; i<ncells; i++) {\n",
       "        var cell = cells[i];\n",
       "        if (cell.cell_type === 'code'){\n",
       "            for (var j=0; j<cell.output_area.outputs.length; j++) {\n",
       "                var data = cell.output_area.outputs[j];\n",
       "                if (data.data) {\n",
       "                    // IPython >= 3 moved mimebundle to data attribute of output\n",
       "                    data = data.data;\n",
       "                }\n",
       "                if (data['text/html'] == html_output) {\n",
       "                    return [cell, data, j];\n",
       "                }\n",
       "            }\n",
       "        }\n",
       "    }\n",
       "}\n",
       "\n",
       "// Register the function which deals with the matplotlib target/channel.\n",
       "// The kernel may be null if the page has been refreshed.\n",
       "if (IPython.notebook.kernel != null) {\n",
       "    IPython.notebook.kernel.comm_manager.register_target('matplotlib', mpl.mpl_figure_comm);\n",
       "}\n"
      ],
      "text/plain": [
       "<IPython.core.display.Javascript object>"
      ]
     },
     "metadata": {},
     "output_type": "display_data"
    },
    {
     "data": {
      "text/html": [
       "<img src=\"data:image/png;base64,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\">"
      ],
      "text/plain": [
       "<IPython.core.display.HTML object>"
      ]
     },
     "metadata": {},
     "output_type": "display_data"
    }
   ],
   "source": [
    "# Initialise plot\n",
    "line_array = []\n",
    "fig = plt.figure(figsize = (12,6))\n",
    "ax = plt.subplot(111)\n",
    "for i in range(N_d):\n",
    "    line, = ax.plot([],[])\n",
    "    line_array.append(line)\n",
    "line, = ax.plot([],[],'-.')\n",
    "line_array.append(line)\n",
    "ax.set_ylabel('No. of Nuclei')\n",
    "ax.set_xlabel('Time')\n",
    "\n",
    "def update(event):\n",
    "    # Data record array\n",
    "    initial_state = np.zeros((N,N_t+1))\n",
    "\n",
    "    data = decay_cycle(N_t,N,N_d,P,initial_state)\n",
    "\n",
    "    count = counter(N_t,N_d,data)\n",
    "\n",
    "    time = np.arange(0,N_t+1)\n",
    "    stable = np.sum(count, axis = 0)\n",
    "    for i in range(N_d):\n",
    "        line_array[i].set_data(time,count[i,:])\n",
    "    line_array[N_d].set_data(time,N-stable)\n",
    "    ax.set_xlim([0,time[N_t]])\n",
    "    ax.set_ylim([0,N])\n",
    "\n",
    "def N_update(val):\n",
    "    global N\n",
    "    N = val\n",
    "    display(fig)\n",
    "\n",
    "def N_t_update(val):\n",
    "    global N_t\n",
    "    N_t = val\n",
    "    display(fig)\n",
    "\n",
    "def prob_update(val,i):\n",
    "    global P\n",
    "    P[i] = val\n",
    "    display(fig)\n",
    "\n",
    "widgets.interact(N_update,val = IntSlider(min=10, max=100000, step=1, value=N, description='Number of Nucleii'))\n",
    "widgets.interact(N_t_update,val = IntSlider(min=1, max=250, step=1, value=N_t, description='Number of Time Steps'))\n",
    "\n",
    "def prob_widget(val,name,rank):\n",
    "    widgets.interact(prob_update,val = FloatSlider(min=0., max=1., step=0.001, value=val, description=name), i=fixed(rank))\n",
    "\n",
    "prob_widg_list = ['Primary Decay Prob','Secondary Decay Prob','Tertiary Decay Prob','Quaternary Decay Prob']\n",
    "\n",
    "for i in range(N_d):\n",
    "    prob_widget(P[i],prob_widg_list[i],i)\n",
    "\n",
    "run_button = widgets.Button(description=\"Run\")\n",
    "display(run_button)\n",
    "run_button.on_click(update)"
   ]
  },
  {
   "cell_type": "markdown",
   "metadata": {},
   "source": [
    "In the graph above, blue represents the number of nuclei which are first in the chain (these perform a simple exponential decay). Green is second in the chain, Red third and Cyan fourth. Finally the dashed line represents the amount of stable species produced by the fourth and final decay. This tends to N at long times."
   ]
  }
 ],
 "metadata": {
  "kernelspec": {
   "display_name": "Python 2",
   "language": "python",
   "name": "python2"
  },
  "language_info": {
   "codemirror_mode": {
    "name": "ipython",
    "version": 2
   },
   "file_extension": ".py",
   "mimetype": "text/x-python",
   "name": "python",
   "nbconvert_exporter": "python",
   "pygments_lexer": "ipython2",
   "version": "2.7.11"
  },
  "widgets": {
   "state": {
    "0005b9683c444ea6a6f92a6f9485a21a": {
     "views": []
    },
    "014b1923a0994d0d96cf831ab846af58": {
     "views": []
    },
    "0150556581db45cbb285bcf1ee4f59ff": {
     "views": []
    },
    "0160221cc14440198ee9b9bbb5a8c8e6": {
     "views": [
      {
       "cell_index": 7
      }
     ]
    },
    "01e4b4539095443ea76fabca82043e7c": {
     "views": []
    },
    "03f57e0cb52d4131a1f0eb86ebc43597": {
     "views": []
    },
    "040059fb5d804b0f9e8a7a8baf3d33c5": {
     "views": []
    },
    "0421c91092d041ebbc679a09a4a2df39": {
     "views": []
    },
    "04465adb75fc4834a0b94a6129773e53": {
     "views": []
    },
    "050a0ddc011542a4a5cd433164fc27f4": {
     "views": []
    },
    "053d4569fb004b59840ba533a7057c2a": {
     "views": []
    },
    "05898d04a20e4e8199c1421ad5480232": {
     "views": []
    },
    "05ccec3b50d04ee7b6ffd7d6b388ef4a": {
     "views": [
      {
       "cell_index": 7
      }
     ]
    },
    "05d8e480d7a7447890bee04874cb20fa": {
     "views": [
      {
       "cell_index": 4
      }
     ]
    },
    "06011d221e6d45a99285e14f3d0710a6": {
     "views": []
    },
    "06401ff84f044eb58aa643bf0fa0b35f": {
     "views": [
      {
       "cell_index": 7
      }
     ]
    },
    "0698aa3fe79141759240d27f560b9914": {
     "views": []
    },
    "0720ae13533e4f04bc760490af7a6537": {
     "views": [
      {
       "cell_index": 9
      }
     ]
    },
    "082efaf4b1fd4b3b8ce8835bff55a965": {
     "views": []
    },
    "0868b15a93534512bb5cd72b7eaa1c0b": {
     "views": []
    },
    "0889a5076d2548698167c02bd839f63f": {
     "views": []
    },
    "08cd4ae5806e4188ad7c537f05d8c65c": {
     "views": []
    },
    "09401037fc384dfa920135c50cc5eaed": {
     "views": []
    },
    "0982d4d0968e484488f5bfa934e086c4": {
     "views": []
    },
    "09bcafd59b424a1ca04a7a215ecc6406": {
     "views": []
    },
    "09d7509fec0c4051935ea44d69841b84": {
     "views": []
    },
    "0aaf8a5ae7804c1e9d6c81176ec81172": {
     "views": []
    },
    "0ad26c10edf54e65a22dd834b4bb3e2d": {
     "views": [
      {
       "cell_index": 7
      }
     ]
    },
    "0bbdf2773f644ac6837ebf630bf436ab": {
     "views": []
    },
    "0c1d17508f594796ad51221a3c55336c": {
     "views": []
    },
    "0c4ba7301d9a433991333882d8a0b298": {
     "views": []
    },
    "0c8ff71474a64e4c8bbda25d7df5200f": {
     "views": []
    },
    "0c9f7e2e37e54f37a35e9be5616d1e1f": {
     "views": []
    },
    "0ca3420a6ab648d183c0fac2da859ea9": {
     "views": []
    },
    "0cff77d9c7a54bf7be1f9b6222e5d2c7": {
     "views": []
    },
    "0d070f10c8d24e9abbe82324897a1445": {
     "views": []
    },
    "0d229e9d51954f0e93e14b77c669a035": {
     "views": []
    },
    "0d2aa089a5f8488cb1d49a714f53a7c3": {
     "views": []
    },
    "0d53a066ab814af29ceec5a2e05ebd89": {
     "views": []
    },
    "0d75143591e643499563dd25bed38754": {
     "views": []
    },
    "0d781ebc445c4829b641fbb365af4a28": {
     "views": [
      {
       "cell_index": 7
      }
     ]
    },
    "0dc92033688b4e5da34393e964d38e38": {
     "views": [
      {
       "cell_index": 9
      }
     ]
    },
    "0e3248a2f36c4283ae592c6a18619bf3": {
     "views": []
    },
    "0e7106f6e5e5452c8de1a3c6bdc8987a": {
     "views": []
    },
    "0e82930d294e4453b3cf63f9e4e3671e": {
     "views": []
    },
    "0e9fc7b79fd343d7b34f62c01d8106d3": {
     "views": []
    },
    "0ee42ab089c14c438ca93d9122986c63": {
     "views": []
    },
    "0efb784e4b354fabae9798607f616fd3": {
     "views": []
    },
    "0f0ab1b8d88545b99b3ed776987cec35": {
     "views": []
    },
    "10a79d7588d34bb5ba43fbb24818c573": {
     "views": []
    },
    "10becaa1dd3f4b16802a2b0219359cce": {
     "views": []
    },
    "114d0a687dcb40cebff2e34cfd139e54": {
     "views": []
    },
    "12332c2ba832455e8f4780509b445114": {
     "views": []
    },
    "1249b8ef4288441c822f7dbf7458d447": {
     "views": []
    },
    "13099eb48f794f40bb9fd0dfe4b9e4aa": {
     "views": []
    },
    "13a149e61e0340d3be796b03c7bb8edf": {
     "views": []
    },
    "13e8ad83da4540e09168cf30a6cf232e": {
     "views": [
      {
       "cell_index": 9
      }
     ]
    },
    "1401ab3e51634ecd8b9ff4ca16aa6564": {
     "views": [
      {
       "cell_index": 9
      }
     ]
    },
    "1404e4e388fc40459402fc0f0fa42544": {
     "views": []
    },
    "14735049ea194b71b25d502bdb993837": {
     "views": []
    },
    "14a3ba464f4e421a85909f67aa67c5e6": {
     "views": []
    },
    "14c2a90922bd4f04ab4f688f4441f6c4": {
     "views": []
    },
    "14ef460481694e259ba2f73d60cd2bcd": {
     "views": []
    },
    "152488d891454fa2b82910763103feea": {
     "views": []
    },
    "154bd62482a0468ab5b426be7fc746af": {
     "views": []
    },
    "16a12eb55c7f402aa370636fe7f11189": {
     "views": []
    },
    "176149ca0e424b5da7ae48c70ce24d83": {
     "views": [
      {
       "cell_index": 7
      }
     ]
    },
    "17d681f72af34e91ad13352acd7859e1": {
     "views": []
    },
    "180fb316ed924b39a6c4f621abf2635e": {
     "views": []
    },
    "1814d431d2fa44739138a4599f9e44ea": {
     "views": []
    },
    "184a4925714b4ace9ad1251eff9a4b48": {
     "views": []
    },
    "19c4d550ab0d48509d2ed520bb275f82": {
     "views": []
    },
    "19e004d5759541f5b3a2b7d7842632e4": {
     "views": [
      {
       "cell_index": 4
      }
     ]
    },
    "1a38a5f1c21548ae9f30d4f9df0a14ff": {
     "views": []
    },
    "1a38d81acb984306af88b6e85c01f73b": {
     "views": []
    },
    "1a4059db849b47759446006708b11e3e": {
     "views": []
    },
    "1a80712dfb5a49a998f77096e8f250d5": {
     "views": []
    },
    "1a8ad42d531740aca830a580150d2d47": {
     "views": []
    },
    "1ad303f8b93b47d8b22a74f54fbf6cb1": {
     "views": []
    },
    "1b011991355d4307a007c22ccab85112": {
     "views": []
    },
    "1bf9dd9aad06440795b486c3b86e28c2": {
     "views": []
    },
    "1cc664e4fb054bfc80ecc2e57140dd8e": {
     "views": []
    },
    "1d280f8e8ece41899d89f0cc989fe3fe": {
     "views": []
    },
    "1d7c8adfe803436b836992222157dd84": {
     "views": []
    },
    "1d8accf0c27b4a509473e38bd58faf13": {
     "views": [
      {
       "cell_index": 7
      }
     ]
    },
    "1e46e76097bd4d52af8d2eaf885733b3": {
     "views": []
    },
    "1ebc7edcfdba4df39b0578a259e12c7e": {
     "views": []
    },
    "1faa00ca79284f6d8a2cbc7c9d02dac4": {
     "views": []
    },
    "1fbb1f26fc3449378821f3a2bb400382": {
     "views": []
    },
    "20078761761840a1893bd55d7f801798": {
     "views": []
    },
    "201f9b3245284a55a136c1a3f194e52a": {
     "views": []
    },
    "209d23af910c4175bee96b900714f8e1": {
     "views": []
    },
    "21aa4daa3dea4697abaafc4701c095d7": {
     "views": []
    },
    "21d2d71045cb42fe8896dc6b57d25919": {
     "views": []
    },
    "231afa1a2db045f19eb3e3c8e63a191c": {
     "views": []
    },
    "2345fa8a6bbd42328e238654636c6e25": {
     "views": []
    },
    "2370a39514f94dc6b27d4801f3d971ff": {
     "views": [
      {
       "cell_index": 9
      }
     ]
    },
    "23c80adb7756492ea59153c6251672b4": {
     "views": []
    },
    "24767790b0c4441990922ae447b9d9b6": {
     "views": []
    },
    "2510b9f2dd794d07b607d5e59bbc3f2e": {
     "views": []
    },
    "25249471f1f9415c94664e251cdd4cd6": {
     "views": [
      {
       "cell_index": 9
      }
     ]
    },
    "254558da08084cec8935dc5b9d3bb434": {
     "views": []
    },
    "263c6933d70f44e78b5685ff4435cf68": {
     "views": []
    },
    "264b818361dc434689d57d3978317089": {
     "views": []
    },
    "265a9fc5ec874aad9c9a501800ca1309": {
     "views": []
    },
    "26c57d568ca54c84867252d6b4d91c84": {
     "views": []
    },
    "277204e5cc5240a5ade5fcbd6be82a9e": {
     "views": [
      {
       "cell_index": 9
      }
     ]
    },
    "28f9e70a88114e4eaa93b13e427e7c20": {
     "views": []
    },
    "29dff1fa753f4e3480f991c1343b5d9f": {
     "views": []
    },
    "29eb9a64b2fd4ef48fbad179af6e1c1c": {
     "views": []
    },
    "29ee387ddd8f4808818e7576f3b5cc1e": {
     "views": []
    },
    "29f17fde67be485c9a5c38c31886bad0": {
     "views": []
    },
    "2a20f7f133324d8a97bdaf85f2621bc8": {
     "views": []
    },
    "2a91e1f8ca864248b99b7ae1da4d1d76": {
     "views": []
    },
    "2aa33db7207444e4b18588759cc73072": {
     "views": []
    },
    "2abb297d4bb24f3d9af64900991c095e": {
     "views": []
    },
    "2ace506c40da4895b076f147d523d27a": {
     "views": []
    },
    "2b66e46b12c6425e99f852845a767274": {
     "views": []
    },
    "2bd05f720cc14b5e8fe97cee27e25f50": {
     "views": []
    },
    "2bd9b0d05d9a47ea82d21609e6b5e42f": {
     "views": []
    },
    "2bfc8e2fba66491da8d4cb4a86b83a18": {
     "views": []
    },
    "2c2573d05642405c82e159b5a5604444": {
     "views": []
    },
    "2d9d71a4b0ea403f9468f071bb50c3d2": {
     "views": []
    },
    "2e2a26f638ed42b185c2330342dcdfe5": {
     "views": []
    },
    "2e56b3b7425f48c9b7b46bc34ed72998": {
     "views": []
    },
    "2e740db0c2744131810c2cdb7f777153": {
     "views": []
    },
    "2f84be6e4f00459ebf3c3e8b04d1e7d7": {
     "views": []
    },
    "2f8a224a347b4183aeff569eebfac72a": {
     "views": []
    },
    "300c70bf68554335a310b52621c52c31": {
     "views": [
      {
       "cell_index": 9
      }
     ]
    },
    "303ed882e0534b2bb1c8bd732d39f696": {
     "views": []
    },
    "309f6da940174acaabc6f4dd200e41e2": {
     "views": []
    },
    "30b7a8fed7a940ad8597bf7194a382ad": {
     "views": []
    },
    "317b36581f8647fbb1c317e6a6ef8db0": {
     "views": []
    },
    "31c3e1c57e974e2885c1ee82a6491878": {
     "views": []
    },
    "31ebea732cf84565a6266408ba10ed54": {
     "views": []
    },
    "323515c43b754c7cb053b9c2ae5c933f": {
     "views": []
    },
    "32497ee77db44e94bbc4fbc30f1af7f3": {
     "views": []
    },
    "324f7ac7a7a24e3f8480bc9007e6ad61": {
     "views": []
    },
    "32639ea6ef2843dcbb43fdd2173b3ebc": {
     "views": []
    },
    "32a7fa3dc4294959a0992ce20b1f1994": {
     "views": []
    },
    "32db9946490b4204b4ad325517ba9343": {
     "views": []
    },
    "339f6f31d29b482da2bf6c550bde47e6": {
     "views": [
      {
       "cell_index": 7
      }
     ]
    },
    "33e652ed0a6545f4b85a72ddf375154c": {
     "views": []
    },
    "33fbb5efb1d44ef08d162da10e660c49": {
     "views": []
    },
    "34393d01f0554616967c334e772fe7c1": {
     "views": []
    },
    "345bfe6d7f4a481fa1e79be7664a0384": {
     "views": []
    },
    "347c0171e56e4108b2dfb1278e786273": {
     "views": []
    },
    "351d51bc430847f4aae39b3b84ca8592": {
     "views": [
      {
       "cell_index": 7
      }
     ]
    },
    "353eb7d8ac914c2abb4b11a2a68343be": {
     "views": []
    },
    "355170c4c7da4006a46a083bb4d210cd": {
     "views": [
      {
       "cell_index": 4
      }
     ]
    },
    "35765c04cdc64cc8904976745060ddf8": {
     "views": []
    },
    "35e8a7516a5d40b8b468b5b69d7f0208": {
     "views": []
    },
    "35f1a9ec63e74072ac7bf1cf2f7679b5": {
     "views": [
      {
       "cell_index": 4
      }
     ]
    },
    "3669172883ae462095e0561822481730": {
     "views": []
    },
    "36849a9c599744c0b2ddf42f5b1053cb": {
     "views": []
    },
    "36967d4c148647f7840b6d6d18aa3015": {
     "views": []
    },
    "371b4d6e9b614cbd9400f12fc40834d4": {
     "views": []
    },
    "371bdda3feef4e16b0ed0e4016d92972": {
     "views": []
    },
    "375aa4e404f24721b29d321e3051f17b": {
     "views": []
    },
    "37bc8820274642ef8d5caffa6b5f41ba": {
     "views": []
    },
    "38488af40bc84216b5a3dfc3588b5cff": {
     "views": []
    },
    "384c5fa4cf964e6a97e6d0285337a59b": {
     "views": []
    },
    "386dd60035f940afb78b63a1f0c7fe56": {
     "views": []
    },
    "38a1c43d13384121a981e6f1dd82956d": {
     "views": []
    },
    "38aa7b4c5624413dabde73db75094cdd": {
     "views": []
    },
    "38d374713ff74566aeb23da04d0489bc": {
     "views": []
    },
    "38f6db487bde4de0b0a640bcd42794ef": {
     "views": []
    },
    "3973d663671a414ca0baa173e0636300": {
     "views": []
    },
    "39caf90ab7d443ab85742d4c6d6e5539": {
     "views": []
    },
    "3a2d4dbdd293429cb339f8e9e668f766": {
     "views": []
    },
    "3a5e7c962bdc4ac7adc4d17f4b0f3188": {
     "views": []
    },
    "3a86fa2ac1554583abae1ed9eb2f5508": {
     "views": []
    },
    "3aaf5e9366fe473bb3a120820b294524": {
     "views": [
      {
       "cell_index": 4
      }
     ]
    },
    "3b41d3524c104746916125ab560e5d3d": {
     "views": []
    },
    "3bd5cd4513f0422a930601adb364631e": {
     "views": []
    },
    "3c38f89787874fb998576450560d08a4": {
     "views": [
      {
       "cell_index": 7
      }
     ]
    },
    "3cadb883819b4b3f92abf6c82bba732e": {
     "views": []
    },
    "3ce4205736ee4a84b003c4dc8e8b9d2a": {
     "views": []
    },
    "3ce837ae02e0480693af2c2dc75df771": {
     "views": []
    },
    "3d807c26a222488ea5d46bbbbde51362": {
     "views": []
    },
    "3dd8f191db6d448abf84324612b19c8d": {
     "views": []
    },
    "3e508cfa3f364f50946c89a8d5671f41": {
     "views": []
    },
    "3ebe166592bb47f48cdf4a3b59462d19": {
     "views": []
    },
    "3ee38039a04948a694f0e321f9053804": {
     "views": []
    },
    "3f112c9d13a9442e9267de4596239477": {
     "views": []
    },
    "3fc192c06fcc447eb8a72779e86ebe55": {
     "views": []
    },
    "3fce4d1f47eb4dc0af6aad9b3a27b818": {
     "views": []
    },
    "3ff05e44f40c4d2da2b64e7e476337a7": {
     "views": []
    },
    "4032d530970c4cbba106660ad41e1506": {
     "views": []
    },
    "40b168dfd79347b784870a75ab33a444": {
     "views": []
    },
    "41b59333753e4d2f9cfaa114615aba38": {
     "views": []
    },
    "41ef3c5e38b743bb92dd0a76234ca48d": {
     "views": []
    },
    "4212e3d7875142b2859d7ce927b2e46e": {
     "views": []
    },
    "427cdcd48af742e484f1513a274aafad": {
     "views": []
    },
    "430323d6b99b4dfbaebfc67a95a5f380": {
     "views": [
      {
       "cell_index": 9
      }
     ]
    },
    "431e510e732d400a9b0d3dac931fbabf": {
     "views": []
    },
    "4442710320114adb94bf8a3a94f45885": {
     "views": []
    },
    "449aa40b42244f2eaeecef2b27223721": {
     "views": []
    },
    "4522d8a6249c4123a75dcd245416b234": {
     "views": []
    },
    "453efd11cbd04fde8b75aded661cef16": {
     "views": []
    },
    "45a05ac196d44bf8bd7659ae30ed4617": {
     "views": []
    },
    "45d93f04f628458f83d07a366dedc28d": {
     "views": []
    },
    "461bfeba54e54eadb6de73ea80377652": {
     "views": []
    },
    "469c9f8607484dec87258ede23720984": {
     "views": []
    },
    "47a5b0541da642d48b3ac7a45c0963da": {
     "views": []
    },
    "47ce391f28804596b0f4076c8d53c527": {
     "views": []
    },
    "483029893f4648aabf33e2414cf7242c": {
     "views": []
    },
    "491813cfe71c4457819bd751c176606f": {
     "views": []
    },
    "494021f16495452e98e5016af26fa0d6": {
     "views": []
    },
    "494475e5615e48208362f62742a29fab": {
     "views": []
    },
    "495dbabe72ab4d3cacd3a2e79a4f2096": {
     "views": []
    },
    "4983eda152544838bd301a583a66f4a5": {
     "views": []
    },
    "49afe274c775497597bb5410eea801f3": {
     "views": []
    },
    "49cd2bd2b1fe42a79f265729432948f8": {
     "views": []
    },
    "4a0f52d2c6394b05980a33a01307467e": {
     "views": []
    },
    "4a5e2dd4a81a4949b9bc5cc96f3ae329": {
     "views": []
    },
    "4a6bc331cbdb432882ec2879f7885714": {
     "views": [
      {
       "cell_index": 7
      }
     ]
    },
    "4b1b499505f6448d9d7d4b7f017f7326": {
     "views": []
    },
    "4b232b375900400183efe0185d083170": {
     "views": []
    },
    "4b263f36a45b48bbbd9a6886ad5c5fc9": {
     "views": []
    },
    "4b9b4f77fcc047daa83ef582a67c35cb": {
     "views": []
    },
    "4c04a9e4a6714a6b93e234fc41611867": {
     "views": []
    },
    "4c50b1731fac4094993f4a82acda8362": {
     "views": []
    },
    "4c590078dda54100a85463d21f2b27eb": {
     "views": []
    },
    "4c6933122ef047e8843d8c4e9e7a0ef2": {
     "views": []
    },
    "4d5ce6d239a44ed2949b6a7559af6371": {
     "views": []
    },
    "4d6bbf1dfdf540378d497bc494276111": {
     "views": []
    },
    "4da93c7560894e829ed3c763dec7ddba": {
     "views": [
      {
       "cell_index": 4
      }
     ]
    },
    "4df21e6d21144eeab203791e5b397591": {
     "views": []
    },
    "4efa7b3c6630427aab911b7b795ad3af": {
     "views": []
    },
    "4fa881e9e1f64379847cd5d3a4811a4b": {
     "views": []
    },
    "501b707835c94264850b656d973573ef": {
     "views": []
    },
    "5036b58fcf0d4bf1856ec4fe913b6e19": {
     "views": []
    },
    "5094c4f5b940426f80f37df5f8768641": {
     "views": []
    },
    "50b9ffef69cb4748bc0a5ee503d9afd5": {
     "views": []
    },
    "50cc6e3e5c064fc4b1d58485ac109f19": {
     "views": []
    },
    "5136de4fa6324a86b9b3b53b4a69d741": {
     "views": []
    },
    "51ceb3fcd508443d8bb91db9626719ac": {
     "views": []
    },
    "5205a50d82584c93bace552400298004": {
     "views": [
      {
       "cell_index": 9
      }
     ]
    },
    "53712ea0a3dc4769938f335e1b4ecdf1": {
     "views": []
    },
    "539523dacc8b47cd961feee02b463011": {
     "views": []
    },
    "53ba7a5b3ea44a69bcd53eadf4f28487": {
     "views": []
    },
    "53d345f4acda48db96810a4dda49a856": {
     "views": []
    },
    "53d75b9a36154c8094b82bb97ddf63ce": {
     "views": []
    },
    "54647e7c437e4cedb43fa3d92d1821c5": {
     "views": []
    },
    "552120d7816b498ba0c019db5f15a8b6": {
     "views": []
    },
    "5575dbd1ab3d4c06b1ffc1e481bd139a": {
     "views": []
    },
    "55c75dd28a4e40c4a7c1bd624785c730": {
     "views": []
    },
    "55d49b264a78469f8f31c25f7802228f": {
     "views": []
    },
    "561c99e188004540b69f955e65990338": {
     "views": []
    },
    "5632b0636b534b4f810eab725157eb75": {
     "views": []
    },
    "56bb69d05bc546789c819c0316a4846b": {
     "views": []
    },
    "57d989a67171468cb120563c49679c6e": {
     "views": []
    },
    "58565802c4b645f9a3b1d5f6474a7b87": {
     "views": []
    },
    "59056bf0cf6c4eb0add4acd369907ecb": {
     "views": []
    },
    "590c27fb16cd4478b6f5176bea9d4fb2": {
     "views": []
    },
    "5921ef876e1a43af91f1a4ae7aa9ef15": {
     "views": []
    },
    "593a63aa65904a64a707be761d4b7d54": {
     "views": []
    },
    "5967aa38c25840e89a48712784de36db": {
     "views": [
      {
       "cell_index": 9
      }
     ]
    },
    "59b95579a9dd452db42b695d8e8b7076": {
     "views": []
    },
    "59c4cb6cc0f74a5a8f6f9f6c8397ca5a": {
     "views": []
    },
    "5a06a77bf4c940738f3a59efca9c11c5": {
     "views": []
    },
    "5a9ceabf18bc447ba9989bcbf414db8d": {
     "views": []
    },
    "5ad23703807140a4b0d337a193e1f355": {
     "views": []
    },
    "5c4939edfcd54ec9985991560d183ee8": {
     "views": []
    },
    "5c59a1462160412c96087b50ce3605b5": {
     "views": []
    },
    "5cce705df03a498e869a3725aabec697": {
     "views": []
    },
    "5d08e7d46fb84439bb2d86827e5274ca": {
     "views": []
    },
    "5dabc3a9f6884bcbbe9dc173c3c7fa06": {
     "views": []
    },
    "5dec1c1ca02747d5a9d625a0949d89b0": {
     "views": [
      {
       "cell_index": 7
      }
     ]
    },
    "5e50dab3220646a9a878404bd87ce9ed": {
     "views": []
    },
    "5e837d2320d34a4aa575136aa688cfa9": {
     "views": []
    },
    "5f318a7b1b714c1aa4e50140d0c1d433": {
     "views": []
    },
    "5f38c27c0ec646c5a2ffaccecd61b352": {
     "views": []
    },
    "5f43ec21fbcd48c2a6c2166c28293593": {
     "views": []
    },
    "5fad44e096034fafb08a87059048766c": {
     "views": []
    },
    "5fd1e538e045497c8b3de7db8dbb5ba6": {
     "views": []
    },
    "5fda3eab78934fdaa6f34b3f4df60394": {
     "views": []
    },
    "5fda5f62661b454486c44fb7614ff0b2": {
     "views": []
    },
    "60e8d206c5b0403fa2d6d61d3d3f3ff7": {
     "views": []
    },
    "610e6ca155bf431eb0f08375fd51bb1b": {
     "views": []
    },
    "61b0086071e147048fe8be97bd068c2e": {
     "views": []
    },
    "61f4487178354bd6ba772aaf688f25ff": {
     "views": []
    },
    "6260a67a078f4eb292b53f3280b11eee": {
     "views": []
    },
    "62fd6ff77d4844009bacfedea8e2fece": {
     "views": []
    },
    "6340ced413f742dd8777f454134a9694": {
     "views": []
    },
    "6369f8c72ea54d35a150d1b577dffc19": {
     "views": [
      {
       "cell_index": 9
      }
     ]
    },
    "638dc76f044c46daa48f2e8316b60f70": {
     "views": []
    },
    "6408f8a7904e40f193ad3aa05d0de0b2": {
     "views": []
    },
    "6419e821313544269355c54917ef688e": {
     "views": []
    },
    "64b7de8438004f58a1098753bf055a97": {
     "views": []
    },
    "64bc4c2494d7407f9747da13e6299904": {
     "views": []
    },
    "656e3396607d4461b97048b12f24b201": {
     "views": []
    },
    "65b912c4cf294fc089bb7d8ecf8d2808": {
     "views": []
    },
    "65f6114083f244cd89e603dc4de326b4": {
     "views": []
    },
    "67aa3788735b47759220093eda5ac4d3": {
     "views": []
    },
    "680b13bcf1274ee6a2ee56083b2ba319": {
     "views": []
    },
    "68229616be664d33b7a75aee3d1bca8f": {
     "views": [
      {
       "cell_index": 4
      }
     ]
    },
    "68b650ed3edd448680643ceb661df0ba": {
     "views": [
      {
       "cell_index": 9
      }
     ]
    },
    "68c31c915adc42d582958f72613426c2": {
     "views": []
    },
    "68dad8f5a99c4dc2895d6a852a2e7831": {
     "views": []
    },
    "690c857f8ef64cabb94f0fb159d9fd9a": {
     "views": []
    },
    "69f9500f4df643168e2c8630f6aad33a": {
     "views": [
      {
       "cell_index": 9
      }
     ]
    },
    "6a320de948e84c3e829f0ec9618da053": {
     "views": []
    },
    "6af936acf3844ae288ae78c5dbb701b9": {
     "views": []
    },
    "6b55d7807f044e14a4efb81a70d60f96": {
     "views": []
    },
    "6c584e3419d34c118b5a2c75ee41d6f8": {
     "views": []
    },
    "6d077f8f0fb34d549992f7a4ecaa5747": {
     "views": []
    },
    "6d716e221df64184a12e5925964aac01": {
     "views": []
    },
    "6dbad7207378420ebae719fdf2418269": {
     "views": []
    },
    "6e4472da56b4464c90c29c198900bbee": {
     "views": []
    },
    "6e478ed7a45e4e2e8725b4b50feb94d2": {
     "views": []
    },
    "6e75766d14954ab2ad9e8f705877e96f": {
     "views": []
    },
    "6e9899ca3d2c4a32bd2ce9d7f8bcc3e0": {
     "views": []
    },
    "6ef8bb38914248baae1a7a907098fca1": {
     "views": []
    },
    "6f4b762856bc4bee83283a9af19c992b": {
     "views": []
    },
    "6fedd144e58349208391e83fd8f5c3e3": {
     "views": [
      {
       "cell_index": 4
      }
     ]
    },
    "703113d5fad04765ac56c3727b60274c": {
     "views": []
    },
    "7056d7a95bf146a8b046dfcd8570b31f": {
     "views": []
    },
    "7080d0179aaf4eccb60b27822a1ae824": {
     "views": [
      {
       "cell_index": 4
      }
     ]
    },
    "7092f1e9b49948bb921b7815b55287cc": {
     "views": []
    },
    "70bd1ac2c7004aa0b2e1128e1fa6d4b9": {
     "views": []
    },
    "7216f437b4e9491da688d3c25b1eeff8": {
     "views": []
    },
    "72409fd792db4e438f1115773eff1a87": {
     "views": []
    },
    "72de700be3d440bcad280995f7dba775": {
     "views": []
    },
    "72f89ff377094e4aa85a76eb2a6563c7": {
     "views": []
    },
    "72f96606a9b04a3cbca2ca07cfa33d96": {
     "views": []
    },
    "73a31efab52744c9bdb5abefeab52362": {
     "views": []
    },
    "73e19c7baa164159a0fb73411356b219": {
     "views": []
    },
    "73f5bde261a641ddacef7cdbb044431a": {
     "views": []
    },
    "7483515644804a8494de41b5c89928e3": {
     "views": []
    },
    "74dcbc71df7740538f683844a56de4a7": {
     "views": []
    },
    "74dcccfbc1d94e3e81ab9939d18717c7": {
     "views": []
    },
    "761b9f55f5954784b745410155ce7b12": {
     "views": [
      {
       "cell_index": 9
      }
     ]
    },
    "764d1f00db844798b36745b8e7823d87": {
     "views": []
    },
    "772c2e33dd884ae9a15bf967740c5b6c": {
     "views": []
    },
    "773cca436e004971b70eeb39fe59615a": {
     "views": []
    },
    "781be4b42c3e4e5d9dcfac22b896ca39": {
     "views": []
    },
    "7838d27985a3430ab218e30aa5ef5ca8": {
     "views": [
      {
       "cell_index": 4
      }
     ]
    },
    "787440d4384e460691db35cdb73c3113": {
     "views": []
    },
    "789457b21681445b9f9e63aa444df7ce": {
     "views": []
    },
    "78baf3a0f2dc47debfdd03f86f0fbccc": {
     "views": [
      {
       "cell_index": 9
      }
     ]
    },
    "78c28df1719341b8b781d5831df258c3": {
     "views": []
    },
    "78c80a2cbb1043bbb10657aff1023676": {
     "views": []
    },
    "79ab70737dd54891b9e664f7cd93d063": {
     "views": []
    },
    "7a7a5f88519a4120a26b9c4dfb1926e6": {
     "views": []
    },
    "7aa5faf305894f5183422cbe7ec43593": {
     "views": []
    },
    "7ae5a6451d884ee29ff8927b1216a111": {
     "views": []
    },
    "7bd55436f9444f41b1950dd9c6c5c1f8": {
     "views": []
    },
    "7bfbdb31aacb4161a5da6373accb8b6e": {
     "views": []
    },
    "7c823c25e48644cfa3f11dbae92b0fd3": {
     "views": []
    },
    "7ccbb0ac9af64094a32c6d85b9b10d1b": {
     "views": []
    },
    "7cfe5b3719b143c798381a684006cfdb": {
     "views": [
      {
       "cell_index": 9
      }
     ]
    },
    "7d28ae5722a147489d541c46954a1e28": {
     "views": []
    },
    "7d939e1178e5457da2bf4213d6e6a65a": {
     "views": [
      {
       "cell_index": 9
      }
     ]
    },
    "7dbf34c35494412c9b2499577626e4cc": {
     "views": []
    },
    "7efb702d273c40d6adef32a4c2321700": {
     "views": []
    },
    "7f063af61aec4e32b59f45cb41e2e049": {
     "views": []
    },
    "7f9b7a4ed48243d7b6b0f26a587a0f59": {
     "views": []
    },
    "804edb3e13eb4f708a44615f0cac44a1": {
     "views": []
    },
    "80a6ffa93aa74db9ab5b8bcac307ab1c": {
     "views": []
    },
    "812dc7003ab6415983d188ce44da75bc": {
     "views": []
    },
    "8191d9e7dd9542e2a2e37035465eec84": {
     "views": []
    },
    "81fa8fdd21054694921ca5c1ee0e7c21": {
     "views": []
    },
    "83a0144e09e5418e83482d7117cb7d55": {
     "views": []
    },
    "83ff87e77dca4eb6a8a32df638af3a37": {
     "views": []
    },
    "84e078a7b03d431fa89bd20ad45cc4d1": {
     "views": []
    },
    "857aadaccd374f50aac0fa3b9136b6b1": {
     "views": [
      {
       "cell_index": 9
      }
     ]
    },
    "85c5ea6d8d794e9399c287c21fa696a2": {
     "views": [
      {
       "cell_index": 7
      }
     ]
    },
    "8614078d61b44a9fae73fb86d53d3746": {
     "views": []
    },
    "86c15dfcb9b84ab9a2b118966835f6f0": {
     "views": []
    },
    "86ca8fed05bd40f0be573ef8b4f7654e": {
     "views": []
    },
    "8759f580f8234c63873e25582e92b94a": {
     "views": []
    },
    "88a8ad38485f406ab44690178cb9dc07": {
     "views": []
    },
    "88e0dfdcbfa946c1a7c997b2d5c4b348": {
     "views": [
      {
       "cell_index": 4
      }
     ]
    },
    "894473794037450aa39c3f29c8aaffa1": {
     "views": []
    },
    "8968a92011d146da90322729e6c3047a": {
     "views": []
    },
    "896ce6d9fabc4f8d99e74dfe8f94aedd": {
     "views": []
    },
    "8a5dd762dae146388bc3e1acafc7b1bb": {
     "views": [
      {
       "cell_index": 7
      }
     ]
    },
    "8b66a757d8db41a3ad76d1b9c6b1739b": {
     "views": []
    },
    "8b957b83b96e45a5a94f65b5a4ba5617": {
     "views": []
    },
    "8bfc46453af94695993d4909fd5140dc": {
     "views": []
    },
    "8c02dba9603145e1999170bcfea45c30": {
     "views": []
    },
    "8cabdeb01a554523a99a9aec9740d267": {
     "views": []
    },
    "8cf28a3de2d249b0b8621b96bdc2b862": {
     "views": []
    },
    "8d0dc0f288ff4454adabfe0b432ce8c0": {
     "views": []
    },
    "8da0ce78b1154429943ebef99e7b2bfa": {
     "views": [
      {
       "cell_index": 4
      }
     ]
    },
    "8e2cf049371f471aaba9375afebd3356": {
     "views": []
    },
    "8f5c7fbf5a0f4fdea801299d5a48f7cd": {
     "views": []
    },
    "8fca8f966ba841c4a3630be75c2c8584": {
     "views": []
    },
    "9000b2be5fc14b9a835aa92eaf18a8aa": {
     "views": []
    },
    "901826b4a297479d939775e43523313e": {
     "views": []
    },
    "901fa2ec8bfc4477ba02b15e8524ae67": {
     "views": []
    },
    "9064b34b0fa748ed942fe9efddda740a": {
     "views": []
    },
    "90945c0d976b4924a0b38ee11cbfd2db": {
     "views": []
    },
    "90eb1726e45b469f8b24ae377263dc62": {
     "views": []
    },
    "917141a1c38440279e8f1e87586bdb7a": {
     "views": []
    },
    "924f80c22018407da7a71504393ccac8": {
     "views": []
    },
    "9273cfb5f69e4dc2b864f97686c73460": {
     "views": []
    },
    "930717de68f04233a63bebd013fa1102": {
     "views": [
      {
       "cell_index": 4
      }
     ]
    },
    "93fa7b8a2d284c3b95b6b8e53f742e6d": {
     "views": []
    },
    "94ba507e998745d490af4cd3beb1e1d2": {
     "views": []
    },
    "94cd27d611f34e2390c784a4693db495": {
     "views": []
    },
    "9527fb22fb2d403c821ad16d8100a231": {
     "views": []
    },
    "9592b15ba253461aac518423e14d1457": {
     "views": [
      {
       "cell_index": 4
      }
     ]
    },
    "967071b1d8754230bdb7ebcd67a20f70": {
     "views": []
    },
    "967f63996063499ab0614561f9d480cc": {
     "views": []
    },
    "96ad638433624582884e5a24fd73c019": {
     "views": []
    },
    "96d524e18c644b59b011d21f720a277a": {
     "views": []
    },
    "973b5ba639bc41daadc8dd68cff87320": {
     "views": []
    },
    "975beca8d7c748a5a7b135250d02e8d9": {
     "views": []
    },
    "97941e8627454aaf8b995252934ca988": {
     "views": [
      {
       "cell_index": 7
      }
     ]
    },
    "98703069128a455085982bb38edd139c": {
     "views": []
    },
    "98c88caf2f4f4c49ba0864bc016ede03": {
     "views": []
    },
    "98cc8ba7d52b40129d868c2f095f0c6f": {
     "views": []
    },
    "98f953a556d34034bbb7d0b86b12596d": {
     "views": []
    },
    "99c1c66bf6964af08a5768a8c30fb2fc": {
     "views": []
    },
    "9a1928b0445c48348104bbf3cc8ab0fa": {
     "views": []
    },
    "9a24c73e28fa445f83c2ec0e4be42348": {
     "views": []
    },
    "9a496b47a29447abbf4c8f2e687601ab": {
     "views": [
      {
       "cell_index": 7
      }
     ]
    },
    "9a93fa9418ae4a78b7a025773fa6c796": {
     "views": []
    },
    "9ac9dc2706ab4489903536a6af351650": {
     "views": []
    },
    "9ae0c8a4bb4d4997b48f61fa55c44f9e": {
     "views": []
    },
    "9b87b896002e47a99c052f06ec781b66": {
     "views": []
    },
    "9bfe77e594ab4fec87772403da221fe9": {
     "views": []
    },
    "9c738a7af9494adc969197b178d90c62": {
     "views": []
    },
    "9c75de43ce6e4c729a2708c34dd7fe59": {
     "views": []
    },
    "9c85ca1e9f29456e8a993d8cd493780b": {
     "views": []
    },
    "9ca033ca44674d68ae80fac2fc8bf9b5": {
     "views": [
      {
       "cell_index": 7
      }
     ]
    },
    "9d92b3e18b1e4804bd1aa31b379f0809": {
     "views": []
    },
    "9da169a9887449f598e5427b1e5936da": {
     "views": []
    },
    "9e35795278fa4e2cbe04bf6a51dbc7ce": {
     "views": [
      {
       "cell_index": 7
      }
     ]
    },
    "9ee1954d3e0f4b9984567a3f00afb6a1": {
     "views": []
    },
    "9ee523eb5bfc4a8d9a4133c64e1b167b": {
     "views": [
      {
       "cell_index": 7
      }
     ]
    },
    "9f2b48c014d04ef38a98d43bac88e12c": {
     "views": []
    },
    "9f30642c81a74dcc91533a116f2e3a96": {
     "views": []
    },
    "9fabcabbea2e4fc0b3181e2aba8ff7be": {
     "views": []
    },
    "a04830d8b3e449c7aa2e27101740c66d": {
     "views": []
    },
    "a09c006777bd4f98a64afac1f4da62e3": {
     "views": []
    },
    "a0cdb5d32342442fbac80008f028d8b8": {
     "views": []
    },
    "a0e42550f8944f19ac76bc95869a8176": {
     "views": []
    },
    "a1a7e830ba034170bf981acbda41c81d": {
     "views": []
    },
    "a1bd433283d047dcb0d664c8bd06a35e": {
     "views": []
    },
    "a1f066c3a9024fbabb8c5e3e65993b30": {
     "views": []
    },
    "a2930dcab68e4900a729d4fe2f26124f": {
     "views": []
    },
    "a2ce991930224c57bec40b601f074f08": {
     "views": []
    },
    "a2e02cf8b27b493e98a2e00836555f62": {
     "views": []
    },
    "a312aafcf97d45a4b50360a96363c04e": {
     "views": [
      {
       "cell_index": 9
      }
     ]
    },
    "a3e2b59fdcb840e08e55e82cc88b3218": {
     "views": []
    },
    "a5198db41b644d6f9961f6084136cd0f": {
     "views": []
    },
    "a5c42514baf14eb99a4d69be93463321": {
     "views": []
    },
    "a60f53efb2c44c7cb7edf9bf8f2b0ff6": {
     "views": []
    },
    "a66cc8f3999e4bb5a896fdfcbaa38b1e": {
     "views": []
    },
    "a68249f222c84de0a416a597e58330f3": {
     "views": []
    },
    "a69971595f9441c1b87fa2e67c469a04": {
     "views": []
    },
    "a6efb2f83b064e87bd6140f6fcd5fd2d": {
     "views": []
    },
    "a71c7e26f2a64f6aa11a3cd777c1a1d3": {
     "views": []
    },
    "a761d372e4274cc4ba18bb25edcc2d11": {
     "views": []
    },
    "a7e477b823a944ab8cd23746e08ddd97": {
     "views": []
    },
    "a8f18d8499da415ba26a061560926f5a": {
     "views": []
    },
    "a8f685aa7ddb450991951e7e95885b74": {
     "views": []
    },
    "a97d90dfcb57444d8c5bed705f853d58": {
     "views": []
    },
    "a9ff5088af8d42f7b2574a56e324f19a": {
     "views": []
    },
    "aa04d16d9a694409abe5f76014246c6e": {
     "views": []
    },
    "aa05183e45224afb9888d9a5895426c9": {
     "views": [
      {
       "cell_index": 9
      }
     ]
    },
    "aa74e2ad71114212a23354f81315cea2": {
     "views": []
    },
    "aaa13bdeb6e2449fa29b3a38b4a1e499": {
     "views": []
    },
    "abd25dc370ca4039966ee38577c950d6": {
     "views": []
    },
    "ac270567b45945569842cf4251305d97": {
     "views": []
    },
    "ac33e9bb61f6407a80832791923dcd07": {
     "views": []
    },
    "ac77900f64704af08494497c888494ec": {
     "views": [
      {
       "cell_index": 4
      }
     ]
    },
    "ac9a4560f0264d108e6adfc9d27d398f": {
     "views": []
    },
    "acddbbc32a24464fa5e306d0bb8c0309": {
     "views": []
    },
    "ad2ca99c1463479b8a478bf66295ead1": {
     "views": []
    },
    "ad5478f2e0f442e7809fb648761515a2": {
     "views": []
    },
    "ad817a1b99df4e41ac13ae1bcc74d4d1": {
     "views": []
    },
    "ae2ad7671ca8490aa138ad5c28a0100a": {
     "views": []
    },
    "ae47d81ccc354a02b8dac7c9c8a43d94": {
     "views": [
      {
       "cell_index": 9
      }
     ]
    },
    "af3abd3814ac4aa99b4f3e5f674f1960": {
     "views": []
    },
    "af59f06c8d534ebbb2662fa218574f05": {
     "views": []
    },
    "af7780844cf1424f9ecefaf1d4bb71fd": {
     "views": [
      {
       "cell_index": 9
      }
     ]
    },
    "b049040390e84beb9d59f35390d3e654": {
     "views": []
    },
    "b0b982fcd3624760aee2c37b2bfa28f1": {
     "views": []
    },
    "b0e9ef8fd41e4d28a95d892166bbbe27": {
     "views": []
    },
    "b0ff64d57d5341fbb8feae77eb0f98fa": {
     "views": []
    },
    "b1381e44e0f046eebe27e4f25238e40c": {
     "views": [
      {
       "cell_index": 4
      }
     ]
    },
    "b1b876e3344b4a98ac43d030d55a0497": {
     "views": []
    },
    "b1cc057a550d45b7b3222908d8bff717": {
     "views": []
    },
    "b2edbeca92624a1f827ce826132c11c3": {
     "views": [
      {
       "cell_index": 4
      }
     ]
    },
    "b3483ee54fde4315b05fa991f9b961f9": {
     "views": [
      {
       "cell_index": 7
      }
     ]
    },
    "b4825e66dd0841a48b61be39564ebf97": {
     "views": []
    },
    "b4abdc769ad04470b7733dc5f5719941": {
     "views": []
    },
    "b505a176b3fc4bb192a06562318cc5b0": {
     "views": []
    },
    "b55b622faeea474f916d09532db752e9": {
     "views": [
      {
       "cell_index": 4
      }
     ]
    },
    "b59e483dac83412986f16cc5a220191f": {
     "views": []
    },
    "b63599f763684cc289e32af3d26de2e5": {
     "views": []
    },
    "b6844c415ba14d0bbc234021ab64a88a": {
     "views": []
    },
    "b6b1c01682454ca78ae2f763182d99ec": {
     "views": []
    },
    "b874aad2c4584f3a8adcaeacd2735849": {
     "views": []
    },
    "b8b8c7ebec424d5b9788e5e87c0cd6f3": {
     "views": []
    },
    "b9039836f831427fb825f325295d805a": {
     "views": []
    },
    "b9e14e823b774883916771c573bd55a8": {
     "views": []
    },
    "ba295d0881574aa286f051babc4f3eb4": {
     "views": []
    },
    "ba4f41dede1b40559d9599393d661e96": {
     "views": []
    },
    "ba54f5a40eea4ecfa7921b8a121bf5c7": {
     "views": []
    },
    "ba8b91748d7c413a8cfba49179956e17": {
     "views": [
      {
       "cell_index": 7
      }
     ]
    },
    "baba4ce0f0ee495e8371b6181a192813": {
     "views": []
    },
    "baf913de08bb4931a18d34852b7bc726": {
     "views": []
    },
    "bb421dac77b44e488a958acd9af51528": {
     "views": []
    },
    "bba2674af7644c0c9986d82c1b6e5364": {
     "views": []
    },
    "bbbc056a06f14b9bb979379adb3a5148": {
     "views": []
    },
    "bc84ff10e89a4829a1181880c16ea7bc": {
     "views": []
    },
    "bd1d2f5a51564cdc90200e9b08309d7c": {
     "views": []
    },
    "bd66461f28a84c409493895b40bf964f": {
     "views": []
    },
    "bd961a37b5e04326ac624177ece05805": {
     "views": []
    },
    "be18bdd37e034ddc9311b890556adf4a": {
     "views": []
    },
    "be2afa7c41ac44de93f178ad5ec04e88": {
     "views": []
    },
    "be79a5a10f0849b0a57477a5f68135c6": {
     "views": []
    },
    "bea07471105840ceb0d95217788d5547": {
     "views": [
      {
       "cell_index": 7
      }
     ]
    },
    "bf02814812534a2295cdf7bae3910ba9": {
     "views": []
    },
    "bf901947a22842bcb7c611c4fa3dc649": {
     "views": []
    },
    "c00ae23322654137a345f12da2a0cae4": {
     "views": []
    },
    "c016464aa41f4f60a427f6fa2ca59138": {
     "views": []
    },
    "c019603c132246c493c29bc5cd8c34b7": {
     "views": []
    },
    "c0226ba81c9d49b18fbe4dc1121bcfaa": {
     "views": []
    },
    "c0469f117b914d8786bf74fa1249cadf": {
     "views": []
    },
    "c0ef1c83c518405dadafab3568f80df3": {
     "views": [
      {
       "cell_index": 9
      }
     ]
    },
    "c10a2476dcec4e7f8b94de204783bbe4": {
     "views": []
    },
    "c1f400baaab840c8ab0e889b023dc2c7": {
     "views": []
    },
    "c214c586cadf45c78dc989a733461cc0": {
     "views": []
    },
    "c273088c89df4ef6b2721fa527ff5465": {
     "views": []
    },
    "c29e7f4ab2774fd5b4cb003f0f01c672": {
     "views": []
    },
    "c34adb9670884e6da19c5bfc750e494a": {
     "views": []
    },
    "c3afe55e01c84923b4d6643bf78e41d5": {
     "views": []
    },
    "c48cad628ffb422aab54fdd0afbb8c67": {
     "views": []
    },
    "c48cd376a4144081be45b1186a9434de": {
     "views": []
    },
    "c49e0c7ff0f64aa0a77579770d9e43c7": {
     "views": []
    },
    "c4be16870f7f4850ba275cad0e9be587": {
     "views": []
    },
    "c55af16e594f4f3db8cdb4453bc53d92": {
     "views": []
    },
    "c7252e72bda04421a26310b92a9a4504": {
     "views": []
    },
    "c75172d79c684e9788d0a6d9570f9907": {
     "views": []
    },
    "c7cfccb7ca324264b9aefe7635ee20cf": {
     "views": []
    },
    "c811870498b34028a6beb2d21a7ea63a": {
     "views": []
    },
    "c8282d576d394b4fb4245842d1ca8d94": {
     "views": []
    },
    "c86b1593acac4a34b0f86fb2574bba0e": {
     "views": []
    },
    "c86db73bbff94ce2bc53baab821a92ba": {
     "views": []
    },
    "c8da431a5c7642ffb51286c727733f5e": {
     "views": []
    },
    "c915e42ecb424a53bd355e417aeea7f2": {
     "views": []
    },
    "c97603174bb94e5bad3ce366e018f1ac": {
     "views": []
    },
    "c9d92245247047cdab7c971ae31319fb": {
     "views": []
    },
    "ca1b184bd545482a8ce7930d6ffc9735": {
     "views": [
      {
       "cell_index": 7
      }
     ]
    },
    "ca224e94edc34e6f83653f8b91025b1a": {
     "views": [
      {
       "cell_index": 4
      }
     ]
    },
    "caa3bb49cd5646718f06f0c3755056cc": {
     "views": []
    },
    "cad98e47516b409c868c84d02c752230": {
     "views": [
      {
       "cell_index": 4
      }
     ]
    },
    "caec5af665654afbb73939f29fb8b6d9": {
     "views": []
    },
    "cb082d4b727647bea275d5b50c0205da": {
     "views": [
      {
       "cell_index": 7
      }
     ]
    },
    "cb1484299ebd4bbbadf97663c47f395d": {
     "views": [
      {
       "cell_index": 7
      }
     ]
    },
    "cb477b12f57b4994953fef783983bd4b": {
     "views": []
    },
    "cb7ad47082b04c14b320f0071481f230": {
     "views": []
    },
    "cbf0d74a03244f90af36acfe43dd5352": {
     "views": []
    },
    "cc3a0fe427de458dbb8ca4be09cddd6b": {
     "views": []
    },
    "cc627e2a8aa84647991dc9d2567d7315": {
     "views": [
      {
       "cell_index": 7
      }
     ]
    },
    "cca6260be8244f2aadcd4bb7821c0e63": {
     "views": []
    },
    "cd08272da25748f5b79201c6ff2e3d27": {
     "views": []
    },
    "cd52c0ebf502417d9d953b00b6e0aac2": {
     "views": []
    },
    "cdc77499a8814affa953f4c128448ff8": {
     "views": []
    },
    "ce65ea6723b9430aaa34b4350605b2a7": {
     "views": []
    },
    "ce982fad90aa48388c58be9060067bb7": {
     "views": []
    },
    "cf3ea39a6fd4424cb62a921b172c5658": {
     "views": []
    },
    "cf63c41eae954b4f823f78ec5bf51362": {
     "views": []
    },
    "cf9e8e1bc753480fbc2d05a14a6a8a05": {
     "views": []
    },
    "d08e65921445488daf5ed890bc913d04": {
     "views": []
    },
    "d092216f59624dd1958e1ef34952a982": {
     "views": [
      {
       "cell_index": 9
      }
     ]
    },
    "d1048b7675be4cd585c46091d9081e0c": {
     "views": []
    },
    "d152bade07ea420fb2c083881fb83621": {
     "views": []
    },
    "d1599ded8ca04e4c8bc626083f44453a": {
     "views": []
    },
    "d182f5b0b07840debaf63ed62e3b64c2": {
     "views": []
    },
    "d1b2fcced4c244ba9dc3837a7fb52565": {
     "views": []
    },
    "d1c22bd05d474f15897f5f6bfa46a96c": {
     "views": []
    },
    "d207b973c7864be394140296ac023781": {
     "views": []
    },
    "d2450c75ccac44b3a0c27654425d41a3": {
     "views": []
    },
    "d25a26a77f2846fcbdd33a35983354b4": {
     "views": []
    },
    "d2972c7f0eca42c9935d0d695e02847b": {
     "views": []
    },
    "d2a5c9d6bb004fbd978300e70fd3c919": {
     "views": [
      {
       "cell_index": 4
      }
     ]
    },
    "d301117f4b114508ab0682759dcfbe7a": {
     "views": []
    },
    "d33fa794e0b347b7b248127f530183f4": {
     "views": []
    },
    "d401264bab4048a996655bce5ab4402b": {
     "views": []
    },
    "d46d7b22cb08420e8c90a7cacc0a1262": {
     "views": []
    },
    "d4dee721ce144c3aa528acad0f7f19c1": {
     "views": []
    },
    "d5a4cab39b0d48029e8e91b01e29eed4": {
     "views": []
    },
    "d6689880cebe46be963171fc2af2a342": {
     "views": []
    },
    "d66aa35716d94d209efbeedff70e778d": {
     "views": []
    },
    "d6ffcfb8de724d6ba9e9d9d6355c9a92": {
     "views": []
    },
    "d7680f0dedd646f29ef9a98caccb1a83": {
     "views": []
    },
    "d77f4e13aa6c4e2aa5dd6c48140e48b9": {
     "views": []
    },
    "d7be255ae4c84e5b87f8b78406ae51a9": {
     "views": []
    },
    "d7f913cb9f924fdd9c2e3f63a4fdf20d": {
     "views": []
    },
    "d84fa0ce7d58452db4cc2c287f2fd4ae": {
     "views": []
    },
    "d85fa8f0e5f445719a9e95a80371871b": {
     "views": []
    },
    "d92e2b4f7f4f4a9d894f66aaaf5352da": {
     "views": []
    },
    "d9d453017fa94c78bc8c9c448b87b4e0": {
     "views": []
    },
    "d9eaf1418a544610ad302e5fdfbc3869": {
     "views": []
    },
    "d9ee74eb64e040c1ae0c85d376afd155": {
     "views": []
    },
    "da2d66b1a9ed45128b7240ecbbee86fa": {
     "views": []
    },
    "da6992de3f38481f8b8b03b88fd64d97": {
     "views": []
    },
    "da8d95537f914433ac27c84160d68eab": {
     "views": []
    },
    "da9b3e1b70994242a7bc181529306de3": {
     "views": []
    },
    "daaa8ff8094a49448fd056eedc1b7583": {
     "views": []
    },
    "db9aaf7fc0f5443a86f0c3ca90991b6e": {
     "views": []
    },
    "dbdcad1229bf4e8ea23e8f291c66fc0b": {
     "views": [
      {
       "cell_index": 4
      }
     ]
    },
    "dc615a0635984c199b703054bd01e439": {
     "views": []
    },
    "dc65f507fb7d4c02b70b9920e01e2e48": {
     "views": []
    },
    "dd38f07b465341ed9ce9787df6d6bc1b": {
     "views": []
    },
    "ddf4f7dc36214931a8c924a129f092fd": {
     "views": []
    },
    "de5465ef4fba4073ae3de144139ed4f6": {
     "views": []
    },
    "de6ab73009a3460ba7b5325a6d9ecc63": {
     "views": []
    },
    "dee45f2ac2d24ed38733645ba4d43480": {
     "views": []
    },
    "df0f5d7ae59b46db91c4c4673e8853f6": {
     "views": []
    },
    "df2ba79acf034143ba3cf9935e4a625d": {
     "views": []
    },
    "df4df52fd51248608be4d35a10993f68": {
     "views": [
      {
       "cell_index": 7
      }
     ]
    },
    "df6a3424456e462bbbaedab4ec2a2232": {
     "views": []
    },
    "df7f097cf7804818b38fd64d5069ff28": {
     "views": []
    },
    "e0173e6ec23648b792fa680f14fef933": {
     "views": []
    },
    "e01b767c06f04bf88796378e2432d73a": {
     "views": []
    },
    "e05c735b13894b29be78c1e109bb253c": {
     "views": []
    },
    "e0b7879e052f4ea8bb0a39f4e639e438": {
     "views": [
      {
       "cell_index": 4
      }
     ]
    },
    "e1861924db644ddd800fa27912400673": {
     "views": []
    },
    "e1fd0c0084434cf6a63bf874fc10225e": {
     "views": []
    },
    "e21dd9b424a240a8a6617b0c3d155e6d": {
     "views": []
    },
    "e24b32c30fd84559a7297d563bed0b55": {
     "views": []
    },
    "e2bcd3db8d1d4c8199e8e71af82f44ba": {
     "views": []
    },
    "e2ec6cb660ff48b49d81b2651c101875": {
     "views": []
    },
    "e2f1517c098c404fbcf270688cd730a2": {
     "views": []
    },
    "e308c4867bbb4b63b2ed2bc0495cdfbf": {
     "views": [
      {
       "cell_index": 9
      }
     ]
    },
    "e310930d1cc5472ab2bb531914427d9a": {
     "views": []
    },
    "e37558c3ed9049bd88a29a310a0308fe": {
     "views": []
    },
    "e3e75dec8a044972ab822dcc75e567ae": {
     "views": []
    },
    "e46c00d99d344125940ad8423843013b": {
     "views": []
    },
    "e495f6c420474578980934a0952399e2": {
     "views": []
    },
    "e5154e5c8048423097f784e0b035943d": {
     "views": []
    },
    "e5bcff976bfd4427a969044900e3ac35": {
     "views": []
    },
    "e5c5c775deaa474493d8d9b1122794af": {
     "views": []
    },
    "e5f7470af816458f8896f56df987c86d": {
     "views": []
    },
    "e645d4e2e05e40349fae39e9c3fffd79": {
     "views": []
    },
    "e736e1a84bd1463393889b9faddb7b52": {
     "views": []
    },
    "e7980a926478428fa5981353039f9fdc": {
     "views": [
      {
       "cell_index": 9
      }
     ]
    },
    "e90420ed32c3436eac540966df2c7b97": {
     "views": []
    },
    "e93043503946485b98c221508ee7b3ee": {
     "views": []
    },
    "e967959c60e343d3982fd05bbbd18c66": {
     "views": []
    },
    "ea5168ab38e149b0b3ddae94eb15be30": {
     "views": []
    },
    "eb04a8015947412ca80a9dec1da9f033": {
     "views": []
    },
    "eb407f45ce5e4a5eb03c25010210d49e": {
     "views": []
    },
    "eb72cd0a540740bfa37abbb6686ad94a": {
     "views": []
    },
    "ebee5363c24b49f29faba2ea85df33e9": {
     "views": []
    },
    "ec13bb8de7aa4995b5a02066e389a2aa": {
     "views": []
    },
    "ec40a606b579434d92dbd5e77871edf4": {
     "views": []
    },
    "ec86878bb3304ce1b0533dbb5f35df0a": {
     "views": []
    },
    "ec97bd3cf21a497f92549600ca5a6043": {
     "views": []
    },
    "ecde183018a1410d91f864bd1ef0da82": {
     "views": []
    },
    "ecf2d436ccdc49a0be0ff8c7a49f14ca": {
     "views": []
    },
    "ed23696fb1d7490682091d4015927a6b": {
     "views": []
    },
    "ed44b39a85584a4e9e56f0d48f7e46b8": {
     "views": []
    },
    "ed830c4879db46d0a3058995d88828cd": {
     "views": []
    },
    "ede4fef2bc0d47809c8e72be984d276a": {
     "views": []
    },
    "ee4ea6a2c15149c88ab6c830b7571f69": {
     "views": []
    },
    "ee628f400f904e94810e924324383760": {
     "views": [
      {
       "cell_index": 7
      }
     ]
    },
    "eeaa9bdff63349f0bca2c43c803896dc": {
     "views": []
    },
    "ef1dc4127d3e46e58fb46df4810547e3": {
     "views": []
    },
    "ef885ffacc4744988af45c98f9070fea": {
     "views": [
      {
       "cell_index": 4
      }
     ]
    },
    "efb8cb51898443ebb2bafb65b697e9ee": {
     "views": []
    },
    "f03e12f776a34ef9b30ee37131649b71": {
     "views": []
    },
    "f12ef4acb8ba4cdda7f3c77ea118d907": {
     "views": []
    },
    "f1bbdde29c804ab8829b06373474f7f9": {
     "views": [
      {
       "cell_index": 7
      }
     ]
    },
    "f1dbdb6298794a5e9c9edfcf4c84aefa": {
     "views": []
    },
    "f27e9207be5e4fc6bcfeb2e650f18c43": {
     "views": [
      {
       "cell_index": 4
      }
     ]
    },
    "f2bba3ea13e4477397466a0b8581f126": {
     "views": []
    },
    "f2e0a286452841c99180305fae38ae62": {
     "views": []
    },
    "f46f7b38eee941ab94a3f41ab1286cff": {
     "views": []
    },
    "f48dd75e67a041d5968d24de14633c0f": {
     "views": []
    },
    "f4d76985dc0547c1a5d8677703bf7d4e": {
     "views": []
    },
    "f52e75016e034b75be78f78f88152363": {
     "views": []
    },
    "f55e22fbb7524f49aa2c8340aa29f089": {
     "views": []
    },
    "f571cd17c055424087e64fa170af1a3e": {
     "views": []
    },
    "f5e05e1ce68f401ca374e094aa60856a": {
     "views": []
    },
    "f5f397a2bc4943f7ac0b5402cc865885": {
     "views": []
    },
    "f5f9133ff69742b2b6fa7ba07ac371c7": {
     "views": []
    },
    "f64168a5ea6e4d4c972328ee4650e8d4": {
     "views": []
    },
    "f67294618a214397be3bc606a1708ab6": {
     "views": []
    },
    "f6dbb002fc3c45b5a140dde411b73b6e": {
     "views": []
    },
    "f730e13674d04337aa93c01cf6abb72c": {
     "views": []
    },
    "f7bc19999e4a45e8980a62f110aad103": {
     "views": []
    },
    "f85c6342b7774f2b87325ee8312fb46c": {
     "views": []
    },
    "f88a849c20cf4b219c68005e5114ac9f": {
     "views": []
    },
    "f89d1642127348b39fffd87e232f35e1": {
     "views": [
      {
       "cell_index": 7
      }
     ]
    },
    "f92ea4413b8e42e59ccefb604d76250f": {
     "views": [
      {
       "cell_index": 4
      }
     ]
    },
    "f942c325978142399d3ef561eca4a750": {
     "views": []
    },
    "f9fbdaad31bb4a2cbd8f545e013917b7": {
     "views": []
    },
    "fad7bc1921484085b4d6b77c42ea6a8c": {
     "views": []
    },
    "fb27914b5c3c40da926a860704ad772e": {
     "views": [
      {
       "cell_index": 9
      }
     ]
    },
    "fb2b42d5139b4061a28559e16fc7e68e": {
     "views": []
    },
    "fb8e21e25b2543718b1194be32c770b0": {
     "views": []
    },
    "fc391fcbe6e045d39ed6e3e8965660db": {
     "views": []
    },
    "fc3b8d8755aa4c3ebb08040016348b8c": {
     "views": []
    },
    "fd9eef66cddf43c481deb428849d328e": {
     "views": []
    },
    "fe62590b70cd4cce8371207abe2fbbc5": {
     "views": []
    },
    "fe8ac015e0d1492bb65f9e97d3a4ffe1": {
     "views": []
    },
    "fe9bc43936524e368d8e465f7fd612b9": {
     "views": []
    },
    "ff39aedceb594831848b28fd8dfaa288": {
     "views": []
    }
   },
   "version": "1.1.2"
  }
 },
 "nbformat": 4,
 "nbformat_minor": 0
}
