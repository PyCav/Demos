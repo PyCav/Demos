{
 "cells": [
  {
   "cell_type": "markdown",
   "metadata": {},
   "source": [
    "### Emergence of the Poisson Distribution\n",
    "### Incomplete\n"
   ]
  },
  {
   "cell_type": "code",
   "execution_count": 12,
   "metadata": {
    "collapsed": true
   },
   "outputs": [],
   "source": [
    "import matplotlib.pyplot as plt\n",
    "from matplotlib import animation\n",
    "import random\n",
    "import copy #allow for pass by value\n",
    "from IPython.display import display"
   ]
  },
  {
   "cell_type": "code",
   "execution_count": 13,
   "metadata": {
    "collapsed": true
   },
   "outputs": [],
   "source": [
    "random.seed()\n",
    "#find no. of counts in an interval\n",
    "def counts(prob_photon, no_trials): #no of counts in an interval\n",
    "    counts = 0\n",
    "    for i in range(no_trials):\n",
    "        x = random.uniform(0,1)\n",
    "        if x < prob_photon:\n",
    "            counts += 1\n",
    "    return counts"
   ]
  },
  {
   "cell_type": "code",
   "execution_count": 14,
   "metadata": {
    "collapsed": true
   },
   "outputs": [],
   "source": [
    "#generate the poisson distribution\n",
    "prob_photon = 3.0e-4 #probability of receiving a photon in interval (p --> 0)\n",
    "no_trials = 10000 #number of trials per interval (n --> inf)\n",
    "repeats = 10 #number of intervals\n",
    "\n",
    "results = [] #counts from each interval\n",
    "results_sequence = [] #the list of results (for the animation)\n",
    "\n",
    "\n",
    "for i in range(repeats):\n",
    "    results.append(counts(prob_photon, no_trials))\n",
    "    results_sequence.append(copy.copy(results))"
   ]
  },
  {
   "cell_type": "code",
   "execution_count": 15,
   "metadata": {
    "collapsed": false
   },
   "outputs": [
    {
     "data": {
      "image/png": "[encoded data removed]",
      "text/plain": [
       "<matplotlib.figure.Figure at 0x7814cf8>"
      ]
     },
     "metadata": {},
     "output_type": "display_data"
    }
   ],
   "source": [
    "#initialise the histogram\n",
    "fig = plt.figure()\n",
    "plt.xlim([0,8])\n",
    "plt.hist(results_sequence[0])\n",
    "\n",
    "#animate the histogram\n",
    "def update_hist(frame_no, results_sequence):\n",
    "    plt.cla()\n",
    "    plt.hist(results_sequence[frame_no], align = 'mid', bins = [0, 1, 2, 3, 4, 5, 6, 7, 8])\n",
    "    plt.xlabel(\"Counts per interval\")\n",
    "    plt.ylabel(\"Frequency\")\n",
    "    plt.title(\"Emergence of the Poisson Distribution\")\n",
    "    plt.xlim([0,8])"
   ]
  },
  {
   "cell_type": "code",
   "execution_count": 16,
   "metadata": {
    "collapsed": false
   },
   "outputs": [
    {
     "data": {
      "image/png": "[encoded data removed]",
      "text/plain": [
       "<matplotlib.figure.Figure at 0x70b8940>"
      ]
     },
     "metadata": {},
     "output_type": "display_data"
    }
   ],
   "source": [
    "#create video file and save it in a local folder\n",
    "animation = animation.FuncAnimation(fig, update_hist, repeats, fargs=(results_sequence,), repeat = False)\n",
    "animation.save('poisson_histogram.mp4', writer = 'ffmpeg',  fps = 20)"
   ]
  }
 ],
 "metadata": {
  "kernelspec": {
   "display_name": "Python 2",
   "language": "python",
   "name": "python2"
  },
  "language_info": {
   "codemirror_mode": {
    "name": "ipython",
    "version": 2
   },
   "file_extension": ".py",
   "mimetype": "text/x-python",
   "name": "python",
   "nbconvert_exporter": "python",
   "pygments_lexer": "ipython2",
   "version": "2.7.11"
  }
 },
 "nbformat": 4,
 "nbformat_minor": 0
}
