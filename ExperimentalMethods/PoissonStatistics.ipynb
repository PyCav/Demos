{
 "cells": [
  {
   "cell_type": "markdown",
   "metadata": {},
   "source": [
    "### Poisson Distribution\n",
    "**Learning objectives: poisson statistics, formatting graphs, creating interactive graphs.**\n",
    "\n",
    "The Poisson distribution gives the probability of a certain number of counts per interval for random, independent events. For example, the number of stars visible per unit solid angle of sky, or the number of photons received from a star per second.\n",
    "\n",
    "If the mean number of events is $\\lambda$, the probability distribution is:\n",
    "$$P(k) = \\frac{\\lambda^k e^{-\\lambda}}{k!},$$\n",
    "where $k$ is the number of counts per interval."
   ]
  },
  {
   "cell_type": "code",
   "execution_count": 12,
   "metadata": {
    "collapsed": false
   },
   "outputs": [],
   "source": [
    "import numpy as np\n",
    "from scipy.misc import factorial\n",
    "\n",
    "from ipywidgets import interact\n",
    "from bokeh.plotting import figure, show\n",
    "from bokeh.io import push_notebook, output_notebook\n",
    "from IPython.display import display"
   ]
  },
  {
   "cell_type": "code",
   "execution_count": 13,
   "metadata": {
    "collapsed": false
   },
   "outputs": [
    {
     "data": {
      "text/html": [
       "\n",
       "    <div class=\"bk-banner\">\n",
       "        <a href=\"http://bokeh.pydata.org\" target=\"_blank\" class=\"bk-logo bk-logo-small bk-logo-notebook\"></a>\n",
       "        <span id=\"47c815fe-44fd-43c5-976e-43ece71c4437\">Loading BokehJS ...</span>\n",
       "    </div>"
      ]
     },
     "metadata": {},
     "output_type": "display_data"
    },
    {
     "data": {
      "application/javascript": [
       "\n",
       "(function(global) {\n",
       "  function now() {\n",
       "    return new Date();\n",
       "  }\n",
       "\n",
       "  if (typeof (window._bokeh_onload_callbacks) === \"undefined\") {\n",
       "    window._bokeh_onload_callbacks = [];\n",
       "  }\n",
       "\n",
       "  function run_callbacks() {\n",
       "    window._bokeh_onload_callbacks.forEach(function(callback) { callback() });\n",
       "    delete window._bokeh_onload_callbacks\n",
       "    console.info(\"Bokeh: all callbacks have finished\");\n",
       "  }\n",
       "\n",
       "  function load_libs(js_urls, callback) {\n",
       "    window._bokeh_onload_callbacks.push(callback);\n",
       "    if (window._bokeh_is_loading > 0) {\n",
       "      console.log(\"Bokeh: BokehJS is being loaded, scheduling callback at\", now());\n",
       "      return null;\n",
       "    }\n",
       "    if (js_urls == null || js_urls.length === 0) {\n",
       "      run_callbacks();\n",
       "      return null;\n",
       "    }\n",
       "    console.log(\"Bokeh: BokehJS not loaded, scheduling load and callback at\", now());\n",
       "    window._bokeh_is_loading = js_urls.length;\n",
       "    for (var i = 0; i < js_urls.length; i++) {\n",
       "      var url = js_urls[i];\n",
       "      var s = document.createElement('script');\n",
       "      s.src = url;\n",
       "      s.async = false;\n",
       "      s.onreadystatechange = s.onload = function() {\n",
       "        window._bokeh_is_loading--;\n",
       "        if (window._bokeh_is_loading === 0) {\n",
       "          console.log(\"Bokeh: all BokehJS libraries loaded\");\n",
       "          run_callbacks()\n",
       "        }\n",
       "      };\n",
       "      s.onerror = function() {\n",
       "        console.warn(\"failed to load library \" + url);\n",
       "      };\n",
       "      console.log(\"Bokeh: injecting script tag for BokehJS library: \", url);\n",
       "      document.getElementsByTagName(\"head\")[0].appendChild(s);\n",
       "    }\n",
       "  };\n",
       "\n",
       "  var js_urls = ['https://cdn.pydata.org/bokeh/release/bokeh-0.11.1.min.js', 'https://cdn.pydata.org/bokeh/release/bokeh-widgets-0.11.1.min.js', 'https://cdn.pydata.org/bokeh/release/bokeh-compiler-0.11.1.min.js'];\n",
       "\n",
       "  var inline_js = [\n",
       "    function(Bokeh) {\n",
       "      Bokeh.set_log_level(\"info\");\n",
       "    },\n",
       "    \n",
       "    function(Bokeh) {\n",
       "      Bokeh.$(\"#47c815fe-44fd-43c5-976e-43ece71c4437\").text(\"BokehJS successfully loaded\");\n",
       "    },\n",
       "    function(Bokeh) {\n",
       "      console.log(\"Bokeh: injecting CSS: https://cdn.pydata.org/bokeh/release/bokeh-0.11.1.min.css\");\n",
       "      Bokeh.embed.inject_css(\"https://cdn.pydata.org/bokeh/release/bokeh-0.11.1.min.css\");\n",
       "      console.log(\"Bokeh: injecting CSS: https://cdn.pydata.org/bokeh/release/bokeh-widgets-0.11.1.min.css\");\n",
       "      Bokeh.embed.inject_css(\"https://cdn.pydata.org/bokeh/release/bokeh-widgets-0.11.1.min.css\");\n",
       "    }\n",
       "  ];\n",
       "\n",
       "  function run_inline_js() {\n",
       "    for (var i = 0; i < inline_js.length; i++) {\n",
       "      inline_js[i](window.Bokeh);\n",
       "    }\n",
       "  }\n",
       "\n",
       "  if (window._bokeh_is_loading === 0) {\n",
       "    console.log(\"Bokeh: BokehJS loaded, going straight to plotting\");\n",
       "    run_inline_js();\n",
       "  } else {\n",
       "    load_libs(js_urls, function() {\n",
       "      console.log(\"Bokeh: BokehJS plotting callback run at\", now());\n",
       "      run_inline_js();\n",
       "    });\n",
       "  }\n",
       "}(this));"
      ]
     },
     "metadata": {},
     "output_type": "display_data"
    }
   ],
   "source": [
    "#allow for inline plotting in the notebook\n",
    "output_notebook()"
   ]
  },
  {
   "cell_type": "code",
   "execution_count": 14,
   "metadata": {
    "collapsed": true
   },
   "outputs": [],
   "source": [
    "#initialise the poisson distribution\n",
    "mean = 5.0\n",
    "count_range = 20 #x axis range\n",
    "count = [i for i in range(count_range)] #number of events\n",
    "\n",
    "def generate_poisson(mean):\n",
    "    probability = np.power(mean, count)*np.exp(-mean)/factorial(count) #probability of 'count'\n",
    "    return probability"
   ]
  },
  {
   "cell_type": "code",
   "execution_count": 15,
   "metadata": {
    "collapsed": false
   },
   "outputs": [
    {
     "data": {
      "text/html": [
       "\n",
       "\n",
       "    <div class=\"plotdiv\" id=\"63f4ec35-6f3a-4a5c-a877-b0dc62f493eb\"></div>\n",
       "<script type=\"text/javascript\">\n",
       "  \n",
       "  (function(global) {\n",
       "    function now() {\n",
       "      return new Date();\n",
       "    }\n",
       "  \n",
       "    if (typeof (window._bokeh_onload_callbacks) === \"undefined\") {\n",
       "      window._bokeh_onload_callbacks = [];\n",
       "    }\n",
       "  \n",
       "    function run_callbacks() {\n",
       "      window._bokeh_onload_callbacks.forEach(function(callback) { callback() });\n",
       "      delete window._bokeh_onload_callbacks\n",
       "      console.info(\"Bokeh: all callbacks have finished\");\n",
       "    }\n",
       "  \n",
       "    function load_libs(js_urls, callback) {\n",
       "      window._bokeh_onload_callbacks.push(callback);\n",
       "      if (window._bokeh_is_loading > 0) {\n",
       "        console.log(\"Bokeh: BokehJS is being loaded, scheduling callback at\", now());\n",
       "        return null;\n",
       "      }\n",
       "      if (js_urls == null || js_urls.length === 0) {\n",
       "        run_callbacks();\n",
       "        return null;\n",
       "      }\n",
       "      console.log(\"Bokeh: BokehJS not loaded, scheduling load and callback at\", now());\n",
       "      window._bokeh_is_loading = js_urls.length;\n",
       "      for (var i = 0; i < js_urls.length; i++) {\n",
       "        var url = js_urls[i];\n",
       "        var s = document.createElement('script');\n",
       "        s.src = url;\n",
       "        s.async = false;\n",
       "        s.onreadystatechange = s.onload = function() {\n",
       "          window._bokeh_is_loading--;\n",
       "          if (window._bokeh_is_loading === 0) {\n",
       "            console.log(\"Bokeh: all BokehJS libraries loaded\");\n",
       "            run_callbacks()\n",
       "          }\n",
       "        };\n",
       "        s.onerror = function() {\n",
       "          console.warn(\"failed to load library \" + url);\n",
       "        };\n",
       "        console.log(\"Bokeh: injecting script tag for BokehJS library: \", url);\n",
       "        document.getElementsByTagName(\"head\")[0].appendChild(s);\n",
       "      }\n",
       "    };var element = document.getElementById(\"63f4ec35-6f3a-4a5c-a877-b0dc62f493eb\");\n",
       "    if (element == null) {\n",
       "      console.log(\"Bokeh: ERROR: autoload.js configured with elementid '63f4ec35-6f3a-4a5c-a877-b0dc62f493eb' but no matching script tag was found. \")\n",
       "      return false;\n",
       "    }\n",
       "  \n",
       "    var js_urls = [];\n",
       "  \n",
       "    var inline_js = [\n",
       "      function(Bokeh) {\n",
       "        Bokeh.$(function() {\n",
       "            var docs_json = {\"6ad380a0-a6cf-4d86-bcf4-3bac96984fb7\":{\"roots\":{\"references\":[{\"attributes\":{\"plot\":{\"id\":\"49b070b6-2ac5-4bc2-92e4-ed77dff7a3ca\",\"subtype\":\"Figure\",\"type\":\"Plot\"}},\"id\":\"bbe265d4-e54b-4e63-8263-3c6d5f900e97\",\"type\":\"ResizeTool\"},{\"attributes\":{\"data_source\":{\"id\":\"afb10493-de6f-4089-9a0a-2eaad4696a7d\",\"type\":\"ColumnDataSource\"},\"glyph\":{\"id\":\"f839ea55-0c68-4c5a-af09-314be087a730\",\"type\":\"Circle\"},\"hover_glyph\":null,\"nonselection_glyph\":{\"id\":\"24eda122-55f1-4b71-8696-e0352e8ee8b2\",\"type\":\"Circle\"},\"selection_glyph\":null},\"id\":\"a5409ab9-5ffb-4eba-b244-7b9edbdc5097\",\"type\":\"GlyphRenderer\"},{\"attributes\":{\"callback\":null,\"end\":20},\"id\":\"4b5d40f9-0faa-452b-9e4a-3a7250418eb6\",\"type\":\"Range1d\"},{\"attributes\":{\"axis_label\":\"counts per interval\",\"axis_label_text_font_size\":{\"value\":\"12pt\"},\"formatter\":{\"id\":\"1503e7b2-4f16-40df-8431-9928132c331e\",\"type\":\"BasicTickFormatter\"},\"plot\":{\"id\":\"50b67cdf-0261-4c68-9118-72fe133012b0\",\"subtype\":\"Figure\",\"type\":\"Plot\"},\"ticker\":{\"id\":\"b0d683f2-dd38-4747-a442-ad1397618ab3\",\"type\":\"BasicTicker\"}},\"id\":\"310b0e44-3f75-4ebf-bd85-0cdcd8c2ea3a\",\"type\":\"LinearAxis\"},{\"attributes\":{\"below\":[{\"id\":\"725ef19e-ad75-463d-92da-b44da07e7cce\",\"type\":\"LinearAxis\"}],\"left\":[{\"id\":\"39ee8163-3368-41ad-a3d2-79b33b510609\",\"type\":\"LinearAxis\"}],\"plot_height\":450,\"renderers\":[{\"id\":\"725ef19e-ad75-463d-92da-b44da07e7cce\",\"type\":\"LinearAxis\"},{\"id\":\"61353f60-27d4-4171-b944-ab8a7c73f719\",\"type\":\"Grid\"},{\"id\":\"39ee8163-3368-41ad-a3d2-79b33b510609\",\"type\":\"LinearAxis\"},{\"id\":\"e7c7e749-5aef-465e-bc61-debec5b710a0\",\"type\":\"Grid\"},{\"id\":\"5e662648-f2ef-43d5-833b-19974da15a5f\",\"type\":\"BoxAnnotation\"},{\"id\":\"17949a32-8f32-4884-b0d1-8e8617e3eb4a\",\"type\":\"GlyphRenderer\"}],\"title\":\"Poisson Distribution\",\"title_text_font_size\":{\"value\":\"16pt\"},\"tool_events\":{\"id\":\"e831f36b-1094-4d5a-9027-adcf7511584b\",\"type\":\"ToolEvents\"},\"tools\":[{\"id\":\"ecfeb843-f571-4e15-9b39-0c71c1901da7\",\"type\":\"PanTool\"},{\"id\":\"6d802ccd-4024-4e6d-a8cb-e5c9b2fae102\",\"type\":\"WheelZoomTool\"},{\"id\":\"e43a5c44-b0a4-4cd9-9b58-6a826c979f66\",\"type\":\"BoxZoomTool\"},{\"id\":\"d3eb1351-4f60-4dcc-8c3e-4273c2bf5bd6\",\"type\":\"PreviewSaveTool\"},{\"id\":\"5deeb140-0afd-471b-bf98-8bebec03c81a\",\"type\":\"ResizeTool\"},{\"id\":\"ea1f7005-3eec-420d-90ab-7e06d6b0bd8f\",\"type\":\"ResetTool\"},{\"id\":\"daf6df26-18c7-4f17-b518-3afac71c7524\",\"type\":\"HelpTool\"}],\"x_range\":{\"id\":\"514e609c-9fc8-4c83-acb8-df10468f312c\",\"type\":\"DataRange1d\"},\"y_range\":{\"id\":\"9d70367d-a848-4c7c-b5e6-ca77bb7f0c22\",\"type\":\"DataRange1d\"}},\"id\":\"98a21e1e-9696-4607-a5bd-803932eea9bc\",\"subtype\":\"Figure\",\"type\":\"Plot\"},{\"attributes\":{\"callback\":null},\"id\":\"a41973a3-6877-42d9-9e2b-54c8634ac637\",\"type\":\"DataRange1d\"},{\"attributes\":{\"data_source\":{\"id\":\"a13701a2-c1c5-407b-8039-9899982946a4\",\"type\":\"ColumnDataSource\"},\"glyph\":{\"id\":\"6554a095-c1ad-4923-a293-403b5949954f\",\"type\":\"Circle\"},\"hover_glyph\":null,\"nonselection_glyph\":{\"id\":\"04ae7245-53ab-4b72-bb89-ba67730c710a\",\"type\":\"Circle\"},\"selection_glyph\":null},\"id\":\"9ec099e6-a244-4baa-85ec-160f2c8baba0\",\"type\":\"GlyphRenderer\"},{\"attributes\":{\"overlay\":{\"id\":\"5e662648-f2ef-43d5-833b-19974da15a5f\",\"type\":\"BoxAnnotation\"},\"plot\":{\"id\":\"98a21e1e-9696-4607-a5bd-803932eea9bc\",\"subtype\":\"Figure\",\"type\":\"Plot\"}},\"id\":\"e43a5c44-b0a4-4cd9-9b58-6a826c979f66\",\"type\":\"BoxZoomTool\"},{\"attributes\":{\"plot\":{\"id\":\"98a21e1e-9696-4607-a5bd-803932eea9bc\",\"subtype\":\"Figure\",\"type\":\"Plot\"}},\"id\":\"ea1f7005-3eec-420d-90ab-7e06d6b0bd8f\",\"type\":\"ResetTool\"},{\"attributes\":{\"callback\":null,\"column_names\":[\"y\",\"x\"],\"data\":{\"x\":[0,1,2,3,4,5,6,7,8,9,10,11,12,13,14,15,16,17,18,19],\"y\":[0.1353352832366127,0.2706705664732254,0.2706705664732254,0.1804470443154836,0.0902235221577418,0.03608940886309672,0.012029802954365574,0.0034370865583901638,0.0008592716395975409,0.00019094925324389798,3.8189850648779595e-05,6.943609208869018e-06,1.1572682014781697e-06,1.7804126176587226e-07,2.5434465966553178e-08,3.391262128873757e-09,4.2390776610921964e-10,4.987150189520231e-11,5.541277988355812e-12,5.832924198269276e-13]}},\"id\":\"a13701a2-c1c5-407b-8039-9899982946a4\",\"type\":\"ColumnDataSource\"},{\"attributes\":{\"below\":[{\"id\":\"a41e095c-44ec-48fe-9935-1a7c3a8a3188\",\"type\":\"LinearAxis\"}],\"left\":[{\"id\":\"4a2c27f4-4ce7-4b59-b17f-8d1244a40561\",\"type\":\"LinearAxis\"}],\"plot_height\":450,\"renderers\":[{\"id\":\"a41e095c-44ec-48fe-9935-1a7c3a8a3188\",\"type\":\"LinearAxis\"},{\"id\":\"d737492c-0cc2-41ca-a66c-4e848b1618f5\",\"type\":\"Grid\"},{\"id\":\"4a2c27f4-4ce7-4b59-b17f-8d1244a40561\",\"type\":\"LinearAxis\"},{\"id\":\"71cd7492-2e72-4401-93d9-d5a37f6d4dbd\",\"type\":\"Grid\"},{\"id\":\"5ddd62f7-8624-417d-839a-a777b508326a\",\"type\":\"BoxAnnotation\"},{\"id\":\"a5409ab9-5ffb-4eba-b244-7b9edbdc5097\",\"type\":\"GlyphRenderer\"}],\"title\":\"Poisson Distribution\",\"title_text_font_size\":{\"value\":\"16pt\"},\"tool_events\":{\"id\":\"f0d77971-2e20-4b98-84c2-eab44c4870cd\",\"type\":\"ToolEvents\"},\"tools\":[{\"id\":\"9665b067-5266-4c57-bb8b-b17b667b8277\",\"type\":\"PanTool\"},{\"id\":\"3e29ae6b-cfb4-4b75-a41f-78a8874d1861\",\"type\":\"WheelZoomTool\"},{\"id\":\"f11be5af-cce5-4117-9a78-a03b9d7f846c\",\"type\":\"BoxZoomTool\"},{\"id\":\"45c0cdcc-ed35-412a-8fdc-d3caa234999e\",\"type\":\"PreviewSaveTool\"},{\"id\":\"bbe265d4-e54b-4e63-8263-3c6d5f900e97\",\"type\":\"ResizeTool\"},{\"id\":\"3e1e87e5-7291-4c2e-8133-98fed412d00b\",\"type\":\"ResetTool\"},{\"id\":\"04b88e56-0fbc-49f4-a554-0d698175ca2a\",\"type\":\"HelpTool\"}],\"x_range\":{\"id\":\"91236b64-5ebb-4d0f-bee7-1dda39e58c9d\",\"type\":\"DataRange1d\"},\"y_range\":{\"id\":\"ad8d1a81-a5ee-4c72-a1d0-40e0dedb2449\",\"type\":\"DataRange1d\"}},\"id\":\"49b070b6-2ac5-4bc2-92e4-ed77dff7a3ca\",\"subtype\":\"Figure\",\"type\":\"Plot\"},{\"attributes\":{\"fill_color\":{\"value\":\"indigo\"},\"line_color\":{\"value\":null},\"size\":{\"units\":\"screen\",\"value\":8},\"x\":{\"field\":\"x\"},\"y\":{\"field\":\"y\"}},\"id\":\"ed6f5524-dea7-4ee8-a296-fd015518b617\",\"type\":\"Circle\"},{\"attributes\":{\"plot\":{\"id\":\"50b67cdf-0261-4c68-9118-72fe133012b0\",\"subtype\":\"Figure\",\"type\":\"Plot\"},\"ticker\":{\"id\":\"b0d683f2-dd38-4747-a442-ad1397618ab3\",\"type\":\"BasicTicker\"}},\"id\":\"a2d02879-c9ac-47a7-97f8-52c5f8359c6d\",\"type\":\"Grid\"},{\"attributes\":{\"plot\":{\"id\":\"49b070b6-2ac5-4bc2-92e4-ed77dff7a3ca\",\"subtype\":\"Figure\",\"type\":\"Plot\"}},\"id\":\"45c0cdcc-ed35-412a-8fdc-d3caa234999e\",\"type\":\"PreviewSaveTool\"},{\"attributes\":{\"fill_alpha\":{\"value\":0.1},\"fill_color\":{\"value\":\"#1f77b4\"},\"line_alpha\":{\"value\":0.1},\"line_color\":{\"value\":\"#1f77b4\"},\"size\":{\"units\":\"screen\",\"value\":8},\"x\":{\"field\":\"x\"},\"y\":{\"field\":\"y\"}},\"id\":\"5a309b28-684c-46a8-b9f8-e9092736ffab\",\"type\":\"Circle\"},{\"attributes\":{\"plot\":{\"id\":\"49b070b6-2ac5-4bc2-92e4-ed77dff7a3ca\",\"subtype\":\"Figure\",\"type\":\"Plot\"},\"ticker\":{\"id\":\"60ae2149-fa32-4467-b68c-83f60cccc3ec\",\"type\":\"BasicTicker\"}},\"id\":\"d737492c-0cc2-41ca-a66c-4e848b1618f5\",\"type\":\"Grid\"},{\"attributes\":{\"plot\":{\"id\":\"98a21e1e-9696-4607-a5bd-803932eea9bc\",\"subtype\":\"Figure\",\"type\":\"Plot\"}},\"id\":\"daf6df26-18c7-4f17-b518-3afac71c7524\",\"type\":\"HelpTool\"},{\"attributes\":{},\"id\":\"c308ade5-46fa-4be0-b252-2f0b5d5a0bb7\",\"type\":\"BasicTickFormatter\"},{\"attributes\":{\"axis_label\":\"counts per interval\",\"axis_label_text_font_size\":{\"value\":\"12pt\"},\"formatter\":{\"id\":\"00668b3b-815f-4486-93a5-76018de441f4\",\"type\":\"BasicTickFormatter\"},\"plot\":{\"id\":\"49b070b6-2ac5-4bc2-92e4-ed77dff7a3ca\",\"subtype\":\"Figure\",\"type\":\"Plot\"},\"ticker\":{\"id\":\"60ae2149-fa32-4467-b68c-83f60cccc3ec\",\"type\":\"BasicTicker\"}},\"id\":\"a41e095c-44ec-48fe-9935-1a7c3a8a3188\",\"type\":\"LinearAxis\"},{\"attributes\":{\"fill_alpha\":{\"value\":0.1},\"fill_color\":{\"value\":\"#1f77b4\"},\"line_alpha\":{\"value\":0.1},\"line_color\":{\"value\":\"#1f77b4\"},\"size\":{\"units\":\"screen\",\"value\":8},\"x\":{\"field\":\"x\"},\"y\":{\"field\":\"y\"}},\"id\":\"c389df32-d3b8-44a8-8706-8a86ac955c67\",\"type\":\"Circle\"},{\"attributes\":{},\"id\":\"b6e35821-04c3-432a-b16a-e2c786220e89\",\"type\":\"BasicTickFormatter\"},{\"attributes\":{\"plot\":{\"id\":\"50b67cdf-0261-4c68-9118-72fe133012b0\",\"subtype\":\"Figure\",\"type\":\"Plot\"}},\"id\":\"4b76c986-0ffb-4804-991b-ad2ed48487c1\",\"type\":\"PreviewSaveTool\"},{\"attributes\":{\"fill_alpha\":{\"value\":0.1},\"fill_color\":{\"value\":\"#1f77b4\"},\"line_alpha\":{\"value\":0.1},\"line_color\":{\"value\":\"#1f77b4\"},\"size\":{\"units\":\"screen\",\"value\":8},\"x\":{\"field\":\"x\"},\"y\":{\"field\":\"y\"}},\"id\":\"24eda122-55f1-4b71-8696-e0352e8ee8b2\",\"type\":\"Circle\"},{\"attributes\":{\"callback\":null,\"end\":0.3},\"id\":\"b7369ddf-2017-4dae-84c7-0d97c0bfddbb\",\"type\":\"Range1d\"},{\"attributes\":{\"bottom_units\":\"screen\",\"fill_alpha\":{\"value\":0.5},\"fill_color\":{\"value\":\"lightgrey\"},\"left_units\":\"screen\",\"level\":\"overlay\",\"line_alpha\":{\"value\":1.0},\"line_color\":{\"value\":\"black\"},\"line_dash\":[4,4],\"line_width\":{\"value\":2},\"plot\":null,\"render_mode\":\"css\",\"right_units\":\"screen\",\"top_units\":\"screen\"},\"id\":\"5e662648-f2ef-43d5-833b-19974da15a5f\",\"type\":\"BoxAnnotation\"},{\"attributes\":{\"plot\":{\"id\":\"49b070b6-2ac5-4bc2-92e4-ed77dff7a3ca\",\"subtype\":\"Figure\",\"type\":\"Plot\"}},\"id\":\"3e1e87e5-7291-4c2e-8133-98fed412d00b\",\"type\":\"ResetTool\"},{\"attributes\":{\"data_source\":{\"id\":\"dc13e084-b59c-4922-9fb8-9757755b3588\",\"type\":\"ColumnDataSource\"},\"glyph\":{\"id\":\"ed6f5524-dea7-4ee8-a296-fd015518b617\",\"type\":\"Circle\"},\"hover_glyph\":null,\"nonselection_glyph\":{\"id\":\"c389df32-d3b8-44a8-8706-8a86ac955c67\",\"type\":\"Circle\"},\"selection_glyph\":null},\"id\":\"17949a32-8f32-4884-b0d1-8e8617e3eb4a\",\"type\":\"GlyphRenderer\"},{\"attributes\":{},\"id\":\"d95cdb3d-4279-4c5a-b76e-cf284c120ac9\",\"type\":\"BasicTicker\"},{\"attributes\":{\"callback\":null,\"column_names\":[\"y\",\"x\"],\"data\":{\"x\":[0,1,2,3,4,5,6,7,8,9,10,11,12,13,14,15,16,17,18,19],\"y\":[2.7536449349747158e-05,0.00028913271817234516,0.001517946770404812,0.005312813696416843,0.013946135953094211,0.029286885501497842,0.05125204962762123,0.07687807444143184,0.10090247270437928,0.1177195514884425,0.12360552906286464,0.11798709592364351,0.10323870893318807,0.08338511106142113,0.06253883329606585,0.043777183307246094,0.02872877654538025,0.017744244336852507,0.010350809196497295,0.005720184029643242]}},\"id\":\"31961ac1-f1b7-4daa-a684-2ab51add4ae4\",\"type\":\"ColumnDataSource\"},{\"attributes\":{\"dimension\":1,\"plot\":{\"id\":\"98a21e1e-9696-4607-a5bd-803932eea9bc\",\"subtype\":\"Figure\",\"type\":\"Plot\"},\"ticker\":{\"id\":\"bbd91299-07b4-4047-b14e-6d30c9ddc2e4\",\"type\":\"BasicTicker\"}},\"id\":\"e7c7e749-5aef-465e-bc61-debec5b710a0\",\"type\":\"Grid\"},{\"attributes\":{\"callback\":null},\"id\":\"ad8d1a81-a5ee-4c72-a1d0-40e0dedb2449\",\"type\":\"DataRange1d\"},{\"attributes\":{},\"id\":\"c61b5953-61b8-467a-b9fa-516ae18bdc59\",\"type\":\"BasicTicker\"},{\"attributes\":{},\"id\":\"cf348fbc-31b8-4e82-af33-dd699c6c603e\",\"type\":\"BasicTicker\"},{\"attributes\":{},\"id\":\"60ae2149-fa32-4467-b68c-83f60cccc3ec\",\"type\":\"BasicTicker\"},{\"attributes\":{},\"id\":\"6358de08-8054-4533-9834-5d35a2db1029\",\"type\":\"BasicTickFormatter\"},{\"attributes\":{\"callback\":null},\"id\":\"cdf7dbe1-23bd-46f3-868f-58f30a9fbab4\",\"type\":\"DataRange1d\"},{\"attributes\":{\"axis_label\":\"probability\",\"axis_label_text_font_size\":{\"value\":\"12pt\"},\"formatter\":{\"id\":\"165628c3-2eb4-4a2d-933d-6575caa19a0c\",\"type\":\"BasicTickFormatter\"},\"plot\":{\"id\":\"f3be2ed9-6345-49d2-8481-09041f235fa9\",\"subtype\":\"Figure\",\"type\":\"Plot\"},\"ticker\":{\"id\":\"cf348fbc-31b8-4e82-af33-dd699c6c603e\",\"type\":\"BasicTicker\"}},\"id\":\"899a6e19-f336-4add-aff8-ccec2464a7a7\",\"type\":\"LinearAxis\"},{\"attributes\":{},\"id\":\"b0d683f2-dd38-4747-a442-ad1397618ab3\",\"type\":\"BasicTicker\"},{\"attributes\":{\"below\":[{\"id\":\"310b0e44-3f75-4ebf-bd85-0cdcd8c2ea3a\",\"type\":\"LinearAxis\"}],\"left\":[{\"id\":\"ba161586-bd53-4699-9761-79496ef25d21\",\"type\":\"LinearAxis\"}],\"plot_height\":450,\"renderers\":[{\"id\":\"310b0e44-3f75-4ebf-bd85-0cdcd8c2ea3a\",\"type\":\"LinearAxis\"},{\"id\":\"a2d02879-c9ac-47a7-97f8-52c5f8359c6d\",\"type\":\"Grid\"},{\"id\":\"ba161586-bd53-4699-9761-79496ef25d21\",\"type\":\"LinearAxis\"},{\"id\":\"bda26755-9a48-42c9-8136-3e8def4d5e7f\",\"type\":\"Grid\"},{\"id\":\"9ec099e6-a244-4baa-85ec-160f2c8baba0\",\"type\":\"GlyphRenderer\"}],\"title\":\"Poisson Distribution\",\"title_text_font_size\":{\"value\":\"16pt\"},\"tool_events\":{\"id\":\"a0226956-b6fe-4009-9115-aef661f1fb36\",\"type\":\"ToolEvents\"},\"tools\":[{\"id\":\"4b76c986-0ffb-4804-991b-ad2ed48487c1\",\"type\":\"PreviewSaveTool\"}],\"x_range\":{\"id\":\"4b5d40f9-0faa-452b-9e4a-3a7250418eb6\",\"type\":\"Range1d\"},\"y_range\":{\"id\":\"b7369ddf-2017-4dae-84c7-0d97c0bfddbb\",\"type\":\"Range1d\"}},\"id\":\"50b67cdf-0261-4c68-9118-72fe133012b0\",\"subtype\":\"Figure\",\"type\":\"Plot\"},{\"attributes\":{\"bottom_units\":\"screen\",\"fill_alpha\":{\"value\":0.5},\"fill_color\":{\"value\":\"lightgrey\"},\"left_units\":\"screen\",\"level\":\"overlay\",\"line_alpha\":{\"value\":1.0},\"line_color\":{\"value\":\"black\"},\"line_dash\":[4,4],\"line_width\":{\"value\":2},\"plot\":null,\"render_mode\":\"css\",\"right_units\":\"screen\",\"top_units\":\"screen\"},\"id\":\"5ddd62f7-8624-417d-839a-a777b508326a\",\"type\":\"BoxAnnotation\"},{\"attributes\":{\"plot\":{\"id\":\"49b070b6-2ac5-4bc2-92e4-ed77dff7a3ca\",\"subtype\":\"Figure\",\"type\":\"Plot\"}},\"id\":\"3e29ae6b-cfb4-4b75-a41f-78a8874d1861\",\"type\":\"WheelZoomTool\"},{\"attributes\":{},\"id\":\"6c2f99c2-3263-4741-8f70-dcb33745d308\",\"type\":\"BasicTicker\"},{\"attributes\":{\"axis_label\":\"probability\",\"axis_label_text_font_size\":{\"value\":\"12pt\"},\"formatter\":{\"id\":\"6358de08-8054-4533-9834-5d35a2db1029\",\"type\":\"BasicTickFormatter\"},\"plot\":{\"id\":\"50b67cdf-0261-4c68-9118-72fe133012b0\",\"subtype\":\"Figure\",\"type\":\"Plot\"},\"ticker\":{\"id\":\"d7e44c3d-12c8-4858-be2a-8d4a42c976e2\",\"type\":\"BasicTicker\"}},\"id\":\"ba161586-bd53-4699-9761-79496ef25d21\",\"type\":\"LinearAxis\"},{\"attributes\":{\"axis_label\":\"counts per interval\",\"axis_label_text_font_size\":{\"value\":\"12pt\"},\"formatter\":{\"id\":\"612d8042-a199-4126-8998-78617aefee5b\",\"type\":\"BasicTickFormatter\"},\"plot\":{\"id\":\"98a21e1e-9696-4607-a5bd-803932eea9bc\",\"subtype\":\"Figure\",\"type\":\"Plot\"},\"ticker\":{\"id\":\"d95cdb3d-4279-4c5a-b76e-cf284c120ac9\",\"type\":\"BasicTicker\"}},\"id\":\"725ef19e-ad75-463d-92da-b44da07e7cce\",\"type\":\"LinearAxis\"},{\"attributes\":{\"plot\":{\"id\":\"98a21e1e-9696-4607-a5bd-803932eea9bc\",\"subtype\":\"Figure\",\"type\":\"Plot\"}},\"id\":\"5deeb140-0afd-471b-bf98-8bebec03c81a\",\"type\":\"ResizeTool\"},{\"attributes\":{\"callback\":null},\"id\":\"9d70367d-a848-4c7c-b5e6-ca77bb7f0c22\",\"type\":\"DataRange1d\"},{\"attributes\":{},\"id\":\"e831f36b-1094-4d5a-9027-adcf7511584b\",\"type\":\"ToolEvents\"},{\"attributes\":{\"fill_alpha\":{\"value\":0.1},\"fill_color\":{\"value\":\"#1f77b4\"},\"line_alpha\":{\"value\":0.1},\"line_color\":{\"value\":\"#1f77b4\"},\"size\":{\"units\":\"screen\",\"value\":8},\"x\":{\"field\":\"x\"},\"y\":{\"field\":\"y\"}},\"id\":\"04ae7245-53ab-4b72-bb89-ba67730c710a\",\"type\":\"Circle\"},{\"attributes\":{\"callback\":null},\"id\":\"514e609c-9fc8-4c83-acb8-df10468f312c\",\"type\":\"DataRange1d\"},{\"attributes\":{\"axis_label\":\"probability\",\"axis_label_text_font_size\":{\"value\":\"12pt\"},\"formatter\":{\"id\":\"31d43f22-8741-4350-bbe2-ab787e893d8b\",\"type\":\"BasicTickFormatter\"},\"plot\":{\"id\":\"49b070b6-2ac5-4bc2-92e4-ed77dff7a3ca\",\"subtype\":\"Figure\",\"type\":\"Plot\"},\"ticker\":{\"id\":\"c61b5953-61b8-467a-b9fa-516ae18bdc59\",\"type\":\"BasicTicker\"}},\"id\":\"4a2c27f4-4ce7-4b59-b17f-8d1244a40561\",\"type\":\"LinearAxis\"},{\"attributes\":{},\"id\":\"bbd91299-07b4-4047-b14e-6d30c9ddc2e4\",\"type\":\"BasicTicker\"},{\"attributes\":{},\"id\":\"f0d77971-2e20-4b98-84c2-eab44c4870cd\",\"type\":\"ToolEvents\"},{\"attributes\":{\"plot\":{\"id\":\"f3be2ed9-6345-49d2-8481-09041f235fa9\",\"subtype\":\"Figure\",\"type\":\"Plot\"},\"ticker\":{\"id\":\"6c2f99c2-3263-4741-8f70-dcb33745d308\",\"type\":\"BasicTicker\"}},\"id\":\"035c7bb7-4ee4-4470-97ac-11c1e7323ac8\",\"type\":\"Grid\"},{\"attributes\":{\"callback\":null},\"id\":\"91236b64-5ebb-4d0f-bee7-1dda39e58c9d\",\"type\":\"DataRange1d\"},{\"attributes\":{\"callback\":null,\"column_names\":[\"y\",\"x\"],\"data\":{\"x\":[0,1,2,3,4,5,6,7,8,9,10,11,12,13,14,15,16,17,18,19],\"y\":[0.006737946999085467,0.03368973499542734,0.08422433748856833,0.14037389581428056,0.1754673697678507,0.1754673697678507,0.1462228081398756,0.104444862957054,0.06527803934815875,0.03626557741564375,0.01813278870782187,0.00824217668537358,0.0034342402855723248,0.0013208616482970478,0.00047173630296323143,0.00015724543432107713,4.91391982253366e-05,1.4452705360393119e-05,4.014640377886977e-06,1.0564843099702573e-06]}},\"id\":\"dc13e084-b59c-4922-9fb8-9757755b3588\",\"type\":\"ColumnDataSource\"},{\"attributes\":{\"axis_label\":\"probability\",\"axis_label_text_font_size\":{\"value\":\"12pt\"},\"formatter\":{\"id\":\"c308ade5-46fa-4be0-b252-2f0b5d5a0bb7\",\"type\":\"BasicTickFormatter\"},\"plot\":{\"id\":\"98a21e1e-9696-4607-a5bd-803932eea9bc\",\"subtype\":\"Figure\",\"type\":\"Plot\"},\"ticker\":{\"id\":\"bbd91299-07b4-4047-b14e-6d30c9ddc2e4\",\"type\":\"BasicTicker\"}},\"id\":\"39ee8163-3368-41ad-a3d2-79b33b510609\",\"type\":\"LinearAxis\"},{\"attributes\":{\"plot\":{\"id\":\"98a21e1e-9696-4607-a5bd-803932eea9bc\",\"subtype\":\"Figure\",\"type\":\"Plot\"},\"ticker\":{\"id\":\"d95cdb3d-4279-4c5a-b76e-cf284c120ac9\",\"type\":\"BasicTicker\"}},\"id\":\"61353f60-27d4-4171-b944-ab8a7c73f719\",\"type\":\"Grid\"},{\"attributes\":{},\"id\":\"1503e7b2-4f16-40df-8431-9928132c331e\",\"type\":\"BasicTickFormatter\"},{\"attributes\":{\"dimension\":1,\"plot\":{\"id\":\"f3be2ed9-6345-49d2-8481-09041f235fa9\",\"subtype\":\"Figure\",\"type\":\"Plot\"},\"ticker\":{\"id\":\"cf348fbc-31b8-4e82-af33-dd699c6c603e\",\"type\":\"BasicTicker\"}},\"id\":\"5e3cdafa-6fff-4ac1-af09-aad6b27b7438\",\"type\":\"Grid\"},{\"attributes\":{\"fill_color\":{\"value\":\"indigo\"},\"line_color\":{\"value\":null},\"size\":{\"units\":\"screen\",\"value\":8},\"x\":{\"field\":\"x\"},\"y\":{\"field\":\"y\"}},\"id\":\"f839ea55-0c68-4c5a-af09-314be087a730\",\"type\":\"Circle\"},{\"attributes\":{},\"id\":\"31d43f22-8741-4350-bbe2-ab787e893d8b\",\"type\":\"BasicTickFormatter\"},{\"attributes\":{\"dimension\":1,\"plot\":{\"id\":\"50b67cdf-0261-4c68-9118-72fe133012b0\",\"subtype\":\"Figure\",\"type\":\"Plot\"},\"ticker\":{\"id\":\"d7e44c3d-12c8-4858-be2a-8d4a42c976e2\",\"type\":\"BasicTicker\"}},\"id\":\"bda26755-9a48-42c9-8136-3e8def4d5e7f\",\"type\":\"Grid\"},{\"attributes\":{},\"id\":\"00668b3b-815f-4486-93a5-76018de441f4\",\"type\":\"BasicTickFormatter\"},{\"attributes\":{\"plot\":{\"id\":\"98a21e1e-9696-4607-a5bd-803932eea9bc\",\"subtype\":\"Figure\",\"type\":\"Plot\"}},\"id\":\"ecfeb843-f571-4e15-9b39-0c71c1901da7\",\"type\":\"PanTool\"},{\"attributes\":{},\"id\":\"612d8042-a199-4126-8998-78617aefee5b\",\"type\":\"BasicTickFormatter\"},{\"attributes\":{\"axis_label\":\"counts per interval\",\"axis_label_text_font_size\":{\"value\":\"12pt\"},\"formatter\":{\"id\":\"b6e35821-04c3-432a-b16a-e2c786220e89\",\"type\":\"BasicTickFormatter\"},\"plot\":{\"id\":\"f3be2ed9-6345-49d2-8481-09041f235fa9\",\"subtype\":\"Figure\",\"type\":\"Plot\"},\"ticker\":{\"id\":\"6c2f99c2-3263-4741-8f70-dcb33745d308\",\"type\":\"BasicTicker\"}},\"id\":\"e1d3fcbf-02b8-4cc8-b2d1-c36ef793a929\",\"type\":\"LinearAxis\"},{\"attributes\":{\"overlay\":{\"id\":\"5ddd62f7-8624-417d-839a-a777b508326a\",\"type\":\"BoxAnnotation\"},\"plot\":{\"id\":\"49b070b6-2ac5-4bc2-92e4-ed77dff7a3ca\",\"subtype\":\"Figure\",\"type\":\"Plot\"}},\"id\":\"f11be5af-cce5-4117-9a78-a03b9d7f846c\",\"type\":\"BoxZoomTool\"},{\"attributes\":{},\"id\":\"ec05ab07-36fc-4181-8bf8-da5dd33c9e2a\",\"type\":\"ToolEvents\"},{\"attributes\":{\"plot\":{\"id\":\"49b070b6-2ac5-4bc2-92e4-ed77dff7a3ca\",\"subtype\":\"Figure\",\"type\":\"Plot\"}},\"id\":\"9665b067-5266-4c57-bb8b-b17b667b8277\",\"type\":\"PanTool\"},{\"attributes\":{\"plot\":{\"id\":\"98a21e1e-9696-4607-a5bd-803932eea9bc\",\"subtype\":\"Figure\",\"type\":\"Plot\"}},\"id\":\"d3eb1351-4f60-4dcc-8c3e-4273c2bf5bd6\",\"type\":\"PreviewSaveTool\"},{\"attributes\":{},\"id\":\"a0226956-b6fe-4009-9115-aef661f1fb36\",\"type\":\"ToolEvents\"},{\"attributes\":{\"below\":[{\"id\":\"e1d3fcbf-02b8-4cc8-b2d1-c36ef793a929\",\"type\":\"LinearAxis\"}],\"left\":[{\"id\":\"899a6e19-f336-4add-aff8-ccec2464a7a7\",\"type\":\"LinearAxis\"}],\"plot_height\":450,\"renderers\":[{\"id\":\"e1d3fcbf-02b8-4cc8-b2d1-c36ef793a929\",\"type\":\"LinearAxis\"},{\"id\":\"035c7bb7-4ee4-4470-97ac-11c1e7323ac8\",\"type\":\"Grid\"},{\"id\":\"899a6e19-f336-4add-aff8-ccec2464a7a7\",\"type\":\"LinearAxis\"},{\"id\":\"5e3cdafa-6fff-4ac1-af09-aad6b27b7438\",\"type\":\"Grid\"},{\"id\":\"89da6195-c06d-4140-acea-3e949e24857c\",\"type\":\"GlyphRenderer\"}],\"title\":\"Poisson Distribution\",\"title_text_font_size\":{\"value\":\"16pt\"},\"tool_events\":{\"id\":\"ec05ab07-36fc-4181-8bf8-da5dd33c9e2a\",\"type\":\"ToolEvents\"},\"tools\":[{\"id\":\"e86173c2-5709-4416-8c09-cecfc1c32842\",\"type\":\"PreviewSaveTool\"}],\"x_range\":{\"id\":\"a41973a3-6877-42d9-9e2b-54c8634ac637\",\"type\":\"DataRange1d\"},\"y_range\":{\"id\":\"cdf7dbe1-23bd-46f3-868f-58f30a9fbab4\",\"type\":\"DataRange1d\"}},\"id\":\"f3be2ed9-6345-49d2-8481-09041f235fa9\",\"subtype\":\"Figure\",\"type\":\"Plot\"},{\"attributes\":{\"data_source\":{\"id\":\"31961ac1-f1b7-4daa-a684-2ab51add4ae4\",\"type\":\"ColumnDataSource\"},\"glyph\":{\"id\":\"a580169b-1423-47fa-9c9c-305c821b7c33\",\"type\":\"Circle\"},\"hover_glyph\":null,\"nonselection_glyph\":{\"id\":\"5a309b28-684c-46a8-b9f8-e9092736ffab\",\"type\":\"Circle\"},\"selection_glyph\":null},\"id\":\"89da6195-c06d-4140-acea-3e949e24857c\",\"type\":\"GlyphRenderer\"},{\"attributes\":{\"plot\":{\"id\":\"f3be2ed9-6345-49d2-8481-09041f235fa9\",\"subtype\":\"Figure\",\"type\":\"Plot\"}},\"id\":\"e86173c2-5709-4416-8c09-cecfc1c32842\",\"type\":\"PreviewSaveTool\"},{\"attributes\":{\"dimension\":1,\"plot\":{\"id\":\"49b070b6-2ac5-4bc2-92e4-ed77dff7a3ca\",\"subtype\":\"Figure\",\"type\":\"Plot\"},\"ticker\":{\"id\":\"c61b5953-61b8-467a-b9fa-516ae18bdc59\",\"type\":\"BasicTicker\"}},\"id\":\"71cd7492-2e72-4401-93d9-d5a37f6d4dbd\",\"type\":\"Grid\"},{\"attributes\":{\"callback\":null,\"column_names\":[\"y\",\"x\"],\"data\":{\"x\":[0,1,2,3,4,5,6,7,8,9,10,11,12,13,14,15,16,17,18,19],\"y\":[0.006737946999085467,0.03368973499542734,0.08422433748856833,0.14037389581428056,0.1754673697678507,0.1754673697678507,0.1462228081398756,0.104444862957054,0.06527803934815875,0.03626557741564375,0.01813278870782187,0.00824217668537358,0.0034342402855723248,0.0013208616482970478,0.00047173630296323143,0.00015724543432107713,4.91391982253366e-05,1.4452705360393119e-05,4.014640377886977e-06,1.0564843099702573e-06]}},\"id\":\"afb10493-de6f-4089-9a0a-2eaad4696a7d\",\"type\":\"ColumnDataSource\"},{\"attributes\":{\"fill_color\":{\"value\":\"indigo\"},\"line_color\":{\"value\":null},\"size\":{\"units\":\"screen\",\"value\":8},\"x\":{\"field\":\"x\"},\"y\":{\"field\":\"y\"}},\"id\":\"a580169b-1423-47fa-9c9c-305c821b7c33\",\"type\":\"Circle\"},{\"attributes\":{},\"id\":\"165628c3-2eb4-4a2d-933d-6575caa19a0c\",\"type\":\"BasicTickFormatter\"},{\"attributes\":{},\"id\":\"d7e44c3d-12c8-4858-be2a-8d4a42c976e2\",\"type\":\"BasicTicker\"},{\"attributes\":{\"plot\":{\"id\":\"49b070b6-2ac5-4bc2-92e4-ed77dff7a3ca\",\"subtype\":\"Figure\",\"type\":\"Plot\"}},\"id\":\"04b88e56-0fbc-49f4-a554-0d698175ca2a\",\"type\":\"HelpTool\"},{\"attributes\":{\"plot\":{\"id\":\"98a21e1e-9696-4607-a5bd-803932eea9bc\",\"subtype\":\"Figure\",\"type\":\"Plot\"}},\"id\":\"6d802ccd-4024-4e6d-a8cb-e5c9b2fae102\",\"type\":\"WheelZoomTool\"},{\"attributes\":{\"fill_color\":{\"value\":\"indigo\"},\"line_color\":{\"value\":null},\"size\":{\"units\":\"screen\",\"value\":8},\"x\":{\"field\":\"x\"},\"y\":{\"field\":\"y\"}},\"id\":\"6554a095-c1ad-4923-a293-403b5949954f\",\"type\":\"Circle\"}],\"root_ids\":[\"50b67cdf-0261-4c68-9118-72fe133012b0\",\"f3be2ed9-6345-49d2-8481-09041f235fa9\",\"49b070b6-2ac5-4bc2-92e4-ed77dff7a3ca\",\"98a21e1e-9696-4607-a5bd-803932eea9bc\"]},\"title\":\"Bokeh Application\",\"version\":\"0.11.1\"}};\n",
       "            var render_items = [{\"docid\":\"6ad380a0-a6cf-4d86-bcf4-3bac96984fb7\",\"elementid\":\"63f4ec35-6f3a-4a5c-a877-b0dc62f493eb\",\"modelid\":\"98a21e1e-9696-4607-a5bd-803932eea9bc\",\"notebook_comms_target\":\"5f45a2ca-a2eb-4f7b-8252-efba3c613b57\"}];\n",
       "            \n",
       "            Bokeh.embed.embed_items(docs_json, render_items);\n",
       "        });\n",
       "      },\n",
       "      function(Bokeh) {\n",
       "      }\n",
       "    ];\n",
       "  \n",
       "    function run_inline_js() {\n",
       "      for (var i = 0; i < inline_js.length; i++) {\n",
       "        inline_js[i](window.Bokeh);\n",
       "      }\n",
       "    }\n",
       "  \n",
       "    if (window._bokeh_is_loading === 0) {\n",
       "      console.log(\"Bokeh: BokehJS loaded, going straight to plotting\");\n",
       "      run_inline_js();\n",
       "    } else {\n",
       "      load_libs(js_urls, function() {\n",
       "        console.log(\"Bokeh: BokehJS plotting callback run at\", now());\n",
       "        run_inline_js();\n",
       "      });\n",
       "    }\n",
       "  }(this));\n",
       "</script>"
      ]
     },
     "metadata": {},
     "output_type": "display_data"
    },
    {
     "data": {
      "text/html": [
       "<p><code>&lt;Bokeh Notebook handle for <strong>In[15]</strong>&gt;</code></p>"
      ],
      "text/plain": [
       "<bokeh.io._CommsHandle at 0x96b2828>"
      ]
     },
     "execution_count": 15,
     "metadata": {},
     "output_type": "execute_result"
    }
   ],
   "source": [
    "#set up the plot\n",
    "p = figure(title=\"Poisson Distribution\", title_text_font = 'helvetica', title_text_font_size = '16pt', plot_height = 450, plot_width = 600)\n",
    "p.grid #grid background\n",
    "\n",
    "#format the x axis\n",
    "p.xaxis.axis_label = \"counts per interval\"\n",
    "p.xaxis.axis_label_text_font = \"helvetica\"\n",
    "p.xaxis.axis_label_text_font_size = \"12pt\"\n",
    "#format the y axis\n",
    "p.yaxis.axis_label = \"probability\"\n",
    "p.yaxis.axis_label_text_font = \"helvetica\"\n",
    "p.yaxis.axis_label_text_font_size = \"12pt\"\n",
    "\n",
    "#plot the data\n",
    "y = generate_poisson(mean) #initialise plot's y-data\n",
    "poisson = p.circle(count, y, size = 8, fill_color = 'indigo', line_color = None)\n",
    "show(p)"
   ]
  },
  {
   "cell_type": "code",
   "execution_count": 16,
   "metadata": {
    "collapsed": false,
    "scrolled": false
   },
   "outputs": [],
   "source": [
    "def update(mean):\n",
    "    #update the plot data\n",
    "    poisson.data_source.data['y'] = generate_poisson(mean)\n",
    "    #push these changes to the notebook\n",
    "    push_notebook()"
   ]
  },
  {
   "cell_type": "code",
   "execution_count": 17,
   "metadata": {
    "collapsed": false
   },
   "outputs": [],
   "source": [
    "#create a slider which calls the function 'update'\n",
    "#and passes 'mean' to it as an argument\n",
    "interact(update, mean=(0.0,count_range))"
   ]
  },
  {
   "cell_type": "markdown",
   "metadata": {},
   "source": [
    "As the mean number of counts per interval increases, the distribution becomes Gaussian:\n",
    "$$P(k) = \\frac{\\lambda^k e^{-\\lambda}}{k!} \\longrightarrow \\frac{1}{\\sqrt{2\\pi\\lambda}}exp\\big(-\\frac{(k-\\lambda)^2}{2\\lambda}\\big)$$"
   ]
  },
  {
   "cell_type": "code",
   "execution_count": null,
   "metadata": {
    "collapsed": true
   },
   "outputs": [],
   "source": []
  }
 ],
 "metadata": {
  "kernelspec": {
   "display_name": "Python 2",
   "language": "python",
   "name": "python2"
  },
  "language_info": {
   "codemirror_mode": {
    "name": "ipython",
    "version": 2
   },
   "file_extension": ".py",
   "mimetype": "text/x-python",
   "name": "python",
   "nbconvert_exporter": "python",
   "pygments_lexer": "ipython2",
   "version": "2.7.11"
  }
 },
 "nbformat": 4,
 "nbformat_minor": 0
}
