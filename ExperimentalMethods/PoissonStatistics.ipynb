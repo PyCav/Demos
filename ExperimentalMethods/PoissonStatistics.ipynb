{
 "cells": [
  {
   "cell_type": "markdown",
   "metadata": {},
   "source": [
    "### Poisson Distribution\n",
    "**Learning objectives: poisson statistics, formatting graphs, creating interactive graphs.**\n",
    "\n",
    "The Poisson distribution gives the probability of a certain number of counts per interval for random, independent events. For example, the number of stars visible per unit solid angle of sky, or the number of photons received from a star per second.\n",
    "\n",
    "If the mean number of events is $\\lambda$, the probability distribution is:\n",
    "$$P(k) = \\frac{\\lambda^k e^{-\\lambda}}{k!},$$\n",
    "where $k$ is the number of counts per interval."
   ]
  },
  {
   "cell_type": "code",
   "execution_count": 1,
   "metadata": {
    "collapsed": false
   },
   "outputs": [],
   "source": [
    "import numpy as np\n",
    "from scipy.misc import factorial\n",
    "\n",
    "from ipywidgets import interact\n",
    "from bokeh.plotting import figure, show\n",
    "from bokeh.io import push_notebook, output_notebook\n",
    "from IPython.display import display"
   ]
  },
  {
   "cell_type": "code",
   "execution_count": 2,
   "metadata": {
    "collapsed": false
   },
   "outputs": [
    {
     "data": {
      "text/html": [
       "\n",
       "    <div class=\"bk-root\">\n",
       "        <a href=\"http://bokeh.pydata.org\" target=\"_blank\" class=\"bk-logo bk-logo-small bk-logo-notebook\"></a>\n",
       "        <span id=\"48a8037e-3db2-4b0a-bf31-2696a7e58da2\">Loading BokehJS ...</span>\n",
       "    </div>"
      ]
     },
     "metadata": {},
     "output_type": "display_data"
    },
    {
     "data": {
      "application/javascript": [
       "\n",
       "(function(global) {\n",
       "  function now() {\n",
       "    return new Date();\n",
       "  }\n",
       "\n",
       "  if (typeof (window._bokeh_onload_callbacks) === \"undefined\") {\n",
       "    window._bokeh_onload_callbacks = [];\n",
       "  }\n",
       "\n",
       "  function run_callbacks() {\n",
       "    window._bokeh_onload_callbacks.forEach(function(callback) { callback() });\n",
       "    delete window._bokeh_onload_callbacks\n",
       "    console.info(\"Bokeh: all callbacks have finished\");\n",
       "  }\n",
       "\n",
       "  function load_libs(js_urls, callback) {\n",
       "    window._bokeh_onload_callbacks.push(callback);\n",
       "    if (window._bokeh_is_loading > 0) {\n",
       "      console.log(\"Bokeh: BokehJS is being loaded, scheduling callback at\", now());\n",
       "      return null;\n",
       "    }\n",
       "    if (js_urls == null || js_urls.length === 0) {\n",
       "      run_callbacks();\n",
       "      return null;\n",
       "    }\n",
       "    console.log(\"Bokeh: BokehJS not loaded, scheduling load and callback at\", now());\n",
       "    window._bokeh_is_loading = js_urls.length;\n",
       "    for (var i = 0; i < js_urls.length; i++) {\n",
       "      var url = js_urls[i];\n",
       "      var s = document.createElement('script');\n",
       "      s.src = url;\n",
       "      s.async = false;\n",
       "      s.onreadystatechange = s.onload = function() {\n",
       "        window._bokeh_is_loading--;\n",
       "        if (window._bokeh_is_loading === 0) {\n",
       "          console.log(\"Bokeh: all BokehJS libraries loaded\");\n",
       "          run_callbacks()\n",
       "        }\n",
       "      };\n",
       "      s.onerror = function() {\n",
       "        console.warn(\"failed to load library \" + url);\n",
       "      };\n",
       "      console.log(\"Bokeh: injecting script tag for BokehJS library: \", url);\n",
       "      document.getElementsByTagName(\"head\")[0].appendChild(s);\n",
       "    }\n",
       "  };\n",
       "\n",
       "  var js_urls = ['https://cdn.pydata.org/bokeh/release/bokeh-0.12.0.min.js', 'https://cdn.pydata.org/bokeh/release/bokeh-widgets-0.12.0.min.js', 'https://cdn.pydata.org/bokeh/release/bokeh-compiler-0.12.0.min.js'];\n",
       "\n",
       "  var inline_js = [\n",
       "    function(Bokeh) {\n",
       "      Bokeh.set_log_level(\"info\");\n",
       "    },\n",
       "    \n",
       "    function(Bokeh) {\n",
       "      Bokeh.$(\"#48a8037e-3db2-4b0a-bf31-2696a7e58da2\").text(\"BokehJS successfully loaded\");\n",
       "    },\n",
       "    function(Bokeh) {\n",
       "      console.log(\"Bokeh: injecting CSS: https://cdn.pydata.org/bokeh/release/bokeh-0.12.0.min.css\");\n",
       "      Bokeh.embed.inject_css(\"https://cdn.pydata.org/bokeh/release/bokeh-0.12.0.min.css\");\n",
       "      console.log(\"Bokeh: injecting CSS: https://cdn.pydata.org/bokeh/release/bokeh-widgets-0.12.0.min.css\");\n",
       "      Bokeh.embed.inject_css(\"https://cdn.pydata.org/bokeh/release/bokeh-widgets-0.12.0.min.css\");\n",
       "    }\n",
       "  ];\n",
       "\n",
       "  function run_inline_js() {\n",
       "    for (var i = 0; i < inline_js.length; i++) {\n",
       "      inline_js[i](window.Bokeh);\n",
       "    }\n",
       "  }\n",
       "\n",
       "  if (window._bokeh_is_loading === 0) {\n",
       "    console.log(\"Bokeh: BokehJS loaded, going straight to plotting\");\n",
       "    run_inline_js();\n",
       "  } else {\n",
       "    load_libs(js_urls, function() {\n",
       "      console.log(\"Bokeh: BokehJS plotting callback run at\", now());\n",
       "      run_inline_js();\n",
       "    });\n",
       "  }\n",
       "}(this));"
      ]
     },
     "metadata": {},
     "output_type": "display_data"
    }
   ],
   "source": [
    "#allow for inline plotting in the notebook\n",
    "output_notebook()"
   ]
  },
  {
   "cell_type": "code",
   "execution_count": 3,
   "metadata": {
    "collapsed": true
   },
   "outputs": [],
   "source": [
    "#initialise the poisson distribution\n",
    "mean = 5.0\n",
    "count_range = 20 #x axis range\n",
    "count = [i for i in range(count_range)] #number of events\n",
    "\n",
    "def generate_poisson(mean):\n",
    "    probability = np.power(mean, count)*np.exp(-mean)/factorial(count) #probability of 'count'\n",
    "    return probability"
   ]
  },
  {
   "cell_type": "code",
   "execution_count": 4,
   "metadata": {
    "collapsed": false
   },
   "outputs": [
    {
     "data": {
      "text/html": [
       "\n",
       "\n",
       "    <div class=\"bk-root\">\n",
       "        <div class=\"plotdiv\" id=\"9d9903f6-af58-48ec-8aff-df0dc7149594\"></div>\n",
       "    </div>\n",
       "<script type=\"text/javascript\">\n",
       "  \n",
       "  (function(global) {\n",
       "    function now() {\n",
       "      return new Date();\n",
       "    }\n",
       "  \n",
       "    if (typeof (window._bokeh_onload_callbacks) === \"undefined\") {\n",
       "      window._bokeh_onload_callbacks = [];\n",
       "    }\n",
       "  \n",
       "    function run_callbacks() {\n",
       "      window._bokeh_onload_callbacks.forEach(function(callback) { callback() });\n",
       "      delete window._bokeh_onload_callbacks\n",
       "      console.info(\"Bokeh: all callbacks have finished\");\n",
       "    }\n",
       "  \n",
       "    function load_libs(js_urls, callback) {\n",
       "      window._bokeh_onload_callbacks.push(callback);\n",
       "      if (window._bokeh_is_loading > 0) {\n",
       "        console.log(\"Bokeh: BokehJS is being loaded, scheduling callback at\", now());\n",
       "        return null;\n",
       "      }\n",
       "      if (js_urls == null || js_urls.length === 0) {\n",
       "        run_callbacks();\n",
       "        return null;\n",
       "      }\n",
       "      console.log(\"Bokeh: BokehJS not loaded, scheduling load and callback at\", now());\n",
       "      window._bokeh_is_loading = js_urls.length;\n",
       "      for (var i = 0; i < js_urls.length; i++) {\n",
       "        var url = js_urls[i];\n",
       "        var s = document.createElement('script');\n",
       "        s.src = url;\n",
       "        s.async = false;\n",
       "        s.onreadystatechange = s.onload = function() {\n",
       "          window._bokeh_is_loading--;\n",
       "          if (window._bokeh_is_loading === 0) {\n",
       "            console.log(\"Bokeh: all BokehJS libraries loaded\");\n",
       "            run_callbacks()\n",
       "          }\n",
       "        };\n",
       "        s.onerror = function() {\n",
       "          console.warn(\"failed to load library \" + url);\n",
       "        };\n",
       "        console.log(\"Bokeh: injecting script tag for BokehJS library: \", url);\n",
       "        document.getElementsByTagName(\"head\")[0].appendChild(s);\n",
       "      }\n",
       "    };var element = document.getElementById(\"9d9903f6-af58-48ec-8aff-df0dc7149594\");\n",
       "    if (element == null) {\n",
       "      console.log(\"Bokeh: ERROR: autoload.js configured with elementid '9d9903f6-af58-48ec-8aff-df0dc7149594' but no matching script tag was found. \")\n",
       "      return false;\n",
       "    }\n",
       "  \n",
       "    var js_urls = [];\n",
       "  \n",
       "    var inline_js = [\n",
       "      function(Bokeh) {\n",
       "        Bokeh.$(function() {\n",
       "            var docs_json = {\"1b3133d7-3d7f-40f9-a2c8-b6a1a4c02ba1\":{\"roots\":{\"references\":[{\"attributes\":{\"active_drag\":\"auto\",\"active_scroll\":\"auto\",\"active_tap\":\"auto\",\"tools\":[{\"id\":\"21390a88-89a8-4257-a525-5abe24fd3902\",\"type\":\"PanTool\"},{\"id\":\"d4bdf405-d8c9-4f17-8ff0-7f75b3c9cbcb\",\"type\":\"WheelZoomTool\"},{\"id\":\"8e7c0242-c251-4cb6-a41f-c67825ad2687\",\"type\":\"BoxZoomTool\"},{\"id\":\"498be48c-e046-462e-8082-23a1677a10b5\",\"type\":\"SaveTool\"},{\"id\":\"e5edb928-3f98-4a54-b63e-d17584cb2d14\",\"type\":\"ResetTool\"},{\"id\":\"7711480c-dec5-4070-8e58-1cfa699e92ba\",\"type\":\"HelpTool\"}]},\"id\":\"c6322293-29af-4d5e-b38d-79c9378fee4a\",\"type\":\"Toolbar\"},{\"attributes\":{},\"id\":\"2853fded-9002-44a2-9aa2-0cc75319f750\",\"type\":\"BasicTicker\"},{\"attributes\":{},\"id\":\"d83f8712-c7f8-4591-907e-e4301c695815\",\"type\":\"BasicTickFormatter\"},{\"attributes\":{},\"id\":\"79d54382-bb3d-4e94-9093-2ae871e6a16a\",\"type\":\"ToolEvents\"},{\"attributes\":{\"dimension\":1,\"plot\":{\"id\":\"9ddd732f-2b02-439e-8f3c-bd17bd030570\",\"subtype\":\"Figure\",\"type\":\"Plot\"},\"ticker\":{\"id\":\"f3183fc8-bd24-4dcf-8e8e-e0497cb9acc5\",\"type\":\"BasicTicker\"}},\"id\":\"39605c60-ff48-4a8f-a228-0503bce0dbc8\",\"type\":\"Grid\"},{\"attributes\":{},\"id\":\"f360739b-6f2a-437c-b512-057dc5d8cfa6\",\"type\":\"BasicTickFormatter\"},{\"attributes\":{\"axis_label\":\"counts per interval\",\"axis_label_text_font_size\":{\"value\":\"12pt\"},\"formatter\":{\"id\":\"d83f8712-c7f8-4591-907e-e4301c695815\",\"type\":\"BasicTickFormatter\"},\"plot\":{\"id\":\"9ddd732f-2b02-439e-8f3c-bd17bd030570\",\"subtype\":\"Figure\",\"type\":\"Plot\"},\"ticker\":{\"id\":\"2853fded-9002-44a2-9aa2-0cc75319f750\",\"type\":\"BasicTicker\"}},\"id\":\"00c08ce1-26d7-45dd-a20e-de62b3d34553\",\"type\":\"LinearAxis\"},{\"attributes\":{\"plot\":{\"id\":\"9ddd732f-2b02-439e-8f3c-bd17bd030570\",\"subtype\":\"Figure\",\"type\":\"Plot\"}},\"id\":\"498be48c-e046-462e-8082-23a1677a10b5\",\"type\":\"SaveTool\"},{\"attributes\":{\"plot\":null,\"text\":\"Poisson Distribution\",\"text_font_size\":{\"value\":\"16pt\"}},\"id\":\"73136cd0-8551-48f7-8e59-708fc5a38fa8\",\"type\":\"Title\"},{\"attributes\":{\"axis_label\":\"probability\",\"axis_label_text_font_size\":{\"value\":\"12pt\"},\"formatter\":{\"id\":\"f360739b-6f2a-437c-b512-057dc5d8cfa6\",\"type\":\"BasicTickFormatter\"},\"plot\":{\"id\":\"9ddd732f-2b02-439e-8f3c-bd17bd030570\",\"subtype\":\"Figure\",\"type\":\"Plot\"},\"ticker\":{\"id\":\"f3183fc8-bd24-4dcf-8e8e-e0497cb9acc5\",\"type\":\"BasicTicker\"}},\"id\":\"8d493523-4869-4cad-8ee6-3bfb362617ec\",\"type\":\"LinearAxis\"},{\"attributes\":{\"bottom_units\":\"screen\",\"fill_alpha\":{\"value\":0.5},\"fill_color\":{\"value\":\"lightgrey\"},\"left_units\":\"screen\",\"level\":\"overlay\",\"line_alpha\":{\"value\":1.0},\"line_color\":{\"value\":\"black\"},\"line_dash\":[4,4],\"line_width\":{\"value\":2},\"plot\":null,\"render_mode\":\"css\",\"right_units\":\"screen\",\"top_units\":\"screen\"},\"id\":\"a60f6582-3acf-49af-9a5a-65585ebc820d\",\"type\":\"BoxAnnotation\"},{\"attributes\":{},\"id\":\"f3183fc8-bd24-4dcf-8e8e-e0497cb9acc5\",\"type\":\"BasicTicker\"},{\"attributes\":{\"callback\":null},\"id\":\"6877dd87-057f-4a4f-91c4-e0a2e29d7e22\",\"type\":\"DataRange1d\"},{\"attributes\":{\"overlay\":{\"id\":\"a60f6582-3acf-49af-9a5a-65585ebc820d\",\"type\":\"BoxAnnotation\"},\"plot\":{\"id\":\"9ddd732f-2b02-439e-8f3c-bd17bd030570\",\"subtype\":\"Figure\",\"type\":\"Plot\"}},\"id\":\"8e7c0242-c251-4cb6-a41f-c67825ad2687\",\"type\":\"BoxZoomTool\"},{\"attributes\":{\"fill_alpha\":{\"value\":0.1},\"fill_color\":{\"value\":\"#1f77b4\"},\"line_alpha\":{\"value\":0.1},\"line_color\":{\"value\":\"#1f77b4\"},\"size\":{\"units\":\"screen\",\"value\":8},\"x\":{\"field\":\"x\"},\"y\":{\"field\":\"y\"}},\"id\":\"54c82be2-7728-439f-92d4-ebc63a8d42d9\",\"type\":\"Circle\"},{\"attributes\":{\"plot\":{\"id\":\"9ddd732f-2b02-439e-8f3c-bd17bd030570\",\"subtype\":\"Figure\",\"type\":\"Plot\"}},\"id\":\"7711480c-dec5-4070-8e58-1cfa699e92ba\",\"type\":\"HelpTool\"},{\"attributes\":{\"plot\":{\"id\":\"9ddd732f-2b02-439e-8f3c-bd17bd030570\",\"subtype\":\"Figure\",\"type\":\"Plot\"}},\"id\":\"d4bdf405-d8c9-4f17-8ff0-7f75b3c9cbcb\",\"type\":\"WheelZoomTool\"},{\"attributes\":{\"plot\":{\"id\":\"9ddd732f-2b02-439e-8f3c-bd17bd030570\",\"subtype\":\"Figure\",\"type\":\"Plot\"},\"ticker\":{\"id\":\"2853fded-9002-44a2-9aa2-0cc75319f750\",\"type\":\"BasicTicker\"}},\"id\":\"096a1879-32e1-4a25-a432-55cd427099fd\",\"type\":\"Grid\"},{\"attributes\":{\"callback\":null,\"column_names\":[\"x\",\"y\"],\"data\":{\"x\":[0,1,2,3,4,5,6,7,8,9,10,11,12,13,14,15,16,17,18,19],\"y\":[0.006737946999085467,0.03368973499542734,0.08422433748856833,0.14037389581428056,0.1754673697678507,0.1754673697678507,0.1462228081398756,0.104444862957054,0.06527803934815875,0.03626557741564375,0.01813278870782187,0.00824217668537358,0.0034342402855723248,0.0013208616482970478,0.00047173630296323143,0.00015724543432107713,4.91391982253366e-05,1.4452705360393119e-05,4.014640377886977e-06,1.0564843099702573e-06]}},\"id\":\"0e5bff27-1c1f-42d6-9e85-52f60a5906f4\",\"type\":\"ColumnDataSource\"},{\"attributes\":{\"below\":[{\"id\":\"00c08ce1-26d7-45dd-a20e-de62b3d34553\",\"type\":\"LinearAxis\"}],\"left\":[{\"id\":\"8d493523-4869-4cad-8ee6-3bfb362617ec\",\"type\":\"LinearAxis\"}],\"plot_height\":450,\"renderers\":[{\"id\":\"00c08ce1-26d7-45dd-a20e-de62b3d34553\",\"type\":\"LinearAxis\"},{\"id\":\"096a1879-32e1-4a25-a432-55cd427099fd\",\"type\":\"Grid\"},{\"id\":\"8d493523-4869-4cad-8ee6-3bfb362617ec\",\"type\":\"LinearAxis\"},{\"id\":\"39605c60-ff48-4a8f-a228-0503bce0dbc8\",\"type\":\"Grid\"},{\"id\":\"a60f6582-3acf-49af-9a5a-65585ebc820d\",\"type\":\"BoxAnnotation\"},{\"id\":\"b15e043c-e25b-478d-bde3-ccc754252682\",\"type\":\"GlyphRenderer\"}],\"title\":{\"id\":\"73136cd0-8551-48f7-8e59-708fc5a38fa8\",\"type\":\"Title\"},\"tool_events\":{\"id\":\"79d54382-bb3d-4e94-9093-2ae871e6a16a\",\"type\":\"ToolEvents\"},\"toolbar\":{\"id\":\"c6322293-29af-4d5e-b38d-79c9378fee4a\",\"type\":\"Toolbar\"},\"x_range\":{\"id\":\"6877dd87-057f-4a4f-91c4-e0a2e29d7e22\",\"type\":\"DataRange1d\"},\"y_range\":{\"id\":\"c3c29fff-06de-4d2d-91a5-1258a3cb7181\",\"type\":\"DataRange1d\"}},\"id\":\"9ddd732f-2b02-439e-8f3c-bd17bd030570\",\"subtype\":\"Figure\",\"type\":\"Plot\"},{\"attributes\":{\"plot\":{\"id\":\"9ddd732f-2b02-439e-8f3c-bd17bd030570\",\"subtype\":\"Figure\",\"type\":\"Plot\"}},\"id\":\"e5edb928-3f98-4a54-b63e-d17584cb2d14\",\"type\":\"ResetTool\"},{\"attributes\":{\"callback\":null},\"id\":\"c3c29fff-06de-4d2d-91a5-1258a3cb7181\",\"type\":\"DataRange1d\"},{\"attributes\":{\"fill_color\":{\"value\":\"indigo\"},\"line_color\":{\"value\":null},\"size\":{\"units\":\"screen\",\"value\":8},\"x\":{\"field\":\"x\"},\"y\":{\"field\":\"y\"}},\"id\":\"b2220555-e68f-44a2-98f9-b4075bce21b9\",\"type\":\"Circle\"},{\"attributes\":{\"plot\":{\"id\":\"9ddd732f-2b02-439e-8f3c-bd17bd030570\",\"subtype\":\"Figure\",\"type\":\"Plot\"}},\"id\":\"21390a88-89a8-4257-a525-5abe24fd3902\",\"type\":\"PanTool\"},{\"attributes\":{\"data_source\":{\"id\":\"0e5bff27-1c1f-42d6-9e85-52f60a5906f4\",\"type\":\"ColumnDataSource\"},\"glyph\":{\"id\":\"b2220555-e68f-44a2-98f9-b4075bce21b9\",\"type\":\"Circle\"},\"hover_glyph\":null,\"nonselection_glyph\":{\"id\":\"54c82be2-7728-439f-92d4-ebc63a8d42d9\",\"type\":\"Circle\"},\"selection_glyph\":null},\"id\":\"b15e043c-e25b-478d-bde3-ccc754252682\",\"type\":\"GlyphRenderer\"}],\"root_ids\":[\"9ddd732f-2b02-439e-8f3c-bd17bd030570\"]},\"title\":\"Bokeh Application\",\"version\":\"0.12.0\"}};\n",
       "            var render_items = [{\"docid\":\"1b3133d7-3d7f-40f9-a2c8-b6a1a4c02ba1\",\"elementid\":\"9d9903f6-af58-48ec-8aff-df0dc7149594\",\"modelid\":\"9ddd732f-2b02-439e-8f3c-bd17bd030570\",\"notebook_comms_target\":\"873f966c-8ab2-44b6-9c0f-d1b2229e76c9\"}];\n",
       "            \n",
       "            Bokeh.embed.embed_items(docs_json, render_items);\n",
       "        });\n",
       "      },\n",
       "      function(Bokeh) {\n",
       "      }\n",
       "    ];\n",
       "  \n",
       "    function run_inline_js() {\n",
       "      for (var i = 0; i < inline_js.length; i++) {\n",
       "        inline_js[i](window.Bokeh);\n",
       "      }\n",
       "    }\n",
       "  \n",
       "    if (window._bokeh_is_loading === 0) {\n",
       "      console.log(\"Bokeh: BokehJS loaded, going straight to plotting\");\n",
       "      run_inline_js();\n",
       "    } else {\n",
       "      load_libs(js_urls, function() {\n",
       "        console.log(\"Bokeh: BokehJS plotting callback run at\", now());\n",
       "        run_inline_js();\n",
       "      });\n",
       "    }\n",
       "  }(this));\n",
       "</script>"
      ]
     },
     "metadata": {},
     "output_type": "display_data"
    },
    {
     "data": {
      "text/html": [
       "<p><code>&lt;Bokeh Notebook handle for <strong>In[4]</strong>&gt;</code></p>"
      ],
      "text/plain": [
       "<bokeh.io._CommsHandle at 0x248d075ed68>"
      ]
     },
     "execution_count": 4,
     "metadata": {},
     "output_type": "execute_result"
    }
   ],
   "source": [
    "#set up the plot\n",
    "p = figure(title=\"Poisson Distribution\", plot_height = 450, plot_width = 600)\n",
    "p.title.text_font_size = '16pt'\n",
    "p.title.text_font = 'helvetica'\n",
    "p.grid #grid background\n",
    "\n",
    "#format the x axis\n",
    "p.xaxis.axis_label = \"counts per interval\"\n",
    "p.xaxis.axis_label_text_font = \"helvetica\"\n",
    "p.xaxis.axis_label_text_font_size = \"12pt\"\n",
    "#format the y axis\n",
    "p.yaxis.axis_label = \"probability\"\n",
    "p.yaxis.axis_label_text_font = \"helvetica\"\n",
    "p.yaxis.axis_label_text_font_size = \"12pt\"\n",
    "\n",
    "#plot the data\n",
    "y = generate_poisson(mean) #initialise plot's y-data\n",
    "poisson = p.circle(count, y, size = 8, fill_color = 'indigo', line_color = None)\n",
    "show(p)"
   ]
  },
  {
   "cell_type": "code",
   "execution_count": 5,
   "metadata": {
    "collapsed": false,
    "scrolled": false
   },
   "outputs": [],
   "source": [
    "def update(mean):\n",
    "    #update the plot data\n",
    "    poisson.data_source.data['y'] = generate_poisson(mean)\n",
    "    #push these changes to the notebook\n",
    "    push_notebook()"
   ]
  },
  {
   "cell_type": "code",
   "execution_count": 6,
   "metadata": {
    "collapsed": false
   },
   "outputs": [],
   "source": [
    "#create a slider which calls the function 'update'\n",
    "#and passes 'mean' to it as an argument\n",
    "interact(update, mean=(0.0,count_range))"
   ]
  },
  {
   "cell_type": "markdown",
   "metadata": {},
   "source": [
    "As the mean number of counts per interval increases, the distribution becomes Gaussian:\n",
    "$$P(k) = \\frac{\\lambda^k e^{-\\lambda}}{k!} \\longrightarrow \\frac{1}{\\sqrt{2\\pi\\lambda}}exp\\big(-\\frac{(k-\\lambda)^2}{2\\lambda}\\big)$$"
   ]
  }
 ],
 "metadata": {
  "kernelspec": {
   "display_name": "Python 3",
   "language": "python",
   "name": "python3"
  },
  "language_info": {
   "codemirror_mode": {
    "name": "ipython",
    "version": 3
   },
   "file_extension": ".py",
   "mimetype": "text/x-python",
   "name": "python",
   "nbconvert_exporter": "python",
   "pygments_lexer": "ipython3",
   "version": "3.5.2"
  }
 },
 "nbformat": 4,
 "nbformat_minor": 0
}
