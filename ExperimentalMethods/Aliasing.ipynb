{
 "cells": [
  {
   "cell_type": "markdown",
   "metadata": {},
   "source": [
    "### Aliasing\n",
    "**Learning objectives: using fast fourier transforms, aliasing.**\n",
    "\n",
    "A noiseless analogue signal can be recovered perfectly from discretely sampled data, provided the sampling rate is greater than double the highest frequency component. This is Nyquist's theorem. If a signal is sampled below this rate, aliasing occurs."
   ]
  },
  {
   "cell_type": "code",
   "execution_count": 8,
   "metadata": {
    "collapsed": false
   },
   "outputs": [
    {
     "data": {
      "text/html": [
       "\n",
       "    <div class=\"bk-root\">\n",
       "        <a href=\"http://bokeh.pydata.org\" target=\"_blank\" class=\"bk-logo bk-logo-small bk-logo-notebook\"></a>\n",
       "        <span id=\"4348e4eb-ebc8-4bda-8d8d-8d51d9de32aa\">Loading BokehJS ...</span>\n",
       "    </div>"
      ]
     },
     "metadata": {},
     "output_type": "display_data"
    },
    {
     "data": {
      "application/javascript": [
       "\n",
       "(function(global) {\n",
       "  function now() {\n",
       "    return new Date();\n",
       "  }\n",
       "\n",
       "  if (typeof (window._bokeh_onload_callbacks) === \"undefined\") {\n",
       "    window._bokeh_onload_callbacks = [];\n",
       "  }\n",
       "\n",
       "  function run_callbacks() {\n",
       "    window._bokeh_onload_callbacks.forEach(function(callback) { callback() });\n",
       "    delete window._bokeh_onload_callbacks\n",
       "    console.info(\"Bokeh: all callbacks have finished\");\n",
       "  }\n",
       "\n",
       "  function load_libs(js_urls, callback) {\n",
       "    window._bokeh_onload_callbacks.push(callback);\n",
       "    if (window._bokeh_is_loading > 0) {\n",
       "      console.log(\"Bokeh: BokehJS is being loaded, scheduling callback at\", now());\n",
       "      return null;\n",
       "    }\n",
       "    if (js_urls == null || js_urls.length === 0) {\n",
       "      run_callbacks();\n",
       "      return null;\n",
       "    }\n",
       "    console.log(\"Bokeh: BokehJS not loaded, scheduling load and callback at\", now());\n",
       "    window._bokeh_is_loading = js_urls.length;\n",
       "    for (var i = 0; i < js_urls.length; i++) {\n",
       "      var url = js_urls[i];\n",
       "      var s = document.createElement('script');\n",
       "      s.src = url;\n",
       "      s.async = false;\n",
       "      s.onreadystatechange = s.onload = function() {\n",
       "        window._bokeh_is_loading--;\n",
       "        if (window._bokeh_is_loading === 0) {\n",
       "          console.log(\"Bokeh: all BokehJS libraries loaded\");\n",
       "          run_callbacks()\n",
       "        }\n",
       "      };\n",
       "      s.onerror = function() {\n",
       "        console.warn(\"failed to load library \" + url);\n",
       "      };\n",
       "      console.log(\"Bokeh: injecting script tag for BokehJS library: \", url);\n",
       "      document.getElementsByTagName(\"head\")[0].appendChild(s);\n",
       "    }\n",
       "  };\n",
       "\n",
       "  var js_urls = ['https://cdn.pydata.org/bokeh/release/bokeh-0.12.0.min.js', 'https://cdn.pydata.org/bokeh/release/bokeh-widgets-0.12.0.min.js', 'https://cdn.pydata.org/bokeh/release/bokeh-compiler-0.12.0.min.js'];\n",
       "\n",
       "  var inline_js = [\n",
       "    function(Bokeh) {\n",
       "      Bokeh.set_log_level(\"info\");\n",
       "    },\n",
       "    \n",
       "    function(Bokeh) {\n",
       "      Bokeh.$(\"#4348e4eb-ebc8-4bda-8d8d-8d51d9de32aa\").text(\"BokehJS successfully loaded\");\n",
       "    },\n",
       "    function(Bokeh) {\n",
       "      console.log(\"Bokeh: injecting CSS: https://cdn.pydata.org/bokeh/release/bokeh-0.12.0.min.css\");\n",
       "      Bokeh.embed.inject_css(\"https://cdn.pydata.org/bokeh/release/bokeh-0.12.0.min.css\");\n",
       "      console.log(\"Bokeh: injecting CSS: https://cdn.pydata.org/bokeh/release/bokeh-widgets-0.12.0.min.css\");\n",
       "      Bokeh.embed.inject_css(\"https://cdn.pydata.org/bokeh/release/bokeh-widgets-0.12.0.min.css\");\n",
       "    }\n",
       "  ];\n",
       "\n",
       "  function run_inline_js() {\n",
       "    for (var i = 0; i < inline_js.length; i++) {\n",
       "      inline_js[i](window.Bokeh);\n",
       "    }\n",
       "  }\n",
       "\n",
       "  if (window._bokeh_is_loading === 0) {\n",
       "    console.log(\"Bokeh: BokehJS loaded, going straight to plotting\");\n",
       "    run_inline_js();\n",
       "  } else {\n",
       "    load_libs(js_urls, function() {\n",
       "      console.log(\"Bokeh: BokehJS plotting callback run at\", now());\n",
       "      run_inline_js();\n",
       "    });\n",
       "  }\n",
       "}(this));"
      ]
     },
     "metadata": {},
     "output_type": "display_data"
    }
   ],
   "source": [
    "import numpy as np\n",
    "from numpy import pi\n",
    "from numpy.fft import fft, ifft, fftshift\n",
    "\n",
    "from bokeh.plotting import figure, show, output_notebook\n",
    "from bokeh.io import push_notebook, gridplot\n",
    "from ipywidgets import widgets, interact\n",
    "from IPython.display import display\n",
    "\n",
    "output_notebook()\n",
    "\n",
    "sample_no = 256\n",
    "signal_frequency = 100.0\n",
    "\n",
    "#time domain function f(t)\n",
    "t = np.linspace(-0.5,0.5,sample_no)\n",
    "f = np.cos(2*signal_frequency*pi*t)"
   ]
  },
  {
   "cell_type": "markdown",
   "metadata": {},
   "source": [
    "Time is plotted from 0s to 1s and there are 256 samples. The sampling frequency is therefore 256 Hz, giving a Nyqyuist limit of 128 Hz. Any signal of frequency greater than 128 Hz will be aliased to a frequency below this."
   ]
  },
  {
   "cell_type": "code",
   "execution_count": 9,
   "metadata": {
    "collapsed": false
   },
   "outputs": [
    {
     "data": {
      "text/html": [
       "\n",
       "\n",
       "    <div class=\"bk-root\">\n",
       "        <div class=\"plotdiv\" id=\"3267171d-11f2-4b0f-9d53-7765d8712715\"></div>\n",
       "    </div>\n",
       "<script type=\"text/javascript\">\n",
       "  \n",
       "  (function(global) {\n",
       "    function now() {\n",
       "      return new Date();\n",
       "    }\n",
       "  \n",
       "    if (typeof (window._bokeh_onload_callbacks) === \"undefined\") {\n",
       "      window._bokeh_onload_callbacks = [];\n",
       "    }\n",
       "  \n",
       "    function run_callbacks() {\n",
       "      window._bokeh_onload_callbacks.forEach(function(callback) { callback() });\n",
       "      delete window._bokeh_onload_callbacks\n",
       "      console.info(\"Bokeh: all callbacks have finished\");\n",
       "    }\n",
       "  \n",
       "    function load_libs(js_urls, callback) {\n",
       "      window._bokeh_onload_callbacks.push(callback);\n",
       "      if (window._bokeh_is_loading > 0) {\n",
       "        console.log(\"Bokeh: BokehJS is being loaded, scheduling callback at\", now());\n",
       "        return null;\n",
       "      }\n",
       "      if (js_urls == null || js_urls.length === 0) {\n",
       "        run_callbacks();\n",
       "        return null;\n",
       "      }\n",
       "      console.log(\"Bokeh: BokehJS not loaded, scheduling load and callback at\", now());\n",
       "      window._bokeh_is_loading = js_urls.length;\n",
       "      for (var i = 0; i < js_urls.length; i++) {\n",
       "        var url = js_urls[i];\n",
       "        var s = document.createElement('script');\n",
       "        s.src = url;\n",
       "        s.async = false;\n",
       "        s.onreadystatechange = s.onload = function() {\n",
       "          window._bokeh_is_loading--;\n",
       "          if (window._bokeh_is_loading === 0) {\n",
       "            console.log(\"Bokeh: all BokehJS libraries loaded\");\n",
       "            run_callbacks()\n",
       "          }\n",
       "        };\n",
       "        s.onerror = function() {\n",
       "          console.warn(\"failed to load library \" + url);\n",
       "        };\n",
       "        console.log(\"Bokeh: injecting script tag for BokehJS library: \", url);\n",
       "        document.getElementsByTagName(\"head\")[0].appendChild(s);\n",
       "      }\n",
       "    };var element = document.getElementById(\"3267171d-11f2-4b0f-9d53-7765d8712715\");\n",
       "    if (element == null) {\n",
       "      console.log(\"Bokeh: ERROR: autoload.js configured with elementid '3267171d-11f2-4b0f-9d53-7765d8712715' but no matching script tag was found. \")\n",
       "      return false;\n",
       "    }\n",
       "  \n",
       "    var js_urls = [];\n",
       "  \n",
       "    var inline_js = [\n",
       "      function(Bokeh) {\n",
       "        Bokeh.$(function() {\n",
       "            var docs_json = {\"c63c49ef-bd77-4b78-9638-30931c0ddc6a\":{\"roots\":{\"references\":[{\"attributes\":{\"active_drag\":\"auto\",\"active_scroll\":\"auto\",\"active_tap\":\"auto\",\"tools\":[{\"id\":\"54259e01-edad-47ea-8558-d0299048b300\",\"type\":\"PanTool\"},{\"id\":\"56ccf015-166d-4f75-8b1a-6c76ce071a5e\",\"type\":\"WheelZoomTool\"},{\"id\":\"b73b8415-8d31-4e05-9dc6-28658e61e120\",\"type\":\"BoxZoomTool\"},{\"id\":\"f9465b37-58f0-4612-b27c-f536eae3990f\",\"type\":\"SaveTool\"},{\"id\":\"0678f155-69f1-4148-a176-6288f0de7854\",\"type\":\"ResetTool\"},{\"id\":\"bbdb0d98-d629-45ee-bc1f-c9ecff659795\",\"type\":\"HelpTool\"}]},\"id\":\"b09fe155-bbc6-4138-8a57-de9d85112a76\",\"type\":\"Toolbar\"},{\"attributes\":{\"plot\":{\"id\":\"152d9843-d805-490c-998b-8fdbac21f570\",\"subtype\":\"Figure\",\"type\":\"Plot\"}},\"id\":\"0678f155-69f1-4148-a176-6288f0de7854\",\"type\":\"ResetTool\"},{\"attributes\":{\"dimension\":1,\"plot\":{\"id\":\"152d9843-d805-490c-998b-8fdbac21f570\",\"subtype\":\"Figure\",\"type\":\"Plot\"},\"ticker\":{\"id\":\"dffc7ab2-7027-49f7-8a2d-566c16be286e\",\"type\":\"BasicTicker\"}},\"id\":\"8ec8d228-22c4-4792-bbb1-f135c1105294\",\"type\":\"Grid\"},{\"attributes\":{},\"id\":\"dffc7ab2-7027-49f7-8a2d-566c16be286e\",\"type\":\"BasicTicker\"},{\"attributes\":{\"data_source\":{\"id\":\"507be48f-4bba-4486-9e3b-ccedb07a7b07\",\"type\":\"ColumnDataSource\"},\"glyph\":{\"id\":\"5eadebc0-faef-4898-b312-596e57cb8b1b\",\"type\":\"Line\"},\"hover_glyph\":null,\"nonselection_glyph\":{\"id\":\"1656152b-db0f-4891-a7cc-be5a8a311e2c\",\"type\":\"Line\"},\"selection_glyph\":null},\"id\":\"9e27c84c-3fe7-44f8-b090-acd9358b11e1\",\"type\":\"GlyphRenderer\"},{\"attributes\":{\"plot\":null,\"text\":null},\"id\":\"fc3bd646-378f-4a8e-ada1-f43797b1516f\",\"type\":\"Title\"},{\"attributes\":{\"line_color\":{\"value\":\"#1f77b4\"},\"x\":{\"field\":\"x\"},\"y\":{\"field\":\"y\"}},\"id\":\"5eadebc0-faef-4898-b312-596e57cb8b1b\",\"type\":\"Line\"},{\"attributes\":{\"line_alpha\":{\"value\":0.1},\"line_color\":{\"value\":\"#1f77b4\"},\"x\":{\"field\":\"x\"},\"y\":{\"field\":\"y\"}},\"id\":\"1656152b-db0f-4891-a7cc-be5a8a311e2c\",\"type\":\"Line\"},{\"attributes\":{\"callback\":null},\"id\":\"d5066512-318b-4165-a20d-2b0467800ed5\",\"type\":\"DataRange1d\"},{\"attributes\":{\"plot\":{\"id\":\"152d9843-d805-490c-998b-8fdbac21f570\",\"subtype\":\"Figure\",\"type\":\"Plot\"}},\"id\":\"56ccf015-166d-4f75-8b1a-6c76ce071a5e\",\"type\":\"WheelZoomTool\"},{\"attributes\":{\"plot\":{\"id\":\"152d9843-d805-490c-998b-8fdbac21f570\",\"subtype\":\"Figure\",\"type\":\"Plot\"},\"ticker\":{\"id\":\"5a6af9dd-9b6a-41bd-b604-a5b55c50082a\",\"type\":\"BasicTicker\"}},\"id\":\"97cbddf3-dfdf-4d08-8e39-2e0088c59b78\",\"type\":\"Grid\"},{\"attributes\":{\"below\":[{\"id\":\"d58184e2-1230-4277-a112-bcb9ce337a51\",\"type\":\"LinearAxis\"}],\"left\":[{\"id\":\"22233cbd-b66b-4296-879a-b814a675c02e\",\"type\":\"LinearAxis\"}],\"renderers\":[{\"id\":\"d58184e2-1230-4277-a112-bcb9ce337a51\",\"type\":\"LinearAxis\"},{\"id\":\"97cbddf3-dfdf-4d08-8e39-2e0088c59b78\",\"type\":\"Grid\"},{\"id\":\"22233cbd-b66b-4296-879a-b814a675c02e\",\"type\":\"LinearAxis\"},{\"id\":\"8ec8d228-22c4-4792-bbb1-f135c1105294\",\"type\":\"Grid\"},{\"id\":\"109e8ce2-e042-40f6-af61-46de7a1b1241\",\"type\":\"BoxAnnotation\"},{\"id\":\"9e27c84c-3fe7-44f8-b090-acd9358b11e1\",\"type\":\"GlyphRenderer\"}],\"title\":{\"id\":\"fc3bd646-378f-4a8e-ada1-f43797b1516f\",\"type\":\"Title\"},\"tool_events\":{\"id\":\"78688874-7f67-425d-8e7e-8c1035297ed8\",\"type\":\"ToolEvents\"},\"toolbar\":{\"id\":\"b09fe155-bbc6-4138-8a57-de9d85112a76\",\"type\":\"Toolbar\"},\"x_range\":{\"id\":\"7e8c4083-e6e0-4f12-bd40-72b23e2345f3\",\"type\":\"DataRange1d\"},\"y_range\":{\"id\":\"d5066512-318b-4165-a20d-2b0467800ed5\",\"type\":\"DataRange1d\"}},\"id\":\"152d9843-d805-490c-998b-8fdbac21f570\",\"subtype\":\"Figure\",\"type\":\"Plot\"},{\"attributes\":{},\"id\":\"95d92a94-8f12-4e61-8eab-f282794857c5\",\"type\":\"BasicTickFormatter\"},{\"attributes\":{\"overlay\":{\"id\":\"109e8ce2-e042-40f6-af61-46de7a1b1241\",\"type\":\"BoxAnnotation\"},\"plot\":{\"id\":\"152d9843-d805-490c-998b-8fdbac21f570\",\"subtype\":\"Figure\",\"type\":\"Plot\"}},\"id\":\"b73b8415-8d31-4e05-9dc6-28658e61e120\",\"type\":\"BoxZoomTool\"},{\"attributes\":{\"callback\":null},\"id\":\"7e8c4083-e6e0-4f12-bd40-72b23e2345f3\",\"type\":\"DataRange1d\"},{\"attributes\":{\"plot\":{\"id\":\"152d9843-d805-490c-998b-8fdbac21f570\",\"subtype\":\"Figure\",\"type\":\"Plot\"}},\"id\":\"54259e01-edad-47ea-8558-d0299048b300\",\"type\":\"PanTool\"},{\"attributes\":{},\"id\":\"5a4c630b-2669-4481-b969-c03cafa9c4fc\",\"type\":\"BasicTickFormatter\"},{\"attributes\":{\"callback\":null,\"column_names\":[\"x\",\"y\"],\"data\":{\"x\":[-128.0,-126.99607843137255,-125.9921568627451,-124.98823529411764,-123.9843137254902,-122.98039215686275,-121.97647058823529,-120.97254901960784,-119.96862745098039,-118.96470588235294,-117.9607843137255,-116.95686274509804,-115.95294117647059,-114.94901960784314,-113.94509803921568,-112.94117647058823,-111.93725490196078,-110.93333333333334,-109.92941176470589,-108.92549019607843,-107.92156862745098,-106.91764705882353,-105.91372549019607,-104.90980392156862,-103.90588235294118,-102.90196078431373,-101.89803921568628,-100.89411764705882,-99.89019607843137,-98.88627450980393,-97.88235294117646,-96.87843137254902,-95.87450980392157,-94.87058823529412,-93.86666666666667,-92.86274509803921,-91.85882352941177,-90.85490196078432,-89.85098039215686,-88.84705882352941,-87.84313725490196,-86.83921568627451,-85.83529411764707,-84.8313725490196,-83.82745098039216,-82.82352941176471,-81.81960784313725,-80.8156862745098,-79.81176470588235,-78.8078431372549,-77.80392156862746,-76.8,-75.79607843137255,-74.7921568627451,-73.78823529411764,-72.7843137254902,-71.78039215686275,-70.7764705882353,-69.77254901960785,-68.76862745098039,-67.76470588235294,-66.7607843137255,-65.75686274509803,-64.75294117647059,-63.74901960784314,-62.74509803921569,-61.74117647058824,-60.73725490196078,-59.733333333333334,-58.72941176470589,-57.725490196078425,-56.72156862745098,-55.71764705882353,-54.71372549019608,-53.709803921568636,-52.705882352941174,-51.70196078431373,-50.69803921568628,-49.69411764705882,-48.69019607843137,-47.68627450980392,-46.682352941176475,-45.67843137254903,-44.674509803921566,-43.67058823529412,-42.66666666666667,-41.66274509803921,-40.65882352941176,-39.654901960784315,-38.65098039215687,-37.64705882352942,-36.64313725490196,-35.63921568627451,-34.635294117647064,-33.6313725490196,-32.627450980392155,-31.623529411764707,-30.61960784313726,-29.615686274509812,-28.61176470588235,-27.607843137254903,-26.603921568627456,-25.599999999999994,-24.596078431372547,-23.5921568627451,-22.588235294117652,-21.584313725490205,-20.580392156862743,-19.576470588235296,-18.572549019607848,-17.568627450980387,-16.56470588235294,-15.560784313725492,-14.556862745098044,-13.552941176470597,-12.549019607843135,-11.545098039215688,-10.54117647058824,-9.537254901960779,-8.533333333333331,-7.529411764705884,-6.525490196078437,-5.521568627450989,-4.517647058823528,-3.51372549019608,-2.5098039215686327,-1.5058823529411711,-0.5019607843137237,0.5019607843137237,1.5058823529411711,2.5098039215686185,3.513725490196066,4.517647058823513,5.521568627450989,6.525490196078437,7.529411764705884,8.533333333333331,9.537254901960779,10.541176470588226,11.545098039215674,12.54901960784315,13.552941176470597,14.556862745098044,15.560784313725492,16.56470588235294,17.568627450980387,18.572549019607834,19.57647058823528,20.58039215686273,21.584313725490205,22.588235294117652,23.5921568627451,24.596078431372547,25.599999999999994,26.60392156862744,27.60784313725489,28.611764705882365,29.615686274509812,30.61960784313726,31.623529411764707,32.627450980392155,33.6313725490196,34.63529411764705,35.6392156862745,36.643137254901944,37.64705882352942,38.65098039215687,39.654901960784315,40.65882352941176,41.66274509803921,42.66666666666666,43.670588235294105,44.67450980392158,45.67843137254903,46.682352941176475,47.68627450980392,48.69019607843137,49.69411764705882,50.698039215686265,51.70196078431371,52.70588235294116,53.709803921568636,54.71372549019608,55.71764705882353,56.72156862745098,57.725490196078425,58.72941176470587,59.73333333333332,60.737254901960796,61.74117647058824,62.74509803921569,63.74901960784314,64.75294117647059,65.75686274509803,66.76078431372548,67.76470588235293,68.76862745098038,69.77254901960785,70.7764705882353,71.78039215686275,72.7843137254902,73.78823529411764,74.79215686274509,75.79607843137254,76.80000000000001,77.80392156862746,78.8078431372549,79.81176470588235,80.8156862745098,81.81960784313725,82.8235294117647,83.82745098039214,84.83137254901959,85.83529411764707,86.83921568627451,87.84313725490196,88.84705882352941,89.85098039215686,90.8549019607843,91.85882352941175,92.86274509803923,93.86666666666667,94.87058823529412,95.87450980392157,96.87843137254902,97.88235294117646,98.88627450980391,99.89019607843136,100.8941176470588,101.89803921568628,102.90196078431373,103.90588235294118,104.90980392156862,105.91372549019607,106.91764705882352,107.92156862745097,108.92549019607844,109.92941176470589,110.93333333333334,111.93725490196078,112.94117647058823,113.94509803921568,114.94901960784313,115.95294117647057,116.95686274509802,117.9607843137255,118.96470588235294,119.96862745098039,120.97254901960784,121.97647058823529,122.98039215686273,123.98431372549018,124.98823529411766,125.9921568627451,126.99607843137255,128.0],\"y\":[3.275157922644212e-14,0.09895852206486352,0.19871582027751308,0.30009188718260005,0.4039503423040195,0.5112233477314804,0.6229405904504949,0.7402643176272793,0.8645330785528603,0.9973178544255908,1.1404958384000385,1.2963495890715147,1.4677031781876217,1.6581132667760006,1.8721435446636692,2.115768974726983,2.3969882587921907,2.726782053551243,3.1206689540447723,3.6013454617423024,4.203407413991701,4.982357960466748,6.033252870696304,7.5336238105224265,9.857784229315035,13.954123935421093,23.1303554761809,62.460867356153116,98.7384234741128,28.340920538600866,16.79232934892296,12.047440127957694,9.459341089688774,7.828270625386419,6.705227766250523,5.884163996751463,5.257234131332785,4.762517355109891,4.361921926542557,4.030726958360405,3.7521878036196514,3.5145583333654966,3.309354589833443,3.130295267750596,2.972629996890964,2.8326993447145217,2.7076383481297204,2.595171765410162,2.493469564292331,2.4010429362157586,2.3166681683831,2.239330037761853,2.168179125065382,2.1024992116483503,2.041682085325431,1.9852078620279288,1.932629463616979,1.8835602622216383,1.8376641619531566,1.794647574646574,1.7542528804644264,1.7162530621971441,1.6804472745022718,1.6466571632291502,1.6147237906557173,1.5845050532740492,1.5558735023836385,1.528714495975871,1.5029246245495398,1.4784103645753799,1.4550869220685694,1.4328772356383264,1.4117111138970917,1.3915244865522467,1.372258752045528,1.3538602075155763,1.3362795491914936,1.319471433268739,1.303394088872889,1.288008976048534,1.2732804827675293,1.2591756558602798,1.2456639615176959,1.232717071645278,1.2203086728673425,1.2084142954398436,1.1970111596881894,1.1860780379225406,1.1755951300467817,1.1655439513060601,1.15590723082593,1.1466688197593513,1.13781360800441,1.1293274485902878,1.1211970889264238,1.1134101082109378,1.1059548603850853,1.098820422070337,1.0919965450126146,1.0854736125944608,1.0792426000334228,1.0732950379212254,1.0676229788024496,1.062218966517108,1.057076008065323,1.0521875477721454,1.047547443562327,1.0431499451645905,1.038989674093922,1.0350616052605814,1.0313610500908625,1.0278836410367143,1.0246253173729816,1.0215823121911816,1.0187511405075884,1.0161285884067086,1.0137117031582075,1.011497784242015,1.009484375233,1.0076692564940846,1.0060504386332636,1.00462615669322,1.0033948650335085,1.0023552328801053,1.001506140518391,1.0008466761047472,1.0003761330800345,1.0000940081771823,0.9999999999998298,1.000094008177186,1.0003761330800334,1.0008466761047412,1.0015061405183767,1.0023552328801149,1.0033948650335087,1.0046261566932209,1.0060504386332632,1.0076692564940852,1.009484375232998,1.0114977842420068,1.0137117031582186,1.0161285884067137,1.0187511405075886,1.0215823121911787,1.0246253173729798,1.0278836410367158,1.0313610500908592,1.0350616052605734,1.038989674093903,1.0431499451645931,1.047547443562327,1.0521875477721414,1.057076008065319,1.062218966517105,1.06762297880244,1.0732950379211967,1.0792426000334718,1.0854736125944722,1.0919965450126183,1.0988204220703361,1.1059548603850842,1.1134101082109378,1.1211970889264165,1.1293274485902747,1.1378136080043588,1.1466688197593935,1.1559072308259462,1.1655439513060644,1.1755951300467873,1.1860780379225473,1.1970111596881918,1.20841429543984,1.220308672867361,1.2327170716452882,1.2456639615177016,1.2591756558602814,1.2732804827675326,1.288008976048538,1.3033940888728908,1.3194714332687354,1.3362795491914805,1.3538602075155912,1.3722587520455334,1.3915244865522463,1.4117111138970941,1.4328772356383306,1.4550869220685694,1.4784103645753712,1.5029246245495569,1.5287144959758776,1.5558735023836419,1.5845050532740486,1.6147237906557173,1.6466571632291553,1.6804472745022723,1.7162530621971397,1.754252880464405,1.7946475746465906,1.8376641619531624,1.8835602622216365,1.9326294636169814,1.9852078620279365,2.0416820853254323,2.102499211648344,2.168179125065394,2.2393300377618606,2.3166681683831025,2.401042936215757,2.49346956429233,2.5951717654101687,2.7076383481297177,2.8326993447145097,2.972629996890916,3.130295267750629,3.309354589833453,3.5145583333655006,3.7521878036196545,4.0307269583604155,4.361921926542555,4.762517355109866,5.257234131332839,5.884163996751503,6.705227766250543,7.828270625386423,9.459341089688781,12.047440127957746,16.79232934892299,28.340920538600884,98.7384234741128,62.46086735615309,23.130355476180878,13.954123935421066,9.85778422931503,7.533623810522445,6.033252870696302,4.98235796046675,4.203407413991677,3.6013454617423055,3.120668954044766,2.7267820535512333,2.3969882587921876,2.1157689747269814,1.8721435446636598,1.6581132667759881,1.4677031781875653,1.2963495890715448,1.1404958384000468,0.9973178544255942,0.8645330785528634,0.7402643176272867,0.6229405904504991,0.5112233477314899,0.40395034230399296,0.3000918871825941,0.19871582027750795,0.09895852206486169]}},\"id\":\"507be48f-4bba-4486-9e3b-ccedb07a7b07\",\"type\":\"ColumnDataSource\"},{\"attributes\":{\"bottom_units\":\"screen\",\"fill_alpha\":{\"value\":0.5},\"fill_color\":{\"value\":\"lightgrey\"},\"left_units\":\"screen\",\"level\":\"overlay\",\"line_alpha\":{\"value\":1.0},\"line_color\":{\"value\":\"black\"},\"line_dash\":[4,4],\"line_width\":{\"value\":2},\"plot\":null,\"render_mode\":\"css\",\"right_units\":\"screen\",\"top_units\":\"screen\"},\"id\":\"109e8ce2-e042-40f6-af61-46de7a1b1241\",\"type\":\"BoxAnnotation\"},{\"attributes\":{\"axis_label\":\"FT(cosine)\",\"formatter\":{\"id\":\"95d92a94-8f12-4e61-8eab-f282794857c5\",\"type\":\"BasicTickFormatter\"},\"plot\":{\"id\":\"152d9843-d805-490c-998b-8fdbac21f570\",\"subtype\":\"Figure\",\"type\":\"Plot\"},\"ticker\":{\"id\":\"dffc7ab2-7027-49f7-8a2d-566c16be286e\",\"type\":\"BasicTicker\"}},\"id\":\"22233cbd-b66b-4296-879a-b814a675c02e\",\"type\":\"LinearAxis\"},{\"attributes\":{\"plot\":{\"id\":\"152d9843-d805-490c-998b-8fdbac21f570\",\"subtype\":\"Figure\",\"type\":\"Plot\"}},\"id\":\"f9465b37-58f0-4612-b27c-f536eae3990f\",\"type\":\"SaveTool\"},{\"attributes\":{},\"id\":\"5a6af9dd-9b6a-41bd-b604-a5b55c50082a\",\"type\":\"BasicTicker\"},{\"attributes\":{},\"id\":\"78688874-7f67-425d-8e7e-8c1035297ed8\",\"type\":\"ToolEvents\"},{\"attributes\":{\"axis_label\":\"Frequency/Hz\",\"formatter\":{\"id\":\"5a4c630b-2669-4481-b969-c03cafa9c4fc\",\"type\":\"BasicTickFormatter\"},\"plot\":{\"id\":\"152d9843-d805-490c-998b-8fdbac21f570\",\"subtype\":\"Figure\",\"type\":\"Plot\"},\"ticker\":{\"id\":\"5a6af9dd-9b6a-41bd-b604-a5b55c50082a\",\"type\":\"BasicTicker\"}},\"id\":\"d58184e2-1230-4277-a112-bcb9ce337a51\",\"type\":\"LinearAxis\"},{\"attributes\":{\"plot\":{\"id\":\"152d9843-d805-490c-998b-8fdbac21f570\",\"subtype\":\"Figure\",\"type\":\"Plot\"}},\"id\":\"bbdb0d98-d629-45ee-bc1f-c9ecff659795\",\"type\":\"HelpTool\"}],\"root_ids\":[\"152d9843-d805-490c-998b-8fdbac21f570\"]},\"title\":\"Bokeh Application\",\"version\":\"0.12.0\"}};\n",
       "            var render_items = [{\"docid\":\"c63c49ef-bd77-4b78-9638-30931c0ddc6a\",\"elementid\":\"3267171d-11f2-4b0f-9d53-7765d8712715\",\"modelid\":\"152d9843-d805-490c-998b-8fdbac21f570\",\"notebook_comms_target\":\"caf5c2fe-41be-43f2-b23c-b93977d5b221\"}];\n",
       "            \n",
       "            Bokeh.embed.embed_items(docs_json, render_items);\n",
       "        });\n",
       "      },\n",
       "      function(Bokeh) {\n",
       "      }\n",
       "    ];\n",
       "  \n",
       "    function run_inline_js() {\n",
       "      for (var i = 0; i < inline_js.length; i++) {\n",
       "        inline_js[i](window.Bokeh);\n",
       "      }\n",
       "    }\n",
       "  \n",
       "    if (window._bokeh_is_loading === 0) {\n",
       "      console.log(\"Bokeh: BokehJS loaded, going straight to plotting\");\n",
       "      run_inline_js();\n",
       "    } else {\n",
       "      load_libs(js_urls, function() {\n",
       "        console.log(\"Bokeh: BokehJS plotting callback run at\", now());\n",
       "        run_inline_js();\n",
       "      });\n",
       "    }\n",
       "  }(this));\n",
       "</script>"
      ]
     },
     "metadata": {},
     "output_type": "display_data"
    },
    {
     "data": {
      "text/html": [
       "<p><code>&lt;Bokeh Notebook handle for <strong>In[9]</strong>&gt;</code></p>"
      ],
      "text/plain": [
       "<bokeh.io._CommsHandle at 0x279b578b710>"
      ]
     },
     "execution_count": 9,
     "metadata": {},
     "output_type": "execute_result"
    }
   ],
   "source": [
    "#frequency space domain function F(v) = FT(f(t))\n",
    "v = np.linspace(-0.5*sample_no, 0.5*sample_no, sample_no)\n",
    "F = fftshift(abs(fft(f)))\n",
    "\n",
    "#plot the function F(v)\n",
    "p1 = figure(x_axis_label = 'Frequency/Hz', y_axis_label = 'FT(cosine)')\n",
    "q1 = p1.line(v, F)\n",
    "\n",
    "show(p1)"
   ]
  },
  {
   "cell_type": "code",
   "execution_count": 10,
   "metadata": {
    "collapsed": false
   },
   "outputs": [],
   "source": [
    "def change_frequency(signal_frequency):\n",
    "    f = np.cos(2*signal_frequency*pi*t)\n",
    "    F = fftshift(abs(fft(f)))\n",
    "    q1.data_source.data['y'] = F\n",
    "    push_notebook()\n",
    "\n",
    "interact(change_frequency, signal_frequency=widgets.IntSlider(min=0,max=256,step=1,value=8));"
   ]
  },
  {
   "cell_type": "markdown",
   "metadata": {
    "collapsed": true
   },
   "source": [
    "When the signal frequency exceeds the Nyquist limit it is aliased back to a lower frequency. This can lead to severe distortion of sampled signals. A frequency $f$ in the signal with $f_{sampling} < 2f < 2f_{sampling}$ will 'bounce back' and appear at $2f_{sampling} - f$. \n",
    "\n",
    "Consider aliasing of a pair of sinc functions:"
   ]
  },
  {
   "cell_type": "code",
   "execution_count": 4,
   "metadata": {
    "collapsed": false
   },
   "outputs": [],
   "source": [
    "#the sinc frequency is taken to mean the frequency of the sine\n",
    "sinc_frequency = 10.0\n",
    "\n",
    "#time domain signal\n",
    "double_sinc = np.sinc(2*sinc_frequency*pi*t) - 0.5*np.sinc(2*0.5*sinc_frequency*pi*t)\n",
    "\n",
    "p2 = figure(height = 300, width = 300, title = 'double_sinc', x_axis_label = 'time/s')\n",
    "p2.title.text_font_size = '10pt'\n",
    "q2 = p2.line(t, double_sinc)"
   ]
  },
  {
   "cell_type": "code",
   "execution_count": 5,
   "metadata": {
    "collapsed": false
   },
   "outputs": [],
   "source": [
    "#frequency space signal\n",
    "F_double_sinc = fftshift(fft(double_sinc))\n",
    "\n",
    "p3 = figure(height = 300, width = 300, title = 'F_double_sinc = FT{double_sinc}', x_axis_label = 'frequency/Hz')\n",
    "p3.title.text_font_size = '10pt'\n",
    "q3 = p3.line(v, abs(F_double_sinc))"
   ]
  },
  {
   "cell_type": "code",
   "execution_count": 6,
   "metadata": {
    "collapsed": false
   },
   "outputs": [
    {
     "data": {
      "text/html": [
       "\n",
       "\n",
       "    <div class=\"bk-root\">\n",
       "        <div class=\"plotdiv\" id=\"5ab8bf09-cb79-479b-a4b7-137aff1ce50f\"></div>\n",
       "    </div>\n",
       "<script type=\"text/javascript\">\n",
       "  \n",
       "  (function(global) {\n",
       "    function now() {\n",
       "      return new Date();\n",
       "    }\n",
       "  \n",
       "    if (typeof (window._bokeh_onload_callbacks) === \"undefined\") {\n",
       "      window._bokeh_onload_callbacks = [];\n",
       "    }\n",
       "  \n",
       "    function run_callbacks() {\n",
       "      window._bokeh_onload_callbacks.forEach(function(callback) { callback() });\n",
       "      delete window._bokeh_onload_callbacks\n",
       "      console.info(\"Bokeh: all callbacks have finished\");\n",
       "    }\n",
       "  \n",
       "    function load_libs(js_urls, callback) {\n",
       "      window._bokeh_onload_callbacks.push(callback);\n",
       "      if (window._bokeh_is_loading > 0) {\n",
       "        console.log(\"Bokeh: BokehJS is being loaded, scheduling callback at\", now());\n",
       "        return null;\n",
       "      }\n",
       "      if (js_urls == null || js_urls.length === 0) {\n",
       "        run_callbacks();\n",
       "        return null;\n",
       "      }\n",
       "      console.log(\"Bokeh: BokehJS not loaded, scheduling load and callback at\", now());\n",
       "      window._bokeh_is_loading = js_urls.length;\n",
       "      for (var i = 0; i < js_urls.length; i++) {\n",
       "        var url = js_urls[i];\n",
       "        var s = document.createElement('script');\n",
       "        s.src = url;\n",
       "        s.async = false;\n",
       "        s.onreadystatechange = s.onload = function() {\n",
       "          window._bokeh_is_loading--;\n",
       "          if (window._bokeh_is_loading === 0) {\n",
       "            console.log(\"Bokeh: all BokehJS libraries loaded\");\n",
       "            run_callbacks()\n",
       "          }\n",
       "        };\n",
       "        s.onerror = function() {\n",
       "          console.warn(\"failed to load library \" + url);\n",
       "        };\n",
       "        console.log(\"Bokeh: injecting script tag for BokehJS library: \", url);\n",
       "        document.getElementsByTagName(\"head\")[0].appendChild(s);\n",
       "      }\n",
       "    };var element = document.getElementById(\"5ab8bf09-cb79-479b-a4b7-137aff1ce50f\");\n",
       "    if (element == null) {\n",
       "      console.log(\"Bokeh: ERROR: autoload.js configured with elementid '5ab8bf09-cb79-479b-a4b7-137aff1ce50f' but no matching script tag was found. \")\n",
       "      return false;\n",
       "    }\n",
       "  \n",
       "    var js_urls = [];\n",
       "  \n",
       "    var inline_js = [\n",
       "      function(Bokeh) {\n",
       "        Bokeh.$(function() {\n",
       "            var docs_json = {\"4f4d192a-ff55-4cfb-87a0-2f0f6b8d7f30\":{\"roots\":{\"references\":[{\"attributes\":{\"plot\":null,\"text\":\"double_sinc\"},\"id\":\"546eb018-9b77-49a0-a65d-11cde8a11b00\",\"type\":\"Title\"},{\"attributes\":{},\"id\":\"e68f20e5-9ada-4070-bc08-32015deaa30a\",\"type\":\"BasicTickFormatter\"},{\"attributes\":{\"plot\":{\"id\":\"d0376bf0-ab5c-445d-930f-c57c0c92a8bd\",\"subtype\":\"Figure\",\"type\":\"Plot\"}},\"id\":\"1b122893-2641-45ff-bb90-ebf539a31bcc\",\"type\":\"ResetTool\"},{\"attributes\":{\"callback\":null},\"id\":\"c0185816-c9e7-42b0-b6d2-90617ca5b396\",\"type\":\"DataRange1d\"},{\"attributes\":{\"plot\":{\"id\":\"0f90139a-57af-4550-8b0d-45976ecd2823\",\"subtype\":\"Figure\",\"type\":\"Plot\"}},\"id\":\"211bcca3-18e3-4848-8762-3c101323193e\",\"type\":\"ResetTool\"},{\"attributes\":{\"plot\":{\"id\":\"6a8435f7-5fd7-4810-a064-0de0475f528a\",\"subtype\":\"Figure\",\"type\":\"Plot\"},\"ticker\":{\"id\":\"49ac3dbe-78f5-4daf-8f12-ce6760a2e9c6\",\"type\":\"BasicTicker\"}},\"id\":\"44b717bd-1b6e-45e7-bc62-96f69c5c2439\",\"type\":\"Grid\"},{\"attributes\":{\"bottom_units\":\"screen\",\"fill_alpha\":{\"value\":0.5},\"fill_color\":{\"value\":\"lightgrey\"},\"left_units\":\"screen\",\"level\":\"overlay\",\"line_alpha\":{\"value\":1.0},\"line_color\":{\"value\":\"black\"},\"line_dash\":[4,4],\"line_width\":{\"value\":2},\"plot\":null,\"render_mode\":\"css\",\"right_units\":\"screen\",\"top_units\":\"screen\"},\"id\":\"baf9fb7a-d111-4b67-a3f7-836012e026a0\",\"type\":\"BoxAnnotation\"},{\"attributes\":{\"plot\":{\"id\":\"6a8435f7-5fd7-4810-a064-0de0475f528a\",\"subtype\":\"Figure\",\"type\":\"Plot\"}},\"id\":\"92ca4f78-4da1-4f51-bb79-86988f948137\",\"type\":\"ResetTool\"},{\"attributes\":{},\"id\":\"abe6d551-0e8f-4a88-9d69-c0af0881b8f8\",\"type\":\"BasicTickFormatter\"},{\"attributes\":{\"below\":[{\"id\":\"94487db9-a21c-4ac6-9165-ec167d9d9db6\",\"type\":\"LinearAxis\"}],\"left\":[{\"id\":\"e0cb2758-d2c4-4f93-a420-464a2f9a3b26\",\"type\":\"LinearAxis\"}],\"plot_height\":300,\"plot_width\":300,\"renderers\":[{\"id\":\"94487db9-a21c-4ac6-9165-ec167d9d9db6\",\"type\":\"LinearAxis\"},{\"id\":\"44b717bd-1b6e-45e7-bc62-96f69c5c2439\",\"type\":\"Grid\"},{\"id\":\"e0cb2758-d2c4-4f93-a420-464a2f9a3b26\",\"type\":\"LinearAxis\"},{\"id\":\"fb1048e0-ba51-402c-accb-3c58541e8ce8\",\"type\":\"Grid\"},{\"id\":\"baf9fb7a-d111-4b67-a3f7-836012e026a0\",\"type\":\"BoxAnnotation\"},{\"id\":\"3ba8611c-e5dc-4ac6-b82d-995258793184\",\"type\":\"GlyphRenderer\"}],\"title\":{\"id\":\"546eb018-9b77-49a0-a65d-11cde8a11b00\",\"type\":\"Title\"},\"tool_events\":{\"id\":\"0df47f3d-abfe-4de8-bd84-d5c97b10c309\",\"type\":\"ToolEvents\"},\"toolbar\":{\"id\":\"3616dec4-c7ff-4876-9f93-990c5d7d62ce\",\"type\":\"Toolbar\"},\"toolbar_location\":null,\"x_range\":{\"id\":\"e8d6711f-0ec6-46a3-aeb4-7a658db01c67\",\"type\":\"DataRange1d\"},\"y_range\":{\"id\":\"715a8104-e7ae-40ce-84e6-0d989b7f6b4b\",\"type\":\"DataRange1d\"}},\"id\":\"6a8435f7-5fd7-4810-a064-0de0475f528a\",\"subtype\":\"Figure\",\"type\":\"Plot\"},{\"attributes\":{},\"id\":\"db5da51c-bfc5-463c-baf7-d0003c612d20\",\"type\":\"BasicTickFormatter\"},{\"attributes\":{},\"id\":\"14a74db2-678f-4daf-b280-b139a93ed0c0\",\"type\":\"BasicTicker\"},{\"attributes\":{\"plot\":{\"id\":\"d0376bf0-ab5c-445d-930f-c57c0c92a8bd\",\"subtype\":\"Figure\",\"type\":\"Plot\"}},\"id\":\"b0698080-be04-4589-9779-7fe987cfd7b8\",\"type\":\"SaveTool\"},{\"attributes\":{\"data_source\":{\"id\":\"780da2cb-d3a0-4244-8afa-f4f64978b2de\",\"type\":\"ColumnDataSource\"},\"glyph\":{\"id\":\"103ae66e-8bc7-45b2-be95-1d74eb564e6c\",\"type\":\"Line\"},\"hover_glyph\":null,\"nonselection_glyph\":{\"id\":\"37181f00-5fc1-4c31-b146-ee215c4e33b3\",\"type\":\"Line\"},\"selection_glyph\":null},\"id\":\"577da7b3-474c-4f2f-a519-ca606b384b95\",\"type\":\"GlyphRenderer\"},{\"attributes\":{\"plot\":{\"id\":\"0f90139a-57af-4550-8b0d-45976ecd2823\",\"subtype\":\"Figure\",\"type\":\"Plot\"}},\"id\":\"38c6e459-8bb5-4795-b78d-dcbb084c2f62\",\"type\":\"PanTool\"},{\"attributes\":{\"active_drag\":\"auto\",\"active_scroll\":\"auto\",\"active_tap\":\"auto\",\"tools\":[{\"id\":\"d2feb1c8-a8a5-41e9-a328-e88aac93c8c4\",\"type\":\"PanTool\"},{\"id\":\"440fcc2e-c690-4d00-9ed7-a767fdb376d7\",\"type\":\"WheelZoomTool\"},{\"id\":\"e635864e-6e13-4399-9228-c2628ffb1c75\",\"type\":\"BoxZoomTool\"},{\"id\":\"b0698080-be04-4589-9779-7fe987cfd7b8\",\"type\":\"SaveTool\"},{\"id\":\"1b122893-2641-45ff-bb90-ebf539a31bcc\",\"type\":\"ResetTool\"},{\"id\":\"27b3c1ae-6726-4be8-a29a-a51fac7d0cd7\",\"type\":\"HelpTool\"}]},\"id\":\"b677acba-fff7-41c6-9f51-702f18474aca\",\"type\":\"Toolbar\"},{\"attributes\":{\"plot\":{\"id\":\"0f90139a-57af-4550-8b0d-45976ecd2823\",\"subtype\":\"Figure\",\"type\":\"Plot\"}},\"id\":\"0b43c4ea-a39f-46d5-b551-87ffbc5308e7\",\"type\":\"WheelZoomTool\"},{\"attributes\":{\"sizing_mode\":\"scale_width\",\"toolbar_location\":\"above\",\"tools\":[{\"id\":\"3560429c-a33c-44c5-9c5e-3b97e835a73e\",\"type\":\"PanTool\"},{\"id\":\"a1f88851-d62e-40cf-8497-12e41f1125eb\",\"type\":\"WheelZoomTool\"},{\"id\":\"f76c109e-5d76-4fd6-afcc-36efa3c44465\",\"type\":\"BoxZoomTool\"},{\"id\":\"ebf28eb8-334f-4ea5-a057-f24cd7b7c421\",\"type\":\"SaveTool\"},{\"id\":\"92ca4f78-4da1-4f51-bb79-86988f948137\",\"type\":\"ResetTool\"},{\"id\":\"45782d6d-98c2-4af3-b62e-6710e4ece931\",\"type\":\"HelpTool\"},{\"id\":\"d2feb1c8-a8a5-41e9-a328-e88aac93c8c4\",\"type\":\"PanTool\"},{\"id\":\"440fcc2e-c690-4d00-9ed7-a767fdb376d7\",\"type\":\"WheelZoomTool\"},{\"id\":\"e635864e-6e13-4399-9228-c2628ffb1c75\",\"type\":\"BoxZoomTool\"},{\"id\":\"b0698080-be04-4589-9779-7fe987cfd7b8\",\"type\":\"SaveTool\"},{\"id\":\"1b122893-2641-45ff-bb90-ebf539a31bcc\",\"type\":\"ResetTool\"},{\"id\":\"27b3c1ae-6726-4be8-a29a-a51fac7d0cd7\",\"type\":\"HelpTool\"},{\"id\":\"38c6e459-8bb5-4795-b78d-dcbb084c2f62\",\"type\":\"PanTool\"},{\"id\":\"0b43c4ea-a39f-46d5-b551-87ffbc5308e7\",\"type\":\"WheelZoomTool\"},{\"id\":\"14541f72-20ea-47fa-bd72-f3b8ddd1e30e\",\"type\":\"BoxZoomTool\"},{\"id\":\"9ba7efe9-2e2f-480e-bf3f-507e846fdce4\",\"type\":\"SaveTool\"},{\"id\":\"211bcca3-18e3-4848-8762-3c101323193e\",\"type\":\"ResetTool\"},{\"id\":\"e77515cc-def2-448c-aff1-8c9cfd519f0e\",\"type\":\"HelpTool\"}]},\"id\":\"8b74537b-74f7-4638-a3f1-cf8c0d134cd6\",\"type\":\"ToolbarBox\"},{\"attributes\":{\"dimension\":1,\"plot\":{\"id\":\"0f90139a-57af-4550-8b0d-45976ecd2823\",\"subtype\":\"Figure\",\"type\":\"Plot\"},\"ticker\":{\"id\":\"dffbed47-71d0-4f60-ab9a-bdd5d25c2fb1\",\"type\":\"BasicTicker\"}},\"id\":\"165ee722-0e9b-4172-bcd0-201377e205f8\",\"type\":\"Grid\"},{\"attributes\":{\"callback\":null},\"id\":\"16aab196-1f92-4435-8e6c-268149fed081\",\"type\":\"DataRange1d\"},{\"attributes\":{},\"id\":\"b0d7813a-fd47-4f63-9885-86eb1ce0aa3c\",\"type\":\"ToolEvents\"},{\"attributes\":{\"axis_label\":\"frequency/Hz\",\"formatter\":{\"id\":\"9cf33511-57ca-478a-977c-3e86e937eb20\",\"type\":\"BasicTickFormatter\"},\"plot\":{\"id\":\"d0376bf0-ab5c-445d-930f-c57c0c92a8bd\",\"subtype\":\"Figure\",\"type\":\"Plot\"},\"ticker\":{\"id\":\"14a74db2-678f-4daf-b280-b139a93ed0c0\",\"type\":\"BasicTicker\"}},\"id\":\"7da871ef-6043-40fd-8c2a-c3d838174abb\",\"type\":\"LinearAxis\"},{\"attributes\":{\"active_drag\":\"auto\",\"active_scroll\":\"auto\",\"active_tap\":\"auto\",\"tools\":[{\"id\":\"3560429c-a33c-44c5-9c5e-3b97e835a73e\",\"type\":\"PanTool\"},{\"id\":\"a1f88851-d62e-40cf-8497-12e41f1125eb\",\"type\":\"WheelZoomTool\"},{\"id\":\"f76c109e-5d76-4fd6-afcc-36efa3c44465\",\"type\":\"BoxZoomTool\"},{\"id\":\"ebf28eb8-334f-4ea5-a057-f24cd7b7c421\",\"type\":\"SaveTool\"},{\"id\":\"92ca4f78-4da1-4f51-bb79-86988f948137\",\"type\":\"ResetTool\"},{\"id\":\"45782d6d-98c2-4af3-b62e-6710e4ece931\",\"type\":\"HelpTool\"}]},\"id\":\"3616dec4-c7ff-4876-9f93-990c5d7d62ce\",\"type\":\"Toolbar\"},{\"attributes\":{\"plot\":{\"id\":\"d0376bf0-ab5c-445d-930f-c57c0c92a8bd\",\"subtype\":\"Figure\",\"type\":\"Plot\"}},\"id\":\"440fcc2e-c690-4d00-9ed7-a767fdb376d7\",\"type\":\"WheelZoomTool\"},{\"attributes\":{\"bottom_units\":\"screen\",\"fill_alpha\":{\"value\":0.5},\"fill_color\":{\"value\":\"lightgrey\"},\"left_units\":\"screen\",\"level\":\"overlay\",\"line_alpha\":{\"value\":1.0},\"line_color\":{\"value\":\"black\"},\"line_dash\":[4,4],\"line_width\":{\"value\":2},\"plot\":null,\"render_mode\":\"css\",\"right_units\":\"screen\",\"top_units\":\"screen\"},\"id\":\"2896ab38-481b-4d70-b382-5afb1e078bef\",\"type\":\"BoxAnnotation\"},{\"attributes\":{\"bottom_units\":\"screen\",\"fill_alpha\":{\"value\":0.5},\"fill_color\":{\"value\":\"lightgrey\"},\"left_units\":\"screen\",\"level\":\"overlay\",\"line_alpha\":{\"value\":1.0},\"line_color\":{\"value\":\"black\"},\"line_dash\":[4,4],\"line_width\":{\"value\":2},\"plot\":null,\"render_mode\":\"css\",\"right_units\":\"screen\",\"top_units\":\"screen\"},\"id\":\"e68d1ee1-b48f-479f-bf6b-f610df967536\",\"type\":\"BoxAnnotation\"},{\"attributes\":{\"plot\":{\"id\":\"0f90139a-57af-4550-8b0d-45976ecd2823\",\"subtype\":\"Figure\",\"type\":\"Plot\"}},\"id\":\"e77515cc-def2-448c-aff1-8c9cfd519f0e\",\"type\":\"HelpTool\"},{\"attributes\":{\"below\":[{\"id\":\"7da871ef-6043-40fd-8c2a-c3d838174abb\",\"type\":\"LinearAxis\"}],\"left\":[{\"id\":\"54132e38-95dc-4e25-8567-5ccac9fb5d1e\",\"type\":\"LinearAxis\"}],\"plot_height\":300,\"plot_width\":300,\"renderers\":[{\"id\":\"7da871ef-6043-40fd-8c2a-c3d838174abb\",\"type\":\"LinearAxis\"},{\"id\":\"b12ad6d8-3e1d-48ae-a6db-31434ac4e40d\",\"type\":\"Grid\"},{\"id\":\"54132e38-95dc-4e25-8567-5ccac9fb5d1e\",\"type\":\"LinearAxis\"},{\"id\":\"710a6572-3e9d-43d5-8086-4e774cf452a1\",\"type\":\"Grid\"},{\"id\":\"2896ab38-481b-4d70-b382-5afb1e078bef\",\"type\":\"BoxAnnotation\"},{\"id\":\"02bedcce-1a16-4833-80cd-bf06b1e62248\",\"type\":\"GlyphRenderer\"}],\"title\":{\"id\":\"98afaa5c-0669-408a-b33a-9e61a92cf5ef\",\"type\":\"Title\"},\"tool_events\":{\"id\":\"b0d7813a-fd47-4f63-9885-86eb1ce0aa3c\",\"type\":\"ToolEvents\"},\"toolbar\":{\"id\":\"b677acba-fff7-41c6-9f51-702f18474aca\",\"type\":\"Toolbar\"},\"toolbar_location\":null,\"x_range\":{\"id\":\"16aab196-1f92-4435-8e6c-268149fed081\",\"type\":\"DataRange1d\"},\"y_range\":{\"id\":\"ba099b9a-5d89-4899-bcb8-10ac0fc315ff\",\"type\":\"DataRange1d\"}},\"id\":\"d0376bf0-ab5c-445d-930f-c57c0c92a8bd\",\"subtype\":\"Figure\",\"type\":\"Plot\"},{\"attributes\":{\"plot\":{\"id\":\"6a8435f7-5fd7-4810-a064-0de0475f528a\",\"subtype\":\"Figure\",\"type\":\"Plot\"}},\"id\":\"45782d6d-98c2-4af3-b62e-6710e4ece931\",\"type\":\"HelpTool\"},{\"attributes\":{\"line_alpha\":{\"value\":0.1},\"line_color\":{\"value\":\"#1f77b4\"},\"x\":{\"field\":\"x\"},\"y\":{\"field\":\"y\"}},\"id\":\"ad63a08c-1394-46da-b2cf-dabc8cd70567\",\"type\":\"Line\"},{\"attributes\":{\"active_drag\":\"auto\",\"active_scroll\":\"auto\",\"active_tap\":\"auto\",\"tools\":[{\"id\":\"38c6e459-8bb5-4795-b78d-dcbb084c2f62\",\"type\":\"PanTool\"},{\"id\":\"0b43c4ea-a39f-46d5-b551-87ffbc5308e7\",\"type\":\"WheelZoomTool\"},{\"id\":\"14541f72-20ea-47fa-bd72-f3b8ddd1e30e\",\"type\":\"BoxZoomTool\"},{\"id\":\"9ba7efe9-2e2f-480e-bf3f-507e846fdce4\",\"type\":\"SaveTool\"},{\"id\":\"211bcca3-18e3-4848-8762-3c101323193e\",\"type\":\"ResetTool\"},{\"id\":\"e77515cc-def2-448c-aff1-8c9cfd519f0e\",\"type\":\"HelpTool\"}]},\"id\":\"9f2f3b04-57ce-45bf-b634-5975a17c4582\",\"type\":\"Toolbar\"},{\"attributes\":{\"callback\":null},\"id\":\"ba099b9a-5d89-4899-bcb8-10ac0fc315ff\",\"type\":\"DataRange1d\"},{\"attributes\":{\"axis_label\":\"time/s\",\"formatter\":{\"id\":\"e68f20e5-9ada-4070-bc08-32015deaa30a\",\"type\":\"BasicTickFormatter\"},\"plot\":{\"id\":\"6a8435f7-5fd7-4810-a064-0de0475f528a\",\"subtype\":\"Figure\",\"type\":\"Plot\"},\"ticker\":{\"id\":\"49ac3dbe-78f5-4daf-8f12-ce6760a2e9c6\",\"type\":\"BasicTicker\"}},\"id\":\"94487db9-a21c-4ac6-9165-ec167d9d9db6\",\"type\":\"LinearAxis\"},{\"attributes\":{\"overlay\":{\"id\":\"e68d1ee1-b48f-479f-bf6b-f610df967536\",\"type\":\"BoxAnnotation\"},\"plot\":{\"id\":\"0f90139a-57af-4550-8b0d-45976ecd2823\",\"subtype\":\"Figure\",\"type\":\"Plot\"}},\"id\":\"14541f72-20ea-47fa-bd72-f3b8ddd1e30e\",\"type\":\"BoxZoomTool\"},{\"attributes\":{\"plot\":null,\"text\":\"F_double_sinc = FT{double_sinc}\"},\"id\":\"98afaa5c-0669-408a-b33a-9e61a92cf5ef\",\"type\":\"Title\"},{\"attributes\":{\"plot\":{\"id\":\"6a8435f7-5fd7-4810-a064-0de0475f528a\",\"subtype\":\"Figure\",\"type\":\"Plot\"}},\"id\":\"ebf28eb8-334f-4ea5-a057-f24cd7b7c421\",\"type\":\"SaveTool\"},{\"attributes\":{\"children\":[{\"id\":\"6a8435f7-5fd7-4810-a064-0de0475f528a\",\"subtype\":\"Figure\",\"type\":\"Plot\"},{\"id\":\"d0376bf0-ab5c-445d-930f-c57c0c92a8bd\",\"subtype\":\"Figure\",\"type\":\"Plot\"},{\"id\":\"0f90139a-57af-4550-8b0d-45976ecd2823\",\"subtype\":\"Figure\",\"type\":\"Plot\"}]},\"id\":\"c9d44b96-a86d-432d-b40f-301b9716e57b\",\"type\":\"Row\"},{\"attributes\":{\"plot\":{\"id\":\"d0376bf0-ab5c-445d-930f-c57c0c92a8bd\",\"subtype\":\"Figure\",\"type\":\"Plot\"}},\"id\":\"27b3c1ae-6726-4be8-a29a-a51fac7d0cd7\",\"type\":\"HelpTool\"},{\"attributes\":{\"dimension\":1,\"plot\":{\"id\":\"d0376bf0-ab5c-445d-930f-c57c0c92a8bd\",\"subtype\":\"Figure\",\"type\":\"Plot\"},\"ticker\":{\"id\":\"95d3b65e-6329-4220-b8a6-d5f4f5390b13\",\"type\":\"BasicTicker\"}},\"id\":\"710a6572-3e9d-43d5-8086-4e774cf452a1\",\"type\":\"Grid\"},{\"attributes\":{\"line_color\":{\"value\":\"#1f77b4\"},\"x\":{\"field\":\"x\"},\"y\":{\"field\":\"y\"}},\"id\":\"ac5af4bc-4e3b-42bd-adce-e0bd9863e3f3\",\"type\":\"Line\"},{\"attributes\":{\"plot\":{\"id\":\"0f90139a-57af-4550-8b0d-45976ecd2823\",\"subtype\":\"Figure\",\"type\":\"Plot\"}},\"id\":\"9ba7efe9-2e2f-480e-bf3f-507e846fdce4\",\"type\":\"SaveTool\"},{\"attributes\":{\"formatter\":{\"id\":\"db5da51c-bfc5-463c-baf7-d0003c612d20\",\"type\":\"BasicTickFormatter\"},\"plot\":{\"id\":\"d0376bf0-ab5c-445d-930f-c57c0c92a8bd\",\"subtype\":\"Figure\",\"type\":\"Plot\"},\"ticker\":{\"id\":\"95d3b65e-6329-4220-b8a6-d5f4f5390b13\",\"type\":\"BasicTicker\"}},\"id\":\"54132e38-95dc-4e25-8567-5ccac9fb5d1e\",\"type\":\"LinearAxis\"},{\"attributes\":{\"plot\":null,\"text\":\"I_double_sinc = IFT{F_double_sinc}\"},\"id\":\"d97cc611-ffe0-474a-8c29-a17782dfa4e6\",\"type\":\"Title\"},{\"attributes\":{\"children\":[{\"id\":\"c9d44b96-a86d-432d-b40f-301b9716e57b\",\"type\":\"Row\"}]},\"id\":\"e03cbc2f-180f-42e4-9138-c3b151b9e261\",\"type\":\"Column\"},{\"attributes\":{},\"id\":\"c0e94042-21be-45c6-acc2-a2da1a7ee303\",\"type\":\"BasicTicker\"},{\"attributes\":{\"callback\":null,\"column_names\":[\"x\",\"y\"],\"data\":{\"x\":[-0.5,-0.49607843137254903,-0.49215686274509807,-0.48823529411764705,-0.4843137254901961,-0.4803921568627451,-0.4764705882352941,-0.4725490196078431,-0.46862745098039216,-0.4647058823529412,-0.4607843137254902,-0.4568627450980392,-0.45294117647058824,-0.44901960784313727,-0.44509803921568625,-0.4411764705882353,-0.4372549019607843,-0.43333333333333335,-0.4294117647058824,-0.42549019607843136,-0.4215686274509804,-0.4176470588235294,-0.4137254901960784,-0.40980392156862744,-0.40588235294117647,-0.4019607843137255,-0.39803921568627454,-0.3941176470588235,-0.39019607843137255,-0.3862745098039216,-0.38235294117647056,-0.3784313725490196,-0.37450980392156863,-0.37058823529411766,-0.3666666666666667,-0.3627450980392157,-0.3588235294117647,-0.35490196078431374,-0.3509803921568627,-0.34705882352941175,-0.3431372549019608,-0.3392156862745098,-0.33529411764705885,-0.33137254901960783,-0.32745098039215687,-0.3235294117647059,-0.3196078431372549,-0.3156862745098039,-0.31176470588235294,-0.307843137254902,-0.303921568627451,-0.3,-0.296078431372549,-0.29215686274509806,-0.28823529411764703,-0.28431372549019607,-0.2803921568627451,-0.27647058823529413,-0.27254901960784317,-0.26862745098039215,-0.2647058823529412,-0.2607843137254902,-0.2568627450980392,-0.2529411764705882,-0.24901960784313726,-0.2450980392156863,-0.24117647058823533,-0.2372549019607843,-0.23333333333333334,-0.22941176470588237,-0.22549019607843135,-0.22156862745098038,-0.21764705882352942,-0.21372549019607845,-0.20980392156862748,-0.20588235294117646,-0.2019607843137255,-0.19803921568627453,-0.1941176470588235,-0.19019607843137254,-0.18627450980392157,-0.1823529411764706,-0.17843137254901964,-0.17450980392156862,-0.17058823529411765,-0.16666666666666669,-0.16274509803921566,-0.1588235294117647,-0.15490196078431373,-0.15098039215686276,-0.1470588235294118,-0.14313725490196078,-0.1392156862745098,-0.13529411764705884,-0.13137254901960782,-0.12745098039215685,-0.12352941176470589,-0.11960784313725492,-0.11568627450980395,-0.11176470588235293,-0.10784313725490197,-0.103921568627451,-0.09999999999999998,-0.09607843137254901,-0.09215686274509804,-0.08823529411764708,-0.08431372549019611,-0.08039215686274509,-0.07647058823529412,-0.07254901960784316,-0.06862745098039214,-0.06470588235294117,-0.0607843137254902,-0.056862745098039236,-0.05294117647058827,-0.04901960784313725,-0.04509803921568628,-0.041176470588235314,-0.03725490196078429,-0.033333333333333326,-0.02941176470588236,-0.025490196078431393,-0.021568627450980427,-0.017647058823529405,-0.013725490196078438,-0.009803921568627472,-0.00588235294117645,-0.0019607843137254832,0.0019607843137254832,0.00588235294117645,0.009803921568627416,0.013725490196078383,0.01764705882352935,0.021568627450980427,0.025490196078431393,0.02941176470588236,0.033333333333333326,0.03725490196078429,0.04117647058823526,0.045098039215686225,0.0490196078431373,0.05294117647058827,0.056862745098039236,0.0607843137254902,0.06470588235294117,0.06862745098039214,0.0725490196078431,0.07647058823529407,0.08039215686274503,0.08431372549019611,0.08823529411764708,0.09215686274509804,0.09607843137254901,0.09999999999999998,0.10392156862745094,0.10784313725490191,0.11176470588235299,0.11568627450980395,0.11960784313725492,0.12352941176470589,0.12745098039215685,0.13137254901960782,0.1352941176470588,0.13921568627450975,0.14313725490196072,0.1470588235294118,0.15098039215686276,0.15490196078431373,0.1588235294117647,0.16274509803921566,0.16666666666666663,0.1705882352941176,0.17450980392156867,0.17843137254901964,0.1823529411764706,0.18627450980392157,0.19019607843137254,0.1941176470588235,0.19803921568627447,0.20196078431372544,0.2058823529411764,0.20980392156862748,0.21372549019607845,0.21764705882352942,0.22156862745098038,0.22549019607843135,0.22941176470588232,0.23333333333333328,0.23725490196078436,0.24117647058823533,0.2450980392156863,0.24901960784313726,0.2529411764705882,0.2568627450980392,0.26078431372549016,0.2647058823529411,0.2686274509803921,0.27254901960784317,0.27647058823529413,0.2803921568627451,0.28431372549019607,0.28823529411764703,0.292156862745098,0.29607843137254897,0.30000000000000004,0.303921568627451,0.307843137254902,0.31176470588235294,0.3156862745098039,0.3196078431372549,0.32352941176470584,0.3274509803921568,0.3313725490196078,0.33529411764705885,0.3392156862745098,0.3431372549019608,0.34705882352941175,0.3509803921568627,0.3549019607843137,0.35882352941176465,0.36274509803921573,0.3666666666666667,0.37058823529411766,0.37450980392156863,0.3784313725490196,0.38235294117647056,0.38627450980392153,0.3901960784313725,0.39411764705882346,0.39803921568627454,0.4019607843137255,0.40588235294117647,0.40980392156862744,0.4137254901960784,0.41764705882352937,0.42156862745098034,0.4254901960784314,0.4294117647058824,0.43333333333333335,0.4372549019607843,0.4411764705882353,0.44509803921568625,0.4490196078431372,0.4529411764705882,0.45686274509803915,0.4607843137254902,0.4647058823529412,0.46862745098039216,0.4725490196078431,0.4764705882352941,0.48039215686274506,0.484313725490196,0.4882352941176471,0.49215686274509807,0.49607843137254903,0.5],\"y\":[-0.0017352353615671442,0.004666890392394986,0.012680455937328663,0.017884635265486944,0.016755150281595695,0.008764737675834333,-0.0031149751386350738,-0.013845133356722251,-0.018926002408532275,-0.016738389277389486,-0.009309145883041502,-0.0010671868286601036,0.0037075350483231862,0.0032910310344859083,-0.0005999290160210488,-0.00395903570103353,-0.003020067835148429,0.0033025375845005932,0.012505793223215798,0.019707676046806392,0.020343439803263173,0.012838798006293449,-0.00028047433511816343,-0.013529292795008155,-0.02127457287927587,-0.020675173606026206,-0.013107566289274196,-0.0032683548540275147,0.003546542777731518,0.0044436592594072925,0.0004975102895449561,-0.004029278020321575,-0.004376525372773461,0.0016636464004289274,0.012131043639447371,0.021718844167837252,0.024645649762966286,0.0179893066326064,0.0035755810012993916,-0.01271481605348266,-0.023914664757286902,-0.025604525951963143,-0.018189195403824056,-0.006524809103355827,0.002911013852732791,0.0057121077040832606,0.001991811358409257,-0.003835147600535811,-0.005840021576874717,-0.00034547857283149554,0.011530836858962385,0.02410498430838353,0.030112256552030058,0.024830497726077233,0.009003850497476986,-0.011164503958118362,-0.02706231417572077,-0.03214039470237376,-0.025332159841161456,-0.011483143750154443,0.0014888894992362636,0.007125135117419244,0.004073505812640198,-0.003262788717658473,-0.007502352235506259,-0.002934478982923972,0.010652111310570974,0.027265804036214623,0.037702312817702935,0.034668284329480235,0.017171981056794475,-0.008386874522028716,-0.03120807228842593,-0.04164017089215983,-0.03625243272887009,-0.019565748074369674,-0.0013949683110113763,0.00877050882580203,0.007186303069955021,-0.002061716645925376,-0.00960579969391948,-0.0066260208527999555,0.009360053811100569,0.032191863231663564,0.049817545919826525,0.05080541889234534,0.03105997452179338,-0.003128344026266579,-0.03767109083652631,-0.057752475534953315,-0.05561088591471935,-0.03467730712295266,-0.007599347149613991,0.010934785315584287,0.012638458629746007,0.0004982410734455855,-0.012922670710063545,-0.01308020025632703,0.00720854342128166,0.04211504762618642,0.07449573605453445,0.08457323825805953,0.06115515817851738,0.00912518092734739,-0.05141490219483286,-0.0945669736748094,-0.10198123131550496,-0.07290350532278307,-0.02502906829848986,0.014966182039706517,0.02656685340690186,0.007966876372769566,-0.021482941038659775,-0.03137416919282933,0.001579692638113528,0.07683358727168779,0.1646062058643909,0.21650661620545925,0.1886939246892415,0.0668653270789155,-0.11990002029047676,-0.30512383277317745,-0.4102538312990705,-0.37911725001942054,-0.2058760944519691,0.05725418238924135,0.3175848958246616,0.47833430089695583,0.47833430089695583,0.3175848958246616,0.05725418238924529,-0.20587609445196575,-0.379117250019419,-0.4102538312990705,-0.30512383277317745,-0.11990002029047676,0.0668653270789155,0.1886939246892415,0.21650661620545947,0.16460620586439217,0.07683358727168678,0.001579692638113528,-0.03137416919282933,-0.021482941038659775,0.007966876372769566,0.02656685340690186,0.014966182039706968,-0.025029068298489186,-0.07290350532278247,-0.10198123131550496,-0.0945669736748094,-0.05141490219483286,0.00912518092734739,0.06115515817851738,0.08457323825805946,0.07449573605453479,0.042115047626185745,0.00720854342128166,-0.01308020025632703,-0.012922670710063545,0.0004982410734455855,0.012638458629746007,0.010934785315584429,-0.007599347149613529,-0.03467730712295229,-0.05561088591471935,-0.057752475534953315,-0.03767109083652631,-0.003128344026266579,0.03105997452179338,0.05080541889234517,0.04981754591982662,0.032191863231663155,0.009360053811100569,-0.0066260208527999555,-0.00960579969391948,-0.002061716645925376,0.007186303069955021,0.008770508825802114,-0.0013949683110112375,-0.019565748074369498,-0.03625243272887009,-0.04164017089215983,-0.03120807228842593,-0.008386874522028716,0.017171981056794475,0.03466828432948014,0.037702312817702976,0.027265804036214345,0.010652111310570974,-0.002934478982923972,-0.007502352235506259,-0.003262788717658473,0.004073505812640198,0.0071251351174192595,0.0014888894992364475,-0.011483143750154308,-0.025332159841161456,-0.03214039470237376,-0.02706231417572077,-0.011164503958118362,0.009003850497476986,0.024830497726077132,0.030112256552030064,0.024104984308383433,0.011530836858962385,-0.00034547857283149554,-0.005840021576874717,-0.003835147600535811,0.001991811358409257,0.005712107704083253,0.002911013852732791,-0.006524809103355827,-0.018189195403824056,-0.025604525951963143,-0.023914664757286902,-0.01271481605348266,0.0035755810012993916,0.017989306632606197,0.02464564976296625,0.021718844167837127,0.012131043639447371,0.0016636464004289274,-0.004376525372773461,-0.004029278020321575,0.0004975102895449561,0.004443659259407255,0.0035465427777315907,-0.0032683548540275147,-0.013107566289274196,-0.020675173606026206,-0.02127457287927587,-0.013529292795008155,-0.00028047433511816343,0.012838798006293246,0.020343439803263107,0.019707676046806313,0.012505793223215798,0.0033025375845005932,-0.003020067835148429,-0.00395903570103353,-0.0005999290160210488,0.0032910310344858584,0.003707535048323226,-0.0010671868286599752,-0.009309145883041502,-0.016738389277389486,-0.018926002408532275,-0.013845133356722251,-0.0031149751386350738,0.008764737675834135,0.016755150281595604,0.0178846352654869,0.012680455937328663,0.004666890392394986,-0.0017352353615671442]}},\"id\":\"a414c761-c4d4-4a4e-a80a-be7a722aef65\",\"type\":\"ColumnDataSource\"},{\"attributes\":{\"below\":[{\"id\":\"2fcdfc9e-f69e-43f5-ba95-5a99fdb11f29\",\"type\":\"LinearAxis\"}],\"left\":[{\"id\":\"10578c20-2cbb-4724-a74d-9f291bfd6b65\",\"type\":\"LinearAxis\"}],\"plot_height\":300,\"plot_width\":300,\"renderers\":[{\"id\":\"2fcdfc9e-f69e-43f5-ba95-5a99fdb11f29\",\"type\":\"LinearAxis\"},{\"id\":\"f66efe30-c0ba-4447-b59e-955ab3e4a781\",\"type\":\"Grid\"},{\"id\":\"10578c20-2cbb-4724-a74d-9f291bfd6b65\",\"type\":\"LinearAxis\"},{\"id\":\"165ee722-0e9b-4172-bcd0-201377e205f8\",\"type\":\"Grid\"},{\"id\":\"e68d1ee1-b48f-479f-bf6b-f610df967536\",\"type\":\"BoxAnnotation\"},{\"id\":\"577da7b3-474c-4f2f-a519-ca606b384b95\",\"type\":\"GlyphRenderer\"}],\"title\":{\"id\":\"d97cc611-ffe0-474a-8c29-a17782dfa4e6\",\"type\":\"Title\"},\"tool_events\":{\"id\":\"d5b281d8-82e1-4677-8376-a3fc24a0bf38\",\"type\":\"ToolEvents\"},\"toolbar\":{\"id\":\"9f2f3b04-57ce-45bf-b634-5975a17c4582\",\"type\":\"Toolbar\"},\"toolbar_location\":null,\"x_range\":{\"id\":\"c0185816-c9e7-42b0-b6d2-90617ca5b396\",\"type\":\"DataRange1d\"},\"y_range\":{\"id\":\"3be85919-2019-4e69-9e0e-311ca48856bf\",\"type\":\"DataRange1d\"}},\"id\":\"0f90139a-57af-4550-8b0d-45976ecd2823\",\"subtype\":\"Figure\",\"type\":\"Plot\"},{\"attributes\":{\"line_alpha\":{\"value\":0.1},\"line_color\":{\"value\":\"#1f77b4\"},\"x\":{\"field\":\"x\"},\"y\":{\"field\":\"y\"}},\"id\":\"59aaa0a9-5d58-4482-9c7c-9a63f4085050\",\"type\":\"Line\"},{\"attributes\":{\"plot\":{\"id\":\"6a8435f7-5fd7-4810-a064-0de0475f528a\",\"subtype\":\"Figure\",\"type\":\"Plot\"}},\"id\":\"3560429c-a33c-44c5-9c5e-3b97e835a73e\",\"type\":\"PanTool\"},{\"attributes\":{\"data_source\":{\"id\":\"a414c761-c4d4-4a4e-a80a-be7a722aef65\",\"type\":\"ColumnDataSource\"},\"glyph\":{\"id\":\"ac5af4bc-4e3b-42bd-adce-e0bd9863e3f3\",\"type\":\"Line\"},\"hover_glyph\":null,\"nonselection_glyph\":{\"id\":\"59aaa0a9-5d58-4482-9c7c-9a63f4085050\",\"type\":\"Line\"},\"selection_glyph\":null},\"id\":\"3ba8611c-e5dc-4ac6-b82d-995258793184\",\"type\":\"GlyphRenderer\"},{\"attributes\":{},\"id\":\"d6fee570-7549-4d71-a518-0b8e61abaf2d\",\"type\":\"BasicTickFormatter\"},{\"attributes\":{\"callback\":null},\"id\":\"715a8104-e7ae-40ce-84e6-0d989b7f6b4b\",\"type\":\"DataRange1d\"},{\"attributes\":{\"children\":[{\"id\":\"8b74537b-74f7-4638-a3f1-cf8c0d134cd6\",\"type\":\"ToolbarBox\"},{\"id\":\"e03cbc2f-180f-42e4-9138-c3b151b9e261\",\"type\":\"Column\"}]},\"id\":\"cd58179a-d5f7-405b-835f-f40de642d798\",\"type\":\"Column\"},{\"attributes\":{},\"id\":\"184345e4-3d6e-4ec2-abe9-75671b02ceb9\",\"type\":\"BasicTickFormatter\"},{\"attributes\":{},\"id\":\"0df47f3d-abfe-4de8-bd84-d5c97b10c309\",\"type\":\"ToolEvents\"},{\"attributes\":{\"callback\":null,\"column_names\":[\"x\",\"y\"],\"data\":{\"x\":[-0.5,-0.49607843137254903,-0.49215686274509807,-0.48823529411764705,-0.4843137254901961,-0.4803921568627451,-0.4764705882352941,-0.4725490196078431,-0.46862745098039216,-0.4647058823529412,-0.4607843137254902,-0.4568627450980392,-0.45294117647058824,-0.44901960784313727,-0.44509803921568625,-0.4411764705882353,-0.4372549019607843,-0.43333333333333335,-0.4294117647058824,-0.42549019607843136,-0.4215686274509804,-0.4176470588235294,-0.4137254901960784,-0.40980392156862744,-0.40588235294117647,-0.4019607843137255,-0.39803921568627454,-0.3941176470588235,-0.39019607843137255,-0.3862745098039216,-0.38235294117647056,-0.3784313725490196,-0.37450980392156863,-0.37058823529411766,-0.3666666666666667,-0.3627450980392157,-0.3588235294117647,-0.35490196078431374,-0.3509803921568627,-0.34705882352941175,-0.3431372549019608,-0.3392156862745098,-0.33529411764705885,-0.33137254901960783,-0.32745098039215687,-0.3235294117647059,-0.3196078431372549,-0.3156862745098039,-0.31176470588235294,-0.307843137254902,-0.303921568627451,-0.3,-0.296078431372549,-0.29215686274509806,-0.28823529411764703,-0.28431372549019607,-0.2803921568627451,-0.27647058823529413,-0.27254901960784317,-0.26862745098039215,-0.2647058823529412,-0.2607843137254902,-0.2568627450980392,-0.2529411764705882,-0.24901960784313726,-0.2450980392156863,-0.24117647058823533,-0.2372549019607843,-0.23333333333333334,-0.22941176470588237,-0.22549019607843135,-0.22156862745098038,-0.21764705882352942,-0.21372549019607845,-0.20980392156862748,-0.20588235294117646,-0.2019607843137255,-0.19803921568627453,-0.1941176470588235,-0.19019607843137254,-0.18627450980392157,-0.1823529411764706,-0.17843137254901964,-0.17450980392156862,-0.17058823529411765,-0.16666666666666669,-0.16274509803921566,-0.1588235294117647,-0.15490196078431373,-0.15098039215686276,-0.1470588235294118,-0.14313725490196078,-0.1392156862745098,-0.13529411764705884,-0.13137254901960782,-0.12745098039215685,-0.12352941176470589,-0.11960784313725492,-0.11568627450980395,-0.11176470588235293,-0.10784313725490197,-0.103921568627451,-0.09999999999999998,-0.09607843137254901,-0.09215686274509804,-0.08823529411764708,-0.08431372549019611,-0.08039215686274509,-0.07647058823529412,-0.07254901960784316,-0.06862745098039214,-0.06470588235294117,-0.0607843137254902,-0.056862745098039236,-0.05294117647058827,-0.04901960784313725,-0.04509803921568628,-0.041176470588235314,-0.03725490196078429,-0.033333333333333326,-0.02941176470588236,-0.025490196078431393,-0.021568627450980427,-0.017647058823529405,-0.013725490196078438,-0.009803921568627472,-0.00588235294117645,-0.0019607843137254832,0.0019607843137254832,0.00588235294117645,0.009803921568627416,0.013725490196078383,0.01764705882352935,0.021568627450980427,0.025490196078431393,0.02941176470588236,0.033333333333333326,0.03725490196078429,0.04117647058823526,0.045098039215686225,0.0490196078431373,0.05294117647058827,0.056862745098039236,0.0607843137254902,0.06470588235294117,0.06862745098039214,0.0725490196078431,0.07647058823529407,0.08039215686274503,0.08431372549019611,0.08823529411764708,0.09215686274509804,0.09607843137254901,0.09999999999999998,0.10392156862745094,0.10784313725490191,0.11176470588235299,0.11568627450980395,0.11960784313725492,0.12352941176470589,0.12745098039215685,0.13137254901960782,0.1352941176470588,0.13921568627450975,0.14313725490196072,0.1470588235294118,0.15098039215686276,0.15490196078431373,0.1588235294117647,0.16274509803921566,0.16666666666666663,0.1705882352941176,0.17450980392156867,0.17843137254901964,0.1823529411764706,0.18627450980392157,0.19019607843137254,0.1941176470588235,0.19803921568627447,0.20196078431372544,0.2058823529411764,0.20980392156862748,0.21372549019607845,0.21764705882352942,0.22156862745098038,0.22549019607843135,0.22941176470588232,0.23333333333333328,0.23725490196078436,0.24117647058823533,0.2450980392156863,0.24901960784313726,0.2529411764705882,0.2568627450980392,0.26078431372549016,0.2647058823529411,0.2686274509803921,0.27254901960784317,0.27647058823529413,0.2803921568627451,0.28431372549019607,0.28823529411764703,0.292156862745098,0.29607843137254897,0.30000000000000004,0.303921568627451,0.307843137254902,0.31176470588235294,0.3156862745098039,0.3196078431372549,0.32352941176470584,0.3274509803921568,0.3313725490196078,0.33529411764705885,0.3392156862745098,0.3431372549019608,0.34705882352941175,0.3509803921568627,0.3549019607843137,0.35882352941176465,0.36274509803921573,0.3666666666666667,0.37058823529411766,0.37450980392156863,0.3784313725490196,0.38235294117647056,0.38627450980392153,0.3901960784313725,0.39411764705882346,0.39803921568627454,0.4019607843137255,0.40588235294117647,0.40980392156862744,0.4137254901960784,0.41764705882352937,0.42156862745098034,0.4254901960784314,0.4294117647058824,0.43333333333333335,0.4372549019607843,0.4411764705882353,0.44509803921568625,0.4490196078431372,0.4529411764705882,0.45686274509803915,0.4607843137254902,0.4647058823529412,0.46862745098039216,0.4725490196078431,0.4764705882352941,0.48039215686274506,0.484313725490196,0.4882352941176471,0.49215686274509807,0.49607843137254903,0.5],\"y\":[-0.0017352353615671667,-0.0046668903923949845,0.012680455937328645,-0.01788463526548692,0.016755150281595688,-0.008764737675834328,-0.0031149751386350677,0.013845133356722272,-0.018926002408532275,0.016738389277389465,-0.009309145883041478,0.0010671868286601105,0.0037075350483231906,-0.0032910310344858957,-0.0005999290160210724,0.003959035701033564,-0.00302006783514844,-0.0033025375845006037,0.012505793223215792,-0.019707676046806386,0.020343439803263186,-0.012838798006293478,-0.0002804743351181166,0.013529292795008141,-0.02127457287927588,0.02067517360602621,-0.013107566289274217,0.0032683548540275303,0.003546542777731511,-0.004443659259407272,0.0004975102895449449,0.004029278020321587,-0.004376525372773464,-0.0016636464004289413,0.012131043639447378,-0.021718844167837245,0.02464564976296629,-0.01798930663260639,0.003575581001299403,0.012714816053482628,-0.0239146647572869,0.02560452595196314,-0.01818919540382411,0.006524809103355841,0.002911013852732812,-0.005712107704083269,0.0019918113584092463,0.0038351476005358555,-0.005840021576874706,0.00034547857283148947,0.011530836858962386,-0.024104984308383526,0.03011225655203004,-0.024830497726077226,0.009003850497476953,0.011164503958118362,-0.027062314175720782,0.03214039470237376,-0.025332159841161446,0.011483143750154405,0.0014888894992362602,-0.007125135117419246,0.004073505812640151,0.003262788717658463,-0.007502352235506255,0.002934478982923967,0.010652111310570972,-0.027265804036214612,0.037702312817702935,-0.03466828432948023,0.017171981056794468,0.008386874522028721,-0.03120807228842592,0.041640170892159815,-0.036252432728870077,0.019565748074369657,-0.0013949683110113693,-0.008770508825802052,0.007186303069955014,0.0020617166459253843,-0.009605799693919496,0.006626020852799987,0.009360053811100544,-0.03219186323166357,0.049817545919826525,-0.05080541889234533,0.031059974521793415,0.0031283440262665756,-0.0376710908365263,0.05775247553495329,-0.055610885914719334,0.034677307122952666,-0.007599347149614003,-0.010934785315584283,0.012638458629746005,-0.0004982410734456519,-0.012922670710063533,0.013080200256327043,0.00720854342128167,-0.0421150476261864,0.07449573605453445,-0.08457323825805951,0.06115515817851737,-0.009125180927347393,-0.05141490219483285,0.09456697367480937,-0.10198123131550493,0.07290350532278304,-0.025029068298489894,-0.014966182039706516,0.026566853406901843,-0.007966876372769587,-0.02148294103865977,0.03137416919282934,0.0015796926381135357,-0.07683358727168776,0.1646062058643909,-0.21650661620545925,0.18869392468924145,-0.06686532707891552,-0.11990002029047678,0.3051238327731774,-0.4102538312990705,0.3791172500194205,-0.20587609445196908,-0.057254182389241334,0.3175848958246616,-0.47833430089695583,0.47833430089695583,-0.31758489582466154,0.05725418238924528,0.20587609445196572,-0.379117250019419,0.41025383129907045,-0.30512383277317745,0.11990002029047675,0.06686532707891549,-0.18869392468924154,0.21650661620545947,-0.1646062058643922,0.0768335872716868,-0.0015796926381135285,-0.0313741691928293,0.021482941038659824,0.007966876372769566,-0.026566853406901847,0.014966182039706967,0.02502906829848915,-0.07290350532278252,0.10198123131550496,-0.09456697367480942,0.05141490219483287,0.009125180927347397,-0.06115515817851738,0.08457323825805946,-0.07449573605453479,0.04211504762618578,-0.007208543421281649,-0.01308020025632702,0.012922670710063566,0.0004982410734455877,-0.012638458629746004,0.010934785315584398,0.0075993471496135345,-0.03467730712295229,0.05561088591471933,-0.057752475534953274,0.037671090836526325,-0.003128344026266574,-0.031059974521793373,0.05080541889234518,-0.049817545919826595,0.03219186323166314,-0.009360053811100565,-0.006626020852799957,0.009605799693919488,-0.0020617166459253886,-0.007186303069955004,0.008770508825802121,0.0013949683110112236,-0.019565748074369494,0.03625243272887008,-0.04164017089215978,0.031208072288425905,-0.00838687452202871,-0.01717198105679449,0.03466828432948011,-0.037702312817702914,0.027265804036214338,-0.010652111310570964,-0.0029344789829239513,0.007502352235506257,-0.0032627887176584656,-0.004073505812640222,0.007125135117419272,-0.0014888894992364718,-0.011483143750154287,0.02533215984116143,-0.03214039470237374,0.027062314175720782,-0.011164503958118374,-0.00900385049747695,0.024830497726077125,-0.030112256552030064,0.024104984308383405,-0.011530836858962404,-0.00034547857283146605,0.005840021576874726,-0.0038351476005357996,-0.00199181135840926,0.005712107704083265,-0.002911013852732824,-0.006524809103355823,0.018189195403824073,-0.02560452595196314,0.023914664757286916,-0.012714816053482673,-0.003575581001299382,0.017989306632606193,-0.024645649762966258,0.02171884416783712,-0.012131043639447371,0.0016636464004289187,0.004376525372773457,-0.004029278020321575,-0.0004975102895449467,0.004443659259407263,-0.003546542777731577,-0.0032683548540275303,0.01310756628927421,-0.020675173606026206,0.02127457287927587,-0.013529292795008148,0.0002804743351181582,0.012838798006293235,-0.02034343980326311,0.01970767604680631,-0.012505793223215796,0.003302537584500626,0.0030200678351484335,-0.003959035701033543,0.0005999290160210481,0.003291031034485856,-0.0037075350483232183,-0.0010671868286599717,0.009309145883041478,-0.01673838927738952,0.018926002408532254,-0.013845133356722272,0.0031149751386350677,0.008764737675834133,-0.01675515028159552,0.017884635265486892,-0.01268045593732867,0.00466689039239504,0.001735235361567139]}},\"id\":\"780da2cb-d3a0-4244-8afa-f4f64978b2de\",\"type\":\"ColumnDataSource\"},{\"attributes\":{\"overlay\":{\"id\":\"baf9fb7a-d111-4b67-a3f7-836012e026a0\",\"type\":\"BoxAnnotation\"},\"plot\":{\"id\":\"6a8435f7-5fd7-4810-a064-0de0475f528a\",\"subtype\":\"Figure\",\"type\":\"Plot\"}},\"id\":\"f76c109e-5d76-4fd6-afcc-36efa3c44465\",\"type\":\"BoxZoomTool\"},{\"attributes\":{\"plot\":{\"id\":\"0f90139a-57af-4550-8b0d-45976ecd2823\",\"subtype\":\"Figure\",\"type\":\"Plot\"},\"ticker\":{\"id\":\"c0e94042-21be-45c6-acc2-a2da1a7ee303\",\"type\":\"BasicTicker\"}},\"id\":\"f66efe30-c0ba-4447-b59e-955ab3e4a781\",\"type\":\"Grid\"},{\"attributes\":{},\"id\":\"9cf33511-57ca-478a-977c-3e86e937eb20\",\"type\":\"BasicTickFormatter\"},{\"attributes\":{\"callback\":null},\"id\":\"e8d6711f-0ec6-46a3-aeb4-7a658db01c67\",\"type\":\"DataRange1d\"},{\"attributes\":{\"plot\":{\"id\":\"d0376bf0-ab5c-445d-930f-c57c0c92a8bd\",\"subtype\":\"Figure\",\"type\":\"Plot\"}},\"id\":\"d2feb1c8-a8a5-41e9-a328-e88aac93c8c4\",\"type\":\"PanTool\"},{\"attributes\":{\"line_color\":{\"value\":\"#1f77b4\"},\"x\":{\"field\":\"x\"},\"y\":{\"field\":\"y\"}},\"id\":\"10b9001f-99a6-4dbe-a5df-96f021138789\",\"type\":\"Line\"},{\"attributes\":{\"plot\":{\"id\":\"d0376bf0-ab5c-445d-930f-c57c0c92a8bd\",\"subtype\":\"Figure\",\"type\":\"Plot\"},\"ticker\":{\"id\":\"14a74db2-678f-4daf-b280-b139a93ed0c0\",\"type\":\"BasicTicker\"}},\"id\":\"b12ad6d8-3e1d-48ae-a6db-31434ac4e40d\",\"type\":\"Grid\"},{\"attributes\":{},\"id\":\"49ac3dbe-78f5-4daf-8f12-ce6760a2e9c6\",\"type\":\"BasicTicker\"},{\"attributes\":{\"overlay\":{\"id\":\"2896ab38-481b-4d70-b382-5afb1e078bef\",\"type\":\"BoxAnnotation\"},\"plot\":{\"id\":\"d0376bf0-ab5c-445d-930f-c57c0c92a8bd\",\"subtype\":\"Figure\",\"type\":\"Plot\"}},\"id\":\"e635864e-6e13-4399-9228-c2628ffb1c75\",\"type\":\"BoxZoomTool\"},{\"attributes\":{},\"id\":\"7d70ac2a-ad64-4a24-aa8c-1f265e24ac4a\",\"type\":\"BasicTicker\"},{\"attributes\":{\"formatter\":{\"id\":\"abe6d551-0e8f-4a88-9d69-c0af0881b8f8\",\"type\":\"BasicTickFormatter\"},\"plot\":{\"id\":\"6a8435f7-5fd7-4810-a064-0de0475f528a\",\"subtype\":\"Figure\",\"type\":\"Plot\"},\"ticker\":{\"id\":\"7d70ac2a-ad64-4a24-aa8c-1f265e24ac4a\",\"type\":\"BasicTicker\"}},\"id\":\"e0cb2758-d2c4-4f93-a420-464a2f9a3b26\",\"type\":\"LinearAxis\"},{\"attributes\":{\"callback\":null},\"id\":\"3be85919-2019-4e69-9e0e-311ca48856bf\",\"type\":\"DataRange1d\"},{\"attributes\":{\"line_color\":{\"value\":\"#1f77b4\"},\"x\":{\"field\":\"x\"},\"y\":{\"field\":\"y\"}},\"id\":\"103ae66e-8bc7-45b2-be95-1d74eb564e6c\",\"type\":\"Line\"},{\"attributes\":{},\"id\":\"d5b281d8-82e1-4677-8376-a3fc24a0bf38\",\"type\":\"ToolEvents\"},{\"attributes\":{\"plot\":{\"id\":\"6a8435f7-5fd7-4810-a064-0de0475f528a\",\"subtype\":\"Figure\",\"type\":\"Plot\"}},\"id\":\"a1f88851-d62e-40cf-8497-12e41f1125eb\",\"type\":\"WheelZoomTool\"},{\"attributes\":{\"data_source\":{\"id\":\"de7e9d65-9928-4f5e-a356-5f9c7912a603\",\"type\":\"ColumnDataSource\"},\"glyph\":{\"id\":\"10b9001f-99a6-4dbe-a5df-96f021138789\",\"type\":\"Line\"},\"hover_glyph\":null,\"nonselection_glyph\":{\"id\":\"ad63a08c-1394-46da-b2cf-dabc8cd70567\",\"type\":\"Line\"},\"selection_glyph\":null},\"id\":\"02bedcce-1a16-4833-80cd-bf06b1e62248\",\"type\":\"GlyphRenderer\"},{\"attributes\":{},\"id\":\"95d3b65e-6329-4220-b8a6-d5f4f5390b13\",\"type\":\"BasicTicker\"},{\"attributes\":{\"formatter\":{\"id\":\"d6fee570-7549-4d71-a518-0b8e61abaf2d\",\"type\":\"BasicTickFormatter\"},\"plot\":{\"id\":\"0f90139a-57af-4550-8b0d-45976ecd2823\",\"subtype\":\"Figure\",\"type\":\"Plot\"},\"ticker\":{\"id\":\"dffbed47-71d0-4f60-ab9a-bdd5d25c2fb1\",\"type\":\"BasicTicker\"}},\"id\":\"10578c20-2cbb-4724-a74d-9f291bfd6b65\",\"type\":\"LinearAxis\"},{\"attributes\":{\"callback\":null,\"column_names\":[\"x\",\"y\"],\"data\":{\"x\":[-128.0,-126.99607843137255,-125.9921568627451,-124.98823529411764,-123.9843137254902,-122.98039215686275,-121.97647058823529,-120.97254901960784,-119.96862745098039,-118.96470588235294,-117.9607843137255,-116.95686274509804,-115.95294117647059,-114.94901960784314,-113.94509803921568,-112.94117647058823,-111.93725490196078,-110.93333333333334,-109.92941176470589,-108.92549019607843,-107.92156862745098,-106.91764705882353,-105.91372549019607,-104.90980392156862,-103.90588235294118,-102.90196078431373,-101.89803921568628,-100.89411764705882,-99.89019607843137,-98.88627450980393,-97.88235294117646,-96.87843137254902,-95.87450980392157,-94.87058823529412,-93.86666666666667,-92.86274509803921,-91.85882352941177,-90.85490196078432,-89.85098039215686,-88.84705882352941,-87.84313725490196,-86.83921568627451,-85.83529411764707,-84.8313725490196,-83.82745098039216,-82.82352941176471,-81.81960784313725,-80.8156862745098,-79.81176470588235,-78.8078431372549,-77.80392156862746,-76.8,-75.79607843137255,-74.7921568627451,-73.78823529411764,-72.7843137254902,-71.78039215686275,-70.7764705882353,-69.77254901960785,-68.76862745098039,-67.76470588235294,-66.7607843137255,-65.75686274509803,-64.75294117647059,-63.74901960784314,-62.74509803921569,-61.74117647058824,-60.73725490196078,-59.733333333333334,-58.72941176470589,-57.725490196078425,-56.72156862745098,-55.71764705882353,-54.71372549019608,-53.709803921568636,-52.705882352941174,-51.70196078431373,-50.69803921568628,-49.69411764705882,-48.69019607843137,-47.68627450980392,-46.682352941176475,-45.67843137254903,-44.674509803921566,-43.67058823529412,-42.66666666666667,-41.66274509803921,-40.65882352941176,-39.654901960784315,-38.65098039215687,-37.64705882352942,-36.64313725490196,-35.63921568627451,-34.635294117647064,-33.6313725490196,-32.627450980392155,-31.623529411764707,-30.61960784313726,-29.615686274509812,-28.61176470588235,-27.607843137254903,-26.603921568627456,-25.599999999999994,-24.596078431372547,-23.5921568627451,-22.588235294117652,-21.584313725490205,-20.580392156862743,-19.576470588235296,-18.572549019607848,-17.568627450980387,-16.56470588235294,-15.560784313725492,-14.556862745098044,-13.552941176470597,-12.549019607843135,-11.545098039215688,-10.54117647058824,-9.537254901960779,-8.533333333333331,-7.529411764705884,-6.525490196078437,-5.521568627450989,-4.517647058823528,-3.51372549019608,-2.5098039215686327,-1.5058823529411711,-0.5019607843137237,0.5019607843137237,1.5058823529411711,2.5098039215686185,3.513725490196066,4.517647058823513,5.521568627450989,6.525490196078437,7.529411764705884,8.533333333333331,9.537254901960779,10.541176470588226,11.545098039215674,12.54901960784315,13.552941176470597,14.556862745098044,15.560784313725492,16.56470588235294,17.568627450980387,18.572549019607834,19.57647058823528,20.58039215686273,21.584313725490205,22.588235294117652,23.5921568627451,24.596078431372547,25.599999999999994,26.60392156862744,27.60784313725489,28.611764705882365,29.615686274509812,30.61960784313726,31.623529411764707,32.627450980392155,33.6313725490196,34.63529411764705,35.6392156862745,36.643137254901944,37.64705882352942,38.65098039215687,39.654901960784315,40.65882352941176,41.66274509803921,42.66666666666666,43.670588235294105,44.67450980392158,45.67843137254903,46.682352941176475,47.68627450980392,48.69019607843137,49.69411764705882,50.698039215686265,51.70196078431371,52.70588235294116,53.709803921568636,54.71372549019608,55.71764705882353,56.72156862745098,57.725490196078425,58.72941176470587,59.73333333333332,60.737254901960796,61.74117647058824,62.74509803921569,63.74901960784314,64.75294117647059,65.75686274509803,66.76078431372548,67.76470588235293,68.76862745098038,69.77254901960785,70.7764705882353,71.78039215686275,72.7843137254902,73.78823529411764,74.79215686274509,75.79607843137254,76.80000000000001,77.80392156862746,78.8078431372549,79.81176470588235,80.8156862745098,81.81960784313725,82.8235294117647,83.82745098039214,84.83137254901959,85.83529411764707,86.83921568627451,87.84313725490196,88.84705882352941,89.85098039215686,90.8549019607843,91.85882352941175,92.86274509803923,93.86666666666667,94.87058823529412,95.87450980392157,96.87843137254902,97.88235294117646,98.88627450980391,99.89019607843136,100.8941176470588,101.89803921568628,102.90196078431373,103.90588235294118,104.90980392156862,105.91372549019607,106.91764705882352,107.92156862745097,108.92549019607844,109.92941176470589,110.93333333333334,111.93725490196078,112.94117647058823,113.94509803921568,114.94901960784313,115.95294117647057,116.95686274509802,117.9607843137255,118.96470588235294,119.96862745098039,120.97254901960784,121.97647058823529,122.98039215686273,123.98431372549018,124.98823529411766,125.9921568627451,126.99607843137255,128.0],\"y\":[2.581268532253489e-15,1.150790776040772e-05,2.3023872454148717e-05,3.455596353586838e-05,4.611227552359665e-05,5.770094058427115e-05,6.93301412510524e-05,8.100812317040177e-05,9.27432080945729e-05,0.0001045438069274614,0.00011641843306995726,0.0001283757158881804,0.00014042441454865313,0.00015257343198817316,0.00016483182933915984,0.00017720884054645946,0.0001897138874495714,0.00020235659517760777,0.00021514680797644456,0.00022809460543336826,0.00024121031921853873,0.0002545045501615349,0.00026798818594874645,0.00028167241916261576,0.00029556876595491436,0.0003096890850268146,0.0003240455972932812,0.0003386509057746874,0.00035351801614257923,0.00036866035738928574,0.0003840918030849425,0.0003998266925546212,0.00041587985248726597,0.00043226661818992687,0.00044900285495640867,0.0004661049786606157,0.0004835899759673442,0.0005014754231471213,0.0005197795036862108,0.0005385210235746204,0.0005577194241840333,0.0005773947914139747,0.0005975678605891603,0.0006182600155324761,0.0006394932807187674,0.0006612903043678607,0.0006836743307161696,0.000706669158364701,0.0007302990820192134,0.0007545888129952273,0.0007795633743610816,0.0008052479640879509,0.0008316677793246133,0.000858847792490068,0.0008868124680580669,0.0009155854061495876,0.0009451888955937366,0.00097564335493962,0.0010069666343978168,0.0010391731448438793,0.001072272771000346,0.0011062695147177769,0.0011411597992057362,0.0011769303461483447,0.001213555511987915,0.001250993936906535,0.0012891843152335015,0.0013280400374576856,0.0013674423740080235,0.0014072317621101212,0.0014471966090596334,0.001487058817318976,0.001526454948846237,0.0015649115343061195,0.0016018124450904883,0.001636355387853946,0.001667493317229349,0.0016938546628310065,0.001713633369070224,0.0017244352326165938,0.0017230598460246153,0.0017051857668678682,0.0016649069861063037,0.0015940350992962142,0.0014810216082350451,0.0013092437947175447,0.0010541830435770545,0.0006785881055310261,0.0001237738457685101,0.0007069764128849434,0.001982446789416881,0.004019979156714566,0.0074792372930554815,0.013940368310589995,0.028097001822254317,0.07014204159126472,0.349931725666132,3.911766765976645,4.057831022953174,4.076672984668261,4.034965713799868,4.0848942253490845,4.029337186603481,4.090618387853212,4.022450012803606,4.099486066054572,4.010562871753795,4.116082585635185,3.986095633985542,4.155219945049183,3.9144370342952333,4.326284858599711,2.943701553074105,0.24753382167378665,0.14824744750529964,0.10543639890599327,0.08258905479636411,0.0686147946265714,0.05930814366386349,0.05275456931197568,0.04796520455728978,0.044381125076882424,0.04166490588580022,0.039602854708886484,0.0380551770582734,0.03692891257373071,0.03616255628173929,0.03571710974406888,0.03557093945789508,0.03571710974406995,0.03616255628173819,0.036928912573731994,0.03805517705827236,0.0396028547088883,0.04166490588579867,0.04438112507688397,0.0479652045572888,0.052754569311978486,0.05930814366386088,0.06861479462657391,0.08258905479636297,0.10543639890599794,0.1482474475052954,0.24753382167379087,2.9437015530741055,4.326284858599707,3.914437034295231,4.155219945049179,3.9860956339855433,4.116082585635186,4.010562871753795,4.099486066054572,4.022450012803608,4.0906183878532145,4.029337186603483,4.084894225349086,4.034965713799869,4.076672984668266,4.057831022953179,3.9117667659766493,0.34993172566613223,0.07014204159125614,0.02809700182226296,0.013940368310581212,0.007479237293059682,0.004019979156708531,0.001982446789423758,0.000706976412878411,0.0001237738457648003,0.0006785881055365906,0.0010541830435708789,0.0013092437947239978,0.0014810216082310657,0.0015940350993018653,0.001664906986100643,0.0017051857668737875,0.0017230598460227836,0.0017244352326198982,0.001713633369066912,0.001693854662834207,0.0016674933172277993,0.0016363553878566465,0.0016018124450875204,0.0015649115343091304,0.0015264549488448616,0.0014870588173219157,0.001447196609056872,0.0014072317621128501,0.0013674423740065718,0.001328040037460405,0.0012891843152307441,0.0012509939369093526,0.001213555511987915,0.0011769303461506956,0.0011411597992031924,0.0011062695147201756,0.0010722727709991846,0.0010391731448463164,0.0010069666343959015,0.0009756433549417169,0.0009451888955924908,0.0009155854061521143,0.0008868124680558394,0.0008588477924923105,0.0008316677793232768,0.0008052479640903403,0.0007795633743589733,0.0007545888129971709,0.0007302990820172889,0.0007066691583684534,0.0006836743307124437,0.0006612903043720629,0.0006394932807155116,0.0006182600155356927,0.0005975678605857877,0.0005773947914173601,0.0005577194241816074,0.000538521023578017,0.0005197795036826102,0.0005014754231507196,0.0004835899759645639,0.00046610497866410815,0.00044900285495248066,0.00043226661819360785,0.000415879852486918,0.00039982669255744557,0.0003840918030815627,0.0003686603573924556,0.0003535180161403236,0.00033865090577777816,0.0003240455972897704,0.0003096890850298629,0.00029556876595267977,0.00028167241916612386,0.0002679881859455021,0.00025450455016466574,0.0002412103192161689,0.00022809460543670059,0.00021514680797310855,0.00020235659518125077,0.0001897138874482103,0.00017720884054839444,0.00016483182933671464,0.00015257343199017795,0.0001404244145475918,0.0001283757158900942,0.00011641843306836289,0.00010454380692923362,9.274320809366287e-05,8.100812317227154e-05,6.933014124928628e-05,5.770094058615958e-05,4.611227552237129e-05,3.455596353800313e-05,2.3023872452614534e-05,1.1507907762686458e-05]}},\"id\":\"de7e9d65-9928-4f5e-a356-5f9c7912a603\",\"type\":\"ColumnDataSource\"},{\"attributes\":{\"axis_label\":\"time/s\",\"formatter\":{\"id\":\"184345e4-3d6e-4ec2-abe9-75671b02ceb9\",\"type\":\"BasicTickFormatter\"},\"plot\":{\"id\":\"0f90139a-57af-4550-8b0d-45976ecd2823\",\"subtype\":\"Figure\",\"type\":\"Plot\"},\"ticker\":{\"id\":\"c0e94042-21be-45c6-acc2-a2da1a7ee303\",\"type\":\"BasicTicker\"}},\"id\":\"2fcdfc9e-f69e-43f5-ba95-5a99fdb11f29\",\"type\":\"LinearAxis\"},{\"attributes\":{\"dimension\":1,\"plot\":{\"id\":\"6a8435f7-5fd7-4810-a064-0de0475f528a\",\"subtype\":\"Figure\",\"type\":\"Plot\"},\"ticker\":{\"id\":\"7d70ac2a-ad64-4a24-aa8c-1f265e24ac4a\",\"type\":\"BasicTicker\"}},\"id\":\"fb1048e0-ba51-402c-accb-3c58541e8ce8\",\"type\":\"Grid\"},{\"attributes\":{},\"id\":\"dffbed47-71d0-4f60-ab9a-bdd5d25c2fb1\",\"type\":\"BasicTicker\"},{\"attributes\":{\"line_alpha\":{\"value\":0.1},\"line_color\":{\"value\":\"#1f77b4\"},\"x\":{\"field\":\"x\"},\"y\":{\"field\":\"y\"}},\"id\":\"37181f00-5fc1-4c31-b146-ee215c4e33b3\",\"type\":\"Line\"}],\"root_ids\":[\"cd58179a-d5f7-405b-835f-f40de642d798\"]},\"title\":\"Bokeh Application\",\"version\":\"0.12.0\"}};\n",
       "            var render_items = [{\"docid\":\"4f4d192a-ff55-4cfb-87a0-2f0f6b8d7f30\",\"elementid\":\"5ab8bf09-cb79-479b-a4b7-137aff1ce50f\",\"modelid\":\"cd58179a-d5f7-405b-835f-f40de642d798\",\"notebook_comms_target\":\"825ef631-b46e-47fc-bc70-8d8c88ec74f9\"}];\n",
       "            \n",
       "            Bokeh.embed.embed_items(docs_json, render_items);\n",
       "        });\n",
       "      },\n",
       "      function(Bokeh) {\n",
       "      }\n",
       "    ];\n",
       "  \n",
       "    function run_inline_js() {\n",
       "      for (var i = 0; i < inline_js.length; i++) {\n",
       "        inline_js[i](window.Bokeh);\n",
       "      }\n",
       "    }\n",
       "  \n",
       "    if (window._bokeh_is_loading === 0) {\n",
       "      console.log(\"Bokeh: BokehJS loaded, going straight to plotting\");\n",
       "      run_inline_js();\n",
       "    } else {\n",
       "      load_libs(js_urls, function() {\n",
       "        console.log(\"Bokeh: BokehJS plotting callback run at\", now());\n",
       "        run_inline_js();\n",
       "      });\n",
       "    }\n",
       "  }(this));\n",
       "</script>"
      ]
     },
     "metadata": {},
     "output_type": "display_data"
    },
    {
     "data": {
      "text/html": [
       "<p><code>&lt;Bokeh Notebook handle for <strong>In[6]</strong>&gt;</code></p>"
      ],
      "text/plain": [
       "<bokeh.io._CommsHandle at 0x279b57672e8>"
      ]
     },
     "execution_count": 6,
     "metadata": {},
     "output_type": "execute_result"
    }
   ],
   "source": [
    "#inverse fourier transform back\n",
    "I_double_sinc = ifft(F_double_sinc)\n",
    "\n",
    "p4 = figure(height = 300, width = 300, title = 'I_double_sinc = IFT{F_double_sinc}', x_axis_label = 'time/s')\n",
    "p4.title.text_font_size = '10pt'\n",
    "q4 = p4.line(t, np.real(I_double_sinc))\n",
    "\n",
    "p5 = gridplot([[p2,p3,p4]])\n",
    "show(p5)"
   ]
  },
  {
   "cell_type": "code",
   "execution_count": 7,
   "metadata": {
    "collapsed": true
   },
   "outputs": [],
   "source": [
    "def change_sinc_frequency(sinc_frequency):\n",
    "    double_sinc = np.sinc(2*sinc_frequency*pi*t) - 0.5*np.sinc(2*0.5*sinc_frequency*pi*t)\n",
    "    F_double_sinc = fftshift(fft(double_sinc))\n",
    "    I_double_sinc = ifft(F_double_sinc)\n",
    "    #update the data on the graphs\n",
    "    q2.data_source.data['y'] = double_sinc\n",
    "    q3.data_source.data['y'] = abs(F_double_sinc)\n",
    "    q4.data_source.data['y'] = np.real(I_double_sinc)\n",
    "    #push this change to the notebook\n",
    "    push_notebook()\n",
    "\n",
    "#create an interactive slider to control plot properties\n",
    "interact(change_sinc_frequency, sinc_frequency=widgets.IntSlider(min=0,max=256,step=1,value=8));"
   ]
  },
  {
   "cell_type": "markdown",
   "metadata": {},
   "source": [
    "Even at low frequencies, the recovered `I_double_sinc` function appears to have little in common with the original `double_sinc`. This is because the fourier transform `F_double_sinc` is truncated by the finite length of the array, 256 in this case. This has the same effect as multiplying the fourier transform by a top hat of width 256 Hz, centred on 0 Hz.\n",
    "\n",
    "Consequently, `I_double_sinc` is the original `double_sinc` convolved with a sinc function of high frequency.\n",
    "Q: What is this frequency?\n",
    "\n",
    "A striking feature of the time domain plots (left and right) is their change in shape as aliasing sets in. When the higher frequency components of the signal are aliased, but the lower are not, the range of frequencies in the signal decreases. This is observed as a narrowing of the top hats in the central plot.\n",
    "There exists a frequency at which the top hats become dirac-delta functions and the `double_sinc` function become purely sinusoidal."
   ]
  }
 ],
 "metadata": {
  "kernelspec": {
   "display_name": "Python 3",
   "language": "python",
   "name": "python3"
  },
  "language_info": {
   "codemirror_mode": {
    "name": "ipython",
    "version": 3
   },
   "file_extension": ".py",
   "mimetype": "text/x-python",
   "name": "python",
   "nbconvert_exporter": "python",
   "pygments_lexer": "ipython3",
   "version": "3.5.2"
  }
 },
 "nbformat": 4,
 "nbformat_minor": 0
}
