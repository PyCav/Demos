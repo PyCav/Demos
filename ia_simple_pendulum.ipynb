{
 "cells": [
  {
   "cell_type": "markdown",
   "metadata": {},
   "source": [
    "# Oscillations: Simple Pendulum\n",
    "\n",
    "This Notebook aims to demonstrate the behaviour a simple pendulum, freely oscillating. <br>\n",
    "The pendulum may, or may not be damped.\n",
    "\n",
    "Its motion is governed by the <i>second order</i> ordinary differential equation (ODE):\n",
    "<script type=\"text/x-mathjax-config\">\n",
    "MathJax.Hub.Config({\n",
    "  TeX: { equationNumbers: { autoNumber: \"AMS\" } }\n",
    "});\n",
    "\n",
    "</script>\n",
    "\\begin{equation}\n",
    "\\ddot{\\theta} + \\frac{b}{m}\\dot{\\theta} + \\frac{g}{l}sin\\theta = 0\n",
    "\\end{equation}\n",
    "\n",
    "Where $l$ is the length of the pendulum, $b$ is the damping constant, $m$ is the mass, and $g$ is the gravitational field strength."
   ]
  },
  {
   "cell_type": "markdown",
   "metadata": {},
   "source": [
    "Matplotlib will be used to generate the graphs and animations."
   ]
  },
  {
   "cell_type": "code",
   "execution_count": 1,
   "metadata": {
    "collapsed": false
   },
   "outputs": [],
   "source": [
    "import matplotlib\n",
    "matplotlib.use('tkagg')\n",
    "from matplotlib import pyplot as plt\n",
    "from matplotlib import animation\n",
    "%matplotlib notebook\n",
    "\n",
    "import numpy as np"
   ]
  },
  {
   "cell_type": "markdown",
   "metadata": {},
   "source": [
    "The following are imported to provide the sliders and widgets."
   ]
  },
  {
   "cell_type": "code",
   "execution_count": 2,
   "metadata": {
    "collapsed": false
   },
   "outputs": [],
   "source": [
    "from IPython.display import HTML\n",
    "from IPython.display import display\n",
    "import ipywidgets as widgets\n",
    "from ipywidgets import interact, FloatSlider"
   ]
  },
  {
   "cell_type": "markdown",
   "metadata": {},
   "source": [
    "To do the integration of equation (1), we will use the function odeint from the scipy module."
   ]
  },
  {
   "cell_type": "code",
   "execution_count": 3,
   "metadata": {
    "collapsed": true
   },
   "outputs": [],
   "source": [
    "from scipy.integrate import odeint"
   ]
  },
  {
   "cell_type": "markdown",
   "metadata": {},
   "source": [
    "In order to use <i>odeint</i>, one has to convert the second order equation, into a first order equation.\n",
    "\n",
    "This can be achieved by rewriting the SHM equation in terms of the angular frequency:\n",
    "\n",
    "\\begin{equation}\n",
    "    \\omega = \\dot{\\theta}\n",
    "\\end{equation}\n",
    "\n",
    "To obtain:\n",
    "\n",
    "\\begin{equation}\n",
    "    \\dot{\\omega} = -\\frac{b}{m}\\omega - \\frac{g}{l}sin\\theta\n",
    "\\end{equation}\n",
    "\n",
    "Now, we use this to define the function <i>pendulum</i>."
   ]
  },
  {
   "cell_type": "code",
   "execution_count": 4,
   "metadata": {
    "collapsed": false
   },
   "outputs": [],
   "source": [
    "def pendulum(y, t, gamma, w0):\n",
    "    theta, omega = y\n",
    "    dydt = [omega, -gamma*omega - w0*np.sin(theta)]\n",
    "    return dydt"
   ]
  },
  {
   "cell_type": "markdown",
   "metadata": {},
   "source": [
    "Now, we have to set the initial conditions $\\theta_0$ and $\\omega _ 0$ of the pendulum. <br>\n",
    "Let's say that these are 0.1$^c$ and 0 (the pendulum is at rest) respectively. Additionally, let the initial damping be zero.\n",
    "\n",
    "We'll also set the physical constants here too. If one wished, some constants can be imported from the scipy.constants library."
   ]
  },
  {
   "cell_type": "code",
   "execution_count": 24,
   "metadata": {
    "collapsed": false
   },
   "outputs": [],
   "source": [
    "# Physical Constants & Properties of the Pendulum\n",
    "from scipy.constants import g\n",
    "friction = 0\n",
    "length = 0.5\n",
    "mass = 1.0\n",
    "\n",
    "# Initial conditions\n",
    "y0 = [-0.1*np.pi, 3.0]"
   ]
  },
  {
   "cell_type": "markdown",
   "metadata": {},
   "source": [
    "We need to know how long to simulate for. Let's aim for 1001 evenly spaced intervals of time."
   ]
  },
  {
   "cell_type": "code",
   "execution_count": 6,
   "metadata": {
    "collapsed": false
   },
   "outputs": [],
   "source": [
    "start_time = 0.0\n",
    "end_time = 10.0\n",
    "steps = 1001\n",
    "\n",
    "t = np.linspace(start_time, end_time, steps)"
   ]
  },
  {
   "cell_type": "markdown",
   "metadata": {},
   "source": [
    "To solve the equations, we simply call odeint!"
   ]
  },
  {
   "cell_type": "code",
   "execution_count": 7,
   "metadata": {
    "collapsed": false
   },
   "outputs": [],
   "source": [
    "solution = odeint(pendulum, y0, t, args=(friction/mass, g/length))"
   ]
  },
  {
   "cell_type": "markdown",
   "metadata": {},
   "source": [
    "Some definitions which will help us with the simulation."
   ]
  },
  {
   "cell_type": "code",
   "execution_count": 31,
   "metadata": {
    "collapsed": false
   },
   "outputs": [],
   "source": [
    "def kinetic_energy(m, v):\n",
    "    return 0.5 * m * v ** 2\n",
    "\n",
    "def potential_energy(m, th):\n",
    "    return m * g * length * (1 - np.cos(th))\n",
    "\n",
    "def array_arg(complex_array):\n",
    "    return np.angle(complex_array[0] + 1j*complex_array[1], deg=False)\n",
    "\n",
    "def array_abs(complex_array):\n",
    "    return np.sqrt(complex_array[0] ** 2 + complex_array[1] ** 2)"
   ]
  },
  {
   "cell_type": "code",
   "execution_count": 71,
   "metadata": {
    "collapsed": false
   },
   "outputs": [
    {
     "data": {
      "application/javascript": [
       "/* Put everything inside the global mpl namespace */\n",
       "window.mpl = {};\n",
       "\n",
       "mpl.get_websocket_type = function() {\n",
       "    if (typeof(WebSocket) !== 'undefined') {\n",
       "        return WebSocket;\n",
       "    } else if (typeof(MozWebSocket) !== 'undefined') {\n",
       "        return MozWebSocket;\n",
       "    } else {\n",
       "        alert('Your browser does not have WebSocket support.' +\n",
       "              'Please try Chrome, Safari or Firefox ≥ 6. ' +\n",
       "              'Firefox 4 and 5 are also supported but you ' +\n",
       "              'have to enable WebSockets in about:config.');\n",
       "    };\n",
       "}\n",
       "\n",
       "mpl.figure = function(figure_id, websocket, ondownload, parent_element) {\n",
       "    this.id = figure_id;\n",
       "\n",
       "    this.ws = websocket;\n",
       "\n",
       "    this.supports_binary = (this.ws.binaryType != undefined);\n",
       "\n",
       "    if (!this.supports_binary) {\n",
       "        var warnings = document.getElementById(\"mpl-warnings\");\n",
       "        if (warnings) {\n",
       "            warnings.style.display = 'block';\n",
       "            warnings.textContent = (\n",
       "                \"This browser does not support binary websocket messages. \" +\n",
       "                    \"Performance may be slow.\");\n",
       "        }\n",
       "    }\n",
       "\n",
       "    this.imageObj = new Image();\n",
       "\n",
       "    this.context = undefined;\n",
       "    this.message = undefined;\n",
       "    this.canvas = undefined;\n",
       "    this.rubberband_canvas = undefined;\n",
       "    this.rubberband_context = undefined;\n",
       "    this.format_dropdown = undefined;\n",
       "\n",
       "    this.image_mode = 'full';\n",
       "\n",
       "    this.root = $('<div/>');\n",
       "    this._root_extra_style(this.root)\n",
       "    this.root.attr('style', 'display: inline-block');\n",
       "\n",
       "    $(parent_element).append(this.root);\n",
       "\n",
       "    this._init_header(this);\n",
       "    this._init_canvas(this);\n",
       "    this._init_toolbar(this);\n",
       "\n",
       "    var fig = this;\n",
       "\n",
       "    this.waiting = false;\n",
       "\n",
       "    this.ws.onopen =  function () {\n",
       "            fig.send_message(\"supports_binary\", {value: fig.supports_binary});\n",
       "            fig.send_message(\"send_image_mode\", {});\n",
       "            fig.send_message(\"refresh\", {});\n",
       "        }\n",
       "\n",
       "    this.imageObj.onload = function() {\n",
       "            if (fig.image_mode == 'full') {\n",
       "                // Full images could contain transparency (where diff images\n",
       "                // almost always do), so we need to clear the canvas so that\n",
       "                // there is no ghosting.\n",
       "                fig.context.clearRect(0, 0, fig.canvas.width, fig.canvas.height);\n",
       "            }\n",
       "            fig.context.drawImage(fig.imageObj, 0, 0);\n",
       "        };\n",
       "\n",
       "    this.imageObj.onunload = function() {\n",
       "        this.ws.close();\n",
       "    }\n",
       "\n",
       "    this.ws.onmessage = this._make_on_message_function(this);\n",
       "\n",
       "    this.ondownload = ondownload;\n",
       "}\n",
       "\n",
       "mpl.figure.prototype._init_header = function() {\n",
       "    var titlebar = $(\n",
       "        '<div class=\"ui-dialog-titlebar ui-widget-header ui-corner-all ' +\n",
       "        'ui-helper-clearfix\"/>');\n",
       "    var titletext = $(\n",
       "        '<div class=\"ui-dialog-title\" style=\"width: 100%; ' +\n",
       "        'text-align: center; padding: 3px;\"/>');\n",
       "    titlebar.append(titletext)\n",
       "    this.root.append(titlebar);\n",
       "    this.header = titletext[0];\n",
       "}\n",
       "\n",
       "\n",
       "\n",
       "mpl.figure.prototype._canvas_extra_style = function(canvas_div) {\n",
       "\n",
       "}\n",
       "\n",
       "\n",
       "mpl.figure.prototype._root_extra_style = function(canvas_div) {\n",
       "\n",
       "}\n",
       "\n",
       "mpl.figure.prototype._init_canvas = function() {\n",
       "    var fig = this;\n",
       "\n",
       "    var canvas_div = $('<div/>');\n",
       "\n",
       "    canvas_div.attr('style', 'position: relative; clear: both; outline: 0');\n",
       "\n",
       "    function canvas_keyboard_event(event) {\n",
       "        return fig.key_event(event, event['data']);\n",
       "    }\n",
       "\n",
       "    canvas_div.keydown('key_press', canvas_keyboard_event);\n",
       "    canvas_div.keyup('key_release', canvas_keyboard_event);\n",
       "    this.canvas_div = canvas_div\n",
       "    this._canvas_extra_style(canvas_div)\n",
       "    this.root.append(canvas_div);\n",
       "\n",
       "    var canvas = $('<canvas/>');\n",
       "    canvas.addClass('mpl-canvas');\n",
       "    canvas.attr('style', \"left: 0; top: 0; z-index: 0; outline: 0\")\n",
       "\n",
       "    this.canvas = canvas[0];\n",
       "    this.context = canvas[0].getContext(\"2d\");\n",
       "\n",
       "    var rubberband = $('<canvas/>');\n",
       "    rubberband.attr('style', \"position: absolute; left: 0; top: 0; z-index: 1;\")\n",
       "\n",
       "    var pass_mouse_events = true;\n",
       "\n",
       "    canvas_div.resizable({\n",
       "        start: function(event, ui) {\n",
       "            pass_mouse_events = false;\n",
       "        },\n",
       "        resize: function(event, ui) {\n",
       "            fig.request_resize(ui.size.width, ui.size.height);\n",
       "        },\n",
       "        stop: function(event, ui) {\n",
       "            pass_mouse_events = true;\n",
       "            fig.request_resize(ui.size.width, ui.size.height);\n",
       "        },\n",
       "    });\n",
       "\n",
       "    function mouse_event_fn(event) {\n",
       "        if (pass_mouse_events)\n",
       "            return fig.mouse_event(event, event['data']);\n",
       "    }\n",
       "\n",
       "    rubberband.mousedown('button_press', mouse_event_fn);\n",
       "    rubberband.mouseup('button_release', mouse_event_fn);\n",
       "    // Throttle sequential mouse events to 1 every 20ms.\n",
       "    rubberband.mousemove('motion_notify', mouse_event_fn);\n",
       "\n",
       "    rubberband.mouseenter('figure_enter', mouse_event_fn);\n",
       "    rubberband.mouseleave('figure_leave', mouse_event_fn);\n",
       "\n",
       "    canvas_div.on(\"wheel\", function (event) {\n",
       "        event = event.originalEvent;\n",
       "        event['data'] = 'scroll'\n",
       "        if (event.deltaY < 0) {\n",
       "            event.step = 1;\n",
       "        } else {\n",
       "            event.step = -1;\n",
       "        }\n",
       "        mouse_event_fn(event);\n",
       "    });\n",
       "\n",
       "    canvas_div.append(canvas);\n",
       "    canvas_div.append(rubberband);\n",
       "\n",
       "    this.rubberband = rubberband;\n",
       "    this.rubberband_canvas = rubberband[0];\n",
       "    this.rubberband_context = rubberband[0].getContext(\"2d\");\n",
       "    this.rubberband_context.strokeStyle = \"#000000\";\n",
       "\n",
       "    this._resize_canvas = function(width, height) {\n",
       "        // Keep the size of the canvas, canvas container, and rubber band\n",
       "        // canvas in synch.\n",
       "        canvas_div.css('width', width)\n",
       "        canvas_div.css('height', height)\n",
       "\n",
       "        canvas.attr('width', width);\n",
       "        canvas.attr('height', height);\n",
       "\n",
       "        rubberband.attr('width', width);\n",
       "        rubberband.attr('height', height);\n",
       "    }\n",
       "\n",
       "    // Set the figure to an initial 600x600px, this will subsequently be updated\n",
       "    // upon first draw.\n",
       "    this._resize_canvas(600, 600);\n",
       "\n",
       "    // Disable right mouse context menu.\n",
       "    $(this.rubberband_canvas).bind(\"contextmenu\",function(e){\n",
       "        return false;\n",
       "    });\n",
       "\n",
       "    function set_focus () {\n",
       "        canvas.focus();\n",
       "        canvas_div.focus();\n",
       "    }\n",
       "\n",
       "    window.setTimeout(set_focus, 100);\n",
       "}\n",
       "\n",
       "mpl.figure.prototype._init_toolbar = function() {\n",
       "    var fig = this;\n",
       "\n",
       "    var nav_element = $('<div/>')\n",
       "    nav_element.attr('style', 'width: 100%');\n",
       "    this.root.append(nav_element);\n",
       "\n",
       "    // Define a callback function for later on.\n",
       "    function toolbar_event(event) {\n",
       "        return fig.toolbar_button_onclick(event['data']);\n",
       "    }\n",
       "    function toolbar_mouse_event(event) {\n",
       "        return fig.toolbar_button_onmouseover(event['data']);\n",
       "    }\n",
       "\n",
       "    for(var toolbar_ind in mpl.toolbar_items) {\n",
       "        var name = mpl.toolbar_items[toolbar_ind][0];\n",
       "        var tooltip = mpl.toolbar_items[toolbar_ind][1];\n",
       "        var image = mpl.toolbar_items[toolbar_ind][2];\n",
       "        var method_name = mpl.toolbar_items[toolbar_ind][3];\n",
       "\n",
       "        if (!name) {\n",
       "            // put a spacer in here.\n",
       "            continue;\n",
       "        }\n",
       "        var button = $('<button/>');\n",
       "        button.addClass('ui-button ui-widget ui-state-default ui-corner-all ' +\n",
       "                        'ui-button-icon-only');\n",
       "        button.attr('role', 'button');\n",
       "        button.attr('aria-disabled', 'false');\n",
       "        button.click(method_name, toolbar_event);\n",
       "        button.mouseover(tooltip, toolbar_mouse_event);\n",
       "\n",
       "        var icon_img = $('<span/>');\n",
       "        icon_img.addClass('ui-button-icon-primary ui-icon');\n",
       "        icon_img.addClass(image);\n",
       "        icon_img.addClass('ui-corner-all');\n",
       "\n",
       "        var tooltip_span = $('<span/>');\n",
       "        tooltip_span.addClass('ui-button-text');\n",
       "        tooltip_span.html(tooltip);\n",
       "\n",
       "        button.append(icon_img);\n",
       "        button.append(tooltip_span);\n",
       "\n",
       "        nav_element.append(button);\n",
       "    }\n",
       "\n",
       "    var fmt_picker_span = $('<span/>');\n",
       "\n",
       "    var fmt_picker = $('<select/>');\n",
       "    fmt_picker.addClass('mpl-toolbar-option ui-widget ui-widget-content');\n",
       "    fmt_picker_span.append(fmt_picker);\n",
       "    nav_element.append(fmt_picker_span);\n",
       "    this.format_dropdown = fmt_picker[0];\n",
       "\n",
       "    for (var ind in mpl.extensions) {\n",
       "        var fmt = mpl.extensions[ind];\n",
       "        var option = $(\n",
       "            '<option/>', {selected: fmt === mpl.default_extension}).html(fmt);\n",
       "        fmt_picker.append(option)\n",
       "    }\n",
       "\n",
       "    // Add hover states to the ui-buttons\n",
       "    $( \".ui-button\" ).hover(\n",
       "        function() { $(this).addClass(\"ui-state-hover\");},\n",
       "        function() { $(this).removeClass(\"ui-state-hover\");}\n",
       "    );\n",
       "\n",
       "    var status_bar = $('<span class=\"mpl-message\"/>');\n",
       "    nav_element.append(status_bar);\n",
       "    this.message = status_bar[0];\n",
       "}\n",
       "\n",
       "mpl.figure.prototype.request_resize = function(x_pixels, y_pixels) {\n",
       "    // Request matplotlib to resize the figure. Matplotlib will then trigger a resize in the client,\n",
       "    // which will in turn request a refresh of the image.\n",
       "    this.send_message('resize', {'width': x_pixels, 'height': y_pixels});\n",
       "}\n",
       "\n",
       "mpl.figure.prototype.send_message = function(type, properties) {\n",
       "    properties['type'] = type;\n",
       "    properties['figure_id'] = this.id;\n",
       "    this.ws.send(JSON.stringify(properties));\n",
       "}\n",
       "\n",
       "mpl.figure.prototype.send_draw_message = function() {\n",
       "    if (!this.waiting) {\n",
       "        this.waiting = true;\n",
       "        this.ws.send(JSON.stringify({type: \"draw\", figure_id: this.id}));\n",
       "    }\n",
       "}\n",
       "\n",
       "\n",
       "mpl.figure.prototype.handle_save = function(fig, msg) {\n",
       "    var format_dropdown = fig.format_dropdown;\n",
       "    var format = format_dropdown.options[format_dropdown.selectedIndex].value;\n",
       "    fig.ondownload(fig, format);\n",
       "}\n",
       "\n",
       "\n",
       "mpl.figure.prototype.handle_resize = function(fig, msg) {\n",
       "    var size = msg['size'];\n",
       "    if (size[0] != fig.canvas.width || size[1] != fig.canvas.height) {\n",
       "        fig._resize_canvas(size[0], size[1]);\n",
       "        fig.send_message(\"refresh\", {});\n",
       "    };\n",
       "}\n",
       "\n",
       "mpl.figure.prototype.handle_rubberband = function(fig, msg) {\n",
       "    var x0 = msg['x0'];\n",
       "    var y0 = fig.canvas.height - msg['y0'];\n",
       "    var x1 = msg['x1'];\n",
       "    var y1 = fig.canvas.height - msg['y1'];\n",
       "    x0 = Math.floor(x0) + 0.5;\n",
       "    y0 = Math.floor(y0) + 0.5;\n",
       "    x1 = Math.floor(x1) + 0.5;\n",
       "    y1 = Math.floor(y1) + 0.5;\n",
       "    var min_x = Math.min(x0, x1);\n",
       "    var min_y = Math.min(y0, y1);\n",
       "    var width = Math.abs(x1 - x0);\n",
       "    var height = Math.abs(y1 - y0);\n",
       "\n",
       "    fig.rubberband_context.clearRect(\n",
       "        0, 0, fig.canvas.width, fig.canvas.height);\n",
       "\n",
       "    fig.rubberband_context.strokeRect(min_x, min_y, width, height);\n",
       "}\n",
       "\n",
       "mpl.figure.prototype.handle_figure_label = function(fig, msg) {\n",
       "    // Updates the figure title.\n",
       "    fig.header.textContent = msg['label'];\n",
       "}\n",
       "\n",
       "mpl.figure.prototype.handle_cursor = function(fig, msg) {\n",
       "    var cursor = msg['cursor'];\n",
       "    switch(cursor)\n",
       "    {\n",
       "    case 0:\n",
       "        cursor = 'pointer';\n",
       "        break;\n",
       "    case 1:\n",
       "        cursor = 'default';\n",
       "        break;\n",
       "    case 2:\n",
       "        cursor = 'crosshair';\n",
       "        break;\n",
       "    case 3:\n",
       "        cursor = 'move';\n",
       "        break;\n",
       "    }\n",
       "    fig.rubberband_canvas.style.cursor = cursor;\n",
       "}\n",
       "\n",
       "mpl.figure.prototype.handle_message = function(fig, msg) {\n",
       "    fig.message.textContent = msg['message'];\n",
       "}\n",
       "\n",
       "mpl.figure.prototype.handle_draw = function(fig, msg) {\n",
       "    // Request the server to send over a new figure.\n",
       "    fig.send_draw_message();\n",
       "}\n",
       "\n",
       "mpl.figure.prototype.handle_image_mode = function(fig, msg) {\n",
       "    fig.image_mode = msg['mode'];\n",
       "}\n",
       "\n",
       "mpl.figure.prototype.updated_canvas_event = function() {\n",
       "    // Called whenever the canvas gets updated.\n",
       "    this.send_message(\"ack\", {});\n",
       "}\n",
       "\n",
       "// A function to construct a web socket function for onmessage handling.\n",
       "// Called in the figure constructor.\n",
       "mpl.figure.prototype._make_on_message_function = function(fig) {\n",
       "    return function socket_on_message(evt) {\n",
       "        if (evt.data instanceof Blob) {\n",
       "            /* FIXME: We get \"Resource interpreted as Image but\n",
       "             * transferred with MIME type text/plain:\" errors on\n",
       "             * Chrome.  But how to set the MIME type?  It doesn't seem\n",
       "             * to be part of the websocket stream */\n",
       "            evt.data.type = \"image/png\";\n",
       "\n",
       "            /* Free the memory for the previous frames */\n",
       "            if (fig.imageObj.src) {\n",
       "                (window.URL || window.webkitURL).revokeObjectURL(\n",
       "                    fig.imageObj.src);\n",
       "            }\n",
       "\n",
       "            fig.imageObj.src = (window.URL || window.webkitURL).createObjectURL(\n",
       "                evt.data);\n",
       "            fig.updated_canvas_event();\n",
       "            fig.waiting = false;\n",
       "            return;\n",
       "        }\n",
       "        else if (typeof evt.data === 'string' && evt.data.slice(0, 21) == \"data:image/png;base64\") {\n",
       "            fig.imageObj.src = evt.data;\n",
       "            fig.updated_canvas_event();\n",
       "            fig.waiting = false;\n",
       "            return;\n",
       "        }\n",
       "\n",
       "        var msg = JSON.parse(evt.data);\n",
       "        var msg_type = msg['type'];\n",
       "\n",
       "        // Call the  \"handle_{type}\" callback, which takes\n",
       "        // the figure and JSON message as its only arguments.\n",
       "        try {\n",
       "            var callback = fig[\"handle_\" + msg_type];\n",
       "        } catch (e) {\n",
       "            console.log(\"No handler for the '\" + msg_type + \"' message type: \", msg);\n",
       "            return;\n",
       "        }\n",
       "\n",
       "        if (callback) {\n",
       "            try {\n",
       "                // console.log(\"Handling '\" + msg_type + \"' message: \", msg);\n",
       "                callback(fig, msg);\n",
       "            } catch (e) {\n",
       "                console.log(\"Exception inside the 'handler_\" + msg_type + \"' callback:\", e, e.stack, msg);\n",
       "            }\n",
       "        }\n",
       "    };\n",
       "}\n",
       "\n",
       "// from http://stackoverflow.com/questions/1114465/getting-mouse-location-in-canvas\n",
       "mpl.findpos = function(e) {\n",
       "    //this section is from http://www.quirksmode.org/js/events_properties.html\n",
       "    var targ;\n",
       "    if (!e)\n",
       "        e = window.event;\n",
       "    if (e.target)\n",
       "        targ = e.target;\n",
       "    else if (e.srcElement)\n",
       "        targ = e.srcElement;\n",
       "    if (targ.nodeType == 3) // defeat Safari bug\n",
       "        targ = targ.parentNode;\n",
       "\n",
       "    // jQuery normalizes the pageX and pageY\n",
       "    // pageX,Y are the mouse positions relative to the document\n",
       "    // offset() returns the position of the element relative to the document\n",
       "    var x = e.pageX - $(targ).offset().left;\n",
       "    var y = e.pageY - $(targ).offset().top;\n",
       "\n",
       "    return {\"x\": x, \"y\": y};\n",
       "};\n",
       "\n",
       "/*\n",
       " * return a copy of an object with only non-object keys\n",
       " * we need this to avoid circular references\n",
       " * http://stackoverflow.com/a/24161582/3208463\n",
       " */\n",
       "function simpleKeys (original) {\n",
       "  return Object.keys(original).reduce(function (obj, key) {\n",
       "    if (typeof original[key] !== 'object')\n",
       "        obj[key] = original[key]\n",
       "    return obj;\n",
       "  }, {});\n",
       "}\n",
       "\n",
       "mpl.figure.prototype.mouse_event = function(event, name) {\n",
       "    var canvas_pos = mpl.findpos(event)\n",
       "\n",
       "    if (name === 'button_press')\n",
       "    {\n",
       "        this.canvas.focus();\n",
       "        this.canvas_div.focus();\n",
       "    }\n",
       "\n",
       "    var x = canvas_pos.x;\n",
       "    var y = canvas_pos.y;\n",
       "\n",
       "    this.send_message(name, {x: x, y: y, button: event.button,\n",
       "                             step: event.step,\n",
       "                             guiEvent: simpleKeys(event)});\n",
       "\n",
       "    /* This prevents the web browser from automatically changing to\n",
       "     * the text insertion cursor when the button is pressed.  We want\n",
       "     * to control all of the cursor setting manually through the\n",
       "     * 'cursor' event from matplotlib */\n",
       "    event.preventDefault();\n",
       "    return false;\n",
       "}\n",
       "\n",
       "mpl.figure.prototype._key_event_extra = function(event, name) {\n",
       "    // Handle any extra behaviour associated with a key event\n",
       "}\n",
       "\n",
       "mpl.figure.prototype.key_event = function(event, name) {\n",
       "\n",
       "    // Prevent repeat events\n",
       "    if (name == 'key_press')\n",
       "    {\n",
       "        if (event.which === this._key)\n",
       "            return;\n",
       "        else\n",
       "            this._key = event.which;\n",
       "    }\n",
       "    if (name == 'key_release')\n",
       "        this._key = null;\n",
       "\n",
       "    var value = '';\n",
       "    if (event.ctrlKey && event.which != 17)\n",
       "        value += \"ctrl+\";\n",
       "    if (event.altKey && event.which != 18)\n",
       "        value += \"alt+\";\n",
       "    if (event.shiftKey && event.which != 16)\n",
       "        value += \"shift+\";\n",
       "\n",
       "    value += 'k';\n",
       "    value += event.which.toString();\n",
       "\n",
       "    this._key_event_extra(event, name);\n",
       "\n",
       "    this.send_message(name, {key: value,\n",
       "                             guiEvent: simpleKeys(event)});\n",
       "    return false;\n",
       "}\n",
       "\n",
       "mpl.figure.prototype.toolbar_button_onclick = function(name) {\n",
       "    if (name == 'download') {\n",
       "        this.handle_save(this, null);\n",
       "    } else {\n",
       "        this.send_message(\"toolbar_button\", {name: name});\n",
       "    }\n",
       "};\n",
       "\n",
       "mpl.figure.prototype.toolbar_button_onmouseover = function(tooltip) {\n",
       "    this.message.textContent = tooltip;\n",
       "};\n",
       "mpl.toolbar_items = [[\"Home\", \"Reset original view\", \"fa fa-home icon-home\", \"home\"], [\"Back\", \"Back to  previous view\", \"fa fa-arrow-left icon-arrow-left\", \"back\"], [\"Forward\", \"Forward to next view\", \"fa fa-arrow-right icon-arrow-right\", \"forward\"], [\"\", \"\", \"\", \"\"], [\"Pan\", \"Pan axes with left mouse, zoom with right\", \"fa fa-arrows icon-move\", \"pan\"], [\"Zoom\", \"Zoom to rectangle\", \"fa fa-square-o icon-check-empty\", \"zoom\"], [\"\", \"\", \"\", \"\"], [\"Download\", \"Download plot\", \"fa fa-floppy-o icon-save\", \"download\"]];\n",
       "\n",
       "mpl.extensions = [\"eps\", \"pdf\", \"png\", \"ps\", \"raw\", \"svg\"];\n",
       "\n",
       "mpl.default_extension = \"png\";var comm_websocket_adapter = function(comm) {\n",
       "    // Create a \"websocket\"-like object which calls the given IPython comm\n",
       "    // object with the appropriate methods. Currently this is a non binary\n",
       "    // socket, so there is still some room for performance tuning.\n",
       "    var ws = {};\n",
       "\n",
       "    ws.close = function() {\n",
       "        comm.close()\n",
       "    };\n",
       "    ws.send = function(m) {\n",
       "        //console.log('sending', m);\n",
       "        comm.send(m);\n",
       "    };\n",
       "    // Register the callback with on_msg.\n",
       "    comm.on_msg(function(msg) {\n",
       "        //console.log('receiving', msg['content']['data'], msg);\n",
       "        // Pass the mpl event to the overriden (by mpl) onmessage function.\n",
       "        ws.onmessage(msg['content']['data'])\n",
       "    });\n",
       "    return ws;\n",
       "}\n",
       "\n",
       "mpl.mpl_figure_comm = function(comm, msg) {\n",
       "    // This is the function which gets called when the mpl process\n",
       "    // starts-up an IPython Comm through the \"matplotlib\" channel.\n",
       "\n",
       "    var id = msg.content.data.id;\n",
       "    // Get hold of the div created by the display call when the Comm\n",
       "    // socket was opened in Python.\n",
       "    var element = $(\"#\" + id);\n",
       "    var ws_proxy = comm_websocket_adapter(comm)\n",
       "\n",
       "    function ondownload(figure, format) {\n",
       "        window.open(figure.imageObj.src);\n",
       "    }\n",
       "\n",
       "    var fig = new mpl.figure(id, ws_proxy,\n",
       "                           ondownload,\n",
       "                           element.get(0));\n",
       "\n",
       "    // Call onopen now - mpl needs it, as it is assuming we've passed it a real\n",
       "    // web socket which is closed, not our websocket->open comm proxy.\n",
       "    ws_proxy.onopen();\n",
       "\n",
       "    fig.parent_element = element.get(0);\n",
       "    fig.cell_info = mpl.find_output_cell(\"<div id='\" + id + \"'></div>\");\n",
       "    if (!fig.cell_info) {\n",
       "        console.error(\"Failed to find cell for figure\", id, fig);\n",
       "        return;\n",
       "    }\n",
       "\n",
       "    var output_index = fig.cell_info[2]\n",
       "    var cell = fig.cell_info[0];\n",
       "\n",
       "};\n",
       "\n",
       "mpl.figure.prototype.handle_close = function(fig, msg) {\n",
       "    fig.root.unbind('remove')\n",
       "\n",
       "    // Update the output cell to use the data from the current canvas.\n",
       "    fig.push_to_output();\n",
       "    var dataURL = fig.canvas.toDataURL();\n",
       "    // Re-enable the keyboard manager in IPython - without this line, in FF,\n",
       "    // the notebook keyboard shortcuts fail.\n",
       "    IPython.keyboard_manager.enable()\n",
       "    $(fig.parent_element).html('<img src=\"' + dataURL + '\">');\n",
       "    fig.close_ws(fig, msg);\n",
       "}\n",
       "\n",
       "mpl.figure.prototype.close_ws = function(fig, msg){\n",
       "    fig.send_message('closing', msg);\n",
       "    // fig.ws.close()\n",
       "}\n",
       "\n",
       "mpl.figure.prototype.push_to_output = function(remove_interactive) {\n",
       "    // Turn the data on the canvas into data in the output cell.\n",
       "    var dataURL = this.canvas.toDataURL();\n",
       "    this.cell_info[1]['text/html'] = '<img src=\"' + dataURL + '\">';\n",
       "}\n",
       "\n",
       "mpl.figure.prototype.updated_canvas_event = function() {\n",
       "    // Tell IPython that the notebook contents must change.\n",
       "    IPython.notebook.set_dirty(true);\n",
       "    this.send_message(\"ack\", {});\n",
       "    var fig = this;\n",
       "    // Wait a second, then push the new image to the DOM so\n",
       "    // that it is saved nicely (might be nice to debounce this).\n",
       "    setTimeout(function () { fig.push_to_output() }, 1000);\n",
       "}\n",
       "\n",
       "mpl.figure.prototype._init_toolbar = function() {\n",
       "    var fig = this;\n",
       "\n",
       "    var nav_element = $('<div/>')\n",
       "    nav_element.attr('style', 'width: 100%');\n",
       "    this.root.append(nav_element);\n",
       "\n",
       "    // Define a callback function for later on.\n",
       "    function toolbar_event(event) {\n",
       "        return fig.toolbar_button_onclick(event['data']);\n",
       "    }\n",
       "    function toolbar_mouse_event(event) {\n",
       "        return fig.toolbar_button_onmouseover(event['data']);\n",
       "    }\n",
       "\n",
       "    for(var toolbar_ind in mpl.toolbar_items){\n",
       "        var name = mpl.toolbar_items[toolbar_ind][0];\n",
       "        var tooltip = mpl.toolbar_items[toolbar_ind][1];\n",
       "        var image = mpl.toolbar_items[toolbar_ind][2];\n",
       "        var method_name = mpl.toolbar_items[toolbar_ind][3];\n",
       "\n",
       "        if (!name) { continue; };\n",
       "\n",
       "        var button = $('<button class=\"btn btn-default\" href=\"#\" title=\"' + name + '\"><i class=\"fa ' + image + ' fa-lg\"></i></button>');\n",
       "        button.click(method_name, toolbar_event);\n",
       "        button.mouseover(tooltip, toolbar_mouse_event);\n",
       "        nav_element.append(button);\n",
       "    }\n",
       "\n",
       "    // Add the status bar.\n",
       "    var status_bar = $('<span class=\"mpl-message\" style=\"text-align:right; float: right;\"/>');\n",
       "    nav_element.append(status_bar);\n",
       "    this.message = status_bar[0];\n",
       "\n",
       "    // Add the close button to the window.\n",
       "    var buttongrp = $('<div class=\"btn-group inline pull-right\"></div>');\n",
       "    var button = $('<button class=\"btn btn-mini btn-primary\" href=\"#\" title=\"Stop Interaction\"><i class=\"fa fa-power-off icon-remove icon-large\"></i></button>');\n",
       "    button.click(function (evt) { fig.handle_close(fig, {}); } );\n",
       "    button.mouseover('Stop Interaction', toolbar_mouse_event);\n",
       "    buttongrp.append(button);\n",
       "    var titlebar = this.root.find($('.ui-dialog-titlebar'));\n",
       "    titlebar.prepend(buttongrp);\n",
       "}\n",
       "\n",
       "mpl.figure.prototype._root_extra_style = function(el){\n",
       "    var fig = this\n",
       "    el.on(\"remove\", function(){\n",
       "\tfig.close_ws(fig, {});\n",
       "    });\n",
       "}\n",
       "\n",
       "mpl.figure.prototype._canvas_extra_style = function(el){\n",
       "    // this is important to make the div 'focusable\n",
       "    el.attr('tabindex', 0)\n",
       "    // reach out to IPython and tell the keyboard manager to turn it's self\n",
       "    // off when our div gets focus\n",
       "\n",
       "    // location in version 3\n",
       "    if (IPython.notebook.keyboard_manager) {\n",
       "        IPython.notebook.keyboard_manager.register_events(el);\n",
       "    }\n",
       "    else {\n",
       "        // location in version 2\n",
       "        IPython.keyboard_manager.register_events(el);\n",
       "    }\n",
       "\n",
       "}\n",
       "\n",
       "mpl.figure.prototype._key_event_extra = function(event, name) {\n",
       "    var manager = IPython.notebook.keyboard_manager;\n",
       "    if (!manager)\n",
       "        manager = IPython.keyboard_manager;\n",
       "\n",
       "    // Check for shift+enter\n",
       "    if (event.shiftKey && event.which == 13) {\n",
       "        this.canvas_div.blur();\n",
       "        event.shiftKey = false;\n",
       "        // Send a \"J\" for go to next cell\n",
       "        event.which = 74;\n",
       "        event.keyCode = 74;\n",
       "        manager.command_mode();\n",
       "        manager.handle_keydown(event);\n",
       "    }\n",
       "}\n",
       "\n",
       "mpl.figure.prototype.handle_save = function(fig, msg) {\n",
       "    fig.ondownload(fig, null);\n",
       "}\n",
       "\n",
       "\n",
       "mpl.find_output_cell = function(html_output) {\n",
       "    // Return the cell and output element which can be found *uniquely* in the notebook.\n",
       "    // Note - this is a bit hacky, but it is done because the \"notebook_saving.Notebook\"\n",
       "    // IPython event is triggered only after the cells have been serialised, which for\n",
       "    // our purposes (turning an active figure into a static one), is too late.\n",
       "    var cells = IPython.notebook.get_cells();\n",
       "    var ncells = cells.length;\n",
       "    for (var i=0; i<ncells; i++) {\n",
       "        var cell = cells[i];\n",
       "        if (cell.cell_type === 'code'){\n",
       "            for (var j=0; j<cell.output_area.outputs.length; j++) {\n",
       "                var data = cell.output_area.outputs[j];\n",
       "                if (data.data) {\n",
       "                    // IPython >= 3 moved mimebundle to data attribute of output\n",
       "                    data = data.data;\n",
       "                }\n",
       "                if (data['text/html'] == html_output) {\n",
       "                    return [cell, data, j];\n",
       "                }\n",
       "            }\n",
       "        }\n",
       "    }\n",
       "}\n",
       "\n",
       "// Register the function which deals with the matplotlib target/channel.\n",
       "// The kernel may be null if the page has been refreshed.\n",
       "if (IPython.notebook.kernel != null) {\n",
       "    IPython.notebook.kernel.comm_manager.register_target('matplotlib', mpl.mpl_figure_comm);\n",
       "}\n"
      ],
      "text/plain": [
       "<IPython.core.display.Javascript object>"
      ]
     },
     "metadata": {},
     "output_type": "display_data"
    },
    {
     "data": {
      "text/html": [
       "<img src=\"data:image/png;base64,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\">"
      ],
      "text/plain": [
       "<IPython.core.display.HTML object>"
      ]
     },
     "metadata": {},
     "output_type": "display_data"
    }
   ],
   "source": [
    "fig = plt.figure()\n",
    "fig.suptitle('Free Oscillation of a Simple Pendulum', fontsize=14, fontweight='bold')\n",
    "\n",
    "# Pendulum plot\n",
    "ax1 = plt.subplot(221)\n",
    "ax1.grid()\n",
    "ax1.set_xlim([-1,1])\n",
    "ax1.set_ylim([-1,1])\n",
    "\n",
    "# Position Plot\n",
    "ax2 = plt.subplot(222)\n",
    "ax2.grid()\n",
    "ax2.set_xlim([0, end_time])\n",
    "ax2.set_ylim([-1,1])\n",
    "ax2.set_xlabel('Time/s')\n",
    "ax2.set_ylabel(r'$\\theta$/Rad')\n",
    "\n",
    "\n",
    "# Energy Plot\n",
    "ax3 = plt.subplot(223)\n",
    "ax3.grid()\n",
    "ax3.set_xlim([0, end_time])\n",
    "ax3.set_xlabel('Time/s')\n",
    "ax3.set_ylabel('Energy/J')\n",
    "\n",
    "# Phasor Diagram\n",
    "ax4 = plt.subplot(224, projection='polar')\n",
    "ax4.get_yaxis().set_visible(False)\n",
    "\n",
    "plt.tight_layout(pad=2.5)\n",
    "\n",
    "# Line objects to pass to the animator\n",
    "# Set originally to empty\n",
    "line1, = ax1.plot([], [], 'o-', lw=1)\n",
    "line2, = ax2.plot([], [], 'b')\n",
    "line3, = ax3.plot([], [])\n",
    "line4, = ax3.plot([], [])\n",
    "line5, = ax4.plot([], [])\n",
    "line6, = ax4.plot([], [])\n",
    "line7, = ax4.plot([], [])\n",
    "\n",
    "def new_solution():\n",
    "    global solution\n",
    "    print length\n",
    "    solution = odeint(pendulum, y0, t, args=(friction/mass, g/length))\n",
    "def set_mass(Mass):\n",
    "    global mass\n",
    "    mass = Mass\n",
    "    new_solution()\n",
    "def set_length(Length):\n",
    "    global length\n",
    "    length = Length\n",
    "    new_solution()\n",
    "def set_friction(Damping):\n",
    "    global friction\n",
    "    friction = Damping\n",
    "    new_solution()\n",
    "def set_initial_angle(Theta):\n",
    "    global y0\n",
    "    y0 = [Theta, 0.0]\n",
    "    new_solution()\n",
    "\n",
    "def init():\n",
    "    line1.set_data([], [])\n",
    "    line2.set_data([], [])\n",
    "    line3.set_data([], [])\n",
    "    line4.set_data([], [])\n",
    "    line5.set_data([], [])\n",
    "    line6.set_data([], [])\n",
    "    line7.set_data([], [])\n",
    "    return line1, line2, line3, line4, line5, line6, line7,\n",
    "\n",
    "# Animation Function\n",
    "def animate(i):\n",
    "    \n",
    "    theta = solution[i][0]\n",
    "    omega = solution[i][1]\n",
    "    position = np.multiply(length,[np.sin(theta), -np.cos(theta)])\n",
    "    velocity = np.multiply(length*omega, [np.cos(theta), np.sin(theta)])\n",
    "    acceleration = np.multiply(-omega ** 2, position)\n",
    "    \n",
    "    # Pendulum\n",
    "    line1.set_data([0, position[0]], [0, position[1]])\n",
    "    \n",
    "    # Position\n",
    "    line2.set_data(np.append(line2.get_xdata(), t[i]),\n",
    "                             np.append(line2.get_ydata(), theta))\n",
    "    \n",
    "    # Kinetic Energy\n",
    "    line3.set_data(np.append(line3.get_xdata(), t[i]),\n",
    "                             np.append(line3.get_ydata(), kinetic_energy(mass, array_abs(velocity))))\n",
    "    line4.set_data(np.append(line4.get_xdata(), t[i]),\n",
    "                             np.append(line4.get_ydata(), potential_energy(mass, theta)))\n",
    "    \n",
    "    # Phasor Plots\n",
    "    line5.set_data([0, array_arg(position)], [0, length*theta])\n",
    "    line6.set_data([0, array_arg(velocity)], [0, array_abs(velocity)])\n",
    "    line7.set_data([0, array_arg(acceleration)], [0, array_abs(acceleration)])\n",
    "    \n",
    "    # Rescale a couple of plots\n",
    "    ax2.relim()\n",
    "    ax2.autoscale_view()\n",
    "    ax3.relim()\n",
    "    ax3.autoscale_view()\n",
    "    ax4.set_ylim[0, max(solution[i][1]) ** 2]\n",
    "    return line1, line2, line3, line4, line5, line6, line7,\n",
    "\n",
    "dt = t[1] - t[0]\n",
    "# Interval selects a time to update in ms, there are 1001 divisions so update for ~1000 time intervals\n",
    "interval = 1000 * dt\n",
    "\n",
    "pause = False\n",
    "ani = animation.FuncAnimation(fig, animate, frames=steps,\n",
    "                              interval=interval, blit=True, init_func=init, repeat=True)"
   ]
  },
  {
   "cell_type": "markdown",
   "metadata": {},
   "source": [
    "You can adjust the properties of the simulation yourself below."
   ]
  },
  {
   "cell_type": "code",
   "execution_count": 25,
   "metadata": {
    "collapsed": false
   },
   "outputs": [
    {
     "name": "stdout",
     "output_type": "stream",
     "text": [
      "0.49\n"
     ]
    }
   ],
   "source": [
    "widgets.interact(set_initial_angle, Theta=(-np.pi, np.pi, 0.1), value=-0.1*np.pi, description='Initial Angle')\n",
    "widgets.interact(set_length, Length=(0, 1.0, 0.01), value=1.0, description='Length')\n",
    "widgets.interact(set_mass, Mass=(0, 5, 0.5), value=1, description='Mass')\n",
    "widgets.interact(set_friction, Damping=(0, 5, 0.05), value=0, description='Damping Term')"
   ]
  },
  {
   "cell_type": "code",
   "execution_count": null,
   "metadata": {
    "collapsed": true
   },
   "outputs": [],
   "source": []
  }
 ],
 "metadata": {
  "kernelspec": {
   "display_name": "Python 2",
   "language": "python",
   "name": "python2"
  },
  "language_info": {
   "codemirror_mode": {
    "name": "ipython",
    "version": 2
   },
   "file_extension": ".py",
   "mimetype": "text/x-python",
   "name": "python",
   "nbconvert_exporter": "python",
   "pygments_lexer": "ipython2",
   "version": "2.7.11"
  },
  "widgets": {
   "state": {
    "04fabdda8de3492481aee6241df4a3ed": {
     "views": []
    },
    "0d4fc2b2d37749a9ae4c733fe98a73b1": {
     "views": []
    },
    "11752d506f5a49db91f75a90f3fe3c13": {
     "views": [
      {
       "cell_index": 19
      }
     ]
    },
    "11c061b5be7f4b6c9b52b05afaa2ae26": {
     "views": []
    },
    "18071beca4a94635aeec6aefba0082a7": {
     "views": []
    },
    "1bad016c0b644b45b8ba1739e8df8bbc": {
     "views": []
    },
    "1db44e98343743778ecab77450b3ef81": {
     "views": [
      {
       "cell_index": 19
      }
     ]
    },
    "223a0910d270403fb9d926f8db82121a": {
     "views": []
    },
    "2b49a3f465cb4d1dbdd583ba8337a5d9": {
     "views": []
    },
    "2ee2ccdab3c64a4a8303cc4eef51426c": {
     "views": []
    },
    "33ff1b887ad0446fb275a74b8d7b3927": {
     "views": []
    },
    "34c8b639f5ad46f18e3df09a5219b8fb": {
     "views": []
    },
    "35b3c555146d4408bfa8df5fef234cdd": {
     "views": []
    },
    "3b9bc1aba0c84416b8b5f6bd0b4f4368": {
     "views": []
    },
    "3d2b03c4919a4db3ac454f4118b90be6": {
     "views": [
      {
       "cell_index": 19
      }
     ]
    },
    "4c8a17963be24736b1e3111db916d622": {
     "views": []
    },
    "5c79f0f37b7d4a5ab70e696ef1f0643e": {
     "views": []
    },
    "5cad654be9e44bc99724093c022d8dd8": {
     "views": []
    },
    "5d9015e319c04e809bd3cf552d280d02": {
     "views": [
      {
       "cell_index": 19
      }
     ]
    },
    "60f89c36b8054dc2a22164aaa196794e": {
     "views": [
      {
       "cell_index": 19
      }
     ]
    },
    "63d10f554b2d4019bf44544943b9173a": {
     "views": []
    },
    "6b330833a5684d7c87946cf688141557": {
     "views": []
    },
    "6d8ee6feb3f542aca84f3e7fc70521d2": {
     "views": []
    },
    "70ac987ca90045ea8abbf1a366917d19": {
     "views": []
    },
    "72b01c313d7d470ab3a9184932b751bf": {
     "views": []
    },
    "74c18a52934842c39e31c704a554f685": {
     "views": []
    },
    "7b4caf187680462ba1863ccbecd7f5ff": {
     "views": [
      {
       "cell_index": 19
      }
     ]
    },
    "7c7b6b6005b443f890a877cb8882adea": {
     "views": []
    },
    "7c7beff40b8d45748aac483b50708f90": {
     "views": []
    },
    "86f10bb91f344e7990e5ed63d0e942e1": {
     "views": []
    },
    "8d353adbdbb24ddb9f7e4aaffbc78c9f": {
     "views": []
    },
    "930c234c085e40eb95318d397241b09d": {
     "views": []
    },
    "966b159f73fc4631bbf3d4728b1db998": {
     "views": []
    },
    "96e14affe3904d5d8bfdc94420a89692": {
     "views": []
    },
    "9c459c945fd04dcab7590222337e311a": {
     "views": []
    },
    "a40fd42268594caf8000659bf86fe707": {
     "views": []
    },
    "a69be045f7b740eeaea62d485f2fa0d8": {
     "views": []
    },
    "a7e5278d7ea9486189985f28a853a4ce": {
     "views": []
    },
    "a80bd9aa9d424846a53b9a120126dc00": {
     "views": []
    },
    "aa019bd66c4f49c48ed4d5df30380f36": {
     "views": []
    },
    "aa46e938e5074ba6b63900c736e02d70": {
     "views": []
    },
    "ac95144605024547912541ae3706a98d": {
     "views": []
    },
    "bb3891321f994a1ab30bb12db1c30a0a": {
     "views": [
      {
       "cell_index": 19
      }
     ]
    },
    "c29dad41a65b400d9f3d5423597e9f25": {
     "views": []
    },
    "ed463a748d9b492ebdb6b45aebddbabc": {
     "views": [
      {
       "cell_index": 19
      }
     ]
    },
    "f7c52a542e21409c907c626f06cfb7dd": {
     "views": []
    },
    "f8181408a97b4da2af7c9c885f888af0": {
     "views": []
    },
    "fc0063ef58214688ac4312d373d28454": {
     "views": []
    }
   },
   "version": "1.1.2"
  }
 },
 "nbformat": 4,
 "nbformat_minor": 0
}
