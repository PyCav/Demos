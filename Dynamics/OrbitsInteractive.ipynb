{
 "cells": [
  {
   "cell_type": "markdown",
   "metadata": {},
   "source": [
    "# Newtonian Orbits\n",
    "\n",
    "Orbits, with VPython used to render the result, and ipywidgets used for interactivity.\n",
    "\n",
    "The force law under investigation is:\n",
    "\\begin{equation}\n",
    "    \\textbf{F} = -\\frac{GMm}{r^2} \\hat{\\textbf{r}}\n",
    "\\end{equation}\n",
    "\n",
    "To begin, import the relevant classes."
   ]
  },
  {
   "cell_type": "code",
   "execution_count": 12,
   "metadata": {
    "collapsed": false
   },
   "outputs": [],
   "source": [
    "# coding: utf-8\n",
    "from __future__ import division, print_function\n",
    "from ipywidgets import widgets\n",
    "from vpython import *\n",
    "import numpy as np\n",
    "import copy\n",
    "from scipy.constants import G"
   ]
  },
  {
   "cell_type": "markdown",
   "metadata": {},
   "source": [
    "Although we could use the scipy constant, let's stick with natural units."
   ]
  },
  {
   "cell_type": "code",
   "execution_count": 13,
   "metadata": {
    "collapsed": true
   },
   "outputs": [],
   "source": [
    "G = 1"
   ]
  },
  {
   "cell_type": "markdown",
   "metadata": {},
   "source": [
    "If there are collisions, we can raise this as an error by defining the following class."
   ]
  },
  {
   "cell_type": "code",
   "execution_count": 14,
   "metadata": {
    "collapsed": true
   },
   "outputs": [],
   "source": [
    "class PhysicsError(Exception):\n",
    "    \"\"\"\n",
    "    Error type defined for if two Particles get too close to simulate well\n",
    "    \"\"\"\n",
    "    def __init__(self, exception_type):\n",
    "        self.exception_type = exception_type\n",
    "    def __str__(self):\n",
    "        return repr(self.exception_type)"
   ]
  },
  {
   "cell_type": "markdown",
   "metadata": {},
   "source": [
    "The particle class below stores the physical parameters (position, velocity, mass) as well as provides methods for calculating the force it feels due to another body close by.\n",
    "\n",
    "The changes in position and velocity are set using the increment_by method."
   ]
  },
  {
   "cell_type": "code",
   "execution_count": 15,
   "metadata": {
    "collapsed": true
   },
   "outputs": [],
   "source": [
    "class Particle(sphere):\n",
    "    \"\"\"\n",
    "    Class which describes a Particle under the influence of some force. Subclasses vpython sphere so drawing is no effort.\n",
    "    \"\"\"\n",
    "    \n",
    "    def __init__(self, pos = vector(0,0,0), velocity = vector(0,0,0), mass = 0.0, radius =0.0, color = color.red):\n",
    "        \"\"\"\n",
    "        Parameters\n",
    "        ----------\n",
    "        pos : vpython vector\n",
    "            Initial position of Particle\n",
    "        velocity : vpython vector\n",
    "            Initial velocity of Particle\n",
    "        mass: float\n",
    "            Mass of Particle (default = 0)\n",
    "        radius : float\n",
    "            Radius of Particle\n",
    "        color: vpython color\n",
    "            Color of particle\n",
    "        \"\"\"\n",
    "        sphere.__init__(self, pos = pos, velocity = velocity, radius = radius, make_trail = True, color = color)\n",
    "        self.velocity = velocity\n",
    "        self.mass = mass\n",
    "        \n",
    "    def force_felt_by(self, other,if_at = None):\n",
    "        '''\n",
    "        Parameters\n",
    "        ----------\n",
    "        other: Particle\n",
    "            The particle which feels the force\n",
    "        if_at: vpython vector\n",
    "            If this parameter is used, the function gives the force the 'other' particle would feel if it were at this position\n",
    "\n",
    "        Subclass Particle and change this to implement custom forces, then everything else should work.\n",
    "        Default(The one implemented here) is gravitational\n",
    "        '''\n",
    "        if  not if_at:\n",
    "            if_at = other.pos\n",
    "        position_difference = if_at - self.pos\n",
    "        determinant = position_difference.mag\n",
    "        if determinant == 0:\n",
    "            return vector(0,0,0)\n",
    "        velocity_determinant = self.velocity.mag\n",
    "        g_force_scalar = (-1*G*self.mass*other.mass)/(determinant**3)\n",
    "        g_force_vector = g_force_scalar * position_difference\n",
    "        if determinant < self.radius + other.radius:\n",
    "            raise PhysicsError(\"Collision \")\n",
    "        return g_force_vector\n",
    "\n",
    "    def increment_by(self, pos_increment, velocity_increment):\n",
    "        '''\n",
    "        Function to increment coordinates and velocity at the same time.\n",
    "        Parameters\n",
    "        ----------\n",
    "        pos_increment: vpython vector\n",
    "            Increment for pos\n",
    "        velocity_increment: vpython vector\n",
    "            Increment for velocity\n",
    "        '''\n",
    "        self.pos += pos_increment\n",
    "        self.velocity += velocity_increment"
   ]
  },
  {
   "cell_type": "markdown",
   "metadata": {},
   "source": [
    "The following class stores all of the Particle objects and contains a method for simulating the system using the Runge-Kutta 4 algorithm."
   ]
  },
  {
   "cell_type": "code",
   "execution_count": 16,
   "metadata": {
    "collapsed": false
   },
   "outputs": [],
   "source": [
    "class System (object):\n",
    "    \"\"\"Class which describes a system composed of a number of Particles.\"\"\"\n",
    "    planets = []\n",
    "\n",
    "    def __init__(self,dt):\n",
    "        \"\"\"\n",
    "        Parameters\n",
    "        ----------\n",
    "        dt: float\n",
    "            Specifies time increments to take\n",
    "        \"\"\"\n",
    "        self.dt = dt\n",
    "\n",
    "    def set_planets(self, planets):\n",
    "        \"\"\"Sets the array of planets. Use this instead of planets = array_of_planets so that all the planets have the same gravitational constant\"\"\"\n",
    "        self.planets = planets\n",
    "\n",
    "    def add_planets(self,planets):\n",
    "        \"\"\"Add array of planets to planets. Use this instead of planets.extend(array_of_planets_to_add) so that all the planets have the same gravitational constant\"\"\"\n",
    "        self.planets.extend(planets)\n",
    "\n",
    "    def add_planet(self,planet):\n",
    "        \"\"\"Add one planet to array. Use this instead of planets.append(planet) so that all the planets have the same gravitational constant\"\"\"\n",
    "        self.planets.append(planet)\n",
    "\n",
    "    def move_time(self):\n",
    "        \"\"\"Move time forwards by one step using Euler Method\"\"\"\n",
    "        old_planets = self.planets\n",
    "        try:\n",
    "            for counter_1,planet_1 in enumerate(self.planets):\n",
    "                this_acceleration = vector(0,0,0)\n",
    "                for counter_2,planet_2 in enumerate(old_planets):\n",
    "                    if counter_2 != counter_1:\n",
    "                        this_acceleration += planet_2.force_felt_by(planet_1)/planet_1.mass\n",
    "                x_increment = planet_1.velocity*self.dt\n",
    "                v_increment = this_acceleration*self.dt\n",
    "                planet_1.increment_by(x_increment,v_increment)\n",
    "        except PhysicsError:\n",
    "            print(\"Collision\")\n",
    "\n",
    "    def runge_kutta_move_time(self):\n",
    "        \"\"\"Move time forwards by one step using RK4. Assumes gravitational field doesn't change significantly with time during one time step.\"\"\"\n",
    "        old_planets = self.planets\n",
    "        try:\n",
    "            for counter_1,planet_1 in enumerate(self.planets):\n",
    "                k1 = vector(0,0,0)\n",
    "                k2 = vector(0,0,0)\n",
    "                k3 = vector(0,0,0)\n",
    "                k4 = vector(0,0,0)\n",
    "                for counter_2,planet_2 in enumerate(old_planets):\n",
    "                    if counter_2 != counter_1:\n",
    "                        k1 += planet_2.force_felt_by(planet_1, if_at = None)/planet_1.mass\n",
    "                imagpos = planet_1.pos + (self.dt/2)*k1\n",
    "                for counter_2,planet_2 in enumerate(old_planets):\n",
    "                    if counter_2 != counter_1:\n",
    "                        k2 += planet_2.force_felt_by(planet_1, if_at = imagpos)/planet_1.mass\n",
    "                imagpos = planet_1.pos + (self.dt/2)*k2\n",
    "                for counter_2,planet_2 in enumerate(old_planets):\n",
    "                    if counter_2 != counter_1:\n",
    "                        k3 += planet_2.force_felt_by(planet_1, if_at = imagpos)/planet_1.mass\n",
    "                imagpos = planet_1.pos + (self.dt)*k3\n",
    "                for counter_2,planet_2 in enumerate(old_planets):\n",
    "                    if counter_2 != counter_1:\n",
    "                        k3 += planet_2.force_felt_by(planet_1, if_at = imagpos)/planet_1.mass\n",
    "                x_increment = planet_1.velocity*self.dt\n",
    "                v_increment = (self.dt/6)*(k1 + 2*k2 + 2*k3 + k4)\n",
    "                self.planets[counter_1].increment_by(x_increment,v_increment)\n",
    "        except PhysicsError:\n",
    "            print(\"Collision\")"
   ]
  },
  {
   "cell_type": "markdown",
   "metadata": {},
   "source": [
    "<i>b_handler</i> is called whenever the Update button below is clicked. This will update the simulation with the new initial radius and velocity."
   ]
  },
  {
   "cell_type": "code",
   "execution_count": 17,
   "metadata": {
    "collapsed": false
   },
   "outputs": [],
   "source": [
    "def b_handler(s):\n",
    "    global running\n",
    "    running = True\n",
    "    if running:\n",
    "        dwarf_planet.pos = vector(x.value,0,0)\n",
    "        dwarf_planet.velocity = vector(0,0,velocity.value)\n",
    "        dwarf_planet.make_trail = False\n",
    "        dwarf_planet.make_trail = True\n",
    "        print(velocity)\n",
    "        while True:\n",
    "            rate(30)\n",
    "            system.runge_kutta_move_time()"
   ]
  },
  {
   "cell_type": "markdown",
   "metadata": {},
   "source": [
    "The initial planets."
   ]
  },
  {
   "cell_type": "code",
   "execution_count": 19,
   "metadata": {
    "collapsed": true
   },
   "outputs": [],
   "source": [
    "giant_planet = Particle(pos = vector(0,0,0), velocity = vector(0, 0, 0), mass = 200000, radius = 20)\n",
    "dwarf_planet = Particle(pos = vector(200,0,0), velocity = vector(0, 0, 31.622), mass = 1, radius = 10)"
   ]
  },
  {
   "cell_type": "markdown",
   "metadata": {},
   "source": [
    "Initalise the system for simulation."
   ]
  },
  {
   "cell_type": "code",
   "execution_count": 20,
   "metadata": {
    "collapsed": true
   },
   "outputs": [],
   "source": [
    "dt = 0.001\n",
    "system = System(dt)\n",
    "planets_array = [giant_planet, dwarf_planet]\n",
    "system.planets = planets_array\n",
    "\n",
    "running = False"
   ]
  },
  {
   "cell_type": "markdown",
   "metadata": {},
   "source": [
    "Now, let's draw the canvas and simulate!"
   ]
  },
  {
   "cell_type": "code",
   "execution_count": 18,
   "metadata": {
    "collapsed": false
   },
   "outputs": [
    {
     "data": {
      "text/html": [
       "<div id=\"glowscript\" class=\"glowscript\"></div>"
      ],
      "text/plain": [
       "<IPython.core.display.HTML object>"
      ]
     },
     "metadata": {},
     "output_type": "display_data"
    },
    {
     "data": {
      "application/javascript": [
       "window.__context = { glowscript_container: $(\"#glowscript\").removeAttr(\"id\")}"
      ],
      "text/plain": [
       "<IPython.core.display.Javascript object>"
      ]
     },
     "metadata": {},
     "output_type": "display_data"
    }
   ],
   "source": [
    "scene1 = canvas(title = \"Orbits\")\n",
    "scene1.forward = vector(0,1,0)\n",
    "scene1.caption = \"\"\"Right button drag or Ctrl-drag to rotate \"camera\" to view scene.\n",
    "To zoom, drag with middle button or Alt/Option depressed, or use scroll wheel.\n",
    "  On a two-button mouse, middle is left + right.\n",
    "Touch screen: pinch/extend to zoom, swipe or two-finger rotate.\"\"\""
   ]
  },
  {
   "cell_type": "code",
   "execution_count": 21,
   "metadata": {
    "collapsed": false
   },
   "outputs": [
    {
     "name": "stderr",
     "output_type": "stream",
     "text": [
      "Widget Javascript not detected.  It may not be installed properly. Did you enable the widgetsnbextension? If not, then run \"jupyter nbextension enable --py --sys-prefix widgetsnbextension\"\n",
      "Widget Javascript not detected.  It may not be installed properly. Did you enable the widgetsnbextension? If not, then run \"jupyter nbextension enable --py --sys-prefix widgetsnbextension\"\n",
      "Widget Javascript not detected.  It may not be installed properly. Did you enable the widgetsnbextension? If not, then run \"jupyter nbextension enable --py --sys-prefix widgetsnbextension\"\n"
     ]
    }
   ],
   "source": [
    "b = widgets.Button(description='Update')\n",
    "display(b)\n",
    "b.on_click(b_handler)\n",
    "\n",
    "x = widgets.FloatSlider(description='Radius:', min=100, max=500, step=1, value=200)\n",
    "display(x)\n",
    "velocity = widgets.FloatSlider(description='Velocity:', min=20, max=100, step=1, value=31)\n",
    "display(velocity)"
   ]
  }
 ],
 "metadata": {
  "kernelspec": {
   "display_name": "Python 3",
   "language": "python",
   "name": "python3"
  },
  "widgets": {
   "state": {
    "0168c53452ad4f70bd5142faefc5b08a": {
     "views": []
    },
    "01efcc8226f74b969f44642b3d2e4baf": {
     "views": []
    },
    "06027fcacb694fb49b9b2c65c2b6c7c5": {
     "views": [
      {
       "cell_index": 11
      }
     ]
    },
    "066055e5702f4f83808baab684a864eb": {
     "views": [
      {
       "cell_index": 11
      }
     ]
    },
    "08667f53c6234e339120db64e6f7ff77": {
     "views": []
    },
    "13af7454f90a468aa8ad1f0209c8aa69": {
     "views": []
    },
    "20cbcbe766a44eb7b24fb52be8971a09": {
     "views": []
    },
    "28a0ecd7cced4cd4a88ad68f534856d4": {
     "views": []
    },
    "2aca0fb4b4624cd98f26ac0e1ec7c6ec": {
     "views": []
    },
    "2d8ed42543224fa09cce5fef56068923": {
     "views": []
    },
    "30400e93429640d9a195b2d4ac56830f": {
     "views": []
    },
    "4557350159f549e8ac306b0b3d357726": {
     "views": []
    },
    "49d444703f3c4dab8ee85668ee5ffd21": {
     "views": []
    },
    "53b309b0b74d4dfba33014fbe9cf5cb2": {
     "views": [
      {
       "cell_index": 11
      }
     ]
    },
    "53fff137b9fc44a283373b3461afb096": {
     "views": [
      {
       "cell_index": 11
      }
     ]
    },
    "5cce09f857b44a8ab028361f5e420c15": {
     "views": []
    },
    "67a52ffdef1a416a8be4c61ceba6c1af": {
     "views": []
    },
    "697a7c7c92944369b3280af6dc4e95ca": {
     "views": []
    },
    "6992e529a85546d1ab42962bb019885a": {
     "views": []
    },
    "6d4f067047f04d4da7221ccbb2a80b8f": {
     "views": []
    },
    "7103c45d822d434396eac66a89d51a17": {
     "views": []
    },
    "750cdcc0ae354b24a2f08281e14d854c": {
     "views": []
    },
    "80832e143f61467880599e35aa3197d5": {
     "views": []
    },
    "95daa0ec28cf4813ac9fc47f0af3d5d4": {
     "views": []
    },
    "b505ddabf4f94b7fa9a54b976639bdd7": {
     "views": [
      {
       "cell_index": 11
      }
     ]
    },
    "b5963e7cfb90451e9f69b90d40897fe3": {
     "views": []
    },
    "ca9d8a6950c14982b3c8cdd1f720253a": {
     "views": []
    },
    "db2da25887ce47b786a0287604781147": {
     "views": [
      {
       "cell_index": 11
      }
     ]
    },
    "de2e22e273aa4302bf0b22478ae0bce1": {
     "views": []
    },
    "f02aa88255f74adb8b88be6a1833d02e": {
     "views": []
    }
   },
   "version": "1.1.2"
  }
 },
 "nbformat": 4,
 "nbformat_minor": 0
}
