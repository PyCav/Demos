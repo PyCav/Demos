{
 "cells": [
  {
   "cell_type": "markdown",
   "metadata": {},
   "source": [
    "$$ \\textbf{Coupled Particles} \\\\ $$\n",
    "\n",
    "This notebook simulates particles that are coupled together by springs that obey Hooke's law $F=-k x$. It allows the user to place particles with different initial conditions and to couple together particles of their choosing with springs. The notebook will then produce a simulation of the desired situation. Gravity can be toggled on and off and so can collisions of particles. A particle may also be fixed at its initial position to act as an anchor for other particles.\n",
    "\n",
    "The cell below imports all of the required libraries and sets up variables that are used throughout the notebook. Some of which may be changed including the time step of the simulation, the total simulation run time, default particle radius, the acceleration due to gravity and whether springs should be visible or not. "
   ]
  },
  {
   "cell_type": "code",
   "execution_count": null,
   "metadata": {
    "collapsed": false,
    "run_control": {
     "read_only": false
    }
   },
   "outputs": [],
   "source": [
    "from math import sqrt\n",
    "from vpython import *\n",
    "from __future__ import division, print_function\n",
    "from ipywidgets import widgets\n",
    "\n",
    "#should not be changed\n",
    "points=[]\n",
    "springs=[]\n",
    "GRAVITY=False\n",
    "COLLISIONS=False\n",
    "flag=0 #start 1, end -1, or 0 if not attached to spring\n",
    "\n",
    "# can be changed\n",
    "DELTAt=0.001\n",
    "tMAX=100.0\n",
    "R=0.4\n",
    "g=-9.81\n",
    "HELICES=True #whether springs should be visible or not"
   ]
  },
  {
   "cell_type": "markdown",
   "metadata": {},
   "source": [
    "This cell defines several functions that are used in various parts of this notebook. The first 5 functions are used to manipulate Python list objects as if they were 3D vectors, allowing us to subtract, add, scalar multiply, find the magnitude of, take a dot product and also to find a unit vector parallel to the vectors that are inputted. The conVec function converts the Python lists in to VPython vectors so they can be used by the VPython library.\n",
    "\n",
    "The fl and i functions are used to convert strings in to floats and ints respectively with the added bonus of handling empty strings. These are used to convert the text inputted via the GUI into particle and spring variables.\n",
    "\n",
    "The allowedRange function is used to determine if the particles the user wishes to attach a spring to actually exist."
   ]
  },
  {
   "cell_type": "code",
   "execution_count": null,
   "metadata": {
    "collapsed": false,
    "run_control": {
     "read_only": false
    }
   },
   "outputs": [],
   "source": [
    "def sub(e1,e2):\n",
    "    return [e1[0]-e2[0],e1[1]-e2[1],e1[2]-e2[2]]\n",
    "\n",
    "def add(e1,e2):\n",
    "    return [e1[0]+e2[0],e1[1]+e2[1],e1[2]+e2[2]]\n",
    "\n",
    "def sMul(a,e1):\n",
    "    return ([a*e1[0],a*e1[1],a*e1[2]])\n",
    "\n",
    "def dot(e1,e2):\n",
    "    return (e1[0]*e2[0]+e1[1]*e2[1]+e1[2]*e2[2])\n",
    "\n",
    "def NORM(e1):\n",
    "    return sqrt(e1[0]**2+e1[1]**2+e1[2]**2)\n",
    "\n",
    "def unit(e1):\n",
    "    try:\n",
    "        return sMul(1.0/NORM(e1),e1)\n",
    "    except ZeroDivisionError:\n",
    "        return [0.0,0.0,0.0]\n",
    "\n",
    "def conVec(e1):\n",
    "    vec=vector(0.0,0.0,0.0)\n",
    "    vec.x=e1[0]\n",
    "    vec.y=e1[1]\n",
    "    vec.z=e1[2]\n",
    "    return vec\n",
    "    \n",
    "def fl(string,m=0,r=0):\n",
    "    try:\n",
    "        return float(string)\n",
    "    except ValueError:\n",
    "        if(m):\n",
    "            return 1.0\n",
    "        else:\n",
    "            if(r):\n",
    "                return R\n",
    "            else:\n",
    "                return 0.0\n",
    "\n",
    "def INT(string):\n",
    "    try:\n",
    "        return int(string)\n",
    "    except ValueError:\n",
    "        return 0\n",
    "\n",
    "def allowedRange(a):\n",
    "    if(a>=0 and a<len(points)):\n",
    "        return True\n",
    "    else:\n",
    "        return False"
   ]
  },
  {
   "cell_type": "markdown",
   "metadata": {},
   "source": [
    "The class definition below defines the various properties of a spherical particle and also contains functions used to update the velocity and position of the particle due to the various forces acting on it. While computing these updates we assume that the force remains constant over a small time step defined in the first cell as DELTAt allowing us to use the constant acceleration equations\n",
    "\n",
    "$$\\\\ \\textbf{v}=\\textbf{v}_{0}+\\frac{\\textbf{F}}{m} \\delta t \\\\$$\n",
    "\n",
    "$$\\\\ \\textbf{r}=\\textbf{r}_{0}+\\textbf{v}_{0} \\delta t +\\frac{\\textbf{F}}{2m} \\delta t ^{2} \\\\$$\n",
    "\n",
    "to update the velocity and position of the particle."
   ]
  },
  {
   "cell_type": "code",
   "execution_count": null,
   "metadata": {
    "collapsed": false,
    "run_control": {
     "read_only": false
    }
   },
   "outputs": [],
   "source": [
    "class point:\n",
    "    def __init__(self,r0,v0=[0.0,0.0,0.0],m0=1.0,fixed=0,RADIUS=R):\n",
    "        self.r=r0\n",
    "        self.v=v0\n",
    "        self.radius=RADIUS\n",
    "        if m0==0.0:\n",
    "            self.m=0.0001\n",
    "        else:\n",
    "            self.m=m0\n",
    "        self.F=[0.0,0.0,0.0]\n",
    "        self.FIXED=fixed\n",
    "        if(self.FIXED):\n",
    "            self.v=[0.0,0.0,0.0]\n",
    "    def vUpdate(self):\n",
    "        self.v=add(self.v,sMul(DELTAt/self.m,self.F))\n",
    "    def rUpdate(self):\n",
    "        self.r = add(self.r,add(sMul(DELTAt,self.v),sMul(0.5*(DELTAt**2)/self.m,self.F)))"
   ]
  },
  {
   "cell_type": "markdown",
   "metadata": {},
   "source": [
    "Below is a class definition for the spring object. It has properties such as unstretched length, spring constant and the indexes (for the points array defined in the first cell) of the particles the spring is attached to. It also contains functions to compute the length of the spring, the magnitude of the force supplied by the spring and an update function which computes the updated lengths,force magnitudes and directions after each time step. The springs are assumed to be hookean and so obey Hookes law\n",
    "\n",
    "$$\\\\ \\textbf{F}=k (L-L_{0}) \\hat{\\textbf{r}}.\\\\$$\n",
    "\n",
    "(Where $\\hat{\\textbf{r}}$ is the direction of the force, which is also computed by the update function)."
   ]
  },
  {
   "cell_type": "code",
   "execution_count": null,
   "metadata": {
    "collapsed": true,
    "run_control": {
     "read_only": false
    }
   },
   "outputs": [],
   "source": [
    "class spring:   \n",
    "    def length(self):\n",
    "        return NORM(sub(points[self.start].r,points[self.end].r))\n",
    "    def force(self):\n",
    "        return self.k*(self.L-self.L0)\n",
    "    def __init__(self,point1,point2,l0,K):\n",
    "        self.start=point1\n",
    "        self.end=point2\n",
    "        self.L0=l0\n",
    "        self.L=self.length()\n",
    "        self.k=K\n",
    "        self.F=self.force()\n",
    "        self.rs=unit(sub(points[self.end].r,points[self.start].r))\n",
    "        self.re=unit(sub(points[self.start].r,points[self.end].r))\n",
    "    def update(self):\n",
    "        self.L=self.length()\n",
    "        self.F=self.force()\n",
    "        self.rs=unit(sub(points[self.end].r,points[self.start].r))\n",
    "        self.re=unit(sub(points[self.start].r,points[self.end].r))"
   ]
  },
  {
   "cell_type": "markdown",
   "metadata": {},
   "source": [
    "Below we have two functions which handle collisions between particles.\n",
    "\n",
    "$$\\\\ \\\\$$"
   ]
  },
  {
   "cell_type": "code",
   "execution_count": null,
   "metadata": {
    "collapsed": true,
    "run_control": {
     "read_only": false
    }
   },
   "outputs": [],
   "source": [
    "def impulse(i,j):\n",
    "    if(i==j):\n",
    "        pass\n",
    "    #else:\n",
    "    #    n=unit(sub(points[i].r,points[j].r))\n",
    "    #    component=sMul(2.0*dot(n,sub(points[i].v,points[j].v))/(points[i].m*((1.0/points[i].m)+(1.0/points[j].m))),n)\n",
    "    #    points[i].v=add(points[i].v,component)\n",
    "    #    points[i].r=add(points[i].r,sMul(5.0*DELTAt,points[i].v))\n",
    "    \n",
    "def collisions(i):\n",
    "    for j in range(0,len(points)):\n",
    "            if(NORM(sub(points[i].r,points[j].r))<=(points[i].radius+points[j].radius)):\n",
    "                impulse(i,j)\n",
    "                break"
   ]
  },
  {
   "cell_type": "markdown",
   "metadata": {},
   "source": [
    "This cell contains a function which is responsible for computing the net force acting on each particle, including gravity if the toggle is activated and then calls the position and velocity update functions attached to each particle. It also calls the collision functions if the collisions toggle is activated to determine if any particles have collided and if they have, it then updates each particle's momentum accordingly. "
   ]
  },
  {
   "cell_type": "code",
   "execution_count": null,
   "metadata": {
    "collapsed": true,
    "run_control": {
     "read_only": false
    }
   },
   "outputs": [],
   "source": [
    "def updatePoints():\n",
    "    for i in range(0,len(points)):\n",
    "        points[i].F=[0.0,0.0,0.0]\n",
    "        for j in range(0,len(springs)):\n",
    "            if(springs[j].start==i):\n",
    "                flag=1\n",
    "            elif(springs[j].end==i):\n",
    "                flag=-1\n",
    "            else:\n",
    "                flag=0\n",
    "            if(points[i].FIXED):\n",
    "                points[i].F=[0.0,0.0,0.0]\n",
    "            else:\n",
    "                if(flag==1):\n",
    "                    points[i].F=add(points[i].F,sMul(springs[j].F,springs[j].rs))\n",
    "                elif(flag==-1):\n",
    "                    points[i].F=add(points[i].F,sMul(springs[j].F,springs[j].re))\n",
    "                else:\n",
    "                    pass\n",
    "        if (GRAVITY and (not points[i].FIXED)):\n",
    "            points[i].F=add(points[i].F,sMul(g*points[i].m,[0,1,0]))\n",
    "        if(COLLISIONS):\n",
    "            collisions(i)\n",
    "        points[i].vUpdate()\n",
    "        points[i].rUpdate()\n",
    "    \n",
    "    for i in range(0,len(springs)):\n",
    "        springs[i].update()"
   ]
  },
  {
   "cell_type": "markdown",
   "metadata": {},
   "source": [
    "The class below is responsible for defining the 3D scene containing the particles and springs. It also contains the main loop which is where time is incremented and the particles positions are computed and plotted after each time step."
   ]
  },
  {
   "cell_type": "code",
   "execution_count": null,
   "metadata": {
    "collapsed": true,
    "run_control": {
     "read_only": false
    }
   },
   "outputs": [],
   "source": [
    "class vis3D:\n",
    "    def __init__(self):\n",
    "        self.BALL=[]\n",
    "        self.scene = canvas()\n",
    "        for i in range(0,len(points)):\n",
    "            self.BALL.append(sphere(pos=conVec(points[i].r), radius=points[i].radius))\n",
    "            if(points[i].FIXED):\n",
    "                 self.BALL[i].color=color.red\n",
    "            else:\n",
    "                self.BALL[i].color=color.green\n",
    "        if HELICES:\n",
    "            self.HELIX=[]\n",
    "            for i in range(0,len(springs)):\n",
    "                self.HELIX.append(helix(pos=conVec(points[springs[i].start].r),axis=conVec(sMul(springs[i].L,springs[i].rs)), radius=0.4, color=color.blue))\n",
    "    def update(self):\n",
    "        updatePoints()\n",
    "        for i in range(0,len(points)):\n",
    "            self.BALL[i].pos=conVec(points[i].r)\n",
    "        if HELICES:\n",
    "            for i in range(0,len(springs)):\n",
    "                self.HELIX[i].pos=conVec(points[springs[i].start].r)\n",
    "                self.HELIX[i].axis=conVec(sMul(springs[i].L,springs[i].rs))\n",
    "    def run(self):\n",
    "        t=0.0\n",
    "        self.scene.background=color.white\n",
    "        display(self.scene)\n",
    "        while t<tMAX:\n",
    "            rate(int(1.0/DELTAt))\n",
    "            self.update()\n",
    "            t+=DELTAt"
   ]
  },
  {
   "cell_type": "markdown",
   "metadata": {},
   "source": [
    "The final class is an object that defines the user interface of this notebook, it also has functions that create springs and particles when certain buttons are pressed."
   ]
  },
  {
   "cell_type": "code",
   "execution_count": null,
   "metadata": {
    "collapsed": false,
    "run_control": {
     "read_only": false
    }
   },
   "outputs": [],
   "source": [
    "class gui:\n",
    "    def __init__(self):\n",
    "        self.pos = [widgets.Text(description='X',width=100),widgets.Text(description='Y',width=100 ),widgets.Text(description='Z',width=100)]\n",
    "        self.POS = widgets.HBox(children=self.pos)\n",
    "        self.vel=[widgets.Text(description='Vx',width=100),widgets.Text(description='Vy',width=100 ),widgets.Text(description='Vz',width=100)]\n",
    "        self.VEL=widgets.HBox(children=self.vel)\n",
    "        self.misc=[widgets.Text(description='Mass',width=100),widgets.Text(description='Radius',width=100),widgets.widget_bool.Checkbox(description='Fixed',width=100)]\n",
    "        self.MISC=widgets.HBox(children=self.misc)\n",
    "        self.create=widgets.Button(description=\"Create Point\",width=100)\n",
    "        self.NEXT = widgets.Button(description=\"Next\",width=100)\n",
    "        self.sprAtt = [widgets.Text(description='Start',width=100),widgets.Text(description='End',width=100 )]\n",
    "        self.SPRATT = widgets.HBox(children=self.sprAtt)\n",
    "        self.sprProp = [widgets.Text(description='L0',width=100),widgets.Text(description='K',width=100 )]\n",
    "        self.SPRPROP = widgets.HBox(children=self.sprProp)\n",
    "        self.createSpr=widgets.Button(description=\"Create Spring\",width=100)\n",
    "        self.grav=[widgets.widget_bool.Checkbox(description='Gravity',width=100),widgets.widget_bool.Checkbox(description='Collisions',width=100)]\n",
    "        self.GRAV=widgets.HBox(children=self.grav)\n",
    "        self.START=widgets.Button(description=\"Start\",width=100)\n",
    "        self.create.on_click(self.addPoint)\n",
    "        self.NEXT.on_click(self.nxt)\n",
    "        self.createSpr.on_click(self.addSpring)\n",
    "        self.START.on_click(self.start)\n",
    "\n",
    "    def display(self):\n",
    "        display(self.POS,self.VEL,self.MISC,self.create,self.NEXT)\n",
    "\n",
    "    def addPoint(self,b):\n",
    "        points.append(point([fl(self.pos[0].value),fl(self.pos[1].value),fl(self.pos[2].value)],[fl(self.vel[0].value),fl(self.vel[1].value),fl(self.vel[2].value)],fl(self.misc[0].value,m=1),INT(self.misc[2].value),fl(self.misc[1].value,r=1)))\n",
    "        if(points[len(points)-1].FIXED):\n",
    "            print(\"Fixed Particle \" +str(int(len(points)))+\" Created. r0=\"+str(points[len(points)-1].r)+\"m. v0=\"+str(points[len(points)-1].v)+\"m/s. mass=\"+str(points[len(points)-1].m)+\"kg. radius=\"+str(points[len(points)-1].radius)+\"m.\")\n",
    "        else:\n",
    "            print(\"Movable Particle \" +str(int(len(points)))+\" Created. r0=\"+str(points[len(points)-1].r)+\"m. v0=\"+str(points[len(points)-1].v)+\"m/s. mass=\"+str(points[len(points)-1].m)+\"kg. radius=\"+str(points[len(points)-1].radius)+\"m.\")\n",
    "    \n",
    "    def nxt(self,b):\n",
    "        display(self.SPRATT,self.SPRPROP,self.GRAV,self.createSpr,self.START)\n",
    "        #make plot of point location numbered\n",
    "        \n",
    "    def addSpring(self,b):\n",
    "        if(not(allowedRange(INT(self.sprAtt[0].value)-1) and allowedRange(INT(self.sprAtt[1].value)-1))):\n",
    "            print(\"Couldn't Create Spring\")\n",
    "        else:\n",
    "            springs.append(spring(INT(self.sprAtt[0].value)-1,INT(self.sprAtt[1].value)-1,fl(self.sprProp[0].value,m=1),fl(self.sprProp[1].value,m=1)))\n",
    "            print(\"Spring Created Between Particles \" +str(INT(self.sprAtt[0].value))+\" and \" + str(INT(self.sprAtt[1].value))+\". L0=\"+str(springs[len(springs)-1].L0)+\"m. K=\"+str(springs[len(springs)-1].k)+\"Nm.\")\n",
    "    def start(self,b):\n",
    "        if self.grav[0].value:\n",
    "            global GRAVITY\n",
    "            GRAVITY = True\n",
    "        if self.grav[1].value:\n",
    "            global COLLISIONS\n",
    "            COLLISIONS = False#True\n",
    "        self.visual=vis3D()\n",
    "        self.visual.run()"
   ]
  },
  {
   "cell_type": "markdown",
   "metadata": {},
   "source": [
    "$$ \\textbf{Coupled Particles} \\\\ $$\n",
    "Select cell in the menu bar above and then run all to start the GUI where particles and their connections (springs) can be defined."
   ]
  },
  {
   "cell_type": "code",
   "execution_count": null,
   "metadata": {
    "collapsed": false,
    "run_control": {
     "read_only": false
    },
    "scrolled": false
   },
   "outputs": [],
   "source": [
    "GUI=gui()\n",
    "GUI.display()"
   ]
  }
 ],
 "metadata": {
  "kernelspec": {
   "display_name": "Python 3",
   "language": "python",
   "name": "python3"
  },
  "language_info": {
   "codemirror_mode": {
    "name": "ipython",
    "version": 3
   },
   "file_extension": ".py",
   "mimetype": "text/x-python",
   "name": "python",
   "nbconvert_exporter": "python",
   "pygments_lexer": "ipython3",
   "version": "3.5.2"
  },
  "widgets": {
   "state": {
    "1586200b620846968a99f7d0a8055675": {
     "views": [
      {
       "cell_index": 17
      }
     ]
    },
    "264d5d4ed999485a826b6854f9be5dc6": {
     "views": [
      {
       "cell_index": 17
      }
     ]
    },
    "5e4873a3f93c4eae85031bdf03bb3c03": {
     "views": [
      {
       "cell_index": 17
      }
     ]
    },
    "706d2fa71a60440bb6397aceb29d3efc": {
     "views": [
      {
       "cell_index": 17
      }
     ]
    },
    "7c5a5abf2c724f419f9bd59e6756bf6c": {
     "views": [
      {
       "cell_index": 17
      }
     ]
    },
    "9e02c3a3d36344f78ca44a68f8d24044": {
     "views": [
      {
       "cell_index": 17
      }
     ]
    },
    "9e0ce018ebcb44a1a478195cc27bea39": {
     "views": [
      {
       "cell_index": 17
      }
     ]
    },
    "9fb39b76d0a643a28ab97e55314ab0e2": {
     "views": [
      {
       "cell_index": 17
      }
     ]
    },
    "d199c4df14e546d6ac54bb3c891f827f": {
     "views": [
      {
       "cell_index": 17
      }
     ]
    },
    "db25482b7da94d6f870591d097f3c87b": {
     "views": [
      {
       "cell_index": 17
      }
     ]
    }
   },
   "version": "1.2.0"
  }
 },
 "nbformat": 4,
 "nbformat_minor": 0
}
