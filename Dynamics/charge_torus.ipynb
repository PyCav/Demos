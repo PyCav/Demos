{
 "cells": [
  {
   "cell_type": "markdown",
   "metadata": {},
   "source": [
    "<center><b>Charged particle above fixed oppositely charged ring</b></center>\n",
    "\n",
    "If the particle is placed, on axis, a distance z above the centre of the ring and released, the force on the particle can be found by integrating around the ring.\n",
    "\n",
    "<center>$ \\mathbf{F} = - \\int \\frac{q(\\mathbf{R-r})}{4\\pi\\epsilon_0 |\\mathbf{R-r}|^3} dQ$</center>\n",
    "\n",
    "In the case that z << r, the radius of the ring, then the force is approximately proportional the displacement. Hence SHM will occur. Otherwise the motion produced is non-trivial, especially if the particle is placed off-axis. The on-axis result:\n",
    "\n",
    "<center>$ \\mathbf{F}_z = - \\int \\frac{qz}{4\\pi\\epsilon_0}(r^2+z^2)^{-3/2} dQ = - \\frac{qQ}{4\\pi\\epsilon_0}z\\ (r^2+z^2)^{-3/2}$</center>\n",
    "\n",
    "<center> For $z \\ll r, \\ \\ \\ \\mathbf{F}_z \\approx - \\frac{qQ}{4\\pi\\epsilon_0r^3}z = -\\omega_{0}^2z$</center>\n",
    "\n",
    "Using the above, it can be noted that for 2 fixed particles the linear restoring force occurs at all angles normal to the line connecting them. A charged particle in this plane, close to the midpoint, will then be capable of circular motion about the midpoint. However as the distance to the midpoint increases, z is not longer << r and the force no longer proportional to z, this will mean that the orbits will no longer close.\n",
    "\n",
    "Importing numpy along with charge_module which contains the Animation class created for this notebook along with plotter for the electric field on-axis. Using %matplotlib notebook allows interactive plots and animations within the notebook"
   ]
  },
  {
   "cell_type": "code",
   "execution_count": 1,
   "metadata": {
    "collapsed": false
   },
   "outputs": [],
   "source": [
    "import numpy as np\n",
    "import charge_module as cm\n",
    "\n",
    "from pycav import display"
   ]
  },
  {
   "cell_type": "markdown",
   "metadata": {},
   "source": [
    "Time stepping of the particle position is done via a 4th order RK method"
   ]
  },
  {
   "cell_type": "markdown",
   "metadata": {},
   "source": [
    "The acceleration caused by the charged ring (which is modelled as point particle sections as a approximation to the integration required) for a unit mass:\n",
    "\n",
    "<center>$ \\mathbf{F} = - \\sum_i \\frac{q(\\mathbf{R-r})}{4\\pi\\epsilon_0 |\\mathbf{R-r}|^3} Q_i$</center>"
   ]
  },
  {
   "cell_type": "code",
   "execution_count": 3,
   "metadata": {
    "collapsed": true
   },
   "outputs": [],
   "source": [
    "def a(R,ring_r,ring_steps,q):\n",
    "\t# Function to calculate the acceleration of the particle(s) at position R\n",
    "\t# R - position vector of the the particle(s)\n",
    "\t# ring_r -  radius of the charged ring\n",
    "\t# q - ratio of the charge on the particle to that on the ring\n",
    "\t# ring_steps - Number of sections of ring considered\n",
    "\n",
    "\t# Charge density of the ring\n",
    "\trho = q/(2*np.pi*ring_r)\n",
    "\n",
    "\t# Azimuthal angle steps\n",
    "\tphi_h = 2*np.pi/float(ring_steps)\n",
    "\t\n",
    "\ttotal_acc = np.array((0.0,0.0,0.0))\n",
    "\tfor i in range(ring_steps):\n",
    "\t\t# Azimuthal angle\n",
    "\t\tphi = i*phi_h\n",
    "\t\t# Relative position vector of particle to element of ring dq\n",
    "\t\tP = R-np.array((ring_r*np.cos(phi),ring_r*np.sin(phi),0))\n",
    "\t\n",
    "\t\t# Magnitude of the relative position vector\n",
    "\t\tP_mag = np.linalg.norm(P)\n",
    "\n",
    "\t\tacc = -ring_r*phi_h*rho*P/(4*np.pi*P_mag**3)\n",
    "\n",
    "\t\ttotal_acc = total_acc + acc\n",
    "\n",
    "\treturn total_acc"
   ]
  },
  {
   "cell_type": "markdown",
   "metadata": {},
   "source": [
    "Function to calculate the SHM frequency found if the displacement of the particle is assumed to be much less than the radius of the ring."
   ]
  },
  {
   "cell_type": "code",
   "execution_count": 4,
   "metadata": {
    "collapsed": true
   },
   "outputs": [],
   "source": [
    "def shm_freq(ring_r,q):\n",
    "\treturn (q/(4*np.pi*ring_r**3))**0.5"
   ]
  },
  {
   "cell_type": "markdown",
   "metadata": {},
   "source": [
    "Animation object, contains the necessary methods to create an interactive animation of the motion of the charged particle near the ring. Sliders are introduced to modify parameters and a run button which will restart the animation for these new parameters. The RK4 routine is run before producing the plotting to allow for a smooth animation. Also contains if statements for when the number of ring elements is set to 2 for the later investigation"
   ]
  },
  {
   "cell_type": "markdown",
   "metadata": {},
   "source": [
    "Contains the necessary initial parameters and creates an Animation object for the user to interact with. Off axis starting positions can be investigated by changing the R vector, where the components represent (x,y,z), below."
   ]
  },
  {
   "cell_type": "code",
   "execution_count": 5,
   "metadata": {
    "collapsed": false
   },
   "outputs": [],
   "source": [
    "# initial conditions\n",
    "# Particle position and velocity\n",
    "R = np.array((0.0,0.0,0.01))\n",
    "V = np.array((0.0,0.0,0.0))\n",
    "\n",
    "# Ring radius\n",
    "ring_r = 1.0\n",
    "# Ring sections\n",
    "ring_steps = 25\n",
    "# Charge factor = qQ/epsilon_0\n",
    "q = 10000.0\n",
    "\n",
    "# Time step\n",
    "h = 10.0**-3\n",
    "N = 1000\n",
    "\n",
    "# Animation frame change\n",
    "N_output = 10\n",
    "\n",
    "Anim = cm.Animation(a,q,ring_r,ring_steps,h,N,N_output)\n",
    "Anim.create_sliders(R,V)"
   ]
  },
  {
   "cell_type": "code",
   "execution_count": 5,
   "metadata": {
    "collapsed": false
   },
   "outputs": [
    {
     "data": {
      "text/html": [
       "<video width=\"900.0\" height=\"450.0\" controls autoplay loop>\n",
       "  <source type=\"video/mp4\" src=\"data:video/mp4;base64,AAAAHGZ0eXBNNFYgAAACAGlzb21pc28yYXZjMQAAAAhmcmVlAADUFm1kYXQAAAKuBgX//6rcRem9\n",
       "5tlIt5Ys2CDZI+7veDI2NCAtIGNvcmUgMTQ4IHIyNjQzIDVjNjU3MDQgLSBILjI2NC9NUEVHLTQg\n",
       "QVZDIGNvZGVjIC0gQ29weWxlZnQgMjAwMy0yMDE1IC0gaHR0cDovL3d3dy52aWRlb2xhbi5vcmcv\n",
       "eDI2NC5odG1sIC0gb3B0aW9uczogY2FiYWM9MSByZWY9MyBkZWJsb2NrPTE6MDowIGFuYWx5c2U9\n",
       "MHgzOjB4MTEzIG1lPWhleCBzdWJtZT03IHBzeT0xIHBzeV9yZD0xLjAwOjAuMDAgbWl4ZWRfcmVm\n",
       "PTEgbWVfcmFuZ2U9MTYgY2hyb21hX21lPTEgdHJlbGxpcz0xIDh4OGRjdD0xIGNxbT0wIGRlYWR6\n",
       "b25lPTIxLDExIGZhc3RfcHNraXA9MSBjaHJvbWFfcXBfb2Zmc2V0PS0yIHRocmVhZHM9MSBsb29r\n",
       "YWhlYWRfdGhyZWFkcz0xIHNsaWNlZF90aHJlYWRzPTAgbnI9MCBkZWNpbWF0ZT0xIGludGVybGFj\n",
       "ZWQ9MCBibHVyYXlfY29tcGF0PTAgY29uc3RyYWluZWRfaW50cmE9MCBiZnJhbWVzPTMgYl9weXJh\n",
       "bWlkPTIgYl9hZGFwdD0xIGJfYmlhcz0wIGRpcmVjdD0xIHdlaWdodGI9MSBvcGVuX2dvcD0wIHdl\n",
       "aWdodHA9MiBrZXlpbnQ9MjUwIGtleWludF9taW49MTAgc2NlbmVjdXQ9NDAgaW50cmFfcmVmcmVz\n",
       "aD0wIHJjX2xvb2thaGVhZD00MCByYz1jcmYgbWJ0cmVlPTEgY3JmPTIzLjAgcWNvbXA9MC42MCBx\n",
       "cG1pbj0wIHFwbWF4PTY5IHFwc3RlcD00IGlwX3JhdGlvPTEuNDAgYXE9MToxLjAwAIAAAE7KZYiE\n",
       "ABH//veIHzLLafk613IR560urR9Q7kZxXqS9/iAAAAMAAAMAAAMAA5HT4Cs+4lmibXAAAAMADoEZ\n",
       "W9vm5IbgATk2p4uplAyr51FXV+D0PmLKGFnuUj0QcttnoKSI+Zg1L9/J79QseJZymj65tBsG0SHs\n",
       "9BP129iwOyNutD8vRLSadUeVMFFBMjhl1Yd+X7swuLo5puBL7AXE0TLFODU/fhVTQhgUsE+wFikI\n",
       "bfWRv/d29F9/LEtypdgMUpviPfJyrAyvBQ8ORFR8aX/i9WWqgHrn08jhsC62SuPS67Ok7/KLGUYF\n",
       "yex5pVpK2TwtWCMIGkdnh7MN90pPYpTvVmlu/xnjTIp3qyJyMI7pRkTANq22zeLENZFsntXamRvU\n",
       "pcgeIqBlw1TP5RfeuOOyEGKmgQ+tT3eiC8sOsgJsQhnYLDcm+c5QDbnB3Y4RwbVFiwm1AqyrLeJZ\n",
       "wQ3xQfVBlJoeYSQ2BLyf+J7jmhn7FBfIMwXgI2/AXigiGwAy2KLk2EE7KX/+D+/ac/DZ/Hj+qyU9\n",
       "IJPUcuFYIcwU5BB0DHS4WpR6OWdGg56cAv+tMjhEm+ut1SA7h//SCrr4GzZdH5SVDzDZMzK9jswi\n",
       "lK4rLP5rnU5tJkL19OBFYPXAwi2ChkNs3DYmNXAuYACWXuKMoyxSqZF6lzsLh+eF0CGIaI/Znz45\n",
       "g9czj/2cPnXwHoZy5CL37ENlGR2W2mg3fG2IHKcRWJwicU4mUfNHarOGbj+K9XeNfV9VqdTGb4gh\n",
       "imfgSkmOWVFqb9deAL9TS/8zeWb1P4A/MZWvNKNIzdZ3iFD/mlQbLUmj3wawM4sr76bsbs2znqn8\n",
       "iMa1slBI6UNzesYCN02PxJTZq0m8lEgmn+MPAKUMD2MbmWI4Fxaq1h1VH5fl35xicRzUQd7coySd\n",
       "ZvIrKn+9JnHkRYcoySdRWCg20W0H16wEAh2Fc0UX4n8Bf/jEq79m/IW3JcFWO4EO4b/9puCFZpAZ\n",
       "psyfu/oca0ayLPSVXbBgU2H8V4SkvbKAun0MHfu+I4nZnxxUjcrPnWhGO2od8niqGFqo/9+nnXpN\n",
       "3SdQYN+LKirNTbvLEs1iwkURZxIpWJjDiES8OYNTOyMhmHrSxEdNSzU2nuJOnBWwAAuThy9XGlDd\n",
       "id2Zd7PsSwPe2jzexzP+Wg3O8O2wl/4SlPse3ml6B14qRozHW3foaXoSQdi5Gg2Navic5gKCQ0cL\n",
       "otiq0TSb8JL0Ff9r6G+Fnl6idQf///9g8l/kspr/1l9ZyQspk+VdptSTj1oqmovOOPGD8B15Sy0d\n",
       "Itf34X4J3fxgO5elNHKx2fWY4FiOVF6HG6bFaKfTTIDyT4crqf9Ti0zSXMyXlzHU01saiYGZgu/u\n",
       "3mtttDewQgGmFiedkaRDYrZO2dTPFliaCP8m0Pf8OLK/o9K1IbWY2zkXaWkPNPevExUtY17AD00X\n",
       "64H8H70b/sGFeIt6z2MbBoaw4xfWK8qZwGxa92mMSShgW3jxV2boTARDWGXKXj2NheHQt4AOERMP\n",
       "q1PSdfLtH3HoxNpGg7XOKv5JP4VXJWX3ycDKvlzJpzHXlTVx4J1S6CSrMh2MEAhMyTWXA8XMEpjD\n",
       "jumiAVzrjpL5DsRxoKJ4QJk4fUeBM+1oyL9a6a4NpCgDq7H6GSzI6sSERw1v+P1eqsCkvGGDVZeP\n",
       "aE0dXggy8JKBNidWEebNEHKMTqX4ieK9/36n2xmvz//w0CFHPTYmZfMVAmoeiTXt4+bKfQA4L1NZ\n",
       "CFDU8BPf56jXdj8Hu1RVqeFx5mcJo3X8WQERXvx7zz5KKlctEw5omRqB3BB2Q+ZYT2vnbfHGFf7s\n",
       "MFfNHzK4WLDK3g06vVpD2olNNMbYV7ilw/c/cfcdNOdxX3MtkWlGiIlbiJ464ggDcDcwCjYB8vk5\n",
       "eTjVZoc8RvD96zwwP/u/eHtVtO8Kb7hxaXP4MUb0/I1SCrYQkDrxLPFQL/HOfZNXwDD1dxYdUOfg\n",
       "MC6nHb1isJnQVQ5fNW6Zr9Mt+vD/3pZAF0RMohgAM9vi2GfJZkgq0XR6O1bbf87teOLtK+FQc1M2\n",
       "x2TzHXvcPoHYwuER5vBbhyT9JCEPfSEzdyJP7tM1/hb0i2LZ6OpmzuGhSTYLymUjBcNtGyNYOgjW\n",
       "EoE9EJUMzss2lPvmLbkNbeUtmPVIjUhNL6MscBwnMfzbVMasYz/FuKzIy3ZfueSy+vl5IEMXV38F\n",
       "iaVhTTmhVMH9//phZjNxZUzboTZi/0h7yNgLdg6gB7NkjFMvvRu76W4ka3Oz3yDQSoaFPNE/gUuP\n",
       "BNbS4wFOIStEq2nyPTBeKq0wYCxxj3CvWaHv9u5kZ96fD8kHHSLgHMd/bsl1jx0LxFjHpL0l44Ty\n",
       "Yh4hhMYYs9R9GFlMCh3kR1eOc/4UmjWc4o6CKoLheQvFZrKfogrxcgi1RWe7v9cAnWYcCG8xhGCs\n",
       "/rb5mNPE42oSEobPzihgukQVSXPYz/oX7QdqBF0ex8iikIP13IKlvLC6eyEwZCcWOVqpKxCyLfXw\n",
       "88+yDr3WSHzqdx9NJtCtRXUFREVPUiSZKv4XAEaVdylXc41KOo6ORCPU4d9D4Qi4f6iKA8bHpRmz\n",
       "HhEZgSf0s4gwvXvVGWRtjuPZPoeAijYwoMPpMguXJVX7so+90Swf4PP4eKL58VUFovfGxQvZ+15x\n",
       "8I8nD84hN5G+et13tMGer2IvJOnd7SCKEYLrpjXTckKU6PZQu2wP83yg9AXmtIIZVN8tGxwYIWt7\n",
       "87+P++CVCBJqzHCU568x0iew0ikA0mEqP4SwVkhG4bg4LurOMOq2d7urh61ymlvkauvr/tT1d/fr\n",
       "DRkj/+iLVPWUpbcU0As8tqEJSJJMgQIRhtUTWuZ6esFopl2+ficguxOqukisjgX9NBBffitdWVJ6\n",
       "owCjUBji/0Vs0dD8Id+2x7d5vneYqsHKfcNIFMPTv+kPaUYi9qQQdpgUc7O7CMzCnGOuLAsUe82d\n",
       "gCR+p6wcNI1lUCH2XTr15SnoZ5XvW74HyWviYnUWvxF6PBWEDcXs+uD3mTzwaIqiUDhe4IjiQIkU\n",
       "lOjB+K8NpKRcd4xFR/06ASfsa6smgkpKZZlF238PB144RxKqcicc5ulHJEbOEv6Hb5tGatQ0WE0J\n",
       "91lqw2L17/sawl91oLu9AWBk4Xr1zxf51m7mTdPuW5yFgLKwu/v2rSxXltWBPNFZkv1STWAzFKAJ\n",
       "Q6ywJyfBAqI1tVMBH0mb4eJhtcX7EN/g+++wZn9uq0IV6LZvbua6uff9ZTYgrOb4P4DrIjDkpYVo\n",
       "D/ZMEZD1eJ//SB21e+wX7yDY2iJrBG07BphPj4ili6TfdHqQau2iOFvzyZ5kJd7srfMWTFdBzO3K\n",
       "Wlu89FZqBzHnG7pDvNvVRHvoiW8QN4VQW5iVASnR9WnXoE1rGNm3t7GRKdyEgHanyZLVJAHNF29q\n",
       "DY3gEXd5O3I9zHfzYA4PRE7hR/dXE/QFderkUklUZDQeN2yxF9xQFWcD4hOL4VM7W4f/QLQBg5GU\n",
       "yuDhASIN2BcrekoUjssDaYlxXkPiQiLa3gmjEZhi2fkW5jTNzCENQuQe2FR8Ars5Kuk14WPC52f1\n",
       "zGauaWWDWrAVvAOhjodTnwvN78611sJHUISc0jyIuQHfmoqGNsP34hXW4U23TgB/JobfE6xXbUp8\n",
       "fBsgVf3OR+JnIyfk4Lya5Ig4SLx6Z5m4fKwUHhQDbW3PB+hvF7wUWlxOcMJrdtzMWqtpRXvq1dyn\n",
       "liwekE4Gd8AyyXXB1j9khDcQ9I3b3fed2IictM4/ZXeFbd4MfnuFg5kxCj06MGusnn8itHDHalFf\n",
       "DG3CqPDwpwACpBXmhsdQP0bNu1Gog1qeSeIxz4Hu5um/zePzhUkA2igUU9Fx5jcPymmIabIRpwKh\n",
       "w+GMV7+yb9KfPKOm0DXGwNoE3RSC5et7dG9fVa+THoUwjZC3L2vxazB8pha3aW6Orsb9qM6qfth6\n",
       "/u7md9LuwYjBCEjcf1Ri+Jc6Zd9J7IlS6pEkxPcUbkBNKiZXOOlOCDK5OhHRoTdY9XxFFr1gP856\n",
       "wA8qhgO/JygAPKf8T2CO2XLjbF3whGQFR3uJ9GN3JmlW1MiS+VvPcOYGR8juDv8LLiO71w/UGdY/\n",
       "FEZNPWxyklV2wJMt3FRBjDDsbkkwYnExzyUqNHASXuAW7RF+tns2ts7mBR3aPJZVEPcWk2uC9cXT\n",
       "vf14rVcRyCEEdZl9gpHDKS99rDieJ3UQhfIpOIWzFb4NGw0Y4xXqPXMci7/r8tGhwD0yEPhgb0XO\n",
       "zy1uWteeK3Tn9WtTCxLfHjv6+qpvFzd7qqjPDl0XVQTzN7yRBvr8MkAbE9b6HL7ngPj/6IcJ5ML8\n",
       "5NPafe2SWDwpglNYaIlTH8zyduWdRHVC39XigE36Wwl7/y+lwbZCZvae9ierlBlUyWYt+sklR6+J\n",
       "CRto440wkeyzhz5aaLHnZHTG3+RdBVlKgo6jn+TUUW3vpjOtjUKayCyUBDtIBBFFpoRHo39CpPFL\n",
       "E5bacdLuH0ONpi5efjI3SdkKOFfo9T+1y9NDRCU75P3WCx8aZY78DbDQgnQcOULN/Csx6pLYWkqV\n",
       "xvpJXpM0JK5f2oejDRM2mgxfRzZJVRO5hzf1cnBFR7WUsC/2/jHM/fUVlgK3/iGyb+DPi3ELaYeH\n",
       "GjQYgEQMyEtnhPZpLjrs5U/wR8PJ2P1ksGBrEv8XA+75TUHe+9lHqbHhi8PoTl5q97Nx4oiLbfG9\n",
       "oadPtNOt16y3Zbq7AcQTjtFjlo+HDGbGPCZbOgBfaJoQsg5V31OJyhTzoGMPQsVxSdRfj60Qvc5T\n",
       "TWka/BbVZOaeoxet6VDjVPko5A+k1V87YA+W8WAu+mGJzyo+7+1jZQiccN/iNTCtualvigHGiAWo\n",
       "HH3axU4+KjJopH5FMku5JjsFom0rugcwCC633IoAKWLp14sQuURYlYAjgrqjZWx64P+shzB7ymOc\n",
       "/qZEOkM6yjyFTuoFC0SngML0n0LVb53lCllJVqB69OgVeoZkweKzgBWy9xm+nphzd9yDslIMQOH8\n",
       "lush0uLntg+NjYQt5OO+ddaQJsDRRE3eNllyIQE6BGrmYFHKr0oFslcNQB+kUkBlr6j3tRvwLrg8\n",
       "OS30xb0AjEnHx2A+OJIYAJxAqTkhyD51s/B8sbZ68/KvRvouGfZjuqFMUtcjfM9bzP6Za3W057Ht\n",
       "P4LlLvpiQbXsad0I6QrC1Cj4c36vhfVwlTUBtXv5+Yt+hyWSisoUmpFNJf6Ror70ig9XjQglP7w5\n",
       "yns2eRXCuhxRTonzV4eIHRPsxOQ55AOF+W+17TBPNw21wGqdU5hvLcTNNp5tKTrmPep+eEQu6eji\n",
       "KMXIm9U+u5n/VXPudkqccaQdgulLHN6Ug0jmeNoTQdAzi7DylRalQWCDvH2t4sUavAv5pR3z3tdC\n",
       "BmmElvZs3TvFnH4wKNyVwkK1CSpsSQoVXxhQr1EQXLmgOiWUbugVpBgPovlLSkP5p0Px2CxbCjdy\n",
       "Nep/BgdqOhrIL8qOoCXutrmWi44JX4Ymx0WIAzCdYqJ3ywThzFETvmTtRiAda+GS7pMdLYxEZKg4\n",
       "tmar3WhSbbYupOJ5PS2nD4HH/EiTYvqJP/kEyyUauhGH+6OcivOGA4/GZWkdtQnuCjmfmyDk9eDP\n",
       "TYe65Xo4Ml6/1stk9dp1UlSJGDs6F80rpPWPr0ret7MTM7m+bO9OgEAu0fjZ6czRQwiANkqLchkg\n",
       "wbEhF04VNG7AnAKLS8mAxj1CHACrjsJZr0OeVxG5blnLgIXRLGgoVe2CxlVQ5lizhFmwiVmpZAf8\n",
       "VtV/YT4jxBpoEqcrRbsBzg2aAl6mYb60B67+Bd4+Fk2PDbnDr4inap6nO1xJJ8W/9Z/fahvJmGRH\n",
       "+tOc3axeoqIw+Jcjs5HcplFrxMwKSV/NieZ2MTtw/Yg5yRkDna9Ndcau15m7SNU5XUK5LbX4ZSbf\n",
       "JhQQ0lfoPr6vU+thpIwLSt6PO5yFphKipQ03k9xQCsU7zettVgVYRT+RQVxz/o0EDtbf674VdeKv\n",
       "TtNTE4+bMyLEttgErkijB0wkIGjV+xipN01BpQ/1GSSMg3Lnq9qL8FxaFhYBEvaGLnkPrvHeBJy/\n",
       "u07oQ5v2LkRKIFarQvM7ACarKNAW2EAlcGv/eooOL5P+RdsBDfrmeoom0lmjCtwfKGVCrteaT8hk\n",
       "rXSLMlNiMWm8Pz1wNs0WichrUQab8ORNubYWIzRY5cn9MsPEg0udsnjA5QAvTai5nhlP3nzLqX41\n",
       "od/74xAXDdVfFhVUtR1cziV2UdU4UOttDLUVDA23UK+adI0BPErYkocjw5sHG9CiF1jpCqZ54BjN\n",
       "SSfQAiHZqXou1H0J+mhY1ilhLaKeaCradkBa1raN1LidNX2RplhHVc7CTtQegO1iVI5AoW4oGSSE\n",
       "XnXztSDy/YF5mvBmNHX6ZRJ4KF4r8hOQ7KHe6OSaEcSY/vrVPzQmmLNb9Fgpb0ignuDWREAtc0+q\n",
       "b63qUHoPJUdROV//phGO7pSoc7XlzzOAwhHVWECFxaykVcGkSnN2Hou08AXEaWqLsXExgZedk1i2\n",
       "n1MP0YuAth+DTlPifirsfmAABlqty/TNBl2Di5SmatAB4tRe9j2HDYh3jTKMZcEkwOkYwpltOH5l\n",
       "eZqsKlZ2wSISIYICsiyBXT3spuhEPF7SZlPe+IS25HAwNpCg/3B9856nMe2xyGuaROhhPSh7Njca\n",
       "7wCgr9+lZlJTA1BwIKtpo+tR9n7KM5VElCcyUFLt0rb1TJGmz8aFHtbVOQ4jgGiYlRAjxSR+0cQ5\n",
       "6eh4xU3X8jHzBkznNVn+wVwCykcu1OA8Rrc7KnOqubomq0eKaNKjPjgx9zD4TD9WcGCsJfh2nqPi\n",
       "0mPef6kOfgrpGeEvQMT58JfGyPshYFW32RAOvzbRQ58pUhomLTNWi0otGD5P8Q6wjSJhSfOoISGh\n",
       "v9RkHOgZazt1yU3KAzr2I9K0b4xNDUxL4H5XtNVFr/cogLHXOSR9jIZ2+nCrClnQd0a5Wj38KWOZ\n",
       "3Bsf3Bqr/4TrKefdjANmLB0LvNxfapFzcE9aLc+bFLWiNR3H0J05BcP57rDrGXP1fgISp0WF/YEw\n",
       "KxNIWzvH402v2071msrwnF57wvp/vUi7+IBq+Ka+ZDVonXPfJ2M5TvGZQyCKfZ6RB3NuVwuWZxYs\n",
       "OdYObctFjb1jT5C2jwqGPwdhzPc65qxINbCmfig4YSLdQQEj6274X9fT6EXXb6KcMIQ/7RNNcQVR\n",
       "+GQqFMV3RGEL5gnE5OXp8PzGWwnugP0d6WfOqlRzNl6WzQPcXSE30NVnvUg7xAg07msTYb9SCua1\n",
       "j9ai+jXVaDfgBGrt8y2lXdroMDDo0sgYQX9jzTcpSgnj0SJE+UDK9/+YFf+UqReZn8usN4V+qeBD\n",
       "shbOW1VeRHhn0aajEGJpfbe6JA9txusBK51tzVBpKLfa55XX/fzZdAObVUIcROjYp/LzeBrLmy8s\n",
       "WGvPM2L/G3la7ci6XR8IKGfASO1p2Y+tzy9+KaxXPTFkxRDzmd0mvDd11SDyt5Q/aLAXafGcD+TN\n",
       "XQ1zJigjstPw+vkOhJ/H4F1yniDSSWbR2hkxFhdgl+e5gUrpBYv2zAhwfJ4NloUQO/7ymUM/oJsg\n",
       "v/JddRvRSdTnGDd4WdX8aj6iMb+1h4UWRnXHWQ7ReMpXLmbRBLOJAA9p3j05uEpQrvulGl5PItnv\n",
       "SYjZXox3wfRMWUtbE2EwwwaZoNIY0bTNFIFDjeL0/jhSSzjlKHQE+sjiOM/zFL7CAkRSjcCCE3T7\n",
       "o3FiVGA/ulOFTQ48EgDEa65bQO/DwO8S+x6wDthc7eXXfdqdt2mJWLP/W5oxsDVHZoPP6MNy70BM\n",
       "3w0daqS+M/nau74kZx6XIro2Iio73qMH6ACYApXEr1m9maAUT8/29tvVxnm+gR6mUnENvhSprHVO\n",
       "bO9m5QTIVlbf/xcSCDx3NstuiuqtKBpl+1GVL3YMZtl1CN1xp1zv7Rxhb4TSS1uTwBs3BkMoALVu\n",
       "zpomUcCPGs6sTUO3xfbVMrUslvadTdKiCcPtpBO3Tfyw+e2ySD2xt4OzTnSFIMjfN/0hxo3tFn1i\n",
       "MNkUAj2jpbW7A7WvezrQ7YjhP86P6+64LAzbZVZdeRJMaPVLpuje0lE/8TMss7+RCTieOBNRQksC\n",
       "IDR162nZft4HLqbL8kCfJWzZlMcXaQsmyYErtNPXut0gXqynFOgcVXnt7ewJAOZFfWK5WgiV1yAr\n",
       "otnqBeBZJq1/82rv9xDtBk0Mg8lj62lNqMh7f7+mN7YzszlMgZbV0bpxho7HnkmysV6hGIYAZSgu\n",
       "bf100xgo64emy88er/53XXMqyk1t6BiSD/UVODNwxc9mqGAv8q0/GVn2fVd/YaYJi3j5BEI1pNGS\n",
       "U33w2iQP+/0v2ayqd8QAvaXjODYohl4BXcoByEVpf/7Njctn664at6v2UUS4C8VeqKlC+dTkEBUD\n",
       "JoQimZVsYcaBm9JPEhkpS2diR2qJR5I/ADRV/ffeQgnvB+x5nXKr79qdCgtHAlKsx2/+35lIj5k7\n",
       "U1JHX83viMA2YQNB0YuxoCLhzpmSP5ofvUKGoADSyLJ0GK4OQQvzO7cg/9O6quSRyUxz5mmhS7Gt\n",
       "JoGjNt39pz31/kSRJyObtU/8r066n0IAkkmSLDgQg3yKovRQa+F/o5oKUVNbo6as8MB5YwLjBiCl\n",
       "FUXSeSbEjlOaF9uZL5tq90vvOivyvsWIkdLM9JLfhbhgoaOFQSjMmSypGW6nXJl30e4jJauw3Tmv\n",
       "/4s57M2gkbAE3aYcWpo7uO2Un60friq7fgH5wHJHzPeAFlFDwOro+qudB6/7dmE3VLdbD9Ldz9kx\n",
       "tWnx65xcUEWQ0lBIP2DrQ0VPjh3pt3OjvE07+3nFXzu6kPglWxhsGFxR3HHMYOhLIjUXIbCSpvmC\n",
       "oxfx/ZdhDKyXvxz39bUBLRd86SctwnqLyFhugYB0qe+/zKaKE99NEtVV58Yp6BCfp/VvIQ/uKHLk\n",
       "OJbchhYK3Y9TViEYLRLB7NSbRM+HaePBxz+7qQN+pfpJYYHtUVociX97HtIoBIl0q8hHXvuUuvUC\n",
       "OkOrCJdh8HUGEXTO9uYzsvRBzrYsLBuFT/PUqYBsJLC2hiCQD4vRfeey8jN5TkZGIsg7TxPN9lZ7\n",
       "RJMCzmEaxB8mJpXdEwMTdGTp4Iu1SF8Ij6uWCHRLt9snDvK/mDr6FDJvNe8b07ZB7nxGGeXeMiO8\n",
       "UisjLWFojUsO55lMwG6sDX+0PIlJa1ojP96uvByOBfcABQV/TnwqZIewpjyBicJWXdjW3mLgpeYW\n",
       "rzVVuIt5WBVKp2fe13BRzM8a92qPnAXdi3LbIkolMjCyP0rlSfeJtnQYOSH1Zu6y3oNesIUiZzTs\n",
       "vHglPFeoCnl2gV/M4QsznUnmuptnNp//z1vPMAykl/y3SJ0SwFpVdFsNg5HYtP/tswarU+YDifTy\n",
       "V+3fvHHd0CsC5ukewc5JEdvt6gYlv6xOjgxp+aGlEWt22Fh7NmF/yPF1lO8qmkA2Cnkf17D3OsKG\n",
       "CYeHi7O2v1l5Yz5b3EeUwfEPQ7mZ6kk+l+ZTakxrFWHe3SxUHnojimOWM+3dQrySFydKbVpp/NjJ\n",
       "YdV3GWmHmlMilPN+tghC5AaQp64tMbIJuxDCWbX2ReahtSW8ec1PlMJkO4zX4ASfidzNqTU8NOhS\n",
       "dG40fq+pqR3k2R3ciPyg+GFX4XA476bE6b+of3TQatG63Pz3U+4JkkHFFX3p+IHNPusbseFXFGrF\n",
       "iYdD6/mxnvsT0I68PktVjWdOIo+yDFE5vHIst/vrcKXr5SZFdaVL4/Ky3Tk/M2ikndLibeon9v96\n",
       "H8APzeYaOUDk2Kzpq+aL77FSl82wfHYAWbbKCEml9AE/Wvp0I4XSfVQKstATqOyNyAfHNmz9Cjez\n",
       "mf2IrAwxlX6ARkxM7XclKKl9zjpWTCb3QVQl7TM0fRD+cEiPDb8SbnUyGWP1jaV2rpb9IDVZQSsa\n",
       "JsXD5OsVWvPPVmoI/MJKJZhLJ2UXpF/OfpN9CcXDPg643nt5Jvw0DRE2iHsJHJ+Y1yzEzmXxEueu\n",
       "hRcQI3JPka8/+hphLhXqjKxdNOaGLeZha7+MG+55npO24tZAPq42rPa+LcscsgXRlEXUmVKuz0YC\n",
       "5afl9ZCNRRYuQBJAawqzoNV8SEIyIB293RY64NTsP/34R39uD6G2/oQRLwHdwf5Bhausn9LOlPio\n",
       "kyWNDbqGBVqDfXUaU1T29sA2fpeknIei7fdjrM72EKB5awuVdbwxEx+bScbSV7CyZ66FR+jKXgaA\n",
       "EMH1PQrhd/h6VKKjuHqD8vTvNYpFmovGEmZT+GHFnsxftMtFX6Jg2rlU//50QAU+SDvl/rPkUn0n\n",
       "TQCaYJuxPyy7DUC4H8yQk69TFqB15pcmXY8VIS9fYCk9vFrM28Z2x3u3iDi+NsUrTcJUCcGjV3bX\n",
       "AlGr3lCeachW3vZVvUV+5EGNHtXJUfBdmw508Ul0i4znDQlA/7g/tbxjMHmokV3hZ3sbwlfxoOM0\n",
       "4iCxXaEWtmaEEZUF7n2J7zQ7E4CY5sohWIK6GccDw3/egbFBjbFaqc7Kxk3ATI9tInqWtgH5y0Zg\n",
       "Crh4057fWZ2wZMthL22jEywqUWNp4pF7iVraTEi55AhYdaETKtzenjv3dUJ4knE/ebYi27ZC2eOA\n",
       "2H5PgTEACCiEPPCPePfJfNcZG/7LgWA8ohlgzshHo4G+pQ579jMac48X3Orv32Di7R1cWLPxVkjO\n",
       "KrkmDDpJaqiRJmh1FsKSmIRdLHZThoprmNUoqwsuG4LR/zQSgeN1ML9LAykzig9Sopj1mQCU1tSr\n",
       "L/m1XO1Wg/FyLPzrVmBPhZ8ENhBTmI+EdWxErery89AAUr92gPZSjgQb4hfgzZU8gphYT4Hwlqz+\n",
       "YQ9gm0eeuWg7Icx6kIVHdMTdDRy0bGBKcKoDmIXybiJhJRpIEGpvOOyPEbLbWFn+0gqRSEOTpx1O\n",
       "//wxSxj7mlaOWCuP+CGTJX303TABVKIMKUCWEJEUEoCOcx0+xAN62k9Arr+XJufMwMdX5vQ2sUoq\n",
       "mzrEqOkXMVE6D4KonY3BIppEW8EthKaDwBn3XeV109RnqZXeNIMfpoHuulSicNRu6LEMCXRcveNr\n",
       "1j4CgyT/l09dLxbifrPvuNQsdwl723I89Vg+wIOgzYI3/2tKUfOv0l9qFKW9x7yqnI3DM6fzgJVg\n",
       "6YNAQ4JgJNP8/iZldwK9ltc3ymgU1NJ9uf9kBWqlGmT8zfUCCrLvIc/klX3xnQueoEeBsltzNcU3\n",
       "KJJz0X4AWWmFoR6Nd9FyetkuOLs2/FBqpcwav3bcpUlslw5UVaFQOIaCk8djTKV+QsQk85ZKXSlK\n",
       "NIOyoAgcADET/jmzLoo9NK9olioZP8ibSiSpwjKLFPtVKc4t+lQX3sCUmNEcFUIMP/KDYj87ywup\n",
       "vGbLEoJb0bnKpqW1e32OJNU4sfsGYh2Gu8vwPQwv2cAX9YozphASqFFWTQPSuPbwpX1YDn4LxQzy\n",
       "P8TMr3focwv7PQr4I2nkOCoqy45+dbOeI/z75KlQI9y4+hqBNDqENisa//G8ofTerY4d2yKCE+Li\n",
       "Ahk1qKJAb6nzyOY0NRR88BAm7XWFZ9WNO7iZzzG5SDikVkeySFV/0wxjKaKUBIufEMPs2MWdO1aW\n",
       "/4GF0VRQhtyvXzTAbWr/ltuvEO+opPjIJyfpehal7S00vO2I61+ovpoNiYp85gsAzip73r8C2XJQ\n",
       "LITEsb6UuhKAwlyEA4IWMR9cZe+xptruPe8vfX2kSwr6LCk8Dru+ItS8ySZAaMYVDI66pwc9GBcg\n",
       "Po1dV/KWkICW31TxBpT6dba82FmKSYvaDdILFT3ZEJ3iMmHgahQ9zVZHJYpXn+5AcB0ZU02olrxE\n",
       "saHYfR3Lhqm/BMOzT4aX1rtE6Hbe1nvorr6O22DKt94XboGmq1UIdnvfbAFOUo7PBgJkq9+ZbA/M\n",
       "NTR31LFas+Fjigl4kHP6bTeQD0RVpzIHf2+Lb0PFOq0G9bq9ZPgVJA1N6RDQvlWFMF60BbQy9+ph\n",
       "tcRBW73fyh5y38w1kUTMMBzEE5hjd8Xu9yuPm1gyabU0kk5MO3Ovr39F8mLqPZ8BcoQ42t36UfFw\n",
       "WV+pZ1NqplkSW2s7IRHlbI9Io9r7KgC7Deh6z2CvKSSRW5+g60YjrJRczi0XwjGXniVSh8DjwCYP\n",
       "/9TDXS8LjegbcU3RCIlN6ER8/sEW/GQGuBB2r3R4SfWQ7M1eQC4cW6R6uUARJi/NcfbTszyeZgL0\n",
       "B5PjbjvvEXHTxYfhbEMaGqEpB/G0tnG1op0g7e0+Yv/q5zOg/OZdKKANLVG7rcnG32DLS7ErvGDx\n",
       "z22ySbJ8oGk582wt+6L1dR0rVzrBV5FBaRMxwfCEgABkrLuZTulWq2jH7lip0jNO2r9zqDJUqCzV\n",
       "YKY6qk8liqrUPmvT3QGyrQAA1i8BUYUfUa7YWkj/iCkYDMzjKm8OWy/fCJfOnIzXj0cYKs/1nz4Y\n",
       "FHnD66C25XdngGCHYEFcSuvxIysqmCso3sg/MGRdVnztYczRTdvqkSX276BxII27TXUZUCvIdHhf\n",
       "huMcL4X1YK2YWQev1/8wCsnxZN/EdhZHY8ax8hI8GtfqO+fjWU6qRWIuk3656e1XMPzoJJxvfQ7n\n",
       "HtaCLFCvyiKsJD43vRiiPR/OMJyRVpvfhH/B4YtlfWVoLydYZ8H0joyj6a7Pksk86H1YAgEbMjhH\n",
       "5HBpGKzwh+PdsRIAFAvxD20xZgTnKQAGDeuWQ8RPMVZcsb2gIuArCDqWhUPufV7ySeoKfidcH241\n",
       "hQlxrH0QtQJUwDN8Kqvw2if9STEjbRgCX9nyiCSRzoAGYlcjL04Ikps96xYNc7SLug8D0+p/eHiQ\n",
       "cqp4h6EByKWq75MIouvAnxBgp7eV78SXT7qFAZQJ1TP9H9/CbBX6pUJ2nlp03lKhNwT+Vd4k9QFR\n",
       "zf7BXReYVGXfP0lKQLhxIvJlMH2eIyo2WE44u4AFySanahFGpO43TM1iItBVXCQ4DaQ8WZjwNOi7\n",
       "3yro/2oUOnPDPy2WgDvz2X1G34HmKWvgex3FljCehbTbFEenDcB7aTSBaNUUMhokLDDM2CDF8oIs\n",
       "qrYrlqpO+iVt1okxcZ0TuHrV0CKjLI6CfYvk6ix2TMm4jem9hXbP3Da7nzJhlQN//FAtBjRrvchJ\n",
       "1wW17TebwmGzrmrD4L6NroKj5LkqAxpxJUWmlrEu/L5aISdBu3uzg/P84cRfEwpLiGXf7PdbZ7Pr\n",
       "YWQxEAU/3bApW0km1qkWkpDxumKWsxTMcZdfEgtXVL7SAe0S9eTuzR9YBeXZzM/LrRFIfO6k7rdy\n",
       "ZTCLMAtmjfGx7pS/YLO/u0TFZRAYNotrfDPmCAVwaY8Z3JMSkGzUANauxGP6Tq10wtLMFSMSiGt0\n",
       "H/JPMAq0u3TjBYoZbKrjWbfWLo3z19HzWZMX5CeVI4trYzWIYXTyZN23FNavsnjFXA/N6oRWZaOb\n",
       "L5ceBBf62a/y3SIcfytd+LWvluOZNtJTPGoleUfDsM67j0i2bfd9c+nQTOoePUdKKN7dZ+FeWqfy\n",
       "y3aBNdyhTPwU1XBqcYj+9Ty2hjlFlnYed8gm9E4o0L9A3GEWRxfPjyNe1t0CXxTzLjwWgYT1tyc4\n",
       "w6MKqJ2/4CPG3MGTutEEfhbXJ0yA4tbdKBCeeJ64Htgoh1SjiPEebz1mXzOqqnrVMrFWILuIlOeb\n",
       "grjb4C4AapqqzJY5EDasp311CvIppZoouZUM6heKsbSlb50LI31WzrL1dBl+X7PZpQjcpH4TnL+4\n",
       "bn0e6Fo7MtUeoaEV3jPWoFa6bPXCjMmutyImB3f8gVkIw4YauiByZVr2CqKmdZ3Nmcu80bQg39Gk\n",
       "joD2xWyiGzEDixmCqK+ytCmI3UNdYHm5JwrfSDXRPN5dVxysgd+F2LiIRtO5jWd8PSr0H8rS9Oej\n",
       "0JgdgWdXrfKQKViVjoHDnXPusNbkHbFG9DdIWd/Gg2U33TUmNfkKkCDmJeNs7w6yBfLT4GfIIInm\n",
       "d3HRo6eWea20LBWMXW4FIMVnK5PpCyreS2CaBrgfawfi+boXWf+6AL2uHdU9u/YjDIZD2UyBZ80F\n",
       "/qz/XZT60L5OWjMy4lnvSkcQuSTct4sITqX4fL62ThdEzXHHnxwjpy5d4zP9K2U9XcS8RniRtKve\n",
       "2M7NQaJwzE0MK96ukYAiS+5mT/sgSle2OMZca+frA1sGViM3MARd59MjpnzsoIBPXXweMmmW9si/\n",
       "36CuGyi10xwiYUUCmAsImcTnQp7lOPG9Jp9FwrXN7K2t1fmBPOycvx5f3N+33QwMF3+ggC7v1fod\n",
       "xW5brG8rS4ZHYs8Aj/+ZPvHcUR9GxnvMcU/Hb2DUfV3GVhQZ5lzO8OI2Hv6sWwdmZkXEwtPq1dCs\n",
       "e/hhM2nK/51USdsLiby7l20neJaYip9e8yj5MAHn6rgvqeKYEqpGC2o5eq0fyJ8SMn+fLAZwyUQd\n",
       "B+j9YLa+b1tJp1K/DmnUsPnMY1IPuxSEtGfOym4Hwk+j+74gD89B5g3dTZx/blFBQw45lxfstBAD\n",
       "PDF1Wbp9Y/UdyKKaXxHtnybOnIpnDvnHOn2lvgttZjWINLbaYs/uuf8/hNvGP9vthzQ/zHcRozs1\n",
       "AAsYSmhgOtL2SXBtF7SFBXz+7CpZgT5C/9da3F/4aAx4Nc8a6PjWue5sJQGhOc9Udy5QbhzbAOie\n",
       "19/4cggSi9X8C8VN0Jtnj++GCvBrx8SbN0OhWPRtKKxIQb57kQku8arWpNOoEw0Inj+kyBJ9oat1\n",
       "/zoWT13aMbU4sGtLVSaZLiePHPv9UBktqpHgmwvyqE/3/4kjl0lydboHdmRc/7e7svu3zyzhVqgM\n",
       "d7s++VLHNPb/BS/byXp1UndSMm26y7xMHjdyicJQuK/9uCym6vBRWB0SwhHqXNp9C2XsrcnKj85e\n",
       "le47J6T66ljus2dj/1T78w66BxfjkDHDfuJ++tYCoebu4CrMIB7kJ/nUUnj3E6P8ZJZ3uwehhakZ\n",
       "UVAkvq2q7rysk1NZfZkv9GyhngOelCFwasDLgTFHbOtN0Gr2EQmc+AFqCJwSy7saopJZwZzeBD/q\n",
       "GZ6cvDn8SnYlFJRpwWmOUE+KQ7207LR3fHQtVCf7aL8O+0VJNb+paaUmFO69lz1nKxjeokGCSwAQ\n",
       "bL4S++qMtp5BR1k9OoovFY0Ts+DIbOQa9Np+VK6QExcsM0xJ2HZ8eBcqIktgGdGMg4nR2Pml8cSh\n",
       "zLuc/VhpFz0luHGtmiS0eqVNZCT4ZdwcBcTsd28B8TBFtA4ORFsV4//bRNWADQLS7fn8LWcEuqYG\n",
       "cUkBzq14p1l9wsAiO+6beCNkcbKRLCkLu7wtlzBkAJ4ngLxLaIAQjDRw6qqG3tXUkm2psClyoF7j\n",
       "J09oql/lQSEWE2hJxeSG2rPQaeQFFaFv+9vfLbb/h8Pe6uWpDl3ynS/FPekQQ2xEL6deRhOdN57r\n",
       "UMpbx/El/j2XPqR3t6mlFK56xUGkRArv/k+R2d/4aPK/GF3Ml3uErOnEjqJHv3L5Eqpp1zrobcgd\n",
       "qcpXCxb3Ejz8MHGhCq8H7RPvLIsizu6gVAIO5UMrymAzuGcl/SEsbIkv8I5zamhN+9Y/x3UZuMR3\n",
       "WhC9THOm1JCGxNVmM6DkYJLEJWjYG5vhAYUOhqKfyv0Sxe1l70sSP8NBg4goLWQ3j7aDYt2F/LUL\n",
       "GRH/bo9WJ7/4623Gap5+xBzlR2NShQgoPaGgRHh8XMKQzKfE9FAXMFz21o+HCX4FGNL91G1relTw\n",
       "ad3LNzzUlGpwI24WqLSiVn4+WE//aGlys3fWbkzXnTvOQ5LlZkkSSLH+UTQLaPXWzmyOTMzx9z9Q\n",
       "uHejfPtAaDxsfNYyrQDGn/BFIo/kZ/UGQwzRvj54M6o8f1YYLcCElKhA44eA6CAdV8caPDwZ5zgZ\n",
       "SFANC4ETrINboZ87M40AZTHbQYqz5+H0JrVKo4Pc2vZ7IZLckSOUrADMn1sjb/MUTlTnoeZ1bGi/\n",
       "FJE2y9PDzUKoYThVrzLU61B7YqWNZkgCTgMeH9qr7GvkQ9PMGqfsocvyFC2OxAEaB00GFRgqDmAX\n",
       "8VJELardCZnzVWGmWryjOBLnJ4dvKHYixjVfpaX3574098Zo6VErMeeSwUnFGFrqKlCnV57Yrlh3\n",
       "6D9f0qxMS46V4ryGGcf7ND94Wr+ELaLn0brLPPVF3I3t3AZh29PAMG69/RyFScBa8cGWlY6fql7k\n",
       "t6T7Q3OA9cov4Swl8ymDn8x7HPzWAqgJXHei0kvcK4fw2zhmmD1cMkJC+WsnjMQPe3lnQ7WdtY2m\n",
       "bCN9zUPuVvb3dv3dprVa8cdh0dVZv9KvKmXUjd6ujbhRVLom1SPlS7OcPXG2BnSbUKv6eS39VJEy\n",
       "zs+fZFh6wKFT7+PpijKLp1gwxfeEL97ocuMsBprPC+eMa/Mfs7q+EMZZbgAsUWcbIdRkD5iRnfE1\n",
       "J4PpyxuuaRZ9A109Tkgkry0R/xjXCia2FaXxYc0/LyVI8R1a/oIAW6IoA78dDnkZ6C1dc1Wi2P4T\n",
       "dImC+htQ3bauYDuFLetDiIK0Io04wKAUWgT/MQSdL7Q7eyBWyEZe4rRmFda0PLp7Cu/rMFmoHcCu\n",
       "ACSkLxc5Rnbh/oAyQesPu0kfxSAbVqhGtWiOsLgh+YWhCe92w+0vl6MCoNzYMz0RFgtpMnuBc19M\n",
       "p5uYC+juo/OS45LbzqECDbkLxHLk9t+pkWzoTCKJI9LMT7N7gaV1F2OiyXLrBFLO/I/nnVCRsLhc\n",
       "MYdO+IP1FO5AJ4pkSP46f07mSNP820/By/ANZQvE2BmtKTiGotAwcux+K9At1jgeNh8F+Eg+kgcf\n",
       "cMHDH5HpSTzoxjCbdS2ZORuP+lqRpc0eyABfNPZ5v29jCNWoFaawHn61sZ0+ALSSG8kyud4zac+V\n",
       "49ReeZIOh3s366jGqhX4BzHMYuaPRN8F9/Lz4RTuauWZms4Hp+DhJXYlNDSVbtEfjhA7o0KypzZR\n",
       "3XJmOWjTLQgAHPDJ/lnx4wVVmI5ldLQl2NXuVSAZdpdI4GSh/YV6kqHRhagf/22zIAHJPk10CllA\n",
       "bFG1l0Gsx8IykKjxgA8RAkEi604bS+DvtvVUP4ZjY9MFzumdO/eohaEey5jjlGw9cRua3eaLiw3f\n",
       "xbhGGMRN1mfqcY6tbqLtMGh3Q94DExpduVzRlMJxHkxQuUT8+M3VWSfqlbIUXL77DGYtFm4SaweF\n",
       "frKjFmGlKlnlqekZJcMfOQttdNVYs4xYANcOxaCpvkz0+Imsb4JkFfx27HAvLATK0maZJTdxJJzd\n",
       "b47QdazQSkn6eKCUN8G6gqpDsDVmRJBK89hv9YaTwoRmIvLKRriT1CsPs537jFBNzGJWYQkaZt5a\n",
       "iCEmYTzG/AFHc4ECOAcGspRrqD7UuHo0fjys1FxzFf5Vw1sXmvOr6qGXfFeGEH/0/IklxhmAA52x\n",
       "sPtXMb7ViZzX3oI6cE8F725cPzWnhaqab37QvCyl1/FE8SBJSve0gj/+oGER1+3HauCkjxJ3rDuq\n",
       "BfwZz+5FWJje+bHDsmhVJvLldVve7jXoXLmOQOS9V5F1uuJn+28nbqMIVvIHAUxAZnrPN5exYcw+\n",
       "RRL1ZC/XeCTc+KfT613+aZm5tOsInpP5nm5cCUuGubEO67XvasUTWKCRQ6Z4sHDd0MBZKzvL6WdA\n",
       "f0vkyFB4BfL7OwKAoqrqvRGSN+7xPJ66p3VlM9dw6G+J08nYLQU00y4kndF5Q4rNJHup5jKe6d+i\n",
       "4Mpkcu3WfrSap40SnhDTuDQ3r4GnM66QxJOpUku0bVqaHijiLLO36tpYYpB9UZP3Ra8jOnlm371x\n",
       "GYuL+7BcAvFucAN889++CTOFzfOSFh+/uxdA3f14Rw4CKdUVu06D1P/SkBrpTR7uDrZIYzg0lWT/\n",
       "apdtMLpHzTeVNp2T0r6sS0wUo9GViX72Rqk1eUai8iSu5vOIe1FVIbcOL2sGM+KXrI2OoIUQVz3D\n",
       "LokJ77T5X8fzcwZ2XFw6pgOiP85m2hVJfaSepqX5tB26PS/R1HsYgzwXXW2Bd11uoTkfottVVFjf\n",
       "OR+m7060IpirWYylM4EqJgfWkXX88RJileGkDTfvF5CCOJ+kqePFZfCiXMGSg0o3OJo0n+MFElpv\n",
       "Tp3yfGqBMScszu2koDKm+9dqqUymE3sLKl5E9HxgWdXoQM9LtVTVHma1paM0JCW/1Tkndpp0dCNn\n",
       "ObvWUxGRFKwEHNvKlc7e3uXb7ZBH+dVFh4ZVioxZBckyggWiqwiPe+9e4KXsIuPAlmc6mTiQ6RGK\n",
       "SAo0GDQ1NGFNh3hNO68x19Dbkr/P0x3I3cqoqz9mzTFycGJNG712WwT6WnVaaCeTYz4cdR5Ox7Ep\n",
       "b4AQibTX68E6CxBOAx23LjKpJQqSdnuYVrCW48RXUPgKoKTJzKW5aXE3Lp4gM7BPcbDxEsZBbsLE\n",
       "WFkxYNGy2aGklOVDAuyaJeh4oVug1Y9CsF1cHVa8RpNHOjnHpeR/uYKgyNMg25XKH+EJcE5Yacmn\n",
       "B9m+X9Oa1ekYMuSJ4EnlVMVCPGGg0o1TkxLzPcUcGupS0XYhTLy3A5otRhJm2Kg7XACMcn3cQ9M/\n",
       "rS+HQ3aN/2B8ubwd5uRMto/ah6ggvs9W0aF4jUpE1LNTT29Cek+ES0ovKwvyj1jcqK26VnN9kery\n",
       "sUgsz0zrq/v1jKTKSxsMkzlAPWilJgN2avzFQNRDXkmKytSKgOVWZaTERn/nDySNoxL70+jULamd\n",
       "22igfGNs8TmDqSEvkF86jnV0n1Ld1fKuU+/Xf0xmyj/0uPceSfl/+fZLlFFcARoRIx4jATAh2i2j\n",
       "SPD1Hew0qPASfsbRbWKDQBLhxfu9JCEBfIAiiRnOHWBDj/SI0wBPD+0I7EcyOA9Y0tR7bPwhrfMh\n",
       "rFhJrjMPtiQ7KjyjZXttgdqgiiGHvUd41NN/915gKIqaJvGCOEPGUlkzGqYUZu82jM/F3KScASoU\n",
       "/wYNLnuxia2c2xFhX5/V23nknsd4ARXpiahNojB+YwDo3D2f8SlLqXZb2E0wR745kJui/sB197DX\n",
       "njVJA+Er0ay4C4UyCX61UUI0i01izjJcUmzWgoH8wUFi63tGtc3xyZDn5STQqspPXExeSm6iLbDx\n",
       "8bjcPw6AwWOyqI/zeJRveP9bljufQeSOC+NFzWVHhhR9HTI6K8jdWS5rMrRAptMYdeMN1Hu46ZrI\n",
       "xnE1MevyzpwVsZ95KkfsAxzC4emGOcxymOO7HIFnJFAFjLJ+idEJBNMUS1tv6riGegjyV7jkHl7s\n",
       "Xw+vHotNWtp//H/yKHnPYGtVwvwrQgq6gHKTzMAW0GP2KKqbnizlLcihH9A6n/W3dGm9bY/3Va+U\n",
       "x9ckvEmYnI9V5Whb9YwR5UaWxkpWPeBPAH7RqhoVCL8hNeV6GMR1tNulvmtT7WiJy7VobKB4Y++6\n",
       "w4S02fgp7JXQUCNqABRlVaO7aPgNL3ZuQZTaovuzv+9lva9g2lrEGD+hKpsMN6sxCcOgRzYqOK55\n",
       "2ofOdGrZGv//JH1YeFDvpN7anGurqY62ON0nTZRfn20vcdf97uQSc743hW+vZjQCsCUs2RFkaM/T\n",
       "YdSJafRAjMfxWD+U/PCsXt9ZCCE9V277/I4VvHI0yRzPeDSCDYYgAAMGqBBZJ8ikZPogAz6C2bvL\n",
       "6ubq8Dkxn3FwVJ5rpfTd3LObfAy3iseCTUxhCdKxa2WBPi1/d+flj1hhyzrGb6D7QHFHtKEezrgU\n",
       "GsulaBoqQImLe23NkSuSUUiDwkDr+NJ8pavPe1JjUouHODknLgfKPoc7yM6yhqDN7y/a5kvDQzFF\n",
       "zgRnKfTzja/h7aFUkfdYEcm3BI8poBIn03kmlNa/C2WfLI5oKngS541IRG/+eyHirvj0bnrxCLvT\n",
       "3edD8upVWyiXd26o6AAKH+VyuJQUWpzYPl/+f86cUxxlAzTYrQL8iRL1A6YtdqKXhSsMVEC+gGES\n",
       "pWrBW/eHtK8m8LW8pCEORnXGK2LtVws3hvhkVxZwGIfXuqcnjhp9FP73Sn2y9Cs5a2//CY6IHeFR\n",
       "O7U2BbjNDd6xAmQ3HMsSuno8XfkMOXAo25obbEOMB9R4T5wRmD5fp3C1zpcdETarXZhkffSxsM94\n",
       "to96NoaXNHyibpW2J4bmMIR8F0G4V8QtOuJ19/pjPIYQcWZ427gDMeKpkIs23d8pFZi2UnfYdLw+\n",
       "JAHN2A3I3iDGXZcneYljE4NvXfNcgwnQaVfIUmSdfy+u2uqUfWbYj7v2KPjE4o65buQcvEBzx1VW\n",
       "MBNZzKnqSzu9NhaBVTEK2/m3bY6tv27Rt6Hq8y5eu3OW5D1n5QB4KC8ccUEKjF1lvAgf0PA3Y9HD\n",
       "jvisRCqfZP2md0IjTzRfDDLouhzOSq05IVTowFg2ysSPHicvEWC0ZZvwH2pygaWSriSdnVj/F4Q/\n",
       "z9i22ZwhtAxZOlqgD2z4cMNHPUzX3ZSDYxGg6H3gORtGN51lClfVHIsOeSMjGhDspo0hRqb+B/GF\n",
       "VrDiZJKOoFYdPVaX4WzRAAJrP4XENNJwWp1mVp0DVA4yPi01dT8T2YVzRYmJxJUGk/tjEsv5puzW\n",
       "eFKdoZVGbJiy9eqbzXthS2gPFSxNEl46xKptLpPVL9VqDWuNMUpIgvGuWl/6xuHT4K7Ir9QcFFhN\n",
       "LphYYqmPF92wkSX9uLSPQvZyeUXi136ZPEEpFOwDQhihSgOga5dT0H6EENlBBVbRTbqxn/gcr2Py\n",
       "WBI+ojQTY5stVE37l1CNgr4mOkh4EtSqKPE8aoqkpKzB9kzuABgzM68/8jEhAmx930GpTBO90+4Z\n",
       "Q5mz5wQDHIdRDoI5zajLayX/zWXr87j40QO3jRx9vF8BU6KywBY14PnAVzv5IrdB94A9jFEdb+1M\n",
       "YQFRsuAUl1jqqZUasl289rpqwuhriommDzkjmoWNxThG8oKbZn7c2jyh1uq3EweYPVoAUGLIoXTS\n",
       "kC7hihOBL8LxOiuUG29r1O9iPBsbbo60mBhp87/+AAXMRi/2KBGuUPD5Z612TCz8MexC4GH9VNej\n",
       "ZOKySWi9ujbvx7WGB3X4NymxypY0rGP9PK9OBsrp2wBikBZQJxZAwL0sloy4lZ0kAxV7zPWxZOgO\n",
       "cctIyPmAUzzP5uGIIsYLc4YuEHsMiKqfjrSy5Q15eghoEinuNqfJIzNb5D8XSCdUdN9VODoKMdij\n",
       "lTZglUMGQ2fR8j4gR5gKH3FUnS0F670mzmBfAvmx8xujeGUcrj33UytZj82EC0T2SxUmjzpOkiwQ\n",
       "Y1tKD+HhQRLCDybI5nKTQcjy0ysYZadu3kqcwrDpmtnhjR5kWFGPZx1guqbQQzGyw3q3cp6/12OH\n",
       "jUIRQN/qfdvF6nCU0OUiR/z9LrcEnQLLNJ8oSgeV++JfNBYW6uIuoz+Te27HX2cnc//J2Jve1SPN\n",
       "UiggG14nMzJlFosrhRanehFB86pMgYBjNOCDjORzXj2Kl/2UDt1lv9kaaqXkvunQQGxFTGcP4t8X\n",
       "9RHYFMkzNNQKjKXo0cnx1zmWSO2CriO348S7Vrkih/wAOmpPorFqFdVfzXSrF9aqfJrK2A80pUmz\n",
       "91rJDQVSj9azzk/+cFJc3LzfV49eRvmP6jrnh5dRFWk4LYYJMffKsom+CSLuk2YnU4my3G6/09tH\n",
       "jQnYz578kwDjTWU1rcxxliR9K8VQM8IArzRPptRpNW4UIh3B9tRUUUgeN4xP4DGOiP1Hg0emmLqE\n",
       "I8YTmsmx1gYpsVyFUY6IsR9kE4QGbyfth60V9vvgVi+EmLHITCNlyh/PQFSAj66lucrvLumHXWVR\n",
       "teXL5XhlyY8d3lVN99o3pskY8ZlVo33cRSUDtGegcUOUHYkEc7hib52LdXB7inbRuoSA5vZVWACM\n",
       "sKugdFNM1XxsK0q0bqYKqoFkfJMCibOJ0pLJXeNUVSV7JLT364dMfhQ0vZ7+i09aXN7DWlESlDug\n",
       "Ii3Yy093iX0CL95o2iPznnaESvxPKEK+EeCODf/gpzXUceZF74Swzv7Dyi4cUvQorOASbDj4wqDk\n",
       "aQY+MTM/JaBsx+mfCFoQdVJ4JaXE7UBMgGcFnkaNckHvTkIh6fyXP0mk2L34JRDkYWWKpDM8XLmA\n",
       "QrbKhP3Xa1OtiTfHyEFoDFWl5xtS/3OD07eBjPOOWR6TVy/U00aCjb1W9REBFQtxsmYKpxX57eOG\n",
       "aQkq6CGpluliZ2NxhtiW9xc5zbycrFof6uqerbgU5H6dubE6KETw9CtbDHOnuVeVk70VVMZkkf31\n",
       "zOuhgJxwpaWDINOU37yMECjZa7HXHdI010vlBEH9qpGC3hmAUjNt67VBBEGM/wIvdCOdNpjZ+27D\n",
       "eRptgJRRFSmQLjiYxijsHxo6gl1LN9jk8eVu4TKtnuAYrljau2L1EnpLj4gXIOPL1yaWz3iaoj/7\n",
       "lFvAFETxYJljgHU7X2HHAkOcRFcUsYr7PwxSuM+a5kUpl0w4BGu14/YXD8773ns9z/4xaI5hNQ4b\n",
       "OZxf8z1GBamtcnEiizmuO2k/nREm4L4RqKaoRwEB9Vp4sdGIaHYyk36xaC9wtQJfzm06cLPJxGf3\n",
       "clbbJeu5AAImjPZqHPxy5czacpTn30AmB8dzsfOFBjUYbPTdxLSfOSqVs3/Ilvmt/YY3SCDhrM+H\n",
       "oOKoHwiNjPGsLrM09woAUp06G0MH4/A6ex0dgNZvXrS4eZbeiW0W/fl/EUoO4BrDVLJcd+Mt0W7a\n",
       "PeooWLcD86ba//oltBN53QBygZEk4WgAAjL6z/gO5Npa/yEXo3hnOhrKYW2sskFZ3nBz5Tc1pdR8\n",
       "RiRtF1VdybTY5fAtP5B3yx18TuU1r3MJGVuzc2Pqm2U7lJDTY/RLGY3+1y1/QTxonfoYsGYGJDsK\n",
       "LjAoU1yH73FCvmrhBsvrcNWy3rVF3hQbYsebalt+sOy1TV7SgfSAbwMc1JmdUJ0yKhBV9rO6OcQO\n",
       "OA+1SrFN4JMLPaKmyILOL+K5CruexXvmB+SFCMfyhbadMbyUtVF8r5xxJmQ+RuquZ2QKk7YPifKJ\n",
       "8FF8/y9KdqOWkOlY4JJ5r5BvhEPrb9RgcKtVTVbhBC0NrO4gUwcQMelnuz4vZC8hjPe3tfgj+cfp\n",
       "amE+mZPnmi9w+FVMbeFb5SgoOwVXpB72806nLIK0Sy3r3lLpcQIsuFwJkVKKz3DesS7XuAosSfXs\n",
       "SWwScDaryzmZbT/jGCiDpoAQlBK4HwLwXCscnHCdhNIPBOvYy4IR1gAk8pfcpooBmR092mzJpoLX\n",
       "f9ww4NGNAzhWsW2/o+SOKCLzy8Ic38hmaPzvRhVgBY/NZayRCwE5hfbjyyiBRwqDJj5yRTfNpppT\n",
       "eIZ0fVyE7yN7Ty9+6cvYopmUdwufPgzUkzjrstjgMJvU6jcDKcg0Y8FFl9FyTCn9NJIf3nOgD3TI\n",
       "S8brKeHzKy8eqNPhR5IZd08HKguRVjeMPRFBunRiZqUlcdsE/ykx8hao18AEm3dnqFrXto41ZypT\n",
       "N0DbeaSYyByhtpZ5spMVflwBw0vzr+vNv+3TqUWgXj8LxTOFKosgSwKUTdB2GQLQCtU5NWfzKn0d\n",
       "9Amj2Kgcw9CwhWac6VBlf0Wc5AX4enf9D38veSS0rLyz5VjdN+nx7ef6Ugn/CUPocoapHUdG7hiu\n",
       "5u3AvAHupKqLskvBbmZ3N24F4A91IOAAHUoNaH70Hr0ALzo7TMQmdovB1quWr2vgH3TzyAYdT8Et\n",
       "lFnjbZIxohEv4qZ3Jc8OZpVqnofbPdxxbVrO4wMqfVq7sbiMdpFrzSxGc8s7efxOBGZcjyW8a3mQ\n",
       "ZXI6At8KCKpSzTFBqqDXIATKcvc10iF+rA/FEpdsSqQUjS35nkVVL2oywxt1wkuGJS18j/oKuHIg\n",
       "NXTw/xsmL5RrDDeIkIKrGCRO4jH2987Fl6hNH9b2rm95wQ3dDCIWFc4wq3q+yiAI9ax1ixrd9hd7\n",
       "nuGuHggrUEA5sfzRA7tjxGG6etuYG/QDwT0654SEH6OvgC1XIV2QubdHJIOCigXreDhep6hZpOY8\n",
       "5GZQ0IRFGXy3l9n33YRnaWZ8UWCum2Upwb0Lf4FJGckhMrPiGkYdGIT0RAiLqvUFvpqtrYzB72V6\n",
       "z/TGwETYVneASnDOjlCcnwtFtAWqxH+CLoL+45eoiJ0FvFWjPVVF79ykcKcUmzkixCEyp8P9cw8D\n",
       "oaRsn655U3NO0vK/H8HcYIDzCQWzEN8bNhfy7+Bef/GCNqEebJkgLqq66KHmoK2DK2NzqGYE2D/Y\n",
       "se8afqJ6KRQkYYChXYwBi0k4mr1dgGBn0XZO5N0rUsf/eqDaw0P9QTmLDIXeCGtn6uJN7qrcP4BM\n",
       "OFyXM04qdYt3YS6xTSUUih/sd6OK4yk5yB8SFRc9UsxG4QYEaV1hGR2NrGhO0S6iCNw0vYj9efhw\n",
       "taBIJvQBFCAtWN0fLQFVIO3+Bm7Xuenr9ZClG/mVZ2HhoiCArXiVsek60aXYZpldSNn71R4US6/U\n",
       "l+eXbFfAFVE8Js7Gq/+A2eijrJsDk/ZALzTDdwtwFL9325vHLUS5sj7wcBvv/XnsiobIOpr3MK8V\n",
       "Xviqt7TU2nIYObeOZnbls0UC1zZiD+5ykqmgoPFeOJyWa8J8FXysDOosD0FYd/9WPO64RJczqL6b\n",
       "49Cv2jyWLHpHV4PYh/nTdUo16eGwwB0+w0zchLc/4Oop1ZGkrYVz0UkS8IE5nr4GWU2/GbPX36P1\n",
       "e+qFfDfCo2VFRsqVXTTcQFcHnATQzaGzVRhkj3paZW5cOtf28o+5f//Zf/+zQKe1sjAJcPAERKm0\n",
       "ceXT4aV+FmKnxAsudqORKgWK1s1L+gF+lIbG0KseaQnNI6JMA2fdnIDRZLoSPprN9nJ/ya4+XZ8a\n",
       "NOzFuQGITEeUXXmxIVyVybo3lRX451xOHAWlDR0DTUUqAYXjHTUC1K8DooVDv0oa5FAzx+pQktAo\n",
       "4TCUIJXjiN1TDGlqJwcKan7fKAa9pRr0C0R20+xxMcEojKzIwHOyaLpjtnD0YOWuN9d1A0vGvRrA\n",
       "/zQRSuRY7//YyVHlsq5GuOUmPzIAB6bGmv8S3mflZ7CZ/tUYcUOhr2XQVdLsy7D3S9A+HX2fuoR1\n",
       "WcI+9vBcIS+cbviWMFbc7GHJ0SQqvrZL4pexbMldjeFvfrKksnmkK+JcriWPNQMMSBcTv3v/pVvm\n",
       "+ojUT+Pt5xwoG1FtIzpu8TE8A3IPGCaxc04ZN41WOJRwnrtANX71zGd369figNnCqQXmhzmbTli7\n",
       "i2PQ395hG2c7TNvqg8eIpaTnswL1jOkwHHtF0cAfd3g6xb7c42cb976Y7+TgipfnAdb6oolvElDs\n",
       "286OX8RN6td5AwIvV8d9OK1gIiXRZQcQ49dcwwF31PwszCzLtsjaOmp/trdyr5wvA8J5fMO4X2Ek\n",
       "8zJYeEY0WnMibn/2OYB2atHxM5x82GhlxdCqz33L0Ah/Hv84OwFDDjm7Ov9TuvPjDrRpO5ePZ7fi\n",
       "5uk3sZlaXUECNC61Pz2VX1YecaJFC/21X27Rr18+JbdUtBZnMu95bORM5OUobvyMogKiQi0C7iZe\n",
       "461Vjqm4quc44F0hmVWGJv0/KInk9tSw72MSkRh2bPin53ViXIX+TL6gL7vkqzzQ+71LqbsDoej7\n",
       "UM8OVj0ykVvieOzAAs+wmjJXQ5Akm1X0iCR9PIcuu485wZxsNV1ZP+8HLz7OH3Ff8XJlY4+rAcIB\n",
       "uNWW7HHIg6gWiDAhcUO4Q97n/9Pl4FIUnSIJdj0UYQdYN8qCEf8XIfOZusKR67/sg6erAM/n4075\n",
       "hjP5Muo+d5WB2NTQMY101vg2agRVS10dO+hiov//N1KZyCPr1plBGqUJ/u+nxyZNeMXTgh2dmdTp\n",
       "wO9VkZXf0uwbOhmT1AsTJZ9ZpoxnHepR1fqDr9OGHmuW71c050tFMWQTOLY4UFIwqzfWmqmZ9f40\n",
       "u68U9S6qJbvruUwhykO+G9Y48ZNq0qGrh5l7sM+rC0GzWP64jRpqLTdcHDm6IYcnLKM4DYVUNmBI\n",
       "THrNkcQyxA1SeX1V+Ug5KJ8E5z0//+UA0Ky6VA71leUtfYdYCadoNElGoTiHt7t0g2OMuKKloPNH\n",
       "XOYnaPQAp9wA7s2LdUhCXj4mJ2C1CN2ry5Vo4E+9Sq1dQ9fxXd7AUeYs3Clf5SrM+O4io2syk0AJ\n",
       "iHYb0sbYMLjcPm0N4UxnkuCsVE8dvg/C8UWYCz0MRviSvTSP6+7pd5sjJGB6NhKk+3Z7/9qp5YyK\n",
       "rJH3MReemf+d5jt7q9rjHhQekE6Yk5r52b2jnMhsOjY2beP71u++Jy0eikmRe7UDHGkLFR0M8S7y\n",
       "JNT9Vu7hAcv6AipDmAZvPRjHrsiWpG24I8b5l42mVhckHCX12aj4C+Vt3Of/a4bfFHduwKtNseux\n",
       "Mtwt9kwrEYH7noPRWGLLJFGWljFZ4DhdCFXd7zW4YTIgFUxoH8EqagNd7O8cUOBEqNLHXv5xq/25\n",
       "gmNV9WxAJ2fKjLB8DuyauoTrvQWeLDyEdQBedFyVoQK2t/KsXMClta98nvenUdH5u72q46cneKN1\n",
       "wzd8wtLPBJcaSvvxzqI9+Fi8bjSHGaf1lGXP+nJ7tadipovZa+PDPpHPk5+xe9DbwPBK1vxeuARd\n",
       "7DrE8K3z41IMxthKuh6PaMdZQMDhcaGYJhkAA8KU6InjtimdJh7VovtCvxfuB6M5MtYSmgNhclPB\n",
       "JASQp1UBAvCrdyIUGJy/7TxYQUTaZa9XnmqV7ve9yzeFk+xeXvsEX30OMs4MWXq/NLiBj9kGCna2\n",
       "4BX4POU/meTm2/2KmBMgHEYzNrjr0eKbDLB/RtCHK6nUBuPu43QLGXXLTYOLm32hh+PpUc0Ezd0Y\n",
       "WDDDYQQN0JRg5inqNkRx5MxqRUp5QRA7H93bKjAKnJK1XR0/8UQvkOBXXcq/1r94JC7e5ILGamyy\n",
       "lkTuBkOlbYY6xj2SMlGkEDO7fmWxcqZlVl0kt2XMaqOqhxHQAAAWkAAAAwABiQAAA8ZBmiRsQR/+\n",
       "tSqAAxcogwA5l6Z5zhGPBsdpUnJcafCTqtPGdyqpMEBuWfqMtvkQii3akKxHRE1ABgn994+x0Mwd\n",
       "MmGD78No5mpDaJ9Zz6TSLh+1JPn+kgp9H6MPHDsqcNr8Q8XLgFI6D0IayPHMePMK42aFi6IA04e6\n",
       "ZaSt4DlsjheAhCc4JpMFUgES8BkdUmzKxXTX8hk/+Ge2TKJbhFQgZ07aDbskqbPxbk1mgn9ta9Yb\n",
       "CxifzrPjsdxUYl2JBXdEAaDc9N5ysNlv1hoGyV3Nfn+GcbWAWPOzVGm/1Htuvgbl1PE1KHjfgJVi\n",
       "M8zT8m/lRRX/ujglRtAC85X1Jgbn1wd989J/7SaI1qHjPnDTZRgI6V5rhsM+0agvsfEiKiVg0URu\n",
       "Tw/leTGLn+MRTjJxgPy0Z7aFNiNp8AgzRH3zEHvmvSLNsE4nvPHazYxVkFmnc4kkMbQpcXErXS/B\n",
       "ctLJYDi4hHMoaPnke4b76bDf1ESwjpH6T++s9asdVzLaxVlA+DqfgXRVbDoFsg18RX15WWZX/Fpn\n",
       "vZROBb3T1lzjC6sBKqKQHTXygsMXAyAx4umWC4MRG6Q9X/36J6t/Difw7Mx2tkbClHF4XOvKA3Jn\n",
       "a58X3Pyqts7L+STRmBXIUZKE691Nl60N3vLwDhh7Dm6FcLkq3orgCXOJlegYXIUaai526M5NKn5s\n",
       "ag7eNrS3iejOdQmxt10dsDgSo7UdAR9daDiD/EHUcU5TDJtHFltf+ulYZxT7RlUeDgEyh5pOslvO\n",
       "ORlI1UyHPWHzilctjFbr2rpZQvolOKWV/VwIC+k+rKjTGy8QC5y+dmIpTNrFwW2reoPxEBROVYXK\n",
       "wkGxGH5Wz+4RBBcfJxxzwMZTxbsVWncIml1B9KUAa18+3gHFbaRrbNBRzPYH4scUCDK0A8lO9oed\n",
       "VggyseqzXuX+4YOFzuhLP63Rh2f0pWtqhv2tTmKfHV5UQWRB46yiYGlILZHk93aSDO0Njt22sqB0\n",
       "CPKmSiKXpzU5/LnbYw6oDr4eA27Q99rCxJLMYOCO59lbjdOVUyK3MgJwUXOlLmYz55yqDnnmeWVh\n",
       "fkyByNVU/hrc61iPIc/MKfD5N7nXHw2ZT67zAe8TivtFiNAULj8nLiPiNDH7o3EC9zdiWVon3PTi\n",
       "xXHzA2f8OqQ4Yq9rb82DuuW/9YpfeDlORpcKBvZlkxtChjYVPY6BQX5/+/jR8CKoxFziHSbkEU7g\n",
       "elGVkMarAk/OS/MkadazIlIz0g91Su3Mb8vBl+Q+fAGY2fHLWSkGAV5H8KIiGzAAAACyQZ5CeId/\n",
       "AAwG1s0lsHcKhAP2gBCRnDF8LKY6seYkAiM7jadBpMKRo/nUk7rW9yzlTbfETUtMQz/7jYR8M+tv\n",
       "g8VDpFGUTCTlQYWHnHiuGfZj8f4MADjfIF/woLSOwPmdriYvV6SDkHkYeT3y2BF8SSxc9NL6coR0\n",
       "LX6P0rACqvaQgZ5T3xZL7sTaoETft5+SODmERqCmAN2gplnijd0PM+CBEk8678SqYLnfgJa4/z8y\n",
       "TQAAAI8BnmF0Q38AENfZsqJ2EW4AIg9BtScmh5+JC5VoKa9+FN0B3xjKprKgkFUgK1cgXZaNJ189\n",
       "cc34C87bahipDbbskANSDCE7JLxS1Gyn2SL0ICfaqgkWaqyUUT1lKOU7o/cGNh6IompeOP5EA639\n",
       "21CAEXUFvlsGSeUwYZrs5aUqu0ZqFWcQLGRDQnmyBSkiLgAAAJMBnmNqQ38AAOJ28jYR7FEAE7e7\n",
       "8gWRVxGU0S+qDqrWGVbRk92LdAXdUsetXC9qNA+nxUjIr7NxcKP1ZYSRU+Jq4l8H60rbpjXiIDx6\n",
       "etuf5aN1yCkkxV/8IVHXPF65CN7pys/TU0T/yAHKxl1GqZ2B060GpPwo+zI03DhVs4BFSxywsQ6x\n",
       "8+5FVjwOmAM0AI1kPmEAAANFQZpoSahBaJlMCCP//rUqgAANlsRakigVzBTqP+MGJLoNDRIEX3qj\n",
       "DwxCRnGr57f4Dx445h1vCVlj8ZgVPixALh6GXJYIyUP7rPjO4xpATLoyPpZWgm8rOIPq+Ul+8JSy\n",
       "W5CUuLrYNN0Stp4XkaV6vFI5I0+Dr9Y7+y4bLpRE1+1nmwaeVl3Z+jUst+aT0paw/imtFmkT0rHx\n",
       "1e6PV1Yj+I8TsSDm2M04ckmj8KeVJhaPPiEitKG/n/Bk606hX0Excwd8rIZC5J7foP+avlQECSjC\n",
       "N0bRrUTlCpbacLMjm38boplVfOfyVhLOdrLtAORw8K2fnxLFqB9teBiv9F1OtH0ubejSOZBMur7A\n",
       "J/nv8wroFZEKYSlIeWxPwIoeEQt5YLP/QYisf0MLPmqBR1jFXAt7v/5apIcJaNxgpLFJQOMbPiSe\n",
       "bniMQipZv91Wg0+aUHuUkEzQhkgF77NTssMC4kY0saGwNAciNFlYZmoKYEJGexKightsipQKbZ/F\n",
       "KlRIfU1pRX92+gWiFOPz1ScRAQULPidfyuhkDAXkhX1elfSS1VBzJMf6EfCQowjl2W+c34itgZIo\n",
       "eQtLyscPlRcNKDCQdMooPWX6IIvsfrs5ZWnvEgZAjow4XsB6AtyBSwoUor7eo+nG4oNxXCS8/gfk\n",
       "hj3+ShjohwiGwnSnWHmuhWFqG2kMqkE7icNe/WzwwXYlgwhLePZeht8TVVLzLQoMR2zT/qZoUQ1/\n",
       "gILSL1txXSDOQkdcNLlu5p/3AER7j1ohtZlIMaE1emcQE6s4nC9BfIck3fyeAaPddcnFAzZNf+ky\n",
       "upXCT49TncsAoVP2+739iguXzPclUX8xS+6mh+OvVOb+2vv2etgRiqwUt9cJW57hHAyIv8ggviec\n",
       "L3CprywJFM8jFW6FWNhiTbDpQQVEzGOcPkxezJYhHuMHE0gcw+A+dSP4WhXBwfEXHpe15SV1lWIm\n",
       "79EfRYVnpz4sxh3UFJMFo4+TEln9IuZc9/SyRNexiH5qm9obl2GRhRWjcZmqO+kgJpCzr3w5nRV2\n",
       "bdY/h+DDMv/ZlY0gyuhVux+TUkuE1VG0DXmi6jYfYAchhJkYbyk7h6Qt+kVXkW2/XTqimTAxqUKD\n",
       "AAAAuUGehkURLDv/AAADABstqzySlBWNJwAcGVnba8R/wtXI5hYV2Gkrbj4tTcp0jtwJucwIKwlt\n",
       "F4v5MaXObGGI7f3owtgyNZPsVTBBMXGqcM9ZYooRLnvFUP9KKemmcgApIgMhplAlZdYSsS8nlrxs\n",
       "4GfIjR1SOPHTyr/xAXu5TaYmGcyDz4bR3wrvEo56QPbkMbmPw++pCWjOjKo3dCy6knOk6d7MYS/T\n",
       "CUfJSsfUiAEUjyZOXMA/xmlRAAAAjgGepXRDfwAAAwAmr7Ffuu4Z16TuCnJCQAlTuhr83MW0dF6F\n",
       "dXrW2v1tEKFDtShOv86Ngp5/A8F3/22iddPH29iDIwk+xcBwdLG3fCdYrJ9EM144ctUy2ks9mV6V\n",
       "ZXaXcJbWaTO5CdiIktHOeuBnyIzM8KxXIo5ktUMSj2Bz+lVZE8fo1AOk43s52AAAN6EAAACYAZ6n\n",
       "akN/AAADAAILajHFYMJyQYn19oj4EYAHFrQfn9/T4g216PUjU7dypcctNI2g16+tqqDJ2k23cRKc\n",
       "EIbA/zcyGcYb+i3sNCbKoz1Kj/cwzsU9gyQWkUowg5vXSHT7Oeab4KnkQLurb8vrL5aco670cGyK\n",
       "OUbkKwI3h9QIXKW6s67i5PzS6jvI/sqLVq1YVzkd7kMADZgAAAJiQZqsSahBbJlMCCP//rUqgAAN\n",
       "lsRakigVzBTqP9pTLQPQztwMXjZgS4D1vaA8/30Y1tSBqOsnMm4jTAnGyAAOq1xm2ujzGVG9MpWD\n",
       "uyOhhPQYA+3ddEKilbNz2Sogbgo6wN2XOagvRz4Wfa+lkawr92Y2HcvzmXdpmDnpg0N7swrJ5dMa\n",
       "oYbQXkqvVhSD02yU0h4u7CSsoAdH22qKPidxa21aGVMSvLv70dQ9czz//gNl8h+xr9uRXawdR0Us\n",
       "iUYlfy3HIJkSZlELdodGSgI+Fvk5DVnTaRquplLdcm/s38v21hqBpBabiwox0H1fBfTPrPj8RNqi\n",
       "EqoyoMnwtzKo1eJ+m4XtlgkySgoKVMhHwXuLkihvpz25eE8iTFoIf7CXNmrtZP5MZtS7B4YTZTHO\n",
       "uDXphJWbzKJ7SSuUC9Dy1o16lcrLl8OoSQMJkmDbDNyNdarIl8l/FcLrWwpobe8Uty89dUnpVuns\n",
       "FQFXSHVnAsJPse7guHMEmDXlt6kr46+Ol1KwbXMAsvCbrbK6fUemOiYshJY4zoGKhGRN36lHXXEB\n",
       "Zt3gaV1Vb34MZAxle+TOnHR/sizjElx8j4rNKeb2b85e8++JmWdydaCUX0vYT/MRmT3KqYtul+YU\n",
       "gLCg7S5Ifaj7SSfO3a8p/orwmilMU8CLl7xTvAocahPQI8b5u2lu5RJX1GCABIi8qpvfXVrM1ww+\n",
       "oJg3KdUpkIWhsbS0/M/YxwYW3/+TibNiKuFBEE2BvuomfG2SPVed+UQsM+qSM3d6brbPD6l/Ux5N\n",
       "G62ryZ2lSYoPYN+gP5w3NjYoNjosoAAAAEdBnspFFSw7/wAAAwABdzFirB4sJKjlFJnhmzGQ+ti0\n",
       "3QBzOkuZ5/ITl4gAiDht2uvAXxuVYvbe9nvVq1BN/A4xUkJCL27wgQAAAIABnul0Q38AAAMAAgr6\n",
       "zXw7On1WnHbwAbKCyR3RhtGtRC5Yuq9byB9uBzJLY7IfTGK2OV8k190GCHjNegfNzRPy7noc5rYm\n",
       "qbbWC7J8NyqldGlsJaQWaYbjsPM8BRLA+yF/GV3V/Fsicaa6XSrIUfvrFjTn7tDSRXNf+ZT+xsHj\n",
       "/AAAAGABnutqQ38AAAMAAfwoc/SUD1XBHyIAIfrWBw7K8JzKuaJZg/p4GqQ+0FsXV34mF/Aajtgh\n",
       "kzl0C89lR+Ze6YD6dZ7Xtm2gpTQZ6Ji+wMKQF7uRomqMIjgUgyITNVauDugAAAMyQZrwSahBbJlM\n",
       "CCP//rUqgAANlsRakigVzBTqP9o6do226P9jn//OLtuYg5v0rJrqnzGIHnj3CvlbPC+4hUEp5CQg\n",
       "zWRFUQjtyQEUUCLv2fbZus/8tD//bonjy6eoKFRXkKJp6qBxf5AAHYjTwysRAOiq1a7JVqHbIBhS\n",
       "IJtmE2FFc1Osp+R20ozZ0TnqnPRASpBv/v+jyqIIasvPk41u9mmDuHxzucQswv79eSvxNH7iT+zQ\n",
       "a/+HNb/wxh5fwebON5rLPnMVths7iVY/da2zXcoJfABgVGxTXli8mCNtv5BbIIqKB2fXznJ6Nhws\n",
       "yfOLVrtNIbcG/vr9kt+oUsfQ58GgOBCM2u30GE5l0PP4GtM5BRckSsEk4Gzv4Usjatez70hd3xsI\n",
       "NZWsp+xnLEI0wBv5L6gn0EJqvzZHzC+b7+vpaAAAAwB6Wj/Ss+IIwkNu6hhHA98joQkMJI0JGP4C\n",
       "0JLOn+NC5WUE28xDaRt/TRAtUE8ZqJVX4+T1OxyJyvcsGp8ubn2QExup7FAxRM3knxmzWrOPePlz\n",
       "3Luap2N5euxQKfZW2WicCPHT7sl0JuK8lX9/zR9MhOIoMc/tRZrMaSESQOmOPsBCdHlhCygVatDS\n",
       "8+RzGlXN5NIvPzU2mVRVHlKHCCc+eqWAzpEtYFjVxI5r60dbyBDm5trCtDbAA8U2lG5PB9tyzATJ\n",
       "KPzv4ToK9BB/42sHWFpYvanglVEaDwV+oYT4oOIFAoCxbpk4ydL3SvIPHWnsuaESuxUAm+AhQ2xs\n",
       "Ech3k5zeA5ysBklO0y0FA8TLVzM4lWh1678pBzEyTB0s/qLZyevShb2WncWZFpHXhcww1TPGPAYb\n",
       "2SPDgX33imLX2SjitE0T1218Z0XnU/zdaEtRA/JdsuhC7ll+B4ghTq4fI5/ZBoK3fbVT8YLesKMl\n",
       "y9w+U8XCkUcvqiEuZfDXXirFoNihYyJfCvlvWepqmDLxY8LL2SXKRR1at59O8VZMuJ2WHCtSJeE3\n",
       "KXUuf7vElsgtg8ww1kpDrZA/F7WYvDjvrQqoQ1kLHpBPd2106wzX9sd4axxntwMXRs1JZK5J10WN\n",
       "Ao+XOqM+gMEqKqEAAABPQZ8ORRUsO/8AAAMAAW5wvmbzmxXnQS6aMnUdQZbjgM4e7PhFuihNuTfc\n",
       "m9AgoAE6pH7dNifg6xBx4pNr5V3f+lfMVvz8WZjNkebeFcMh8wAAAGsBny10Q38AAAMAAfvTtAPo\n",
       "5HX3oIAIcRMmvhyLnfvDh2bG+t5A+2+KysSAF9pLD3sPyRcSfRZ8sMVg22Pv2xIhARvFrmRGTuoR\n",
       "Iu8C1NKByQHoBtnxpReV7pK8udgYUuzUw8J8jGd7boAoIQAAAJsBny9qQ38AAAMAAfwodEZeZzky\n",
       "ANAA4SJnJ8rpWp8LpfV8zPc4yIHY9ge7q6q4gLUR2YaV66x9SKEkD2t4AL/38U2H3MyyMJ/5wjIJ\n",
       "G6qJ/4MaKZa6jOeohmm+HErDWzi38DebuU2bVNFJy+gauNrYhI27BRiNICHkMxjttimK2Uh5lxyl\n",
       "xfmB+0PcuKpU6XxuqNhG/p2T9isFJAAAA0NBmzRJqEFsmUwII//+tSqAACY8zfwZWogBXVeOBonl\n",
       "0VPduSWJLK08DiV29P+f8XQXr/X1SbcqYqnoMtF2oc2boh8TzmqYI1ajZjPs4XinrqozfNHNSjyO\n",
       "iJdGEgkHVtt4WGfQMTvM09r2dPExSQ36UtnElBgQYbxWXGBYHmUC3flJDrV19G8AklYfJ2LYvxRj\n",
       "EltVXLBeRc1jLCXpUvszLjwXub+CZepYlKFam/yh9LEiG1en7qp+SpwPaLHOaf4a8davuKfFXLFf\n",
       "Fh6vad32PAE7TZv5fnRmlkVSaiEbgSeoezjllHq8oPpDXfQ9BNo7OoBl9wM2iDHQ8BDuxbwCPwA6\n",
       "/0e5LEPitkg1jdwSnB+2uOqa6RxVa06seOnLy78noO2HjiOwI3vqFKop+/a1nCBFheKfNiQ26ZGt\n",
       "HrKMoT6kesHgk56i3+s25MWDIXqNrNHmmDdKzA8TzkZqUG1UHe3Kdl7IljpAAGyIrqu6cvFW2MeM\n",
       "6+yn+ZbTy8iSobJXI2iCDGTtBxcxKSNJykc33ms62thdXFh/o+ZW9Rcx4Jb8vsBshYqKNDBsZZmA\n",
       "AAPlNArap0WdgV1N60c0a2TvG1f/++UcSC9bVe7a3fA7PXJCJgmkQyQK3V8EJfeYj7zt17WINRMB\n",
       "Vs+Ud2uApwjBkbmOy/WGfq0cs1/XXz/FFLucGFFXRNZc7If3xu0sB4vgqYVDuJzOlDqliQmteiUc\n",
       "rgV1uDfj4P4F5y5GacdpilgUs6DtBOsZSzrBYk7K6gUfGHJATxlOgtQi+kzUyz7g2uo6ZjVULsF0\n",
       "PDtsolWm7sA43MjU75dwHA9ow++36mJrx5yUpnaIxOS1hj7H6e0ESpFkwtQXDZvqHlsef+TlymDD\n",
       "NcEwqPf1zqLDUZO4ybKnEI3EE2G5sId29wrflgFvIx6ubr6Zl7VbXUqwi50CkDWDSlAzSqkzXevd\n",
       "U1A4ApL7ZR0o2c05TMgn9SWGSQaI1pmGpgkB6wc+QXGtVIzBcOZrd5PemV9dUb90ccwtfjfMvExs\n",
       "QUOj0Tg5Yd3aTI2y7rnRAI6QKYwpRt5z55QZbYYQcFOxmgSvGsXShi62U+a/QOOovUD5MXdQj0T9\n",
       "MbHHkogYAAAArEGfUkUVLDv/AACUR/Xpy9jg25bdqhX7rryACavhpXKLa50F3B/TuMsqUP4JdI4z\n",
       "hT3ClRYtDQ74VORUvd71G69RYc4GEUcp2BejIBE3tHmyViG32gWOEY7MfphNbsTrKDstB8Zg1YPd\n",
       "ZuNH3yCDHraGDdunj/5NawV8UsQMFrhLJwxa+ADzU/SvuUozxKElERuvvsNuq1BqgBRd9iQNaZeG\n",
       "FVyA/UvoEtybOW0AAACdAZ9xdEN/AAADACO3jlvBMPtL6z0yqni1MHpQAFrZYz4HKmFqzykRFVWT\n",
       "7akE1zlXipDFRBf5AbipSBzQHaMfHDjsGE2ElQw9YoWLdOaEVFuU7TjFhNxmBMoiFnifqtkt0VTv\n",
       "Ashf7tg8f/Jp9FhcZAE9DlXpsAWvf6ahk0r7nu+oK5v55CSwQ0GMxLzGBTICoOuNEeB30d4FffAL\n",
       "uAAAAJoBn3NqQ38AANMXSY6YgK/cwgA4tCqwUb/N0Auwf1xRG0pVRh4nOG3fYNuy59nfvpWLR7NR\n",
       "ZOA9spkbvBmMaTm5/qLhJEYrdRlkHRm8ZUdxw+mvgL/WT2LlsPeftEuWJ9+Y5931XI1tAn5m7AcR\n",
       "vr0Runb+w2WeH1pRP/IrKmrOG20FFZkvsDvEunJc5lKJxxRkfiTp3qAd8CbgAAACP0GbeEmoQWyZ\n",
       "TAgj//61KoACuFP7QBNLhi4tgLH/vQyDDkGjF/rhQzZtwnpdart0ni3QSF9hBiyWo7ZTBnALwD/t\n",
       "C1wqrCHNLZS4ne6+OJmg7/7/6lRNjracdUCwFZ3IYMqjNHquXMz58cHijN4V5DAR8GHGL5k2UBO6\n",
       "0gbOe1QOJzHSfVVHi7Sb/2+40C/5ylkgjYyxskzYdCo5jymGRcu/jrMMJQ0vSewc2hooUOxX0CuJ\n",
       "CHH0lE/4BoyEzHRbitrBKWL8txIEUyMQPD+qGHHAKAxA+upP0lwtCNAiDAQSW/bEF02yI6irRs69\n",
       "ZFzw4vz2SlYzuY7OwdCGCiOGMl4l/ATkIALdGOGx/SBy6YytiIv8qChVEksfP3dzEfPp21GOOOoa\n",
       "Yma0YuWS8a699D+1QYtLT3NMR9zTvaolEYj3d0s2Ru5dO8AK1hK7VTAVKl6LPhoFQ6NA2bWEgZLI\n",
       "Cm6PJN2wBYSdEeCcBySb5/HJRDS14T1CkJIOeXehDOxRiY2qVkCFq0SCF4wDfJ8Ni4EixxYPNiyX\n",
       "sTz/if8MPEsYWPZtjIO4lY1ZI4EZF0Tj3W3kCGpM7lCLvI2Vbj/0HEv6cSdb0IjhHP8moHR85ibn\n",
       "/xIL9GV+PEY9CxckEejQqb9Z8ljMhWqzh3LNaadHVvtAxtc2cNqMMJs34WmBFEPET2/0NJ0enUqP\n",
       "kTpGz8w62w7eIB2QCDWjWhyE4LY3grMeaPKwODPVfdBezgbUwrPh+Ei9+NwX7/+Pg9mYAAFTAAAA\n",
       "r0GflkUVLDv/AAqauyXABzZoXmfqwhU6ydFlzM8mFXwdK64pE5SCEQe4X+xYHoPkO7aKzJc4U1Am\n",
       "nQFjXkx284OBA8DDF/A350nDhwVSxY6mCkv0r2iPkJpgkEh3w7wLfmocJ7iX9GSvzCHG7Q0wHcoG\n",
       "Cai10/bzIinTL9dm2eCOG/6WV61eww0QJEoZYMABP1NqxgXjldi6M962ultPWxphbYSsUhLkLAxs\n",
       "HBzDyLgAAABxAZ+1dEN/AA7Z8d7aMCA64AWwfMmyeoPtN7P+KAoBxq6HHxraU42HPh37ar8DvSM2\n",
       "dFdxE2IQkegzBbcWXjM0VuauOJtuzc/8Du+yboXRs6FIau5TkpcZ21esMqgf+oTmC6KtUKIALFUf\n",
       "ggwBOu4Am4EAAABgAZ+3akN/AA7XbuoDBWwAfmszVMg99eneeiPq1Nl4mjtvKBMV064lMOBb38M6\n",
       "Mb0iIYKQdSrbnDt513u1v7H5XNtxxoZyEYlnxV70SvMVJmUX1zkIAEZE3WNJ50IvoAErAAADB0Gb\n",
       "vEmoQWyZTAgj//61KoAApRNXoBZCjy10f2Ga3F105MXdRsFKLnZNYchiOh/v405O/+OpgOF00Kv8\n",
       "7o89K3wC1j1p/XV+DUr5SVjUXl530H9pdnd3C86YP4oWqWB0RrL8m26P2inTzrbD4FR4dM5jFmU+\n",
       "DzXd0XjnkYbUCEdtmLdVACa2gDHkpYF7APa/9fW26RDLW6S8Or0iy+5kjTbfh7C9IsuN2DNtHcBr\n",
       "j84gS84+Uvpilo5KvBPkARo3JGOUkKtBMi+DZ/zDuh+AzulWgkJMhMJLB/fUBU6QzbGPYcaMuBt7\n",
       "3NNPHam04SBBLOfkmBgAzjtbVKnB30utTp2+Wh9zUW5wGQZ8gDjp1vHYNGwkOLl+RuE78iECrKgz\n",
       "J6kRO0nMcHDMoN/XT2ml5HwL1DHyfBiHspu/UnGLhHr4FP2L6WlcPG5OyDPbWRZnYEXuRWe9d5ca\n",
       "38M1jD/spn4ECeNiRvAI+PRFQUs6YL44MEvP33VN8xvPcicmaSgNiqq+gZjPfa9ZkwFsV9Mf9GyM\n",
       "rZWooucZ6wUOAFElogmRSnjLEzyalm2OOguPAbaYqsAg1d0rxpXLG05lQLTtNvnsVPOb0irfSTBC\n",
       "k/7zabgkMoZIp4DPZ3cfJNeTCfpsE3f496wGq0ETxLuimSRcCOQwdJJkuAIr7k/98doRhpWNQFFp\n",
       "bGAoDU4vbKGp3Z1Z0EiJtQ4p0A21Q7wOX51JtAwXBJ0meti1kzBOEK73mBq4/FAm4FeEUCnYVOQP\n",
       "7TDjwyrbzsrO1JD3pSTBfbgBxwCL02WIuQZbXOA4zwmtfQ/AhTc51mPF+X4o9VPpFd3jhbPJCB0S\n",
       "2hopwvxe7Fv/NDRP9RHP051LdCQ0xxaWye5qWQ/k6bEUVC22+701/TpmkXuNOdr35Kx1g2VNKcdD\n",
       "Y9w4Sb0Kb90n/ZhLEMm7G+DblK4k23YsCY5czXaFyWbNXb+S4YTxTqg9buCGWf6Fmcf0afxDfPet\n",
       "0PjpbmF1RyaVgKFG+82D4YLYnyVrQdLwtIMRoSAAFlAAAADJQZ/aRRUsO/8AAJA5Ps7dkm6AEpZg\n",
       "Aogr28oBIKl40EgORIaF4fkI5t+0z7cY+OeWpmaHE6UgWL53XZSJX1/d9IGQDfajl9cvHZxgNDvv\n",
       "bMgkjOxnG8qfUFcHRnGaECnwmfalY5VH6W5C2txGMT+nIMPLZ20tJk4XYfM3DnT7RIl0t5DXlAZr\n",
       "CtE/UZVWIteswEUrhnQN6zZp5xUWf/ac+wQSpeowdDZf+dTe8oMsf+1PasQ7Gu8Aah43GYr5fH4n\n",
       "TFgCAA00N+j5AAAAiwGf+XRDfwAAzfV4/X2OYPcGAEtT59j737P7UfEH7jEevHTC3CiGHVN21GO+\n",
       "43PFVW5xJX8TZPalbRJbasdlPYN7ESa1m3ainPX09u0OPFI3WgQZRr80IpEmnI86/xiAoKc4dHbt\n",
       "8FYDz8LVhLNnuXTWNgGZDhnxpVQQBjkKefUAgrYMH3zgABcPr/AAAADAAZ/7akN/AAAxBdJhgbZp\n",
       "uqpUHggyrfoq8Uzm+pGGeAE6tiJ/KQP8q/tWJmfrFW/L4amoOGqdih2dM5+tI7wOUIV87uIj75qh\n",
       "cfrcsGRl/usIBm9OmiJCE/RtU+PHlHX/OyVSrP7Mtk12BQWR9ykoyPEzq5xgGUzHh8Fc323COQnK\n",
       "V92F5ub/6UEfZDBZMT4R3r+WqMdYRnc4y54LembQgUXhXsLDcGT/G9bmVPrisU5tioctAft+2K7y\n",
       "MABvgKmBAAADPEGb4EmoQWyZTAgj//61KoAADZbEWpIoNFlnBohkwU1CVQg9TZZfogFGTxDdrQ/8\n",
       "xb8p2AuwNYlKlXLJnZLSSa4DxKeJ6QnIEg2Q3wM5GPLAKFS4SrXvsg3O9SB4Ote3+DSPvnGmB/+I\n",
       "c81bNG2bSnCmekEr9/vv4NueL4ZYfGdgLGfZqb+p+JYZ6pTCHUNAhlI36Giyng0bkf///eY/2GtV\n",
       "TOkJbl9BF5cwdzaHNoRo6iSB1xo24Y2bfFu3Lb8coxHdPstysYpjHqb2XKKCsavZBBIAi3VqSdL6\n",
       "a6A8OkGqq8xaJAwVADvoB1tlnJpyXOeO2TPnz/SxUoISrzTtLNQu8hxtb8qjvTq3Qwi3Rk6oeX46\n",
       "TA4Y8RHu5sz9PV5UrnU9lhh3IeEy7f+I/YvO4O0nNXdtnkjyGDUOLwy1/iAk0n96kBmZ7jGNIfGz\n",
       "lDV+Jwtotp0H6ZQrv2CY+OTeYyByZPmQrkH+/hpYbUfgNoLhasT2CzcD7f5bL8l9b4zff2Cl33/l\n",
       "fw86/yKfftp5GUDXGU53zGID3BYm+VmEf56QJgGNp1uxv8TdmFvxqjJlBBfXBgy1eZQHItlp7Oc1\n",
       "YYr+IVjW9b2+Ofettodq7Wp0Sq/NEFg0FCK/t46AxSa07Km52dlQWrNKqOjaDaDP5mGlA26WEDVU\n",
       "KcFbMgFR4ejwMAfjuk17Oa2ajlXUZJpQsuM7SZ0+vsnCxJp+aXZxJfJ1wq1Ht/H6QXPEP2ba8Q94\n",
       "UHYidm3Du3JSaiPa1OC14jSsa8N/sWMSm1GMAUA4Pbb1UYqMBQ2CRN7Gdeuz3UYEVZFHGXZlAG7X\n",
       "iFL6x/KSXpdLtMh9k0cFsL2H24Io3GbU5tuovAJ6pEZGA4xdIntxrYTIWS/yYPyOiE480gFGrLF8\n",
       "TFIEoif+nssj0rhUICPSn0Kh88A+JpXarFqJQ5etsS/XoVmZ1dq4syk48XGTixzUsUcyYGSWdTC+\n",
       "rB2wmDP486jFDV7Q01j/kAzTc3gQzZU/8EM0a6OzK97KgyUossXjay4jP/48pqDeVcgN/eRJzkME\n",
       "MWi9ZQm3NvcE/YcVXTq0ulc2LdjhWVhmfSJJPgWXBU3rPVLXExOCgwAAAMtBnh5FFSw7/wAAIg5J\n",
       "s/+uRlhWDVVzzGO571zU4p2IeXy7BX44tWYAAuUL1SczJWqBjZWC8k3OOPGQK1xLADDOFW5oCawF\n",
       "iI5cAl3amju2/4Ey8JCliBaSgRRXTXgHGD3Pek4o5yFgDYayv9BUrbLoVGCgo4In2i5kze/4d8R/\n",
       "hPesaYpjvhve8ZiacC8m4rMnM2TTFZQApttwUveZiB3rR0gOwLjWQAvvrF0IO/xASLNFAQN9gk/a\n",
       "YCUM0sCt2tqmXvuFqiJgTtR9BwAAALABnj10Q38AADD9VS+Vm1CCzbGu5HOEGjXwX9TZjE6gCt+8\n",
       "ycmzCptdwmjQt/7ffOr1CKTdybjMaFUOogBVJEnv/JxpdkDdYQDN6ZYqVyQhVhzQvA1IyW38MQVH\n",
       "uKxPqaXSa1INOCjS8qFx6TbIvLQyNqMoUWyGSS3lbNurN6q1E6SVAUbtblIE3mB8ROGrai5HdJP2\n",
       "1t2OfJObpNdw5kB4H4JeWVLdGefXggUb+4ABWwAAAKcBnj9qQ38AAC6PQWtBZQWZEmFODo7Cy0hj\n",
       "gBEYAARB6CzkfZ+2pl1pU3Jb8COkelEeq4SMXf6K2U0LHiNwkN71WekiVhdfq2S4BZ5V9QBfHQ7Y\n",
       "/k8lK2LY+jgCTQH6jfTu4oHAOFRJ24KJlIcM+jRlvG64Dw/3Ye42fYRG3JUmUWDGMSMuiG/wOb3q\n",
       "RxC9/0Gii0+OSWz1ZdkiMiC504HF7QMKeUgdMQAAAmlBmiRJqEFsmUwII//+tSqAAA2WxFqSKDKu\n",
       "hnjEOJAGbu1oefLthVasFY2/119l0qvajkgqiJrFqLJm0+5bQ5mt7+OMAJQmIuJPUfumSFaz8rPj\n",
       "cI+BaJFbdWq8FBDWUNwcieau0JTcwp0zb2qJTCe3d8SsRbwK6D/Hot12QETn4rVh8nEvgx6MeMoM\n",
       "G55cw/GXYWJbT924tMa+t9KYJZ3L38Iow5shBs5ks77PDzGnrQsiNeIlUFP/+KOa6fvQK0I1Pcw1\n",
       "M+8KUS1SXSOIPlcB7JzSBF/Fob3BSfBOOSmX9WRVE3DA7sdPJLP3HasPbMOrQrVFu2sBmcJTnM+F\n",
       "ErChu7LS13s8Y2aPIUMi5TNjBWiZm35uzUy5QK/0QCh7sHbHr83NQxUFwyQUI2qI/URABY+5lNcH\n",
       "mYVRb2x55yjKGBR3O0mkN0Ssq5kEpb/ZH1NqIIC0uWZ/093U9RZS1WQ1LWLqyEi17QmnDjTP0ZTk\n",
       "EJsmxt6+G9QpljmUV5G4Uj1IKGJCDyKrhoPKf7HtJcqu4C/tsbre5GMwcqX7+cEiHFmSN5mulEc2\n",
       "qQDhgQi8ynWKu2TdVWCQLl0F4JkLeIdTlr96c9op7xz50wZ+5tuJf0wtHHBP8XcKgCnsXV5n1LXl\n",
       "wBsQfWYTLPAJlskFp9ce6W8fWApPSX6PwDqKepHBGxftSbOuc5/frLFgFx/pgZZYmqqrEmrkBzce\n",
       "AVVcWV00BrhsN6RSFV079cctq/7tRgcTkQSw///IFFJ/6oYeDx+PWZS6JFPp+gUNaFmQAB/LOjUX\n",
       "gVGY+jUkKgTlswBE+cIBA7cEJwdjgAAAAI1BnkJFFSw7/wAAIBSoUzndnE238OlU/J8sR+nojc45\n",
       "XgATrXep+1VvppUEIMlL8G3MKeAqVFI81M9nm6vw/bPppbqzqxmgbvT/SpGAG8/bZpaYLDYU4ugS\n",
       "/+8xDjqxu5Fm3oVTegIUA6DMekppvwUuVujuu1uRja6i3olG02bSPRx3DGxtXm6ztO/bwcEAAABh\n",
       "AZ5hdEN/AAAuh3skYkKN1wcFQzrkqmKtnSK9wAhOtLvX1+8IsHtFknw/00zy2Lq78ShQljhUSKK7\n",
       "fcC4xbs7taZUkDCc7kpFE4WYAXbGvo87Oja43oPR47bXCE2+GZ7q+AAAAI0BnmNqQ38AAC6PQWtB\n",
       "ZQWZEmFODo7CyvswSkACHETOT4xfirl/z1ysIlUHI4HCE62JDcsq2jQoDjW+EuZABRAlUsmoJPuK\n",
       "Q9NJ9bVAqVHbmV5PCMW1NlwKTNdWenDOIyQKI1CiCKBlswLit/KAxaNn7Km7V+PgJdB2k2FyvwoS\n",
       "mZcE2YEF89NpA26Al4EAAAN7QZpoSahBbJlMCCP//rUqgAANlsRakigVzBTqP+BfEv8GV64O/f3P\n",
       "uXcuyGXvf5I33OEyqRW8k9XsYLrs7svjjYckPGzAMV6tAnQYD0H3fOI4z7Ilo/eQXYhH+ufldjD5\n",
       "PjtD+gRjyde8YoM2og4I+udrTiE/2A1v1BjZ+lzGhTImrzfO2xbsO12U9qRsIEDgMptmWjwy/gMX\n",
       "0tWm5YtWnH2fAektMfp6q63LmtHoz8R3W6MROPUF++nZHGiMH00VHnICVtGtA7XUa46LqSgvWo3Y\n",
       "vAUlqbO1TB3vAYdMxGB3U9f3RrplnV8qGsXpjZN+O7RXafynKOHNFFW7/wPDBT4luVu/9apq8jvB\n",
       "rCc30d4rCAe1o+bJstacntKcX8AJOef4xjdhz4giYJeO4GCQuC5W3NW6VG5TEUHsTW3bj0dBHrQK\n",
       "GRdVrlNuV0mW477lAbh1XnCKt+r7SowHoopXbgArGmKqUhw+RdmbbEiEmm6spbPLkPtpbLeV3QvB\n",
       "DeOy6pfEfESnuXamwsg0tXPqBL/h9te3unyheRRga6HkPNjBj5ZA/5HCBnpRYo27aCeFyErs+O74\n",
       "5B9iwLHxDNuyt2k+UIFI9/fzX82U724IaQevbvEVsB6O6BAtp3bfk7iH+9bEUfDoz7rXM7fERmbe\n",
       "N101uBqigjDSVCD1Y+kK0rQFNSWvO66v5BAYN7Q/EYwPSmrZ9+/iNoWxvkds/DKsCwypwjbpS2B8\n",
       "EYD/H78vgDNLW1eHxiITSTSOwlJXgPUOnsQbZ9eHAUoXKK/78atfwAx+waQ1Q4D41IW61E6dqmri\n",
       "QM1sRmBFrLLSgYQ5fk+fzmv2OYtG1vMqe6MwGsNTaKbHSkDPu/yGeA1FCbR8Cn9nOXVcewiu4FQ7\n",
       "6YeUuTA3SFfEUe9xn0/CRnqu0SKSsUmjOyBFR44LduHC7JDAVdDfZjkWPd+4KwrXb38KJELhuj+G\n",
       "iY3k+3S6u1e0ZJ13tJmp03mpjH3NBpSZi5ZoEw1Fg5ukrDIsactUD9JBRn+Sj5xZeAYjbD6qzW3U\n",
       "N3vLHnqyaaiZ3NGvGELEeu6jvBGn0qgQ/4NDD2Rz/WJPmjqVNIJPsSmc6kiaLyB4VFnPxisFJJY5\n",
       "pUy9g4feq2nqDSv4O8aq2tg6oAzeQ8cRXDAPQlRYMzsJWncoeI0sKf31gbShypo54hGeEImBAAAA\n",
       "0kGehkUVLDv/AAAgFKhTOd9FHy6WqphbCJ9K3ZUKCAepINX/0pS+Q//fdu/Y+AEqj/ra0Q/0r4EB\n",
       "t7qtqnnwxdglP0dPCrQhh0D16LZMiKmlKHNGfl26baBtu2c5GxJd+ufkyZ08GTWvGzofkh/CRO0b\n",
       "stAORShDYCzl8vt8kBITG7/x7/uKycfiOVTdqi9Y38ryuEuUCbIBKnowaiqxD1v/zy2YmX5gjKTQ\n",
       "HsNRyRr+/nePdjUSd3bu9v3+KvJqyYc8fJpdmu1xkZO0dvPGo1rAgQAAAL0BnqV0Q38AAC6HeyRi\n",
       "Qo3XBwVDOuSqeLHUSZcAAcb0FnJsuAZ35GqAX1GB3eRYVBYjjCF+th6NOgxX8ulLrvBnAS3abc/G\n",
       "045+upu0PnUxZkhOYWNW8Bor/3UQhSCJX16oLwl3AIx/h+G+9nYLXEbxWeh9bdciIi7zXrHXPUZv\n",
       "xmMI4Fpl7PepQc6Bd1TUAVucYOfN+4NKm3KGzxrXGxnHqlljgulmetSp/7vgmvn06UblgK3+AIY0\n",
       "sp9WC9kAAAC+AZ6nakN/AAAuj0FrQXRZkRptxPTB2vcBoFT/6HNIj7ZeAFhVPRtDHZ0he6hSzRIP\n",
       "m2DD3NStTgvoQZyCUC/GXLSnUuILBGzStrw33WIAgMh3//YnIGUJfKf36dUDbrGGPeRAzd0YscO6\n",
       "rfXjMaUQJywBEFaWWtbz4I47YjGWgAOZnBblKuYV8d69bpbop8MjAK6IsnYzV7+HWODOvl0TUN7n\n",
       "eMZ/pITwzofqhscQErWYqsyT2cbrBlFr+agakAAAA0JBmqxJqEFsmUwII//+tSqAAnDdSwArVwxc\n",
       "V170jufNSCx0d2fZvUoiTvh2yIXdL23nQ9e8QFEUqR0u45s0OQC1q+RfxHY5E7qQpjzY0hJwgmoC\n",
       "vM4AycMac6VkK8yk/BmV75UKba52dcU5PGFi+wGRcqtPCvWLipfVN/owmpK2WhzK9mLe6+Y0B7xE\n",
       "Je9MMLbeBhqryDvVaJQCgAgian/LR33hlFFWt6zwoAUiUVE8JXZ8c4K+f+BnivNpeFZT0ejOLBS4\n",
       "FBn5EfjghkZb1d3USPjC2ddVDMel2uJU8QHu+0+umqzSR3+ND9LjzKqL/d7o+g96txy/qKKKJIMk\n",
       "Ja37rzpZLvuvJWNVefWRVVdsI73mdsdoId9lznefF86OvD8K9HiAFEGw56sYcxQwC5a7rAunhBb3\n",
       "nJtGRlZhlvHPuEIDS0WOV4xpFp/SLMCgl99N125bYHC9+YiGSRQObbP6I6AZ5GYZM7mma5kfHaeP\n",
       "npDrSpGfapT6LpM73NmcCg5smwC2VHniJt6gzxLm43GTWmc3aio+heA4zNcZNzNzcjoRcsI63SJR\n",
       "6mc8DD0d4imZp7zKBlFNfgn8SYPAz+AyUbr7BoJqhde1xel6YCbfFvKiIOnjebPWWUbMdbYU9CY9\n",
       "Fh2iQfS6fsBeWwFnxDGZe1RMJr3ins55QYZ0L8X7rxYvF/XDXvQcxaiV1HXV87KCpg0ztCznqQPK\n",
       "IKrRsEsLQtEJiwokuEbCqrhTmYDt+UY6JJX5pjbXxIUKDECfPYdnFXOE5eq4av7n6+7Aq9zdLEjr\n",
       "xaKoX9PQmsvN8FgmW2X+Tke2vlAea78hNfxhC4WBR5/4BxCF9W6DOOmPKz2YqOCx4l/YxyDbDgFG\n",
       "aCvbNLJwHdI5anvOZ62UxDoR6ORjve6sEWHGV4JO+eAcbg7HnlG/jaIIXkdP7jSbcZPmNvARIuqc\n",
       "5Plpf5CCNP3afeD8f/qJoIIx6ybbIOFcTbs6Veuw3jZPNpawYkuxXb/29mQCd8B917zgXS9awvkn\n",
       "L5fFoeVOU5x5wCl176WCUeQCVYRCTiHWiDkXTpzQt+q2fUb5ZZOt+IwKNCPcPsIOoLfU+PUSB+i9\n",
       "Xa8S7AFOmmIgFnAAAADUQZ7KRRUsO/8ACYR/9nHdA5hHP/Ux3LaAFlfZna/jQq+3z6c77xDCFz48\n",
       "7/y1K65bJj2de9OJ84eemkK60DpgySUcgP2bBkaLcQym1qNPr0GCX8vRE1kCz0oxtToZ0CWXuOSx\n",
       "unpM2dguVtOtqD7sI1z0NEnQbSx5Ko+QP2u2BDRmSnKAoH0fHEu02zeJ9wb9K5lseCeOwh0LxvuB\n",
       "POgp4RisgklrxqR0AbhCceACtIzS6kgk/f9FYfRDm4Or1wFGk4//QXhD6m0zQQ/NxJvoqJj7CB0A\n",
       "AADAAZ7pdEN/AAC6RK6SXjxT5f0r5ZKATU0wczizT7wNE+FnPpVqUHzGDOdV0wnvzVVZQSNIWFwP\n",
       "apMjQlZGCVT4+M0ae7g44fA63B9EJHpKc2UQmAyO5C+oRcJppfY4yoRlFmooIp7jcTUfRRLi5Ywo\n",
       "/77/GEOsjl+Ic3UNYGehVy52bwhXJK50ff+b30ZURH+mpYcNLz3JmvbJ4hIy37WPVbaynBeI3C1+\n",
       "OftrYFPb7MCarSP6OhApdko0flACAgScAAAAmgGe62pDfwANgXXvis1XNmPAB/SEZm0+pY3d+hxZ\n",
       "2kPD9QnShcnV+fSPS3vPIHfBtjF1h0cfr9rtc4XVptEHnaPLVioEWTrADZcRXuxR7LFagDUZIhcA\n",
       "zalNcz3Ld0WVo9DAHM25iSxQDfY2ms7uOA++UJCKVlaaj1b4No3mDUWZg0EikNoVQM443El7twzK\n",
       "yJC1oeWPQilgOOAAAALvQZrwSahBbJlMCCP//rUqgAJzmEVJACf9HX26kradpQfFCAyUdtJd2KmQ\n",
       "KUKfLx14JsuBlwZjr/dmGdvj/Om7Ch1rexVe1gLhkrr8dT350E17DlWFO7YAnU5dzHf10Puw/jvh\n",
       "RrfKfKMQaL6kbJE5PfIZrAcm77JSAEIO/ZaVC8pVz6YLFfx9vzOf9gSTxhfquPAiiMb5hZjaobEb\n",
       "M3BzTtyUoJ133ha42cKTIJ6sGVHil2rq6LK+BuTK9WAEAH8PB0YPABMt2f1eCUY9QHfyIsjq+fX9\n",
       "TaDwELs5Wikx3dgz//bdIywDpbc638zU9mdNcVCEoJwOBYvbznNdnyuEfhgs1H5kFS1vr6qf7iLK\n",
       "cayFJFD0rlXzSlqRt8aHlYObPYAeZr/uXebSk1HagLcF9pMIiT8Jvf8WQZ26l3y3ZvdLKcacjsG0\n",
       "xK9LbX+B3Kq8eLsd3j9o2fjgwKM/MaDQEnppt9WahOzYBfWjDwtbCNrvj6q0H4Ivo3ZMerE6StsY\n",
       "fP4e2tbpzGviADyga1CADeXEchtrd5VYF3QOpE67byzLF6Hv89DrFQKPDIVKeQ842GYVPftNc+ph\n",
       "z/eDVMLGeiI2AvgwZVEFiw5XF8BQNXofUcwQPOXR9gmDoTF6hMtEhvkP0d7Lv6vdiXNvSpTTO+jq\n",
       "m1uSaM3rhfKEXn8jb4860GYVNqf7WDMlhodL0ClYzt3b7inqH7drwbNls/TcsxbNw9KwumJK1yvp\n",
       "/8AvIVSHcpBScshaujZ5Qdu5wjWU8NcAF1gF5/dplFo5P23sPCWpagbapcBZko7sRj4uBovfaYSM\n",
       "QXRCT6Hsmf9MqI/Lu8D/+6CNPtc/OMvr8v/3fehExfB58+ZhxyMFu5mPGpd2GcoeHpHEbmGGKdZa\n",
       "q6hM68uFXUqQ3mEEiHsaEoYns4PLhR0ylrJ67z3++p83ROQacvcZSTLMJiI4kzheSVRsr28s+/To\n",
       "PLr5KASrTs8/zBDCiObyTVgNLAAAAwDjgQAAALBBnw5FFSw7/wAJg5Ps2L7WoZSAFsINK6dTFzST\n",
       "qkQgkkntouZAG3+cuXR539U7a5qVhW92WPesUaU7QO6ZNObay0nOCtdIdAhjjR1gTiVWuHuf75IJ\n",
       "+r7I/Z888Y6P0GqapRdezzP3HBgTvF/eXuxQVZ1qonQyqEgF8ELxDWANnbTovVIyrGLNdIt2e/Rr\n",
       "ey0ek6wENwZhtdrR5R17jpGGHhv2lE/7CS1VUljmKYAfMQAAAHMBny10Q38ADXpQPPflzsDBDwAa\n",
       "uZjZs1tA9AyHFR32d/s9fthwIbWg/1u1If3OCiFv2V+f+xnTdoROyQTURxDnRDnkzs2uzsO330aP\n",
       "6wsb4D48848wmkBkl/N5LdeINZC4eQBBV4F2iChUdGRmi8kMUHBBAAAAzQGfL2pDfwADEAF4hBBL\n",
       "nicCc/tYCxAwwAlw0lGcIXXEEujYrJTrrha6HK+s0GSTrEsAIB8pAQoPL4mkpG9ddQfIT1JZgy7v\n",
       "vnd9w9ZTErUVS2MBb60nytciUBJpDARJ6520/YaS6jaDJN5rrOVXuMCR6MqqPw57l8J1d2GVEIaU\n",
       "+3n/wwH26ubl0G0/OTjfdEP9gScQX2Eop9J8DtEPyQoEImvAj3VIfOVLRQqNNV3Ua9vNtbrX054f\n",
       "lj/wAXTFwND6WyaQzYTNOMDgl4AAAAO5QZs0SahBbJlMCCP//rUqgAANlsRakigWeHeHheDy8ugV\n",
       "EL1t9rqf+DrOUDoDL+gUG5Ob/xR4hUgQmzXTo0UA6YE76o4w8sIrPH+FGJAt5871eWeAJfaaVP+/\n",
       "27/o+Sg7hm1IsfVUREiCYs8gXPg/mrqLywETVEHRlynCqBPD/vwiQRAT8i5oGZhSr2mgASAt43tQ\n",
       "8oNksU0nBJRGLQ3BR2Syeub/E3Z/HGDdsN6uYO6/vc2ErShXPS4I7ZmKDzVzd9t96fRCknz1LN41\n",
       "vxcyDZAS+ei152NkVFvaetgKi2HwfC9PqW7R4YSeTa2JRjv/gn32Rb1EkMKKX33IuE45Siyelc1M\n",
       "kslvxbGRl20IH/edkUtGfXFaUZSNJJQWSVJetFK9aUJLt1x+2T1Fiu3jo41OE5KIUgwu6BPAfjmU\n",
       "j9T6b22u8d/PCWrGYJ0Mg+d+LLLj/u4VRSeJ/WT6hbeb22IY4QI3VToEWdhK4JffvBo+8Hld5T3n\n",
       "O1fFGdEjNvnA7E3vxA/0CXqjXcJ7Xf7oC92mqZrJtHJnoO+84a3kytzUvhDxmdcB3evTqiWze+fJ\n",
       "qWGfJZhHPTVhxcYBUsq+K4xFRuhyGf0y4U40Lxi1JqNilPpdoEZngNzMQCRBHrMAU1TiEaYKAPSk\n",
       "bcU7MsvI2g8fFGm/8EGl3H+EJzfEDmiXgadtiKhsSvFU1pTu19PSTsbQAgFyctNoRMPRQtqFQBeX\n",
       "SIXTD8OeoZcIzSc82FsH/pHulaf5SRMP8wp8JbJndy5dbYPajlaLXJUB15xoSjQYkvs2dqKwQwQq\n",
       "uZgTmPkz2edco6X42FMxO71+ICRoSMPaW1pQ5TFafe5a+3/mDm17SveIXffXSM9Uve4mZY/qGiLk\n",
       "6BsPfsRe8QnxrizwbgtqA3StSnSM2FB6eu/bDCD2/8UkVHU1oas1Ui0BxKvQ7dQRnRz9Dem36qer\n",
       "o3aHJLCnO0CeS2vK5BhXWMWvhxKC1IoaiHh1WNrIQ0QS38n2bQ6W8uVgD2KLhk7vT5k94i4Goxst\n",
       "rWno1pLh82eWzahR/RN8OKnu7refXtc8uFTG6RDZWcCb9dNe+WcWYDiG7Ig0EeS3FJV558v+o4ro\n",
       "7jM6AlFDYP0tR406ef5W1d0MraZQdpO9vYE0O7Ezqny9ue39G+jlFoL4XEnXVierQtWYUszSy9mU\n",
       "bHH95d+cA7vOg8N68qMzkGmLFD0C16zkatK07v4uoQsu6JbLKCBPVyQNdJFUkMJIdzT0pf2wc3H0\n",
       "iz/x8UUABqwAAAD5QZ9SRRUsO/8AAILABVxep+etFA0jST8tiXUFqPyZItp8p70L5iWosKtri6bL\n",
       "oFayFQAbCgFQZ5az1TWGDuRc4QSTOWIlay3uyyzdNecl2glUu9E4f4cv3eKgEZxmZjRSbuRg8SWF\n",
       "R5Tx8dNdbc54r/aVYzZ6q8ScIe3S77ufS2R9rdmx4HDxGjHjXXWKG24ehkGjbk91UALJXD3kRSZw\n",
       "QIQQ3cXjCrdVwlIkJUNNyrz6Ye3WXLNDf/Ar3Ki/63mtAPaZh2rzS+TFZjQB9OYiu64aSyh4bMtQ\n",
       "w3MSyxTlmlydby6GEF5sqozBymwurCgDOIPlBiWeJwHBAAAAzAGfcXRDfwAAvvV8ay5JEbY/Qj5I\n",
       "hGrZtcqAEJo9rsrt5IrStQU2VKgV2ieCA8leXYQDE9KuNRr9wjGzFap3RxTXiFIoHgnutfjFJraC\n",
       "eLlF06AHKJSWhbN7QKnzusmF4QQzjDgmehDRSL4YVAVzjMzGkrD8BIuhXOaskt9i2YPqnPgPGShR\n",
       "y9WpI2+BDW2gH+XZlMiGFMNdRaUX/BOegBxN0JEatUvbMzCOPEqXhUIWmlgIPsXjxPMW+D0AqFji\n",
       "nQhG7BO1MzOBwzGvzAAAAJsBn3NqQ38AAL8XXyCvR+/mKFPZI+/B4DnUKk8WW1QYlr2JSMAcgAOE\n",
       "iZNfOu3RUjt2/gXltnyRjgrHZyAplSpf3XsFQtP3gfs8SSdx/Gkd9ZTgqwBPEEX5kOgsflWSMdgj\n",
       "PUkkhV6FVpGpMpCOuSVAq2KYvrgyeFDfn6sIbPzpaiGqTQO/3loVCmrIINRkjeQM1fEEYaI4hTZN\n",
       "mAAAAtBBm3hJqEFsmUwII//+tSqAAA2WxFqSKBXMFOo/2j6VigXbcoNQGEP3vYGxLuD/d3pi0/uk\n",
       "OUusX0C1tvknAhYqMnL/1jNqI2brPTHBp/nRuUCThfaI/4bqgeGZ+RPKTO0dt84dxU+pO/+N1/1f\n",
       "w50JcbQAN9qqBqO7T+TIxNiKN5IVLu6Cyut4fHfPAm+oo8rxIApbuqFYHPBVk1Q3TgRssdiuYIVx\n",
       "NA+OzFfY2hXO84E0bpHxfxVLPg6qLURzgOAWkUzmfWlvH8eL+Z8zSwWMTQcpObur9ckWAeSfr/Do\n",
       "NsHkNyBFsbyUNmkH5ZH+l5f1uxa1hvB2M/kAcBN9Clo2OKikMq7uGIFeRa7hjmrA05LiyJ/8sMUd\n",
       "eorG5BEoNCnfZv/b8pb8l4cOiAea7HP+WpTRLzHvQOQwObhroB1oBzwYekPAkE7QFLJAQDlOBz17\n",
       "NfKiTkp6RMFk4zn5xHHFmXBj+pDA7gPr1ejPyxNozYHJ57qbqK9yd9SgBetkyE4UlkWm2+bmZSYK\n",
       "Uek6+8gf2gm2GNgjxlUIbFx+jP1BFA2szHKePi5YkMJvsN3npx933YEMuqKgBiqzTV40KZu76lFT\n",
       "Lo06rLVh+EINc9C1R2alElrCMuSF3Zfk9RWF3jdrvW/zAQF0Z2+q94UknNGCw7AVZGqVdGqdjpyj\n",
       "s+AaYCmo83lx+Ue3j10914vf4II4+7Jkmja0QL6O/wEjjisLGdm2ho+EIKxpxlrxqI3dLmvB/HXP\n",
       "JSbYypC/yl1d1XFWCsJQwSpUDuzsGRoykPMXKM8r5NhbqLMfNRNU87KP37nBMFA01lcv0y2YwutY\n",
       "1lORh7zB+VfPegczIsuLWL8+t1UTH3A9iHl6EcswIWpv2EOMuqZkqOvo3X8cxdyPBb73VaQ0XgoC\n",
       "X4CdXrEYfNfqMViJ3Xdn65W/X8GF1ZoczFAkQ4ny4FUDTsa7TEY+b4EAAADPQZ+WRRUsO/8AAIRS\n",
       "oa2VeiligXEvUuyyhbzWsiCGJPhiNirWe1uvHr+tLvXN11fpnZzeNgAuxN0/GrcfMfcGDzmrn/Wu\n",
       "Am2ciH6B+FBLTb2EU5gv5PliIlcQoz2hxQDpiMebVwc7QeP9AAJZIjPCTKfeuwUeDqdq11FO09S3\n",
       "bAO1c4eRXO3Rcrp8TDINj2/YBvT5SPRXMzLA/72Llo4LHXFq1IxLCs2KoeiPJbtTQq1gkL93vru/\n",
       "HsfQRlVeqjTw7qO+EYLMxYSK3AsYIUHAAAAAxQGftXRDfwAAvvV8ay5JEbKhT2h9TISCm18FoKmD\n",
       "3j58ZnPEtgAQ4iZxS4aArO0kpNrknOYPyFBE303QQ1P/xPwtdYh0l0IxDK8qCHO4aZ1ycjryRui3\n",
       "vhTJj/4c22WLH06P4Q4q1QEca/lmlPHOd2KtfPmvwSpZsoGipltKJk/cV2n2Pz9y6xVTWX49BJSO\n",
       "OL1a22uhiJXuz4nVVVq+phfL1t76FHKaBEWMwSqpkKyURiqoop+dOXuXxM9BLNw2tsj9KBZRAAAA\n",
       "UQGft2pDfwAAvxdfIK9H7+YoU9kj78HgOdQqTeqWoBrOnuh55hm5u5d3rSk8gdPYdxBT0AIg95ft\n",
       "fKNkMj+6NA7sAIm/RgH0WoJ8ubmbGv/xqQAAA1ZBm7xJqEFsmUwII//+tSqAAA2WxFqSKBXMFOo/\n",
       "2jp2jbbo/wkEgsxGsW3knw7j8BWo++pD+zHEXkcr6EfZn9wNRoKS5yyKdCch9XH3DSMiMMq7nGwK\n",
       "nhuAF5f5MSXhvO22PJ/QtoVulYJ6Xh8yxYnyNaqfCBAGsw8zvDpyUFuD/+ddOowPdDdd2K02f1dB\n",
       "/IEhF2JHCvdiJ9Yb4dpiJbQM8oJ+8pfWK7OuAx0hSwx9j/0ziMK2L6zsNL67LuaS7fRHyM2MQs6O\n",
       "a4tkHfsnOgECJE/V5eD42hSNvtK8pXJybkZzK3aE5Vr+fbS4V8XXurRbMqThGOq1uidot8G40nu/\n",
       "VliuAz1D+Tj7o4A6+a7owxzW7gUFv4gjgiysojCmDgB3rpBg4l/HShp9irvIqgttgRLOXafaRuTf\n",
       "SlKIY/rrWcGojK/bLI85XRMvHOsGv86JontHBwNWrkYx8pw6VhN2nn7oayC/NN8MTzYHc/NYFV1K\n",
       "q422M7EJp05bqvXIL9MehG1etTaphJH9IDdw/JJRTcUzy+/q7zovMH6wXi816ZBtqqiiSEnOrtQn\n",
       "HRyUMNKcaOUkzz4PdNYmtUX/2HVFBSm4gqqth4YQmyE2WLc/DcX0XqVDXPQWB9X4pZN3bfV+SeKs\n",
       "/VBwi5TOQpfC3y/8K316Y6G0AiRc/Cj0kfsMGdUHMb0bWO3RU8FxY+/EIdzvhrQRTSCjjyL8pn+K\n",
       "QYZN+6VI4t435lf70ZZgrKx4scykYuhhpwGM7r1ZMrtUVKq5N9nrK2JyziuXnbouHpUj6DgdrGNI\n",
       "HMdpHrLZvMfq9g4Bwyr5IBBU6KBnGCEG5sH+QisPijnPmHK8zCZUlcTQzv51bJk5voCUgtfWOWq3\n",
       "8ePQ4ijgSV3dbBkj5lKIy+KEgV/V+1aVxOSyVM61x6vegzE7bMgTbgpSZ6arLOV8E455thDCXKen\n",
       "3Bg4/pewdtXHZIeaoa0Y6aMCCnOS+dEueXWHkX04snRezXw3PMKWLGlWX7eTdCHFSMdQi5UgsgTf\n",
       "vl/L4C2g/vx21DKidI4Mw/aXAQ4/HOqkVvyvNuTSl0mZKMLng5n2jFo1NrqNdP4dSoVGb6xrb544\n",
       "2XDwbnceCX2HzO0rMAANQpCEd/Cx4O7TfzBhNwAAAPBBn9pFFSw7/wAAhFKhrZV6KWKBcS9S7LKF\n",
       "vNayIIYlARC7mQ3+OM1/61EoADtLoAkdktdZlZabathZ5Jxy2wdTza5aiUAzQEZQL4UUbgyBMvuh\n",
       "QY2FhF+cYpktE8ihV18wqpD69+rpC0Erv7BMyAG2YCS2n/k2xDl85g0UcDz1XZ6yRSzywkzDW87o\n",
       "IqN0PUfsR1+VdOKMFGVtLTK1tOeBP7w/HEypXAfJIZqYY2pN3BVx3Yw1AQkaz4d/s8ffd7oG/7Wl\n",
       "/355laBIYaJfRuzR3zgxL/xujgGOncJmGTtqDA/UHCPimFIVsePhqW05WPEAAADBAZ/5dEN/AAC+\n",
       "9XxrLkkRsqFPaH1MhIKbXwWOqUMjDgNos5A0AGz/Ux3Fvn0yht+lVCHgL1cu/dnGGm6L3pgulqSP\n",
       "fOTnmhMXJVy3Z7luhLCG9fnSH6GyR6AW0NWIuvLGULxUuA1V+TgwvDEChkJQAv+euLU4p3+wltA8\n",
       "OnQAYkK5p6LywLm4mdzQedNpvvPAdPmMzNHoi54btuKFkh8dyLIdjb9ZvPxR47w2KVztn5vJbDsv\n",
       "++LT4v3b/nhSk+QCHgAAANkBn/tqQ38AAL8XXyCvR+/mKFPZI+/B4DnUKk3qlqYJpzwNL8nYAWnI\n",
       "ycmy4BnatnLKQ1GBypZZumt+XvEGcYcEzzlyzlnpUMSaTkiJHeoYBXv7ATkIEUV0h1tznivnUTZE\n",
       "GZq3M7cFllKwceYh4KApT0cXy7Jt4B2eQN2hoDeKHntvgbIv8ANKgGyGzR/3caIfCuRk/BqgOOh3\n",
       "zwYgYISohuy6Ny3w/9MV4j+3eMmIFYs0O29RMcHtMeKDqW1gFyOzDUnvR37UqsGh2Tk8oZSRTMt2\n",
       "W4EeoEXBAAAECUGb4EmoQWyZTAgj//61KoAAHdfK+ADaUlQVGUjmYvMdfZvVslefwMs0XgpGUANq\n",
       "U9lRAgcTJSZWuhvT21uLT6B2rcfZptXweWKWu5jSMqiWrZd7tRiv3dq+YUBsqRPhbh6QErOf8vB3\n",
       "fbaccOy9gI9Wzet3f6D652ltaQS9s5hT9zBotKF0CReYq2sDl2d/RcI0Py/hvjqDQ6Ezs5hNIZIT\n",
       "EyMA5i6+3ub+MoAIFtuTxyI9s/YpKVnI1gYUMQLHawebXYcawaxqe7FEozG53DKeSyWZUl8SHFEC\n",
       "dhZJFhWuBOhBlpn9nem2klOTin5YkrPVyEOYyH7g03T5V7hOvFBHiERqZ1Sa+V1DPfAgoGvrMPWT\n",
       "Y7ajMBTOEv2T2ukt+OFxLShri76Zrl+kWT7cMc49q1AYCmWOhdcWgz4s6qGMRDQSH2RQV82+DsZW\n",
       "E3xzClzlCqI0W/MT90SvMdEVZezQyGiRbbwbW7PWDbfGAzo8NgThouuVwi5ZFmNJ22XTnxNPBkGE\n",
       "wqFxva851cDZwSI47FcdD0DHe8AgSqdsWxqEYYpJoQrbbmt31jIXsQetkJ8DpEV6s9bFyD04gUb1\n",
       "lMik3uJuILoKNUktNPS8/h4R0GvtsZq7EAO9T3wWsXVmIDfoKRdQRftlZbZdixfnn2k6WADugtDt\n",
       "n62aB2gyw8UoIpVxMioUvJp3hjo8oRG0QEKYB4q39odaUCXE61G3U8zPTRffhLeGwpKazNt2AaiC\n",
       "4ttl8K5nnkDwbkKhbxdMwGTgeuhCQ4AqiGTD8VASPY+1Yrh/kzn0KWtieqvkjHDz9oLsJbeof9k2\n",
       "Pktp6lW67xqhA9hQscFRzxrkXUg725DSXJMDeUPYfZKG6AXupCjR1f//waRZFyA+1/BiOVX/HUv7\n",
       "NZpKLGrd4DWAkkDDpWz2ErgWWCIzDrnLPDK/4dOKzl3E1vVpAmc+WyiJJJ9rMF6m/SKRF42MYFMu\n",
       "iDwQSrEHPh/CGuDiAiGjV5fm1u8ndtcP/Cgui9iDmLpWt4WGuR5Wob2t7rWDf75SDM2EcqqWps8v\n",
       "0eB9DOA8SeK4PMIz25mjNUwLmVOux9Ec3bNmLCr/7LW9PZg4rbBqGucOKlzzDgXh/Fs5nyxhTclC\n",
       "d5uBXFpNn6PQS9ssMVz6zBwi9WquWHKPWTUH62FBdEb3aRzSfQeyx4M4XAuF8kKaXxba33KpVKPF\n",
       "VnaK4QPzJGdaKcD7xXVJQ9RP7jQg1OOdcqWbwkMLxw7q0W/VJxU29Oyo/wtzjuKDcXXasTgJ+HgG\n",
       "ydEOkeC3hjl2b/QmGxUIqtDwK22XU9vudVvpJaW2I42OY06R2O7WnLkd/rQJnFC3UQw79bbFdPXt\n",
       "ceA6zAfDjLOq3/G9Z+cAAgcAAAEPQZ4eRRUsO/8AAIRSphXroUlh4mdQ7UmY7unL7VdoAcWu1BWQ\n",
       "fS2MnknN3ie10uPN38tTJcAHsSaMSmYbH/wYlT3SFr/tYaIB8kHi9LYCwt0DLtVifTnR1gGVgsdt\n",
       "8a6DEHp9pXFhreh2vkIILhuN263Bc8bsEha5lHyhXyRQ/1nyvPhkyk+pkKKd2ZOROrc6vwiNgM8P\n",
       "34N01GLqdYFRgEyXN5S19+8OBll9YfoAKMTJ2wKegcEjGPhjZmw39UvZ4sOLFick4JVesAwtfY/c\n",
       "Vo6FCqH+ueDkSsKbc1XU4+b1u/T2XeWMmIqPan+wliHIiWb/c+qBcaLQYZrX4rrTynoAVVvlQ6iE\n",
       "8tN1oRs69AAAAOcBnj10Q38AAL71fGsuSRGypR1BNyVQ3g/GawVJ5QsMw2KN4HYyIjc63V2eAUDW\n",
       "lVlhSb1Omp1hxoPJ4v+6WuSKtTr7LVrBVbCXr5yi6AZG9ozFVMmFye6T6ixQJP2bhmZvzQAxpYWu\n",
       "zuKk/vX/vLe2QONn7x721a6mi4p0f4+isrEx13Q4x2fwR04JNaUszxPPzhMGCx9KCttUL3fsMeVF\n",
       "seNER0t0FxcbJNmANj1cCcmAq6MMVl731/ncAJStob6IHorODQDkH6GjYrE/PMDQw80eGZiDFW9x\n",
       "eT0BkO1U0VhzC5JUEfAAAACjAZ4/akN/AAC/F3h+fjYhFdLGHktJhnGiE5/AAlTjRdDHAEPvkpyW\n",
       "bMq9rVCzOY2ksLsPH/Yo7cN5wf4Re1BhhVVwm/tN4E4/81oykAcL4WH786u6WBnrv+Dv81k+zPLU\n",
       "ZYucNnBvnnvnRu7Q1xdgWpiOhSV5J+wlLgQNbDLADYGhAv/Mtp0FF7E9EUnHqmy8Ar6cSPPDLLZW\n",
       "sakUGgYBO1CTgQAAAo5BmiRJqEFsmUwII//+tSqAAjDdSwA5l6ZL9m5/lyY2WHyzEy1JgJ+GksC7\n",
       "HtoTH6Sv1jFKfLpb+bK/M9JfUZDvbZk7W8MNxLagESGUaFP1sX6ovhcNE2V0WWS//Owu40gRb/81\n",
       "6wJjLHNN/AmjXw8t3L+9wa1XzrKRQjz7/w+xWProlufp38ELYcaRCb4nTqXbGlKMjpwtVeI/LIGu\n",
       "cdDGchDQqD8K8ETVsGItP7JXrhLA00NOlpF/v+mVXyZiCNSQ1hOYtneEIUhiGqazuB3py0sVOkeh\n",
       "pZrvtdC1gB8jrNX9r7OGyU2z+zv4tm4aq4xbqgH3c0RW1FEG/wfrLCLgmZRbz2mb1yOnWWogiZKu\n",
       "qzLOXARlqGqQ/u9P/2X/aj34JjF49TmIqZ2SrPGGMUHIdkW3cImOe0JRmJsSXpHlO4VbUQFERNm8\n",
       "x+yjP0Co34RKOpmW951S2ZqPdoC/1nRdmeSChk5ajCpBpD6/wGEJPiXfV+L+10SLTeQa3KOCpiT2\n",
       "6KLW1XBs39zSYqOFCHd+8C6Jc/M1X4HFzkjl0LQSsVzkMQm0elAG2AINxlV3KSlLS0/xCZwNuNwr\n",
       "WIUH+F8gXL/4ty/tpYtgnDU5ZSwyIqd6kVS8Z60Dv3NfipCh60C30uEdTBcpgc+tNXHGaCGar+/5\n",
       "m2vkL//KaTR62Gn8/yth2oSegMC/R1dtzhWMsNzkUsSVqX+F5TcoOVz0p1WQUPL8Nqn33wv/jxVW\n",
       "KE9q6e7ClCEgF+LYpo8Cr0h++R7pSBl6WwPzbldCOx14HNJboAuMRvpsbFacTqW+fPgegXLPDhKD\n",
       "9EtS3tToLJ6iHKvRwKDg3RKSI5Rwnh8kFc6uzW93O3jo0VzEMnAAB3QAAACYQZ5CRRUsO/8ACIOS\n",
       "Ss50UcPYkXEKgBYCHNMDr2zIs14pleY3gTs1cqwrLlqK78ro4YFQxNt93/2Ne/1G3ILq6v8jBI1D\n",
       "XbSEIeso+8OH5i+X1zkDwcNgH7d+9qDtDpNh/ZFyWRDH9c4rXM3L8p/qGX6RtAIGnCYcpdwKfnUA\n",
       "GMJWuaFMuaz7y9yJcvTc50WkF390vQtcPkEAAACuAZ5hdEN/AAxCEzXkc/Cf8bcALes9C0Kkn9SD\n",
       "Lw9cxOZHNdes1kuKH57BYVuTSRlD+bs7IqW+hWrdtthBMdXIngS4icJrjQNH54Fmsx8FlCeT95DP\n",
       "/fxYzioFB/82wE1PVofXeBaFd+gYDIi8PZjnWFb6oPa+pDUUKp1HyXLNi7N+m8hK7sUT5TbixLyX\n",
       "WMkzFNwVxADiK0ACD9IednHoDEdt9zYkC/RjBpn8RA4IAAAAigGeY2pDfwAL7fekfZSADaM4fAQ4\n",
       "6Ozy5iy0eEcGUUmRH8rmaFlq1l1ovLANiqnrMZ/ngsX7h4gRc4ihJlcpSpBLGMfRfO3Q61YqX2AI\n",
       "5V1mWGvdiVknItLo0aCxsHCjgIP6nH9G6xD46RZg4A+wC/IjvsoB54CY7C1z16I9Fc/6fg/V8uwZ\n",
       "vYSvuwAAA8BBmmhJqEFsmUwII//+tSqAAiDbiAAb0zLDzvpqWMgQoyg+kTfCd8JI7VZ/WaDabR3U\n",
       "aUlfsbitNoy3mxYl7v24Kobr2/ZmWQbtwyJ3JnYnKb2JtiRXU9TW3+G6NzRH+u1xejSsGCbWl3sV\n",
       "ayU9JNbAWoSbFQPhsS3LhArxSzwQiwbFfbnitOBqsrvsIRgKvqXyF1rS6GFJAIovO/Zlad0qTPnP\n",
       "4I6nTlcRfDrUsAnZ1c/1XpoUrqoPvmL4CqV5qxPQb2AdgoqZBcPltuTRvYEpnVVQ2KYsk9DkoXH/\n",
       "inOo4FWp0Bd1WPTd9yGoAoE+nZ6vn3yI3iBWLYkuC9N+Jw0yu+DTMRCHYCvO0keXUJrmQoP6Djmr\n",
       "Qax1Dj6/QHNRaMspVYUARh061gJFb8tgXaq0WLzSH8InJpgTx2jDV8nCJ+FBSuzOqTDsWYy3ooET\n",
       "wrUVC9DXWW1/DLI7gBZae7lk/5737Zbh0n6ATnwVBYqq8PyhIa2RORh/naRgvLBuRXiDyih2X4v9\n",
       "LG6dSKyJtRxsGwsaiaTZhPZlOlqmcMGArNpcQP/AC4qVzJDYLsxeI5FannhE/BCr1cEaDJ2WipmG\n",
       "VVWK/ZPijGI4zWds+pAwLY8DW0zTt7Gan/H4IvA+HVfyAV4gk2CEIlaC0rcwOkjQ2WIF23hs/del\n",
       "itxNUhJqebrUlR2G7y5Dz6ocCwHorXkuYQ1EUDvc/IOA7pvp1Yn7446p8MsOQdTpSgGa4DBYqhAr\n",
       "6zscvevl/hsPUjduKz6b06OanN5TPqlkHMxTJC+R3pGjjvOaDD6YRFq1+x2/sNQYuHxNInHnpn2l\n",
       "BDq4pkZh2CfQdt0kehJl8ODEke3AuOayhq0c/A3ta6Wk/ayMKnP7V/vtFY2d6Irtmmh6QiLBkXOh\n",
       "iA/sdMlMqmBJ2eC83NNbQZNDsnxBIlkLWweUwruMT0K5yUa7Ur8qxKKDOxD8YeNaKdOipVF81Iid\n",
       "dJzG8dWA3jjy1EgGB4z0FaGQI/EqCw9hMGAgRcozkuM7+6aOgMrwjbbxcH7zmy3hzTu/VsqqDACS\n",
       "mxE7aMs9T3rUZDE6npUKksvOMJ9iElS/e0xC9cL+mL7K4tZMaodnTC5MwmPd8KGVS7KghK/jb524\n",
       "2ldykMU/7Idx7PsRlZ9rOf2yPce8Ge7dt/ldc6AAXVwqdGGVhSgFSBtNeS9AR49Aw0lVJiZbJhp9\n",
       "yVSTPAEN0VdB4wkw1RJpDwTAu2Z940FNxOj9Oe8cKlQFfnyB/Atm5FE2espeDedZi237gAAAYEEA\n",
       "AAD6QZ6GRRUsO/8AAejQfbvJrvBBePYK3z0NdPnOn0AEQfDSVwDoVKv6lz2ywQWgYPu1wK0A5piZ\n",
       "FqGqOEwUAQUvl8DD38MRHCegbLE80L2SNsAvc2LwML8invKZYF12I2C1m6urAm2hoLiBPfzByhEx\n",
       "66dCCPz+5zUpKyO1AKq6OUldJ1h+y2uG8So0JiI4L77KMcEfSu9vfDwMYQ5//8IP6dBWMErzw0xC\n",
       "7aY0nXebklPNCDg0ciSUW6HD8X2NyuVYhvaeAQFpkm4Y2X35YkdF0/pqIcnWuWoVeZEZOtbDHTwg\n",
       "Dq2xbQ1iI8XuuQTN2XsAs9GioiMsw4hqkQAAANEBnqV0Q38AAsR3vvtwZZ9RC9aE97HviAA+JYqb\n",
       "ambIou3bs9XWIXf61nAYZqZHCkYbVCfBFX+k7/Y8J869bGV6+jqXlsboMYmhzcva48Ok/GJWRrYJ\n",
       "k6Mxoq2Ojg2iBVqYxBzHhOpq7qxo03ugLSotfv5dT1oFLHf1DYYsy3g0Ed1mhDM4EKBqOLQHy9Ua\n",
       "KzE0kAOtBfr1gxtgr03s+802dMxj8IdWt1dAkz92+YoaLbt/kPBeoSfLLMo/FEtXkA1ocsEARQ87\n",
       "jyNitiAh8oiJOQAAANIBnqdqQ38AAL8XeH5+NiEWA2jqXHI/AVA52CoMgeKPAB+UrBkueEYV5Jzw\n",
       "o3Na/Q3UkPrFoVaOGIv62ZNW/T+e11Yx/6e5Rft3ZWDgjmGpE8GcIQmnJbNLDbaCp3eNNZDAHhWq\n",
       "deof3lFrW6/1UWl3UmZGlF7NL5N7VzPFAgQOIl/mcVRphsWPBZBXLh7oSdtwxca7P4pIZyugqjbK\n",
       "b7LifgM6Tq1RhTzBTEZ0ETuISL1iBbBmIC/3t7rjTw3hCNd59QwIuUbEUNbwRzDVFhAgh4AAAAO1\n",
       "QZqsSahBbJlMCCP//rUqgAAd0zSI0a8OSACrDWUtR1WE1GAnQUMag2nUkUv70Z/QU8Rx/KxQinRq\n",
       "QppBYY3zFMQBIXhvFoZwbSt/LqBCbKCZXDm5LXFp6Q+f3CzHkippwMQfSqZ0eDcgMqnqDFLCZz4E\n",
       "qDn8J0DpVcEjIBOJ1x7aHOtR6mDv/RPrT60PdFkGVzhRpTNpNEmj7v2CzXpV6Y9YKrVud/TjteaF\n",
       "sWzeRoysjxNucW8zmCGmLmeCCaVf1j71fl7X4P7ZlPhwJyiK2LlqbeDYgaZ2OyZKRG5/jrURlGAl\n",
       "/iS1I3KqfwXCbnWfynPBZbNEpXiEEeGz+XIpgwzGmX6mRer+cVSMqN2kj/ng+4CHhgZEuTmdE91y\n",
       "l3Mi95AVVw0ZCVEuUSC8pm3kFlYe/VGzU2e31GcekNDwV/4MJa4eRdgihbTNZx3QDtyB/1JjDV1B\n",
       "/dm9l1bwFwELgHD/VNrWdeCeQZxX7dIV1ezcxzOaiCfQeWLXQFtYksRqtG4Co0Bg71XxPXWa4J7T\n",
       "NmG/q0LKfVxsEDmU6S1fNBkIguBAg99MsjlRNCNwOKbhrUnGkwfP1WjoOVfbc6czXBOP9Q8b18cs\n",
       "12e1WsmTr/Fhf5lrr/JxqwPbPcB08xYBShIQyGpaKr4AfOrfpagb4OHhDymiOXCv3riQKMXbwhmK\n",
       "qGHAUyWo9jhEhCRfoE7VBEMLT6eqLje97Ac40lEeukhFEtKBUiGhtTOCHI8pMvm5IySqPBpPngFo\n",
       "QJS0MdH2ZufInlW7nBRl4EWjCkq6pG2Tr41LRcgBHky4i7lut4xs9c/gc0IrQ5nhtblvqcRQarCb\n",
       "PaQB/1ei4unAHVKp5ckKdlOrMblMo6W1ggmf0g1mUZyRb7sJqf0Ft4VwVILJ2jLbQE+XQquxA/n5\n",
       "ugb6Tkh0db8diCrUoyHWPIZxebkOk4i6DM1SbdDN3pxSccctdmxA6m5Qs5JOzpzwH6Rd6vld5fir\n",
       "CvVoCvyK23dsbMX8WRbuEHKTNthHfDHFRNCG44YscljRZO0Gnnc0EWQzUG3eIWhcR++Sg4jSuSSn\n",
       "LltmSV/wWr8Tjd+VrWuW+tMzbbnkJzRbuTtlj0vVlmDj7OYUQCLP7cmkbjkRmPFPO6QNGH0AVVhD\n",
       "80J0Lt8mO+IxS+d4ZeHU3dtnv7R1/SFkBqtvDfnXVMJqoud9pnXBaQ6eUwLNmAewwQUIG3koV1fK\n",
       "0cBcJi4niqeWc06ZXKZm+ZOQXUhj5r/vxZhmBo+sXm7Yzj9snAAAARFBnspFFSw7/wAAhFKmERdC\n",
       "YC6e7Zi7x2PgakS08o7ZS7QtXmMbSy873EYsRq9Sg9iJOic8cMEr2fsgx4ABdVz/axFZk1lLJviQ\n",
       "snb5NG6aX5AsPwgM6ff16uHNIEGR03dkAuokx1D9GwirxJ5SXEPbDbjCgsEBdT+l8WN26eP/k1rB\n",
       "XxSxAwWuEsnDFr4APNT9K+4XHhtC1UNx1+telDQtZcRLlrP2S3FTvcbf02azxUMuLxWCBcZo83nW\n",
       "EwpG3/aBD6OsZN+zXno1xbW++OtLopt9QTlU9QT+0M5Pz2RSuIwpzCjd00uSXvLy98qJTu3DuzGe\n",
       "QmbUcUmS1gCc/oy+OxGKp1BmZ+YfDEtAoMh1ErcAAADPAZ7pdEN/AAC+9Z+IuSqAtBQu2YU2M13a\n",
       "M4J6AVmuWmpAH8faTpfGfvvLt+7gAON7zANeI8/YOKSBzd4AH54Z8qR6nifHhDraizSV2a0JzwT5\n",
       "aA20CJ2mevofXqjgTGyWcxDrRSMzq6hlyQRJKa/9tB9VVEXalaG0J9GqiIPl6uDiHXS61Ek6cyzo\n",
       "AWbfPn6TEHMxw4kNoYsQ1ygNx3ULf56AOxofgUDzXquVM0OplOWx4Ba4hltl3gKIAMGGbp45+WFp\n",
       "immH2D/A7ZdwQkF7AAAA1wGe62pDfwAAvxdfIK9H9vwLu77czNm66wGj1DhiIdoE4qMXhQojIADi\n",
       "1oPz+/p8Qba9HqgkBMIF3XGrCUcscWh2NyKh3mxTikM1SlFtp8qVRlEtCSfshoSg1ltfgr2nZqhv\n",
       "6Iz5NFiaUh0dV07yplc2T5vrldvti967/Rh8UuDMfKduxSp+mzgYnrttEMtfWHc2m0bJ3eigkVWq\n",
       "n2iRONdB45e56ixEdXvP2zEULWx2SATvG/O9ZRmir/NdDnnkuA1Gf47S0Y2OQZDCq3MucG5SzKTY\n",
       "1QP8AAAB6UGa8EmoQWyZTAgj//61KoAAAYqaSIuAA8ogaKgrEBrOoAcQbIhU0UbgzRldCw3Hc6P3\n",
       "kwGPshTc6E/5ogPqTub/w0T2on65a8qTbjINN8LBhKARL3hUe7lvAXVEwvxrbZ6bHQY/5pLJgQM+\n",
       "Tlvb9VBja2awm7Y23sRjym5M5HnAINq3yIhHRpJCVQ2YyYv/U6dyOrncx5434eu9KcZX0uC61PJm\n",
       "wfj0J+CX8mNzEER/o+MnotI5vzt8/kfPsSxuy91AogVDFq5FVF8lyPd/6QGVqUHlVMAM6xdsg1VH\n",
       "69bSrChA8TSO39tncY2UyTRT5RxWt6txKF7HkcMGssdDQKOUSWt1KvZAVNXmBROqOm/0Y6HjwiMA\n",
       "lfyAm46CnclCAwen0EOZPGyHt+irWh+UniHnF3mXaNR634d1BFWeuo1/8vlZuUFtldccpp3oTiIL\n",
       "0Yzu+fNcHXRXoMKtOQHaTLVK0uyKq5+E+d1GuQ4pb5rm3fAgvwAgaxxNcVFX0feS+M9QPiVkcJ3J\n",
       "9QYX1qIILJVHEBAhD2DW3UtlPvhxrQqe7L3BA9MaShuQoVBN11lnSesncPkjMRg5AUiP2TZVzgPG\n",
       "QN9bXpMudsCmlKW8nob1aZqfeaNRAVKARRonEAHfMvbdbtBR7XwX3QAAAN5Bnw5FFSw7/wAAhFKh\n",
       "rZV6KaXhmqvvyI/C7JdFp085pLF8oI5qH0D0UIKXZ/ODm868ACda7q4hvK7yPFiTu/n2XfT6BPQk\n",
       "Lto51jOpEp5B7gzuaNdw/SJRmRHELdDYY8fR6bEQP/Hh8YLvVf7KQu1tCHxf4aF38y0paXXH2cRd\n",
       "IMbay6KOT+6cD1nuNJ5VMVuESWFew7Z9dgBsh3ODwVbh6atJ2SGFlKevbcg0RMOzE9FQG4u2Mu+j\n",
       "qO/4lje1yKjqOIsMxnwzmGx2SEjX3Xl5KkaYkmcT3mZFSMCA6YEAAACDAZ8tdEN/AAC+9XxrLkkl\n",
       "eJqTb4pMGvYmC9+EXO3feEHwYzCOdS5kACH61G4+3TaeCC9pmRyTQ9yvrNJFyTh+b0TZk9n92cZb\n",
       "r+roIX03fh7XaimqcgDs4jSINHWZ9Q/eVsHhWKeabmqenodUIFiwTLfD4KnJLPk2rKutG26xadei\n",
       "0kEAAAChAZ8vakN/AAC/F18gr0f1T1tQedF/m2pK9krxBZ/7ZZ+dcuo02ACIPeZyfGL8U+ru0DsX\n",
       "bnUx+rUZQOQzS/JOb1HBKyJhdT3oL+ptGVx21/W4oYGw94AhKiNUSGdmDJl3ddqpjLXyTE/VMsI0\n",
       "DktsJToWr9EjjTNS5fWSV/lecGct5AMPEkRjx1JgrMdRxE5fcsQinyAeFX+T24zTN/EfT3cAAAOy\n",
       "QZs0SahBbJlMCCP//rUqgAAABKG6lgAmlaI7xvIvCwxb+7OcKFNx0wML57GiRN91hrqilNz8qmrw\n",
       "V0K525YGJo670rkovLtpvAwr/Xz4KaYRhHvPrjhq3zx+XWh27wsDkYtZJjZY+qRMxnkSxDxS6KWu\n",
       "k0zbVp8wcxr+K28z+UMDSJh6iQE8D2BsJP4MpIRs2jq2tDsFwEnEB9l+3+rSEuJDuIyn+pTkI9QC\n",
       "2e3hPQ23leggaATfHAWHHzwKMepwqCu9UiF8Fx6U0IWqceNsfTnqazNR4lXtgkRv6RErFnk+61ld\n",
       "jCgj3UD+NXpKeczR0ZLMslVMdI0LgQ34BxHAqoujtSZubT21oxuTEZ23ZrC3cDs2F8mlbcfhHEQT\n",
       "HfTWz1IrU+UuVAAhFGsOxPFNhL6L8lgCQELJA/ZoS7BnSICsWTnIzcBi4Cz5/5wCmJnKErqMh/3C\n",
       "M2wHD2qkVSWameDqXhUis9i3k6EiLILiImWmspDAIiAMQ2B8lQlpZrfs65BQ7XVPQ5G2gY1T7SGE\n",
       "8OUO4fPogPyhUk+hWvGtPdtafHYSougI7Ql9jItXNtPOdxaukGqc6x/HkZNt1ULw/DxISI+Uop/q\n",
       "Hs8Hml/6YgdarZE2THq7Tn1+zxrNZZ7B16uMErUkstHkv7NZ9TyYNSgKQsYQ0O6uGS+lObDd416k\n",
       "XrdHpJV7RTVFjaoCkE4YmA1Py/DV9HoATtYktQT9V6udnYLtocA3lym/RvBPA+TbPtTgRt5tkCAz\n",
       "Zs4Uunu5S4syzmfjGwGBzIKAU+iqgDQFdQDE1LVzcwcl0FKn7DEJ3NoiVn3k8XwwsSmVtfEQ2hgb\n",
       "6A919Lpo5yy69mrJlxZWERiKMrgxP1H9Uz2NM+ajupH6C8kTIp94zF19Y9rOJoi3DC1iBx433uMf\n",
       "JiEeppcHlDUSeCppJSkEEpHGWW1BXQHe84vfXmTTNc1ocHB7JFdtqFsqIFIl8SpXwT7hwyM2+LAS\n",
       "+tzNDJSLQu55DZCnCXXVqjcsr6OYQK/bs9J0rHf1h2nH0oPs+40kzJkt6sn6Ju+FvR2bYxfzxRbh\n",
       "U21VEXfzZ/cT0GHMsAEjJbp/wWb78iuTWp6jr1nAczJ731Srap6Sod4bW453TY78YbN8pJVrRhCG\n",
       "cCQyER0MLU7Q8N9FytNbcgP7PYrfJ+doFefhrFRrxTc0TugD4pcnrIJcG+vTOGay5mFl9F9+QDCK\n",
       "dut4yh1A8IK+kIV4MRp3vY8yqrIoO1sT7AlxuL06toI7oAAAAR9Bn1JFFSw7/wAAhFKhrZV6KZO+\n",
       "G/NfoGqJW8oFmKmvF9Tc65wh0Lby7UN1BQDRLiPz/JABNNdI+68QPZyz8Ml8OANFsDfHxZNXcl7Z\n",
       "0Bke7dR1sYd7XhCFftKMAqrkx/Wssbl+Bj00GnCOAXHFxXhiBSQm0muQP6d7IA9h1lKc3Gdegp7P\n",
       "/0vpwsBA7ezvT/Mx9f30diZwM262HSf33GgyvOjYyvVX3pzZMi2UsWU4AlZUjOMnqHyNqSBc0AW/\n",
       "5bphvQm5PhwOnIayIsQ7jjIixccw3yitd4GR/uqZ79og2vIaneuTj7mbZXfbFp3f5qXWwRzO8Ac6\n",
       "XzIQlOPxtqtUSUiQ3hGDAt21Kp83R+vYtnfmjA4fUnG5tj2MQzNxYQAAAOoBn3F0Q38AAL71fGsu\n",
       "SSDvgdrx7A630FCeyd9LK6Ur+9ODTlADj3Jca5q93QjrlxbvlWzchxhcoNoNj8ZBEJm/ZfgrDRlb\n",
       "+sZgs1MbZzA2+28q7/7rRnKIcd3txL7qu/+d1fLKX59i+PmHxE/4z1PDTK5reqa4l7dS+4q+qL1M\n",
       "/zInq6sn+aiQW01QWtDWCquWvxutqh66zuuhspunn0bkj/F2brfS7OE98w+G2SDngJMkJLEpHXZy\n",
       "kFY/xfbWqHsu5RrQKpsaMiuiWZMMIFL0MnmlG/TCSai2RkzfswENLhFSONtZjCEgtoAAAADlAZ9z\n",
       "akN/AAC/F18gr0f1Sfg7LnXIfqVCQvKi17bjDyNLAzzsgAOLWg/P7+mHvAKxIl5gIyXsFfcEFkXx\n",
       "WBNX91G2Kai9Wf0KQZQIeVNDPoj6eKvNG7SMTNcVZ1aEaa3FQn51fW3tFU0HQibJx1ZNJr0eJEgL\n",
       "8Wi0ctY17jpDp9nPNN8FTyIF3Vt+XfKFQtderraY3nqqf1Tv1LETgHYHmv+JB0Ls0qzS6NSm3TlJ\n",
       "xgWUBFN1lmAK9i2Db7mCeLj8QdqB969py+zyIck2GxFrpk+b29dBt7jY25FZZBr8lubPSUgyoAAA\n",
       "A1lBm3hJqEFsmUwII//+tSqAAeh/JhAEZXpkz6+6C9r2EvSg8sxFbCzA1Uuu8JuRmqNvX9+ZlIWO\n",
       "m+GTmXWf8g1HTpOi3VgMVY0wbXEov/1JW0GtJKnht/FpFmq0aChFg9ODky++7SrifU5nfJljVfTd\n",
       "pakJyBWH/lAFqLH1Ucl//bGCQTkJp3o5l91Iux53z9vobpj/s5W5M2+wqF8OuIexqM3YAUZGxNSz\n",
       "KUUrUMdmZUqIglvDokFfHLSVNKRjD4jpkRjUCU2nJJfTBPkjMBIwjWXKkdl8YJnbxSEgv2i3Y/ex\n",
       "uUp6EnbchzPtuLbaoC2hoa/V+Hs8A5QxDopWNACybv7OtLSM32YCpWONgTga0McBLLa6lIwkCCVX\n",
       "rQC2y8dr8nSaBbKY81B1z68wGsuWWOrDneSW2OvZsw1LezNWJQRdck2XBz9pO8B1Y/6q/CrZHdKh\n",
       "2oXIIPzkHlzLdf2PrzeEGCmaZgvJuO/a/g/zcxAdJ4AbXiItu5LqFwvCvydJI92sixU7aOahtAJ/\n",
       "QRiX8R5g03yVq0snxcglBLdFKVhMg9sNOf5f7G1zC1IG85YmgxChnow/kkiIqFAllDeBVajUGloi\n",
       "0rDUe9odHlv5FfTzuQ2HLfBakE1sf+EULPGH/ynHIDsPNC1lUDo5uVipxSnEzP2cWjcK9WDNO4Jv\n",
       "67ifIl5P0YQyr64XyOQTZ78Qos5LH6s6I7HyJkucmBdDc6M+X5FUV516OGpU+77kegRdEtud0wU1\n",
       "OUX4rq12GbyR8RrEo0QMqkT+wp6/F5WXzNyuHlCz7uYdpnxmgKHSqDbLbQg0FHoQQw2O3giBtTlT\n",
       "CA4P63FL0COwvAiHWUmNIdZrHvyr4poQXL7dRRa7TQcmi5Lah9PZey/GD4A9wNHa1m2atbxUSWH7\n",
       "3vxsspFpEK8+/88olZmtxifF45jdYFP1hlsH4+d8YsN1FkbL6X4D26yKVL6/7LlN98/SOEgjeehi\n",
       "gL4SJUtn+FTPLdJsYIVbHZw9l17IvLC/I0Rh6+9tMn2M5S/LwxJmE1wqcLY1nOdBTNStfv4oqGAL\n",
       "qap7OBGONHrFLI4TsFbo/XZ4YkU/6aQqhnwvVzd1pUX7wvZICo5Wczu1KWL2TldipgT895aoesUh\n",
       "R4Ax4QAAAPVBn5ZFFSw7/wAHd/w0sd0EYUrI7/0lIAjxBnk1B+1pAXGWTn8N+RMIh9NvyUmWiFxa\n",
       "ety1ESG5n8F+NUMTXfGIlvNqcOjBU2fpKMqrt9MCU/rGf1ngNi327L3Lbp9DxTJP0qe1zkIm8buJ\n",
       "9oocTdo/ni+1jdwvF35/rEyWYGy1QTqWLisJ1lQ/NyXIQBLggrMZpc/UWo2lxnfFFlPVEh3hEuKw\n",
       "MF/a6fCpSWRNvMNa7ecPxAFBoZ5NZbjAF13blXEsjhKtiBqTNeIoyimg9yRBUK8dZ8OgpmoXK0kI\n",
       "aVHlqC32p4vO+F7+D6ZS2NxYjpkvsroKiAAAAMEBn7V0Q38AAL71liOcENKcJm/J55bTbAJcS8AL\n",
       "k1pdmLxwBvMsi1ju/tgfZ38IUSYUMJH8NzUVKU3EvuwP1UvRGH5Qo/UraJJTGp3C/3k6XSZl+PKG\n",
       "l1fT7/dFU79iz3+zhOwFmSz6Q7G2SqDMq6Ok+x71O6/TXxqxQ8sPg9jmkbdOe4W/kX5kz5wha/YM\n",
       "/uXkWiRgT4WDHsZze8gM9sLtvGqZkVxiIB9s351mrH/+zyCS0iygVRxwrSollzw4gLuBAAAAyQGf\n",
       "t2pDfwAKy9Bxax0+eW8v7vwAXSgM5Plfawre/mthDk6c5qMH4l0RD5icZvKmZZBsgLE8Ht/7cgQv\n",
       "Zu2zAqlb75V9+MIDBPqiob2OH08jGU9VyONFvd7umHt8LUZDt/1Zb3wtT7ylm8tcmpYzN1iCzi5D\n",
       "r3c0LUdI7CGqKNtzzcAJMAOjD8U4tYGWS+fguZagZHzp90VLNfM2+7R5Wq7CCd89jh5szAnqv7RV\n",
       "Un2l8Zg2bxbK8L1Yzm5JAXeSQf5OIQ+dRYDHgQAAAj9Bm7xJqEFsmUwIIf/+qlUAA9Bw+iAFtAk0\n",
       "hlrCZH8kO/IoQ1TOe8lFA6DReXEoX+iuYxAml3RlwBfLKAQSjxjs3N4v5UWOBvFihu16XblmYVe7\n",
       "cBBl32ImyG4DruGoTeBSqKOFJp7xEj7XXlW6ph8vFsqrn0XB/hSuMm1ORb1c0Xi6C7SsHMGz4vmk\n",
       "tchCNfwvn04SKi5AihSPQBSQKqp//gEWNfoXalhjxgKLjC7X+1k9ng8cxD2fbgz6KC1iYocl+KzD\n",
       "Xe3K0xQyQoVfA94AfzMgGXzDrSjBt5ocJJdIpbUJUYcnYMQNHvXLOnjVRI+cgTHchmbXFW30qUzm\n",
       "1gnROhZxgOQlCY6FzDKD3ALW8S6rOOOia2dleKYup4elJZC94EIn5Xwd2jX2/UuvBfq+2DDiDN4l\n",
       "1IflTeiInt1l23Lb7RDIyUcP3rESRpdRPsQHFpqDgvnHSIt3VogWSOXjvriGifDti0n4PiBbOtLS\n",
       "nzpky6HZ+cEKcQX9mQTOMJ6MD3lmiSwrA+6y+vHckRPLDVPCUs8aq7j1m6jmVNinFyXX6knz7hLF\n",
       "+umU2RO8xTVhgl93KMYbWWmKj6QWul8ksNxvkdD6jVjlSHfzCiHfiYZDA/EHtw66VMXNGBdth9U5\n",
       "cOCcJYvCKgH+OhXCxfYh6hHOZv4laILxzZDzm+ZTMf6qfsBCP3k4MN0pcFuFyHrXgfDBnWchvsPE\n",
       "EqafUHDLVe/8PV/EBBcJ/e8XNZsj4kCAzJrdAdEfoGtc9cATcAAAAKBBn9pFFSw7/wAHd0Hs7dlR\n",
       "CAB2lw9fWVQZEiub4OFK0M7ZhCqMzqTiQFtOAAOjo0DOuQCraJ1rtsG5so3cmxnw0jkeZUjExukG\n",
       "0ZKbidcEVLqhGmawel+GuE1+Obj07oyUfqEMgLShQRDjz48T11aMj/GCSLPxCphnGyEq7giOSuJG\n",
       "gjlncPG8IOskRj3uwCgVJn8Wp1oRT1Q6e3kiFqcdAAAAdwGf+XRDfwAKqAjepAAh+c4mrJ8igEOi\n",
       "/fHYSR0rVz/QlVnd27gNA8l0c5EygcH/WhvWu87jEEwcnqsEYE9zYEd2Di8lNlm7hQyhniWKQRH0\n",
       "g+PznB+y9BKfzx8TIhndfAHefVtgZctCGeD+kBKWYKZ57EPgIH+AAAAAwgGf+2pDfwACh2W5b0fA\n",
       "DSq7LoyzT4wwA16WbD7u7Ue0IOuhY9JDGjD6PXzoXzylo81rm9P2/wjQxxKg0im1xeT6uPbf+aaY\n",
       "AmEFJ579v51tgH+sSCXcMSfMM4+k5WxJ8sPYrKCjCghZdwDxZLyMXsC5oclNJG2ihonVOKaXOrJj\n",
       "HVdVhdxJoeKpaQw1HQBTJRJol1W02f1WcryKsn8jBfJ+KpBQS11/A/FPaDIj9xGL43PQ7QoRFZFx\n",
       "qwSXdWVeeDLhAAADR0Gb4EmoQWyZTAh///6plgADk+6V3bZi56JXl2nu4xADr4TP18f6hdhvxpF8\n",
       "62kmi1hecZcHx0/4X/BTdH5hg6VSYq5bRsXjAg6uVilQ1ps/MuaVDO2woq0YhWTvOjqgQnXSH7gq\n",
       "lNsafHxukf/2X9czobBfSKBVLfUOmDFxOfZ2LsILG7Dp0xx7optO09k1IwKQbK/YR/DIxxHVdiWx\n",
       "fpWyvYJ+fA3Spu/8AawaL0mCA2uGrif8fyqViHW9vfG8FFX2uMZwG/NzYd51o3C7WtdLpNJYnqet\n",
       "msnDR89IGxbxukHG3WqXVjSn8qb3jpIA8+5B+NlvNBuzuudSBbTmK2VOBds2n/kRn3qJcKJb3Wld\n",
       "f7fTtFcqsUilaLGAsLUIfTP458p5zQup9jE6394TWqUWoLpfFDWH8XRgkhuNs9lNewwanYWdy9AA\n",
       "oUie7O1HavG75EBMzipzKy60Cb/WF2lF2g2YmbvQkIqByKoCzVzbe13lDF4Jq9u8EABi7Tt1oizl\n",
       "YieUC8sTyg6ktd38pLDh9ZhiT43FmBtz7hhiBsWA1Ywao5NLkWpblknYoLmeo6oPBSsh1T9pv0nK\n",
       "SDi62zPq7KMk82QeO37x784PXPCXqm+NqzdEE487IX7YQTWCoKQj7WOgkOBsb3O+BjNSjaDV+QYk\n",
       "nU87kPwf+ir/8NuR7MQSGVpRVFPw3ZdNVpsRgtpFXiuARTYNKvmfxHbnCcYJd7cOEhSVipXqdpQm\n",
       "NXxOopWhxnA5w/OEko1I7nPq3TaLYf8uPKFwoYk8bKcOmE8c5XSwws2VIZ9SaG54NCEYLQ5p4AIe\n",
       "CAmY8rthEUXOTpwnqerwcbFpF/IefwLNxrvzZDKQedXDKrt/ViIPsL5K3B0Fc/6xyvanE+tAoFXe\n",
       "PGEareHxDEAKWFh6PKUi9ghV1JMHUumS1QQ48oKxlLdKMFG7JzoWP1SB4UNq6AqulE9C6omnqyHD\n",
       "w6wmwEKMA7GTZM8XOAt1xvvx1/C7+n2H1uJJyyTwtgXvv2KgICnBjOrqp4QWRoKlroPv7DSl6gI7\n",
       "CmQq/VZNa2EoPyyoCcS6Sg5I1hUFQHSQ/cH6SQyjk/fiQIn15t2JIF0+1wa/FUGJ7j7vgAGfAAAB\n",
       "OEGeHkUVLDv/AAHH0OhBY1rRluYTiwRDRtDWhz6OO99blTmPgATQB1LIf26Be16tgamqCbmi38wK\n",
       "WfbEfJmakOqnSe+0n0+QLP7Qg8lZjxm6RV0y5ROA/EA0mhh2YEzh59FgGzr3+79RsswLX3kRUoXn\n",
       "8xO2q7dztOkUHU8fTNxJZoi1VziNSK3zlbHUn2/Zdq62EZqqNEdKHG146uDxCF2g0RdWbo9PIw12\n",
       "+4EYGwyA095ztbI6oV2mJU1TdbfH1zP875ecp/78b8SF23HAmPJUs+R5NJ/THbMnqCMyepcBSGlz\n",
       "FI+9WarcaanHE5hoCkD3j4L05jGUBia/3Es5pNnDrTuGVL1WPSnrW06gqPUu+Bl6427Z9SK1Z/mA\n",
       "z2o3BH9pvaOnXhp7qUjQwQsxPioSLhfqfOO0bgAAAKcBnj10Q38AAo54QCLfuDI3u28Gy5qr1sd/\n",
       "Y0dcbbAzxQAmr3mctUbLd3M8SfMIKdQr/Y63cKANraEUOJ0/q9ZRNheAFUCey92vvi7gSQfvKWNi\n",
       "pszCuFjcDpc0SOpJZEnRPkLGg9FqTCnQJgl3EvGCVPgsOFzU2d8U0obBqFGx4KCCzrGCc75ZrIS7\n",
       "ozkGXA+R3euvZpDMolXSMsPQT0SkTHAy8G0DegAAARoBnj9qQ38AAL8XXyCvR/VJ+Do34ahfnOZS\n",
       "naB3xEiDWje1qQVFQUrGrqKGoioAcWtB+f39MPeAViRLzARkvYK+3UPutlJ2lTP2+7X4baHnvd09\n",
       "qpouVBsZ6wKUehHE2van4r8/hHHw25KrwVlyjmvi0WjlrGvcdIdPs55pvgqeRAu6tvxvdMocYCzF\n",
       "9QaUXXqyYS6c+IIySxtgtet3tcljKYkOGtDWA0tlBYSc2V62l/oVUGkDCGVcRiovtD7Jk85HiUyo\n",
       "n49oyaO8PzMN9IpDLGSTYFBIN/ungn93xpw1P52EvEhpNEC3nz3wDV68yiIJZwWKkQ+urwTzwK7x\n",
       "Zh1vzJx+iGckU/51aYUZk6SIWxSe4QGHLUB6gvcAAAHFQZojSahBbJlMCG///qeEAAADABBVB6fb\n",
       "V+xywkKAEG0wSj+hkUp6WWijgoU3R05O1Q7btcZvWrMGp8W+TfJ4K6OPC07Jzeo4JWRMMbE1Lkij\n",
       "m+RDKVgyfw2E7Ux9pvW5LrYjGAdBs/0LZvLvtHDl62eO9D0EQEumJZD227BdNb0TXhEs2U4EI6DA\n",
       "uhvxZrxW926oMC+Q49fEe/29CcoByH6AFmMQBgOPuNnzcJSSq+TOjeSWTH5O2S4tuNTWfEotJ1bL\n",
       "V6NPQTauRbP4Egeo6MmYwRsjm1oKtq3gnQ0bM8+6gPl8/m6lnN7hN41Bkde2FD3dMer/w3mOMGTS\n",
       "iSeBHTW8aWAzdi0pwoHHtu/ivO4RO6UAZzhtmOKPNcjZFC8Y6daRNEMiF3BxBKPbrIy4DzmREKtS\n",
       "NcxYjENo64EfE+vWzbtWoTYEgaohcdxLS2W8SGuDHmkK4GZRO97LdR3iertuCsAHK1DKqACSy/7K\n",
       "HJRIPFmk4Dq14crA25soXRUWPsn3hN0jEKRL85bu1H1JESAwu+gIptUjcsVHHnA7SGem56BZdHhA\n",
       "aag9lDCE/QGmJMtnpFg+C5c7Nqc7cTZSuPLIluKAAAAA6EGeQkIb/wAAvymrm6mtRT0Y0bu/DTxb\n",
       "TaxsWfBir3YT7LhAXfRqRbSUoMDEwR7O5ET6moAAHQAbJrgzqO3qXtApmCn41Ob9i3/M1DNdlLcn\n",
       "YCegCRcmMiGfdK6SrpVJ5TreockvYjkpUotD4FVZCV8mFzAka3JvgA8sr8CjbEK2vY0ZRG72Erkt\n",
       "371dQNI3uwREGjlSGQb9/sWHobFJ55acrRVy8R8L6gnZb39o6ww90mALtIe2h/+UefAp1n6jdaHq\n",
       "6KOfU9MIpYFJ/SpyPRhFEF9Heg7AN1oJtp3ToW83fC3dnI7Jf4EAAAD8AZ5haRDfAAC+9XxrLkkg\n",
       "74HvIC6h0mHLnVwxUHF8dIgZiHXZIoZymEgARlcllf8ChP1P06vBVyuwT1Z+bwrs/3hoVFj2hMh/\n",
       "BWGjK39YzBZqY2zmBt9t5V3/3WjOUQ466+X8pUYhsisms4Qoi/66qb2EeJ2zmDV6qgo4jbitX1Re\n",
       "pn+ZE9XVlGmtOkPGK3GcnNXSH0Dg3QjwJvJKZmuq3MMKSNIIjBzds81/+YhCt9s+3Z9KXut0lwXV\n",
       "RDfpxJc5Iqf526/C39MY0zWJvWJ95nfymxx+pzy6pMlKvCP0jY7wyoF2DnyqbJDWsPGDByQ797Yq\n",
       "nvOx1Uy9lDZgAAAH4G1vb3YAAABsbXZoZAAAAAAAAAAAAAAAAAAAA+gAACcQAAEAAAEAAAAAAAAA\n",
       "AAAAAAABAAAAAAAAAAAAAAAAAAAAAQAAAAAAAAAAAAAAAAAAQAAAAAAAAAAAAAAAAAAAAAAAAAAA\n",
       "AAAAAAAAAAAAAAIAAAcKdHJhawAAAFx0a2hkAAAAAwAAAAAAAAAAAAAAAQAAAAAAACcQAAAAAAAA\n",
       "AAAAAAAAAAAAAAABAAAAAAAAAAAAAAAAAAAAAQAAAAAAAAAAAAAAAAAAQAAAAAOEAAABwgAAAAAA\n",
       "JGVkdHMAAAAcZWxzdAAAAAAAAAABAAAnEAAACAAAAQAAAAAGgm1kaWEAAAAgbWRoZAAAAAAAAAAA\n",
       "AAAAAAAAKAAAAZAAVcQAAAAAAC1oZGxyAAAAAAAAAAB2aWRlAAAAAAAAAAAAAAAAVmlkZW9IYW5k\n",
       "bGVyAAAABi1taW5mAAAAFHZtaGQAAAABAAAAAAAAAAAAAAAkZGluZgAAABxkcmVmAAAAAAAAAAEA\n",
       "AAAMdXJsIAAAAAEAAAXtc3RibAAAALVzdHNkAAAAAAAAAAEAAAClYXZjMQAAAAAAAAABAAAAAAAA\n",
       "AAAAAAAAAAAAAAOEAcIASAAAAEgAAAAAAAAAAQAAAAAAAAAAAAAAAAAAAAAAAAAAAAAAAAAAAAAA\n",
       "AAAAABj//wAAADNhdmNDAWQAH//hABpnZAAfrNlA5DvniIQAAAMABAAAAwBQPGDGWAEABmjr48si\n",
       "wAAAABx1dWlka2hA8l8kT8W6OaUbzwMj8wAAAAAAAAAYc3R0cwAAAAAAAAABAAAAZAAABAAAAAAU\n",
       "c3RzcwAAAAAAAAABAAAAAQAAAzBjdHRzAAAAAAAAAGQAAAABAAAIAAAAAAEAABQAAAAAAQAACAAA\n",
       "AAABAAAAAAAAAAEAAAQAAAAAAQAAFAAAAAABAAAIAAAAAAEAAAAAAAAAAQAABAAAAAABAAAUAAAA\n",
       "AAEAAAgAAAAAAQAAAAAAAAABAAAEAAAAAAEAABQAAAAAAQAACAAAAAABAAAAAAAAAAEAAAQAAAAA\n",
       "AQAAFAAAAAABAAAIAAAAAAEAAAAAAAAAAQAABAAAAAABAAAUAAAAAAEAAAgAAAAAAQAAAAAAAAAB\n",
       "AAAEAAAAAAEAABQAAAAAAQAACAAAAAABAAAAAAAAAAEAAAQAAAAAAQAAFAAAAAABAAAIAAAAAAEA\n",
       "AAAAAAAAAQAABAAAAAABAAAUAAAAAAEAAAgAAAAAAQAAAAAAAAABAAAEAAAAAAEAABQAAAAAAQAA\n",
       "CAAAAAABAAAAAAAAAAEAAAQAAAAAAQAAFAAAAAABAAAIAAAAAAEAAAAAAAAAAQAABAAAAAABAAAU\n",
       "AAAAAAEAAAgAAAAAAQAAAAAAAAABAAAEAAAAAAEAABQAAAAAAQAACAAAAAABAAAAAAAAAAEAAAQA\n",
       "AAAAAQAAFAAAAAABAAAIAAAAAAEAAAAAAAAAAQAABAAAAAABAAAUAAAAAAEAAAgAAAAAAQAAAAAA\n",
       "AAABAAAEAAAAAAEAABQAAAAAAQAACAAAAAABAAAAAAAAAAEAAAQAAAAAAQAAFAAAAAABAAAIAAAA\n",
       "AAEAAAAAAAAAAQAABAAAAAABAAAUAAAAAAEAAAgAAAAAAQAAAAAAAAABAAAEAAAAAAEAABQAAAAA\n",
       "AQAACAAAAAABAAAAAAAAAAEAAAQAAAAAAQAAFAAAAAABAAAIAAAAAAEAAAAAAAAAAQAABAAAAAAB\n",
       "AAAUAAAAAAEAAAgAAAAAAQAAAAAAAAABAAAEAAAAAAEAABQAAAAAAQAACAAAAAABAAAAAAAAAAEA\n",
       "AAQAAAAAAQAAFAAAAAABAAAIAAAAAAEAAAAAAAAAAQAABAAAAAABAAAUAAAAAAEAAAgAAAAAAQAA\n",
       "AAAAAAABAAAEAAAAAAEAABAAAAAAAQAACAAAAAABAAAAAAAAABxzdHNjAAAAAAAAAAEAAAABAAAA\n",
       "ZAAAAAEAAAGkc3RzegAAAAAAAAAAAAAAZAAAUYAAAAPKAAAAtgAAAJMAAACXAAADSQAAAL0AAACS\n",
       "AAAAnAAAAmYAAABLAAAAhAAAAGQAAAM2AAAAUwAAAG8AAACfAAADRwAAALAAAAChAAAAngAAAkMA\n",
       "AACzAAAAdQAAAGQAAAMLAAAAzQAAAI8AAADEAAADQAAAAM8AAAC0AAAAqwAAAm0AAACRAAAAZQAA\n",
       "AJEAAAN/AAAA1gAAAMEAAADCAAADRgAAANgAAADEAAAAngAAAvMAAAC0AAAAdwAAANEAAAO9AAAA\n",
       "/QAAANAAAACfAAAC1AAAANMAAADJAAAAVQAAA1oAAAD0AAAAxQAAAN0AAAQNAAABEwAAAOsAAACn\n",
       "AAACkgAAAJwAAACyAAAAjgAAA8QAAAD+AAAA1QAAANYAAAO5AAABFQAAANMAAADbAAAB7QAAAOIA\n",
       "AACHAAAApQAAA7YAAAEjAAAA7gAAAOkAAANdAAAA+QAAAMUAAADNAAACQwAAAKQAAAB7AAAAxgAA\n",
       "A0sAAAE8AAAAqwAAAR4AAAHJAAAA7AAAAQAAAAAUc3RjbwAAAAAAAAABAAAALAAAAGJ1ZHRhAAAA\n",
       "Wm1ldGEAAAAAAAAAIWhkbHIAAAAAAAAAAG1kaXJhcHBsAAAAAAAAAAAAAAAALWlsc3QAAAAlqXRv\n",
       "bwAAAB1kYXRhAAAAAQAAAABMYXZmNTcuNDEuMTAw\n",
       "\">\n",
       "  Your browser does not support the video tag.\n",
       "</video>"
      ],
      "text/plain": [
       "<IPython.core.display.HTML object>"
      ]
     },
     "execution_count": 5,
     "metadata": {},
     "output_type": "execute_result"
    }
   ],
   "source": [
    "animate = display.create_animation(Anim.animate, temp = True)\n",
    "display.display_animation(animate)"
   ]
  },
  {
   "cell_type": "markdown",
   "metadata": {
    "collapsed": true
   },
   "source": [
    "The left hand graph shows the position of the particle in red and the ring in blue. The right hand graph shows the z value of the particle as a function of time (blue for actual position and red shows SHM approximation). The two sliders control the charge factor (q Q / epsilon_0) and the height from which the particle is dropped.\n",
    "\n",
    "Note the left hand graph can be dragged to reposition the view point.\n",
    "\n",
    "For small particle heights the SHM approximation is good but as the dropping height becomes comparable to the the size of the ring, it breaks down.\n",
    "\n",
    "Some interesting/fun simulations to try:\n",
    "\n",
    "    Initial position R = (0.01,0.01,0.5)\n",
    "    \n",
    "    Initial velocity - at rest\n",
    "    \n",
    "    Charge factor 10,000\n",
    "    \n",
    "    Ring sections 50 and ring radius 1\n",
    "    \n",
    "-> This produces some nice looping motion about the ring.\n",
    "\n",
    "Now looking at the orbit of the charged particle about 2 fixed charges, at close distances there should be a linear restoring force so closed orbits must be possible. However at larger distances this should no longer hold and anharmonic behaviour will occur."
   ]
  },
  {
   "cell_type": "code",
   "execution_count": 6,
   "metadata": {
    "collapsed": false
   },
   "outputs": [
    {
     "name": "stdout",
     "output_type": "stream",
     "text": [
      "Tracer On\n",
      "Commencing RK4 routine...\n",
      "RK4 time stepping has been completed\n",
      "Run cell below to create animation inline\n"
     ]
    }
   ],
   "source": [
    "Anim2 = cm.Animation(a,q,ring_r,ring_steps,h,N,N_output)\n",
    "\n",
    "Anim2.R_i = np.array((0.0,0.0,0.01))\n",
    "Anim2.ring_steps = 2\n",
    "Anim2.create_sliders(R,V)"
   ]
  },
  {
   "cell_type": "code",
   "execution_count": 7,
   "metadata": {
    "collapsed": false
   },
   "outputs": [
    {
     "data": {
      "text/html": [
       "<video width=\"900.0\" height=\"450.0\" controls autoplay loop>\n",
       "  <source type=\"video/mp4\" src=\"data:video/mp4;base64,AAAAHGZ0eXBNNFYgAAACAGlzb21pc28yYXZjMQAAAAhmcmVlAADHSG1kYXQAAAKuBgX//6rcRem9\n",
       "5tlIt5Ys2CDZI+7veDI2NCAtIGNvcmUgMTQ4IHIyNjQzIDVjNjU3MDQgLSBILjI2NC9NUEVHLTQg\n",
       "QVZDIGNvZGVjIC0gQ29weWxlZnQgMjAwMy0yMDE1IC0gaHR0cDovL3d3dy52aWRlb2xhbi5vcmcv\n",
       "eDI2NC5odG1sIC0gb3B0aW9uczogY2FiYWM9MSByZWY9MyBkZWJsb2NrPTE6MDowIGFuYWx5c2U9\n",
       "MHgzOjB4MTEzIG1lPWhleCBzdWJtZT03IHBzeT0xIHBzeV9yZD0xLjAwOjAuMDAgbWl4ZWRfcmVm\n",
       "PTEgbWVfcmFuZ2U9MTYgY2hyb21hX21lPTEgdHJlbGxpcz0xIDh4OGRjdD0xIGNxbT0wIGRlYWR6\n",
       "b25lPTIxLDExIGZhc3RfcHNraXA9MSBjaHJvbWFfcXBfb2Zmc2V0PS0yIHRocmVhZHM9MSBsb29r\n",
       "YWhlYWRfdGhyZWFkcz0xIHNsaWNlZF90aHJlYWRzPTAgbnI9MCBkZWNpbWF0ZT0xIGludGVybGFj\n",
       "ZWQ9MCBibHVyYXlfY29tcGF0PTAgY29uc3RyYWluZWRfaW50cmE9MCBiZnJhbWVzPTMgYl9weXJh\n",
       "bWlkPTIgYl9hZGFwdD0xIGJfYmlhcz0wIGRpcmVjdD0xIHdlaWdodGI9MSBvcGVuX2dvcD0wIHdl\n",
       "aWdodHA9MiBrZXlpbnQ9MjUwIGtleWludF9taW49MTAgc2NlbmVjdXQ9NDAgaW50cmFfcmVmcmVz\n",
       "aD0wIHJjX2xvb2thaGVhZD00MCByYz1jcmYgbWJ0cmVlPTEgY3JmPTIzLjAgcWNvbXA9MC42MCBx\n",
       "cG1pbj0wIHFwbWF4PTY5IHFwc3RlcD00IGlwX3JhdGlvPTEuNDAgYXE9MToxLjAwAIAAADEeZYiE\n",
       "ABH//veIHzLLafk613IR560urR9Q7kZxXqS9/iAAAAMAAAMAAAMAA5HT4Cs+4lmibXAAAAMADoCo\n",
       "n/wWr/EBP8mguCTYASgYBAIGFYdb15yf+2esxq+NO8VDIYy7nlaTDiMzFE8uLwjg7m9XUQWTUVE/\n",
       "euESH3qcleYkmCqut5YHlK/2SJGgG2nZjy06mMcOuKroYKTo6KEYAf2ur2Mky3tSoza3HiEhtxhi\n",
       "j3UMKpj4TF/NzQAC2eWzum2jFja0GZb6Jt8+/xQqwGxe5CBs28d7/7Z49aA/gWAFkaUhkjsFgiyh\n",
       "TMmHqs/EHm9xvjBIsOUZJOs46PDkdw+olpj0QUqvAnUWKnyXoFAOyrhkgz649sv/HhP8nY9B/ogI\n",
       "ANAEqegWds/2N6d3YgLJ2TGioKxTLEQXvK6ufIf0O4idTJzyjsVrHd00zfMP+spp+eZqfF2c/yn8\n",
       "AbxZHoxRyRe2DlDRpjlNz9Bduczu6j9rEE5tBThr6Xvn6KVzXLrtwxM0benjXHw8UCb0NqMrLKzN\n",
       "nED+SG6sBi3xCe0b03zgH4kw7RDiW1C6piI2GA0adfqQpCxjIbsujMT1oAAZJu20P13fiAPJiOS9\n",
       "H/jKiy3srsse/QdO3gPzbHhZbc6BqkDvKHOmW51YFaoIU92pgHG8k2JeZ9BTu2rBUnsdd0KMXsBq\n",
       "A17r+wnarKi6V0RPHgQgU/7bs+vBPjUxl25k3GjNeerlyKk630+3bfNgYVng06mCWxz3HOKx2Vu9\n",
       "HFH+18OMN0KOxqdzDDhvlbP8JjvUcKXlcvkgEpDgHqF3XzjOCcl8MH0qDUbBuSbX5JsNZsAoqahF\n",
       "axcXssBSQOSTbjJ4hL8HvtAp01QjUi2xuL0bM8QvRtfSXT1toRLdvSdt85TmsOVPw/F8kkExcvNm\n",
       "1cwmTczwcsefGSk5+XFSwYMnkU1iXSaFrWxFejFxl2cxP8p6EmChdz7cuOHmXyQCTbuJ1vu0RvXb\n",
       "4/hrFRWIU4Q6Zumg0w6sO4jFDS/rt/0q/9YY/30zeEmq0x9HEYejASLpQzbit0zd0D7gyV/s9AA6\n",
       "BIz3+koSTaVxdDZN0t0lts4C8xjf2lNPm5FGXq/raB3at7olYraw2COJHgpQcqtYPV1+zWYZQUPG\n",
       "3m9jrd0F1Q9+rLPkA+MY5Sz310YSLq4hTyzwRQLfHG7zwn9W7Hb4z3wlL6Br848iDujbraKc4bwm\n",
       "o1tsrrn7P/q//3zTzXN9QSiZmZ6lkY6xGtCd6+aQGaXj+Bl+HibhzhH+BX5Zy20S/raNIxUNKETn\n",
       "niW/6upw3/LzvjMt/yan9PJw2FGNsxd9bPnqf1oqyd+CYXrS24Xz1n4F1y1SBiLzbbust3p9SEnL\n",
       "YiIqxAjbWVwTTLGOnFfSgea5+8cc7LG8r0a3+HMZcNoSDScKyJHyFeD54yOzWNNIP0Idj5cy2oFd\n",
       "yUeRPYtP72dCyPwIUmMQnbFfqMnbbJlq8OuBoBMbSRzzfhjC+0ONitHlbGOGRlnKXM+UK8zwvmsa\n",
       "Ycb/Uz8M7cYB+QH0AeGi4HU+f16XA39v5YIDLbjdBQ9FGMJLgpRu004EPc2QABhIqVBcCfio2CbA\n",
       "NfXdZiY6HdZznD0+I0/mZTkyPaz0HC9uglVJ797IfQQWj0kkhw9/4nKM/LxG3WKpVffFIlM7m18F\n",
       "cQ2lXjZJ/IXVRkbqBUsrGxxIziVU1/KFCyQkSwZ2YBNi7BqZXUIll5O9pD9Cypen6l6jj27cYRv2\n",
       "QvafmZdBSAruDY1ZP/9+0vnKt0y1iRDPryb/x/YPGX64fqWxFNCD6KXnthOhtmLbmS1bcpiPe750\n",
       "yHHUY8vY0atYI37cky9yFs9jlVXzy3D5olMLKIVdghLoc05sS7Ur5+CeyxVGcvg12r7N7/z/AjdR\n",
       "J5ZgC9g1uouHSJEU1iEpIVmws0VWyroAIz1a74vWfO9tLt7W6InYhdJ2I0s7s8ZOu3wasIJWTPjt\n",
       "iBhe5AilO+i3rr4GX0PjOwORmKB37LarpbtvQ9i2E3QYm2KG/02Yf90DDoMmCufamhRc6+qzJTKf\n",
       "r87dPVFg4ldVsnKtIryHszFMmj6rN+9h8r8J6hPVHnvTUa4cg8Prgk6P1M34q++jIjX+I1eO8xIV\n",
       "4LaHZ6FWHjmv9SSu20EYvoTrvMtn2F96JrbizCJoGbjKHWPW+1ZrnEy3Fbd/yx0+yicgYfnoHkyw\n",
       "46CkOkcV/G3B43JLlQNKwieKEGjg+78HdI8dOWyEJ0HIEw/eg20rLa66UVlwx2Tmf6+W/63mFOlr\n",
       "zDTE54FdupqK/VLLabREkAHTT7pA60gxmcRxUzCtdiPuIejD3MZNIXwKHfeN8jrmUuTltKK5IUmT\n",
       "aHVsKAD8OjR5tjt/T+oanKBN/WpSvscvv0gLM32ppL8mvse47M/Kr4cKFuJwA31qyJDv4rqdxrY7\n",
       "YPZCf3QV5ZfdxQWXyh1GPAhHy1x9lC7Q1J72KGeef+Dvug12b4ZhvTVDA92HkNxM6WOWIkFnbT2W\n",
       "lTiAtgwJeAAgvVGk6fgmynhOYEAhB4hK6lrjYsHAO+rfuVUjqXKcJ4QVJkdT1qKdVG+yIcfk0g6H\n",
       "XK79NYZbgluJ/n+ggTpcKOhN1QBak8GkE+MiGoTvmaJM25RC21D0s/ue6QHMq/K0carKfUsU5cgT\n",
       "f+mGmVISYYHKhWSI2JIdTqs/eiF/zqnWTfkEvi6Pd3L71rM+Z3NVpLMGn8YT4Y3pjMRjr51HxjtK\n",
       "fQAAAwBRwmxQVtJ91p4vbwohy9ma5mvb3sxwQGW0mHHV4QFTC17EGatjYEtK+ySBpBRrlr+gD4e0\n",
       "oGWooiiCCLOxPwzhJZU6dvwV25RfHfyr33tkUnbLjs/VmLEW//taI3oHjglbgjhoE3Q4gtj8qigQ\n",
       "1Muc4r9zDU4W+XjkSQu+Wf0/yR9R6UKBddFLSkqxdu/homESCcdwabrDD/r8dZ0mGaizQbI08DBJ\n",
       "w7yVmJu6yXc9OMgn5AAAS33m9qJYn8nHUE3rE9rNphBpSSFm1+JG/790CDjwsZsx/O27JEcLJ9fZ\n",
       "tTWPUQRrICyRD46SQLDcurPlbeoCPlurbP7RPSPn6KBcpG9ve8pKnv5Hu7mArzyjUGZg3y11xZjM\n",
       "EZUVmqLrw7T87r9KdEexf+Rccfk8Ybjxv7OjIyKlp2dMLa6/IhI0nsQ+reBOKFHPKEqIMCopR5GL\n",
       "d4u6LdziD2is5X+ggEKKqkYIcrbw1T3JG1k2OX6IoWZN8dc/Y4FL4kV3KyQnerSrrdxtxz9J9IoS\n",
       "uJUHhe1Jz3wyF6wiRJ514SgqpJzrWdMoEUtAUlkPW73GYnp9ucw4Lpusm4ri3f16Fa2F9C3uj294\n",
       "IORhA3EgjVbOHA2bZc+MO+mZF+fJzkXAcvxc+wtx7M09ZRhcwcCYzOMoeW0zLij6lJXs32ZsZSXI\n",
       "oosun/4kq4nBDqydnb5bQCnCCqNsf2LXALCxpXVDy1aqn8aF5uPmT1C1xGQYoyagfU2BOIgQROFd\n",
       "BZ0LZEyIMn+bnFhsVo7m5qLOrjkg/n8fHcWLJHqRLC8PVTPJVhrchzQtXCdU0xjC9GLoAk7gY+MT\n",
       "e8/BJ81ueJz295uR2kYBVd7fpjmOxvNYvtONBS3KjwMGaCvpxnATBqW5tPOf2ir2sVG7tBSOAR0A\n",
       "DdegnHH57vRNvbJA2tGNldypks34UiBFD+LugYJjjaY3gdZxuhyBBbggiyZIRw/i3lObZpWxmsMf\n",
       "/2/Ajvv5LbsJLCqT9Qz69JZ8hkq3RZ29Adr2wvI4sCrtv0adXcAy1vOEA/v4iU4CFmEd/GNXyJkS\n",
       "NPcxgsOqO+5TV21cOqLECWyKVPOp5z3s3YphdeUNrAf5q8c2TsE2yCcjHXLiKX1x8JiaoG43/Rz9\n",
       "0ztVjEeietXtqPW6C4FjEaJTGrpgsF+x1l3IAidPpCUnGbTU5j41/XIPMIjwjmtkxty7ADRz1e8R\n",
       "/zUjdBwxqP0vDWxs5FoTXGt6CtRKWkMSBI82x7N2Ss2ZbdMho1tLqNjwNGjLOKJMsYEDl6psIDdZ\n",
       "KWr/Wdl5f2oFS2OtR+40l9MhUUyJTE3dZVz1SrXMiQRnTC40oBLbhfvHq1dNDEBVUuQgBtyK3+fO\n",
       "a5D2eRAFF+JekjN0rKgCrH0MUMpCyOImDZdWMftqv/6xDo+F9Wlzom757KDbbfngbNuPDpe0p0Lb\n",
       "VwXo+zdq+d37vjWwF73GD/NJPPbTHqJRQI5rfAJIeCqB0eqSQi4wIF9Rr2JMN2Zl9bdPO3ngKqKz\n",
       "hlHCSRyneC7Raf5zgf9Z8oNzR8AyzMeMBO55ReWhUqzkhdqyU8ZyV5C25rDrOvFZz2gea0YuKq05\n",
       "a88NCuYC16Bf8KnX+pfIpEYPwj3FqaD/eFVZL45fw2cQBc+0hbZatnBgBA94JaLhEiSkllQKXyUH\n",
       "WvNIOgtjlJeUp+Mx/p4S3D3YGdSUtm/f/zsTKwXYYGCWncfr0TroZo4pnDu9yOfJ6qsR/2s/SU3/\n",
       "fV8obyj8IgU9kGM8BQ6D5lKXkIzBPY9bZ+X7MiRqnPKKRFimXkvji/K34GkSay2AN3Dzt3cj74Gm\n",
       "IePJ6CdNe+qRru4f/nvdanyiDbew9n+qJSmNYNe2erxxTlIjqGyZgdblJ9JWvyD/Z+XsueTuRL/W\n",
       "NtW2L30KhOwDryvXS9034oJrC+BGJC5239ucfZ4NZo1mx7SbxzeueOf529HgOVLKeb+odjfTIrtz\n",
       "haA3WEf6E5OgQXvDFjVNqAIUHbgn96H/uih0QSxXibm+porJxFUk0PwAee29QfBQTvyIv849/bev\n",
       "fDb12dUfsFvpXfynwSI6FENKJ27gQUZ+/Jt2Nqvnepgmc3dJrFLMksqyx5krPUvI7a4bve9ioJgB\n",
       "02fj4bJ52V6f9qnVyoztDv1dS8aVRXN9gW9fhkov6kBAqqiXs5d4XeSASX7MsxIb0MkjMGxUjlp7\n",
       "z2+7sx2kXS3+oubdxEbOkLXkFQCHBtaluJ/C8G8CuXsnrs2ZvFuxhIJKL1i2Zf6PFtox9ssEpjWz\n",
       "t9/RGVCxYAMJOjrWW7Mj4ANdILD8lnQsrHrm1jlgDegc36XEZZrh/5RnGggkp21LsqQsLIO5AUCz\n",
       "EzjJdlxPZlO6x2chL8HYWMvWr/qCEaBAOX+UoV9y6+ptHSwuCAhdK638sjKbK/YN0HGk8+Qlfdvx\n",
       "rI8aHFv0GIdEDULsHrvhkZ1xY8cVqYHBH+A5FQHjl45uHLzYbEVkJJqsGY2lP4i2rrE/h5MUBPPH\n",
       "S2WuzqX8aBH69YcUdtIiItyfNxjPaZ02N6udK/czvw1Bfb37bUCjHu1iSCbGZ86LDru8u0UbiBbi\n",
       "hgaGz92p2DroMKuxdExrlafInhZ9Ro94WsIq/uU5jX+QoqrotBxJKMZ9ubU8CIpvnrk4Gt6+wK1p\n",
       "6tLUKPiqtpxhok7weH4VZJtgvRiF1lnU+EoQG49Iwd/KkmQfpz2mwaJgDnqm33oPmqccoUv+JfFP\n",
       "ILcYjbz/8ky+I7OLUXtod6F2by1ap8yn0/asf38Cs5V2iSdaed6Oul5dI/yKy0zscldapvV9kK20\n",
       "tvo9nusFHXR2vGDOk3GNUUAhNXprueDc7l35A1iC/hDG0qc6WE6Yo9QnxBH5ooJqH5dKTl2Zr3pK\n",
       "v+7yDZzl98Yv7MRtNHBKUUs7+pfavzVPZ9A2iM7dBcDm3ZyOeChEywaY57oId42WYbXvJ9kMdkqq\n",
       "bofnXfjl0HWlgnKNoXbkuaKcvwoAAC8+gmVq7ELj16wGufEaDXZtBcGKsK4aEBbzxJXQqTXXBGHM\n",
       "RBVxhBscSVlVtVFS9UHBGnvQmA0NgcCXqyHmiaKBNijQgRJhuU2nv0zUTlo+lfMqUsun12cXSSBr\n",
       "RakO8B0/FHHJNYhmOEoM9w5eM9pAaxaTFPIMZhC4RM4p2p8VBrJFFAcCkxUcMfPrd4L/NMzIEYIQ\n",
       "X05x+j/PkGa7UiWHINsOeUB6Le404QvO5GTP9B5FfpYzoKcjCLHOck4oLm6ej93G+lZxCrs1HVjo\n",
       "qncYlQHt+2jo8LES2/oNo3R8XetIIJ2YodqR/0+aL6hSqYwz2cpfXZZsDWzHO9o0X2O6tfKLZRKF\n",
       "B7EeAcFJ2RBgjm3CuK2uwKsD3r+xQNOkVr4L4z4ynEZ60N4ACJ3NSvQ3BA5kAluAcOB8AKIqt/NG\n",
       "LLiguWx3aCjVBqNnWVWYZIgu+s0ZwqebxhgdOmrUZ3hphJIzIi9Q7VAOxdQP/QHZqprfN7pBRCnV\n",
       "sR7hBuAaj9RFfyKRK8s3/01AB147yCkdA+CG+QMEtKzPzpqumR1+fZ0shmfzMdm25g+80kU0jsju\n",
       "1Cp8wkt84X4o84pqro5arY3mPn/L+mAniK9D2IlLsfj+FSamENtaBTtTgHdr9QwFy/EWSm4RGXjJ\n",
       "1YpktUWR82ZJbvU2SLMn7pH7gMp64MpJpYSfpA33KWFAHjxeFoFw1T5KMXFWnv7SZJydiMtxPK/0\n",
       "qpypdQNsyG8xXQq2o9MYgF6xYFY/XovnRxSyf18/k5VVki7aJAo+FWOv1QbH+5IATIEo397e7tLx\n",
       "AUALIl3FoBRM+IBV2xpulKbdnm1VYEh8rHl8ALj9YX6bKwZ1SGPrzj83SLgaTgcPCzXrZcl/SV6X\n",
       "kJRtM/GE7vYUHx3hbOiiCZ9ZJLQK2RhqlGR2t1g/G7H2nnN+j2xvEoHLLr1i/XXCrg8j75vbEBJv\n",
       "Z4HewyonA4LWE1yHSgDKGY5YCWubh2MKyLW+d2B7bbI/CicJ8jBRG3yE6SXU272OvTjD6xDkVRBs\n",
       "2o0ozIeMGGlClZrqSu/zDw4nO4nuDEESIn5QFvjx1pBlIeXALUDsKUF3Due7oPhRGntgrON62hMA\n",
       "gNSq/qmk6lfR+zS4xDO1FklsvC7vMzscirWM4eRlrMSJrygtGm+EQHfecx0fugSYOk1+2Snc+ZSR\n",
       "MhlMjiWYjq/C+YsodHZyYoVeMzUV3p5jUvOq9Amr1dDbExp5JsxdgAB6vdey+N/RYyx5cg+e5p2f\n",
       "MBsql0ekp7T5j4NH4h8Yu1zt7L02niJ5YYoyqeJjX0CzPEMWEtq3CVUfD19oLT9DSqKYuxU06WrP\n",
       "qjAuUAsaYky8CmFsrIloaMHhRnMmbNHuWeZWrNnzvelrsyEc0GVpmaXRX5TEDEdjl9XxjDFuJooM\n",
       "tRtlJTw2K/rp8kEl2Pfy9rSpxEuEq6iaGJr7hXZjTIAa3KnMGo/wnzANs1ysY/otfY7U1JNt6Nx4\n",
       "GwqrbeJCN/OYSxnMQbY0txKcPvYnk66yIVWrw7MyfvuKa5KGYnD8P4qtQhDa40qAupWbeaHgGD+U\n",
       "fdmBHUiTLRdBJ5MuJZxsOgkyE8KTL8Hk0KD9XTZwzVrrkuYP32ouaNE7mrKwJNyQzKs5xwbQoFRu\n",
       "MQAGraEOu+/sIxH48BnkDnUTGwAARH37Y6vNJiCytD4uUSQVaeSkeZevprSUKOJOr++eM5vL70kO\n",
       "BkuMYDVy9nB0/7MKgpCeRQguspzBpad7MOISXcy0G04E7K+4+MPLpNZv3Zz6arcrfoc0ufp61Svb\n",
       "wGj5NwA+h5k/NgkV8Wsqa8BwIukG3fS0O0nwAOIvYBrT7b7rl7tho1cKgnWdkeOY8rfeR6w/teG1\n",
       "uWqjmAFgrHGcVtvjMD5ZeGn/I5Skl5bnBVCwSTpyCnEVK+6ihbl+Uq4uiLUHsk/L15vJv8cu/0i9\n",
       "vXJoCnWeQCfw1meySNDIagF+j/v45aptz140pVy+VHS5KfXxRdfgQoEVs3c/krF1Z3tV51L+tArJ\n",
       "iXLFE1VrKbdScvkrXWMHzWI6VuQobQgpaPQRORvpibvVWzAZXJp17D+d8ny3Lg7Hj9EB+R+PLqWs\n",
       "bFE6qj3bALBE/bwl6A2mKIoRwoNFp+xoCr5n8zNSX/7C3+nSs5PV1iINCg9hLeMJ1WJHbBoROpLU\n",
       "evydPxqHU1WU8+adetXgWBPxAY2YgHWsf0zcsDDRpKekYbzI2iF+8dQ4tkoYxNqXHYLmQhVJICpC\n",
       "xXh5o8CTYQ32jIrBpTXKdEZCFreq4sbDdE5FS2jBjQuGc15a4BGSSMf2Frl2KAEuJ1LACXkkBs4c\n",
       "TOSqVHfdLP36oMw34cgtZ46+1u3YZf+GYmMdNFZbuS4nNCxBuIy3ULfRjHcU8vl65HyuxygnmjCs\n",
       "wKq46rHCigwDurL3TzFkjmfI2etGIyt2ogBJiJadasD7A+tLlVaPAuQH06GA7fhKGrUkT1RHLTTE\n",
       "VYM0C7ah+sgSH3FM93aYXnahtOPMCp1GAIwvRD4Z0TRmJ5//vzvNf90zzM2FlE9wuffX0eu8IrqC\n",
       "fAypyuzk5WLvvKnFgHAqI+5JALhGru1ycgzSum/HPfsSVbm4JFhBZLUVCT/b64q7cxmt0JnzDjza\n",
       "INIIiBmp/8K9JRpedMJ+o/bGOl41yTkyX6YFK3Y1OakxN38KVrK0XiQys9LiFZeEJONUJ78JYB0z\n",
       "CrJVwDatJiJgxQJG65+cO1p6kKuAI8dQM4/JkBsLY2L8iYHovAx5I/6M5eADFbTgYZ/2998rDpCD\n",
       "6Xm1W8NNlPlXhLoYW2fI+Otoggx9x6nV5p5U4wL3ZOw03O/bcOFwha10qTdgWXZY9ha9MVzZiGeV\n",
       "6+N0IcQAFAm2wJA78ZZFE7mw27zC3ms3nM6Lw6u1fw2uDtX6DdFPHafXVitHg2v5hlNwtck37ugY\n",
       "hvQMxIPj+kBWnIL7x/Hh8aj+ePbRPyLdLt5nfUpGZbl8GW1EUFrdW1WmaCXCZCC57cer/XBSzJxO\n",
       "q2qC5AKajoUs59u7CF9LQn6oAiNLtk0BWGODqwEf9TNu4ObaOaZasUNS9ZgWvyjZAFaxn7U41WiW\n",
       "d02/1OrLFM/JJh72/M1DhV3/V6CdYCZx5zw5gGIvJ+dbhEpKvwUJqEj1OAnhXj8IlK2sN/rOnRfC\n",
       "3/tij9DQUFnjYkMyfXq0PrBIfigXr97dxGrG//N1JlS1Tfa3MCw75AHzG/npSml1HewRC95HGgkw\n",
       "TiIP9PicO1s0c0OBCwvnsxBUjn0YT2xVyFPKE+xQQQ3Q94X7iIj5yaRoZliTPdIxR7J/Sk6xkh6Q\n",
       "m6C2e1T615OLxA2E57lTfo6K/9Uv3nbiDuVQdWCWYgpTZ/Rlx9DDK6+lF0f5pM1PT6vQ39EpimNc\n",
       "Mf/sIy8gZZDdKUi8yVDzXZMMvAlQfY9MUFBv+qWEnh1c/TIjsf5edcnmaTGlQ3Hxmhs+LGTitdf5\n",
       "+fUF2S9vywLeKLmy5z/4PFxNIS5gFC2uYjWq8J5bPFvWV1M/Z8G4qt19Y8n23vb9vZTqS/ModfbT\n",
       "+p0bm3mUEn8Y/UCZLvfU6d0s0Hcoq/rQ4dVQvr0z8y91YOMHqT/Zkwbjzi4dPvPuWt1/IpZ/DY5p\n",
       "KIfLMq1HE0cNFDSsbfeDrA4V+KcYKCdkhulqrlbnGTi006sSdG1jmKnkpomBKSzInmVTf/622j92\n",
       "Yw+y++gWnXTI3XCrPgd3PI+bRG8DMSiNWuvfM2PlkcuAftc3pN4tCVcxG/KXMcWOK/Yhq5CaOaDw\n",
       "gcqzvAqPivtpaUvIwhmQ/IvO7YACALX3Tj4e/WdwWJxKXWIWm3JJkHwERaYhJQHi2TTQyNUAguQt\n",
       "iLfMD4irnk1p+ITLR/lcqSxhO+uqDkkRn9NuGKJHe96wD7t2l5BVlLNaUXJE5eoWsGhVCtL3VZrE\n",
       "EBzUK2Qs7mB9bCY2Wuxhmt+9S7u2/D+Mw7L62qtfqa9Hy7oXOLb6XE10ybt+2gYK1tswkPDVgHFS\n",
       "7fGKe+P9aMtx6xWBm7aEgWQp/g1GOsqCrbS/t69s1uuVZTyY0OlW9L+57WhMPQu5eP5Ro6QmtIRT\n",
       "0zbHb+akqRN1pbj356DEPptoNxFppY9QKWb7XAuKaHP7L0uvTskHUXbKhY0l4mm/EY4QLx/+QGT9\n",
       "i2kMfRAbXCjioTBl598KTnl9n3oEzooMDMKkPt5LHdzzqajDGXIfMdHbr2VQuk4W5snEtlpb+NoY\n",
       "VJJBPZDa+Lq4U1P+M3BbpCqWf9iMmK9sA8X7RB3K1msbv94h5ZCx7u+T3NnzZcvrT1VvUiFFm3x4\n",
       "VNDU3tBnUGaaNLwkZnASrbhpkW/73iADaEVpJWjRhHQhbGmK6iX09K4xHqmik6k5+qS3iECbNsaU\n",
       "oGlyDjGsXEVkIsA7e2sM/fu4J9CQwKzjAADiSf1AePH+TU6IANLYv9DFHdwTLPq2QRAT0aJZg4tu\n",
       "oFf7CSwsERJzxh4BXnOoURx/+AV7f+0iVXNWwk63NnPLsW6JD0aK0V4KroQq+OOEFoRyaVamQlNB\n",
       "Bzd2w3sbG59p7IpPMgdPX5IKTTHpD8EudMMe18Y4TOW8CRsYYcDfgdLJ1FKvUmddFUh3cD1m/AKW\n",
       "2yoLhPLHbPHT3n0f8CKtb/0rjYrhYYtReDJNXiBORPQFnGx7DNhujC48nzlSa0x7Cc/Uf8Pahp8e\n",
       "Vfj5svrcRy+vJ7ipZ+c+2IHwwjDCHZk706aeHCFPBNOiFmUoNpJqx0J50CM25rHXtOV6OmAPtBSs\n",
       "hTEcWwqMTmd+PgcM9qqb/w9L2PDw/TELhM/qsauouebQuckvJIY3zkqCet5Q3UsVsAt+2sQwlIXy\n",
       "Njs91WAF6zbLT5UyjadYmajLrQBN79axwC9Tt1NI/YkDEd8Q9iozkAFI6E/HCOo59/5NY2gHat9m\n",
       "U+pLeLPyOA9Hi/3VQlDR6RNGg+xZG2KYVWIjXYEt14Ea60mRplOmUyRnJ+Cn8wr/N24uQg4Z+3WN\n",
       "fvQgLYJODjbSL6Iilp8RUVZJozCrh75rUYPLLuth2APhwu0GctTAgTbPdek7aNKvBn0N1gk+R+zV\n",
       "jRjMQ+DDpqeOjL5E5zjEQw5GFn+BEoGlXzcOFXRww1vvuuA+WYAORkaMaTDXTgn0nH1E/eXhFKGE\n",
       "HI6uP/4B4JdOrvN/vBCnWhJrHPJmEXYfT8Iju5zE11nGUuARMvGDU0fnXyCXkeVMcIACJutlQ/og\n",
       "S0NdOXJBtOfKSCKoWKUgSeEJ/+w5JaOjwGLX2mFVV9QCYaMvQ92FztM6Q/QmceTG+xc5qYLP4/6Z\n",
       "ULmX2WTxg6uvZAaS2yttibakiBKknBN1pzzDpwZi1L5vpV3xp2moIkjTVIBPikacdWCIBGATPxKz\n",
       "lLG95vrWfuNypDCP7adAgdHVfKGxO1T9DMyuudU1YqhA+WrqSDXfVDY0jVVchZKFKVZAYYihmbEb\n",
       "v6S+Ex/gXDrjMCe9Z+jAgQpRlNan3vXzNZg7v9gcYvJWouxACTQy5n6vxJjl8aEE/sNtW4cMu8Vx\n",
       "UTTB5yRzUKMuAzumRHoAQoMHQlyJ+kBLSdQerQAoMWOYngYhkMK8yitL8LxOiuUG29r1IqSPBsbb\n",
       "o60mBhlyb/+AAXMRi/D01iNFq6l6RH2RsyMQrlTocifE02Ypsbg+AFgWF6itmv8hlav13GCs7b5W\n",
       "Mf6fcLC8tSTtgDFICygTiyBgXpURE/3tgPHcl5A/fFXPvctn5aRkfMApnmOWSj3dmf/dTqkt5LmY\n",
       "8RxTLNk2+Hs1CnfDE1DE0NnAvWocbQb65X8b+IxAZgWPSY0SKmv2j0O2wGD/LLWlT/ZO9UGP3bwO\n",
       "A8tCJJOXiOJvivG5+msXE9VhtipgCQ1PmaVkNBCsRCjer5RsThFea6MglPZy8U0Rp9BE52PIgjfm\n",
       "cWYlO1o+N5hjYSydxq7c7xMhsR+Z8Mr4slp46HQRmWxCBdnOoDyyYWXFlayBVyvlO1reBCBwx7TR\n",
       "myRvZVcmdEdApqfLRRbcHrrVNf/8Ush/jv7Udyh9MYpss9SEvX8C4GbSGztb5G5IkqbMWi73IHvb\n",
       "W8bEtnIPmcWHoGCRbBzq+9iVTP5CxGLM+g8c0Vr7WK7L77v9ECes5LUqKLBJfzMzfqYon9jAa1J6\n",
       "mHTNwSBTwEt1z74cvyLqpcC1B/A1TxDAg9e/9Ti51eP+SNM/TtdiWdC+Z1WhVUHpJgRFMnGcpkFi\n",
       "g6qaPwN2D0s4AMMDer6z051qu9henoaKC78279jx6TrTdMANoa5EjKuEQNqj9xRG3N/Qdjh65V4K\n",
       "gt0xapQGYhuRR4NHppiqlrwj8391cfENRTYrM6017EAHhxjl7ueT9vx0wZ286rLrK0mOthM+p9S8\n",
       "UpyyoLeqOq0kQkiNUAYmEiFEfiL84lyY8d3lVIjEs5+gKo7ulmAwmgu6tSITiqsScI2axhnGktQh\n",
       "inPFDX79HO43UJkkMtvNxCXUjQtkmVwcYzBHLxQt2fX05nNeFfTJZ++W+kG/CjKISG5593ISE07j\n",
       "Qt4SvKMvyD/B0t0JaC7PhMMjM6tsDQhqKUcMdOmC3nFTMqXidoJb9Q+4lt/7hpKdBswIQ+qXhoYb\n",
       "hXvSPMNxlbYDn/RbSZVH8gImP0QERnvRMwkDf7J+kLY3mkHumH16qNtiTHP/R4PFRi7qrbtJWnX+\n",
       "PUnkPUQDJ9wYDDzF/IqCkbZm51NAn3KkhIujyEEdu/OZwPf1reiuyhsT9ZhbY0+gGp9XfQ1MCb6g\n",
       "rBprUcECRNS25J+ntZ+xcYl0Bb43tlA2yc//P3WxIho7PLk4iGz1Q7XWAE3fjB6X/KY0x9lELT1w\n",
       "6Y/Chpez38kfzXMOeo8dSpQ7oDNR8+QGlKLnO65Ee5KrSYvrUbXWPyMyx71CkgqrnZArckuoBmPm\n",
       "l3sxYUd9nrsNuR6jCG/fp3e4vIuohxD9aMfbMWMuE+p9ant3/HLtu7YeQUIpOF4vFPNEDnPhkfxp\n",
       "dy+tlgySGcIWc2PDQYLPFy5gEK2yoT+wXXAh5l3BWVucCj+l5xtS/3OD07eD5Cfz0nUtQBKKNxGa\n",
       "8dVvURAauNpg01u0tJ9jaBy1ogJrCOCFKf4foPR8T6O1NYDbro9hQUGadKJ5qCnI/TtzYnRQieHo\n",
       "YJ2gfOgB9zgN4KqmMySP767QiAHLnjrG2fsQuzueY46B4028ecZbCwazP9GKGeqjnjXSSG3GC3Yw\n",
       "q7hc5OuniNtDYAcBGacVoAjvG8w64rWoOYSOVHNj2/CReBPfNNoGskQ+ZEBx3VrGgEobJL7whFdL\n",
       "A6JUQGm5Ki7xBpH27BpbnniKE75saR6bWsVAGr5V0Dieg/jKvWn1kCWLsKRsbYyiloN3sDUrGpWS\n",
       "A6DG4b7sDJNBpUyiwp9pFyDnjg83PBGPGK665IZh892MfWwst9GLMqYrhg8rFvfr4Q0znkL9pJTQ\n",
       "Q/Vq/K4Jq6G8yUTLcTmpy4AiYBO4bFgBOxmnmpSFCLeWuDYq9dv7rBhS0Yf3NL50QRq/ZP0+RDr0\n",
       "EPaovjpKfBd9ynPY4mz9B6uVtyH8P0e+PztC3l8gwKgPQQn87NS984zU31/b8eavUsCe4yT9TN62\n",
       "dPF9V2bQFJ+KSGYmYY1+5eaQEUDTf8d2HIa9vIRWsKSKCK2X4BE+jGWoxVFynmhGzvEEZqv6mjj5\n",
       "GkavZgAC2wncKFlMq2WXxhGPHD3dvYZOXt0V57bENwkqp1JfwPEppY9We6KtkfEUGjbeJDwyKNry\n",
       "vqUf/DckHjfBb/8Rq2Vtwguiqvl9mVExOv+L/PtXVPY/z3DDtenhKWzWrsle1Fa95wHVROK3pj5O\n",
       "VevnIR7JOGsvfiDVxS+tIEFL0ZW4doEM7NuInoQ2zaw/n408nxVI5VycSRyUYE577K+ryui4uhux\n",
       "ZHXR076GK5fJl1Mmcgl9c6fVJoVNE2B6YPrjGkyesUKrMHPvAE6NVAMyfwjRE4kPnFAHvcf2iaZc\n",
       "fF3N3jtxBM5RgcKtVTVbhBs18eRRsfoOIGPSz3Z8dXUfIYz3t7X7le4X5OYhimgE2dE5MPhVTG3h\n",
       "W+Uovyx9V6Qe9vNOpyxmyT57qY122LcFUTBgk07js211UzS5V2rZmF0DIUmkcSoprufhsw9Bi/Kz\n",
       "b/qCua1uLuVezCBEGLBwV+hDwWlrixfUSwdtFxen8q1u9FSADEtRbAXrigoIDprgXmdVKOknh0Jc\n",
       "Snb5/Se8IZBzu5ijRzX8iMpRkH/udufc+wJ8SE/ntC0Q1A9J2ps45+MvqFtgAs7YFzC5geWvgvlD\n",
       "KkxDwhSEH4gwIAoUJSn5NKzC4Wpd8r6KwZPte8T3bScDk5BqY+GVaK0YNtb4nTBJKlk+s0lmdB3R\n",
       "J+YxBpTGqiEast8DkxT724rJgJhnniMPJtVhsI2nDKYmNlhzkswqaEF/aObV4cKABpzwGYLOD51n\n",
       "q6YO8veqMGR3C0iu3m0AuRBurBSxQ8mxu824F4A903OFYVLKrTduBeAPdNIbzvvnposQ/JSPpMXn\n",
       "kWmYhMg22Ws1udK0h1XNiagRDqfglvcpxtskY0QiX8VM8jkoiW/xQBKGR3VYmIZobJuPghtz6ecu\n",
       "P2TksLZEnH7lnbz+JwIzLlVi55QjNbEinZ4VJq7CJP00mF6DmVgv4ZWCyIgrRa97ciCAdBL2I+wm\n",
       "AhtsqqXtRlhjbrhJcLaf2Wjp/zWsDLAgX1ly4UrNJVBN9FGty8jLnJFI/IKqBVUKZazb7slGw4SS\n",
       "2Rali7BitXyRsoQN+1tLEQuvT69Cx42TuArCR2ebi1O96DngQBASkeUHcML4eER7NF7KLeiBdRni\n",
       "f8nt3Jmvy7uF6JgM5sRSXxJ14LZtbpCsYJ80pe1RJdqbvf0uiwlIS06kByrICuuXBCzzL+SvVq3r\n",
       "HKj8NcTRb9kPmhK9g0X9sRrS5uDdCg/sgQLQ5cAQM92GLD+7LHUYof78r3no4q/90l3onMw+qguT\n",
       "wgN2s6oa3O0p2ZnDfB/6cLjwonibgpJ1qRhTDkamgtYKDzOx+jdw9jVyRKgjem7K72KGN5JoTC+Q\n",
       "+0p4pLEsXDhph3yjwfpZ62ggVOV/7pLvROZh/+pWbmBfFtVgyBD02f/b7WWpiVWPPQmYrSfY5bT/\n",
       "CQJun/AEurDnnwDhioXkO+/WGIZ/rzVQ5zfSACwgvT//+gSy+6hO1lKfqfYuDhOCtvAnEU+ezhZT\n",
       "s7ILa4AW+nY+c1fw/SXII71L9BDuKSqDIpJEAaeGLDu7kYpTnQC3iWh0bmUQYqIMRWamxabYBu1A\n",
       "EZqPr/IWSOOqlYdemW0apLhQTQ+1CyC4wdjz//DEd2mu0B66XhuIhY1zW1xebYKn6wDsHlBw30xj\n",
       "z3LHQTDZfDnkQ4/zKSVmfh09lzo8WEaY95OE5GidbitFprmrhCuTuWpcFWGb/LFtcDeMc7lYG3tA\n",
       "jPFaGL8uvIp8CBVvR6wdlArCru1w+gkTPq8XDvH90GPGmZwWbW7QL913kRmprog617TZUKzWyFHo\n",
       "hfxHHg7AABfFtuQs2IURA3YjsHWOHlkQP5V/T8BxaxavWdFT4WEy+n42kjgneqHDVaI6IL6INFNS\n",
       "oyEbJH9H/RSLU3n8RR148ep4BQKvCPpEremQFsZVgXF1mYp5pQ+FKX0vDOjPaHrFiCxH2Hn/DsYD\n",
       "y6mqeWIDqa+wmQ3e7naUCk7SsmFpzKnH4sxwpvpWNzsoGkCb82q9xhM2G/1RL6xNS9BH1X/7W957\n",
       "4uMvlDLHnPVLqWlGQkFtVi7xas4U0j6/JtFd1Zdhbp2RS2wCl67VNEYuZy+MrFuwe85YYWx1YXwY\n",
       "+Bah3QwzceswVWVRRkTqlLb4NzyCt2TrbnCLU5O/nCxEZ3tafCaM6tXjx5PqDRgbmJ9Pp9m/PLzo\n",
       "LauX4ImeVLWndjStW5ycZmi7LiQkHG09hTB3ASVYVDOKEZyjzLWi2yKh0QqnwwjJ7VIpAOU/YGo4\n",
       "VuX6xVQe5pH6rKnCq0BjESVHPSUw/YkIzzsjkjjpjkPXDmm/3kfbEZSnvFxgzS+IQ8z4H9pR1XHn\n",
       "E23eBX9A9JScuMln/6u0bXC/RtmAhpmHiS1a+u9SjVxx/0KDMoCayqNYVBjdfLk2wsayUmu/K08S\n",
       "k3+Ixv//lWp5YL9dlO0X2DRweJ5tFVm2SjUJxCybQy73b19/1985lWtb5PznBJO5UNv/1G9/buVK\n",
       "jshXIDC1pk+4evndCfh1/cokmQ4aQcX+Fyxby0fAdnATwv64BzedjlnIjNZJscvp3sCZxCQtXeG6\n",
       "S49fIfLV6KWCPo6UnjPs+sKd4ZZaBS/r6IbZChhGGoZf+h5vYIQUKRghxEkNxv66veG+e4LTurSH\n",
       "y35LDXS9gnDnWoqsvZ/WfnP4f/6Mz2CHgVJYQ9EJ/FNSnskVsdKdDJEbfHgH+rP4JR1SgHWkiAyI\n",
       "FPGmWt5xanp/BlVScDSEOKJjAnEdtUwbo2FRlvFAC+J/3wPoF7yk3lP5NcTWYs4IjUu9kLENF/Ch\n",
       "b6opkRDOm0iRWENe/kMN8/5AsPAKpj70hWysa3xsvyxJKk8PwLvm7fiPsJ7RpjPT1VtIYtxhPwui\n",
       "1O1sYHY3OEEp+QFSt1w+Xxmu6zItGaONTxLooR6HcNQyde3kPd8LLBMkLk/A8/eFVX70HMo0qJ7m\n",
       "aCeJ35oYxRp14CVlzdQxiF3ndylMxbkuvgskNpcsOjgij8B5fUCVKOx3J+77sW/FY8L2hs87tCd4\n",
       "xUe0Y6ygYQs+KuVgoanVLea9zzqfR0Ozps0gENYZzPuB6M5Mvfyj+mwtChQC8enbzaAyCaY1lItg\n",
       "DVTyXeSqC+gWaaqFsp3vNUwzaxOo1ECrGK1V1AcJxwYUZ154MiMbtyzIubq0AWPcoZNzPJgdpvu+\n",
       "S2sCoiHn3oHfd5YK5MPwAGwlIKHV5A/UUYfNMKnmSC0wNMMI7nm7aSb40ig2jUxsILWd/N7x6nji\n",
       "gUbNfCZNyaCsFodUDFKOCndUplpzn1v+HIhiF24d2PoXY89NPHpFAUeFPcyeSE+k2yFcsyRs2HRm\n",
       "pAcHPVQvN+ghX0ALTNkWE9xBEswAAATsYAAAAwADjwAABIJBmiRsQQ/+qlUABisPgAKTdrnZe0Jh\n",
       "It+YGa74NeKBZjkFnq19wUk+4pnM+nWuYKmPrIJkYrQewd8C3vipQLasfrFKq4r5IN7hOA3X2wu+\n",
       "gxNH+jSvR19SY48TCeMmpTKZl507OrEqv61h/62EmfI8kq8kJcmyqJ8MEMbM1kJ03mfqbT4XD1s5\n",
       "yO+YZHzqAsdU8dXMv54CyAVM2PX2FPgc/QBA1FsFrOi0do9KZB5oxig3k0DH9hVX5jBdBZ4teyT2\n",
       "t3/m+TGb0aAqNumvKLwi4Nd+698zHztqYq9DtDmlPd3hz3r+y1kEXQYzrgbqwb379XFVSpQPu8qQ\n",
       "YVF3m8A2NYPvjNqs+ZfJCDZIDlVQjiikO/HJH3TUK3P8biYauXTTJBKZaRuCPBIse32UXaFFeaOP\n",
       "915Vkl2r7apJbpcy5VB7Y2p0OvWDyuD+3p6bL/9sjeckNcMeY9T26SdPtWtpeU2/3aRCqmARXOcy\n",
       "wj+8zE4OFJwAHQVxnXbaattz2Nv9IpiLqjp2lLBwxika+TQZnFqGu93quacxPdLXon24opOSRg5n\n",
       "mdCmumvAm35XyJLCU3JC7ne137oDtLpimd+8MZjgppnvMO1U1R/OcNJK4/Dm26C6cNqp71o7pDYe\n",
       "pIbuuALULaiZDvtmN6ctRH+3wmQ/A43thso2Ci63UCEJ+/5yC7dwhKUZ3P4OMfQBC7D4X0386KT1\n",
       "6yII2Ogt+x30TqLknEBGyRl1fyXbuxCLW1Iy8Qm8acSBE0Mhwr6k+E0BLUNPbJl4mroOW7gLy38H\n",
       "UxLU1RdfA4UMqpuau01HuDtuD3llJInykojWlEVyXdpImXI5UzMInY+5GgWYpCgSn7sRbIJ0YfgI\n",
       "DjTgxZl+5EQbHy1CZ5bNHNy2XGzND5SnfmRKLugwn5ZwaQyvafrIa5iFH9tnxFCcBB6V4dVUC14P\n",
       "DtFpruMKDfEX78D77TC4Blm+TF3IngP8j5JOnP9Er0z5C8sDhC5d3K1etOnqwU/kvVKgH4G4oaLi\n",
       "5IAxU6Y6+uHYKcZqYSXLHj8inbtHKS9csWrARBB+pVxfcGjIjHNcJLfBkmgNjrCUyqqMc3feoLyG\n",
       "7ec1eTUUZ7gim4+xiOXvkYEbY2E7zoWqlmuBNo8f9CHf2WS3SLvr/ukGXFBg1NiUvpgcouq2ZCrB\n",
       "ADCLLoCn5odFEtp8u4ZRGKNboM5FO8AqQtmMmfozQFJ3+QSZBkCJ0D898VHF43bg0onhISjF5lr8\n",
       "hpHJy+S2EfWl91keCpkv6Xr1720yRTGPcHP6wN5fCgVDOiLpQ/xBD0QC4QU+muDNg75ons5Czdjt\n",
       "A0XaSuisqR41knnu/XP36+6xC2k77HybbV8aFkkmkb4WXs4GK49p111ZqII1U2v2xuaQEZ0cW56w\n",
       "0h3m0cV69AUz9V67yQOpxC9xhXYycF53lvcyHo4VMRGMXzgFC6OoaMT2TJPR3NPjZGKc/mGMuvct\n",
       "QvaNn/s0q+VDF7rvMbk6NVMadk+foFiOS9K2FlvDPv/8Z9tSSKB+KRsNuH1ygBkFlAAAAOBBnkJ4\n",
       "h38ADAbWzSXKxfnALqo6U9oAcb04YL+DDTdWYm6QvTb3iU5Iy0c/Jp54yb9Pg9oX3OC7S2R9Df2j\n",
       "zS/E6Q4xXDg/VNkH1DJmnMGAk3Isiie+ZDtk6Sef/wat6uJ4YuXXW3MdSKxNtRQqC1iXSrSPX2uH\n",
       "PkfMtoWuMzfC/xSDFRoPzX1R/kjNZ3yaYZtQHdr0uKhxpTbWQdWQOFPSo/eN10rDfQI91P2OCU7h\n",
       "vNw0WSIUxwd/N/nKFLkJaaccUsjuc4B2XcMkdjupE/gekuQFaqRPD2zYEpEeFYBvQQAAAIgBnmF0\n",
       "Q38AENfZsqKHGU//pCwgBU6s1/3xdh/3JfqaWzMeXQdKnzeAsX/gcxJH0JquY5Qn0p6r8kafH8D1\n",
       "hqDcqTdRSgHWOX0zMqSd9cY92zqjT0imqgiq1RA6iG5azbR1b/UEtndNC1PitCYYGNTrXI0AXTtB\n",
       "urWqd98MWkDf8fXAcvsRyAVMAAAAagGeY2pDfwAAAwCoPQjMyH3pQgT/+6zCPb/RXgA9swXQXP1F\n",
       "5CWtXjzUscBDjajwrX9H/7MUXMUegpmUvYluu6FxQzR7+i11eu+0GVQp77rXVtCIe7F6HX/VI5p5\n",
       "Tx7e4Owvl1DdN9/MAg8AAAGGQZplSahBaJlMCCH//qpVAAADAQHlz+XkM2mgCg3nJIavY7TYRtFy\n",
       "XD1L9c6d80zWzl8ugvQold2vRlDlLG9SixjzbFPf00gOIMPrfVW0gWbN5G2kMGpf1vf3yy3ACotX\n",
       "IOc1vD6+2OZ4FlKf8kwGafbBxHabDnu8mj3eSljzSsqrtVT4Z6TD9qPzXzkGLao4zeZoKX0ibZsi\n",
       "4mv1czuM/gaNTXhiVhMYe7urRb/EKN0cctlfGYFTyZVPp91m9U/6tT4g6fC1TZAoPK+z1wQW2HNt\n",
       "R1ZOFMfGgdTb4NQuGg2INiLMoJ0j4redqh7JGkE/1F57cttWhjt6ovIHJkyiuETvww9Yr/IImHoJ\n",
       "2WHOWTpZEvt0UWBVhB5B/IUJVpHjJGRLCgEnqHzyB+5ePb/+XjYdX3LS3B9uDRYQ1TQHlinKC3wG\n",
       "teKPkEQmoklSTd491MOIuCE44z8YuLCc+/tEqHqnbLwZlGlUTmJzyAPpVwtPptzP1BwP89XOp1DD\n",
       "bu+Eh19+AAZ9AAABgkGahknhClJlMCCP//61KoAAAjPM38HqnwB9GMW5IZ0nm92CQVbTbwv2HkKt\n",
       "q7hTRy7ci83uAm1OZaaakn6ZD6ipNU/SvwbwRYE1b/ZL5zyhxaYC3gXuNgOFhvIKs1mXDW/+EmIV\n",
       "Ec1swRtYlWyKHFC+MYjNj1cYOC7jJqhKIhMCmjOK4Ny2ipIkQwXmDMuSYQk5WdfFq1ucwJ4glukZ\n",
       "jwYb7Q57HhquYKcKl7zr9nqGwkJGxM/d/s5x9XQMR4nL+Y+llNNJxlDW0YK5ULZbFsxfDQGIAUqd\n",
       "QDZnMobViBg+d8+H+L7AuOXA6Sw3djwLQ2v7bm3I9RdjLCQXddY2HCLjwHDvEKWu7xkbOz1odiWJ\n",
       "CgOsEq9RqgAu38aS54AWnBrmsNeYwuYp3Gy7jh6gYP/us+Sb+jtgPnuTz//UzOQAKa8iVePCUxPF\n",
       "fCFGLIhLEq+q6xSizoddgwHCMizru2foTwxDSYYKcZvg98OY0iVgQDGjMhRFxvQ2WWcEyIAAACTh\n",
       "AAADO0GaqknhDomUwII//rUqgAACIxVJMFDPNeUACYY6Z8q9fLQ6o3GIEIOPpNPJ0W+LXg6r6r+i\n",
       "1PUJvTrgSvImVVgqHXLmZR9DK3k06O8+mfOKT2xYAiCEVMbtdez18Arih2RmMmOisngukUnULKBc\n",
       "kGknIbu19Gwv8rjelmIr29bgr4rtRE1W4n/1dIavQ/4wAeJ6iujL4v8mJ/FK0lVvoK6ZeyN/FLEj\n",
       "jPuOVgUuMK1SYQqqFsdoI09s2Bg1NTRlsvK7fJ3zYDVE+6BGTPGKq0CYQEXPulK+pnpmnB4a/QaR\n",
       "xlfptkeEqe+xG4DWkDucEu9CheopXI+NW5l/xDjBvQxqXtdrEug4R21kVoSaJrn2iSKvPz0zVvq1\n",
       "H5Vb9sf0HMPEie39D59pAhuV2f1Z3jRIwOIOOxxWGkm3GNxxw4NCntdVR7U4e3hiqprLnCitMEZ6\n",
       "yZb11hufRnrV3bQ2XqM+dggzxmjEHNDNOhgoQiMpzD5KaheY89eHBifujfPGQyZ+oKy84VMnBCaE\n",
       "7SIyW8pj6DS9S1FRRjyc6NCLpkdTYL1kEdCSWNupp/h/lRfGFNQji5GR0+afTRez3oBHrA9LjKd7\n",
       "cj7IHZzaPxIdHadAmHD9DgOy/8/UJATVvXANvgTMmExvaI4gR9C4Z8Gb9suvJiUyjzmMRJJAtDkV\n",
       "UIdwAerSuMByVt1KqPJmFNW+P6BNzzhsIs956cpJX8FLXqCR3bncQeqRHWrMcnpokWZMbb6LRt1x\n",
       "/dCDeQijA2LydkAEwWy+wSiGLgMDbMQDxcDbnmJoHHx0Wq/NiJfMvMY1MXGl2HUKx7aXvhnkQ9xU\n",
       "BeufaK/P8xo8hPp/1KfV6NkmCBHNPwFTbd5Jb+FEemE574E5Cu45WNaUKwh64MZiulh638QXAJ4J\n",
       "THZ8KrrrcVXpQNIYK+rKpL6E/4hYh9rqJ+y4TNqxRWIyY5DiQN9eYJcUTZdCBx7yCyFLHY7m9/L7\n",
       "jZuVFzbWx72+dMujPGjafEuXk9KjjEijftj9hOU8kWidWOcXnSFjzs9eYFaPdppr4W9M8pvQf/H3\n",
       "Ppw+4nrh+TB8I20q0fyiUv0+fCcM3AHBE92yRw06AAEjAAAAdEGeyEURPDv/AAALcxcqkS5bACVS\n",
       "ALweBIOfhmBOOkS6nMnA6/qkBWf5eDicU9NQ+0WrKpitRdypuJbJrIDh8gfko9mjzI62mCdE0+Zt\n",
       "Vv68Hbf6jsvysebEHJ4putIJe1APLI7J8JqPK+q0HQPKLBjaADKgAAAAXwGe53RDfwAAM4hSZtgK\n",
       "2AEqWqa6WgH7mE7UQtWvJIV4cwqVGYGuMJ6nmvCjI7Q/Ycpq62uiEPJ1OfzPUpORcbBtyM9uncnY\n",
       "M/S52u8SRbbr/+TfvvE6HXgLxbBN6QGZAAAAUgGe6WpDfwAAM4AU5PnNU4ASxxdaXojd/3SYY4mC\n",
       "u6/mWJX7lvwElMej+/ovlXFVp77uoQ1ojpOnnq6m7rjPXnQS0QoANo37ze/pArMoDiBALKEAAARM\n",
       "QZruSahBaJlMCCH//qpVAAAEQF7VNrK88Amvz4Grf+zQ9wFODU6f681qXnPzVSdXteJoZ3n366+g\n",
       "hnATSS1BtFf0W4f0lUOWV1devOWCTB3SBmiU9vr1TixYPCSJSg8WoA9dbfpElLe3AhLFXvXj+IO8\n",
       "RHSq+t5WhNyAH1xjYXbu25TGP5OAyfByhBhWTK6MxEKkAT4ws0K2OsWwwS7Hjo52992XYOngaAP1\n",
       "3h8wXqxfKNyFKygcLPjhykad8Qt+aDhvWlDhAH1yOKREBySEARtldvnoEXc3/leKoD9KIvKZWQYX\n",
       "+CCH0I5SbtEYt09w6aximX6Aa/tVojk2+/9nOR4if9PEzQ4Vr1jmOGeIk0D4nEUb9Pc8PDYuM5dR\n",
       "iu/fMBgl5x9ukbeJz4AS9NPMy3QOHpm838fsSfWIlYdQNsCt8ezd0W5WgC3fLC6IylxVrQ6OXszf\n",
       "r7Isjjf8ix2EK+K0MBPmLY8acZ5DwzxdwDhaJwHzn4s7PS6++XlWEbc4awzgGcNt5wRCMqYQsNZG\n",
       "RfP4VcLt8d8RAnLXLAxmEnJKrUbTagQGRoGTnz9ChR0rg9JT5fC+AOdtvJF/oFQ8R8DcqM7ay6Hk\n",
       "GXz7dUSTXdUB/lK0dogB5caNa2KD1QnO/H09/ZvNfqJ8Vttb2HNjicXBAwYcjngjVRjRkEKQiIXZ\n",
       "CgM7N3//eqojXJocezSj+Pqj87rIzowWspeOsxOZVoWwp8OdgGEbcakRrha2QbOBlBsWvl/feAEp\n",
       "mV3qnCZhAsTZj4ihr4qn0mdVSRYw5i/LAmgIdkFqNrJfVSm2GxXrV90gCcEWgrUc0gyRk9mJ6vi5\n",
       "jzTUz1pWhhu7Nr623497yU0f81Loyxpv47TjkwubNHCclQ0cUjLHUHApkQFGeT0vPomelq5TKFTS\n",
       "urBPzCCdlgoTvgiK/in3by9D2acuFdgKcG0ShlHpPmbAOA3AaMOZ9y0cKfwzqUSLEZ+/c7ISV2RO\n",
       "R5Ux7F1Rk+rRuxCvyaH7qBGLZM5I6Ai/6b/wOVtm/a2XmN4pOmp0YQfpED3wePHKfbC3y3YOXlMe\n",
       "Yvxv2/NH5iBzsTdvI+oa4mTACKmojvonoJxJhoXSPRXEgWx8jlB21inLA7ZbCQrs8wP1WLJ6MA7S\n",
       "Pu7CZ+M2D8e4T8cG3y8oLmy5aOfSmpZ3UoKIHM+uMmISaHcR2qDBHW08QZojfSSPrQywiGzqCcDe\n",
       "IMtj1PfIgXpuCN7t7/bA9dy63Pn4myLIQUqXa6bdmFO7haU8PUDA9igJbtLawFVLOO5foRjxDOOZ\n",
       "lXN/+poCPNhWBLwQEvTgc/9jTehapyoE99Kzg7E34FmPITAdDlioIfiAJVPGBe6bzWtk0+QiPevX\n",
       "nmbI2Tz6TTBTmO6sENQqOvOK7Ph9mJ0/Yn9clEgO1USD7qrFNR2bM6rnGW7V34wSfRDe9S4uhzGv\n",
       "KuNhdlQn4b3/D+Myc/oAqYAAAADdQZ8MRREsO/8AAAtzhiwweGPmZMpAB/AZqe2Eap6cIxLdqvGt\n",
       "FDv+cbBV/zXbH/EuFTus2xiZ8Uu14Vn1TkSykj2ucWPSFO+GMmYWyUHf3tU96QnsgZMRz0GbJAWi\n",
       "5Dm+mCYwU6XE/aP/W2cHfwJ80T/3Abw3rhx9D13CS21XKXpxtNGtLhpEm504TSrcSU7ZmwqLhSPc\n",
       "Msxf0Z+6Ql5T9Vi1LX6EHDy7M7m6i+yASKE5HnsFG1rR3zl0UK/ipo4xPIjSumCv6f7Sh75LWjvL\n",
       "672zFU3V5iHpA60LB6QAAAC5AZ8rdEN/AAAL71VL4QFDQBNeXdSq2hcnrkr2wCP9eBhSgvSrLV8L\n",
       "N+OofZSHE6dse/pmWXgS4+2s+5/6IOQ7Z/gSPmXP3CZJbbc9Xz6e4xeUwMPbvuQtlUykHCfotAW9\n",
       "Q9PDQxD14Wu48z7Oj8TwjS+0FqEeCpvmGp9dsYm0qGAvVbVm9eb7Vy/0sj7oiaPVfGDio/Mx2zSj\n",
       "HlLeRJFXNnT+kNYNcggucEe2u7TiRJcVEdV0ECVgYsEAAABtAZ8takN/AAADArKd5bCXACWqRbZn\n",
       "nCDQqVxndgai9cE1VcTwbXvz4IYGzYyVrI472cX3iOle/rtXx3AZ4+kK3koe940trGlFzg5XfjUB\n",
       "9F3W2HjMkOZzL+VxFePICl85KnKA+o2qQ0g2aAB8wQAABAJBmzJJqEFsmUwIIf/+qlUAAAMA9CCV\n",
       "AAoSHitWGOqtDwMgTXV8I8w4Xrd3T65YIpc0T145POgxIz/neZYJZTJO7lBAihaZEQMr8pFnNg6s\n",
       "Mq/f0CU4Awpa86zdxckmDfUD7JveaRP5nyUDPW12V2hIcYm7BvfDUpSMZG3UMgSf+yPwyM9bV6eL\n",
       "LM5qSJ95I1w8dyowZddUQOlWqBiV9hOrvvVBxAtR7+AqIs04uDRvoGayeIOcyFw3C2yABijoxalF\n",
       "PNkHbBJ0Xqz+t8ryiyrLBouKfFymHFMLTcadjSteydTAMN4ohHDZzP8D0kg4r6aKCyuiW6wHBr7R\n",
       "jZlhI0kYMf4jH8s8LEQ70H8V8xnlGl7Kt0OecGjAzZRINpSpqxVwuNypE20/JP3Y2F7ikutoiEte\n",
       "MRD36VOmNnsoEKM7JER4X1ef6N98bIYJLmHeUhQ6lgYnMMq8hUtT0NgTRe0gIQceT5kMzkKYI5aj\n",
       "PqPB4JkxkJ/vLpppQ2a8guqlyGW12UxTJwmi5hD+Ee/lzCUF9DVkMBZqFzxNs/eoiinZ1opM8dU+\n",
       "1ZabCBcZCln+iFPA+x5f2rivVn8Wu984QvAOA4dz50p5ZP9cDrxkyNtxu9XFdm1ndUd1e6wrOpU8\n",
       "2bh43+r80PG8q1U9hNAQeGsh2a5s3cUT34Dmfz3W0IIysYQrjFCJQ14t5XT0juoz4lNVtV/PwaKM\n",
       "kGWAsdfBiJ2/kxR+M1bDmyQmn3irPraivEr0xDEGfuIYZzDCfAGniErtzSPW/Q4h20fMP0WUgyyP\n",
       "UMZvcHxEJ/5/PYygAh5rvbbnEVfrYsW+fxClbk4PZikhjqx+3HppgG71ZJUzh/Kb4aQvlK2fUN2G\n",
       "YbaaurdMGgEMoZVfcMK3Ll2tQYIQfO+PdiKU7lGiZ81ScLdcciTzr6Aoltftcv5ElgjgsXTLxcwH\n",
       "7ePDxvufEWw+C/mzcLgan4hocB2SeQOacFv4p2m0eBqAP8vtu2fkyTOh5Px9Ev/2j56yPtV5kmci\n",
       "+huEkFKHnvC+Q3wa3BtGTKN6c+cC9H0ukVbqepR51C5aWKejXiz4W9nLDCzArAK96g3TZ+4hifhZ\n",
       "o0yXlY3FlWQ+BSuRDsCjuWWCSIDDNCiBIuEteQLwuNWYvDWNCIrKbp9TZmSIPtzc+u9qMciGbqCy\n",
       "zDCljfYCDe+mvnSgC9RQOoAtn+1kE8uT5vPWy5PYQnQlmYqz2jtzK/TjIwmuqCZBmC6Xme4zQbqd\n",
       "NpJyqDuW21FUfkkRXJV8GzeSS1sivhLdengvUp+AMfWPKUk33FsihvBIocOQDAaGB8lirWVns0B/\n",
       "rD3KEbAcrJVSk9c/tYt3RvHqtCWX7xAYxHm60fibGkAAXcEAAADTQZ9QRRUsO/8AAAtzhfbUmC3O\n",
       "/p5hcVTWeaW+lfMAH1Dk4qtL2UOmLdbQ207YG9kKSiwAPBiwPSh+QMRb++J8I6lCEOXM0W2qPn+h\n",
       "iemAXR0YVD1/ICaHtiaZ037ekkR7x7pHrtKQo66ZspjPJ2rd3w2TNtDeJ0ifk0dy9axy3hSvhlxY\n",
       "8hLsuRCd2cTlpWdmT/4iNv75+RJGW538c7tQ2zW+cmLHdE9V2WhstYgD0ZzLtl7VdMHlLv2aI584\n",
       "tR3zz8SaZNwNET6Y1GYg+9oMHWgc0AAAAHkBn290Q38AAAMAJK+xX72+GagSXGMPwAIcQzBHaHw1\n",
       "AznrQ4g9143/lQag23opRGUnGRILL4PCeNK808LtBMdyljfhAKUqqkgVu1VBKNf5WxqzF5mMl4al\n",
       "qOIr/z4L5xWSnmVfQSunOoJeCJDwr+226akORg3NMDPgAAAAbQGfcWpDfwAAAwCjvQY2BBXWqIvI\n",
       "i3JhYMLSZIyRhGM+/xCfcoAh4uEugd7ZH7iFGp/GUK8Y2qIFy+5sgQdmot+UwY5QRT+2FmkJXM2P\n",
       "tS+JN/4X1jkE2f5/7/GOkE5+rhFeqKvU69hyC1dAK+EAAAFnQZtzSahBbJlMCCH//qpVAAADAAMV\n",
       "Q+AAof+PC309PWHemwFqnkNktV6LGgYQPeFhpkmXJ3lk8z+hLlyOogda/vxE/Rqixrw77G/L1mas\n",
       "Hj9BONqC0ihBnzVZjoaDTgDlBRL4DXDa+ftjkqPc7ZCotXgd8PP59mMI7eRDdE/IdYE5oLSNcxnw\n",
       "moKbRmWb08hVCmoz6u1p22F2t/zvFs6HAe+AsPX7BSxgUaW7GpebUPvzt5yL6n3Nd8Sx7ahlmr/d\n",
       "0UEPd6IYB7VXzeGdeM4uFDaOLwKBzOda+bR781iq3Rgb23N8R8JfMAv6tUCFRBEHRFPzYCA9M9s3\n",
       "dG3mGnpLw7xPwYX/DheVzbrN3IY861oZRCTRTruDdl4Ui5U3vEis4VWuaPiApJ1Auh/iA2Up0SVP\n",
       "SMwvAcFDQDBSC9iSrQ+EAWHuuKrxhKpLdnf6VtvZjECXmXlNAlEaKU2/vi9ljYjLyUwA7oAAAADq\n",
       "QZuUSeEKUmUwIIf//qpVAAADAAMF7Xk5oCskoPu2AZ8vby+fu0ADlq+l8Rm7T4+HavY1Ki4Mnea9\n",
       "rdtkfnkiyDeBL06VliUOOHCVDdCMmD81mWcdOQ6N7zxESJ8nCud9JfHHASdzvMxw7nBHmFDt1RCr\n",
       "biXeAnITrGGZsdW+x0N+Sz0yMzQ985uhon+fvWE6I+9JAENQGRzMAffdK+cjC1+JVUGPjOYSj/JB\n",
       "wlv/5XJefN6GTT9uyT9zenRX9UaHqMt8/R3ceqx1JmlZ4480cPaeX/3paFhMB8lhqeWfOfcen5Uu\n",
       "jb8wAGtAAAABukGbtUnhDomUwII//rUqgAAAK4VvglY/5UmcxFbEKtMnMgpGiVAAYR1Bs4RbG+X/\n",
       "sMMpa9vYJrtxZqinCfD2ffIUy4KaadxLXpu6AZqDUTu738Gjiv/2C7bCnkOfmOhgANEHaXtVRFr4\n",
       "YY7sFQzNqvSeXL5kcSmdNhX1xelagKBsAWFvTYrauhtAn7PbdwV13n/XCcZzDbG/njP1GeE7RPNk\n",
       "iybVhkPD9pkeZa9BLmmCPbk8ozj5tdNOu574El/UEXLV48SfbHbpB2Hhivp3Gr4OH2+T2FEiRKwj\n",
       "qfVNDfuqHv0nKWaXBfi4b0IyVh6G7meuMW7jX5Q/ZNvDeIJMA1R8y7Y3Pug5s+zrDkpW8qe8bwvQ\n",
       "UdY+GTBVeEiq/D2vmudGpoHJ+nr85Gc9tz58speOEZDUVoexLCcRDFE5FAo94ELG1f1kfa87eyf7\n",
       "ZfwhkLQj+f7XO1UhbuKHg7CUX6znPKc0DoQoabC4M+WsOjWOzE+lIDis0VTWgVaGDhKmUjDRr8i+\n",
       "lQ6UlAZpgZn2AZp4y6nANaslhm+6YJfLiYKYR0HXI1KdOv8wWaxn1tfXnrngtdSpYyMAEnEAAAPs\n",
       "QZvZSeEPJlMCCP/+tSqAAAArhW+CVj/lSZ0JuUf4MrLCRK8mjhLVcQoL3pTLoc9qj1LfZYDpqNSQ\n",
       "cABeyKpIJYarISrAN7klfO2LgUpTX+qXyFLHO3xicv1rZjIl/1yX+GW9MtkctKO/GhfDkheyrs5S\n",
       "Dhak1aawrAv+OcHgG81NUgcR8UESlxQvBvxq8TM+KpO+zlhTd9inYvfRhPfRTeIkC6UPVSRCAFyO\n",
       "e5jECA3xnv/EmQ3osjnq7AU6N1WufSexORcU4C1RG9fUIHK9VRXWx72yIwUHzdFoHgzwv8Gd/27o\n",
       "8IAdFmFwGkWcXhI/CBpYVShAyzUqlWKl2rJsY5SV5Hyr3pWiMU+Ym9mWteXxGn2wcZG/enmsx+Im\n",
       "fH/9dn8I/kwiIR1+8j+PG2HQ2PxuFZ5myGfR4LCB4i2CwWgxW+JF4k4RJpCpIaPmHwWqPMeEWVXy\n",
       "gtPe5rBoK//alB5VeRwNz4LbJpWw/cC6ZRjCZDqJVx8l67ZbYGwh1yYzKjYg+HHdpgmOWD8+xWwD\n",
       "0z3KGxZxvM1NmAOf7bzaHh1v/f9NLRiieTwMsPuLCfPQUK7Oxy8C4XkrxMy260oePn20qJ3J5Zii\n",
       "MxeuyKPMYfhvQvg/jm+SMUpY9Lu9FwdeUr7gUP6hGHrxm/PQdVxRPN+YiUgroUG7m/7KYcsex2Tu\n",
       "FBkG+5/kMMfKz2jqXVzH6ZK/fKIWHR02NJChGhafAkIB9n8FLAiQnYehL00QNAMEK/1we7oR/Ze3\n",
       "K3AAwYNHjeJs4ZE1sxcRMTb76rpGHfncAaq/ui1AejBoNLNez+8mYMA49n7ITjqngEl6jg+p8+2p\n",
       "fLDtf3TiMAIw+K7etOvfEIjaWt0J6AgxjGx4/GzpfXKPlZiYLE8xaCYAuyUzhwl+3/Og2AJkg6aX\n",
       "fJV8l31qGZ0bHj7XDJbR3vk7EB1ABs/sK8cDP2Xt03u+c1Ezp8um7C7zi2myYGuN0HwdchFGGMok\n",
       "53oy7lqKdtV7vlaGRpCtujemjpJHU3ZT4DRKzPnvZaKPMixWp4Evq9ptL9L5asDv0O8a6XgSS13C\n",
       "28kni3U5H6DYSnR7BPidCXFLHEPAlea5MPUqNoy2Osmzpt4Vvijo3mEoTl6e9Rx0vW5SvFRT1miN\n",
       "xlze1EcKqtsz1GlhEBtWbQ0ICVy3+m74yizkmFFVlCcOOtC67xpFfaeL0LY1RqaOhIONgXtDE2Fs\n",
       "0GMgfa6JcqKy4pcKZHNJVz1h3j0lrM1V7CZ0I5cXaGs4sx807ZG5w16kAOAqhN3OpF8bbHiuhbRM\n",
       "R68tox4I5ON/Ft1xuPyDbZ8woBv4kCZRpEkGG5UQ9XIowWUAAADsQZ/3RRE8O/8AAAty1oUBT5Vt\n",
       "Reh2+wzKs5rxUNOzO2XxSb9pQAhApqHyOdqCPPg91A3JbGRlo3CN2DwyoQ2ksqmyP/G2+tM3c1c1\n",
       "xNhpgszgsiNLfftQkfPMVJYlQCj8+dQ4jf0+fWZQrqokYF/YLhGXkf9kdndh3JHzvbC8ALVHjKGd\n",
       "AaurQoplM6E1YGzukMLZKg9E3b6N5b/+H4qTksO1e9EsM7h243s03f3746gVCS6XZQ6+VGZpoNDk\n",
       "wVTbcQn/gmiYpVo2hDO+n/ullXh5SKrFxL+R8+jRMu244K/MglHeGM3YbLyAoIEAAABrAZ4WdEN/\n",
       "AAADAAH707QzXVGTgXWYdbTtKo4EAFrcu6aS3GwC1nJNvzVuk+di8h/pLkGz5+WJjq0Vl90JPm8h\n",
       "3zk9LTr2DcNRAcfX/oHz7clcejUtqOG4GawZNg1Unle6oLMP99HAIbCFATcAAAB4AZ4YakN/AAAD\n",
       "AAH8KMxp9F5m4Ajw+W4A516ar1KsMHf4xSprYJZb/o5fMrIJ6Oypvbz/S1vVhaZ5Ea7w9zIVTGfI\n",
       "z5NRVABhvcc9uRoBkvJPXBQsyD1gvWVP5mWg6Wof2o9I9z646PIz97txLllUORJLBePOQAGFAAAE\n",
       "L0GaHUmoQWiZTAgj//61KoAAAHJ3B/CdiiABmxzZk45yZ1Q4144bU05ZDOyM340GfUr7pA5FkIxs\n",
       "naVrv+lOIjST56ZAX6e3+qh8ZnK7B7D4l403eAtA6nY5PC3MqcUX5KojG2vCVu66oCO0R+Iyl88Y\n",
       "bbUZIM3LXM4CR6+0FBqiFi6tdV4g88sMtR2J4qWJS6DLRCJBVyCcun+riVrH/ZxE8zCd9ybiH3a+\n",
       "6Epgc0N607T2SLl3r3tpyskjmNLUPlBUC0+gSqDgPVBg3JCYCIPdFaST41pAbcJIJX0UI1TmVW7C\n",
       "JPA/qq42zFlO1rMsF6lhkCOziN04mLdFNm1x/HFT2Xc5cYgXWsEBnomtplngix/V/SiKDZa/60PL\n",
       "L7J/mqzf3rYZ7arn1BhZ7GROeXE4dyru6yMHTDrGmtRolDS4Gu/xp772LoE9+25C/8ZEkPPpRJik\n",
       "HGvgZJ3+xCMN0+W4MloDjmtZbI+Zb9CAlSyKrZ6DAGbEnXqp2sdjUyfl5qZ3LQjTcMK1lFqbInKW\n",
       "Yafa4LxKCaf202cjVWIsmcNhPh9ILu4M+GsGPgfqrftVdeIRda+tlq8f4ZvyK5Z+b/NROqjVh0Gm\n",
       "HyLBR2yLg+R7SqIbEWMKCAKGig5oiSEhwCnyxLL0M/5T13Ah3BiMHLEkPKvMMuQ1oqus5wHTZIuX\n",
       "QNWCxzyACMFA2T6vvVTaA6YO05fo9renaxQVbNXsftK2N4Dw3XWv+Fxt3Lh7A2zqAZ3VLnF1Z4Qi\n",
       "AFT2z9mjOynagZcedymNsFEla5ZBtOUOB2dLX/JT4x2MF2XEIJYf/j0Jf3QunTq89GMqoOaoLnxL\n",
       "ogp//MMUiIp2c3c5T4jyp3jg5qUMAhkr079zMm0efp8uTCHB6yI5nYV+UBHClvCPA7KAIBmdKKrt\n",
       "5pBZ2ysUAeh+h0c+Uo4aY5bLILmjdAdy1obB0kIDVb0ZV7+2hcYYFzXGfAk3i9sr3JKk7kC7tFxd\n",
       "bFAlrfKaQKpnWXgUlqtD4j3DKTZ1/OBX8Pe5BP3h/PmKlMAEaqFLPj9rofE7/SRrcAFb4C4MnAbx\n",
       "7wa+iwJdWMoIlJRxLUSF6KLWjSpNIRURNWuPNB8NGTbZ8TlUtV5eBBu/22sMXw0qhs7JGnChh+zw\n",
       "vNX+jcCAeWfdFJgjoeOAjjoYfTCQ0CCPIq478x5AJ/3wiz9QFbNZ3So9/6FGkbC+tbgsJtsCwR/K\n",
       "WIBqo1j0kolRQTvbN/HR5stIradeH/gEg/dAoxVW05nBa0Y60JBWspyDxW9vHJIJFHlEtDNrZFyl\n",
       "G3Od1kbEzdXBd5DhQdy2I0mrKAYKkxZiI/yPuQ/j7EO0NvLnsgYn//SUQEWDN8KlaLFTTR6aSln3\n",
       "3dkAFpt5/Y2r5B+AfNa0+kJKIMn69GONdPG/Eh7x2ISiflyFV8DGMQAFUACJgQAAAOhBnjtFESw7\n",
       "/wAAC3OF+T5gpE5IeCm7sSAEP0lYnKwk8dunKyp//xb7cl8iHq6ytJn0xoF6M7VneU2iGqGBrv0b\n",
       "WH61cp35vYxcQgZpr0a4nKzsZOweOHkGJRg3asSEuEQAeog8m5NKmVN5H12x39XpmJHwt3O6IW/m\n",
       "KJzhHRqETz+cQu+9TyTxVk8ZEXHCwh0oh2mWQL9C1RYX0fBqFFXHNB72LZkUxG0bX7MHy486LPPS\n",
       "t4fOQJqaJG7ntMFj2yuDv9fKRPKUEpFXX7Yh/JAez4IbHbVcFmKbMa0LB8ppHSrnNxWCSBgQAAAA\n",
       "dQGeWnRDfwAAAwAht48KF8yfihGgAjFAZyssf97kkEqXenIy2W84+bKnsdPha1aNJT3m9sO0EY5X\n",
       "r6VYcSewJClJDQfxaLd/fEYbdkDl2ZrBpgqZ73XQ0TCnZaWWH3z30tLdRL1+neOG9GhvFYqzTXJ+\n",
       "aoAFTQAAALMBnlxqQ38AAAMCfPQVAO3+ABdVyXdWB9/heY8TZtlTCCkDrWh9NvsmKRAdz292hmB2\n",
       "NSBjjgrq6pgoR/fVzOFDq/xortNF0M4FpWMdyuv4BvjSpvAFvvdFxtpZvNEVVLuWR9VJr9qrvheb\n",
       "vNNE/zVlqO9A/H10wcfltdiKWmoSldL4ovdgQ2uPdBYW79g+2vWjnXUTGSU/gnGAzvO6DQBACUyf\n",
       "cVWlyw6VmfzMeaQh1gCggQAAA9ZBmkFJqEFsmUwIIf/+qlUAAAMD1bS/gncoDG+fA1fYAK6oNgSk\n",
       "d8+vkpiDQ0b5ElnhpBiv9GlmNhnrGKsl2sLqaJr/emRJT/99baW3RgewRy87Bj5vFk+5qEawgIyY\n",
       "Ww6MCxmX5u9u37OQ338GzL61BISsVHzOKtpWGqAuf/v0sF7r9gYMDy6UdH6axeaRcNKZ3gd9zumP\n",
       "N2feW4cFfQ9G81uLKaw9Wdtfw57tIhiwud20ZA5HFyLlmiHZlhq8klnYfQoubDpjDkMyGgRBjSgd\n",
       "m4OBoyKryMGzITSn/Cm93xczvJC4DSyGD+oqTVOKSJv0mI/Ro1ECK4EbkE8W5ShLcwi5+CsYWutP\n",
       "YWt7yi0eqbzl/9TvK8SNSmWxk6bzpUi/N2E7Y7wqyowF/A6WgMDTJi1hXvh53QPLYv0UngfwpSi+\n",
       "SJyhI2oVCptbkld4ro6czPSKEeiSXD17JtEVn/WV3dcBqU2R4HrhqdXGn3QBJYTHvFIs9hBQB4qi\n",
       "lV0OUJvKTeIhbcJy5Wi3iB2yynjJtshm7l8UMQT8D9yT2ulvzhfJe+SDTx69JrQhI7GZ0dyNbj1p\n",
       "X7wqC6V8njDpadtOLwSwvMSSlK9UynarhDT3NdozBEN8Ii/wPmLmXjdahX1MwFaWBu0QFVwVrEeH\n",
       "CwNvdCwzdiHgJL8LDybA1s8OXEkPQjNwMvNJcF02Z2EU4Fb8FHS8DO0igm4X9P7DiUr2LGquJxm5\n",
       "3N4sMMWnC2AWNupDje7pY0t385JLhLULkSz5zH6Dn2X9l5HFTdF6v3cnKcDM1LZxBGp3WaI7wN0s\n",
       "da/Fp7fff0EcAqCRB8xNL8Bwar95Ke3N8TnZcOLFxqLmzvBFXAYXS0VwDmvyYhS7M7DL8fmonA74\n",
       "id4mVjq95KgPmhwgo57LE9QJ4n0c1gx8p4pdEgd38rIOg0BqZOU/Ajkagfw9ekH922mPFQm957M2\n",
       "IGRRTbuxi+L63cLL/RT3C6phHHwZuhkFi4iuw2ZqM6qAckfA8rnix2lXLJjC4acJ3lEwMiTJaRDQ\n",
       "MiBcktNUieaDdEpniicoWzeBQjNnQl9UP1ZYMuYvSMnfne8MzRKb+w8U5LVxxWob5k7lYQJT5Lqc\n",
       "ncsKDlEzS+Dufhzwtpzct/GAyBDzYH8gBegCtm+1LNGuSojz56u5DJB90ZDAgaSLQr+nr4vAd3aC\n",
       "q5NSUY0034ryMj9oSzSJ4EHcuNHcAV3NtsLJKLmyJQG2yOzd3bif+1KXwIxALTN6znIv4RV13sit\n",
       "kwa8ku5W8Hp3t6CQS8P9Otv9Kb2K6VhJ4VecVjm0AA/wAAAAnEGef0UVLDv/AAALc4YhDzJX+ACw\n",
       "V3qmxUAI7j66uwJlt4iyA8g0s+Fa0ROqOSsJ/pEOkiOEov/oZY4SxduuRnzGJhouvpYrjf8vTZsV\n",
       "dthFe5JP7tZPJ77T+oArNAtkKY5JPWYihhbQ/9eAdRLqcjqzpzc5SUxlYIBfh4vS0abzLR1rrNfi\n",
       "3XLSOCY96vww+qDIWmYQTamCeOAGPAAAAH4Bnp50Q38AAArMSU39CQ8AH46dFVisCQ0ba4jWrYgx\n",
       "+vmRSXRHwiujD2Vw3d+zMdBYZZBidyhpS6hKwKXvIvAt8I9jSrcPXjtgvHt5QTkNwBsaHCToebuj\n",
       "qOP/eKl6+ACoztVMGsr5NeJ9k0R0TP5LXcJ9j1j42q6CsFCAAwMAAAB8AZ6AakN/AAAKg6k/yJ4A\n",
       "WFy6xfui8LM0I3vmP2UIvQoKLtqtlLfKK/EHmBG/10tohnfLpSgpjee7iN70mWT+pmegxweTpp6p\n",
       "9sz1un8rOAobRVvImsUlX6mr8E7SCWH/VKNLfeFUXWaDGK+9172RHQCYRB2iwwe4NFeA/wAAAdFB\n",
       "moJJqEFsmUwII//+tSqAAAHeZ+25S0AapE6cXFZpxdvDkjdMesS0CZpOlzQgLNx6IhATV1YGpUZt\n",
       "RIiP16QSgTfzppaoY7Jl7XUZti8V2720RG7DCKP5Ll/CVcyWW2AulxxwOP81O9D9mIrwjdGvV9tJ\n",
       "IPfZvh3jeaIXkpUN5PSCodyH5lO5XibS472AsrBULZepykKLN2T+KaKkDwC9iSUf7bWNXUysJvqK\n",
       "gXITGElxxZyiQOSNXf8apeRKmf1gTaqckb/WA2sjtkrMMy30Zje46Q9sfqvvKtQlKjVdoJzNRjRa\n",
       "drfzchv/coI+8oLxNmZwVcG4iBIzXk/tPTNa/y0oq91FAxgtc08G6HzCV+cQgjpNF+D07E48rUo9\n",
       "D/50L2z4Myet3NAD5DdY14T7wKhZdVhfSXj6nFUbJJ8SNLu9X53N+84CL/Ij+YBZjM2QU8kNJ9CH\n",
       "d7NYimTeV831cZdFxT+zTmOUFD+TpUVrNR3BYeEmVubn2h2/gC32R0VXoOwQd9hKu1FAXEcKui/c\n",
       "+VVJ8nXFjZvL6+ke8tq0ZMt5i/NGaU1wyNFVOPC3xvumBA0a/7XAsrNn6GKGnrgAymj5tXqExIAK\n",
       "KgWTKzMRP8EAAAO1QZqmSeEKUmUwII///rUqgAAAceBOEAJrhyzHIeXtM/WHwuwqnJvwVZpmNPdX\n",
       "wdtv1eiAfUfPd7xYVobdmk+8RbkM9ok2KmQrld+lJ8EvBx00DJ7WimtaMM3w1vw2dLXfhUbD8IsG\n",
       "HquiYEowrfspUuAom5V7HkN1yHGsdNVzMSKkX55Exvsqv8w/zyGDCiJhXpz2SCgSf4iWGg7tbT7P\n",
       "xNhVgBdhJDp2mEyXt5/cV+PdivgFs/MzDUNIgFfdanTRXfMH5Nka8YBGLR0hndOTiWhHbEYwhsUd\n",
       "1nOmdXYukXqnxuKTngoxdFucNJ2PxAlKxBHkeJiUnACJ5EebmIUy8sD3RaK6wq1+h+iFM6kYZ+dK\n",
       "HEAhGCleQaXuBuc8dKT+utBt5kiDC9XgQSivHBbvafeUAu3zJz6D5EYQ4bDfveEg1tmVPVi5+T1P\n",
       "J4BjyQ0YsX+gM0t65WEUEvVundNiU5uJBBTUVz5/YvgKBJa51v3RVmSqyEaR+pLVFpzNHkFipgGy\n",
       "jVWcpSKnYBJvKbpJ1hALk7mvhVoH6+I7PGIKsA69PgZoObnFJOG8zi0GLHuYXpvoxlXtTbI7e912\n",
       "wfPPBavJ7sUoG4X3Epx7o2oEhRsX60GpE4JR4TPf3r+QcWjiuoqEtfCN1U7SCaJL/Cw9UVk7Iilk\n",
       "Y0jtFMBTXTfgpTuEKBtca3+su2qXaPkOuaG9ZXcfCrxJuvGxj6rQ8G88ooesdhBA/oC+XIMlMBmz\n",
       "98msO8zeaqcR6+i6ikQ5iiNxUjIXavMl14WkNnqr31C8Yb3YOJnij53OqvCPA0/wFkcmCDHPAJRC\n",
       "IxJSL6rCq0tGHpfwPHHQ1pam1lhEwYeG5zhexv+saEu4bMfwCKI5w6VZdQ6Grccj3KK8kGLsWHAN\n",
       "SQGhHZSQV4hhxqItifW3LKAAFC9me0/MP24FAN4uhYeoY/rDdX6St53Dso3WNriSotRZnuGfNbyH\n",
       "6G9LtCdpYZ77hFi0W+i7TehlX+227YAhhr7beqL8skbZuPfx/aAJMlHpShPWb/zW7+U39MzKoP9a\n",
       "JAvx9w8N2s6JbeARMN/+hOspLm6P+NpStcc9OtK5rdS9XZoYK/YvzTStl0N00/E9PV/Po0CrQs6O\n",
       "s/qLS2ORtRFuPwonJkfhL7UuNBLTRgJPHD7zw2EDaKbxqNOo/ovCoH1G3H2kYHAisTC+xhOJApqg\n",
       "yT1TlqhAotTjrP0LubxL/3e6RZNeksqvyLbXet4agV1KPW3bTX4A7mLimAA9hs9D5gAAAONBnsRF\n",
       "NEw7/wAAC3MW+Sl6m/cCoE+GTgAsJ2Dh1jPjiH7QZJIff1ioOSJSx+mgRN6nqDvWotUQl8Ptgk+y\n",
       "ZVcr4iCVuURiFVcUFU5wjzkzItFoEjh2hxAmtgp7tylHa7abd1DYMFpvilhuQSpgOobWho2CvhZf\n",
       "mqGYrggln+Myp773Hjnai/DAjXeuSz757Gr+8xSJ7KoJmv7ldAh/TQ3wvkjyiCjsEig/yvN/cvsG\n",
       "qhwhMdsovwvNp3VgMdPKVysP5F4FEL38QDCIDfIwap7wgXwEmMWotYf9ULfRhv2gh3Aj4QAAAJEB\n",
       "nuN0Q38AAAMCavykgA/pCM5WZu7XDeUZneHSTX/Is6x8tYOeOkstyyojQAg5NER7a27SJEXJqvtH\n",
       "Oapj38ZY0Ig5iS5iQuk1prt86N+zKrmrGCx18WiiwhtVPwziaILd8PLMcKKh7BW8Cg/7/uD7ZTQx\n",
       "ibkn9GoOnZc/QVTZTNhT4i3ZKGS9QsXYHqQUAGzBAAAAxgGe5WpDfwAAAwDzFEfTMaPJGVYjyvRg\n",
       "A1LD3onk5Xsf3lodu83+8fMPezNEDcCc7cyepLAzFWi5f820LsfAouTYJf588m0gr/nkhtKQlM7O\n",
       "M2Io9gkD5mCZ9/GftIH6q1sqJA3XvF7+3vxc0pav4PkRrBhBk9D++EGGO83UvIAfHH5oGXzed3Oh\n",
       "xALSNb6N45N9sKmjPNMFDkHS+EIPSH6UHrk7kVOrCAuGqm3g0DjZ+JZpJFD85iJ/iyqq8GkPJDDi\n",
       "NcIB/wAABGJBmupJqEFomUwIIf/+qlUAAAMAMpTN8AaFVTE0BUP5P7+5V6CuBDpGTV3mIHjASjHV\n",
       "a+IS/xMlz8y8ts6/vHPeXskhbSljnxkuMtvtjd863/zSNeQn2m3P9QumVs1FtSKv+y/ROCULpPOp\n",
       "rzVfGTtWng43WE/J6F7VhMVkqih6QLtPwf9K4kKecfolx8J1oRxDcje7lQcEVAzqWg6sn8XgrHla\n",
       "V//e0WlZH0caIiHwX321gIyNBtfunpYbtg5f92zs15FUZOChuLBc2ntIVLkVOm94+1a/xMdBbbg5\n",
       "+cIeiDwKDqa9JXqGHJtShSnvxcBnmQdFmB1NYMRsEhloKENbcn93Y83wVhNHUr1jiqaj1B1AHn6m\n",
       "c3DucSyW3pRkoQNDtacSSXzFTRi8+PuAJtFpBPdHmA96wcolvzRSDeuFQ1hnZWEJRFWdzgXWnTIN\n",
       "7MEolgYvZXtYtSy65frvaohzO232eNzTsE2fzK+aIhBtavMsrAYtAXoHJyCyjF3moGB0nZxKALL6\n",
       "1+Ym+RXL3HpGMVShfdecZ9OgMmVf8T9wamdpjO9MBycwduHGOz1lIL7iUtg9asfAdJl7Z7mwIAXy\n",
       "ifv4vQC8R4pqRvOBo9DztjHk13g/mqyrSoR3upw1cKgsUKGxDSrV36Rqnkfg371QGNqGsbLSIvcY\n",
       "RoIXIO5+Cn6zGZ7ilE5LLhx9WU8JuswPMo/z/1GIFqFAyQQuhPIY5VsUScNfW8vj/QSD9pzDGwff\n",
       "1eA4p2dL27wttnl+XxScJ3eL4+yHTfWG+gIVDT7c+i5Woq/3/8sEqSgMy3ARk+w1PpW/1BA8ANfa\n",
       "ZEypMn/6851kQIzfqfpQRcMbZez6YmZb/8hrVwuDiGw5U4Go3LUd7lssHERFsgw3+NiZblAoTbT8\n",
       "ES9Rf0xzZ2/48F47ZBLYECoR1nMCqPFbVxQh73SncpSY3c82V245F2OfA0Z3C9UYfoM98IYxSxio\n",
       "zMlkaGcp4mjcSbu/F0bJmGoKyjG+/eu3V41dRRGrtby48bwNcn89E7hsqahxgHg0yp1xJbmWfjfc\n",
       "NE6ctQkRfVTfBGaozoe9Gc9lj6G9gFvG5SG5QNVclloIbcVjkbqvq9rQmBHiw50JT74j4+fKyx5I\n",
       "gX8nVLiKsUvEJTA6H9uLIG9Vux5rQRos33X8m4HoeCZOEebtMnmtAxGPQ4RejZE0hrOVwFsDsoKy\n",
       "KcvQIPMg/6OBcrymV1oEy5ooCRL1SRlef3GnYZt84hc3g8jriGzrRNfj0WLPRipAwExyJsCwX3b7\n",
       "ofymvQdIuILbTwvV5fGbLtwzxvXKfxI6Rv1zHrR3uxfG7ACqstO02MCZI7xZcrQplPCsX7IUXfN6\n",
       "pjpU9bEzpL91TaM5KeShXjdQxWAuk9zoOvJ+iq745LmgAhvOxk1OOrW8+utyvyFQ0qe17SEU41S0\n",
       "Rp7bDdfhDEO8yWsJL7ATlx3/Gc8YbKRvJqs1VKx02AEvod/Y7L+GnYYAlxxg0IEAAADyQZ8IRREs\n",
       "O/8AAAtzhfkWGGvSIY01xZAB+YbQ8CmbV2rVCD9pEDGuPYFZbNgYm1fhoImvbYry96ewrTKup64V\n",
       "q/17U67n6alVi1u86L9mcwQQNxxAlmIVoqs5iJyem03XZkjXqWNo4Rwxxqm2EGwulQmAYt1PjUqG\n",
       "CL6WCc1aDpkX4zfidFp5s4wiNBiBq0iCeDAQ5XANBmGwi0Al0zrXH2g00sjxzhR2YjR8ErITWdR2\n",
       "ANYfnt3EJQacZXRfGK1EbX6q3KsQlFv0vJ7bhM5fyP+3W70I/xTJeaTnMxZeNoN2i6y6PenXL7kC\n",
       "FB4RqV2YPaAAAABxAZ8ndEN/AAADAPLp58pG+nR1FU1jMXRdCuAImuS/QNEHGRib+ra8X/TNnM6z\n",
       "ZHiy91ppSLDagYZ5V1siSyh7lCvtqcms2P2C1vYOg+AhYf4zdY63wbHfEZqNLTRiSHZVVAZWzIHQ\n",
       "lRVlBgcKEQkAEfAAAAChAZ8pakN/AAADAPMUR9McswJ+jQAZZ5HWrg2ZeJfx0zciKAYh8rLyP6Ch\n",
       "T2gn/P5zdMNbUZ1GS9fKBWT4keadazDiOVZr+m4qc5xDCQ72+2c8m+zeqgJrG34gttV87z/FX/+n\n",
       "ONGUtn2MULHRJucpk4nSQi31fnyE6fdrBWcMMjG1Q7n127pncYZC5+gDTi4Qy+TKXtMMEtoHARTw\n",
       "DRLwMCEAAARpQZsuSahBbJlMCH///qmWAAADAMFoX2PRjoeGKwDniIwgf32NlhUdWWHGugI7B1Ef\n",
       "HWXaTMjbVAUfBSjMwekUEHTRr1NaRJZdX0A/Fe08Htys6arlMqbe992OYrpu4MackS36I11jaAvh\n",
       "qtvzcOB9pAz83grXxHd2kFI/t/r0knr7yECfo2gUJrCK4J9w2xfPm0lVAndyOvkDggDO70iFhhnB\n",
       "nrW7aYfDnW2v2y4E64dAPVhtX6AaoExc88MndFnkgmDIVGnrNDvlWJN1CqMz7ZyLr2oAFgqDp96h\n",
       "PyR+17BPNBM3/CN+QJRB/gNxa5gvZN5Muux6RwkVxaK0usgmwS4QXbecuMnXpLMadkdAmLQxlkvC\n",
       "UpLkimpYqoJEmlLYNevKLgd8CT8WfN4AzEzRuAJF7sxJhbRVW5PBi/z5eAfiEvBfHymzHIN7f+nx\n",
       "ReZA4ZLrgSqUjdffc71V53nKqM9ZPQddhFgE5CnufrZU5unl++ju9l1wGTTHajK8apO91V1NWFtn\n",
       "cgrekoGjup9CIoiK2z2dFmvaSsoAnBxAzDOY/bOabK2X2pvmAEchyXsZ1785FT3RRiIooxQUqWi5\n",
       "7Sa1VgSmVmCpbuSLqDNOpwT3A+Pvf+YDHXcKoEVbR29ywakM7dT0+n2hF7p6Jo6/YuFv+QZnZu2f\n",
       "sumqtRBMHhZypX4UJHNinie7D1RZE8UDGRtneimoaIAZKDjIXNgAeLoFqBclOYldMKpqhmWKQdh+\n",
       "Bu7ja3VL9sdT7BdoKYWzjS4KrYZ2ev+mJDTUdD92GBx5Ac/Wdy0EgWvorMtl6vQyPlgPSEP3Uttr\n",
       "ryoDzyblbWJd2hcCARnkLz0Dej9h8xMvIpPDlu8avlAAgRNlOIJLFDqLEFDNlqrBhKo7ZKs1VXPo\n",
       "jKUoeAxiNqxHN5Abadet7+RbTyHVjnIxynzTJTQ3kuim1/NekHhDw17K9wR208gNmSiTZ7paZULW\n",
       "3LlVGY84zWZHFk4WERPcmUoWAHGm1+FMGGFXQSkqH4jOmnPNlDW0v+keb6ai9srv8xI+iZiA8W9n\n",
       "My2vSfthB6mHrAoH9g8zXDMwxkAQ6FOHsExpIYl4WC3qEjM+ES8w3/CyDp/pHLeklLr3gwNtuHXV\n",
       "5+pNrLnUpC7gLluRP+bDu7UekEpwbxFNUbotCYw0BZ2X1Y3ypgJ4jyBhDwkGgtxR82SEwYBiIMgh\n",
       "Vqh9DCmjXAfzdxo2QXdm8mXuqQuvbrxtzgzSmltn9rwqpV/yzgFljOmXoO5X68g4yu58WBDHFwxM\n",
       "sJR2OKW+Uhu/QpEQJPQEy1vY1lRq6yfdyBtaIPQ064wtrV13f0fWazllUKzLQxl5jPd1UFU+ElES\n",
       "55Q4KEEE0xa5te/TEC4aRDAwj2TJRiS5ep0NZqkuGiH7q7WUm0PWRBDHL22Aa7PipSOq/jNXOqFJ\n",
       "X1tesaydQ7dhQ3YTzLpjTEcZEg+37zotLEVM/LaBjWHedmKvoin0IQ7/AxkeA97ReGjCI4ACtgAA\n",
       "AM9Bn0xFFSw7/wAAC3OF90FhPYYQtcT8Nqka9wAW6CKG/IW3eWFI3aPULslfeX0d2cRkaXDImNdT\n",
       "V5xY/GpqoeqJBwLuMwNgk7yEkYViIpE3a2v9VPAweJyY+MT7N9xfc8HZmjeFokYyCOltPQMBPM+F\n",
       "4zNxNJ996DAmU+DzxlqMkPAayqrTP5u30pmWdN6CPXICQOHPqk8sqeWgl1Jasy3XsC644SZHJHWG\n",
       "z7UnxHE+aCGjgv+Bn5gE+rU7MFtMRzGinhp+Rv8FGmxgDa2ANmAAAADmAZ9rdEN/AAADAPLp5zeC\n",
       "BeAEqhpzm1jpWbHVgoGYq0S5rBZ1PHdFYI+hqm0dRBcNksaQnHGc1PGnEnIdF3ILYV5DNesSSWe0\n",
       "sK3JzkL4tJT3AZEjgVSyjNlG+RbXYngXzDfRaQHY4y00uoqpfy7t0Cud9tyW9xCBNVDsTatTz/5L\n",
       "j/VCuXhEjGp5dgLWY9QSNZDnk1BfdLFW6rSDn+Y0JAXRFMlOC0JvCrPiQXfR9CKShUFkxpKVcLfn\n",
       "2AO0SuBa3XB4KL6MvnKLTU/UGkOqaqmxGFhSpM+RmQxo4ZOMoLihYDb8AdMAAADSAZ9takN/AAAD\n",
       "APMUOy2t2hZQtCWOgFD+zZRD//sVlwML3KG1rB+vYPK/9yf+lrW3kBSD9iSx+prHu+tYuTKzUuht\n",
       "ILiaXksOX5jyb5cOdZXlxzLYpqyyHN8BW0tEBhrUh8laXg5M6oVrnOeKCO0FryJSscjd/M/Tnc5j\n",
       "2fKB6amv3W5qVtJK2okCc6pExYCQm6gI6EK59gKwXww8wkj5d+vtfNjsEgQsiEY27KOY+VGfMMjh\n",
       "FbbhhUrguxDh2gSLvHRlCdcQBGfCdwOBw1xNuAHTAAABt0Gbb0moQWyZTAgh//6qVQAAAwATg+aQ\n",
       "Fg+Or0SlRdDHp1C7/loq0C9gLEXe7RsyQmNdIeMxlcsWiHauoMHU0nU+1WG/cRyerFukcKFZWC6v\n",
       "EOOdv8ickFrBIjd+HZpJwi90wSjePfpB30arcJtVI1khvFtNFtljN8xFl47ubykWMBDiu0uVJyXh\n",
       "CDgTyVNusysvfrIofI4QiNAu8a+f4FzyRtnCJdtMZbH0GuKuRpDUj3TjgV93e/0k+zKOTQrTl/2a\n",
       "QuTCVLyOU+8bVlYoB+4+lEkiRaUdH8axJwIsJ0gN/f+Yg2Dfei8VOtFjGA/VMAdTRZuzJ8/dyRI9\n",
       "RpX0CMURe9kDpMc2FbIZzUsoH4zbWAPvA7oAhWULXJV0kzvQgWa3AcuMpUTJedxN0dvKtNbxP/h4\n",
       "7sc/2zRYgKpEaw9D9LKKAC0xbdGykERUwZeKBLdfaGW9/Beu5XT3esVykL3WRq74j2AotzhTzcxz\n",
       "ZuYZn0o59kAGwNbIphSVL4ogsgn3b+gTzVBmrx8JtO+bzBwoUMcdL8m34PtfY0miRStkz1sRlzQ3\n",
       "vvb86AMp5jjD3M3uGKHsAi8AAAFeQZuQSeEKUmUwIIf//qpVAAADAAKT31QBZ/D83XuKhpRuu8ZS\n",
       "mTtAuDcdinvCFyaxrw+QQIku7YKQeh3543hvxVWvEdW5h6A3f8acZFAFWqfU3hdPuVNWsx/jFzpo\n",
       "TLuB+sTxr2qpSYvvBXQlpevH2RGIH96TraUGog8nPw94PUD8FRtzWCeaN/EKUm/mz+J6JOgEAZVu\n",
       "uFy4vnSEhdzz+wIRFz2JDeNZM1SCDPiBYFDildkpUZ03qYOuCItkZuWFeO3eSC1fy3hEPXmoaDX7\n",
       "ukZG1mx0jzr5PfUKJ/fcc+dnd8FY/Pe+MxLpDX/Rz/56OIsOM5iieK8BRr1xJ9Q73WVpytl2WG3l\n",
       "+ZFSAGiRFvz4zKG2NoWQWJMGOVQSwE/EfsqX2QaFcP7pH2UnlJIqKZ29GA3tijyBR1wnNLtiy/6N\n",
       "4J3IJevyUXwlyq/L1AdNWYgLiHu/2a7NQuAAUkAAAAEfQZuxSeEOiZTAgh/+qlUAAAMAACMJHhoA\n",
       "lSbvUDvme+NBnm5L8zRMGGSrKi2w6ebes6nu3kiYv3TTST+/b/5IBHGLqFhHX8bWXG/XkP4KnJRx\n",
       "O1wiFTUnMt9SyIIxzLIo6pDfzYh+p4YRdBIEKhJ2MXCnjN7VVWCbmIDUdRD1ln65t6UP0j1iCiN/\n",
       "Dl3g2D/RPGxO1tjpSNz0vYK21Z23DeLR30ippvu0/2RMftu5yEGXvZXdWVZsuuOI8QqPZD+Huc78\n",
       "ky5gwU4eqzKqp1+uN+l7Lgcm642TiELpbNmPyChnlFf0QJfpKNJexOuDTpumTtdqHQJrhsgloiqv\n",
       "FG3M2RZaQtzjAHHB+cYNtgsjku8tFFccN274tEVp1rAQEvAAAAESQZvSSeEPJlMCCP/+tSqAAABt\n",
       "P5qo8w/UB+HMX1mpASHmzjLcA4KQ2s6mYQL/GpK96f874JasbDXRRGcPegVoLhQQ4XIGbhNao3eI\n",
       "HHn0LpHs6EVzHuGcdRBJEKImbvTiS7H4tUw2/Kdu15Bs0kEOGPQYyWJeLP9cuWb+lWQMnBWFgYN9\n",
       "EsM0HbUxby/8X8J9rew1SXeORKQgF8WxIvoCqx57UQwN41ofsbVgPC969f4zVbFKxAKOEEaAmA2m\n",
       "UGAnbI7JAxLTk1WoDNPnX6wzSHP5eJ2NEKWUI+2H7KYrNns6Bg+0lj2Z6YVzV6c1y6zx9YjTYZ8J\n",
       "77vfbyHAYiXuydzqDx79zZV08qHtcvlvsVAM+QAAA7FBm/ZJ4Q8mUwII//61KoAAAAMAB6HtZQ9u\n",
       "RO43MyarDLwEtfsBAo4L86VW6xGnbBHZDyEUD5qRwWDRYMPkqIzrlnQA76ft97viQn6TRdZ0zxDr\n",
       "wCPp8/7Mjv/WhWYlOkq+KTo0Xq5xbwFrtZ2hiBWcoxlQSJnQIOoED8aoKSkg88OCXlXEC8E613nr\n",
       "lsL8IidTDfqlpLN8XwUkiL9p98ULcCGVnEFr52kmLpW4j21+ZKSl0/7Vuw9TTjz9DFdHIovKb0QV\n",
       "9wks+soNiLjL8JGi0fZ1cdx1t45GTEYxS45Ir/V7G9q4lLs+oD/gfQGGgvxHM/CHxYjTV+nwoZg6\n",
       "G1NTs+lmSzBl9Sb5kdSx6ax0Cc/Gk86FHzlj8tIqAO0dSjHJ0feCcPb75h1IFNw3xAPAo7oGEV6k\n",
       "lRFQtBGIB46YesLaydyVeunxJEz0sQOLJR5ZFXYRekRhqSF4UR+BxwHuHMKiPza1snEhZ3aWtI4Y\n",
       "VOh6oTl8il0NQs1TBth6IK/xq2pt5ruZsPX+vVdIRFPzPodImKpP/nEKaT2UQnXF8pRvmLi9X5Wh\n",
       "RaNK4hiJ1nIPixmt16k0eJPBrQ3TwFEqY91Imeq4iOzQiQgXC0XBB78DYokhQGfe7Z1yNQMJue9R\n",
       "0AoL/00k5IHS+IPoUvJLLjv30dZXHslzibUIY5FSMJ7hby6/NtR23xOTO4w9TWZWUXPRGwC0cjz2\n",
       "/nd0cNWXqbJzoVoHAz66hn03ibCaArVjFESAaUTNFPC7HNJrM18FE/FBCUYLPRxaROA2lYrnI1Hm\n",
       "LCS9c0dae/Q7dHt4IqgKSb9qkaTKbtYw6qFZjfM9nhPfk1Lp2TRV2j8R8hrI94ZC3Xt6DRaeLX4X\n",
       "G+suWGSHDgsDav7AGcRjJlC3nsKHtbV93XUJJMwJmruLwvvpQ7oRONOmNrQxktzERFdhBKc4E5m5\n",
       "rNjh9cKAftI5RsYxQgGz7S07wKkca+o+cfttHovvsfRE0IqhskW6YqI/jaZ544KelGXYzSoZH05K\n",
       "EfTVKT3WrdCqe4TTZVtH788yDcMcNQj9NmB+SxTLaSQp1VQDuYQ8puZywhPT9XHHHL42vvpOvzPv\n",
       "GA7U/smTSiua2QwKO0KRmphdn8gYuOcNomkr12BlPztQQMUZVEyVkNFuGZlbHOZNawJqObj4Mkw5\n",
       "iVAZOo/IuRMSTVBxamwbSooJzdESsNYp5MaPmWWzWe9dwt/DhNpT2KOA/uQcWm3f50pPFPRkeNUl\n",
       "gCFEHNjIBywAAACrQZ4URRE8O/8AAAty1oWey+Pzm9gIWsta4A6I69s1XakXhADPCBtFAHFI1Q2R\n",
       "kPpKQVj9/lbzt1+Ap/n/9CgBJQJJklrwLKawRf4SSwQ+gld1WHnBggA2zu/AiP4Lc6pPoghm1Q2y\n",
       "w6thOwqMO/C8XAKTym4xW4pB+3M0Wv+2N5XbAUBJ2ggn6J7HBMmMODZGKzvg8FQ3xUrb6M4pFo9S\n",
       "KN5RYzotigTT6AzIAAAAdAGeM3RDfwAAAwDy6dstZgfY0SycpLyeVNpYvZ34g4rwu0Of4CAEPLdq\n",
       "xq7u2j93L08bvyQPRspm6cuiswadvJ2JzBWTUVZCXes+Yl0KFZJ3t6OdKxSigCw3vwbn3i5zCtKk\n",
       "cGH8lmbVQj2ZQvNtGib7ALKBAAAAhgGeNWpDfwAAAwDzFDstrc/6xJtY0m1OhA27Gi5cBzZU/zDJ\n",
       "LxaLjYRFgeD2EAE60N2U2HqbMGRLopbzwQDMU7FZCrH55wXmdlMhb8BzBvQqnfxQlyu3NSDqTolB\n",
       "r1j143ZUHUDu0UoyPFw6YKT/r/KXz/VmmFhn7mGA9oF6r0XmIF8yFBcQAAAEGUGaOkmoQWiZTAgj\n",
       "//61KoAAAAMAEJ5m1TtWoCAC/3pkz7rCqxInJiPqQKoCwMTJ65IBnDCr899pKv+7TIn6yHvfQEKI\n",
       "BBNSNSozWkfK2/aPe4degEzhO1+SbVBnDl/sFpInJSPBqi6ku10XLDNXJ1JmNVVclhc0J9v1r/B5\n",
       "I/ZT9wCW/5AbgJ/2Ba4QsHjaPT+jkZZJP/buO5enwZl7cWJk/cJTGgdzdgPOXXURuu6TtTmY/8L1\n",
       "3IFEiUpTBiTNI2xw1bnrWTWmgW4iqGNMaav23+jeOXdIePbObMwvEZ+U1daD19S+lkKRmyeS1Du+\n",
       "zk9T2hnghCj0HOaQONuPOE6uIMigAT+J7Ww57SXMDfXHjTTaoIN/2zSqEv6S0JKDdY95q/UBKxsx\n",
       "JaI4DZ3Wao2Yh47zj1oRxz64Q6OGVbZAYkYRL6WsMLt0W+kCZ2O7Ui4vqrrCai60rmWznKC598c7\n",
       "3zV2idCP+GvtNlltEfBX58P+y/szzzaY7OGQCIQ5dE/xYhLf1v3DGrF41rtcoHJkLFqIMAUKwgnr\n",
       "Ask1qI1Tbf9ouXVF+q+W1TF+2tOdDT61u9VHHA9QuGNgWsmkPRCrBIMF5CG6yWaBiA8GdDqiydbz\n",
       "ykQolG2F66UHTpuLDuq5xrT5xZUesDAhEyFi02EUbwCpQTXEjKGp4ikLKlXcm5yDTAPI1hCkko9D\n",
       "YyhZ0pJadS2m4Dt+OcWFi4rPGSHHPXq65bjSbef3dvFJkBp/MpnnV+HuWUu1/GHntnLKy+/aQttD\n",
       "X1/NTXgWM3Lugia7DUGs5q1A1MlBCL4lJyAapRveHEJT+J99qAsNhxxyfNw8qlJamN8kkS+IdLgR\n",
       "sS2c7iQJFQv2T22GwzX+sF3RkbN5Aaa5UCKOAP6D8djPNvuBnwCgdGNR0o737dJYLKa5tQcYyAy+\n",
       "gzdrSDURR5zNxY0C8tqXjBgy3AHx7RvVn/NuUVURQ1W4qRIBTzajcvIcV4wGNy8WwZYCYi7UE0yg\n",
       "OOZic6+0/YbLbTWvJpmlKoXnp1cqARCPC34qvrwxb9GCdIeivX9EZKqvf3DgYv5qELTMWkxPKYzi\n",
       "mOunTPN4TGDSSFpMvAvxbocsCbWobenYqC1IjKqj69bvM0QHeeOOraFVTpnK1Co6wmmmR8XMXQso\n",
       "PIEe1AzZrAWX6lYYZ29zQHDsAIBMeq+ngQ7CkUpDNSgkmoGNqfz5xkiKDHG46r/0VsGpFkA2SHmT\n",
       "TlyLudneViUm+ptIm1lLfcsag9XYolwT3tKrRqOrYLOAlcqxSzx6ixxqo7G4T9JX8wWBl33DnN6u\n",
       "KiwsOpM2nEbvIyC5NG/KwmQXHOa069JkovT/CoxQDBoI2stn+w1lttVyWM9a5RH57wgniTaP2Bco\n",
       "3wQGPgy5SkxvAM+BAAAA0kGeWEURLDv/AAALc4X3QWFV7PUdi50DMn9DGLksOQLJBkPWsuQRPqOx\n",
       "5tcgBKn4U2ABgCenCn8LYF8b1Zk1L8Lmb4UyrqvshM8FO3/pjMQE3wc9imt/x3DSmTFVGawbgS6/\n",
       "UObEI2LJ5EVzvfDcxbBg5TkJ3sNdxxQxpZ+X9sJJgjtw0l7niOZ8ZZVhmiGXnenfRHN4PM6p7BoP\n",
       "HyZA/3adUV1Y5FiDHqXoWU8oSMjBKDW26qmk1EhdL5LDHTRu/FLkcsFigTNf+csK7J4MjSBqQQAA\n",
       "AMEBnnd0Q38AAAMA8unbLWYH2NEsnKS8nlTaWL2d+IBkG8GOllYZq1VQ32kM+Nqq74wADZQWa/4V\n",
       "FHcgJM/OAMKW+4Dh/Fn0xVVJisgjf2bpzv8x7A0EHpIJ+Cee41t9vjxeCegv+hKV3ucvkCvpYxM4\n",
       "DN80iU0Earc5AzHHf1BNRE3ATiKz52UtFj+Gs/IZvPse0KrA/fzCy02CCW4aBClMxoQtSpfVO38T\n",
       "tqn4BN9J5Z5CwV2DRtdmDk10r0BtAAVMAAAAygGeeWpDfwAAAwDzFDstrc/6xJtY0m1RDmpgjvsE\n",
       "zZ0il4VIcOAB8UiV8fYsqU+L3CtFIFfveyHtPfqCJef5VkIkvKuLm8AVUPKnXHB3KJfn1+itHIgK\n",
       "wocXNloMLsODmdnMTqMkhoaXz709dtZ3uM7c+nPgLoIhzM3tGJl5MwoeniHDaQHUj7AdmC43XH15\n",
       "40/awPLtmZwrH+PLsvYno0HeTLKlF5nqS2N0b7stkOTYLmZ5MVl5Ws7oo9zvbtSH/Wo5g/VRwLQ7\n",
       "Bx0AAATtQZp+SahBbJlMCCH//qpVAAADAMFtDnID/m4ANsj4GqDWwHnZgc4FsiPM/xYjxdXAnJkj\n",
       "laLuY1fp/izgttSZXhQPY7OP6PEI+Auv4BPJrXzOHhtiz7uwGMRYuGHqJ58X2muFk7W4Mje4bYQl\n",
       "qB+wQA0KKQ3A/ugFRh2uJL2mK8fONCgtuSLPtfevQikqsPpXZbFDfAxp5c54/xNPgfcAC61fUNeH\n",
       "efk59GqbhY0hTlPsVTCsvcwT0N2gNJIeTmFqV7BEkq+Ewo6F7xyp7Q/pwaqbDXRKRn6W5CzXWxxS\n",
       "c4pqPIugNLLJP5UXHLxxORwb+3ldfAsWZVOF8wzmhz4M82Pby3WZGvEp/lKkZ72kdyHbn1BGy3xd\n",
       "A1c45ZWD5UPy0Ti9tLAPIl6B/Ze9I2SpyG62Ou+tldkLKUzxer7cmf7Bw25TECUeZEPAp/NBTWtK\n",
       "TTGLPH+ci/NJ+28N+Wm2ROmdnwAUksOQJO26Sbr8ID+iBNbgDHwn6FcxLg/CJJBayQWiMM4FoBhn\n",
       "8mNqKC1lrHM3OSEvnmLCrHcyq1Aqsu8qogDfSLwOkK+fzB3Vxo6nAbK+RnOcNwtphcoNrihktqDg\n",
       "3+A0feXCMTh5zxCGp35fbids/Pmf1CxrTkIdSmQRWqnNt4vKubyXByhqR2EujkZaR+Pj6a+8UGYu\n",
       "lmTsXnkHzAVW/YMv/WgRNX8Y/nFUaJjerj2A9n72dZc1cfH4JkQQwl0e/JO8ZAsWsTRRzgtqw4u1\n",
       "sFNK+vXlMBxEKjOmdLnGa3WZ4SjS2IOfW+MbkY4SB8AE5fMUPmYK1zVZZ/e3kSx3gmlUu/PfGKMW\n",
       "795tpblVnTZPF3eWLE7a5LP371USftFu5VMeHPs0AjHMkVjFsdE3+UMBAuFO9/csOypac5JEGvPD\n",
       "AEJ71pm04bYXlNCfJrNhkCkkClaxVKYtjy3LypLs1Zc8ZQAf3kuVy8Fbh9XY14Ls3nMQXzHEImEl\n",
       "paZaHKbUzHBB/GkE7d4GttsF1ZJrN4G5dkXL//0K7zG/piXQF2ytY8qq/mEyINIEw19XinWQEnWQ\n",
       "LJBfBLqNmmmhsd5YMa0HgALTfkCf75dpAoemBtQnkj5QNLf/MayO2yprdulkyOdS6OGjKH/8Sw9m\n",
       "iSmMdeFsl3FZTMCw0cXQnZZXNrZQfWrEtVyl0SdWO0YgcX9sXdkaXQ3tY9l0uGr2OrWPuD5dL7EY\n",
       "4YjyjqVIJ0HVZbyTwEJs3ef0uKaTCHYl+TXjb2f3eFDpbH/3SAYDnQBcnitOz0ik+jkrK7Ts5la5\n",
       "67YsaozuAMc3g0Ix0jvRhCAej88M7JYxubF2x9yhaHL76eDTeKZXAfflqdSn9GJ78zIKhpMwWYsi\n",
       "V7Seb58wOdftmTcRmcGT63nMoQIZJC1rK83Z5zDkA1eOQ/VfSostgmLkwIx13cL20wBJeQJ/kbvS\n",
       "HhMNmSxiTw7cfQNoHK4Zy1SBUQxVUVZIWXfqtIymu8/knFwHDAqqJ6SJSUtPoin1kpRd+XtU8IAr\n",
       "VjqVMh67HqO5UQ0nEu6jqBay2b1F5JGlD7qr7HMSQj7qNf3PZBF190dn/e04ZN4X2sIVLzJ1yuS4\n",
       "oCjk6D2OzGx6uhVGlAqo4UFvUpO9CZQoJij4n40MDHpbKgEokpNGoqYiwjLZRBiovTbFU9PzL0a7\n",
       "DFSzyV6bCOMIqgCtgAAAAOxBnpxFFSw7/wAAC3OF+Lj1gXECJgfW7UeeNdIr+AD85iMD5Pk9dWn7\n",
       "ePslDZisHXBN7QwbGEjmHfDwsBRiVratvdQ+v0qYChCK4h6nvWAQSD+N9FWFe3/uDgIpEBeku1NG\n",
       "96+i+/atkZjLRKoHl1ykMVrkrUJoCga8i2aQgbif65X4zEIEOi1y7BayMBHwScf0CtCfzRYmTGuJ\n",
       "mZD8Gh+VlaotJ0WXK68RhgZwq2jXQpOclLeQ48eNsmM5IbVRO4DRpZNHN4vmbu/HTb+TB9qzM31C\n",
       "BsPbBpYJPQhjrkwMpwqkEZ/OjFASoRCpgQAAANYBnrt0Q38AAAMA8unbLWYH3N1cqGMY8AX3IzgG\n",
       "m+BBXE1Bt8ZdxiVvGD4Azwc6qpXDJBf0bDjdErxU2IWw74i2zppa7ViNQBEG2e54mJ8e4H1df+uz\n",
       "xL/2dWMgSbl9jszgLlAeuAALTQS+jd0dcy81BRJVnq/VrOPU3LlKqdTJQPDizDElpkV53PJsgliz\n",
       "AgtRkCSoshyJnK1HHs/DMwxaUAbIATUYqDNRvwVCH0O8NElvlLMFUxjqOkTVMWxEiccKfyY5xaAw\n",
       "ofd04g0xYg4LywC3gAppAAAA2AGevWpDfwAAAwILXseiD1GPjmZjACMUBnKzQLoy0rbHrOtjtCtl\n",
       "lLbLnV0g7PkZ/UcA/Ek0VhAFDiPwEgoUORw7v4HCJKdIlTyI7Lud9tLWuhs441XKBIMGjS1/vkP4\n",
       "+qptxH8lcLpMdXlAZAbLvBfzxi413YOp3mqrT/LE3ckhiDe9Uo/s91M93x+jRESSsJwqR6mKO/79\n",
       "kqCb3HxlUfhttrZpAMPtenPWE6HNIDMJs/FGskjiO6Ajn6QMjzk32PGbO8Ne/qfgJaetnm4C2mai\n",
       "rmAXGkD5gAAABD5BmqJJqEFsmUwIf//+qZYAAAy2z8O48SyXymATYledmaNsQddSRGJJy633SadX\n",
       "EXgULxECvgTtL9Fb3Vu+zxQ8xPvoaol0qLsuxqfpyDUHymUo3/O6uc3l0LH0pg4GqFua4/bZA+aa\n",
       "fzdpnzwRKVk7rFnrDPNp2UgkYCAv31W0j//K2lOYDW4NZOap4TXptLG1VPuYDkmCMF69DkGazUGx\n",
       "wCbG782R/42Bo6sawBrmVs0LUdMB9LnXlv3PV8V6nsziRpYPmfL4vR6LM3Vu3OA85h9ryCbLj7yj\n",
       "16/1Ov+hb4cKdCps97UEHPgQZjhRBpqIT39dmGJ7tCcSMFR/hXLIMJB9tgRKPppnJsO/3kmDLFI1\n",
       "SwBTd90Wt/t6wwAOxnNqmjlXc7o6FcDweMnQDZyBz7hFWOY9fMkcT0Oinw2Q5rPqZiP7hcU01wq6\n",
       "qNnEw0Q+35+BwqHSPv0XC/ApFM9JrvtH34VtAeWL3FJQm1/q+tAk6CDRSlbC+0oH9bjY25ZrXPmP\n",
       "ViZGNnxDiMDN0CAPb6ihDE48hIMEYYOAaN5RD6kcgCrvfjQDlFnRuIfU19hlBLH5L2P+iA+e1Rkt\n",
       "FGf0LndVBlfY0CVskJDLDKO3Xleag3ZFCy0jSW9q+ukPwR2EFwy7TF7ycJi+NJnjGwgcSFkX9Uvy\n",
       "j4KWTR0POBDI4X7ubMZGQuZhsCX2H0dXOitBnC4jbD0oYwqM7ylXOB5gJOLuMtQn6ZEIYBl5XxXL\n",
       "Dl99Hgpy144cr7EHCwS5U/TClgxpuZnzGm7jbygSl4n5BA9plyZKMtv/pLfQXnnWYfnx1AvUkySS\n",
       "s4OB0jZgZm2LEydA0ednvM475y6YhgDcvKqXYde3utzUncTHcJC82kcZB3r7kaCtEMobhjZ6vS3H\n",
       "6rGYYcamOSec+zwQhP1fjtBYeY0OyU7apsLrOiFzLLmKf7AC0rZc9rZ93faNTGwGiJ0gMv8WMTKr\n",
       "CX6DVLsDMGgPx+sgho3Oq6AmOROaFSaSuBKfforL4q+mnwf+lQ+bRsPGn5ZNfknfsgSA0kCzsm+N\n",
       "RAEqD/2MrUq1ySwKt7XhAUz3IHveThuGFM7hDXhIBcaVzzUayfNeGyIXbM/nj+g5hLUMUVDnsvYK\n",
       "H3PsaHNRB5Vi6gU/0vdngFjFY9JOqns26KUBgjxUuj7xSY52zsA2VA75zYsmM3LMYHSqeDcXN1w3\n",
       "OAfJEA9XXYOcCcV0QuvM9LQWmbK6jWlKaJsIBcN62TXjTUJBC7hl2oE3UkSYAJuEqo7oDKQRSgNm\n",
       "tGwSZPVJXpmh+2+HLep9DgpzVRlKlaBGeJ3YXjBZeaMAXUi/DwIW8MWXff7EvC+EtjbUs16FAM+J\n",
       "DOBHcwcvWNFzuAh/nl/3A6qnvHwo6D+CC4uggMinRIVZLQtVvEfTnGr+4xxrrUGQdAnkFK5RnlG7\n",
       "BFfSlVch62kv3nUAAyoAAADuQZ7ARRUsO/8AAAtzhhUCT9TABdKEPGEgecnNYzr+PkgOfr8EdPTX\n",
       "Y2hreiMuI2H1pkFO5zlHegx93lSewEX9kotZ75O+kb/fbpk0roXXh/K00fstftkEbaoY+6GoqbJ4\n",
       "izWCpccvpQYbmqclgLJJJlMnMzOhGfcqX1FAI+WpqRCaw+SSJnHI7BODxQpol1VtGyH85WW2z706\n",
       "HPwBZ5DKCUD/q2lIOWUd4mXMoi45Va/W0yFNVi7sYc6sRiA8XrWH33ym3/X9nBYzM/dm3adiv01J\n",
       "SuPykv0uWZmyksJLbtaCu5gB2iK0YCQY6UCbgQAAAPYBnv90Q38AAAjQM560ZngBbIdpWTkV7YKH\n",
       "i546DzTvnNqoKJ2iNh/aBSujuGs2HRrSjrRTcH3/ramjU/TQqgK7/s02Id8qM22bsuk+b3xS4+2d\n",
       "ogkuz8BCkS2jSWiwMYbfdHGSOi1n/SzjiIQRo0xqdPLFaswP4hElkwf4Tshxq4+TFLUR9IFO2pIF\n",
       "x6EO6TETxmyFmlBYRSvhqMV54ZDeIudIl4pn83Ire6K4qJkCY8lj+somLGEEJexUFx8jS8pUrugd\n",
       "5fW+ku64CL2pAsvoRuHKNn1xbR0StUOhZs13WITZCPohPiCYFxJKDl+JUOjSwJiACNgAAACBAZ7h\n",
       "akN/AAAI7JGXAB+cjOXTzxlduXgvBeHC7e2pdatTPWlUAjgfLjH/bnM0LQvMpvAVr7ywU057pBDZ\n",
       "0Q3Ab9ba55wHHrUKTal61zsXNEnU74gQ+tbWRyR8muwADPUdqDnf1i+P4I6PBtqO381axT1/UGaL\n",
       "7BAn9qfhuglfkD5hAAABV0Ga40moQWyZTAgh//6qVQAAAwMtl/Q+Zgr5uACYjwM9ubWYZX0Rd/78\n",
       "0F9J1rAIrJrJSR0vMKxjtDtvyB3shsgV5f+zu8c9UqjO3lSrJIO4XTIEcGjU/JcuGv+i3Yzb9mr+\n",
       "ab/kPtcKMyF7yiGL1R8XUmeZqm9m/zbz4KK3RgYvPAJEraRQDGK+QZmrQ+vTfx94lIV79dTQUoVJ\n",
       "07IDociyz3zwjHLJT4h/AVHoGF5j1oFCI0lAGnLdvTzZc6RShQfx3r6ouiGT6ZjI2ScpisK3hVcc\n",
       "8W1uLa1ZUIEP6BFPmAEDnR5hfq/glyicczyV9MuYP6DdGzI24chfMGUv8Tp+ZY5ShmDVOM+KOh26\n",
       "KNEdEKWmHqamLZUz4xdTOG6lZrCquaEJw7NzAVteDVQzoW9v+fv7ylMrruKVemGPrrAG9QYjhTow\n",
       "3oHrzvXs74vJbvcloQAAGpAAAAEgQZsESeEKUmUwIIf//qpVAAADAywtUVrNQBhqgNlj6IR/mo1i\n",
       "zvOi8ryzxP8D8htS7qfYRWY0ZtzfyLHATPedzshzFfX9aeqc6IxYB0fh6yWihXouyFEv6H6IdG52\n",
       "Zubenpb9iyaSZUtrX/OxChel/rGDTx5NqFWk1uEqI+NaCX5ZwqyFYTy+n2T30ABITnkpyQM8CcIE\n",
       "/iQdV6Zn0A8LDuxy+qCREGavXRAvEuCqBGGFjuS/91ASSGD8FPKAUAh5idC5boHKRWpZPdYWeYDR\n",
       "TijAqxeY3ANlPZ1XM8dFQQuoWu+VBx7q3gUoaOiZeMcHePa4EuVyDXnskI2SjhAfMV3mJB6lpfMe\n",
       "yn5M1Fvykskhq6x3YXLFzNxTcg0AABnxAAAA+UGbJUnhDomUwIIf/qpVAAADAW/nh0A+FEn/oMwZ\n",
       "Pe11/1uqxroEg55lNP77SOxGU52ZypWrPVu5jvNTlQuJJ9WHI68yITIn4s144Wzt2ThtD99Q3U4T\n",
       "yZDJsUSiN965asdiFawUO/XnOJeBxbeJrmdhW1hqexltkIyYMDvX+nDXb9lrDaPF2gP8msLPUrgX\n",
       "brVld4+++Au0PupM0htJnCux5iDbdnqKt/1ZwzBUJjVzlzIGMvW0GJSeVMrVm2QsNFYjgSKNbYAb\n",
       "a/rEPIfgLxNTNg5WnxYKk1hULWePjFXOQP8SP7rAdWYJBKfr420+JfY+zRKAAAB8wQAAAO5Bm0ZJ\n",
       "4Q8mUwII//61KoAAAGo1mfUKry2dEEArCSvilvtJxH16WI4XFB0wICLq7VLO0nNtsc07LjPtB8PJ\n",
       "5AAhUnBhRIbK8+wS/q/ZLb3XOckNw6nCt5aBkxOE/htv2hgGuUB7Jd36Rqc786XhAXytNpMsK/el\n",
       "d3Qs0++jitGH2+92vgFx/KZxq36qf7INbTdVkZgwIgImsFejXWYraT3Blp6PzoeBHZ0Eq96g+xFo\n",
       "ggnYBRDaYnMigPLvUK2KC7bFph5rws1aWMeI9nDw8MOUiwLxumUkCRLNws9B76jSlrU+g2JXgCSQ\n",
       "AAADALKBAAAD8EGbaknhDyZTAgj//rUqgAAAXcn6QAdK9MmeK529+hqARgnYCWRJ8u/sdY8JPQQ1\n",
       "l1FT/raDw1HJMt8Gy8cNqgUh26OVu0jgwF9Pd9Nv6MYlo5ORAwun+OiSwVmLSImV+nWluzPQO40X\n",
       "LsjslOesgVRV2GFxVGuhigtTnjyos8d6uESEKsgMtpZZ8yzC9tqF/VQ5m8pYEStS0S8B2YsA2O9J\n",
       "TXBzj5MZZaquKQp3jbfbP3HVhEKI0KTkfeVwa3hi2DS90nkbebC0F7GrvjqYmSDPwBGZmD/WfsN/\n",
       "ITesaj187RsZPl0q4omf71Xw7J/QnteG/ijejX2Nfm+PZUajDU5B6vUOKw9q76zQjN0WAEKun7l8\n",
       "da5bD3z7HYjDXLmMyQ32Pl8eKrsu/tMJxqdd+fx6af3oFTxgKlug+zomr10av3LqslPK+YIQIBEX\n",
       "KzpGSh6wd6RH+STABpZeL3M/UKyGt8yIyWSKLJ2P4I7q5rChRRGNHQQce5ZIRuF1jLwGudnbuWwX\n",
       "N59e1N+SoOkDYJOf0CXnnMCvhdO53i9enu2BnYVCP38LJ9N+13B2nNo6X+X1tIsJ4TDM3VhYHMle\n",
       "e+1ZP7qayIg+gRHTFLDQaFEqm3wExqL+B8iDsCl+xrQamZWwOCGGAzgbPcszCdSGKl/oS21p/Kcs\n",
       "GKWuLLE0NhG5goz27Q6DhO/8yJSYw5zluKlPSDKjMAtGme4OnIK0p5fQyu9F14FqJWHlv52nlErj\n",
       "rrZWY2aDudOtbqI82nZ68Huv2nbN6a9kmbF7/MPTutgzPVL7tktXIhtqQL+56ZUoALUzGzceKRKT\n",
       "HyRK1uzGeBMno+n6xXF/psL+TLIoGQLJJ3orhyvkrQvftOazBuvCHZVUI3TaG/frPcyYMjKuUyi3\n",
       "n+kaaPdyEMbF8KIZTFPVik81IWsU08TfRzgMOpZ5570u1o28hOARNpgD7Ccp7K9QOsEDP+Ku85ux\n",
       "pax9I58v/pEDvEKvzJk9HM+zEHkTOsBie4Rnbu6OqC3Fxl+PgLDFAmgmLq+R3kpfH2N+NjNEHskw\n",
       "bVuDW38OGgqSXFYilKjQ6WjILxgNNfxB/rN2FNj5lBcmSD2wGuJVtBlmsuZGLbG0IA358mzL6G7U\n",
       "isQZ/Ppk69tkvMDfSBDrWoL1NQn+bCTYngGVtvy8poWQcr6FGW4Dp9eMfo6A8jkPQa5mAMkDjfqA\n",
       "HrHJzBFB6eMRF2SOGP98UXGbGVOSttLv/s3TEFm9vYEu56ABBobkCB24eO8vAQzW0k+du2z2aDwI\n",
       "04jj3GCQLeTZj2juFOIdl40O9wF4NYGV9mW7sBEiwADza1wveveq52edsMqwAAAI+QAAAQRBn4hF\n",
       "ETw7/wAAC3LWhlMWShf4AHCSlXT3Ek+66rShJ3KylAFUy/nf/tic2X93pOv3xdVcNkCJm1+82vQi\n",
       "HvXk69mhtoTTAyH+mxj5/ePoko4eu2f9fHGrs84BZwdLrafANSdiZUi7Qlm7EFgMVBMc0vkJcgjS\n",
       "he/HnZkG6WXKP5lOnEoUT2jBYWEh6eRbVWpa0V6SP8WeZTUjZIiqzgVVfooJuxJUBBSw33tsoU7n\n",
       "IuXmLWlC01AcfOPcd6B8/juO7Z3TA/YwSJdUJezr7nuCMySfzLTRAGjrExMOXy2S76Wk3Oqvqu0E\n",
       "IVn2jb2VD5pd3F4gds3DPdqQ/DZ6/foacGQM+AAAAHwBn6d0Q38AAAMB+9NljndPee1R/q0Eu6tp\n",
       "5Vn/DXDAATkhrugeag5x8xTM4Cib95zZj9IzbcftKwDZQizCFCKYMzNw35F5B0wlprt5YxOfpVRs\n",
       "HnKXh2IMIa9byFMa7ZbkcD4BgJPkNFTbltIHh8aInhxRAs1q4gI3WAHdAAAA6QGfqWpDfwAAAwHu\n",
       "ZLBXAC2QWeiHRzz9e21k3fdwYXXKowdiiofqvLRRtdFt776c/H3Qya5iVLSbGQBz6bNFpJaw0KKv\n",
       "dElOKHGM2bm779kIJkw273/u6dLtEnycaXZA3W382E76jlLsZSfeMgw3DXMQgLNuImN1br2v4yHG\n",
       "XMumsRGrTEa38p3U08C5cAd+AfaBMb3tq2blj8+6ZrH615zi+pOj0xvEWqi3JilfyGFrcQNqOrmD\n",
       "9cCi+u/JAV8sTj/avK/7zlVFToJ/KKBYMjNySXI3ZRaRC3xefCU/A0mctNTkoEacICbhAAAEdUGb\n",
       "rkmoQWiZTAgj//61KoAAAFuJ+kAHRSWLhk4Cj4c0IoR2ZOerCo/66/Ne5U3WqV+pUAx3+c41F2kV\n",
       "2M2VY0XkX7QpLbrJy4HxS7o+i0j3QoSUn8ZkHGb0woYxJ4ZrbFO2WwDgK0HQ6cyJjAsEbIX9u9Ru\n",
       "DSBmOsu2vJSF2AYceXsNXtILRpfTKLZU6AICWzGfJgnPNeyvr9gu93RR0pRdIr8E1iGxAECnPhES\n",
       "vu3hyOeF+8jSYDK/i9YJPiNErcFzNC9bameyx2aBmTpSvFGAKimXeXqYqS2yMbijeivABn/R2119\n",
       "v/P8m/Sd+K9ZsrZDYix+2Zwem/Y+LIfT/Res0We3qTY2FA4/UAJWl4F79rx7zCKXq3NMVhl/Rs2o\n",
       "jclrtvGHX3CJDvnUypT2ZaJvacRga1oiWpLRMVKLq+CbA5e4iFsUW0za+w152/SzlQeBv33C4Ldh\n",
       "ldDkidCdPVMkkveNAY8IBhmh214xcIywvVh7eL9d7qfWwSsvAOoG62tNTibH7NOuTcYefJLdNiSr\n",
       "OV78vdqhNvvXdvUIM7JZet2E6ASQltKqa9HLIq32nf27HMEKpeF3teN98shvawhlXOTwgqwMwH+L\n",
       "7M18gXoN5+26afxyEH5EYgG0pjv8q02Aa37yoawZ6hImeCikTDlkMmGkLLwVDTe9tzxJf9EdS+gA\n",
       "0t7I4IRu1r13x4KYKlcZxsHmJE1BRkbSogH42Dnp7F0QVC9CYn8bFGac4PJ6yX9IEcNYrMwDW05f\n",
       "CB43Wwne4AJpnc8D1v2BhAd5pIvi7eR/AJfoX70BBZTBTIpqJMM0eNjMnpKS1DJ3cgQC5oAV64B6\n",
       "1sefNXClMlzjm/RDsfMxJtbjMcK/J9azEeT2D+fMC1mup3o0bqTgZyZBF9cqsVWe3jC789NzghcU\n",
       "oz5UmK0p8MZNagGCtmLqrrgw4oVxCdZfcpK8qBRaPL75woTmJ/ZaUhMyXtb0UR9TWWmeXy8GND0I\n",
       "LSf8avaRtD2Gifpplh9Ga/zn0pLJRhZJuFPYXRsdr1vAk56RoQjLk6vtNwEGgS5oO0vCvCD0q3KP\n",
       "U62qYs0ZEESdriUeWFzxO/kveMC61gw0Bey1EYtOuDft9mHQxeRMRMsvphy4czZi5AIjp5ej0wXv\n",
       "Jg58zefKCeF7iVj5oVq4nSY5km2tEVGq1zibKBSk760jJ2gtvPVnouovqF+bgzqN1M2a3w3gVZNL\n",
       "kf/BqEFdoO5g3BB1R+WgWJRLN+odlE14UxoXvmm+7rlH4/2g6R7Eq8Bbbfl3Kq5qVrHk8xiFrtmv\n",
       "VLCjQdiL8fEuMZzmHMB6OA/J1TSJz71P3sq2Y8+PB0tHxiZsjf4I1RZnbDeq/L0yTDeMRa9NoUKq\n",
       "eEGfFC63Ms01HwflW7tvcGB/MFPNRP1aKju3IuQxLrYkGZr1kNYOCsOQADl6qNx77Z6fLrklQB+8\n",
       "ui09OWZQdsTgJb4Vz3OQKZgn0Z1KvccrudMQfCWqm4wmvRC0ePKJqvH2cLr99nsro+5/5gAAJeAA\n",
       "AAD5QZ/MRREsO/8AAAtzhfiUMz8ypR5uv17O78N4IAEPgBfRz1L7JZo+1Vbn2eaQKZJvxovYMWbm\n",
       "IBoJNf+gdR/PHfmUBnCexdlFGH7nIEnbGMk8ipcIHPRi02g9NEtbQzcKh/BaDB0+RSYRstNLlmey\n",
       "z32x6QIoXu0Sdec7+SCD6Hz9ftqvfWUb+Zi2nSNUKjlWyIws+dr7TUZkVNIF/xUDVA2pSrZI9zuM\n",
       "ijXhoCRX/wZB3X8e/eceqGWrTLJzPhK5Kuzqih2K0BxDwgPuXzB0juQyjtmJd5qIBaoT3Cgri2id\n",
       "bNbEyJ0xpNb4I/YScBLDxQKeWSCTMwW0AAAAwgGf63RDfwAAAwHw07CwjnwAtpCM5RjfhbjrTeMX\n",
       "zI7cuB4MrYRoW2bzpP1mhEImiLgYVopraFOnLujHqrWOYpHO65MuEeygJ7WkqH/vdUEj3TyYByQC\n",
       "u6ptYj0zki/R/NJbxoKedbjpjyPsKUpw5a67jNvJwpPL4mo/O758nrHMXpapTCR0KZxoYmLmeRNf\n",
       "LaFzNT91oCwT2iQSkVwlr60HSEetgNSDq84WMjDDbj25SORTEDxK0BaTjLNlGYERABzRAAABDgGf\n",
       "7WpDfwAAAwAgtfDGpJX+MvJoO7glNUsAQly4fvRWG7zx93URDynCsynaqEUchl4ZHpCqRg7l591V\n",
       "PhZFdVE6H/e9S/dI3qfxeO/GHOTC1lM1EmaZIfgJt1dzYu9j5Fak63wSOWrCjs/mrZj41l68CgSp\n",
       "xH9+diJa27qJzZgmgbTN/X72Nx3Jet7gZEqfqpFqHheiI2Crb0CpaMv7gTFB9Uf+O+3Ux5V8n99s\n",
       "Gp03VhXIn3OmCR892Jc9GA/IibHyspMphVpejg5kI5n11KncEBR2wIVdaxLcjfT/N5BV+k1K4YWK\n",
       "SFc+xgDWWf8blUXGSaomCahkMzYK9z0rmShkzYoq81U+WFQLjGCygQAABAVBm/JJqEFsmUwIIf/+\n",
       "qlUAAAMAAIDw7X8+3GMAlqn5uQfvoNCL1H0AWburBuznEE8gELNOzyNdFQ3ffy8et9U1vrGCorYu\n",
       "o1LCYa7ePkm0CLm2V3JWeButwaMAuji7zdiu5c1CMunsJVLFy+VjfzryhZqoHvQ5KF5Jts5kosYY\n",
       "QZbOX7JCTR31z7Yy1UpWLH1Wv8x/EEzqBYveZIPEEczfpOXndEOL8aynylBy3IUPwp/mSuTvabQ4\n",
       "fNOApl9LwIqNj8LDU4zVFjM2LvfcWLWvvJGjbQL8vmDnt9GCCyrlYe9wGf2iLTfp5d4Q0kBJ0lXW\n",
       "PJi6gGbMWEqLqLcepv98NGew2oLU0rENtf+eLCD3bPU34IXBcuR5DByRshB0eFxVGow0+dpR99+3\n",
       "oW4Z/4q/Qa0sbkFgOoDJM9InKRFAOoIhRp5navgc7KUHnyObOsKnFrOyUYOXGdATD1ytZRVLhJPs\n",
       "1xWryND/NM++iEOAfFH5URc/Lr9ZhpAR2D1vAYNl/1+HXoU7oseAbwIS2DMGZrj0SDFjanrKdkGr\n",
       "zs6pmWTokmkMhT01Y1SASZpcHgEkBTwyzwlyG5WcJhvDIRh34J1/08XxK28ea2kOJdCKLhvxf4W6\n",
       "R0PtZ/yiONVldlDrjSgYHqdPj0Ojw9i3dJHa1qzA0qBcvu6vfpiq0zveQuPZlb1LJr3ekdlWCywv\n",
       "GC/Y/OnOte7pEtQeMNIdysCKna/iLDNMRKj0FyL5tpj2ziAqbT4DaT9dSRyqapvGA2ucnZ2MUi47\n",
       "GtXeFfEvHSOrBySpCcXSgOvHneLaLsbDC9bSk+RVOyxXia5s8zZCWMOw8fyzdUur3lOXSUBxwc/y\n",
       "4WzUQIMoXy/dSs79F2CNLfLxxr81VUNrZjbORfNRgBBTC6PcqnS5+ChbZetY8QHNDsEpsuypr1VT\n",
       "NFnRh/WYQuSLtUnCiG54AUMxwhj17abEBBIO6Xf9ol3ceRzYkA2tNo8I8fvDbUuYgGBXxlAaMhqh\n",
       "K0znthXGuG5+5hghYX+AuSNev/pSuZ4XdqJ9tTqLM6vM4RXJjbs0GIx1o2WW4Uu4bChXloezzzDS\n",
       "V27E7aNPSSCgVLKzEZ+Me35J3qdjP6ijERXLUOmePE61/+MG81h4+JM+ScsVtCHQSOtQJwfZlN/D\n",
       "zcHd4cO2w/Gpk2e1+onBxYpGj8FzIdUXYDWVFV6sTvg6s3NMHkr+k2wcaA9BYx55eysOwWQSlZs+\n",
       "OUz68J7tFpsGkHjnq27xn0tItXRdqM16OX8jBeiVrFD7dONokVCDia8XSuVYkM6orXAyOFPR6Hhh\n",
       "OBzOFsW2gaGdNPb96Agjd4HEwWmWuvCPUyabAMwY2hDOdqvfiIVJXXaWPgXwA48AAADSQZ4QRRUs\n",
       "O/8AAAtzhfYrjDEM+mUZSNauykVbOrsnhpYTWiRe2mUL6HkIAJ2owODdbDXHBGXk8NNPgr+3K31e\n",
       "xg3mmaskQLlx+OR4kyNpJOQoKGhshOJLPelPLuR4qXH9itacUzLe+ZjoZD/8PSO2X/BPjk1fbjqa\n",
       "Lh80N0QiZ2brdqRFvxPb+R7zTRtVKSdj3W9sI6ANlCECM2X1vEB6KhkZ1KMigGn3WOidtf17W6vJ\n",
       "zPE8AjDBNRa5BRW1V9rJmv7sDyvz8rqAcqHNwNIgQJeAAAAAmQGeL3RDfwAAAwAgr7cA2/ZYHamn\n",
       "ZIDUWjpXe4AWH4VVX9cSZ2XqljqzVffqBNK1ILLHwC9zElrrWb3qGzrxmxtqPbSCQY5mC7/+4dVh\n",
       "7YsE8rYGKANXnwiqIzefFMKhxTcAF3/+uy03fVpJMMmF84Auzs8tmdcRquifVWFZqKRQf8QmG08O\n",
       "+/g+RkTG/4Cqiwj03/FAKoACbgAAAKQBnjFqQ38AAAMAILXwxp9bCpbWsbR2u/+tig1zHpoEoNcM\n",
       "LbDFOJVSU4U9mz+/wyAIeXV7zcYBXMVrLU2e3LxzIygjXzk4395YFxdRgf+fTsKYveaemQ4G9bRz\n",
       "ETPcjK3ZKstA/kFiZoT//VMfMPB9qEPYdLc3vOzDra2fDSd8mtJIx4lfOlQGfVjXTGjjCQL9JDGH\n",
       "Xkgg9EGgWysnCJAp85YFlQAAAV5BmjNJqEFsmUwII//+tSqAAAADAAN5t26AC/3EpN6lKhwHJA/0\n",
       "pWWiS1EnDGYBkz8JgxnnQ/KaZiRm1otR8LNNK0TsVN5yVX0WNlRkv6bpwXuDf8wIs26mr7jf7/lC\n",
       "4Ba3aZM8v8f+J+fG/udAgVkT+18RfIBmvPMOiuzwybh0zt/GHfk3K6Zp/8HmwcAaBgaFDevtiM/X\n",
       "prSfK/KwHmBlNRRyKz3GDIJZbw0Y+w63CPazCEMPbXM2XX/VDOaYG+jXIygDMXyhKNUu1n43f75p\n",
       "0P8AmMA8/SmvTboTwJfC7s010RiOIcc3y/pT+/7404Yd5wGL72egjJcgVM4YUPXb5VN0/RFKbn4Z\n",
       "G8DxBQJbCqgjelHDaa71+qctScyvNEwrCDoh1xk+38UWl5SpOMA/LT6y4veIVd1yu9mTi+WwfhqO\n",
       "ckXRvs2e5ihFZ8cFYd3OvBonYFlFrDo9T9AbMAAAAuNBmldJ4QpSZTAgj//+tSqAAAADAAADAoUo\n",
       "XHQAVktmkxhQGQbEFGhdUZGQ5WwTgeGUXiV8V27alUzomAJP9IcCuDZp0Hpoo8AapDUrtCrD4tRT\n",
       "tN3OJwj0kc8ewrRE784keHX8okPL1l0csdpUwPX9PWM/Redfga1XuVBXgjNKs0OQieGrS4bP6Nzu\n",
       "tHCm4A1xOpzOs+B70IvYgT9KgpydQ4or4KeUsMHQo7UNkmvKb8mAz4D6KiSXSD04qUSmswDi1Bjd\n",
       "IS+tEMIywkdyOkbv627FvvhSKqF3Q45vh1UEzEvXTJ1PItTQZWx9eNajET4M1OVeeaIJJtUW5Jje\n",
       "38U4qpsxYzrnf6GJGQvyIRdemnHTxArQ86OuE3JhukYWV2l/I1A4s+HE3qsbO8vGE2bjt1ALxOzJ\n",
       "CsVGytPOhLdwl5i/OsYZxF6fcc11LuNcy/7P9adbP9VMgAdTLdBMBU9KHOWuOBtEWdd8wglkJGoJ\n",
       "3PQbVDqg3Nc+rEPcOVRF0e9DxS1o96+pG18o8lmgLJIIYHTWgJj66q3hbrFxLyvCqvueNl7J2BnW\n",
       "hwpE75C8xx61rESpM3hrn/X0eXgRbNgA4HpFgkLn9ZCFw4X625OpxvE48R6pCBX2OY+kA+GK/CWy\n",
       "PtfoskyLBYvG5h9nuKNcSoHvQBe90kPyvYYD1Gos5JHiqVUSzK/AwdYZpL365vwq5BttQkDIJ9rY\n",
       "xiTBLi+sOn7UQGtaid9IKPWYNmmzn/fpHyo26YOfrqgJbomBxZ1ofeSxlpviq8DXUjwh7IRm0Oe5\n",
       "d/4AKWFFBL1cZ9UhtVVvnzocCNNGy27yi9c7Dh5Mp4dE1AUPyTq3xKJlJTqOTFd2Q+encf09oIUA\n",
       "A5xRW/LzwytActyef2nDZrrhMTQaiVd+UTPGerpyErB7ByB+CHz9icStdbNEg8qpAqYs1Q+0r+2L\n",
       "Z2Yj0QveThwhU4y+khkcBp85VJeYZPeNX0p13IIuAAAA30GedUU0TDv/AAALcxb2K4i3CruyU7kT\n",
       "wd/LMBzhTceMQ1Xj1JtmSG9foxVODtA9X2KLziFNDk+tj+IM78KEc4/hABZEUJfVUpco4tDlJFVA\n",
       "R8An5KbhKEBlunBSWHekVA7XDEGZvWTWCE7W1OcmdkfSmEDSjNP6/cS842/VrNA0K2KegeRb6iZz\n",
       "qmVkCpkul+yd9/vVKmLB1XL4pGTYCCNLyDYF4aLBbLLlE4rNlu1/ECXQ2O4jO96apgC4n42G+U/y\n",
       "K05F7Z3kEXCgCKQ3oiYQALS/QHUnwrPtk4P2DukAAABtAZ6UdEN/AAADACCvtwDb9lgdqadkPntv\n",
       "aj5X8SNTSiv9Cl2aB7r27qtZbXWAAbAQbm+64nmzKDVNqtmHWlgfAwfPPnOPgDJKT0cvHMqeWpDC\n",
       "MPJ1v0WpTDJ3W1r1E81dnYR+atEpo0cKMEAEbAAAAIcBnpZqQ38AAAMAILXwxp9bCpbWsbR2u/+t\n",
       "ielpunlEA7B/Q++SyftkIBCjRMv4AEYEai/+62WVrR/UInoLslmqoNV+tpfaB6OnFh8zlGi0hOCY\n",
       "r68rv4Av99UXHL0W1jlZA6oqLxXpWOmQDSUf74vsrqBsAiHY6wTYAEPcwNktu16+tRzIgQMAAAMK\n",
       "QZqbSahBaJlMCCH//qpVAAADAAAGq2l373MMAFdVkhAuyD9ne62o595q0GggwtFdIPQhHmHVhoFV\n",
       "DLfCoOAwrGyMdcCe2XUmQSQN+RFUf3wVaV81OvqhQTptnt9+5l6+f74ROOhh3tSxJU9n8IxtHNx7\n",
       "k8kuiqJvuHR5wAAB6NQB+LRjMHiEOhYTPL3CedIKciP51x3cqaqYcyt8l3GCtmug8QT88l2B8T1d\n",
       "giVyssMKnO1O3fN521ic/hc4GbR7/uKGcD/TM/wX+vAwRqi2ZLaJKQg3QGGl9h9ny+6/1XLmYbQq\n",
       "L8BfyQsg9+I0Z4QEzdx2UIQx5h7Br79IF36me9IqmigFnVbu1znKa2+Ey11AQLScvkIEZu6hSuK3\n",
       "6mqQGtTvyei6sdZClXZwEazTvU4klBABQMq+gDAMdiipKvsqECbq1ruz+QuNdm3Sdd6zS8LEEk2K\n",
       "llZb25P0H1dYyTXVwsx2jVCm3FZ7Gy/tZGSjCbBthqtIYK0R5od4cOgR6AGJS20XBRP+JJKm9kZ+\n",
       "mrr83Ua9Aokb8I+k4B9suUUCdw12C201wymPLNH9AJs/37bmGou5y+LhbAzPs2X0zHZZRD6+uKjF\n",
       "odyzdIcn2ap7oJDFPbBVPq3/A2E/GlYRku/bmquvKt/PLnd82Z2lY69J4R+Tj754OadNJQabKsV8\n",
       "jfxwVm0/8nX8NiOf4fpnguAtB3JRBI0GE9nPnygbtvAnzn/kACskvttKRQXmORjXdAoNziGbhT+I\n",
       "f843z1oe7xcQjpcgKtd0veHbD80ouGpJxG6CVd7RPArR04I31ySSOXTMQyiicCmSmJmXN9rlpSwz\n",
       "w0AmD9AB7un22/LI0fRaL8+vEass8ai8TLMoRpFJoLdr9UVE05BA2QqSKCvqeqkgAkflomkxJY52\n",
       "1ptpw/yq7OXwvP5urZdjgoRsysA9WEY+WT/3SrxUJfJtiJYtU5znevpiNjZJijYwuOcei4weNUgl\n",
       "uLQmAoAdDkhELhV6caXwMay6VeHsQJJtBA3y9w1ApqzMmMCHgQAAANNBnrlFESw7/wAAC3OF9iuM\n",
       "MQz6ZWAeJ4cr5p2/QrCOreWmJt8cWznktVSoam+320AE0WEri8SMA+7vI7Z0HDnTWaJ9lCZi6BpF\n",
       "5mehBFUu9E6yDrKQPIAzNgmopUYmUopuFky/SHmh0AbhOMBC/dE0Ws5WdrexWoucRur92dN7CnRJ\n",
       "9vHfo5BfvOFqZrZCTCRpJFaP2S1piwgIZcieJcBv5WpHoVEustEfXOH1RusrZ6IXAg2ijGH0oiPg\n",
       "6tB6XByutqFV1El2zzvKFm2d5MhZgAPSAAAAlQGe2HRDfwAAAwAgr7cA2/ZYHamnZD57b2o+V/Ej\n",
       "U0psUW1l9mSYBdRABxveZm0/Ab9IEeFzz+p82/U0aD4+Ihyfth5wn/fVjXe2nE3wdbXnD67vkMx6\n",
       "q+swSCWeZVXzhLvlE6Zx1ePm7tYMIT3E3R0Rq+loA+O02y6Pt5Q7/YRcJdCWIOe3AEjksKLTirmf\n",
       "Hp6wADFhAAAAyAGe2mpDfwAAAwAgtfDGn1sKltaxtHa7/62KBrldY4QycqPexCAC6rku64kDzGKS\n",
       "5Qvt+mERsKQwZAeYoy93kBWNmhATtMdvUpGV6z2OTs3n/Bpc0MkIyROt2aIxJ+ZDu9hWG+ZHLMWZ\n",
       "3+2XEuRgYhycEIrmlwaGLTQYpB17R8aBcZoWK4SggWKG9eeMTz1m2eLKWRpVxDmtr/jAczKWbe1i\n",
       "h2cpFaZvBqripWmiTMOR7ciHwoculoHF6A8KBMLKJA2IX+uDIDPgAAADgkGa30moQWyZTAgh//6q\n",
       "VQAAAwAIzy54ThsgioASqbiiE6mOcMQPrGvoptDuwPm/Eq4rbIEom2qawO+pIqWtxqrG8wBrq6pr\n",
       "iHje9CZfHlfP15J7s9WsctaRBEoQG45IQHp60GnNeCf2lvrWFnynuvy6BcWplrZylujribXdp/re\n",
       "bQFgYALIFVqc2+enjpF/K7sofVND5++NrEnDiFOUlOrY0AQWNGdD6hz7N8wakQOwmkjX5Plle1/e\n",
       "gFd5vOPYmLKb72RPbQKRyF1fatlFp57EYuUlryYn6il5VPwM8KrOmX+0UKE4Wh1gk7C5cj28nRL8\n",
       "IGPnAN2b06FJSefwYrgkVFDhnlKzXxlVZr4XmMnm2ud/oFz0Pzrgv5of8DrNueKOki2+XWf8I/5X\n",
       "9sPHGVlqqP2YEBHehob6LHDnRSAC+yksohCL0RPOgMRw/z7WjOR7/3CJ8qErPPvHL+JVCs+GVoHj\n",
       "gVUJAZp6Zvdk3ZKy8hE3F+GDPAG3UH8FnYa/cpZ44E3+hsUpHvVwG2Vv98+WGzt2Idc7vowz0GO6\n",
       "01XkLIY6Hm2vUhMZq+T7vyGB8I+lE4MeQpREDpUrdTcXrw76CPbGHJD9ida5fBkBkmrTYZUVELPE\n",
       "JI/ABnJVVCxjGVTwQUQL8VCCAm1QU6OMoJT9BjJmlWcC8Ds6lPST2IrQlglpKtIU6WE7YGW88Bgv\n",
       "NmVQMHG44NaD0BlUTXogiD3URfUd+uSWDcxUpoIU6VM9wMg2wMwCqCxigHgdioEFEuAOP9F8QcH6\n",
       "uanj+bcv0IFSaubkA1LjMPMho8kr4NrtBVTwZpFQ2X6a1UsJlPdSjUIP4NLAym+E+ORN/u1pXDK6\n",
       "ol5DhNlkpsNDdOAK9L3vRaS9DhYrtkuNxwrMhHTRXTV6ni6t9K48/WYYeG5Y+vazH+8zkF8E4K9X\n",
       "O9uCMJugWckIqAuTJvd3XGLRm5w2LmV/S0LLfHbLSuXYMjoTHX0NJ8f3aj6FOvFWtcpdLU+oY8+4\n",
       "RNfDwx84qdbDUy8I0plag7ok2kmeI8QNNC7PgG72Yewl72khoDd16QW9LRZTqFTJ9FUEnaJHLsAp\n",
       "Yy5MCfhflgQ2ZJaCQO2QDVv2/FPOHyvTvH9GniewD69njt6FL9xgcv7phsBxxWKLEeLp4yXAneZb\n",
       "BIVXiJ5scTcb1f5nj0gvmsvDpv4NxCFX8NGECHkAAADsQZ79RRUsO/8AAAtzhfYrjDEM/lcOZGMA\n",
       "sCkAOPdAL8U+5DiY64nSWVYlGAbaqoYxoPi7eWjP3E53dmV3n+8BzqQyPyY5N6oLiH1raQwBnWjf\n",
       "iZ7yyiEutNQxlOB6kRYb0YiVoPH/RxDeVFRmIDS7nnLorhe8vKEb+Xly2oDcaMiEb2ujxQAmjNjI\n",
       "DWFhLBXx/VcjQFg2AnSWoTvjicGjurAXrorVAljwJxBVcaZ80wVRbbPQfjmLdTx0cfMz6DP5U8Ps\n",
       "3sefhe397/7PCT74me12A6FRxb8omkGUOa9sa+bPVg/8ZAmthswAOmEAAAD3AZ8cdEN/AAADACCv\n",
       "twDb9lg3Fc5pGPfk+v6d7WVSaAD4pZrxvEZxBBZYpLDUeQcvhGy7EVGphAPQ0d7YsC8Dxtgpc3P7\n",
       "MKDELFVDY3AvCLR8gXL4v8PRN1t6RfXgmJ/h7ik/Hd7MPPMaZNk3NGJpfRR8/05o5C/2ymCXsaJ0\n",
       "GTkX6hBcKRQ4YF+b62UWyJL3at+Vxga+DoXYh+wqynw8fcE2nm3bQn6IdMa30pUZxWPccXfTi4VC\n",
       "npremSKuC8qgXLk9c3Cb7ztybaxBFIdqtbCu7wFNWNfot94+YfjIIoCUIo+XhinvMfq2tRonZugp\n",
       "sSGAXXABUwAAAN0Bnx5qQ38AAAMAILXwxqMVdNgBYEewJgK7CUEoM3l7kdPNe1ktPKMHvtgf3Uig\n",
       "hwYrj2TS58VvvsxOz/G1FIQcu/BLPVqeC9l1PoPOtKbxfsBAWn4j2lHMT6Fk8qY2bZ+/8LyOL2ez\n",
       "heeitT06+/uHOl+rjEj7Fp7Gcit5bWhWnMjGaM8Ax9yXdMz1X8cXn1q+JSnReBI/ncy2SqYN3s6x\n",
       "ZvjSeK8OgxH4b62iP0Y6zRZUBLFJCQMok/AH5V4FwzxEdtNX9KF/9oiWJy9ObrnsKgJavjgDZGUB\n",
       "16QOmAAAAjhBmwNJqEFsmUwIb//+p4QAAAMBJaPGbqTrgBb1ItQIm0hpyg0WEQnzlawuQ5pK7smX\n",
       "fAMNZ/qi6KPv09nV/834L0AYt+Ap1sTZoObaV3NcO9WiwP8oIaf2A1pE9Q5Uyi6eUc3MgilizExn\n",
       "2WtuXiFdwiW+yy6Cm9I7V2/quALJNEYa+J6YBI88LNwVktzzzLmel2ZyxpNaSE/9YvOk97p6zO8S\n",
       "LdQHOeZRmYPkPza/cGrEdAWbLxDaa0yWayNlVj6pI3gW4ugKu03iJMlXNAt6nYXfte66G7XtjbjH\n",
       "asGozwT88NLuMBNAnpJTLpfjxiFv902vZ61XGjyMeOJvtaaClTsu2pZBySdPlXXSnty9mIJpbs72\n",
       "WlQ6OlpV4D9cprYLmBCP5zJSoxmFriNOhT+xH9R2yiT+CuyjXoBg0iYxFasdk5iyDoqqfeTlu+JQ\n",
       "7AHkH9xUgFcMRh2oL4gdCWjBtqXMKoHriUgkT7KChHGq15pKbo8ENGFZLoNxZIGrziWoExY9smov\n",
       "O9/xFI6aRIrTqxN6OUtLDeZahCFYNLGMVqPohQy8aaEkS/tR+2fJ0XAZl47Sd+bHHOeySe4IgPSC\n",
       "KU6oLHeRETtW99yToY7rjq945ToZwLHtNzH9SNNevNr6Y5u0tzu5plofDSbdn+f0ZjFElmtxN512\n",
       "MZ5K2LRrt6InRqgHSyZeuFyCA+pde4yfuOdVcXyBWfKpTRqzsXjkcFjbhfOHNK8zEm9JV0SqBmZM\n",
       "lXdkAAMXAAAA9kGfIUUVLDv/AAALc4X2iC+cwvrISaABNqMCLuMRPxTqXtnQLMSrJor4J/qQC9CY\n",
       "rdI7KzcR3D5fagdx12ndzFZOFY3WQYRa6ygppf5/v0md36IuaoxZG4Z1lSqHo1AnSC1FZlmQ5nq4\n",
       "/5eeaefBKVUuot9JjQTZMTsEGE1VCgAA2ROnLeoUieCXGnsiOChJ2SigLLqGwRpCGvksH5sLtEIx\n",
       "wVhLaCAHcb3JgtmdN+7ZwU3sSaSED5Mew3wv8wIm+8A+snYfCrDA5Q8QjSge8O6/xL5+ZU2XU/49\n",
       "V6F/K443/zF0JqsmDxW2P+tUmvVnNDeEc3gwIAAAAOoBn0B0Q38AAAMAaYUzBy0EgA0nUc8iR4E+\n",
       "qCWVmXxKeC5OGIHOZ6v2vIw4JnlwN0BzTkACfZKjEylFNwsmX6hhaiWdIdPw8iX3rJkFEm94lMLo\n",
       "Gk9Omy/hC5N8vYIobNF7IVGfJ/CeXZ9TCH7cv7nbJZ5jJUWY+HOfYl1WOejsuQr34DQNJ4oA03YO\n",
       "hLB4jp2t0fbVzMx0Y2uLBYsr6jRNnJlkTVvn28uEWswGtMsfVfz5rwe55P2E3H4Jsc9MwlB+eTcL\n",
       "xjo5fUs7bwzAa4bnTQGX1j5fQGxV0YLNbQGOVrtJLZAhAywAPmEAAACmAZ9CakN/AAADAGXSaLYA\n",
       "EQe8zLGbk3TMSx6NvoVxqq+0zFosOLv5AWnN1Q8RhJx1FNIreakzmSRdTTt2s4SIl93wNiX8dET5\n",
       "Y/ZtzW6EsWN01gvRNKPhoJi9nVhcmYD+2L8KLCP+WzWjdGVb6JIy+aFQcykSzZI9TdbfgrbKnaNB\n",
       "vCbcMnP+ni7oFSFhWY2K0CnekKeU8qHFrFALOu5tQIQCV2gXEAAAB5htb292AAAAbG12aGQAAAAA\n",
       "AAAAAAAAAAAAAAPoAAAnEAABAAABAAAAAAAAAAAAAAAAAQAAAAAAAAAAAAAAAAAAAAEAAAAAAAAA\n",
       "AAAAAAAAAEAAAAAAAAAAAAAAAAAAAAAAAAAAAAAAAAAAAAAAAAACAAAGwnRyYWsAAABcdGtoZAAA\n",
       "AAMAAAAAAAAAAAAAAAEAAAAAAAAnEAAAAAAAAAAAAAAAAAAAAAAAAQAAAAAAAAAAAAAAAAAAAAEA\n",
       "AAAAAAAAAAAAAAAAAEAAAAADhAAAAcIAAAAAACRlZHRzAAAAHGVsc3QAAAAAAAAAAQAAJxAAAAgA\n",
       "AAEAAAAABjptZGlhAAAAIG1kaGQAAAAAAAAAAAAAAAAAACgAAAGQAFXEAAAAAAAtaGRscgAAAAAA\n",
       "AAAAdmlkZQAAAAAAAAAAAAAAAFZpZGVvSGFuZGxlcgAAAAXlbWluZgAAABR2bWhkAAAAAQAAAAAA\n",
       "AAAAAAAAJGRpbmYAAAAcZHJlZgAAAAAAAAABAAAADHVybCAAAAABAAAFpXN0YmwAAAC1c3RzZAAA\n",
       "AAAAAAABAAAApWF2YzEAAAAAAAAAAQAAAAAAAAAAAAAAAAAAAAADhAHCAEgAAABIAAAAAAAAAAEA\n",
       "AAAAAAAAAAAAAAAAAAAAAAAAAAAAAAAAAAAAAAAAAAAY//8AAAAzYXZjQwFkAB//4QAaZ2QAH6zZ\n",
       "QOQ754iEAAADAAQAAAMAUDxgxlgBAAZo6+PLIsAAAAAcdXVpZGtoQPJfJE/FujmlG88DI/MAAAAA\n",
       "AAAAGHN0dHMAAAAAAAAAAQAAAGQAAAQAAAAAFHN0c3MAAAAAAAAAAQAAAAEAAALoY3R0cwAAAAAA\n",
       "AABbAAAAAQAACAAAAAABAAAUAAAAAAEAAAgAAAAAAQAAAAAAAAABAAAEAAAAAAIAAAgAAAAAAQAA\n",
       "FAAAAAABAAAIAAAAAAEAAAAAAAAAAQAABAAAAAABAAAUAAAAAAEAAAgAAAAAAQAAAAAAAAABAAAE\n",
       "AAAAAAEAABQAAAAAAQAACAAAAAABAAAAAAAAAAEAAAQAAAAAAwAACAAAAAABAAAUAAAAAAEAAAgA\n",
       "AAAAAQAAAAAAAAABAAAEAAAAAAEAABQAAAAAAQAACAAAAAABAAAAAAAAAAEAAAQAAAAAAQAAFAAA\n",
       "AAABAAAIAAAAAAEAAAAAAAAAAQAABAAAAAABAAAIAAAAAAEAABQAAAAAAQAACAAAAAABAAAAAAAA\n",
       "AAEAAAQAAAAAAQAAFAAAAAABAAAIAAAAAAEAAAAAAAAAAQAABAAAAAABAAAUAAAAAAEAAAgAAAAA\n",
       "AQAAAAAAAAABAAAEAAAAAAQAAAgAAAAAAQAAFAAAAAABAAAIAAAAAAEAAAAAAAAAAQAABAAAAAAB\n",
       "AAAUAAAAAAEAAAgAAAAAAQAAAAAAAAABAAAEAAAAAAEAABQAAAAAAQAACAAAAAABAAAAAAAAAAEA\n",
       "AAQAAAAAAQAAFAAAAAABAAAIAAAAAAEAAAAAAAAAAQAABAAAAAAEAAAIAAAAAAEAABQAAAAAAQAA\n",
       "CAAAAAABAAAAAAAAAAEAAAQAAAAAAQAAFAAAAAABAAAIAAAAAAEAAAAAAAAAAQAABAAAAAABAAAU\n",
       "AAAAAAEAAAgAAAAAAQAAAAAAAAABAAAEAAAAAAEAAAgAAAAAAQAAFAAAAAABAAAIAAAAAAEAAAAA\n",
       "AAAAAQAABAAAAAABAAAUAAAAAAEAAAgAAAAAAQAAAAAAAAABAAAEAAAAAAEAABQAAAAAAQAACAAA\n",
       "AAABAAAAAAAAAAEAAAQAAAAAAQAAFAAAAAABAAAIAAAAAAEAAAAAAAAAAQAABAAAAAAcc3RzYwAA\n",
       "AAAAAAABAAAAAQAAAGQAAAABAAABpHN0c3oAAAAAAAAAAAAAAGQAADPUAAAEhgAAAOQAAACMAAAA\n",
       "bgAAAYoAAAGGAAADPwAAAHgAAABjAAAAVgAABFAAAADhAAAAvQAAAHEAAAQGAAAA1wAAAH0AAABx\n",
       "AAABawAAAO4AAAG+AAAD8AAAAPAAAABvAAAAfAAABDMAAADsAAAAeQAAALcAAAPaAAAAoAAAAIIA\n",
       "AACAAAAB1QAAA7kAAADnAAAAlQAAAMoAAARmAAAA9gAAAHUAAAClAAAEbQAAANMAAADqAAAA1gAA\n",
       "AbsAAAFiAAABIwAAARYAAAO1AAAArwAAAHgAAACKAAAEHQAAANYAAADFAAAAzgAABPEAAADwAAAA\n",
       "2gAAANwAAARCAAAA8gAAAPoAAACFAAABWwAAASQAAAD9AAAA8gAAA/QAAAEIAAAAgAAAAO0AAAR5\n",
       "AAAA/QAAAMYAAAESAAAECQAAANYAAACdAAAAqAAAAWIAAALnAAAA4wAAAHEAAACLAAADDgAAANcA\n",
       "AACZAAAAzAAAA4YAAADwAAAA+wAAAOEAAAI8AAAA+gAAAO4AAACqAAAAFHN0Y28AAAAAAAAAAQAA\n",
       "ACwAAABidWR0YQAAAFptZXRhAAAAAAAAACFoZGxyAAAAAAAAAABtZGlyYXBwbAAAAAAAAAAAAAAA\n",
       "AC1pbHN0AAAAJal0b28AAAAdZGF0YQAAAAEAAAAATGF2ZjU3LjQxLjEwMA==\n",
       "\">\n",
       "  Your browser does not support the video tag.\n",
       "</video>"
      ],
      "text/plain": [
       "<IPython.core.display.HTML object>"
      ]
     },
     "execution_count": 7,
     "metadata": {},
     "output_type": "execute_result"
    }
   ],
   "source": [
    "animate_2 = display.create_animation(Anim2.animate, temp = True)\n",
    "display.display_animation(animate_2)"
   ]
  },
  {
   "cell_type": "markdown",
   "metadata": {},
   "source": [
    "For the right hand graph, blue still represents the z displacement of the particle but red now represents the y displacement. At small particle heights you should see two sinusoids, pi/4 out of phase, as expected for circular motion.\n",
    "\n",
    "However at larger distances (e.g. try a \"particle height\" of ~ 0.65) this behaviour is lost and the orbit is no longer closed c.f. Bertrand's theorem. Turn on the tracer to see the precession of the semi-major axis in the left hand plot.\n",
    "\n",
    "By looking at the electric field on axis it is clear in which regions the SHM approx is applicable.\n",
    "Using the acceleration function and the SHM frequency calculation, a graphical comparison can be made via the E_field function."
   ]
  },
  {
   "cell_type": "code",
   "execution_count": 6,
   "metadata": {
    "collapsed": false
   },
   "outputs": [
    {
     "data": {
      "image/png": "[encoded data removed]",
      "text/plain": [
       "<matplotlib.figure.Figure at 0x7f677109ce10>"
      ]
     },
     "metadata": {},
     "output_type": "display_data"
    }
   ],
   "source": [
    "# Distance over which to plot in units of ring_r\n",
    "z_lim = 4.0\n",
    "# Step size used in plotting\n",
    "z_step = 0.05\n",
    "\n",
    "%matplotlib inline\n",
    "\n",
    "cm.E_field(z_lim,z_step,q,ring_r)"
   ]
  },
  {
   "cell_type": "code",
   "execution_count": null,
   "metadata": {
    "collapsed": true
   },
   "outputs": [],
   "source": []
  }
 ],
 "metadata": {
  "kernelspec": {
   "display_name": "Python 3",
   "language": "python",
   "name": "python3"
  },
  "language_info": {
   "codemirror_mode": {
    "name": "ipython",
    "version": 3
   },
   "file_extension": ".py",
   "mimetype": "text/x-python",
   "name": "python",
   "nbconvert_exporter": "python",
   "pygments_lexer": "ipython3",
   "version": "3.5.2"
  },
  "widgets": {
   "state": {
    "00099bf6fd7b493891501461a3b66ab7": {
     "views": []
    },
    "00db406ae56047529c34f050d561c345": {
     "views": []
    },
    "0182e836ecac443697436ab19d7dfe9c": {
     "views": []
    },
    "023ba0835e9b40dc8c4353693167a266": {
     "views": [
      {
       "cell_index": 10
      }
     ]
    },
    "02b218d7e0c44029bf3b28efbeea524d": {
     "views": []
    },
    "032c671fb66d4d8eacec86f668d618f7": {
     "views": []
    },
    "033488931a504f9492d815e877bf6f0d": {
     "views": []
    },
    "042e9b33f7654f89bbe0de0b287b7a39": {
     "views": []
    },
    "04b651b9423240e691a47c72c402f094": {
     "views": [
      {
       "cell_index": 12
      }
     ]
    },
    "04c06ae607144fff8365cc12fd4170f3": {
     "views": []
    },
    "05fe333743eb4e55abc5e6fd754922e7": {
     "views": []
    },
    "06107e42156b4c339546eaeac3af2afd": {
     "views": []
    },
    "06a0db03a0014bd7b79a6aa1b082b4dd": {
     "views": []
    },
    "0715f2b36d6147c798e97b9c6aa3ca6d": {
     "views": []
    },
    "07dcc555656743d4bf2e9943703fb66a": {
     "views": [
      {
       "cell_index": 12
      }
     ]
    },
    "0878bb8950154709958558c5fd96707c": {
     "views": []
    },
    "08b1e2844938406fa252e4d6134722b2": {
     "views": []
    },
    "08e510dbd36a4952b696f0e656b09bab": {
     "views": []
    },
    "0945f003519d4253ab35f54f61faf33b": {
     "views": []
    },
    "0ab9dedf204e43f8b5dc9ef8fd8f0418": {
     "views": [
      {
       "cell_index": 13
      }
     ]
    },
    "0b363d2908564dbbb7d31bc278f943db": {
     "views": []
    },
    "0b4ff869981d4cda970383f02c7bab04": {
     "views": []
    },
    "0bd3d481029a4a3d8e8377e188831ebf": {
     "views": []
    },
    "0bfe5e6113254adaa591d88aa1352fb2": {
     "views": []
    },
    "0c1dec481d63473f9f5dd1f0acf921fd": {
     "views": []
    },
    "0ce43ef5a98148a4b16a7155573dde45": {
     "views": []
    },
    "0d44a6dad11c4e42a82d31e9b01edde6": {
     "views": [
      {
       "cell_index": 12
      }
     ]
    },
    "0d6fda063dd64cb885ef4e79e9a70014": {
     "views": []
    },
    "0da68909d08d41d6b4240759c8b0b7f1": {
     "views": []
    },
    "0dd1e8a857e947489decc29df2652ff6": {
     "views": []
    },
    "0ddc150c3b1a4ebe8379282d8d44110b": {
     "views": []
    },
    "0f3224595ef641c9b61565df3025a838": {
     "views": []
    },
    "0f68b344106d415bbc515eb4d6fb5b0f": {
     "views": []
    },
    "0f7333c4e50b42eb9f29711c29b8b294": {
     "views": []
    },
    "0f8c861670044687b7e0e5e95e44995b": {
     "views": []
    },
    "0fd507ef00cc44da987c41e677ac25d1": {
     "views": [
      {
       "cell_index": 13
      }
     ]
    },
    "0fea1cb089004032aa6164787eaccadb": {
     "views": []
    },
    "10169b9e588b45698bfaf5d144b15832": {
     "views": []
    },
    "10382950cbf44e62b267ec218aed3d5a": {
     "views": []
    },
    "10ca62ea5ce1414d917869a60760a126": {
     "views": [
      {
       "cell_index": 10
      }
     ]
    },
    "10e6dc3409e84595b5a01465881568cd": {
     "views": []
    },
    "11cdbd555dee46588819956bfa2be89e": {
     "views": [
      {
       "cell_index": 15
      }
     ]
    },
    "11fe43a727ca46c0bb72207cd4d01c00": {
     "views": []
    },
    "121fbaf326bd498d94e013e735be0695": {
     "views": []
    },
    "128cc887b0d847abbd4cbcec7beb63e9": {
     "views": [
      {
       "cell_index": 12
      }
     ]
    },
    "13f365b693924b9e9a4354226ae429bf": {
     "views": []
    },
    "14510ea9231c44a09756b0f3344ead4e": {
     "views": []
    },
    "15243d505716415b8230ec85043bfddc": {
     "views": [
      {
       "cell_index": 8
      }
     ]
    },
    "156ea4af895148b399c2c6a1efaf8463": {
     "views": []
    },
    "1637032963eb40d9bc441d908725538a": {
     "views": []
    },
    "17668c89e7de4e65980e32f9be61d9f4": {
     "views": []
    },
    "18c1ce141d574865a0571affe80f05dc": {
     "views": []
    },
    "18fa765cb69f4e7f9a5dcc5410674659": {
     "views": []
    },
    "193f0c3618724afca1b8b1afac747b0d": {
     "views": [
      {
       "cell_index": 12
      }
     ]
    },
    "19df1cf9fd9643a8bc72518a2696f106": {
     "views": []
    },
    "1c3a2de0712b4c429d5feb5a64d3caee": {
     "views": []
    },
    "1d187ecccd514a81b09b321e9cecb269": {
     "views": []
    },
    "1d937782462d4d5bb9f38c39abaa99c4": {
     "views": []
    },
    "1ea547e6a7e34f3daa2388649f8ba701": {
     "views": []
    },
    "1ed9388f63b4426f874c21e0a124ec6d": {
     "views": [
      {
       "cell_index": 11
      }
     ]
    },
    "1ef321404c3d4faebb758e3a6df00cb5": {
     "views": []
    },
    "1f56b9237e8943bb850cc6cadaa70642": {
     "views": []
    },
    "1fe3de0268ee477d9d503ef0d48b7684": {
     "views": []
    },
    "1fef6fd1a9ec4d3d8894f6056a1d1958": {
     "views": []
    },
    "1ffc605db910433ea23895c0143a138d": {
     "views": []
    },
    "1ffd675d9bb84463b7cee286567de9e2": {
     "views": []
    },
    "209a526ae11a4f26929aaba9db63c789": {
     "views": []
    },
    "20f45194470048c29029a08b1d4f7275": {
     "views": [
      {
       "cell_index": 12
      }
     ]
    },
    "21647e0ae8274a3ba5ae0ab7d58d0ba7": {
     "views": []
    },
    "219ac91c81794aa2a1611d04a452bb8a": {
     "views": []
    },
    "21dbbb20311b4742b8d02f6846550533": {
     "views": []
    },
    "22a8a3812f864bf6ae09148a99c569c3": {
     "views": []
    },
    "230104bb434840909eb43497be4feb41": {
     "views": [
      {
       "cell_index": 15
      }
     ]
    },
    "23626869923243beb9d0135ae8ad0a26": {
     "views": []
    },
    "2413488563fe4b0b90479aab2a09a612": {
     "views": [
      {
       "cell_index": 15
      }
     ]
    },
    "241719d1f11e42de805fca4bc1283956": {
     "views": [
      {
       "cell_index": 12
      }
     ]
    },
    "24519fc1ee7f451b998960d302879b9f": {
     "views": []
    },
    "245c5e659f18493cb6d131eee760d1a5": {
     "views": []
    },
    "25e058279aaa4af6b6f532f889dd689c": {
     "views": []
    },
    "25e2a3b59bbd46e8b84875131e7d8790": {
     "views": []
    },
    "268282ad51e14ec0b0dd1fe3e7ea374c": {
     "views": [
      {
       "cell_index": 8
      }
     ]
    },
    "27021598867c424ba00d39c4bea1e56c": {
     "views": []
    },
    "281bcd08cf014e55a4fc79922ccb0128": {
     "views": []
    },
    "281e141fef964eadb9f7892427121300": {
     "views": []
    },
    "285e8bf22cf5447eb0a0e74565ef8471": {
     "views": []
    },
    "2891b728ac454efb959b3e001df3e65a": {
     "views": []
    },
    "294c5156921346ddb161e6ee3ea1a6e6": {
     "views": []
    },
    "2950a5fc3fb54ce78e8f9e124e85dcf9": {
     "views": []
    },
    "296ef542dc3443caaffe61cfc58f7d5c": {
     "views": [
      {
       "cell_index": 15
      }
     ]
    },
    "29881bea4f3148b0a4034d0af7515303": {
     "views": []
    },
    "29f6ff1c0ad6497abaf2c15bdbbf0525": {
     "views": []
    },
    "2a0bfb6371a74fe897085a7c968bc4a0": {
     "views": []
    },
    "2ac4fba9b1714dd7b452c289aab78acd": {
     "views": [
      {
       "cell_index": 10
      }
     ]
    },
    "2bb56ae9b0a340f18637d407024ef65d": {
     "views": [
      {
       "cell_index": 15
      }
     ]
    },
    "2cc31a96b49548b8a6e4132fac39fba6": {
     "views": [
      {
       "cell_index": 15
      }
     ]
    },
    "2d28e14c3d64433ab5c736d79c21a37a": {
     "views": []
    },
    "2d59fc13b8be4f32963caef05bee213a": {
     "views": []
    },
    "2f03867b4d334bad99c61a1a46429e03": {
     "views": []
    },
    "2f76948ebbab4865ad39d048147ef3c2": {
     "views": []
    },
    "2f88ccf8015a4841a4420c3d98954db0": {
     "views": []
    },
    "3014178bce254e03a1c50b46e5784b52": {
     "views": [
      {
       "cell_index": 10
      }
     ]
    },
    "302e1abc48c74a2db769ebc72a327db4": {
     "views": []
    },
    "3068a061af014721beeb8cd97fffd995": {
     "views": []
    },
    "307139c630854707a3629003f2a95156": {
     "views": []
    },
    "314fd167e0254497b46c8b2e7d3d4119": {
     "views": [
      {
       "cell_index": 10
      }
     ]
    },
    "315cf1dc954e4f87837cadfce8444998": {
     "views": []
    },
    "319cc0bcb30d4fb98df894f4baa72cce": {
     "views": []
    },
    "31c646dbbbb1497a8b537688006e49cf": {
     "views": []
    },
    "32f9406226554f16b8b9b2d299168210": {
     "views": []
    },
    "33161647bb764a00bc195bf6ed9d1810": {
     "views": []
    },
    "3318b68c230548259a7cf074b99bb6d6": {
     "views": []
    },
    "3360b7edd4c343d9a229c79dd9e2b82e": {
     "views": []
    },
    "342748187e5841cc9edf673f2c778564": {
     "views": [
      {
       "cell_index": 8
      }
     ]
    },
    "3475c69ce4a84ec7ad23aa3103bea487": {
     "views": []
    },
    "350c5a87d7b24a1da4d46a015518d488": {
     "views": []
    },
    "352db39bd1c4458f83edde103bf03602": {
     "views": []
    },
    "35352107efd64580b747a87d673c36b6": {
     "views": [
      {
       "cell_index": 13
      }
     ]
    },
    "354f290ee97647d7b81ae6a335b0dc11": {
     "views": []
    },
    "3591666222d446b0959655b6930edf8c": {
     "views": []
    },
    "36c9c349693f4cc9a765f42d44d53281": {
     "views": []
    },
    "37a420be9fb54868bbdfc0333995977c": {
     "views": []
    },
    "38ed23f59ace475389c1f2ec8b3354f4": {
     "views": []
    },
    "3adfcd63c7c2401c896fa5ee0edbbce3": {
     "views": [
      {
       "cell_index": 11
      }
     ]
    },
    "3b27e90a3fd64bdfa74599726785ac63": {
     "views": []
    },
    "3baf5c8c4e3f44e790b7451fb27d413e": {
     "views": []
    },
    "3be98465d3164fe79356fdb5150dbfef": {
     "views": []
    },
    "3c0872c407d74c2990192f6986f81acd": {
     "views": []
    },
    "3c7bbc9f69934fa295c7df408b787285": {
     "views": []
    },
    "3d5b0f2b74c842ad9b296f293b61d6eb": {
     "views": []
    },
    "3e0203c2a5c041df80ab46aadcac04eb": {
     "views": []
    },
    "3f700621fb2a413494e2728678d294a1": {
     "views": []
    },
    "3f72c0602c474ceab2f999d200300231": {
     "views": [
      {
       "cell_index": 8
      }
     ]
    },
    "410ab02a4f1c4424b0af490ad2f0be09": {
     "views": []
    },
    "41b9b47b689a4c4b8f370f497b25ea46": {
     "views": []
    },
    "425ca27c819343909d0ba4e39f089d1f": {
     "views": []
    },
    "42c2cbb79f50409a9ace71aa8a5eea99": {
     "views": []
    },
    "438059f9a49146ebacefbe30bd3ca864": {
     "views": []
    },
    "43c4e3c2a9e344afa07224289d07afcd": {
     "views": []
    },
    "43d92d3db27649b4aab4ba3e1606d51e": {
     "views": []
    },
    "440dcba6d555402a9b37761f4655b20c": {
     "views": []
    },
    "441d477fb8164fb2963ce9a1b41b26ca": {
     "views": []
    },
    "44af83d92683448e9a0e7c51fa2b757a": {
     "views": []
    },
    "450d7be0d55f4d38a37fb93c36241126": {
     "views": []
    },
    "4597ab1661c340cc9f15bc1e1e748739": {
     "views": []
    },
    "466c9263edc04f07b5250091125bcf8d": {
     "views": []
    },
    "46a696283174462c869868d5a94c92b5": {
     "views": []
    },
    "46eab080237b4dbf89e89defd059f321": {
     "views": [
      {
       "cell_index": 12
      }
     ]
    },
    "470b1acf4187452ca923487234e30971": {
     "views": []
    },
    "47440b4cbda5477c9c5f2450b7766fe6": {
     "views": [
      {
       "cell_index": 15
      }
     ]
    },
    "476ff91a492d4f0c930a814a24a65875": {
     "views": []
    },
    "477721c5b30e4afdad3b5493424ea7c9": {
     "views": []
    },
    "47b74c8d051043698f856dcb68d2c815": {
     "views": []
    },
    "47d488edf2714cb681e13b46e8e3678c": {
     "views": []
    },
    "484658153d2e4e1f8bcc2670db49c749": {
     "views": []
    },
    "486450abe14c40c5aa0a35e30e07bd30": {
     "views": []
    },
    "48a737e23fdc4bf1b7d1abd502af668e": {
     "views": []
    },
    "4a02de57b6924e7ea992bee144ec6b80": {
     "views": []
    },
    "4aaa08bd43b14e3b9755a35fcec593a1": {
     "views": [
      {
       "cell_index": 12
      }
     ]
    },
    "4b655bd02bd24cc986a688569d1f7ea1": {
     "views": []
    },
    "4b87ada48be14123875c3a28a8235005": {
     "views": []
    },
    "4bb6703e90f94f2fa48e65b702756c13": {
     "views": []
    },
    "4bc475e623da41b4819c6057e24d2039": {
     "views": []
    },
    "4cf2e17eebf840ee89da5314f084baa0": {
     "views": []
    },
    "4d0d14dccea24cec95cffadc3195d21f": {
     "views": []
    },
    "4d55c6e5813248f39e39b83cd4943b6c": {
     "views": []
    },
    "4d75d2cfaa0841849443bc041ed08f9e": {
     "views": [
      {
       "cell_index": 13
      }
     ]
    },
    "4ee2877707304d13b00a4b50eef72d55": {
     "views": [
      {
       "cell_index": 12
      }
     ]
    },
    "4f5238546cdc4341b456f79e85ff7f92": {
     "views": []
    },
    "4f7d0cb38b6a4eea8c145ede5551f287": {
     "views": []
    },
    "4fba61ddf3af47c1804c27de6914d15a": {
     "views": []
    },
    "5060b0b0948246a89671f52fec780cde": {
     "views": [
      {
       "cell_index": 12
      }
     ]
    },
    "5060dfd49d49484695eb6321267866d2": {
     "views": []
    },
    "50696c484af244b28bd8b70b973ad726": {
     "views": []
    },
    "509a6a4d0ce54bb5b5eea2811b31f144": {
     "views": []
    },
    "50a8be244d284b66b47442d89952b7f8": {
     "views": [
      {
       "cell_index": 15
      }
     ]
    },
    "51392cfe9f1d4f56a44fd357ffba98b5": {
     "views": []
    },
    "514ec65397bf4b8eb82d8fdba2f6bb13": {
     "views": [
      {
       "cell_index": 13
      }
     ]
    },
    "515b7952f85040a2b3e2b469a6e27d41": {
     "views": []
    },
    "516b37304fe34560a8258404c2a52ae6": {
     "views": []
    },
    "51825da5b59a4a84a8f16df901e3286d": {
     "views": []
    },
    "51a817e1ab84401c89ad098256c1e58f": {
     "views": [
      {
       "cell_index": 12
      }
     ]
    },
    "51cb069edcbd439a88d54623f43fe784": {
     "views": []
    },
    "5219c5224c874d808326e0b635e37ca5": {
     "views": [
      {
       "cell_index": 11
      }
     ]
    },
    "5270e3833c1547e7b383e5c700087c7f": {
     "views": []
    },
    "53e8097cc9a24829b27a41f2f1a7c4fd": {
     "views": []
    },
    "543843df74d54048a82d29c6a9533991": {
     "views": []
    },
    "54581d8a04534796a07e0283bb297820": {
     "views": []
    },
    "55ad7df7a8c24e62bbdde6d2f6609837": {
     "views": []
    },
    "5678ac0ef7314fa4ac606d500db8dc83": {
     "views": []
    },
    "573972c06f804b8ebce427adf6bc456b": {
     "views": []
    },
    "5809d72505c04491b7f2a4f72397d746": {
     "views": []
    },
    "583fa4a1fdff43aeb0f95857074da852": {
     "views": [
      {
       "cell_index": 8
      }
     ]
    },
    "58a0979e58bc40eb85b0e68c423b9c50": {
     "views": []
    },
    "5901c831ef864884b0d845a61d36bbf0": {
     "views": [
      {
       "cell_index": 12
      }
     ]
    },
    "590e88e9b0b6432696c922b2f1ae41a6": {
     "views": []
    },
    "5912e3878f8c4804bf702ef59d1ebe6f": {
     "views": [
      {
       "cell_index": 11
      }
     ]
    },
    "59379876cf6e4643b3502b9cd971c431": {
     "views": []
    },
    "594807ab38ac40fa8fb1e53a1d667ff2": {
     "views": []
    },
    "595a0eed5659484ba56afffcd6609c66": {
     "views": []
    },
    "59618f225ceb4451b79a8291f07f8298": {
     "views": []
    },
    "5972ba256a40411eac6cc000467539fe": {
     "views": []
    },
    "598c5ea7f2264d6991443910773ebecb": {
     "views": [
      {
       "cell_index": 8
      }
     ]
    },
    "598fb84b864b49d28b3e4e3ea8f8b5a6": {
     "views": []
    },
    "59c19699011c489e93271a25d9476456": {
     "views": []
    },
    "5a56d75bf2a04012aaedf653baa40400": {
     "views": []
    },
    "5a7ef4ee5683490f8bd24879307720a6": {
     "views": [
      {
       "cell_index": 11
      }
     ]
    },
    "5a8fecf81bfb4db68853f28c4a95dad9": {
     "views": []
    },
    "5a9478b247524e279ddf0a26f1c807b9": {
     "views": []
    },
    "5b3eb6f5705445ec99511a0bc1338a86": {
     "views": []
    },
    "5b45ea2366004b17b86cfc2ebd7c408f": {
     "views": []
    },
    "5b713c7417514b2aab49dc553cb30990": {
     "views": []
    },
    "5c2b2fd7a69443a2ad08f090296b7607": {
     "views": []
    },
    "5c3275cc48d44a4da10fb29d34bf4f59": {
     "views": []
    },
    "5c80594332484d2f9b113b983f2f0d3b": {
     "views": []
    },
    "5cbdbffd8ad24fdca6a0c699863421ef": {
     "views": [
      {
       "cell_index": 15
      }
     ]
    },
    "5ce4d0e149fc47a7959e9b55be27b295": {
     "views": []
    },
    "5da13c0dca2e41f5a3930ec0f29e40ed": {
     "views": []
    },
    "5dae6c91b8204227b021f5ad732544bb": {
     "views": [
      {
       "cell_index": 11
      }
     ]
    },
    "5e56cca7fa3643cc984f51cfe7c1d55d": {
     "views": [
      {
       "cell_index": 15
      }
     ]
    },
    "5ea8402140f94061896926a6162e0261": {
     "views": []
    },
    "5faace7ea1b240ef8c8d451aa398db69": {
     "views": []
    },
    "600e861aa9a94eb3a3cfc0c9934bfdf9": {
     "views": []
    },
    "603d5195915e4b38a60f232fa066597d": {
     "views": []
    },
    "6100fd83fd9a4f30a605f40af20288db": {
     "views": []
    },
    "6139cb545adc4023a4e7c52898c1b43a": {
     "views": []
    },
    "61b4cbe1d03843bc80076c275cee0286": {
     "views": []
    },
    "61e6f1e8a19b4a28a676afde37bd2a54": {
     "views": [
      {
       "cell_index": 15
      }
     ]
    },
    "624f11d0b42f498287b7fff4955315de": {
     "views": []
    },
    "62c5383ab07446f5852afdf9de8c2388": {
     "views": []
    },
    "631596d4bf75496f8272a56381af8606": {
     "views": []
    },
    "63f139a624cd40b3b12341f52fcc5057": {
     "views": []
    },
    "64471486b8a14ef1a67ae40cda7953b0": {
     "views": []
    },
    "64dbe102e64d449a890cf86726af570f": {
     "views": []
    },
    "662a3f53e1b7459a942df8e8ef6a79d8": {
     "views": []
    },
    "66cf8ecabce84fd280d5edfaf090d738": {
     "views": []
    },
    "66d002dad1624fe78f59e6a57d5d066b": {
     "views": []
    },
    "66e8ca1e758b42d287c0a4ca32a4e51e": {
     "views": [
      {
       "cell_index": 11
      }
     ]
    },
    "6744d6b77af84468a1f8044632e3d5f1": {
     "views": []
    },
    "678b449052974d88949194cc7639cbce": {
     "views": []
    },
    "67c1cf800dd948368f87b50793d82b85": {
     "views": []
    },
    "67fb131b6d464661a7f98816258431c0": {
     "views": []
    },
    "684efbdf694547e5946f1eb5872b1719": {
     "views": []
    },
    "6855f459d4a34d70bf54d245bcf20816": {
     "views": []
    },
    "686580dd459149cbbb20d5c039ffee60": {
     "views": []
    },
    "686b65b0f2114bdfb36a00b6fe8d0224": {
     "views": []
    },
    "68c7b2b7678041d5af7fc8917d9c2bc4": {
     "views": []
    },
    "6947fe335aa14cada83ebb9e0134d0dd": {
     "views": []
    },
    "695237518d1049449d1ae0affa27af72": {
     "views": [
      {
       "cell_index": 10
      }
     ]
    },
    "69d74019f7a4453e83d7d2eba3638e3e": {
     "views": []
    },
    "6a31f9a025f14154b3642c555fb77a86": {
     "views": []
    },
    "6a680d17d4744e37ab520c51365585fb": {
     "views": []
    },
    "6a7e1a3c2ba04f0081b0b4a950e7b158": {
     "views": []
    },
    "6ad3ba3c6284412cb7e21f8228a3f8b9": {
     "views": [
      {
       "cell_index": 12
      }
     ]
    },
    "6af56f9ace4343849d054aecb3a3b449": {
     "views": []
    },
    "6b1735e80c47432bb7b9518df24e5508": {
     "views": []
    },
    "6c0b5261adea46dab6092172375564b7": {
     "views": []
    },
    "6c513a65ea764d92a8d77c28e18181b4": {
     "views": []
    },
    "6c559583373740348d1dd2ffa24a62cf": {
     "views": []
    },
    "6c562717c6c24ecf986e9bbadf7e06e1": {
     "views": []
    },
    "6c9ffa590c884c67b83fb813c3d82859": {
     "views": []
    },
    "6cdcbed096bf4d588913cfe336fe63da": {
     "views": []
    },
    "6d2cbbc8190e4ca180604d8b8df9e9fe": {
     "views": [
      {
       "cell_index": 12
      }
     ]
    },
    "6df2bb411e7544769e412edeeb4337a9": {
     "views": []
    },
    "6e22fac7d6c94477a6f361a49eb2139b": {
     "views": []
    },
    "6e2999a4cbc0418f8240a6c78cb12952": {
     "views": []
    },
    "6f315d0416394b888352ee686d105377": {
     "views": []
    },
    "6f3cd5947e2748bf8021bb1a3cb8b2b7": {
     "views": []
    },
    "6f84a0b9a21d434ea0ed98f8ff64ccb3": {
     "views": []
    },
    "7004a45185c444efa21f49596e745b0d": {
     "views": []
    },
    "701bcf05bae342abb41fbc6572b24f04": {
     "views": []
    },
    "709694c6936949cead70272b95cf410e": {
     "views": []
    },
    "70a71c1d92684c3a83a8ccc013411562": {
     "views": []
    },
    "712123375de1496fb422d9aaa877af9d": {
     "views": [
      {
       "cell_index": 10
      }
     ]
    },
    "7124ca684b9146998210c7c38f85a955": {
     "views": []
    },
    "71823a9fc73141c2938b49e9e8eb0b9e": {
     "views": []
    },
    "71cd718428974f05b1241edfc9df0af0": {
     "views": []
    },
    "71fdfcbe12e1439884893efb798703de": {
     "views": []
    },
    "72119dc26f2a4a9bb225327ae1a47051": {
     "views": []
    },
    "727b5f2d5b9f42b9b32f3b03dfd5f844": {
     "views": [
      {
       "cell_index": 15
      }
     ]
    },
    "72bcdaf329a64c528af1dcff3d69a1c3": {
     "views": []
    },
    "739831ce6f2b465681424dceb205ca5f": {
     "views": []
    },
    "73f8aba7028e46cb870de632110f9abd": {
     "views": []
    },
    "73fa2f20bc1447dcb9086a46fdcac3c5": {
     "views": []
    },
    "74471f29899c42db802da2317418af58": {
     "views": []
    },
    "745b3480d4a34f128eeffe165f4509b3": {
     "views": []
    },
    "746f24b4854c480caf5f0072adbaf566": {
     "views": []
    },
    "74d9d0eaed654bf1bbfcc9a8bb17d065": {
     "views": []
    },
    "7541871077df4140a24225f0445a16cb": {
     "views": []
    },
    "7556c45347c64f7c8f4727e6e82456d6": {
     "views": []
    },
    "75ec67bdc331498590a976e4f88be1ce": {
     "views": [
      {
       "cell_index": 15
      }
     ]
    },
    "76134eab4b0e4c85bf46839fc2c65f72": {
     "views": []
    },
    "764621865a9f4d159e98a769744c5626": {
     "views": []
    },
    "764fa6777cc94673a9a4a971475fe9e0": {
     "views": []
    },
    "77a3c024b04f47b39a63de257907d0a3": {
     "views": []
    },
    "77dad5354ee94c428ddb45e92ceb7b46": {
     "views": []
    },
    "780538062af44f4ab8f7c518f8823af4": {
     "views": []
    },
    "783d9413850547a782f43f7109c31626": {
     "views": []
    },
    "784e00533fd348fbb9eec0d557e747ec": {
     "views": []
    },
    "789ff2f77426453d92676b2e284998b0": {
     "views": []
    },
    "7927652cd27d477d85d83edad0eabde1": {
     "views": []
    },
    "793b279d3b5e4dd3a5f1586c4836dffe": {
     "views": []
    },
    "79eeae4e7de14414b41f3b261b90cc2d": {
     "views": []
    },
    "79f7afb9c31843d49f6a1a7b6b143bf8": {
     "views": []
    },
    "7a9aa0742f834ab5845b15371740affa": {
     "views": []
    },
    "7aa4264110d04cfd9cc3e8317e5b3283": {
     "views": [
      {
       "cell_index": 8
      }
     ]
    },
    "7b3d55e0503c4b15a963bc5ba1d90726": {
     "views": [
      {
       "cell_index": 11
      }
     ]
    },
    "7c19fea68a7f463c917610979af52121": {
     "views": [
      {
       "cell_index": 10
      }
     ]
    },
    "7c31cd2542524ba283317009660b59e8": {
     "views": []
    },
    "7c64ac1b3ff84826a5829be52f0860f9": {
     "views": []
    },
    "7c8625076c124f8ca872eb5f14c7e2d8": {
     "views": []
    },
    "7d3abd89cced4acabb61ce5cc8b41728": {
     "views": []
    },
    "7d4ad74e75f246149b7926dddee9a191": {
     "views": []
    },
    "7dd0ae0f1a804f1d9813f9f0469d8969": {
     "views": [
      {
       "cell_index": 12
      }
     ]
    },
    "7deeab52725e467d9f10485bbdc4c2cc": {
     "views": []
    },
    "7e34a4f32fa94d548e276d0fc11052be": {
     "views": []
    },
    "7e61afbec4e446fea202e609b4b90a7e": {
     "views": []
    },
    "7ed6068b19994a32b8147b2200de1587": {
     "views": [
      {
       "cell_index": 10
      }
     ]
    },
    "7f9e5756f3ec450b850fca106268a925": {
     "views": []
    },
    "7fb4e865459a44e19cf8a84fb15b13ec": {
     "views": [
      {
       "cell_index": 8
      }
     ]
    },
    "811653b6742b4196a7866e8b44d26ad9": {
     "views": [
      {
       "cell_index": 13
      }
     ]
    },
    "816082c3c650417f8ef27ba97bda43f8": {
     "views": []
    },
    "819670bde921495e9b12d0847c10964e": {
     "views": []
    },
    "819ed7fef25e4d33941fb5e12a655edd": {
     "views": [
      {
       "cell_index": 13
      }
     ]
    },
    "830cabaa7e6646fbac382fd024d93814": {
     "views": []
    },
    "8378992a616948b48548f4702d9982c2": {
     "views": []
    },
    "83be8be4bb6841388f59cefb90e7ed5a": {
     "views": []
    },
    "8485f96cecfc4917b00e015be0f9311c": {
     "views": []
    },
    "84b19fdad9de4a9c98675cbfb601ff59": {
     "views": []
    },
    "84d8a17fe0a9498ca5434beca7187613": {
     "views": []
    },
    "84fa7daad50747ff9c48db7869daa850": {
     "views": []
    },
    "8529353e438a43a29bc6fa0a2a15902f": {
     "views": []
    },
    "85f1f7d5800b4a82b4a06b2fd7b6d389": {
     "views": []
    },
    "864dcba6bb294dc99994a6f6c3bfc3ad": {
     "views": []
    },
    "86b18db52be44e32ad05bc9dee1fdf41": {
     "views": []
    },
    "8705f62916bd49bdb5d388a0f30ba34c": {
     "views": []
    },
    "872a5e5e2acd4334b3a25d99b3550bb1": {
     "views": [
      {
       "cell_index": 15
      }
     ]
    },
    "873e20d4ec81418a8b50b7bb0162c86d": {
     "views": []
    },
    "8791c9f177804810995b97da342158c4": {
     "views": [
      {
       "cell_index": 15
      }
     ]
    },
    "8795f1320bd74982bc5290cdf5750307": {
     "views": []
    },
    "88825699fa794210b58d9de4238eb5c9": {
     "views": []
    },
    "89063c02117c42af9cdbbe9e6231be40": {
     "views": [
      {
       "cell_index": 13
      }
     ]
    },
    "895494ae5b8c4028ac46df0a815fd1c0": {
     "views": []
    },
    "89cc4c4969644b0b929b61501c81559c": {
     "views": []
    },
    "89d7befe430149b8afb8403aea486e48": {
     "views": [
      {
       "cell_index": 13
      }
     ]
    },
    "8a26aae229c4442f8b35d5d1ae380174": {
     "views": []
    },
    "8a3e0634054842a88ece743e06561ae1": {
     "views": []
    },
    "8a6e2033cc414da99a0180fe4dac5f81": {
     "views": [
      {
       "cell_index": 15
      }
     ]
    },
    "8a8d140db55d439584ee825e1d5ce09e": {
     "views": []
    },
    "8a970351a16144df9aab606d9bb8762a": {
     "views": []
    },
    "8c7fc292668b452ea12b231712a2fb89": {
     "views": []
    },
    "8d83636a3de94129872d5f20d4b0b31f": {
     "views": []
    },
    "8dd3f3f989c64366ae0a845f6232ea2f": {
     "views": []
    },
    "8ecf33305db34349b2ad564287ec8239": {
     "views": []
    },
    "8f67aa77b3a346279c44899199d81e5c": {
     "views": []
    },
    "8ff25fd120bf4da0ad86b26791f65c8e": {
     "views": [
      {
       "cell_index": 8
      }
     ]
    },
    "9001836932994fb6833beb28273f0f01": {
     "views": [
      {
       "cell_index": 15
      }
     ]
    },
    "90d88c71135c4f0986cde7eca4989b07": {
     "views": []
    },
    "913ff0884ca948f6a529f43cd39cc5c0": {
     "views": []
    },
    "9199fb0bec38438b977ffdb296d263db": {
     "views": []
    },
    "91af4bd0e19742d6ac52d282fd75c7af": {
     "views": []
    },
    "91efba9dd8614f58becc1145d8537bf9": {
     "views": [
      {
       "cell_index": 11
      }
     ]
    },
    "9202d15141764063a3630a4fed93e7bf": {
     "views": []
    },
    "9224c44f4ea749e989320d3e183c91ed": {
     "views": [
      {
       "cell_index": 12
      }
     ]
    },
    "92936d50f7a8419da605236062eead7c": {
     "views": []
    },
    "92ae8358821e49e2a1ec1999d929c441": {
     "views": [
      {
       "cell_index": 12
      }
     ]
    },
    "92fee3bb609049789e55b12666217fe6": {
     "views": [
      {
       "cell_index": 13
      }
     ]
    },
    "936ece0639af4183b06e06598fb55c09": {
     "views": [
      {
       "cell_index": 12
      }
     ]
    },
    "9373359ab9924a0bb39daeb0ad9058ef": {
     "views": []
    },
    "9374c62ee85f4ea58e1f47a340c2c9d6": {
     "views": []
    },
    "939130d85efc401ba6594cd2b24cd751": {
     "views": []
    },
    "940f4065d7a949abadde3f7680d1c494": {
     "views": []
    },
    "94421cd2c2924642ae73756dccadd279": {
     "views": []
    },
    "94b85fddf2d3433699604e89b817ac64": {
     "views": []
    },
    "94c77ff3be764f53abde32c76cf09f69": {
     "views": []
    },
    "94c849189811424984a3df8776221a2f": {
     "views": []
    },
    "954e259f4a584c51bfc281acf72ed9d3": {
     "views": []
    },
    "9564e344dd99499199c701991c780536": {
     "views": []
    },
    "957725d0d2c2469ab32e141c1e072ba8": {
     "views": []
    },
    "959777dec3c641139270255fe0abb64a": {
     "views": []
    },
    "95ac7ccf49f4482b844f97503a193143": {
     "views": []
    },
    "9604ea2a1546463ead5aef16c3ad33f0": {
     "views": []
    },
    "96a680fb232846e89104714a2e374443": {
     "views": []
    },
    "96a9820797b147fbb039d672c6101a0e": {
     "views": []
    },
    "972a06eb255b476d896602c881e5f491": {
     "views": []
    },
    "9788e28221b849e0a66437807888b443": {
     "views": []
    },
    "97ce377c194344cea4010b95cef89d22": {
     "views": []
    },
    "98cc304dd2974980b8e8a7424dbeaf20": {
     "views": []
    },
    "98f6b335ad27497abb2b5ad5c952e198": {
     "views": []
    },
    "99006724ec8b4c90a1c83cb3b1f4719a": {
     "views": []
    },
    "992bc1aeea9b41acbd38dd9f6abedfc4": {
     "views": []
    },
    "999ee91841144f839b84f1d21a78da38": {
     "views": []
    },
    "99b486250e994350b1a59bcf723da684": {
     "views": [
      {
       "cell_index": 12
      }
     ]
    },
    "99cb0f96bd0e4c16bb745bc211b63c64": {
     "views": []
    },
    "99eca2d12a7e4432a8158e35b5f93117": {
     "views": []
    },
    "9a12128d13374a3193c8a67d9a593583": {
     "views": []
    },
    "9a2578d5018d4670bacdb7a8e0bc4a4b": {
     "views": []
    },
    "9a6ac6e85a57485db214b068d14cbf55": {
     "views": []
    },
    "9a9bc890d74a45eeb13998e667c6274a": {
     "views": []
    },
    "9ad06d6c9837492296615e32c0441ab0": {
     "views": []
    },
    "9bc11abbc9314bdd9f8befb568ad911c": {
     "views": []
    },
    "9c2d953a6ada453f852ce6a4b3d45912": {
     "views": []
    },
    "9ccf316f4bf244e2bb513404e6760f4d": {
     "views": []
    },
    "9d42979808384a7e8f27d3c1087e3af6": {
     "views": []
    },
    "9e4ce68ae1ce4ce6a500893b58ebc99b": {
     "views": []
    },
    "9e6b37fd50f24c2e844e4d3c376ce6b5": {
     "views": [
      {
       "cell_index": 12
      }
     ]
    },
    "9ec446e5e6bb4a41b971cad4bd7d2455": {
     "views": []
    },
    "9fb841e9ce114403a1505d22000b5cfe": {
     "views": []
    },
    "9fbe80b646a0411e97f28e1a0c40b4a1": {
     "views": []
    },
    "9ff51ecc38084fc0a9698281d9379a56": {
     "views": []
    },
    "a01f574985e746f38cb1d49a4295ca24": {
     "views": []
    },
    "a06ab99e3f184024b94ac6cb4f662158": {
     "views": []
    },
    "a087ca4f08844ca4932b5ac79799e683": {
     "views": []
    },
    "a095da613b5240a3886d38eaeeff08ca": {
     "views": []
    },
    "a0cca0959e6847159b1c75651f947e95": {
     "views": []
    },
    "a0f3cb3919054accb57008b0a70bfeb9": {
     "views": []
    },
    "a1d0d8294cb3443da818ee21a97af2d7": {
     "views": []
    },
    "a2035b7112cf48418a74c112cc1fc37b": {
     "views": [
      {
       "cell_index": 11
      }
     ]
    },
    "a2dc820694934747ba822024ef2c707c": {
     "views": [
      {
       "cell_index": 15
      }
     ]
    },
    "a3c6ff2917fd48b2b13854da57bbe0b9": {
     "views": []
    },
    "a43c882fcb0c4be6b2415bc10fadd05f": {
     "views": []
    },
    "a4d6f22d50d342d49503650ab39f235b": {
     "views": []
    },
    "a55ccd057aca45049328a498b6afaf55": {
     "views": []
    },
    "a55f0620a6d940d7bb3186123efc4305": {
     "views": [
      {
       "cell_index": 12
      }
     ]
    },
    "a5bc944ebfe74392a56f6bbc4742edae": {
     "views": []
    },
    "a600e415a4b04d5cb23ed3184acaa3ae": {
     "views": [
      {
       "cell_index": 8
      }
     ]
    },
    "a674294fbc394a71abc0447b072123b1": {
     "views": []
    },
    "a68026ce715546bfa093c8f6ac7c27cd": {
     "views": []
    },
    "a686be006fbd430f81dcbc43be6a4060": {
     "views": []
    },
    "a6aebe0f1b014f4e8000870eb006440d": {
     "views": []
    },
    "a6e58caa33fe42969a6032cc5f4e9f25": {
     "views": []
    },
    "a76cd8e615e44312ae7f0c9ce33d6757": {
     "views": []
    },
    "a774e2db20f147aa9b87bcd999998cd8": {
     "views": []
    },
    "a7a6363516f24586a1bcd039ff552792": {
     "views": []
    },
    "a7b250583b5b42b39813ef0c3cb2ce65": {
     "views": []
    },
    "a86e964305284fdfb1befd5ada668e92": {
     "views": [
      {
       "cell_index": 13
      }
     ]
    },
    "a8c67d160a48407ca39d19c98d325ee5": {
     "views": []
    },
    "a97f6f9672c54d398829e58e71d06a5e": {
     "views": []
    },
    "a9d30181f4f4413d91ac36296696418e": {
     "views": []
    },
    "a9d67aa9cb0244f18623bb37f610d3d9": {
     "views": []
    },
    "aa3f4e4c554747ca8adc83a933821b0b": {
     "views": []
    },
    "aa76dfae8ab8410d90b36c84acf12334": {
     "views": []
    },
    "aaa419c8d506487fba186b12c7b1b3d5": {
     "views": [
      {
       "cell_index": 12
      }
     ]
    },
    "aad0174a144140c0aa9feda28bd4247b": {
     "views": []
    },
    "ab0bf0ff676846ce813926fc4dc3b45f": {
     "views": [
      {
       "cell_index": 8
      }
     ]
    },
    "ab32758fe33e42e996a021586ec4de2d": {
     "views": []
    },
    "abb521a8f52e4951a97f0811b38cf915": {
     "views": []
    },
    "abd88cb3b65e48ac8a8dabc434f90fa2": {
     "views": []
    },
    "abfd91ba9e2443608776ca8469e23b6c": {
     "views": []
    },
    "ac09a03baa8349b48df2e933e9bd0426": {
     "views": [
      {
       "cell_index": 12
      }
     ]
    },
    "ac13676f901f4c33a3f56f7b81af0e69": {
     "views": []
    },
    "accd5609249a4e3cb67e4a16b57cbc5c": {
     "views": []
    },
    "ad792309c64a4587a7a0d013ad5aff90": {
     "views": []
    },
    "ada197835a6a4faaa614ddcbaefd10f2": {
     "views": []
    },
    "ae664d690601447aac48c8e1c2dd7c8b": {
     "views": []
    },
    "af22985f0ffc42a894f978df535407e0": {
     "views": [
      {
       "cell_index": 15
      }
     ]
    },
    "af4cccf5592d4747a732baf17fca1200": {
     "views": []
    },
    "afadad2ff5104990a04ad2a2fffdb9a3": {
     "views": []
    },
    "afd199be815e451db39b1eab158a5188": {
     "views": []
    },
    "b00c251feb054170bead6d0b6817aec2": {
     "views": []
    },
    "b08bdec251c242818fdbc71793322bb0": {
     "views": []
    },
    "b0a237271d604833ac364b7858a7bb36": {
     "views": []
    },
    "b0b23063f6774e538924950aa7ff7753": {
     "views": [
      {
       "cell_index": 10
      }
     ]
    },
    "b0de8fe1bec441dc93773245df991a4c": {
     "views": []
    },
    "b0e3e9ce87854af6bf77f73bc0e9cc3b": {
     "views": []
    },
    "b16d2fb5c2ba41848d84a2b8b59b2dfa": {
     "views": []
    },
    "b18b42102a4e4d1cb773da2c37cacfe4": {
     "views": []
    },
    "b1a744d2477d4836a25ad8571d86b085": {
     "views": []
    },
    "b1ed30c2d26e41ff99fc35a017788e8d": {
     "views": []
    },
    "b2a6fc32ca3b4384bdb130606e740ce7": {
     "views": [
      {
       "cell_index": 8
      }
     ]
    },
    "b2d0966d83e947358b5bfc65ebb0b6d9": {
     "views": []
    },
    "b317888e6e504dd49a32245289e8d646": {
     "views": []
    },
    "b31dfebf48e14fe5b48590442b667c13": {
     "views": []
    },
    "b3adc9dfad254bc5b93633806f698dbf": {
     "views": []
    },
    "b4a55792ca004d51b44ecb808de374e4": {
     "views": []
    },
    "b5519514160a46cc8c33e8f0516ed6e9": {
     "views": []
    },
    "b574069f2e8947fd91e1e92a49a23bb7": {
     "views": []
    },
    "b5d7c489ff5d4c22b46a4415a8511a7c": {
     "views": []
    },
    "b6bafc9d8a6d45ef91b6c2fe5112937e": {
     "views": []
    },
    "b6d7ed6767874a2d8bdd914e1bc865a1": {
     "views": []
    },
    "b7521d7e41064bf5b229598bc3fca0e8": {
     "views": []
    },
    "b9a08b3ae3db4accb78f52e6bac836db": {
     "views": []
    },
    "ba3f085f4e204baba4145e0b7395c285": {
     "views": []
    },
    "bb2424617bb8471fa95ea47c4395c5b7": {
     "views": []
    },
    "bb7e374261c14718986f4ecfda2b5043": {
     "views": []
    },
    "bbd16a6163354b5181df73cfdfdc6117": {
     "views": [
      {
       "cell_index": 12
      }
     ]
    },
    "bbfd9b7902e04ed2a4482c70ff6908a9": {
     "views": [
      {
       "cell_index": 12
      }
     ]
    },
    "bc4b13f0f75b49e6990593847629b687": {
     "views": []
    },
    "bc56cbcdd69b4324b6d9aef46bf0af8e": {
     "views": []
    },
    "bca81ca0316a4cefaaeab087c72ac61a": {
     "views": []
    },
    "bdb9a7b11a234e069278b93be39b9d61": {
     "views": []
    },
    "be7198c2b891471a8a9981b5c3cd6957": {
     "views": []
    },
    "be926b6a2fb94bc08dc3ada2e57a8672": {
     "views": []
    },
    "becc755a6a474be1ab4c18cc0c52154a": {
     "views": []
    },
    "bf7f6bcd8342494a8bb48e665bc57bbf": {
     "views": []
    },
    "c00c76449a264a6ca01bcb759754d85a": {
     "views": []
    },
    "c044bda8eb9c4a68b47492a2186844a2": {
     "views": []
    },
    "c06ee7f075ef4aa79f405d7cdb7e1295": {
     "views": []
    },
    "c24ae5585143470995ccd8c8897093b6": {
     "views": []
    },
    "c2f757c5dca040758b236ff105196134": {
     "views": []
    },
    "c33f081f54764052ae9b945b1ffa7eb2": {
     "views": [
      {
       "cell_index": 8
      }
     ]
    },
    "c39d7228894b4e61b8acbca4a94d33ac": {
     "views": []
    },
    "c411626383cb4201a3a14c772c614c6c": {
     "views": []
    },
    "c4902386486e4ea1a8609625e7a6fbc2": {
     "views": []
    },
    "c527287b29e5452ab35eb18b54eed970": {
     "views": []
    },
    "c53b62b041b64d14a59742b4bd5d1805": {
     "views": []
    },
    "c54eb729678948369a64a7e926468bef": {
     "views": []
    },
    "c5bff44b19d34327b7900b84873527eb": {
     "views": []
    },
    "c5d175f9f98d4fea8fec50d79ebd0587": {
     "views": []
    },
    "c5e0bc1fb1974a0d8b9ce67de89cccaa": {
     "views": [
      {
       "cell_index": 8
      }
     ]
    },
    "c60311f6dae3465a8eb75fcb06adcf6b": {
     "views": []
    },
    "c66824004c10407ba18bb7d2701e787b": {
     "views": [
      {
       "cell_index": 10
      }
     ]
    },
    "c694de2b84fc493481cd41d776117d01": {
     "views": []
    },
    "c719125e742f483d8155a4d2935ba310": {
     "views": []
    },
    "c7505fb184394abf97c75d07f3a2ff1e": {
     "views": []
    },
    "c79c56107696414e92f9f160a8ee8ab3": {
     "views": []
    },
    "c8bb3070fb6d461dae79e0d1e5bd2248": {
     "views": []
    },
    "c8f0026e54e24702b7e61383167de943": {
     "views": []
    },
    "c9a6dc979a6e46a2ac3198f502b53179": {
     "views": []
    },
    "c9c72931f5e744ee8fbb8dc2e2ee003b": {
     "views": []
    },
    "caa2ed96b6aa46da8f94820466eead9c": {
     "views": []
    },
    "cb0114c3efec4b7f8d3692028ffca285": {
     "views": []
    },
    "cb19afe2feaf4bb0b89fccc70e0b064f": {
     "views": []
    },
    "cb3d4a77ca3f422db80e1d4d1f14bc4e": {
     "views": []
    },
    "cb589dc3855844deb91ec7e7f84f1194": {
     "views": []
    },
    "cb59ff6ce97c493c9c09a8e218098026": {
     "views": []
    },
    "cb77cd8c6b6d4369bc0fdcd5c9afdbd1": {
     "views": [
      {
       "cell_index": 12
      }
     ]
    },
    "cb9085e482ec40e8893c35a298f928a6": {
     "views": []
    },
    "cbc144029e794b7ab65a1b4eedda864a": {
     "views": []
    },
    "cbf81ca415e04078aa46188af54cc6be": {
     "views": [
      {
       "cell_index": 10
      }
     ]
    },
    "cc1cee8a7ba6426384fe0e48e701b7d4": {
     "views": []
    },
    "cc482773794740eb983a835520e3526e": {
     "views": []
    },
    "cd1ddf3af6ec4199a96d60195537cfe6": {
     "views": []
    },
    "cd60e6c9231247d6998f48c5526e0c75": {
     "views": []
    },
    "ce23073cf78f4b86b400821bafa01f63": {
     "views": [
      {
       "cell_index": 12
      }
     ]
    },
    "ce6ab6bff010424086cc30f4988d2042": {
     "views": []
    },
    "ce94be3fbbfb4d349c0e88e6bd509543": {
     "views": [
      {
       "cell_index": 12
      }
     ]
    },
    "cf77abd71e5d4a9696350e2b194924c8": {
     "views": []
    },
    "d0a79de48baa44b7a981ceb50edea00e": {
     "views": []
    },
    "d0af3bbf12f74999ade28b13b65f3729": {
     "views": []
    },
    "d0e20d33d6a041dd9aef40a1174964c1": {
     "views": []
    },
    "d17d3013ee194654a02b90f83ba52e82": {
     "views": []
    },
    "d1bd84f1494541239c864db746a913e2": {
     "views": [
      {
       "cell_index": 10
      }
     ]
    },
    "d1dfa880b13d4a8da4768f81a9ab4581": {
     "views": [
      {
       "cell_index": 12
      }
     ]
    },
    "d233587e3fa141f69c7237c983db9920": {
     "views": []
    },
    "d313ac1500084785b0e46dbffccfe41d": {
     "views": []
    },
    "d3357c1df5904941a1a55b26749bd615": {
     "views": []
    },
    "d34d34afcb5a46d987a5de38ff2bceb6": {
     "views": []
    },
    "d3532c9b00b74ed2b884c8af091918a3": {
     "views": []
    },
    "d365825701c04ca3b2c3fb6b11d69f8e": {
     "views": []
    },
    "d3affe8eeffc401da3f6e6edc76f8bc7": {
     "views": []
    },
    "d404c8a8a76b45d6a79ed4ed0bbb254c": {
     "views": [
      {
       "cell_index": 12
      }
     ]
    },
    "d40deda45ee84cb7bf8a9add75bb6caa": {
     "views": []
    },
    "d442de244ac340cf8fff1ff4bf2cbf3a": {
     "views": []
    },
    "d474619ebea94e4ea01a92b16cd51587": {
     "views": []
    },
    "d4f7d0edd4f944059e9402cf66ea4bbe": {
     "views": []
    },
    "d5e094acf1ff46e29af67142b961bce8": {
     "views": [
      {
       "cell_index": 15
      }
     ]
    },
    "d68a1b1759ca4e64a46b82452b2ebaee": {
     "views": []
    },
    "d6cef5678dde4427b5268ff98849299f": {
     "views": []
    },
    "d7448e44e91440189fb27b309436922a": {
     "views": []
    },
    "d7542338d6054d42a27b5c62dd2aa831": {
     "views": []
    },
    "d7f113b196ad4dc28c89b7f84f02b394": {
     "views": []
    },
    "d7f2bdf5dc184539b4e24d0149cca271": {
     "views": []
    },
    "d81ad62ca7e547cf84a8a875b0874139": {
     "views": []
    },
    "d8796bd86fb1441185b6407ad0741bc2": {
     "views": []
    },
    "d8807e214e534e71b67fee4adda60507": {
     "views": []
    },
    "d881ab969c9d4f21859d7c0afc8da895": {
     "views": [
      {
       "cell_index": 13
      }
     ]
    },
    "d8aa1e6ba05c40e4928587d7b05a39c0": {
     "views": []
    },
    "d90ab837a25f4e5f82a1e35dd015922c": {
     "views": [
      {
       "cell_index": 12
      }
     ]
    },
    "d9128da1aa4a4ae2aa6987bcb97c872c": {
     "views": []
    },
    "d98e845c87bd448ca8ae12e19851b64f": {
     "views": []
    },
    "db28de0b89df4f319dbea1792b3f9e88": {
     "views": []
    },
    "db748fbbf29f4c4ea854238478c3bf51": {
     "views": []
    },
    "dbac23e7c7d94bea90a8d084361f6330": {
     "views": []
    },
    "dbb8eaa697c24512a8705df5dc714c7c": {
     "views": []
    },
    "dbe0fe4d92c244a58a78f4172d84635f": {
     "views": []
    },
    "dc39b151e8c2426392abe09ff7975fb4": {
     "views": []
    },
    "dca9635442ef4564b5f0151a28a9097f": {
     "views": []
    },
    "dccce9e7deba4b87a97177557bb2922e": {
     "views": []
    },
    "dd74a7c4e4004fef8399cc6b60233141": {
     "views": []
    },
    "de1f167bbf954d7a8f8935c8361572b6": {
     "views": []
    },
    "ded1e91fcb7b4745b8b8fa40b36ed067": {
     "views": []
    },
    "deedbd8a391e44cd8bc007078fe7116a": {
     "views": []
    },
    "df503ed15dab48099c8761817712d215": {
     "views": []
    },
    "df69bf2cf6534214a572f9305ddf71ff": {
     "views": []
    },
    "e007bd7273fe4d8092066270cc07257a": {
     "views": []
    },
    "e01bfecdd74f450989ed65bd1058b80f": {
     "views": [
      {
       "cell_index": 12
      }
     ]
    },
    "e04354c5536440df983917f2cee9ad9b": {
     "views": []
    },
    "e04e9700675e4d1fa89674d59d1066ff": {
     "views": [
      {
       "cell_index": 12
      }
     ]
    },
    "e107bc29063d47f496c513dbb02fc261": {
     "views": []
    },
    "e130da79fa90441d9ebad11e03dffedb": {
     "views": [
      {
       "cell_index": 11
      }
     ]
    },
    "e23ffc8e1238484c8a681110f3f46c79": {
     "views": []
    },
    "e2765d5c46f1414c8f87588a50a54007": {
     "views": []
    },
    "e337fa997caa4b008c7588546f93b9a8": {
     "views": []
    },
    "e3564ddf3b8241d1a32092ed0c4b0b4d": {
     "views": []
    },
    "e3b30f221b7f4c97a3f7f810ab8f428a": {
     "views": []
    },
    "e3cebbe983534717a6f7816293a29bb2": {
     "views": [
      {
       "cell_index": 12
      }
     ]
    },
    "e41d16c6a26643959c9d788e66404c66": {
     "views": [
      {
       "cell_index": 13
      }
     ]
    },
    "e44156d301784432a12dd4ccd2f54b9d": {
     "views": [
      {
       "cell_index": 11
      }
     ]
    },
    "e4a6f48124814f5a9c5b11c235fe66c6": {
     "views": []
    },
    "e4c0092dc15a4955ab639484e85fe9bd": {
     "views": []
    },
    "e5067b834c5f44f1b50272f534b92278": {
     "views": []
    },
    "e5bb35dbb0594877ad7b7df82a3bef77": {
     "views": []
    },
    "e5f73bc485af45f7a9d9e7ce19dafdaa": {
     "views": []
    },
    "e6e0216cee844bd487a85a229358fbeb": {
     "views": []
    },
    "e6ff34b01d2b4e4aad6bd55210030d91": {
     "views": []
    },
    "e70364833c164b4297f66a3e31065f85": {
     "views": []
    },
    "e70bbf4beb5b479abc225f82ec20cccb": {
     "views": []
    },
    "e71a90e591a54378bef942930400f846": {
     "views": []
    },
    "e736af0e618d4643b7e389939e647959": {
     "views": []
    },
    "e7cd51fa6a034b3e9523850d2add0ee9": {
     "views": [
      {
       "cell_index": 10
      }
     ]
    },
    "e7d7013265904b6f8d2cc06b73ac5447": {
     "views": []
    },
    "e7ecf298f3b741d692fa7fb6790e1f76": {
     "views": []
    },
    "e87f26e2c94f46bfbf1e1793846469be": {
     "views": []
    },
    "e8d5bee6776042dd8fc6874bf9d82b75": {
     "views": []
    },
    "e8e2d5eb0d7e42b1b38c292d515fe745": {
     "views": []
    },
    "e8e97d32405d456094f5a52e8be192e3": {
     "views": []
    },
    "ea3e43b6590347fbbeabe3bdb4c6e553": {
     "views": []
    },
    "ea67e3a3188b4e8d92faf599fc101c43": {
     "views": []
    },
    "ea6dc8724dfa4c3e85917a2719feaf2d": {
     "views": []
    },
    "ebccdb56a6484dc38617df0f756c533d": {
     "views": []
    },
    "ec3958c39cea4d35b56170cc4b0377c3": {
     "views": []
    },
    "ec9ef24aabe9410690e5e09238fee4b6": {
     "views": [
      {
       "cell_index": 13
      }
     ]
    },
    "ece29557e06f4c76a8004dcf8258baca": {
     "views": []
    },
    "ed5ac24043644475babf1b0bc9f1e9fe": {
     "views": []
    },
    "eda86780f7974e578fe8ebf4d46f0b29": {
     "views": []
    },
    "ee1bd6f0281a413f8f60ff64baae9e4a": {
     "views": []
    },
    "ee1e052f6d0b408b8d3177a50d092806": {
     "views": []
    },
    "eeea98fd090f4d54a39429b5152f7018": {
     "views": []
    },
    "ef9c1dff14e04dd6a855501e2ec22e2a": {
     "views": []
    },
    "efb7781daef34417be92789b4ea9eb90": {
     "views": []
    },
    "f02d8ff2f8d640fabe70a0f4c4ce9672": {
     "views": []
    },
    "f0603694af0945ddba6ff81fc0255f18": {
     "views": []
    },
    "f0aff090633c43e89a674b9ccf16a4d6": {
     "views": []
    },
    "f1e06fdff61246aaaac436d5c3a29b3b": {
     "views": []
    },
    "f24d1fdf80d548549b237453c7face8a": {
     "views": []
    },
    "f25269aaad3d456796c97d463c320a6e": {
     "views": []
    },
    "f3156a1a18f145f180845f3433f4729f": {
     "views": []
    },
    "f3498cdaa7ad4687bf0eec7999d3528c": {
     "views": [
      {
       "cell_index": 15
      }
     ]
    },
    "f38bfd7f4e6b4c3ea74d4014ec6dbde6": {
     "views": [
      {
       "cell_index": 12
      }
     ]
    },
    "f3a5b7dc68ac4ee085f0db02f11c2ab2": {
     "views": [
      {
       "cell_index": 11
      }
     ]
    },
    "f3d6c268a95749e0a81a60d0caa5044b": {
     "views": []
    },
    "f3e28f6b6c794d11a3b320dbcb4093dd": {
     "views": []
    },
    "f3f08a150ed943079709e77fe75439dd": {
     "views": []
    },
    "f415fdc051a544deb2c86cd6e8aac21d": {
     "views": []
    },
    "f4bb552b557e472d8e12a175d381a020": {
     "views": []
    },
    "f4edaaaea47b40af86bc4a7bf67109a5": {
     "views": []
    },
    "f51bc76d4b544409a4b4621ef2718635": {
     "views": []
    },
    "f53122dfa26b4187b37e052dfd13a93f": {
     "views": []
    },
    "f6131f292f584da3a8562dc8cfb954bd": {
     "views": []
    },
    "f64842157f7443bbae96325f1aed89d6": {
     "views": []
    },
    "f65850b6016e4ede9e47a1b9ab4cd0ba": {
     "views": []
    },
    "f6781d2a0a8c430783f4d206678e18ff": {
     "views": []
    },
    "f6df4cb1aef7450b8c03bcc5b4c15a4e": {
     "views": [
      {
       "cell_index": 11
      }
     ]
    },
    "f7f723f9ab7447acacc514e6b5185d03": {
     "views": []
    },
    "f80decd2c39c485085a6e046af37185d": {
     "views": []
    },
    "f84f9e6a276a4d4f83d68b0ca6003de8": {
     "views": []
    },
    "f871419218814988bbbbd70dc8341138": {
     "views": [
      {
       "cell_index": 12
      }
     ]
    },
    "f89199ad6563493bb76abe139a8e3317": {
     "views": []
    },
    "f8b0bd4115e044dd86a966572c91675a": {
     "views": []
    },
    "f969efad48e84fc095ea74489b2d5b01": {
     "views": [
      {
       "cell_index": 12
      }
     ]
    },
    "f9c1010ba9fb4735b38afa5a0d58cf22": {
     "views": []
    },
    "f9d67ec264754c1190088f6f9fb9af34": {
     "views": [
      {
       "cell_index": 15
      }
     ]
    },
    "fbac7d6a913b46e0a6303c94dcc9f07c": {
     "views": []
    },
    "fbbbd034e44d455eb27a330ff2d9dafb": {
     "views": []
    },
    "fbbbeb4058b941068a38ebb7e5ef30aa": {
     "views": []
    },
    "fbc3486cbcca4308aecb43a4ca5f9e80": {
     "views": []
    },
    "fce74ad7e0eb451fbcd1b7df14179a4c": {
     "views": []
    },
    "fd0dd02d67cf4541bdbb9ffb731ebc04": {
     "views": []
    },
    "feaeccd669a64606a2324ca80ced542e": {
     "views": []
    },
    "ff0ec5e098f541418781641bbc249da7": {
     "views": []
    },
    "ffdeacd46814481ebe90eb370fd206c4": {
     "views": []
    },
    "ffe810027b9e49c0b9dcefc0dcfc5a9f": {
     "views": []
    }
   },
   "version": "1.1.2"
  }
 },
 "nbformat": 4,
 "nbformat_minor": 0
}
