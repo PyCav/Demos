{
 "cells": [
  {
   "cell_type": "markdown",
   "metadata": {},
   "source": [
    "<center><b>Charged particle above fixed oppositely charged ring</b></center>\n",
    "\n",
    "If the particle is placed, on axis, a distance z above the centre of the ring and released, the force on the particle can be found by integrating around the ring.\n",
    "\n",
    "<center>$ \\mathbf{F} = - \\int \\frac{q(\\mathbf{R-r})}{4\\pi\\epsilon_0 |\\mathbf{R-r}|^3} dQ$</center>\n",
    "\n",
    "In the case that z << r, the radius of the ring, then the force is approximately proportional the displacement. Hence SHM will occur. Otherwise the motion produced is non-trivial, especially if the particle is placed off-axis. The on-axis result:\n",
    "\n",
    "<center>$ \\mathbf{F}_z = - \\int \\frac{qz}{4\\pi\\epsilon_0}(r^2+z^2)^{-3/2} dQ = - \\frac{qQ}{4\\pi\\epsilon_0}z\\ (r^2+z^2)^{-3/2}$</center>\n",
    "\n",
    "<center> For $z \\ll r, \\ \\ \\ \\mathbf{F}_z \\approx - \\frac{qQ}{4\\pi\\epsilon_0r^3}z = -\\omega_{0}^2z$</center>\n",
    "\n",
    "Using the above, it can be noted that for 2 fixed particles the linear restoring force occurs at all angles normal to the line connecting them. A charged particle in this plane, close to the midpoint, will then be capable of circular motion about the midpoint. However as the distance to the midpoint increases, z is not longer << r and the force no longer proportional to z, this will mean that the orbits will no longer close.\n",
    "\n",
    "Importing numpy along with charge_module which contains the Animation class created for this notebook along with plotter for the electric field on-axis. Using %matplotlib notebook allows interactive plots and animations within the notebook"
   ]
  },
  {
   "cell_type": "code",
   "execution_count": 1,
   "metadata": {
    "collapsed": false
   },
   "outputs": [],
   "source": [
    "import numpy as np\n",
    "import charge_module as cm\n",
    "\n",
    "%matplotlib notebook"
   ]
  },
  {
   "cell_type": "markdown",
   "metadata": {},
   "source": [
    "Time stepping of the particle position is done via a 4th order RK method"
   ]
  },
  {
   "cell_type": "markdown",
   "metadata": {},
   "source": [
    "The acceleration caused by the charged ring (which is modelled as point particle sections as a approximation to the integration required) for a unit mass:\n",
    "\n",
    "<center>$ \\mathbf{F} = - \\sum_i \\frac{q(\\mathbf{R-r})}{4\\pi\\epsilon_0 |\\mathbf{R-r}|^3} Q_i$</center>"
   ]
  },
  {
   "cell_type": "code",
   "execution_count": 2,
   "metadata": {
    "collapsed": true
   },
   "outputs": [],
   "source": [
    "def a(R,ring_r,ring_steps,q):\n",
    "\t# Function to calculate the acceleration of the particle(s) at position R\n",
    "\t# R - position vector of the the particle(s)\n",
    "\t# ring_r -  radius of the charged ring\n",
    "\t# q - ratio of the charge on the particle to that on the ring\n",
    "\t# ring_steps - Number of sections of ring considered\n",
    "\n",
    "\t# Charge density of the ring\n",
    "\trho = q/(2*np.pi*ring_r)\n",
    "\n",
    "\t# Azimuthal angle steps\n",
    "\tphi_h = 2*np.pi/float(ring_steps)\n",
    "\t\n",
    "\ttotal_acc = np.array((0.0,0.0,0.0))\n",
    "\tfor i in range(ring_steps):\n",
    "\t\t# Azimuthal angle\n",
    "\t\tphi = i*phi_h\n",
    "\t\t# Relative position vector of particle to element of ring dq\n",
    "\t\tP = R-np.array((ring_r*np.cos(phi),ring_r*np.sin(phi),0))\n",
    "\t\n",
    "\t\t# Magnitude of the relative position vector\n",
    "\t\tP_mag = np.linalg.norm(P)\n",
    "\n",
    "\t\tacc = -ring_r*phi_h*rho*P/(4*np.pi*P_mag**3)\n",
    "\n",
    "\t\ttotal_acc = total_acc + acc\n",
    "\n",
    "\treturn total_acc"
   ]
  },
  {
   "cell_type": "markdown",
   "metadata": {},
   "source": [
    "Function to calculate the SHM frequency found if the displacement of the particle is assumed to be much less than the radius of the ring."
   ]
  },
  {
   "cell_type": "code",
   "execution_count": 3,
   "metadata": {
    "collapsed": true
   },
   "outputs": [],
   "source": [
    "def shm_freq(ring_r,q):\n",
    "\treturn (q/(4*np.pi*ring_r**3))**0.5"
   ]
  },
  {
   "cell_type": "markdown",
   "metadata": {},
   "source": [
    "Animation object, contains the necessary methods to create an interactive animation of the motion of the charged particle near the ring. Sliders are introduced to modify parameters and a run button which will restart the animation for these new parameters. The RK4 routine is run before producing the plotting to allow for a smooth animation. Also contains if statements for when the number of ring elements is set to 2 for the later investigation"
   ]
  },
  {
   "cell_type": "markdown",
   "metadata": {},
   "source": [
    "Contains the necessary initial parameters and creates an Animation object for the user to interact with. Off axis starting positions can be investigated by changing the R vector, where the components represent (x,y,z), below."
   ]
  },
  {
   "cell_type": "code",
   "execution_count": 4,
   "metadata": {
    "collapsed": false
   },
   "outputs": [
    {
     "data": {
      "application/javascript": [
       "/* Put everything inside the global mpl namespace */\n",
       "window.mpl = {};\n",
       "\n",
       "mpl.get_websocket_type = function() {\n",
       "    if (typeof(WebSocket) !== 'undefined') {\n",
       "        return WebSocket;\n",
       "    } else if (typeof(MozWebSocket) !== 'undefined') {\n",
       "        return MozWebSocket;\n",
       "    } else {\n",
       "        alert('Your browser does not have WebSocket support.' +\n",
       "              'Please try Chrome, Safari or Firefox ≥ 6. ' +\n",
       "              'Firefox 4 and 5 are also supported but you ' +\n",
       "              'have to enable WebSockets in about:config.');\n",
       "    };\n",
       "}\n",
       "\n",
       "mpl.figure = function(figure_id, websocket, ondownload, parent_element) {\n",
       "    this.id = figure_id;\n",
       "\n",
       "    this.ws = websocket;\n",
       "\n",
       "    this.supports_binary = (this.ws.binaryType != undefined);\n",
       "\n",
       "    if (!this.supports_binary) {\n",
       "        var warnings = document.getElementById(\"mpl-warnings\");\n",
       "        if (warnings) {\n",
       "            warnings.style.display = 'block';\n",
       "            warnings.textContent = (\n",
       "                \"This browser does not support binary websocket messages. \" +\n",
       "                    \"Performance may be slow.\");\n",
       "        }\n",
       "    }\n",
       "\n",
       "    this.imageObj = new Image();\n",
       "\n",
       "    this.context = undefined;\n",
       "    this.message = undefined;\n",
       "    this.canvas = undefined;\n",
       "    this.rubberband_canvas = undefined;\n",
       "    this.rubberband_context = undefined;\n",
       "    this.format_dropdown = undefined;\n",
       "\n",
       "    this.image_mode = 'full';\n",
       "\n",
       "    this.root = $('<div/>');\n",
       "    this._root_extra_style(this.root)\n",
       "    this.root.attr('style', 'display: inline-block');\n",
       "\n",
       "    $(parent_element).append(this.root);\n",
       "\n",
       "    this._init_header(this);\n",
       "    this._init_canvas(this);\n",
       "    this._init_toolbar(this);\n",
       "\n",
       "    var fig = this;\n",
       "\n",
       "    this.waiting = false;\n",
       "\n",
       "    this.ws.onopen =  function () {\n",
       "            fig.send_message(\"supports_binary\", {value: fig.supports_binary});\n",
       "            fig.send_message(\"send_image_mode\", {});\n",
       "            fig.send_message(\"refresh\", {});\n",
       "        }\n",
       "\n",
       "    this.imageObj.onload = function() {\n",
       "            if (fig.image_mode == 'full') {\n",
       "                // Full images could contain transparency (where diff images\n",
       "                // almost always do), so we need to clear the canvas so that\n",
       "                // there is no ghosting.\n",
       "                fig.context.clearRect(0, 0, fig.canvas.width, fig.canvas.height);\n",
       "            }\n",
       "            fig.context.drawImage(fig.imageObj, 0, 0);\n",
       "        };\n",
       "\n",
       "    this.imageObj.onunload = function() {\n",
       "        this.ws.close();\n",
       "    }\n",
       "\n",
       "    this.ws.onmessage = this._make_on_message_function(this);\n",
       "\n",
       "    this.ondownload = ondownload;\n",
       "}\n",
       "\n",
       "mpl.figure.prototype._init_header = function() {\n",
       "    var titlebar = $(\n",
       "        '<div class=\"ui-dialog-titlebar ui-widget-header ui-corner-all ' +\n",
       "        'ui-helper-clearfix\"/>');\n",
       "    var titletext = $(\n",
       "        '<div class=\"ui-dialog-title\" style=\"width: 100%; ' +\n",
       "        'text-align: center; padding: 3px;\"/>');\n",
       "    titlebar.append(titletext)\n",
       "    this.root.append(titlebar);\n",
       "    this.header = titletext[0];\n",
       "}\n",
       "\n",
       "\n",
       "\n",
       "mpl.figure.prototype._canvas_extra_style = function(canvas_div) {\n",
       "\n",
       "}\n",
       "\n",
       "\n",
       "mpl.figure.prototype._root_extra_style = function(canvas_div) {\n",
       "\n",
       "}\n",
       "\n",
       "mpl.figure.prototype._init_canvas = function() {\n",
       "    var fig = this;\n",
       "\n",
       "    var canvas_div = $('<div/>');\n",
       "\n",
       "    canvas_div.attr('style', 'position: relative; clear: both; outline: 0');\n",
       "\n",
       "    function canvas_keyboard_event(event) {\n",
       "        return fig.key_event(event, event['data']);\n",
       "    }\n",
       "\n",
       "    canvas_div.keydown('key_press', canvas_keyboard_event);\n",
       "    canvas_div.keyup('key_release', canvas_keyboard_event);\n",
       "    this.canvas_div = canvas_div\n",
       "    this._canvas_extra_style(canvas_div)\n",
       "    this.root.append(canvas_div);\n",
       "\n",
       "    var canvas = $('<canvas/>');\n",
       "    canvas.addClass('mpl-canvas');\n",
       "    canvas.attr('style', \"left: 0; top: 0; z-index: 0; outline: 0\")\n",
       "\n",
       "    this.canvas = canvas[0];\n",
       "    this.context = canvas[0].getContext(\"2d\");\n",
       "\n",
       "    var rubberband = $('<canvas/>');\n",
       "    rubberband.attr('style', \"position: absolute; left: 0; top: 0; z-index: 1;\")\n",
       "\n",
       "    var pass_mouse_events = true;\n",
       "\n",
       "    canvas_div.resizable({\n",
       "        start: function(event, ui) {\n",
       "            pass_mouse_events = false;\n",
       "        },\n",
       "        resize: function(event, ui) {\n",
       "            fig.request_resize(ui.size.width, ui.size.height);\n",
       "        },\n",
       "        stop: function(event, ui) {\n",
       "            pass_mouse_events = true;\n",
       "            fig.request_resize(ui.size.width, ui.size.height);\n",
       "        },\n",
       "    });\n",
       "\n",
       "    function mouse_event_fn(event) {\n",
       "        if (pass_mouse_events)\n",
       "            return fig.mouse_event(event, event['data']);\n",
       "    }\n",
       "\n",
       "    rubberband.mousedown('button_press', mouse_event_fn);\n",
       "    rubberband.mouseup('button_release', mouse_event_fn);\n",
       "    // Throttle sequential mouse events to 1 every 20ms.\n",
       "    rubberband.mousemove('motion_notify', mouse_event_fn);\n",
       "\n",
       "    rubberband.mouseenter('figure_enter', mouse_event_fn);\n",
       "    rubberband.mouseleave('figure_leave', mouse_event_fn);\n",
       "\n",
       "    canvas_div.on(\"wheel\", function (event) {\n",
       "        event = event.originalEvent;\n",
       "        event['data'] = 'scroll'\n",
       "        if (event.deltaY < 0) {\n",
       "            event.step = 1;\n",
       "        } else {\n",
       "            event.step = -1;\n",
       "        }\n",
       "        mouse_event_fn(event);\n",
       "    });\n",
       "\n",
       "    canvas_div.append(canvas);\n",
       "    canvas_div.append(rubberband);\n",
       "\n",
       "    this.rubberband = rubberband;\n",
       "    this.rubberband_canvas = rubberband[0];\n",
       "    this.rubberband_context = rubberband[0].getContext(\"2d\");\n",
       "    this.rubberband_context.strokeStyle = \"#000000\";\n",
       "\n",
       "    this._resize_canvas = function(width, height) {\n",
       "        // Keep the size of the canvas, canvas container, and rubber band\n",
       "        // canvas in synch.\n",
       "        canvas_div.css('width', width)\n",
       "        canvas_div.css('height', height)\n",
       "\n",
       "        canvas.attr('width', width);\n",
       "        canvas.attr('height', height);\n",
       "\n",
       "        rubberband.attr('width', width);\n",
       "        rubberband.attr('height', height);\n",
       "    }\n",
       "\n",
       "    // Set the figure to an initial 600x600px, this will subsequently be updated\n",
       "    // upon first draw.\n",
       "    this._resize_canvas(600, 600);\n",
       "\n",
       "    // Disable right mouse context menu.\n",
       "    $(this.rubberband_canvas).bind(\"contextmenu\",function(e){\n",
       "        return false;\n",
       "    });\n",
       "\n",
       "    function set_focus () {\n",
       "        canvas.focus();\n",
       "        canvas_div.focus();\n",
       "    }\n",
       "\n",
       "    window.setTimeout(set_focus, 100);\n",
       "}\n",
       "\n",
       "mpl.figure.prototype._init_toolbar = function() {\n",
       "    var fig = this;\n",
       "\n",
       "    var nav_element = $('<div/>')\n",
       "    nav_element.attr('style', 'width: 100%');\n",
       "    this.root.append(nav_element);\n",
       "\n",
       "    // Define a callback function for later on.\n",
       "    function toolbar_event(event) {\n",
       "        return fig.toolbar_button_onclick(event['data']);\n",
       "    }\n",
       "    function toolbar_mouse_event(event) {\n",
       "        return fig.toolbar_button_onmouseover(event['data']);\n",
       "    }\n",
       "\n",
       "    for(var toolbar_ind in mpl.toolbar_items) {\n",
       "        var name = mpl.toolbar_items[toolbar_ind][0];\n",
       "        var tooltip = mpl.toolbar_items[toolbar_ind][1];\n",
       "        var image = mpl.toolbar_items[toolbar_ind][2];\n",
       "        var method_name = mpl.toolbar_items[toolbar_ind][3];\n",
       "\n",
       "        if (!name) {\n",
       "            // put a spacer in here.\n",
       "            continue;\n",
       "        }\n",
       "        var button = $('<button/>');\n",
       "        button.addClass('ui-button ui-widget ui-state-default ui-corner-all ' +\n",
       "                        'ui-button-icon-only');\n",
       "        button.attr('role', 'button');\n",
       "        button.attr('aria-disabled', 'false');\n",
       "        button.click(method_name, toolbar_event);\n",
       "        button.mouseover(tooltip, toolbar_mouse_event);\n",
       "\n",
       "        var icon_img = $('<span/>');\n",
       "        icon_img.addClass('ui-button-icon-primary ui-icon');\n",
       "        icon_img.addClass(image);\n",
       "        icon_img.addClass('ui-corner-all');\n",
       "\n",
       "        var tooltip_span = $('<span/>');\n",
       "        tooltip_span.addClass('ui-button-text');\n",
       "        tooltip_span.html(tooltip);\n",
       "\n",
       "        button.append(icon_img);\n",
       "        button.append(tooltip_span);\n",
       "\n",
       "        nav_element.append(button);\n",
       "    }\n",
       "\n",
       "    var fmt_picker_span = $('<span/>');\n",
       "\n",
       "    var fmt_picker = $('<select/>');\n",
       "    fmt_picker.addClass('mpl-toolbar-option ui-widget ui-widget-content');\n",
       "    fmt_picker_span.append(fmt_picker);\n",
       "    nav_element.append(fmt_picker_span);\n",
       "    this.format_dropdown = fmt_picker[0];\n",
       "\n",
       "    for (var ind in mpl.extensions) {\n",
       "        var fmt = mpl.extensions[ind];\n",
       "        var option = $(\n",
       "            '<option/>', {selected: fmt === mpl.default_extension}).html(fmt);\n",
       "        fmt_picker.append(option)\n",
       "    }\n",
       "\n",
       "    // Add hover states to the ui-buttons\n",
       "    $( \".ui-button\" ).hover(\n",
       "        function() { $(this).addClass(\"ui-state-hover\");},\n",
       "        function() { $(this).removeClass(\"ui-state-hover\");}\n",
       "    );\n",
       "\n",
       "    var status_bar = $('<span class=\"mpl-message\"/>');\n",
       "    nav_element.append(status_bar);\n",
       "    this.message = status_bar[0];\n",
       "}\n",
       "\n",
       "mpl.figure.prototype.request_resize = function(x_pixels, y_pixels) {\n",
       "    // Request matplotlib to resize the figure. Matplotlib will then trigger a resize in the client,\n",
       "    // which will in turn request a refresh of the image.\n",
       "    this.send_message('resize', {'width': x_pixels, 'height': y_pixels});\n",
       "}\n",
       "\n",
       "mpl.figure.prototype.send_message = function(type, properties) {\n",
       "    properties['type'] = type;\n",
       "    properties['figure_id'] = this.id;\n",
       "    this.ws.send(JSON.stringify(properties));\n",
       "}\n",
       "\n",
       "mpl.figure.prototype.send_draw_message = function() {\n",
       "    if (!this.waiting) {\n",
       "        this.waiting = true;\n",
       "        this.ws.send(JSON.stringify({type: \"draw\", figure_id: this.id}));\n",
       "    }\n",
       "}\n",
       "\n",
       "\n",
       "mpl.figure.prototype.handle_save = function(fig, msg) {\n",
       "    var format_dropdown = fig.format_dropdown;\n",
       "    var format = format_dropdown.options[format_dropdown.selectedIndex].value;\n",
       "    fig.ondownload(fig, format);\n",
       "}\n",
       "\n",
       "\n",
       "mpl.figure.prototype.handle_resize = function(fig, msg) {\n",
       "    var size = msg['size'];\n",
       "    if (size[0] != fig.canvas.width || size[1] != fig.canvas.height) {\n",
       "        fig._resize_canvas(size[0], size[1]);\n",
       "        fig.send_message(\"refresh\", {});\n",
       "    };\n",
       "}\n",
       "\n",
       "mpl.figure.prototype.handle_rubberband = function(fig, msg) {\n",
       "    var x0 = msg['x0'];\n",
       "    var y0 = fig.canvas.height - msg['y0'];\n",
       "    var x1 = msg['x1'];\n",
       "    var y1 = fig.canvas.height - msg['y1'];\n",
       "    x0 = Math.floor(x0) + 0.5;\n",
       "    y0 = Math.floor(y0) + 0.5;\n",
       "    x1 = Math.floor(x1) + 0.5;\n",
       "    y1 = Math.floor(y1) + 0.5;\n",
       "    var min_x = Math.min(x0, x1);\n",
       "    var min_y = Math.min(y0, y1);\n",
       "    var width = Math.abs(x1 - x0);\n",
       "    var height = Math.abs(y1 - y0);\n",
       "\n",
       "    fig.rubberband_context.clearRect(\n",
       "        0, 0, fig.canvas.width, fig.canvas.height);\n",
       "\n",
       "    fig.rubberband_context.strokeRect(min_x, min_y, width, height);\n",
       "}\n",
       "\n",
       "mpl.figure.prototype.handle_figure_label = function(fig, msg) {\n",
       "    // Updates the figure title.\n",
       "    fig.header.textContent = msg['label'];\n",
       "}\n",
       "\n",
       "mpl.figure.prototype.handle_cursor = function(fig, msg) {\n",
       "    var cursor = msg['cursor'];\n",
       "    switch(cursor)\n",
       "    {\n",
       "    case 0:\n",
       "        cursor = 'pointer';\n",
       "        break;\n",
       "    case 1:\n",
       "        cursor = 'default';\n",
       "        break;\n",
       "    case 2:\n",
       "        cursor = 'crosshair';\n",
       "        break;\n",
       "    case 3:\n",
       "        cursor = 'move';\n",
       "        break;\n",
       "    }\n",
       "    fig.rubberband_canvas.style.cursor = cursor;\n",
       "}\n",
       "\n",
       "mpl.figure.prototype.handle_message = function(fig, msg) {\n",
       "    fig.message.textContent = msg['message'];\n",
       "}\n",
       "\n",
       "mpl.figure.prototype.handle_draw = function(fig, msg) {\n",
       "    // Request the server to send over a new figure.\n",
       "    fig.send_draw_message();\n",
       "}\n",
       "\n",
       "mpl.figure.prototype.handle_image_mode = function(fig, msg) {\n",
       "    fig.image_mode = msg['mode'];\n",
       "}\n",
       "\n",
       "mpl.figure.prototype.updated_canvas_event = function() {\n",
       "    // Called whenever the canvas gets updated.\n",
       "    this.send_message(\"ack\", {});\n",
       "}\n",
       "\n",
       "// A function to construct a web socket function for onmessage handling.\n",
       "// Called in the figure constructor.\n",
       "mpl.figure.prototype._make_on_message_function = function(fig) {\n",
       "    return function socket_on_message(evt) {\n",
       "        if (evt.data instanceof Blob) {\n",
       "            /* FIXME: We get \"Resource interpreted as Image but\n",
       "             * transferred with MIME type text/plain:\" errors on\n",
       "             * Chrome.  But how to set the MIME type?  It doesn't seem\n",
       "             * to be part of the websocket stream */\n",
       "            evt.data.type = \"image/png\";\n",
       "\n",
       "            /* Free the memory for the previous frames */\n",
       "            if (fig.imageObj.src) {\n",
       "                (window.URL || window.webkitURL).revokeObjectURL(\n",
       "                    fig.imageObj.src);\n",
       "            }\n",
       "\n",
       "            fig.imageObj.src = (window.URL || window.webkitURL).createObjectURL(\n",
       "                evt.data);\n",
       "            fig.updated_canvas_event();\n",
       "            fig.waiting = false;\n",
       "            return;\n",
       "        }\n",
       "        else if (typeof evt.data === 'string' && evt.data.slice(0, 21) == \"data:image/png;base64\") {\n",
       "            fig.imageObj.src = evt.data;\n",
       "            fig.updated_canvas_event();\n",
       "            fig.waiting = false;\n",
       "            return;\n",
       "        }\n",
       "\n",
       "        var msg = JSON.parse(evt.data);\n",
       "        var msg_type = msg['type'];\n",
       "\n",
       "        // Call the  \"handle_{type}\" callback, which takes\n",
       "        // the figure and JSON message as its only arguments.\n",
       "        try {\n",
       "            var callback = fig[\"handle_\" + msg_type];\n",
       "        } catch (e) {\n",
       "            console.log(\"No handler for the '\" + msg_type + \"' message type: \", msg);\n",
       "            return;\n",
       "        }\n",
       "\n",
       "        if (callback) {\n",
       "            try {\n",
       "                // console.log(\"Handling '\" + msg_type + \"' message: \", msg);\n",
       "                callback(fig, msg);\n",
       "            } catch (e) {\n",
       "                console.log(\"Exception inside the 'handler_\" + msg_type + \"' callback:\", e, e.stack, msg);\n",
       "            }\n",
       "        }\n",
       "    };\n",
       "}\n",
       "\n",
       "// from http://stackoverflow.com/questions/1114465/getting-mouse-location-in-canvas\n",
       "mpl.findpos = function(e) {\n",
       "    //this section is from http://www.quirksmode.org/js/events_properties.html\n",
       "    var targ;\n",
       "    if (!e)\n",
       "        e = window.event;\n",
       "    if (e.target)\n",
       "        targ = e.target;\n",
       "    else if (e.srcElement)\n",
       "        targ = e.srcElement;\n",
       "    if (targ.nodeType == 3) // defeat Safari bug\n",
       "        targ = targ.parentNode;\n",
       "\n",
       "    // jQuery normalizes the pageX and pageY\n",
       "    // pageX,Y are the mouse positions relative to the document\n",
       "    // offset() returns the position of the element relative to the document\n",
       "    var x = e.pageX - $(targ).offset().left;\n",
       "    var y = e.pageY - $(targ).offset().top;\n",
       "\n",
       "    return {\"x\": x, \"y\": y};\n",
       "};\n",
       "\n",
       "/*\n",
       " * return a copy of an object with only non-object keys\n",
       " * we need this to avoid circular references\n",
       " * http://stackoverflow.com/a/24161582/3208463\n",
       " */\n",
       "function simpleKeys (original) {\n",
       "  return Object.keys(original).reduce(function (obj, key) {\n",
       "    if (typeof original[key] !== 'object')\n",
       "        obj[key] = original[key]\n",
       "    return obj;\n",
       "  }, {});\n",
       "}\n",
       "\n",
       "mpl.figure.prototype.mouse_event = function(event, name) {\n",
       "    var canvas_pos = mpl.findpos(event)\n",
       "\n",
       "    if (name === 'button_press')\n",
       "    {\n",
       "        this.canvas.focus();\n",
       "        this.canvas_div.focus();\n",
       "    }\n",
       "\n",
       "    var x = canvas_pos.x;\n",
       "    var y = canvas_pos.y;\n",
       "\n",
       "    this.send_message(name, {x: x, y: y, button: event.button,\n",
       "                             step: event.step,\n",
       "                             guiEvent: simpleKeys(event)});\n",
       "\n",
       "    /* This prevents the web browser from automatically changing to\n",
       "     * the text insertion cursor when the button is pressed.  We want\n",
       "     * to control all of the cursor setting manually through the\n",
       "     * 'cursor' event from matplotlib */\n",
       "    event.preventDefault();\n",
       "    return false;\n",
       "}\n",
       "\n",
       "mpl.figure.prototype._key_event_extra = function(event, name) {\n",
       "    // Handle any extra behaviour associated with a key event\n",
       "}\n",
       "\n",
       "mpl.figure.prototype.key_event = function(event, name) {\n",
       "\n",
       "    // Prevent repeat events\n",
       "    if (name == 'key_press')\n",
       "    {\n",
       "        if (event.which === this._key)\n",
       "            return;\n",
       "        else\n",
       "            this._key = event.which;\n",
       "    }\n",
       "    if (name == 'key_release')\n",
       "        this._key = null;\n",
       "\n",
       "    var value = '';\n",
       "    if (event.ctrlKey && event.which != 17)\n",
       "        value += \"ctrl+\";\n",
       "    if (event.altKey && event.which != 18)\n",
       "        value += \"alt+\";\n",
       "    if (event.shiftKey && event.which != 16)\n",
       "        value += \"shift+\";\n",
       "\n",
       "    value += 'k';\n",
       "    value += event.which.toString();\n",
       "\n",
       "    this._key_event_extra(event, name);\n",
       "\n",
       "    this.send_message(name, {key: value,\n",
       "                             guiEvent: simpleKeys(event)});\n",
       "    return false;\n",
       "}\n",
       "\n",
       "mpl.figure.prototype.toolbar_button_onclick = function(name) {\n",
       "    if (name == 'download') {\n",
       "        this.handle_save(this, null);\n",
       "    } else {\n",
       "        this.send_message(\"toolbar_button\", {name: name});\n",
       "    }\n",
       "};\n",
       "\n",
       "mpl.figure.prototype.toolbar_button_onmouseover = function(tooltip) {\n",
       "    this.message.textContent = tooltip;\n",
       "};\n",
       "mpl.toolbar_items = [[\"Home\", \"Reset original view\", \"fa fa-home icon-home\", \"home\"], [\"Back\", \"Back to  previous view\", \"fa fa-arrow-left icon-arrow-left\", \"back\"], [\"Forward\", \"Forward to next view\", \"fa fa-arrow-right icon-arrow-right\", \"forward\"], [\"\", \"\", \"\", \"\"], [\"Pan\", \"Pan axes with left mouse, zoom with right\", \"fa fa-arrows icon-move\", \"pan\"], [\"Zoom\", \"Zoom to rectangle\", \"fa fa-square-o icon-check-empty\", \"zoom\"], [\"\", \"\", \"\", \"\"], [\"Download\", \"Download plot\", \"fa fa-floppy-o icon-save\", \"download\"]];\n",
       "\n",
       "mpl.extensions = [\"eps\", \"pdf\", \"png\", \"ps\", \"raw\", \"svg\"];\n",
       "\n",
       "mpl.default_extension = \"png\";var comm_websocket_adapter = function(comm) {\n",
       "    // Create a \"websocket\"-like object which calls the given IPython comm\n",
       "    // object with the appropriate methods. Currently this is a non binary\n",
       "    // socket, so there is still some room for performance tuning.\n",
       "    var ws = {};\n",
       "\n",
       "    ws.close = function() {\n",
       "        comm.close()\n",
       "    };\n",
       "    ws.send = function(m) {\n",
       "        //console.log('sending', m);\n",
       "        comm.send(m);\n",
       "    };\n",
       "    // Register the callback with on_msg.\n",
       "    comm.on_msg(function(msg) {\n",
       "        //console.log('receiving', msg['content']['data'], msg);\n",
       "        // Pass the mpl event to the overriden (by mpl) onmessage function.\n",
       "        ws.onmessage(msg['content']['data'])\n",
       "    });\n",
       "    return ws;\n",
       "}\n",
       "\n",
       "mpl.mpl_figure_comm = function(comm, msg) {\n",
       "    // This is the function which gets called when the mpl process\n",
       "    // starts-up an IPython Comm through the \"matplotlib\" channel.\n",
       "\n",
       "    var id = msg.content.data.id;\n",
       "    // Get hold of the div created by the display call when the Comm\n",
       "    // socket was opened in Python.\n",
       "    var element = $(\"#\" + id);\n",
       "    var ws_proxy = comm_websocket_adapter(comm)\n",
       "\n",
       "    function ondownload(figure, format) {\n",
       "        window.open(figure.imageObj.src);\n",
       "    }\n",
       "\n",
       "    var fig = new mpl.figure(id, ws_proxy,\n",
       "                           ondownload,\n",
       "                           element.get(0));\n",
       "\n",
       "    // Call onopen now - mpl needs it, as it is assuming we've passed it a real\n",
       "    // web socket which is closed, not our websocket->open comm proxy.\n",
       "    ws_proxy.onopen();\n",
       "\n",
       "    fig.parent_element = element.get(0);\n",
       "    fig.cell_info = mpl.find_output_cell(\"<div id='\" + id + \"'></div>\");\n",
       "    if (!fig.cell_info) {\n",
       "        console.error(\"Failed to find cell for figure\", id, fig);\n",
       "        return;\n",
       "    }\n",
       "\n",
       "    var output_index = fig.cell_info[2]\n",
       "    var cell = fig.cell_info[0];\n",
       "\n",
       "};\n",
       "\n",
       "mpl.figure.prototype.handle_close = function(fig, msg) {\n",
       "    fig.root.unbind('remove')\n",
       "\n",
       "    // Update the output cell to use the data from the current canvas.\n",
       "    fig.push_to_output();\n",
       "    var dataURL = fig.canvas.toDataURL();\n",
       "    // Re-enable the keyboard manager in IPython - without this line, in FF,\n",
       "    // the notebook keyboard shortcuts fail.\n",
       "    IPython.keyboard_manager.enable()\n",
       "    $(fig.parent_element).html('<img src=\"' + dataURL + '\">');\n",
       "    fig.close_ws(fig, msg);\n",
       "}\n",
       "\n",
       "mpl.figure.prototype.close_ws = function(fig, msg){\n",
       "    fig.send_message('closing', msg);\n",
       "    // fig.ws.close()\n",
       "}\n",
       "\n",
       "mpl.figure.prototype.push_to_output = function(remove_interactive) {\n",
       "    // Turn the data on the canvas into data in the output cell.\n",
       "    var dataURL = this.canvas.toDataURL();\n",
       "    this.cell_info[1]['text/html'] = '<img src=\"' + dataURL + '\">';\n",
       "}\n",
       "\n",
       "mpl.figure.prototype.updated_canvas_event = function() {\n",
       "    // Tell IPython that the notebook contents must change.\n",
       "    IPython.notebook.set_dirty(true);\n",
       "    this.send_message(\"ack\", {});\n",
       "    var fig = this;\n",
       "    // Wait a second, then push the new image to the DOM so\n",
       "    // that it is saved nicely (might be nice to debounce this).\n",
       "    setTimeout(function () { fig.push_to_output() }, 1000);\n",
       "}\n",
       "\n",
       "mpl.figure.prototype._init_toolbar = function() {\n",
       "    var fig = this;\n",
       "\n",
       "    var nav_element = $('<div/>')\n",
       "    nav_element.attr('style', 'width: 100%');\n",
       "    this.root.append(nav_element);\n",
       "\n",
       "    // Define a callback function for later on.\n",
       "    function toolbar_event(event) {\n",
       "        return fig.toolbar_button_onclick(event['data']);\n",
       "    }\n",
       "    function toolbar_mouse_event(event) {\n",
       "        return fig.toolbar_button_onmouseover(event['data']);\n",
       "    }\n",
       "\n",
       "    for(var toolbar_ind in mpl.toolbar_items){\n",
       "        var name = mpl.toolbar_items[toolbar_ind][0];\n",
       "        var tooltip = mpl.toolbar_items[toolbar_ind][1];\n",
       "        var image = mpl.toolbar_items[toolbar_ind][2];\n",
       "        var method_name = mpl.toolbar_items[toolbar_ind][3];\n",
       "\n",
       "        if (!name) { continue; };\n",
       "\n",
       "        var button = $('<button class=\"btn btn-default\" href=\"#\" title=\"' + name + '\"><i class=\"fa ' + image + ' fa-lg\"></i></button>');\n",
       "        button.click(method_name, toolbar_event);\n",
       "        button.mouseover(tooltip, toolbar_mouse_event);\n",
       "        nav_element.append(button);\n",
       "    }\n",
       "\n",
       "    // Add the status bar.\n",
       "    var status_bar = $('<span class=\"mpl-message\" style=\"text-align:right; float: right;\"/>');\n",
       "    nav_element.append(status_bar);\n",
       "    this.message = status_bar[0];\n",
       "\n",
       "    // Add the close button to the window.\n",
       "    var buttongrp = $('<div class=\"btn-group inline pull-right\"></div>');\n",
       "    var button = $('<button class=\"btn btn-mini btn-primary\" href=\"#\" title=\"Stop Interaction\"><i class=\"fa fa-power-off icon-remove icon-large\"></i></button>');\n",
       "    button.click(function (evt) { fig.handle_close(fig, {}); } );\n",
       "    button.mouseover('Stop Interaction', toolbar_mouse_event);\n",
       "    buttongrp.append(button);\n",
       "    var titlebar = this.root.find($('.ui-dialog-titlebar'));\n",
       "    titlebar.prepend(buttongrp);\n",
       "}\n",
       "\n",
       "mpl.figure.prototype._root_extra_style = function(el){\n",
       "    var fig = this\n",
       "    el.on(\"remove\", function(){\n",
       "\tfig.close_ws(fig, {});\n",
       "    });\n",
       "}\n",
       "\n",
       "mpl.figure.prototype._canvas_extra_style = function(el){\n",
       "    // this is important to make the div 'focusable\n",
       "    el.attr('tabindex', 0)\n",
       "    // reach out to IPython and tell the keyboard manager to turn it's self\n",
       "    // off when our div gets focus\n",
       "\n",
       "    // location in version 3\n",
       "    if (IPython.notebook.keyboard_manager) {\n",
       "        IPython.notebook.keyboard_manager.register_events(el);\n",
       "    }\n",
       "    else {\n",
       "        // location in version 2\n",
       "        IPython.keyboard_manager.register_events(el);\n",
       "    }\n",
       "\n",
       "}\n",
       "\n",
       "mpl.figure.prototype._key_event_extra = function(event, name) {\n",
       "    var manager = IPython.notebook.keyboard_manager;\n",
       "    if (!manager)\n",
       "        manager = IPython.keyboard_manager;\n",
       "\n",
       "    // Check for shift+enter\n",
       "    if (event.shiftKey && event.which == 13) {\n",
       "        this.canvas_div.blur();\n",
       "        event.shiftKey = false;\n",
       "        // Send a \"J\" for go to next cell\n",
       "        event.which = 74;\n",
       "        event.keyCode = 74;\n",
       "        manager.command_mode();\n",
       "        manager.handle_keydown(event);\n",
       "    }\n",
       "}\n",
       "\n",
       "mpl.figure.prototype.handle_save = function(fig, msg) {\n",
       "    fig.ondownload(fig, null);\n",
       "}\n",
       "\n",
       "\n",
       "mpl.find_output_cell = function(html_output) {\n",
       "    // Return the cell and output element which can be found *uniquely* in the notebook.\n",
       "    // Note - this is a bit hacky, but it is done because the \"notebook_saving.Notebook\"\n",
       "    // IPython event is triggered only after the cells have been serialised, which for\n",
       "    // our purposes (turning an active figure into a static one), is too late.\n",
       "    var cells = IPython.notebook.get_cells();\n",
       "    var ncells = cells.length;\n",
       "    for (var i=0; i<ncells; i++) {\n",
       "        var cell = cells[i];\n",
       "        if (cell.cell_type === 'code'){\n",
       "            for (var j=0; j<cell.output_area.outputs.length; j++) {\n",
       "                var data = cell.output_area.outputs[j];\n",
       "                if (data.data) {\n",
       "                    // IPython >= 3 moved mimebundle to data attribute of output\n",
       "                    data = data.data;\n",
       "                }\n",
       "                if (data['text/html'] == html_output) {\n",
       "                    return [cell, data, j];\n",
       "                }\n",
       "            }\n",
       "        }\n",
       "    }\n",
       "}\n",
       "\n",
       "// Register the function which deals with the matplotlib target/channel.\n",
       "// The kernel may be null if the page has been refreshed.\n",
       "if (IPython.notebook.kernel != null) {\n",
       "    IPython.notebook.kernel.comm_manager.register_target('matplotlib', mpl.mpl_figure_comm);\n",
       "}\n"
      ],
      "text/plain": [
       "<IPython.core.display.Javascript object>"
      ]
     },
     "metadata": {},
     "output_type": "display_data"
    },
    {
     "data": {
      "text/html": [
       "<img src=\"data:image/png;base64,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\">"
      ],
      "text/plain": [
       "<IPython.core.display.HTML object>"
      ]
     },
     "metadata": {},
     "output_type": "display_data"
    }
   ],
   "source": [
    "# initial conditions\n",
    "# Particle position and velocity\n",
    "R = np.array((0.0,0.0,0.01))\n",
    "V = np.array((0.0,0.0,0.0))\n",
    "\n",
    "# Ring radius\n",
    "ring_r = 1.0\n",
    "# Ring sections\n",
    "ring_steps = 50\n",
    "# Charge factor = qQ/epsilon_0\n",
    "q = 10000.0\n",
    "\n",
    "# Time step\n",
    "h = 10.0**-3\n",
    "N = 1500\n",
    "\n",
    "# Animation frame change\n",
    "N_output = 10\n",
    "\n",
    "Anim = cm.Animation(a,q,ring_r,ring_steps,h,N,N_output)\n",
    "Anim.create_plot(R,V)"
   ]
  },
  {
   "cell_type": "code",
   "execution_count": 5,
   "metadata": {
    "collapsed": false
   },
   "outputs": [
    {
     "name": "stdout",
     "output_type": "stream",
     "text": [
      "Commencing RK4 routine...\n",
      "RK4 time stepping has been completed\n",
      "No FuncAnimation to stop\n"
     ]
    }
   ],
   "source": [
    "Anim.create_sliders()"
   ]
  },
  {
   "cell_type": "markdown",
   "metadata": {
    "collapsed": true
   },
   "source": [
    "The left hand graph shows the position of the particle in red and the ring in blue. The right hand graph shows the z value of the particle as a function of time (blue for actual position and red shows SHM approximation). The two sliders control the charge factor (q Q / epsilon_0) and the height from which the particle is dropped.\n",
    "\n",
    "Note the left hand graph can be dragged to reposition the view point.\n",
    "\n",
    "For small particle heights the SHM approximation is good but as the dropping height becomes comparable to the the size of the ring, it breaks down.\n",
    "\n",
    "Some interesting/fun simulations to try:\n",
    "\n",
    "    Initial position R = (0.01,0.01,0.5)\n",
    "    \n",
    "    Initial velocity - at rest\n",
    "    \n",
    "    Charge factor 10,000\n",
    "    \n",
    "    Ring sections 50 and ring radius 1\n",
    "    \n",
    "-> This produces some nice looping motion about the ring.\n",
    "\n",
    "Now looking at the orbit of the charged particle about 2 fixed charges, at close distances there should be a linear restoring force so closed orbits must be possible. However at larger distances this should no longer hold and anharmonic behaviour will occur."
   ]
  },
  {
   "cell_type": "code",
   "execution_count": 6,
   "metadata": {
    "collapsed": false
   },
   "outputs": [
    {
     "data": {
      "application/javascript": [
       "/* Put everything inside the global mpl namespace */\n",
       "window.mpl = {};\n",
       "\n",
       "mpl.get_websocket_type = function() {\n",
       "    if (typeof(WebSocket) !== 'undefined') {\n",
       "        return WebSocket;\n",
       "    } else if (typeof(MozWebSocket) !== 'undefined') {\n",
       "        return MozWebSocket;\n",
       "    } else {\n",
       "        alert('Your browser does not have WebSocket support.' +\n",
       "              'Please try Chrome, Safari or Firefox ≥ 6. ' +\n",
       "              'Firefox 4 and 5 are also supported but you ' +\n",
       "              'have to enable WebSockets in about:config.');\n",
       "    };\n",
       "}\n",
       "\n",
       "mpl.figure = function(figure_id, websocket, ondownload, parent_element) {\n",
       "    this.id = figure_id;\n",
       "\n",
       "    this.ws = websocket;\n",
       "\n",
       "    this.supports_binary = (this.ws.binaryType != undefined);\n",
       "\n",
       "    if (!this.supports_binary) {\n",
       "        var warnings = document.getElementById(\"mpl-warnings\");\n",
       "        if (warnings) {\n",
       "            warnings.style.display = 'block';\n",
       "            warnings.textContent = (\n",
       "                \"This browser does not support binary websocket messages. \" +\n",
       "                    \"Performance may be slow.\");\n",
       "        }\n",
       "    }\n",
       "\n",
       "    this.imageObj = new Image();\n",
       "\n",
       "    this.context = undefined;\n",
       "    this.message = undefined;\n",
       "    this.canvas = undefined;\n",
       "    this.rubberband_canvas = undefined;\n",
       "    this.rubberband_context = undefined;\n",
       "    this.format_dropdown = undefined;\n",
       "\n",
       "    this.image_mode = 'full';\n",
       "\n",
       "    this.root = $('<div/>');\n",
       "    this._root_extra_style(this.root)\n",
       "    this.root.attr('style', 'display: inline-block');\n",
       "\n",
       "    $(parent_element).append(this.root);\n",
       "\n",
       "    this._init_header(this);\n",
       "    this._init_canvas(this);\n",
       "    this._init_toolbar(this);\n",
       "\n",
       "    var fig = this;\n",
       "\n",
       "    this.waiting = false;\n",
       "\n",
       "    this.ws.onopen =  function () {\n",
       "            fig.send_message(\"supports_binary\", {value: fig.supports_binary});\n",
       "            fig.send_message(\"send_image_mode\", {});\n",
       "            fig.send_message(\"refresh\", {});\n",
       "        }\n",
       "\n",
       "    this.imageObj.onload = function() {\n",
       "            if (fig.image_mode == 'full') {\n",
       "                // Full images could contain transparency (where diff images\n",
       "                // almost always do), so we need to clear the canvas so that\n",
       "                // there is no ghosting.\n",
       "                fig.context.clearRect(0, 0, fig.canvas.width, fig.canvas.height);\n",
       "            }\n",
       "            fig.context.drawImage(fig.imageObj, 0, 0);\n",
       "        };\n",
       "\n",
       "    this.imageObj.onunload = function() {\n",
       "        this.ws.close();\n",
       "    }\n",
       "\n",
       "    this.ws.onmessage = this._make_on_message_function(this);\n",
       "\n",
       "    this.ondownload = ondownload;\n",
       "}\n",
       "\n",
       "mpl.figure.prototype._init_header = function() {\n",
       "    var titlebar = $(\n",
       "        '<div class=\"ui-dialog-titlebar ui-widget-header ui-corner-all ' +\n",
       "        'ui-helper-clearfix\"/>');\n",
       "    var titletext = $(\n",
       "        '<div class=\"ui-dialog-title\" style=\"width: 100%; ' +\n",
       "        'text-align: center; padding: 3px;\"/>');\n",
       "    titlebar.append(titletext)\n",
       "    this.root.append(titlebar);\n",
       "    this.header = titletext[0];\n",
       "}\n",
       "\n",
       "\n",
       "\n",
       "mpl.figure.prototype._canvas_extra_style = function(canvas_div) {\n",
       "\n",
       "}\n",
       "\n",
       "\n",
       "mpl.figure.prototype._root_extra_style = function(canvas_div) {\n",
       "\n",
       "}\n",
       "\n",
       "mpl.figure.prototype._init_canvas = function() {\n",
       "    var fig = this;\n",
       "\n",
       "    var canvas_div = $('<div/>');\n",
       "\n",
       "    canvas_div.attr('style', 'position: relative; clear: both; outline: 0');\n",
       "\n",
       "    function canvas_keyboard_event(event) {\n",
       "        return fig.key_event(event, event['data']);\n",
       "    }\n",
       "\n",
       "    canvas_div.keydown('key_press', canvas_keyboard_event);\n",
       "    canvas_div.keyup('key_release', canvas_keyboard_event);\n",
       "    this.canvas_div = canvas_div\n",
       "    this._canvas_extra_style(canvas_div)\n",
       "    this.root.append(canvas_div);\n",
       "\n",
       "    var canvas = $('<canvas/>');\n",
       "    canvas.addClass('mpl-canvas');\n",
       "    canvas.attr('style', \"left: 0; top: 0; z-index: 0; outline: 0\")\n",
       "\n",
       "    this.canvas = canvas[0];\n",
       "    this.context = canvas[0].getContext(\"2d\");\n",
       "\n",
       "    var rubberband = $('<canvas/>');\n",
       "    rubberband.attr('style', \"position: absolute; left: 0; top: 0; z-index: 1;\")\n",
       "\n",
       "    var pass_mouse_events = true;\n",
       "\n",
       "    canvas_div.resizable({\n",
       "        start: function(event, ui) {\n",
       "            pass_mouse_events = false;\n",
       "        },\n",
       "        resize: function(event, ui) {\n",
       "            fig.request_resize(ui.size.width, ui.size.height);\n",
       "        },\n",
       "        stop: function(event, ui) {\n",
       "            pass_mouse_events = true;\n",
       "            fig.request_resize(ui.size.width, ui.size.height);\n",
       "        },\n",
       "    });\n",
       "\n",
       "    function mouse_event_fn(event) {\n",
       "        if (pass_mouse_events)\n",
       "            return fig.mouse_event(event, event['data']);\n",
       "    }\n",
       "\n",
       "    rubberband.mousedown('button_press', mouse_event_fn);\n",
       "    rubberband.mouseup('button_release', mouse_event_fn);\n",
       "    // Throttle sequential mouse events to 1 every 20ms.\n",
       "    rubberband.mousemove('motion_notify', mouse_event_fn);\n",
       "\n",
       "    rubberband.mouseenter('figure_enter', mouse_event_fn);\n",
       "    rubberband.mouseleave('figure_leave', mouse_event_fn);\n",
       "\n",
       "    canvas_div.on(\"wheel\", function (event) {\n",
       "        event = event.originalEvent;\n",
       "        event['data'] = 'scroll'\n",
       "        if (event.deltaY < 0) {\n",
       "            event.step = 1;\n",
       "        } else {\n",
       "            event.step = -1;\n",
       "        }\n",
       "        mouse_event_fn(event);\n",
       "    });\n",
       "\n",
       "    canvas_div.append(canvas);\n",
       "    canvas_div.append(rubberband);\n",
       "\n",
       "    this.rubberband = rubberband;\n",
       "    this.rubberband_canvas = rubberband[0];\n",
       "    this.rubberband_context = rubberband[0].getContext(\"2d\");\n",
       "    this.rubberband_context.strokeStyle = \"#000000\";\n",
       "\n",
       "    this._resize_canvas = function(width, height) {\n",
       "        // Keep the size of the canvas, canvas container, and rubber band\n",
       "        // canvas in synch.\n",
       "        canvas_div.css('width', width)\n",
       "        canvas_div.css('height', height)\n",
       "\n",
       "        canvas.attr('width', width);\n",
       "        canvas.attr('height', height);\n",
       "\n",
       "        rubberband.attr('width', width);\n",
       "        rubberband.attr('height', height);\n",
       "    }\n",
       "\n",
       "    // Set the figure to an initial 600x600px, this will subsequently be updated\n",
       "    // upon first draw.\n",
       "    this._resize_canvas(600, 600);\n",
       "\n",
       "    // Disable right mouse context menu.\n",
       "    $(this.rubberband_canvas).bind(\"contextmenu\",function(e){\n",
       "        return false;\n",
       "    });\n",
       "\n",
       "    function set_focus () {\n",
       "        canvas.focus();\n",
       "        canvas_div.focus();\n",
       "    }\n",
       "\n",
       "    window.setTimeout(set_focus, 100);\n",
       "}\n",
       "\n",
       "mpl.figure.prototype._init_toolbar = function() {\n",
       "    var fig = this;\n",
       "\n",
       "    var nav_element = $('<div/>')\n",
       "    nav_element.attr('style', 'width: 100%');\n",
       "    this.root.append(nav_element);\n",
       "\n",
       "    // Define a callback function for later on.\n",
       "    function toolbar_event(event) {\n",
       "        return fig.toolbar_button_onclick(event['data']);\n",
       "    }\n",
       "    function toolbar_mouse_event(event) {\n",
       "        return fig.toolbar_button_onmouseover(event['data']);\n",
       "    }\n",
       "\n",
       "    for(var toolbar_ind in mpl.toolbar_items) {\n",
       "        var name = mpl.toolbar_items[toolbar_ind][0];\n",
       "        var tooltip = mpl.toolbar_items[toolbar_ind][1];\n",
       "        var image = mpl.toolbar_items[toolbar_ind][2];\n",
       "        var method_name = mpl.toolbar_items[toolbar_ind][3];\n",
       "\n",
       "        if (!name) {\n",
       "            // put a spacer in here.\n",
       "            continue;\n",
       "        }\n",
       "        var button = $('<button/>');\n",
       "        button.addClass('ui-button ui-widget ui-state-default ui-corner-all ' +\n",
       "                        'ui-button-icon-only');\n",
       "        button.attr('role', 'button');\n",
       "        button.attr('aria-disabled', 'false');\n",
       "        button.click(method_name, toolbar_event);\n",
       "        button.mouseover(tooltip, toolbar_mouse_event);\n",
       "\n",
       "        var icon_img = $('<span/>');\n",
       "        icon_img.addClass('ui-button-icon-primary ui-icon');\n",
       "        icon_img.addClass(image);\n",
       "        icon_img.addClass('ui-corner-all');\n",
       "\n",
       "        var tooltip_span = $('<span/>');\n",
       "        tooltip_span.addClass('ui-button-text');\n",
       "        tooltip_span.html(tooltip);\n",
       "\n",
       "        button.append(icon_img);\n",
       "        button.append(tooltip_span);\n",
       "\n",
       "        nav_element.append(button);\n",
       "    }\n",
       "\n",
       "    var fmt_picker_span = $('<span/>');\n",
       "\n",
       "    var fmt_picker = $('<select/>');\n",
       "    fmt_picker.addClass('mpl-toolbar-option ui-widget ui-widget-content');\n",
       "    fmt_picker_span.append(fmt_picker);\n",
       "    nav_element.append(fmt_picker_span);\n",
       "    this.format_dropdown = fmt_picker[0];\n",
       "\n",
       "    for (var ind in mpl.extensions) {\n",
       "        var fmt = mpl.extensions[ind];\n",
       "        var option = $(\n",
       "            '<option/>', {selected: fmt === mpl.default_extension}).html(fmt);\n",
       "        fmt_picker.append(option)\n",
       "    }\n",
       "\n",
       "    // Add hover states to the ui-buttons\n",
       "    $( \".ui-button\" ).hover(\n",
       "        function() { $(this).addClass(\"ui-state-hover\");},\n",
       "        function() { $(this).removeClass(\"ui-state-hover\");}\n",
       "    );\n",
       "\n",
       "    var status_bar = $('<span class=\"mpl-message\"/>');\n",
       "    nav_element.append(status_bar);\n",
       "    this.message = status_bar[0];\n",
       "}\n",
       "\n",
       "mpl.figure.prototype.request_resize = function(x_pixels, y_pixels) {\n",
       "    // Request matplotlib to resize the figure. Matplotlib will then trigger a resize in the client,\n",
       "    // which will in turn request a refresh of the image.\n",
       "    this.send_message('resize', {'width': x_pixels, 'height': y_pixels});\n",
       "}\n",
       "\n",
       "mpl.figure.prototype.send_message = function(type, properties) {\n",
       "    properties['type'] = type;\n",
       "    properties['figure_id'] = this.id;\n",
       "    this.ws.send(JSON.stringify(properties));\n",
       "}\n",
       "\n",
       "mpl.figure.prototype.send_draw_message = function() {\n",
       "    if (!this.waiting) {\n",
       "        this.waiting = true;\n",
       "        this.ws.send(JSON.stringify({type: \"draw\", figure_id: this.id}));\n",
       "    }\n",
       "}\n",
       "\n",
       "\n",
       "mpl.figure.prototype.handle_save = function(fig, msg) {\n",
       "    var format_dropdown = fig.format_dropdown;\n",
       "    var format = format_dropdown.options[format_dropdown.selectedIndex].value;\n",
       "    fig.ondownload(fig, format);\n",
       "}\n",
       "\n",
       "\n",
       "mpl.figure.prototype.handle_resize = function(fig, msg) {\n",
       "    var size = msg['size'];\n",
       "    if (size[0] != fig.canvas.width || size[1] != fig.canvas.height) {\n",
       "        fig._resize_canvas(size[0], size[1]);\n",
       "        fig.send_message(\"refresh\", {});\n",
       "    };\n",
       "}\n",
       "\n",
       "mpl.figure.prototype.handle_rubberband = function(fig, msg) {\n",
       "    var x0 = msg['x0'];\n",
       "    var y0 = fig.canvas.height - msg['y0'];\n",
       "    var x1 = msg['x1'];\n",
       "    var y1 = fig.canvas.height - msg['y1'];\n",
       "    x0 = Math.floor(x0) + 0.5;\n",
       "    y0 = Math.floor(y0) + 0.5;\n",
       "    x1 = Math.floor(x1) + 0.5;\n",
       "    y1 = Math.floor(y1) + 0.5;\n",
       "    var min_x = Math.min(x0, x1);\n",
       "    var min_y = Math.min(y0, y1);\n",
       "    var width = Math.abs(x1 - x0);\n",
       "    var height = Math.abs(y1 - y0);\n",
       "\n",
       "    fig.rubberband_context.clearRect(\n",
       "        0, 0, fig.canvas.width, fig.canvas.height);\n",
       "\n",
       "    fig.rubberband_context.strokeRect(min_x, min_y, width, height);\n",
       "}\n",
       "\n",
       "mpl.figure.prototype.handle_figure_label = function(fig, msg) {\n",
       "    // Updates the figure title.\n",
       "    fig.header.textContent = msg['label'];\n",
       "}\n",
       "\n",
       "mpl.figure.prototype.handle_cursor = function(fig, msg) {\n",
       "    var cursor = msg['cursor'];\n",
       "    switch(cursor)\n",
       "    {\n",
       "    case 0:\n",
       "        cursor = 'pointer';\n",
       "        break;\n",
       "    case 1:\n",
       "        cursor = 'default';\n",
       "        break;\n",
       "    case 2:\n",
       "        cursor = 'crosshair';\n",
       "        break;\n",
       "    case 3:\n",
       "        cursor = 'move';\n",
       "        break;\n",
       "    }\n",
       "    fig.rubberband_canvas.style.cursor = cursor;\n",
       "}\n",
       "\n",
       "mpl.figure.prototype.handle_message = function(fig, msg) {\n",
       "    fig.message.textContent = msg['message'];\n",
       "}\n",
       "\n",
       "mpl.figure.prototype.handle_draw = function(fig, msg) {\n",
       "    // Request the server to send over a new figure.\n",
       "    fig.send_draw_message();\n",
       "}\n",
       "\n",
       "mpl.figure.prototype.handle_image_mode = function(fig, msg) {\n",
       "    fig.image_mode = msg['mode'];\n",
       "}\n",
       "\n",
       "mpl.figure.prototype.updated_canvas_event = function() {\n",
       "    // Called whenever the canvas gets updated.\n",
       "    this.send_message(\"ack\", {});\n",
       "}\n",
       "\n",
       "// A function to construct a web socket function for onmessage handling.\n",
       "// Called in the figure constructor.\n",
       "mpl.figure.prototype._make_on_message_function = function(fig) {\n",
       "    return function socket_on_message(evt) {\n",
       "        if (evt.data instanceof Blob) {\n",
       "            /* FIXME: We get \"Resource interpreted as Image but\n",
       "             * transferred with MIME type text/plain:\" errors on\n",
       "             * Chrome.  But how to set the MIME type?  It doesn't seem\n",
       "             * to be part of the websocket stream */\n",
       "            evt.data.type = \"image/png\";\n",
       "\n",
       "            /* Free the memory for the previous frames */\n",
       "            if (fig.imageObj.src) {\n",
       "                (window.URL || window.webkitURL).revokeObjectURL(\n",
       "                    fig.imageObj.src);\n",
       "            }\n",
       "\n",
       "            fig.imageObj.src = (window.URL || window.webkitURL).createObjectURL(\n",
       "                evt.data);\n",
       "            fig.updated_canvas_event();\n",
       "            fig.waiting = false;\n",
       "            return;\n",
       "        }\n",
       "        else if (typeof evt.data === 'string' && evt.data.slice(0, 21) == \"data:image/png;base64\") {\n",
       "            fig.imageObj.src = evt.data;\n",
       "            fig.updated_canvas_event();\n",
       "            fig.waiting = false;\n",
       "            return;\n",
       "        }\n",
       "\n",
       "        var msg = JSON.parse(evt.data);\n",
       "        var msg_type = msg['type'];\n",
       "\n",
       "        // Call the  \"handle_{type}\" callback, which takes\n",
       "        // the figure and JSON message as its only arguments.\n",
       "        try {\n",
       "            var callback = fig[\"handle_\" + msg_type];\n",
       "        } catch (e) {\n",
       "            console.log(\"No handler for the '\" + msg_type + \"' message type: \", msg);\n",
       "            return;\n",
       "        }\n",
       "\n",
       "        if (callback) {\n",
       "            try {\n",
       "                // console.log(\"Handling '\" + msg_type + \"' message: \", msg);\n",
       "                callback(fig, msg);\n",
       "            } catch (e) {\n",
       "                console.log(\"Exception inside the 'handler_\" + msg_type + \"' callback:\", e, e.stack, msg);\n",
       "            }\n",
       "        }\n",
       "    };\n",
       "}\n",
       "\n",
       "// from http://stackoverflow.com/questions/1114465/getting-mouse-location-in-canvas\n",
       "mpl.findpos = function(e) {\n",
       "    //this section is from http://www.quirksmode.org/js/events_properties.html\n",
       "    var targ;\n",
       "    if (!e)\n",
       "        e = window.event;\n",
       "    if (e.target)\n",
       "        targ = e.target;\n",
       "    else if (e.srcElement)\n",
       "        targ = e.srcElement;\n",
       "    if (targ.nodeType == 3) // defeat Safari bug\n",
       "        targ = targ.parentNode;\n",
       "\n",
       "    // jQuery normalizes the pageX and pageY\n",
       "    // pageX,Y are the mouse positions relative to the document\n",
       "    // offset() returns the position of the element relative to the document\n",
       "    var x = e.pageX - $(targ).offset().left;\n",
       "    var y = e.pageY - $(targ).offset().top;\n",
       "\n",
       "    return {\"x\": x, \"y\": y};\n",
       "};\n",
       "\n",
       "/*\n",
       " * return a copy of an object with only non-object keys\n",
       " * we need this to avoid circular references\n",
       " * http://stackoverflow.com/a/24161582/3208463\n",
       " */\n",
       "function simpleKeys (original) {\n",
       "  return Object.keys(original).reduce(function (obj, key) {\n",
       "    if (typeof original[key] !== 'object')\n",
       "        obj[key] = original[key]\n",
       "    return obj;\n",
       "  }, {});\n",
       "}\n",
       "\n",
       "mpl.figure.prototype.mouse_event = function(event, name) {\n",
       "    var canvas_pos = mpl.findpos(event)\n",
       "\n",
       "    if (name === 'button_press')\n",
       "    {\n",
       "        this.canvas.focus();\n",
       "        this.canvas_div.focus();\n",
       "    }\n",
       "\n",
       "    var x = canvas_pos.x;\n",
       "    var y = canvas_pos.y;\n",
       "\n",
       "    this.send_message(name, {x: x, y: y, button: event.button,\n",
       "                             step: event.step,\n",
       "                             guiEvent: simpleKeys(event)});\n",
       "\n",
       "    /* This prevents the web browser from automatically changing to\n",
       "     * the text insertion cursor when the button is pressed.  We want\n",
       "     * to control all of the cursor setting manually through the\n",
       "     * 'cursor' event from matplotlib */\n",
       "    event.preventDefault();\n",
       "    return false;\n",
       "}\n",
       "\n",
       "mpl.figure.prototype._key_event_extra = function(event, name) {\n",
       "    // Handle any extra behaviour associated with a key event\n",
       "}\n",
       "\n",
       "mpl.figure.prototype.key_event = function(event, name) {\n",
       "\n",
       "    // Prevent repeat events\n",
       "    if (name == 'key_press')\n",
       "    {\n",
       "        if (event.which === this._key)\n",
       "            return;\n",
       "        else\n",
       "            this._key = event.which;\n",
       "    }\n",
       "    if (name == 'key_release')\n",
       "        this._key = null;\n",
       "\n",
       "    var value = '';\n",
       "    if (event.ctrlKey && event.which != 17)\n",
       "        value += \"ctrl+\";\n",
       "    if (event.altKey && event.which != 18)\n",
       "        value += \"alt+\";\n",
       "    if (event.shiftKey && event.which != 16)\n",
       "        value += \"shift+\";\n",
       "\n",
       "    value += 'k';\n",
       "    value += event.which.toString();\n",
       "\n",
       "    this._key_event_extra(event, name);\n",
       "\n",
       "    this.send_message(name, {key: value,\n",
       "                             guiEvent: simpleKeys(event)});\n",
       "    return false;\n",
       "}\n",
       "\n",
       "mpl.figure.prototype.toolbar_button_onclick = function(name) {\n",
       "    if (name == 'download') {\n",
       "        this.handle_save(this, null);\n",
       "    } else {\n",
       "        this.send_message(\"toolbar_button\", {name: name});\n",
       "    }\n",
       "};\n",
       "\n",
       "mpl.figure.prototype.toolbar_button_onmouseover = function(tooltip) {\n",
       "    this.message.textContent = tooltip;\n",
       "};\n",
       "mpl.toolbar_items = [[\"Home\", \"Reset original view\", \"fa fa-home icon-home\", \"home\"], [\"Back\", \"Back to  previous view\", \"fa fa-arrow-left icon-arrow-left\", \"back\"], [\"Forward\", \"Forward to next view\", \"fa fa-arrow-right icon-arrow-right\", \"forward\"], [\"\", \"\", \"\", \"\"], [\"Pan\", \"Pan axes with left mouse, zoom with right\", \"fa fa-arrows icon-move\", \"pan\"], [\"Zoom\", \"Zoom to rectangle\", \"fa fa-square-o icon-check-empty\", \"zoom\"], [\"\", \"\", \"\", \"\"], [\"Download\", \"Download plot\", \"fa fa-floppy-o icon-save\", \"download\"]];\n",
       "\n",
       "mpl.extensions = [\"eps\", \"pdf\", \"png\", \"ps\", \"raw\", \"svg\"];\n",
       "\n",
       "mpl.default_extension = \"png\";var comm_websocket_adapter = function(comm) {\n",
       "    // Create a \"websocket\"-like object which calls the given IPython comm\n",
       "    // object with the appropriate methods. Currently this is a non binary\n",
       "    // socket, so there is still some room for performance tuning.\n",
       "    var ws = {};\n",
       "\n",
       "    ws.close = function() {\n",
       "        comm.close()\n",
       "    };\n",
       "    ws.send = function(m) {\n",
       "        //console.log('sending', m);\n",
       "        comm.send(m);\n",
       "    };\n",
       "    // Register the callback with on_msg.\n",
       "    comm.on_msg(function(msg) {\n",
       "        //console.log('receiving', msg['content']['data'], msg);\n",
       "        // Pass the mpl event to the overriden (by mpl) onmessage function.\n",
       "        ws.onmessage(msg['content']['data'])\n",
       "    });\n",
       "    return ws;\n",
       "}\n",
       "\n",
       "mpl.mpl_figure_comm = function(comm, msg) {\n",
       "    // This is the function which gets called when the mpl process\n",
       "    // starts-up an IPython Comm through the \"matplotlib\" channel.\n",
       "\n",
       "    var id = msg.content.data.id;\n",
       "    // Get hold of the div created by the display call when the Comm\n",
       "    // socket was opened in Python.\n",
       "    var element = $(\"#\" + id);\n",
       "    var ws_proxy = comm_websocket_adapter(comm)\n",
       "\n",
       "    function ondownload(figure, format) {\n",
       "        window.open(figure.imageObj.src);\n",
       "    }\n",
       "\n",
       "    var fig = new mpl.figure(id, ws_proxy,\n",
       "                           ondownload,\n",
       "                           element.get(0));\n",
       "\n",
       "    // Call onopen now - mpl needs it, as it is assuming we've passed it a real\n",
       "    // web socket which is closed, not our websocket->open comm proxy.\n",
       "    ws_proxy.onopen();\n",
       "\n",
       "    fig.parent_element = element.get(0);\n",
       "    fig.cell_info = mpl.find_output_cell(\"<div id='\" + id + \"'></div>\");\n",
       "    if (!fig.cell_info) {\n",
       "        console.error(\"Failed to find cell for figure\", id, fig);\n",
       "        return;\n",
       "    }\n",
       "\n",
       "    var output_index = fig.cell_info[2]\n",
       "    var cell = fig.cell_info[0];\n",
       "\n",
       "};\n",
       "\n",
       "mpl.figure.prototype.handle_close = function(fig, msg) {\n",
       "    fig.root.unbind('remove')\n",
       "\n",
       "    // Update the output cell to use the data from the current canvas.\n",
       "    fig.push_to_output();\n",
       "    var dataURL = fig.canvas.toDataURL();\n",
       "    // Re-enable the keyboard manager in IPython - without this line, in FF,\n",
       "    // the notebook keyboard shortcuts fail.\n",
       "    IPython.keyboard_manager.enable()\n",
       "    $(fig.parent_element).html('<img src=\"' + dataURL + '\">');\n",
       "    fig.close_ws(fig, msg);\n",
       "}\n",
       "\n",
       "mpl.figure.prototype.close_ws = function(fig, msg){\n",
       "    fig.send_message('closing', msg);\n",
       "    // fig.ws.close()\n",
       "}\n",
       "\n",
       "mpl.figure.prototype.push_to_output = function(remove_interactive) {\n",
       "    // Turn the data on the canvas into data in the output cell.\n",
       "    var dataURL = this.canvas.toDataURL();\n",
       "    this.cell_info[1]['text/html'] = '<img src=\"' + dataURL + '\">';\n",
       "}\n",
       "\n",
       "mpl.figure.prototype.updated_canvas_event = function() {\n",
       "    // Tell IPython that the notebook contents must change.\n",
       "    IPython.notebook.set_dirty(true);\n",
       "    this.send_message(\"ack\", {});\n",
       "    var fig = this;\n",
       "    // Wait a second, then push the new image to the DOM so\n",
       "    // that it is saved nicely (might be nice to debounce this).\n",
       "    setTimeout(function () { fig.push_to_output() }, 1000);\n",
       "}\n",
       "\n",
       "mpl.figure.prototype._init_toolbar = function() {\n",
       "    var fig = this;\n",
       "\n",
       "    var nav_element = $('<div/>')\n",
       "    nav_element.attr('style', 'width: 100%');\n",
       "    this.root.append(nav_element);\n",
       "\n",
       "    // Define a callback function for later on.\n",
       "    function toolbar_event(event) {\n",
       "        return fig.toolbar_button_onclick(event['data']);\n",
       "    }\n",
       "    function toolbar_mouse_event(event) {\n",
       "        return fig.toolbar_button_onmouseover(event['data']);\n",
       "    }\n",
       "\n",
       "    for(var toolbar_ind in mpl.toolbar_items){\n",
       "        var name = mpl.toolbar_items[toolbar_ind][0];\n",
       "        var tooltip = mpl.toolbar_items[toolbar_ind][1];\n",
       "        var image = mpl.toolbar_items[toolbar_ind][2];\n",
       "        var method_name = mpl.toolbar_items[toolbar_ind][3];\n",
       "\n",
       "        if (!name) { continue; };\n",
       "\n",
       "        var button = $('<button class=\"btn btn-default\" href=\"#\" title=\"' + name + '\"><i class=\"fa ' + image + ' fa-lg\"></i></button>');\n",
       "        button.click(method_name, toolbar_event);\n",
       "        button.mouseover(tooltip, toolbar_mouse_event);\n",
       "        nav_element.append(button);\n",
       "    }\n",
       "\n",
       "    // Add the status bar.\n",
       "    var status_bar = $('<span class=\"mpl-message\" style=\"text-align:right; float: right;\"/>');\n",
       "    nav_element.append(status_bar);\n",
       "    this.message = status_bar[0];\n",
       "\n",
       "    // Add the close button to the window.\n",
       "    var buttongrp = $('<div class=\"btn-group inline pull-right\"></div>');\n",
       "    var button = $('<button class=\"btn btn-mini btn-primary\" href=\"#\" title=\"Stop Interaction\"><i class=\"fa fa-power-off icon-remove icon-large\"></i></button>');\n",
       "    button.click(function (evt) { fig.handle_close(fig, {}); } );\n",
       "    button.mouseover('Stop Interaction', toolbar_mouse_event);\n",
       "    buttongrp.append(button);\n",
       "    var titlebar = this.root.find($('.ui-dialog-titlebar'));\n",
       "    titlebar.prepend(buttongrp);\n",
       "}\n",
       "\n",
       "mpl.figure.prototype._root_extra_style = function(el){\n",
       "    var fig = this\n",
       "    el.on(\"remove\", function(){\n",
       "\tfig.close_ws(fig, {});\n",
       "    });\n",
       "}\n",
       "\n",
       "mpl.figure.prototype._canvas_extra_style = function(el){\n",
       "    // this is important to make the div 'focusable\n",
       "    el.attr('tabindex', 0)\n",
       "    // reach out to IPython and tell the keyboard manager to turn it's self\n",
       "    // off when our div gets focus\n",
       "\n",
       "    // location in version 3\n",
       "    if (IPython.notebook.keyboard_manager) {\n",
       "        IPython.notebook.keyboard_manager.register_events(el);\n",
       "    }\n",
       "    else {\n",
       "        // location in version 2\n",
       "        IPython.keyboard_manager.register_events(el);\n",
       "    }\n",
       "\n",
       "}\n",
       "\n",
       "mpl.figure.prototype._key_event_extra = function(event, name) {\n",
       "    var manager = IPython.notebook.keyboard_manager;\n",
       "    if (!manager)\n",
       "        manager = IPython.keyboard_manager;\n",
       "\n",
       "    // Check for shift+enter\n",
       "    if (event.shiftKey && event.which == 13) {\n",
       "        this.canvas_div.blur();\n",
       "        event.shiftKey = false;\n",
       "        // Send a \"J\" for go to next cell\n",
       "        event.which = 74;\n",
       "        event.keyCode = 74;\n",
       "        manager.command_mode();\n",
       "        manager.handle_keydown(event);\n",
       "    }\n",
       "}\n",
       "\n",
       "mpl.figure.prototype.handle_save = function(fig, msg) {\n",
       "    fig.ondownload(fig, null);\n",
       "}\n",
       "\n",
       "\n",
       "mpl.find_output_cell = function(html_output) {\n",
       "    // Return the cell and output element which can be found *uniquely* in the notebook.\n",
       "    // Note - this is a bit hacky, but it is done because the \"notebook_saving.Notebook\"\n",
       "    // IPython event is triggered only after the cells have been serialised, which for\n",
       "    // our purposes (turning an active figure into a static one), is too late.\n",
       "    var cells = IPython.notebook.get_cells();\n",
       "    var ncells = cells.length;\n",
       "    for (var i=0; i<ncells; i++) {\n",
       "        var cell = cells[i];\n",
       "        if (cell.cell_type === 'code'){\n",
       "            for (var j=0; j<cell.output_area.outputs.length; j++) {\n",
       "                var data = cell.output_area.outputs[j];\n",
       "                if (data.data) {\n",
       "                    // IPython >= 3 moved mimebundle to data attribute of output\n",
       "                    data = data.data;\n",
       "                }\n",
       "                if (data['text/html'] == html_output) {\n",
       "                    return [cell, data, j];\n",
       "                }\n",
       "            }\n",
       "        }\n",
       "    }\n",
       "}\n",
       "\n",
       "// Register the function which deals with the matplotlib target/channel.\n",
       "// The kernel may be null if the page has been refreshed.\n",
       "if (IPython.notebook.kernel != null) {\n",
       "    IPython.notebook.kernel.comm_manager.register_target('matplotlib', mpl.mpl_figure_comm);\n",
       "}\n"
      ],
      "text/plain": [
       "<IPython.core.display.Javascript object>"
      ]
     },
     "metadata": {},
     "output_type": "display_data"
    },
    {
     "data": {
      "text/html": [
       "<img src=\"data:image/png;base64,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\">"
      ],
      "text/plain": [
       "<IPython.core.display.HTML object>"
      ]
     },
     "metadata": {},
     "output_type": "display_data"
    }
   ],
   "source": [
    "Anim2 = cm.Animation(a,q,ring_r,ring_steps,h,N,N_output)\n",
    "\n",
    "Anim2.R_i = np.array((0.0,0.0,0.01))\n",
    "Anim2.ring_steps = 2\n",
    "Anim2.create_plot(R,V)"
   ]
  },
  {
   "cell_type": "code",
   "execution_count": 7,
   "metadata": {
    "collapsed": false
   },
   "outputs": [
    {
     "name": "stdout",
     "output_type": "stream",
     "text": [
      "Commencing RK4 routine...\n",
      "RK4 time stepping has been completed\n",
      "No FuncAnimation to stop\n"
     ]
    }
   ],
   "source": [
    "Anim2.create_sliders()"
   ]
  },
  {
   "cell_type": "markdown",
   "metadata": {},
   "source": [
    "For the right hand graph, blue still represents the z displacement of the particle but red now represents the y displacement. At small particle heights you should see two sinusoids, pi/4 out of phase, as expected for circular motion.\n",
    "\n",
    "However at larger distances (e.g. try a \"particle height\" of ~ 0.65) this behaviour is lost and the orbit is no longer closed c.f. Bertrand's theorem. Turn on the tracer to see the precession of the semi-major axis in the left hand plot.\n",
    "\n",
    "By looking at the electric field on axis it is clear in which regions the SHM approx is applicable.\n",
    "Using the acceleration function and the SHM frequency calculation, a graphical comparison can be made via the E_field function."
   ]
  },
  {
   "cell_type": "code",
   "execution_count": 8,
   "metadata": {
    "collapsed": false
   },
   "outputs": [
    {
     "data": {
      "application/javascript": [
       "/* Put everything inside the global mpl namespace */\n",
       "window.mpl = {};\n",
       "\n",
       "mpl.get_websocket_type = function() {\n",
       "    if (typeof(WebSocket) !== 'undefined') {\n",
       "        return WebSocket;\n",
       "    } else if (typeof(MozWebSocket) !== 'undefined') {\n",
       "        return MozWebSocket;\n",
       "    } else {\n",
       "        alert('Your browser does not have WebSocket support.' +\n",
       "              'Please try Chrome, Safari or Firefox ≥ 6. ' +\n",
       "              'Firefox 4 and 5 are also supported but you ' +\n",
       "              'have to enable WebSockets in about:config.');\n",
       "    };\n",
       "}\n",
       "\n",
       "mpl.figure = function(figure_id, websocket, ondownload, parent_element) {\n",
       "    this.id = figure_id;\n",
       "\n",
       "    this.ws = websocket;\n",
       "\n",
       "    this.supports_binary = (this.ws.binaryType != undefined);\n",
       "\n",
       "    if (!this.supports_binary) {\n",
       "        var warnings = document.getElementById(\"mpl-warnings\");\n",
       "        if (warnings) {\n",
       "            warnings.style.display = 'block';\n",
       "            warnings.textContent = (\n",
       "                \"This browser does not support binary websocket messages. \" +\n",
       "                    \"Performance may be slow.\");\n",
       "        }\n",
       "    }\n",
       "\n",
       "    this.imageObj = new Image();\n",
       "\n",
       "    this.context = undefined;\n",
       "    this.message = undefined;\n",
       "    this.canvas = undefined;\n",
       "    this.rubberband_canvas = undefined;\n",
       "    this.rubberband_context = undefined;\n",
       "    this.format_dropdown = undefined;\n",
       "\n",
       "    this.image_mode = 'full';\n",
       "\n",
       "    this.root = $('<div/>');\n",
       "    this._root_extra_style(this.root)\n",
       "    this.root.attr('style', 'display: inline-block');\n",
       "\n",
       "    $(parent_element).append(this.root);\n",
       "\n",
       "    this._init_header(this);\n",
       "    this._init_canvas(this);\n",
       "    this._init_toolbar(this);\n",
       "\n",
       "    var fig = this;\n",
       "\n",
       "    this.waiting = false;\n",
       "\n",
       "    this.ws.onopen =  function () {\n",
       "            fig.send_message(\"supports_binary\", {value: fig.supports_binary});\n",
       "            fig.send_message(\"send_image_mode\", {});\n",
       "            fig.send_message(\"refresh\", {});\n",
       "        }\n",
       "\n",
       "    this.imageObj.onload = function() {\n",
       "            if (fig.image_mode == 'full') {\n",
       "                // Full images could contain transparency (where diff images\n",
       "                // almost always do), so we need to clear the canvas so that\n",
       "                // there is no ghosting.\n",
       "                fig.context.clearRect(0, 0, fig.canvas.width, fig.canvas.height);\n",
       "            }\n",
       "            fig.context.drawImage(fig.imageObj, 0, 0);\n",
       "        };\n",
       "\n",
       "    this.imageObj.onunload = function() {\n",
       "        this.ws.close();\n",
       "    }\n",
       "\n",
       "    this.ws.onmessage = this._make_on_message_function(this);\n",
       "\n",
       "    this.ondownload = ondownload;\n",
       "}\n",
       "\n",
       "mpl.figure.prototype._init_header = function() {\n",
       "    var titlebar = $(\n",
       "        '<div class=\"ui-dialog-titlebar ui-widget-header ui-corner-all ' +\n",
       "        'ui-helper-clearfix\"/>');\n",
       "    var titletext = $(\n",
       "        '<div class=\"ui-dialog-title\" style=\"width: 100%; ' +\n",
       "        'text-align: center; padding: 3px;\"/>');\n",
       "    titlebar.append(titletext)\n",
       "    this.root.append(titlebar);\n",
       "    this.header = titletext[0];\n",
       "}\n",
       "\n",
       "\n",
       "\n",
       "mpl.figure.prototype._canvas_extra_style = function(canvas_div) {\n",
       "\n",
       "}\n",
       "\n",
       "\n",
       "mpl.figure.prototype._root_extra_style = function(canvas_div) {\n",
       "\n",
       "}\n",
       "\n",
       "mpl.figure.prototype._init_canvas = function() {\n",
       "    var fig = this;\n",
       "\n",
       "    var canvas_div = $('<div/>');\n",
       "\n",
       "    canvas_div.attr('style', 'position: relative; clear: both; outline: 0');\n",
       "\n",
       "    function canvas_keyboard_event(event) {\n",
       "        return fig.key_event(event, event['data']);\n",
       "    }\n",
       "\n",
       "    canvas_div.keydown('key_press', canvas_keyboard_event);\n",
       "    canvas_div.keyup('key_release', canvas_keyboard_event);\n",
       "    this.canvas_div = canvas_div\n",
       "    this._canvas_extra_style(canvas_div)\n",
       "    this.root.append(canvas_div);\n",
       "\n",
       "    var canvas = $('<canvas/>');\n",
       "    canvas.addClass('mpl-canvas');\n",
       "    canvas.attr('style', \"left: 0; top: 0; z-index: 0; outline: 0\")\n",
       "\n",
       "    this.canvas = canvas[0];\n",
       "    this.context = canvas[0].getContext(\"2d\");\n",
       "\n",
       "    var rubberband = $('<canvas/>');\n",
       "    rubberband.attr('style', \"position: absolute; left: 0; top: 0; z-index: 1;\")\n",
       "\n",
       "    var pass_mouse_events = true;\n",
       "\n",
       "    canvas_div.resizable({\n",
       "        start: function(event, ui) {\n",
       "            pass_mouse_events = false;\n",
       "        },\n",
       "        resize: function(event, ui) {\n",
       "            fig.request_resize(ui.size.width, ui.size.height);\n",
       "        },\n",
       "        stop: function(event, ui) {\n",
       "            pass_mouse_events = true;\n",
       "            fig.request_resize(ui.size.width, ui.size.height);\n",
       "        },\n",
       "    });\n",
       "\n",
       "    function mouse_event_fn(event) {\n",
       "        if (pass_mouse_events)\n",
       "            return fig.mouse_event(event, event['data']);\n",
       "    }\n",
       "\n",
       "    rubberband.mousedown('button_press', mouse_event_fn);\n",
       "    rubberband.mouseup('button_release', mouse_event_fn);\n",
       "    // Throttle sequential mouse events to 1 every 20ms.\n",
       "    rubberband.mousemove('motion_notify', mouse_event_fn);\n",
       "\n",
       "    rubberband.mouseenter('figure_enter', mouse_event_fn);\n",
       "    rubberband.mouseleave('figure_leave', mouse_event_fn);\n",
       "\n",
       "    canvas_div.on(\"wheel\", function (event) {\n",
       "        event = event.originalEvent;\n",
       "        event['data'] = 'scroll'\n",
       "        if (event.deltaY < 0) {\n",
       "            event.step = 1;\n",
       "        } else {\n",
       "            event.step = -1;\n",
       "        }\n",
       "        mouse_event_fn(event);\n",
       "    });\n",
       "\n",
       "    canvas_div.append(canvas);\n",
       "    canvas_div.append(rubberband);\n",
       "\n",
       "    this.rubberband = rubberband;\n",
       "    this.rubberband_canvas = rubberband[0];\n",
       "    this.rubberband_context = rubberband[0].getContext(\"2d\");\n",
       "    this.rubberband_context.strokeStyle = \"#000000\";\n",
       "\n",
       "    this._resize_canvas = function(width, height) {\n",
       "        // Keep the size of the canvas, canvas container, and rubber band\n",
       "        // canvas in synch.\n",
       "        canvas_div.css('width', width)\n",
       "        canvas_div.css('height', height)\n",
       "\n",
       "        canvas.attr('width', width);\n",
       "        canvas.attr('height', height);\n",
       "\n",
       "        rubberband.attr('width', width);\n",
       "        rubberband.attr('height', height);\n",
       "    }\n",
       "\n",
       "    // Set the figure to an initial 600x600px, this will subsequently be updated\n",
       "    // upon first draw.\n",
       "    this._resize_canvas(600, 600);\n",
       "\n",
       "    // Disable right mouse context menu.\n",
       "    $(this.rubberband_canvas).bind(\"contextmenu\",function(e){\n",
       "        return false;\n",
       "    });\n",
       "\n",
       "    function set_focus () {\n",
       "        canvas.focus();\n",
       "        canvas_div.focus();\n",
       "    }\n",
       "\n",
       "    window.setTimeout(set_focus, 100);\n",
       "}\n",
       "\n",
       "mpl.figure.prototype._init_toolbar = function() {\n",
       "    var fig = this;\n",
       "\n",
       "    var nav_element = $('<div/>')\n",
       "    nav_element.attr('style', 'width: 100%');\n",
       "    this.root.append(nav_element);\n",
       "\n",
       "    // Define a callback function for later on.\n",
       "    function toolbar_event(event) {\n",
       "        return fig.toolbar_button_onclick(event['data']);\n",
       "    }\n",
       "    function toolbar_mouse_event(event) {\n",
       "        return fig.toolbar_button_onmouseover(event['data']);\n",
       "    }\n",
       "\n",
       "    for(var toolbar_ind in mpl.toolbar_items) {\n",
       "        var name = mpl.toolbar_items[toolbar_ind][0];\n",
       "        var tooltip = mpl.toolbar_items[toolbar_ind][1];\n",
       "        var image = mpl.toolbar_items[toolbar_ind][2];\n",
       "        var method_name = mpl.toolbar_items[toolbar_ind][3];\n",
       "\n",
       "        if (!name) {\n",
       "            // put a spacer in here.\n",
       "            continue;\n",
       "        }\n",
       "        var button = $('<button/>');\n",
       "        button.addClass('ui-button ui-widget ui-state-default ui-corner-all ' +\n",
       "                        'ui-button-icon-only');\n",
       "        button.attr('role', 'button');\n",
       "        button.attr('aria-disabled', 'false');\n",
       "        button.click(method_name, toolbar_event);\n",
       "        button.mouseover(tooltip, toolbar_mouse_event);\n",
       "\n",
       "        var icon_img = $('<span/>');\n",
       "        icon_img.addClass('ui-button-icon-primary ui-icon');\n",
       "        icon_img.addClass(image);\n",
       "        icon_img.addClass('ui-corner-all');\n",
       "\n",
       "        var tooltip_span = $('<span/>');\n",
       "        tooltip_span.addClass('ui-button-text');\n",
       "        tooltip_span.html(tooltip);\n",
       "\n",
       "        button.append(icon_img);\n",
       "        button.append(tooltip_span);\n",
       "\n",
       "        nav_element.append(button);\n",
       "    }\n",
       "\n",
       "    var fmt_picker_span = $('<span/>');\n",
       "\n",
       "    var fmt_picker = $('<select/>');\n",
       "    fmt_picker.addClass('mpl-toolbar-option ui-widget ui-widget-content');\n",
       "    fmt_picker_span.append(fmt_picker);\n",
       "    nav_element.append(fmt_picker_span);\n",
       "    this.format_dropdown = fmt_picker[0];\n",
       "\n",
       "    for (var ind in mpl.extensions) {\n",
       "        var fmt = mpl.extensions[ind];\n",
       "        var option = $(\n",
       "            '<option/>', {selected: fmt === mpl.default_extension}).html(fmt);\n",
       "        fmt_picker.append(option)\n",
       "    }\n",
       "\n",
       "    // Add hover states to the ui-buttons\n",
       "    $( \".ui-button\" ).hover(\n",
       "        function() { $(this).addClass(\"ui-state-hover\");},\n",
       "        function() { $(this).removeClass(\"ui-state-hover\");}\n",
       "    );\n",
       "\n",
       "    var status_bar = $('<span class=\"mpl-message\"/>');\n",
       "    nav_element.append(status_bar);\n",
       "    this.message = status_bar[0];\n",
       "}\n",
       "\n",
       "mpl.figure.prototype.request_resize = function(x_pixels, y_pixels) {\n",
       "    // Request matplotlib to resize the figure. Matplotlib will then trigger a resize in the client,\n",
       "    // which will in turn request a refresh of the image.\n",
       "    this.send_message('resize', {'width': x_pixels, 'height': y_pixels});\n",
       "}\n",
       "\n",
       "mpl.figure.prototype.send_message = function(type, properties) {\n",
       "    properties['type'] = type;\n",
       "    properties['figure_id'] = this.id;\n",
       "    this.ws.send(JSON.stringify(properties));\n",
       "}\n",
       "\n",
       "mpl.figure.prototype.send_draw_message = function() {\n",
       "    if (!this.waiting) {\n",
       "        this.waiting = true;\n",
       "        this.ws.send(JSON.stringify({type: \"draw\", figure_id: this.id}));\n",
       "    }\n",
       "}\n",
       "\n",
       "\n",
       "mpl.figure.prototype.handle_save = function(fig, msg) {\n",
       "    var format_dropdown = fig.format_dropdown;\n",
       "    var format = format_dropdown.options[format_dropdown.selectedIndex].value;\n",
       "    fig.ondownload(fig, format);\n",
       "}\n",
       "\n",
       "\n",
       "mpl.figure.prototype.handle_resize = function(fig, msg) {\n",
       "    var size = msg['size'];\n",
       "    if (size[0] != fig.canvas.width || size[1] != fig.canvas.height) {\n",
       "        fig._resize_canvas(size[0], size[1]);\n",
       "        fig.send_message(\"refresh\", {});\n",
       "    };\n",
       "}\n",
       "\n",
       "mpl.figure.prototype.handle_rubberband = function(fig, msg) {\n",
       "    var x0 = msg['x0'];\n",
       "    var y0 = fig.canvas.height - msg['y0'];\n",
       "    var x1 = msg['x1'];\n",
       "    var y1 = fig.canvas.height - msg['y1'];\n",
       "    x0 = Math.floor(x0) + 0.5;\n",
       "    y0 = Math.floor(y0) + 0.5;\n",
       "    x1 = Math.floor(x1) + 0.5;\n",
       "    y1 = Math.floor(y1) + 0.5;\n",
       "    var min_x = Math.min(x0, x1);\n",
       "    var min_y = Math.min(y0, y1);\n",
       "    var width = Math.abs(x1 - x0);\n",
       "    var height = Math.abs(y1 - y0);\n",
       "\n",
       "    fig.rubberband_context.clearRect(\n",
       "        0, 0, fig.canvas.width, fig.canvas.height);\n",
       "\n",
       "    fig.rubberband_context.strokeRect(min_x, min_y, width, height);\n",
       "}\n",
       "\n",
       "mpl.figure.prototype.handle_figure_label = function(fig, msg) {\n",
       "    // Updates the figure title.\n",
       "    fig.header.textContent = msg['label'];\n",
       "}\n",
       "\n",
       "mpl.figure.prototype.handle_cursor = function(fig, msg) {\n",
       "    var cursor = msg['cursor'];\n",
       "    switch(cursor)\n",
       "    {\n",
       "    case 0:\n",
       "        cursor = 'pointer';\n",
       "        break;\n",
       "    case 1:\n",
       "        cursor = 'default';\n",
       "        break;\n",
       "    case 2:\n",
       "        cursor = 'crosshair';\n",
       "        break;\n",
       "    case 3:\n",
       "        cursor = 'move';\n",
       "        break;\n",
       "    }\n",
       "    fig.rubberband_canvas.style.cursor = cursor;\n",
       "}\n",
       "\n",
       "mpl.figure.prototype.handle_message = function(fig, msg) {\n",
       "    fig.message.textContent = msg['message'];\n",
       "}\n",
       "\n",
       "mpl.figure.prototype.handle_draw = function(fig, msg) {\n",
       "    // Request the server to send over a new figure.\n",
       "    fig.send_draw_message();\n",
       "}\n",
       "\n",
       "mpl.figure.prototype.handle_image_mode = function(fig, msg) {\n",
       "    fig.image_mode = msg['mode'];\n",
       "}\n",
       "\n",
       "mpl.figure.prototype.updated_canvas_event = function() {\n",
       "    // Called whenever the canvas gets updated.\n",
       "    this.send_message(\"ack\", {});\n",
       "}\n",
       "\n",
       "// A function to construct a web socket function for onmessage handling.\n",
       "// Called in the figure constructor.\n",
       "mpl.figure.prototype._make_on_message_function = function(fig) {\n",
       "    return function socket_on_message(evt) {\n",
       "        if (evt.data instanceof Blob) {\n",
       "            /* FIXME: We get \"Resource interpreted as Image but\n",
       "             * transferred with MIME type text/plain:\" errors on\n",
       "             * Chrome.  But how to set the MIME type?  It doesn't seem\n",
       "             * to be part of the websocket stream */\n",
       "            evt.data.type = \"image/png\";\n",
       "\n",
       "            /* Free the memory for the previous frames */\n",
       "            if (fig.imageObj.src) {\n",
       "                (window.URL || window.webkitURL).revokeObjectURL(\n",
       "                    fig.imageObj.src);\n",
       "            }\n",
       "\n",
       "            fig.imageObj.src = (window.URL || window.webkitURL).createObjectURL(\n",
       "                evt.data);\n",
       "            fig.updated_canvas_event();\n",
       "            fig.waiting = false;\n",
       "            return;\n",
       "        }\n",
       "        else if (typeof evt.data === 'string' && evt.data.slice(0, 21) == \"data:image/png;base64\") {\n",
       "            fig.imageObj.src = evt.data;\n",
       "            fig.updated_canvas_event();\n",
       "            fig.waiting = false;\n",
       "            return;\n",
       "        }\n",
       "\n",
       "        var msg = JSON.parse(evt.data);\n",
       "        var msg_type = msg['type'];\n",
       "\n",
       "        // Call the  \"handle_{type}\" callback, which takes\n",
       "        // the figure and JSON message as its only arguments.\n",
       "        try {\n",
       "            var callback = fig[\"handle_\" + msg_type];\n",
       "        } catch (e) {\n",
       "            console.log(\"No handler for the '\" + msg_type + \"' message type: \", msg);\n",
       "            return;\n",
       "        }\n",
       "\n",
       "        if (callback) {\n",
       "            try {\n",
       "                // console.log(\"Handling '\" + msg_type + \"' message: \", msg);\n",
       "                callback(fig, msg);\n",
       "            } catch (e) {\n",
       "                console.log(\"Exception inside the 'handler_\" + msg_type + \"' callback:\", e, e.stack, msg);\n",
       "            }\n",
       "        }\n",
       "    };\n",
       "}\n",
       "\n",
       "// from http://stackoverflow.com/questions/1114465/getting-mouse-location-in-canvas\n",
       "mpl.findpos = function(e) {\n",
       "    //this section is from http://www.quirksmode.org/js/events_properties.html\n",
       "    var targ;\n",
       "    if (!e)\n",
       "        e = window.event;\n",
       "    if (e.target)\n",
       "        targ = e.target;\n",
       "    else if (e.srcElement)\n",
       "        targ = e.srcElement;\n",
       "    if (targ.nodeType == 3) // defeat Safari bug\n",
       "        targ = targ.parentNode;\n",
       "\n",
       "    // jQuery normalizes the pageX and pageY\n",
       "    // pageX,Y are the mouse positions relative to the document\n",
       "    // offset() returns the position of the element relative to the document\n",
       "    var x = e.pageX - $(targ).offset().left;\n",
       "    var y = e.pageY - $(targ).offset().top;\n",
       "\n",
       "    return {\"x\": x, \"y\": y};\n",
       "};\n",
       "\n",
       "/*\n",
       " * return a copy of an object with only non-object keys\n",
       " * we need this to avoid circular references\n",
       " * http://stackoverflow.com/a/24161582/3208463\n",
       " */\n",
       "function simpleKeys (original) {\n",
       "  return Object.keys(original).reduce(function (obj, key) {\n",
       "    if (typeof original[key] !== 'object')\n",
       "        obj[key] = original[key]\n",
       "    return obj;\n",
       "  }, {});\n",
       "}\n",
       "\n",
       "mpl.figure.prototype.mouse_event = function(event, name) {\n",
       "    var canvas_pos = mpl.findpos(event)\n",
       "\n",
       "    if (name === 'button_press')\n",
       "    {\n",
       "        this.canvas.focus();\n",
       "        this.canvas_div.focus();\n",
       "    }\n",
       "\n",
       "    var x = canvas_pos.x;\n",
       "    var y = canvas_pos.y;\n",
       "\n",
       "    this.send_message(name, {x: x, y: y, button: event.button,\n",
       "                             step: event.step,\n",
       "                             guiEvent: simpleKeys(event)});\n",
       "\n",
       "    /* This prevents the web browser from automatically changing to\n",
       "     * the text insertion cursor when the button is pressed.  We want\n",
       "     * to control all of the cursor setting manually through the\n",
       "     * 'cursor' event from matplotlib */\n",
       "    event.preventDefault();\n",
       "    return false;\n",
       "}\n",
       "\n",
       "mpl.figure.prototype._key_event_extra = function(event, name) {\n",
       "    // Handle any extra behaviour associated with a key event\n",
       "}\n",
       "\n",
       "mpl.figure.prototype.key_event = function(event, name) {\n",
       "\n",
       "    // Prevent repeat events\n",
       "    if (name == 'key_press')\n",
       "    {\n",
       "        if (event.which === this._key)\n",
       "            return;\n",
       "        else\n",
       "            this._key = event.which;\n",
       "    }\n",
       "    if (name == 'key_release')\n",
       "        this._key = null;\n",
       "\n",
       "    var value = '';\n",
       "    if (event.ctrlKey && event.which != 17)\n",
       "        value += \"ctrl+\";\n",
       "    if (event.altKey && event.which != 18)\n",
       "        value += \"alt+\";\n",
       "    if (event.shiftKey && event.which != 16)\n",
       "        value += \"shift+\";\n",
       "\n",
       "    value += 'k';\n",
       "    value += event.which.toString();\n",
       "\n",
       "    this._key_event_extra(event, name);\n",
       "\n",
       "    this.send_message(name, {key: value,\n",
       "                             guiEvent: simpleKeys(event)});\n",
       "    return false;\n",
       "}\n",
       "\n",
       "mpl.figure.prototype.toolbar_button_onclick = function(name) {\n",
       "    if (name == 'download') {\n",
       "        this.handle_save(this, null);\n",
       "    } else {\n",
       "        this.send_message(\"toolbar_button\", {name: name});\n",
       "    }\n",
       "};\n",
       "\n",
       "mpl.figure.prototype.toolbar_button_onmouseover = function(tooltip) {\n",
       "    this.message.textContent = tooltip;\n",
       "};\n",
       "mpl.toolbar_items = [[\"Home\", \"Reset original view\", \"fa fa-home icon-home\", \"home\"], [\"Back\", \"Back to  previous view\", \"fa fa-arrow-left icon-arrow-left\", \"back\"], [\"Forward\", \"Forward to next view\", \"fa fa-arrow-right icon-arrow-right\", \"forward\"], [\"\", \"\", \"\", \"\"], [\"Pan\", \"Pan axes with left mouse, zoom with right\", \"fa fa-arrows icon-move\", \"pan\"], [\"Zoom\", \"Zoom to rectangle\", \"fa fa-square-o icon-check-empty\", \"zoom\"], [\"\", \"\", \"\", \"\"], [\"Download\", \"Download plot\", \"fa fa-floppy-o icon-save\", \"download\"]];\n",
       "\n",
       "mpl.extensions = [\"eps\", \"pdf\", \"png\", \"ps\", \"raw\", \"svg\"];\n",
       "\n",
       "mpl.default_extension = \"png\";var comm_websocket_adapter = function(comm) {\n",
       "    // Create a \"websocket\"-like object which calls the given IPython comm\n",
       "    // object with the appropriate methods. Currently this is a non binary\n",
       "    // socket, so there is still some room for performance tuning.\n",
       "    var ws = {};\n",
       "\n",
       "    ws.close = function() {\n",
       "        comm.close()\n",
       "    };\n",
       "    ws.send = function(m) {\n",
       "        //console.log('sending', m);\n",
       "        comm.send(m);\n",
       "    };\n",
       "    // Register the callback with on_msg.\n",
       "    comm.on_msg(function(msg) {\n",
       "        //console.log('receiving', msg['content']['data'], msg);\n",
       "        // Pass the mpl event to the overriden (by mpl) onmessage function.\n",
       "        ws.onmessage(msg['content']['data'])\n",
       "    });\n",
       "    return ws;\n",
       "}\n",
       "\n",
       "mpl.mpl_figure_comm = function(comm, msg) {\n",
       "    // This is the function which gets called when the mpl process\n",
       "    // starts-up an IPython Comm through the \"matplotlib\" channel.\n",
       "\n",
       "    var id = msg.content.data.id;\n",
       "    // Get hold of the div created by the display call when the Comm\n",
       "    // socket was opened in Python.\n",
       "    var element = $(\"#\" + id);\n",
       "    var ws_proxy = comm_websocket_adapter(comm)\n",
       "\n",
       "    function ondownload(figure, format) {\n",
       "        window.open(figure.imageObj.src);\n",
       "    }\n",
       "\n",
       "    var fig = new mpl.figure(id, ws_proxy,\n",
       "                           ondownload,\n",
       "                           element.get(0));\n",
       "\n",
       "    // Call onopen now - mpl needs it, as it is assuming we've passed it a real\n",
       "    // web socket which is closed, not our websocket->open comm proxy.\n",
       "    ws_proxy.onopen();\n",
       "\n",
       "    fig.parent_element = element.get(0);\n",
       "    fig.cell_info = mpl.find_output_cell(\"<div id='\" + id + \"'></div>\");\n",
       "    if (!fig.cell_info) {\n",
       "        console.error(\"Failed to find cell for figure\", id, fig);\n",
       "        return;\n",
       "    }\n",
       "\n",
       "    var output_index = fig.cell_info[2]\n",
       "    var cell = fig.cell_info[0];\n",
       "\n",
       "};\n",
       "\n",
       "mpl.figure.prototype.handle_close = function(fig, msg) {\n",
       "    fig.root.unbind('remove')\n",
       "\n",
       "    // Update the output cell to use the data from the current canvas.\n",
       "    fig.push_to_output();\n",
       "    var dataURL = fig.canvas.toDataURL();\n",
       "    // Re-enable the keyboard manager in IPython - without this line, in FF,\n",
       "    // the notebook keyboard shortcuts fail.\n",
       "    IPython.keyboard_manager.enable()\n",
       "    $(fig.parent_element).html('<img src=\"' + dataURL + '\">');\n",
       "    fig.close_ws(fig, msg);\n",
       "}\n",
       "\n",
       "mpl.figure.prototype.close_ws = function(fig, msg){\n",
       "    fig.send_message('closing', msg);\n",
       "    // fig.ws.close()\n",
       "}\n",
       "\n",
       "mpl.figure.prototype.push_to_output = function(remove_interactive) {\n",
       "    // Turn the data on the canvas into data in the output cell.\n",
       "    var dataURL = this.canvas.toDataURL();\n",
       "    this.cell_info[1]['text/html'] = '<img src=\"' + dataURL + '\">';\n",
       "}\n",
       "\n",
       "mpl.figure.prototype.updated_canvas_event = function() {\n",
       "    // Tell IPython that the notebook contents must change.\n",
       "    IPython.notebook.set_dirty(true);\n",
       "    this.send_message(\"ack\", {});\n",
       "    var fig = this;\n",
       "    // Wait a second, then push the new image to the DOM so\n",
       "    // that it is saved nicely (might be nice to debounce this).\n",
       "    setTimeout(function () { fig.push_to_output() }, 1000);\n",
       "}\n",
       "\n",
       "mpl.figure.prototype._init_toolbar = function() {\n",
       "    var fig = this;\n",
       "\n",
       "    var nav_element = $('<div/>')\n",
       "    nav_element.attr('style', 'width: 100%');\n",
       "    this.root.append(nav_element);\n",
       "\n",
       "    // Define a callback function for later on.\n",
       "    function toolbar_event(event) {\n",
       "        return fig.toolbar_button_onclick(event['data']);\n",
       "    }\n",
       "    function toolbar_mouse_event(event) {\n",
       "        return fig.toolbar_button_onmouseover(event['data']);\n",
       "    }\n",
       "\n",
       "    for(var toolbar_ind in mpl.toolbar_items){\n",
       "        var name = mpl.toolbar_items[toolbar_ind][0];\n",
       "        var tooltip = mpl.toolbar_items[toolbar_ind][1];\n",
       "        var image = mpl.toolbar_items[toolbar_ind][2];\n",
       "        var method_name = mpl.toolbar_items[toolbar_ind][3];\n",
       "\n",
       "        if (!name) { continue; };\n",
       "\n",
       "        var button = $('<button class=\"btn btn-default\" href=\"#\" title=\"' + name + '\"><i class=\"fa ' + image + ' fa-lg\"></i></button>');\n",
       "        button.click(method_name, toolbar_event);\n",
       "        button.mouseover(tooltip, toolbar_mouse_event);\n",
       "        nav_element.append(button);\n",
       "    }\n",
       "\n",
       "    // Add the status bar.\n",
       "    var status_bar = $('<span class=\"mpl-message\" style=\"text-align:right; float: right;\"/>');\n",
       "    nav_element.append(status_bar);\n",
       "    this.message = status_bar[0];\n",
       "\n",
       "    // Add the close button to the window.\n",
       "    var buttongrp = $('<div class=\"btn-group inline pull-right\"></div>');\n",
       "    var button = $('<button class=\"btn btn-mini btn-primary\" href=\"#\" title=\"Stop Interaction\"><i class=\"fa fa-power-off icon-remove icon-large\"></i></button>');\n",
       "    button.click(function (evt) { fig.handle_close(fig, {}); } );\n",
       "    button.mouseover('Stop Interaction', toolbar_mouse_event);\n",
       "    buttongrp.append(button);\n",
       "    var titlebar = this.root.find($('.ui-dialog-titlebar'));\n",
       "    titlebar.prepend(buttongrp);\n",
       "}\n",
       "\n",
       "mpl.figure.prototype._root_extra_style = function(el){\n",
       "    var fig = this\n",
       "    el.on(\"remove\", function(){\n",
       "\tfig.close_ws(fig, {});\n",
       "    });\n",
       "}\n",
       "\n",
       "mpl.figure.prototype._canvas_extra_style = function(el){\n",
       "    // this is important to make the div 'focusable\n",
       "    el.attr('tabindex', 0)\n",
       "    // reach out to IPython and tell the keyboard manager to turn it's self\n",
       "    // off when our div gets focus\n",
       "\n",
       "    // location in version 3\n",
       "    if (IPython.notebook.keyboard_manager) {\n",
       "        IPython.notebook.keyboard_manager.register_events(el);\n",
       "    }\n",
       "    else {\n",
       "        // location in version 2\n",
       "        IPython.keyboard_manager.register_events(el);\n",
       "    }\n",
       "\n",
       "}\n",
       "\n",
       "mpl.figure.prototype._key_event_extra = function(event, name) {\n",
       "    var manager = IPython.notebook.keyboard_manager;\n",
       "    if (!manager)\n",
       "        manager = IPython.keyboard_manager;\n",
       "\n",
       "    // Check for shift+enter\n",
       "    if (event.shiftKey && event.which == 13) {\n",
       "        this.canvas_div.blur();\n",
       "        event.shiftKey = false;\n",
       "        // Send a \"J\" for go to next cell\n",
       "        event.which = 74;\n",
       "        event.keyCode = 74;\n",
       "        manager.command_mode();\n",
       "        manager.handle_keydown(event);\n",
       "    }\n",
       "}\n",
       "\n",
       "mpl.figure.prototype.handle_save = function(fig, msg) {\n",
       "    fig.ondownload(fig, null);\n",
       "}\n",
       "\n",
       "\n",
       "mpl.find_output_cell = function(html_output) {\n",
       "    // Return the cell and output element which can be found *uniquely* in the notebook.\n",
       "    // Note - this is a bit hacky, but it is done because the \"notebook_saving.Notebook\"\n",
       "    // IPython event is triggered only after the cells have been serialised, which for\n",
       "    // our purposes (turning an active figure into a static one), is too late.\n",
       "    var cells = IPython.notebook.get_cells();\n",
       "    var ncells = cells.length;\n",
       "    for (var i=0; i<ncells; i++) {\n",
       "        var cell = cells[i];\n",
       "        if (cell.cell_type === 'code'){\n",
       "            for (var j=0; j<cell.output_area.outputs.length; j++) {\n",
       "                var data = cell.output_area.outputs[j];\n",
       "                if (data.data) {\n",
       "                    // IPython >= 3 moved mimebundle to data attribute of output\n",
       "                    data = data.data;\n",
       "                }\n",
       "                if (data['text/html'] == html_output) {\n",
       "                    return [cell, data, j];\n",
       "                }\n",
       "            }\n",
       "        }\n",
       "    }\n",
       "}\n",
       "\n",
       "// Register the function which deals with the matplotlib target/channel.\n",
       "// The kernel may be null if the page has been refreshed.\n",
       "if (IPython.notebook.kernel != null) {\n",
       "    IPython.notebook.kernel.comm_manager.register_target('matplotlib', mpl.mpl_figure_comm);\n",
       "}\n"
      ],
      "text/plain": [
       "<IPython.core.display.Javascript object>"
      ]
     },
     "metadata": {},
     "output_type": "display_data"
    },
    {
     "data": {
      "text/html": [
       "<img src=\"data:image/png;base64,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\">"
      ],
      "text/plain": [
       "<IPython.core.display.HTML object>"
      ]
     },
     "metadata": {},
     "output_type": "display_data"
    }
   ],
   "source": [
    "# Distance over which to plot in units of ring_r\n",
    "z_lim = 4.0\n",
    "# Step size used in plotting\n",
    "z_step = 0.05\n",
    "\n",
    "cm.E_field(z_lim,z_step,q,ring_r)"
   ]
  },
  {
   "cell_type": "code",
   "execution_count": null,
   "metadata": {
    "collapsed": true
   },
   "outputs": [],
   "source": []
  }
 ],
 "metadata": {
  "kernelspec": {
   "display_name": "Python 3",
   "language": "python",
   "name": "python3"
  },
  "language_info": {
   "codemirror_mode": {
    "name": "ipython",
    "version": 3
   },
   "file_extension": ".py",
   "mimetype": "text/x-python",
   "name": "python",
   "nbconvert_exporter": "python",
   "pygments_lexer": "ipython3",
   "version": "3.5.1"
  },
  "widgets": {
   "state": {
    "00099bf6fd7b493891501461a3b66ab7": {
     "views": []
    },
    "00db406ae56047529c34f050d561c345": {
     "views": []
    },
    "0182e836ecac443697436ab19d7dfe9c": {
     "views": []
    },
    "023ba0835e9b40dc8c4353693167a266": {
     "views": [
      {
       "cell_index": 10
      }
     ]
    },
    "02b218d7e0c44029bf3b28efbeea524d": {
     "views": []
    },
    "032c671fb66d4d8eacec86f668d618f7": {
     "views": []
    },
    "033488931a504f9492d815e877bf6f0d": {
     "views": []
    },
    "042e9b33f7654f89bbe0de0b287b7a39": {
     "views": []
    },
    "04b651b9423240e691a47c72c402f094": {
     "views": [
      {
       "cell_index": 12
      }
     ]
    },
    "04c06ae607144fff8365cc12fd4170f3": {
     "views": []
    },
    "05fe333743eb4e55abc5e6fd754922e7": {
     "views": []
    },
    "06107e42156b4c339546eaeac3af2afd": {
     "views": []
    },
    "06a0db03a0014bd7b79a6aa1b082b4dd": {
     "views": []
    },
    "0715f2b36d6147c798e97b9c6aa3ca6d": {
     "views": []
    },
    "07dcc555656743d4bf2e9943703fb66a": {
     "views": [
      {
       "cell_index": 12
      }
     ]
    },
    "0878bb8950154709958558c5fd96707c": {
     "views": []
    },
    "08b1e2844938406fa252e4d6134722b2": {
     "views": []
    },
    "08e510dbd36a4952b696f0e656b09bab": {
     "views": []
    },
    "0945f003519d4253ab35f54f61faf33b": {
     "views": []
    },
    "0ab9dedf204e43f8b5dc9ef8fd8f0418": {
     "views": [
      {
       "cell_index": 13
      }
     ]
    },
    "0b363d2908564dbbb7d31bc278f943db": {
     "views": []
    },
    "0b4ff869981d4cda970383f02c7bab04": {
     "views": []
    },
    "0bd3d481029a4a3d8e8377e188831ebf": {
     "views": []
    },
    "0bfe5e6113254adaa591d88aa1352fb2": {
     "views": []
    },
    "0c1dec481d63473f9f5dd1f0acf921fd": {
     "views": []
    },
    "0ce43ef5a98148a4b16a7155573dde45": {
     "views": []
    },
    "0d44a6dad11c4e42a82d31e9b01edde6": {
     "views": [
      {
       "cell_index": 12
      }
     ]
    },
    "0d6fda063dd64cb885ef4e79e9a70014": {
     "views": []
    },
    "0da68909d08d41d6b4240759c8b0b7f1": {
     "views": []
    },
    "0dd1e8a857e947489decc29df2652ff6": {
     "views": []
    },
    "0ddc150c3b1a4ebe8379282d8d44110b": {
     "views": []
    },
    "0f3224595ef641c9b61565df3025a838": {
     "views": []
    },
    "0f68b344106d415bbc515eb4d6fb5b0f": {
     "views": []
    },
    "0f7333c4e50b42eb9f29711c29b8b294": {
     "views": []
    },
    "0f8c861670044687b7e0e5e95e44995b": {
     "views": []
    },
    "0fd507ef00cc44da987c41e677ac25d1": {
     "views": [
      {
       "cell_index": 13
      }
     ]
    },
    "0fea1cb089004032aa6164787eaccadb": {
     "views": []
    },
    "10169b9e588b45698bfaf5d144b15832": {
     "views": []
    },
    "10382950cbf44e62b267ec218aed3d5a": {
     "views": []
    },
    "10ca62ea5ce1414d917869a60760a126": {
     "views": [
      {
       "cell_index": 10
      }
     ]
    },
    "10e6dc3409e84595b5a01465881568cd": {
     "views": []
    },
    "11cdbd555dee46588819956bfa2be89e": {
     "views": [
      {
       "cell_index": 15
      }
     ]
    },
    "11fe43a727ca46c0bb72207cd4d01c00": {
     "views": []
    },
    "121fbaf326bd498d94e013e735be0695": {
     "views": []
    },
    "128cc887b0d847abbd4cbcec7beb63e9": {
     "views": [
      {
       "cell_index": 12
      }
     ]
    },
    "13f365b693924b9e9a4354226ae429bf": {
     "views": []
    },
    "14510ea9231c44a09756b0f3344ead4e": {
     "views": []
    },
    "15243d505716415b8230ec85043bfddc": {
     "views": [
      {
       "cell_index": 8
      }
     ]
    },
    "156ea4af895148b399c2c6a1efaf8463": {
     "views": []
    },
    "1637032963eb40d9bc441d908725538a": {
     "views": []
    },
    "17668c89e7de4e65980e32f9be61d9f4": {
     "views": []
    },
    "18c1ce141d574865a0571affe80f05dc": {
     "views": []
    },
    "18fa765cb69f4e7f9a5dcc5410674659": {
     "views": []
    },
    "193f0c3618724afca1b8b1afac747b0d": {
     "views": [
      {
       "cell_index": 12
      }
     ]
    },
    "19df1cf9fd9643a8bc72518a2696f106": {
     "views": []
    },
    "1c3a2de0712b4c429d5feb5a64d3caee": {
     "views": []
    },
    "1d187ecccd514a81b09b321e9cecb269": {
     "views": []
    },
    "1d937782462d4d5bb9f38c39abaa99c4": {
     "views": []
    },
    "1ea547e6a7e34f3daa2388649f8ba701": {
     "views": []
    },
    "1ed9388f63b4426f874c21e0a124ec6d": {
     "views": [
      {
       "cell_index": 11
      }
     ]
    },
    "1ef321404c3d4faebb758e3a6df00cb5": {
     "views": []
    },
    "1f56b9237e8943bb850cc6cadaa70642": {
     "views": []
    },
    "1fe3de0268ee477d9d503ef0d48b7684": {
     "views": []
    },
    "1fef6fd1a9ec4d3d8894f6056a1d1958": {
     "views": []
    },
    "1ffc605db910433ea23895c0143a138d": {
     "views": []
    },
    "1ffd675d9bb84463b7cee286567de9e2": {
     "views": []
    },
    "209a526ae11a4f26929aaba9db63c789": {
     "views": []
    },
    "20f45194470048c29029a08b1d4f7275": {
     "views": [
      {
       "cell_index": 12
      }
     ]
    },
    "21647e0ae8274a3ba5ae0ab7d58d0ba7": {
     "views": []
    },
    "219ac91c81794aa2a1611d04a452bb8a": {
     "views": []
    },
    "21dbbb20311b4742b8d02f6846550533": {
     "views": []
    },
    "22a8a3812f864bf6ae09148a99c569c3": {
     "views": []
    },
    "230104bb434840909eb43497be4feb41": {
     "views": [
      {
       "cell_index": 15
      }
     ]
    },
    "23626869923243beb9d0135ae8ad0a26": {
     "views": []
    },
    "2413488563fe4b0b90479aab2a09a612": {
     "views": [
      {
       "cell_index": 15
      }
     ]
    },
    "241719d1f11e42de805fca4bc1283956": {
     "views": [
      {
       "cell_index": 12
      }
     ]
    },
    "24519fc1ee7f451b998960d302879b9f": {
     "views": []
    },
    "245c5e659f18493cb6d131eee760d1a5": {
     "views": []
    },
    "25e058279aaa4af6b6f532f889dd689c": {
     "views": []
    },
    "25e2a3b59bbd46e8b84875131e7d8790": {
     "views": []
    },
    "268282ad51e14ec0b0dd1fe3e7ea374c": {
     "views": [
      {
       "cell_index": 8
      }
     ]
    },
    "27021598867c424ba00d39c4bea1e56c": {
     "views": []
    },
    "281bcd08cf014e55a4fc79922ccb0128": {
     "views": []
    },
    "281e141fef964eadb9f7892427121300": {
     "views": []
    },
    "285e8bf22cf5447eb0a0e74565ef8471": {
     "views": []
    },
    "2891b728ac454efb959b3e001df3e65a": {
     "views": []
    },
    "294c5156921346ddb161e6ee3ea1a6e6": {
     "views": []
    },
    "2950a5fc3fb54ce78e8f9e124e85dcf9": {
     "views": []
    },
    "296ef542dc3443caaffe61cfc58f7d5c": {
     "views": [
      {
       "cell_index": 15
      }
     ]
    },
    "29881bea4f3148b0a4034d0af7515303": {
     "views": []
    },
    "29f6ff1c0ad6497abaf2c15bdbbf0525": {
     "views": []
    },
    "2a0bfb6371a74fe897085a7c968bc4a0": {
     "views": []
    },
    "2ac4fba9b1714dd7b452c289aab78acd": {
     "views": [
      {
       "cell_index": 10
      }
     ]
    },
    "2bb56ae9b0a340f18637d407024ef65d": {
     "views": [
      {
       "cell_index": 15
      }
     ]
    },
    "2cc31a96b49548b8a6e4132fac39fba6": {
     "views": [
      {
       "cell_index": 15
      }
     ]
    },
    "2d28e14c3d64433ab5c736d79c21a37a": {
     "views": []
    },
    "2d59fc13b8be4f32963caef05bee213a": {
     "views": []
    },
    "2f03867b4d334bad99c61a1a46429e03": {
     "views": []
    },
    "2f76948ebbab4865ad39d048147ef3c2": {
     "views": []
    },
    "2f88ccf8015a4841a4420c3d98954db0": {
     "views": []
    },
    "3014178bce254e03a1c50b46e5784b52": {
     "views": [
      {
       "cell_index": 10
      }
     ]
    },
    "302e1abc48c74a2db769ebc72a327db4": {
     "views": []
    },
    "3068a061af014721beeb8cd97fffd995": {
     "views": []
    },
    "307139c630854707a3629003f2a95156": {
     "views": []
    },
    "314fd167e0254497b46c8b2e7d3d4119": {
     "views": [
      {
       "cell_index": 10
      }
     ]
    },
    "315cf1dc954e4f87837cadfce8444998": {
     "views": []
    },
    "319cc0bcb30d4fb98df894f4baa72cce": {
     "views": []
    },
    "31c646dbbbb1497a8b537688006e49cf": {
     "views": []
    },
    "32f9406226554f16b8b9b2d299168210": {
     "views": []
    },
    "33161647bb764a00bc195bf6ed9d1810": {
     "views": []
    },
    "3318b68c230548259a7cf074b99bb6d6": {
     "views": []
    },
    "3360b7edd4c343d9a229c79dd9e2b82e": {
     "views": []
    },
    "342748187e5841cc9edf673f2c778564": {
     "views": [
      {
       "cell_index": 8
      }
     ]
    },
    "3475c69ce4a84ec7ad23aa3103bea487": {
     "views": []
    },
    "350c5a87d7b24a1da4d46a015518d488": {
     "views": []
    },
    "352db39bd1c4458f83edde103bf03602": {
     "views": []
    },
    "35352107efd64580b747a87d673c36b6": {
     "views": [
      {
       "cell_index": 13
      }
     ]
    },
    "354f290ee97647d7b81ae6a335b0dc11": {
     "views": []
    },
    "3591666222d446b0959655b6930edf8c": {
     "views": []
    },
    "36c9c349693f4cc9a765f42d44d53281": {
     "views": []
    },
    "37a420be9fb54868bbdfc0333995977c": {
     "views": []
    },
    "38ed23f59ace475389c1f2ec8b3354f4": {
     "views": []
    },
    "3adfcd63c7c2401c896fa5ee0edbbce3": {
     "views": [
      {
       "cell_index": 11
      }
     ]
    },
    "3b27e90a3fd64bdfa74599726785ac63": {
     "views": []
    },
    "3baf5c8c4e3f44e790b7451fb27d413e": {
     "views": []
    },
    "3be98465d3164fe79356fdb5150dbfef": {
     "views": []
    },
    "3c0872c407d74c2990192f6986f81acd": {
     "views": []
    },
    "3c7bbc9f69934fa295c7df408b787285": {
     "views": []
    },
    "3d5b0f2b74c842ad9b296f293b61d6eb": {
     "views": []
    },
    "3e0203c2a5c041df80ab46aadcac04eb": {
     "views": []
    },
    "3f700621fb2a413494e2728678d294a1": {
     "views": []
    },
    "3f72c0602c474ceab2f999d200300231": {
     "views": [
      {
       "cell_index": 8
      }
     ]
    },
    "410ab02a4f1c4424b0af490ad2f0be09": {
     "views": []
    },
    "41b9b47b689a4c4b8f370f497b25ea46": {
     "views": []
    },
    "425ca27c819343909d0ba4e39f089d1f": {
     "views": []
    },
    "42c2cbb79f50409a9ace71aa8a5eea99": {
     "views": []
    },
    "438059f9a49146ebacefbe30bd3ca864": {
     "views": []
    },
    "43c4e3c2a9e344afa07224289d07afcd": {
     "views": []
    },
    "43d92d3db27649b4aab4ba3e1606d51e": {
     "views": []
    },
    "440dcba6d555402a9b37761f4655b20c": {
     "views": []
    },
    "441d477fb8164fb2963ce9a1b41b26ca": {
     "views": []
    },
    "44af83d92683448e9a0e7c51fa2b757a": {
     "views": []
    },
    "450d7be0d55f4d38a37fb93c36241126": {
     "views": []
    },
    "4597ab1661c340cc9f15bc1e1e748739": {
     "views": []
    },
    "466c9263edc04f07b5250091125bcf8d": {
     "views": []
    },
    "46a696283174462c869868d5a94c92b5": {
     "views": []
    },
    "46eab080237b4dbf89e89defd059f321": {
     "views": [
      {
       "cell_index": 12
      }
     ]
    },
    "470b1acf4187452ca923487234e30971": {
     "views": []
    },
    "47440b4cbda5477c9c5f2450b7766fe6": {
     "views": [
      {
       "cell_index": 15
      }
     ]
    },
    "476ff91a492d4f0c930a814a24a65875": {
     "views": []
    },
    "477721c5b30e4afdad3b5493424ea7c9": {
     "views": []
    },
    "47b74c8d051043698f856dcb68d2c815": {
     "views": []
    },
    "47d488edf2714cb681e13b46e8e3678c": {
     "views": []
    },
    "484658153d2e4e1f8bcc2670db49c749": {
     "views": []
    },
    "486450abe14c40c5aa0a35e30e07bd30": {
     "views": []
    },
    "48a737e23fdc4bf1b7d1abd502af668e": {
     "views": []
    },
    "4a02de57b6924e7ea992bee144ec6b80": {
     "views": []
    },
    "4aaa08bd43b14e3b9755a35fcec593a1": {
     "views": [
      {
       "cell_index": 12
      }
     ]
    },
    "4b655bd02bd24cc986a688569d1f7ea1": {
     "views": []
    },
    "4b87ada48be14123875c3a28a8235005": {
     "views": []
    },
    "4bb6703e90f94f2fa48e65b702756c13": {
     "views": []
    },
    "4bc475e623da41b4819c6057e24d2039": {
     "views": []
    },
    "4cf2e17eebf840ee89da5314f084baa0": {
     "views": []
    },
    "4d0d14dccea24cec95cffadc3195d21f": {
     "views": []
    },
    "4d55c6e5813248f39e39b83cd4943b6c": {
     "views": []
    },
    "4d75d2cfaa0841849443bc041ed08f9e": {
     "views": [
      {
       "cell_index": 13
      }
     ]
    },
    "4ee2877707304d13b00a4b50eef72d55": {
     "views": [
      {
       "cell_index": 12
      }
     ]
    },
    "4f5238546cdc4341b456f79e85ff7f92": {
     "views": []
    },
    "4f7d0cb38b6a4eea8c145ede5551f287": {
     "views": []
    },
    "4fba61ddf3af47c1804c27de6914d15a": {
     "views": []
    },
    "5060b0b0948246a89671f52fec780cde": {
     "views": [
      {
       "cell_index": 12
      }
     ]
    },
    "5060dfd49d49484695eb6321267866d2": {
     "views": []
    },
    "50696c484af244b28bd8b70b973ad726": {
     "views": []
    },
    "509a6a4d0ce54bb5b5eea2811b31f144": {
     "views": []
    },
    "50a8be244d284b66b47442d89952b7f8": {
     "views": [
      {
       "cell_index": 15
      }
     ]
    },
    "51392cfe9f1d4f56a44fd357ffba98b5": {
     "views": []
    },
    "514ec65397bf4b8eb82d8fdba2f6bb13": {
     "views": [
      {
       "cell_index": 13
      }
     ]
    },
    "515b7952f85040a2b3e2b469a6e27d41": {
     "views": []
    },
    "516b37304fe34560a8258404c2a52ae6": {
     "views": []
    },
    "51825da5b59a4a84a8f16df901e3286d": {
     "views": []
    },
    "51a817e1ab84401c89ad098256c1e58f": {
     "views": [
      {
       "cell_index": 12
      }
     ]
    },
    "51cb069edcbd439a88d54623f43fe784": {
     "views": []
    },
    "5219c5224c874d808326e0b635e37ca5": {
     "views": [
      {
       "cell_index": 11
      }
     ]
    },
    "5270e3833c1547e7b383e5c700087c7f": {
     "views": []
    },
    "53e8097cc9a24829b27a41f2f1a7c4fd": {
     "views": []
    },
    "543843df74d54048a82d29c6a9533991": {
     "views": []
    },
    "54581d8a04534796a07e0283bb297820": {
     "views": []
    },
    "55ad7df7a8c24e62bbdde6d2f6609837": {
     "views": []
    },
    "5678ac0ef7314fa4ac606d500db8dc83": {
     "views": []
    },
    "573972c06f804b8ebce427adf6bc456b": {
     "views": []
    },
    "5809d72505c04491b7f2a4f72397d746": {
     "views": []
    },
    "583fa4a1fdff43aeb0f95857074da852": {
     "views": [
      {
       "cell_index": 8
      }
     ]
    },
    "58a0979e58bc40eb85b0e68c423b9c50": {
     "views": []
    },
    "5901c831ef864884b0d845a61d36bbf0": {
     "views": [
      {
       "cell_index": 12
      }
     ]
    },
    "590e88e9b0b6432696c922b2f1ae41a6": {
     "views": []
    },
    "5912e3878f8c4804bf702ef59d1ebe6f": {
     "views": [
      {
       "cell_index": 11
      }
     ]
    },
    "59379876cf6e4643b3502b9cd971c431": {
     "views": []
    },
    "594807ab38ac40fa8fb1e53a1d667ff2": {
     "views": []
    },
    "595a0eed5659484ba56afffcd6609c66": {
     "views": []
    },
    "59618f225ceb4451b79a8291f07f8298": {
     "views": []
    },
    "5972ba256a40411eac6cc000467539fe": {
     "views": []
    },
    "598c5ea7f2264d6991443910773ebecb": {
     "views": [
      {
       "cell_index": 8
      }
     ]
    },
    "598fb84b864b49d28b3e4e3ea8f8b5a6": {
     "views": []
    },
    "59c19699011c489e93271a25d9476456": {
     "views": []
    },
    "5a56d75bf2a04012aaedf653baa40400": {
     "views": []
    },
    "5a7ef4ee5683490f8bd24879307720a6": {
     "views": [
      {
       "cell_index": 11
      }
     ]
    },
    "5a8fecf81bfb4db68853f28c4a95dad9": {
     "views": []
    },
    "5a9478b247524e279ddf0a26f1c807b9": {
     "views": []
    },
    "5b3eb6f5705445ec99511a0bc1338a86": {
     "views": []
    },
    "5b45ea2366004b17b86cfc2ebd7c408f": {
     "views": []
    },
    "5b713c7417514b2aab49dc553cb30990": {
     "views": []
    },
    "5c2b2fd7a69443a2ad08f090296b7607": {
     "views": []
    },
    "5c3275cc48d44a4da10fb29d34bf4f59": {
     "views": []
    },
    "5c80594332484d2f9b113b983f2f0d3b": {
     "views": []
    },
    "5cbdbffd8ad24fdca6a0c699863421ef": {
     "views": [
      {
       "cell_index": 15
      }
     ]
    },
    "5ce4d0e149fc47a7959e9b55be27b295": {
     "views": []
    },
    "5da13c0dca2e41f5a3930ec0f29e40ed": {
     "views": []
    },
    "5dae6c91b8204227b021f5ad732544bb": {
     "views": [
      {
       "cell_index": 11
      }
     ]
    },
    "5e56cca7fa3643cc984f51cfe7c1d55d": {
     "views": [
      {
       "cell_index": 15
      }
     ]
    },
    "5ea8402140f94061896926a6162e0261": {
     "views": []
    },
    "5faace7ea1b240ef8c8d451aa398db69": {
     "views": []
    },
    "600e861aa9a94eb3a3cfc0c9934bfdf9": {
     "views": []
    },
    "603d5195915e4b38a60f232fa066597d": {
     "views": []
    },
    "6100fd83fd9a4f30a605f40af20288db": {
     "views": []
    },
    "6139cb545adc4023a4e7c52898c1b43a": {
     "views": []
    },
    "61b4cbe1d03843bc80076c275cee0286": {
     "views": []
    },
    "61e6f1e8a19b4a28a676afde37bd2a54": {
     "views": [
      {
       "cell_index": 15
      }
     ]
    },
    "624f11d0b42f498287b7fff4955315de": {
     "views": []
    },
    "62c5383ab07446f5852afdf9de8c2388": {
     "views": []
    },
    "631596d4bf75496f8272a56381af8606": {
     "views": []
    },
    "63f139a624cd40b3b12341f52fcc5057": {
     "views": []
    },
    "64471486b8a14ef1a67ae40cda7953b0": {
     "views": []
    },
    "64dbe102e64d449a890cf86726af570f": {
     "views": []
    },
    "662a3f53e1b7459a942df8e8ef6a79d8": {
     "views": []
    },
    "66cf8ecabce84fd280d5edfaf090d738": {
     "views": []
    },
    "66d002dad1624fe78f59e6a57d5d066b": {
     "views": []
    },
    "66e8ca1e758b42d287c0a4ca32a4e51e": {
     "views": [
      {
       "cell_index": 11
      }
     ]
    },
    "6744d6b77af84468a1f8044632e3d5f1": {
     "views": []
    },
    "678b449052974d88949194cc7639cbce": {
     "views": []
    },
    "67c1cf800dd948368f87b50793d82b85": {
     "views": []
    },
    "67fb131b6d464661a7f98816258431c0": {
     "views": []
    },
    "684efbdf694547e5946f1eb5872b1719": {
     "views": []
    },
    "6855f459d4a34d70bf54d245bcf20816": {
     "views": []
    },
    "686580dd459149cbbb20d5c039ffee60": {
     "views": []
    },
    "686b65b0f2114bdfb36a00b6fe8d0224": {
     "views": []
    },
    "68c7b2b7678041d5af7fc8917d9c2bc4": {
     "views": []
    },
    "6947fe335aa14cada83ebb9e0134d0dd": {
     "views": []
    },
    "695237518d1049449d1ae0affa27af72": {
     "views": [
      {
       "cell_index": 10
      }
     ]
    },
    "69d74019f7a4453e83d7d2eba3638e3e": {
     "views": []
    },
    "6a31f9a025f14154b3642c555fb77a86": {
     "views": []
    },
    "6a680d17d4744e37ab520c51365585fb": {
     "views": []
    },
    "6a7e1a3c2ba04f0081b0b4a950e7b158": {
     "views": []
    },
    "6ad3ba3c6284412cb7e21f8228a3f8b9": {
     "views": [
      {
       "cell_index": 12
      }
     ]
    },
    "6af56f9ace4343849d054aecb3a3b449": {
     "views": []
    },
    "6b1735e80c47432bb7b9518df24e5508": {
     "views": []
    },
    "6c0b5261adea46dab6092172375564b7": {
     "views": []
    },
    "6c513a65ea764d92a8d77c28e18181b4": {
     "views": []
    },
    "6c559583373740348d1dd2ffa24a62cf": {
     "views": []
    },
    "6c562717c6c24ecf986e9bbadf7e06e1": {
     "views": []
    },
    "6c9ffa590c884c67b83fb813c3d82859": {
     "views": []
    },
    "6cdcbed096bf4d588913cfe336fe63da": {
     "views": []
    },
    "6d2cbbc8190e4ca180604d8b8df9e9fe": {
     "views": [
      {
       "cell_index": 12
      }
     ]
    },
    "6df2bb411e7544769e412edeeb4337a9": {
     "views": []
    },
    "6e22fac7d6c94477a6f361a49eb2139b": {
     "views": []
    },
    "6e2999a4cbc0418f8240a6c78cb12952": {
     "views": []
    },
    "6f315d0416394b888352ee686d105377": {
     "views": []
    },
    "6f3cd5947e2748bf8021bb1a3cb8b2b7": {
     "views": []
    },
    "6f84a0b9a21d434ea0ed98f8ff64ccb3": {
     "views": []
    },
    "7004a45185c444efa21f49596e745b0d": {
     "views": []
    },
    "701bcf05bae342abb41fbc6572b24f04": {
     "views": []
    },
    "709694c6936949cead70272b95cf410e": {
     "views": []
    },
    "70a71c1d92684c3a83a8ccc013411562": {
     "views": []
    },
    "712123375de1496fb422d9aaa877af9d": {
     "views": [
      {
       "cell_index": 10
      }
     ]
    },
    "7124ca684b9146998210c7c38f85a955": {
     "views": []
    },
    "71823a9fc73141c2938b49e9e8eb0b9e": {
     "views": []
    },
    "71cd718428974f05b1241edfc9df0af0": {
     "views": []
    },
    "71fdfcbe12e1439884893efb798703de": {
     "views": []
    },
    "72119dc26f2a4a9bb225327ae1a47051": {
     "views": []
    },
    "727b5f2d5b9f42b9b32f3b03dfd5f844": {
     "views": [
      {
       "cell_index": 15
      }
     ]
    },
    "72bcdaf329a64c528af1dcff3d69a1c3": {
     "views": []
    },
    "739831ce6f2b465681424dceb205ca5f": {
     "views": []
    },
    "73f8aba7028e46cb870de632110f9abd": {
     "views": []
    },
    "73fa2f20bc1447dcb9086a46fdcac3c5": {
     "views": []
    },
    "74471f29899c42db802da2317418af58": {
     "views": []
    },
    "745b3480d4a34f128eeffe165f4509b3": {
     "views": []
    },
    "746f24b4854c480caf5f0072adbaf566": {
     "views": []
    },
    "74d9d0eaed654bf1bbfcc9a8bb17d065": {
     "views": []
    },
    "7541871077df4140a24225f0445a16cb": {
     "views": []
    },
    "7556c45347c64f7c8f4727e6e82456d6": {
     "views": []
    },
    "75ec67bdc331498590a976e4f88be1ce": {
     "views": [
      {
       "cell_index": 15
      }
     ]
    },
    "76134eab4b0e4c85bf46839fc2c65f72": {
     "views": []
    },
    "764621865a9f4d159e98a769744c5626": {
     "views": []
    },
    "764fa6777cc94673a9a4a971475fe9e0": {
     "views": []
    },
    "77a3c024b04f47b39a63de257907d0a3": {
     "views": []
    },
    "77dad5354ee94c428ddb45e92ceb7b46": {
     "views": []
    },
    "780538062af44f4ab8f7c518f8823af4": {
     "views": []
    },
    "783d9413850547a782f43f7109c31626": {
     "views": []
    },
    "784e00533fd348fbb9eec0d557e747ec": {
     "views": []
    },
    "789ff2f77426453d92676b2e284998b0": {
     "views": []
    },
    "7927652cd27d477d85d83edad0eabde1": {
     "views": []
    },
    "793b279d3b5e4dd3a5f1586c4836dffe": {
     "views": []
    },
    "79eeae4e7de14414b41f3b261b90cc2d": {
     "views": []
    },
    "79f7afb9c31843d49f6a1a7b6b143bf8": {
     "views": []
    },
    "7a9aa0742f834ab5845b15371740affa": {
     "views": []
    },
    "7aa4264110d04cfd9cc3e8317e5b3283": {
     "views": [
      {
       "cell_index": 8
      }
     ]
    },
    "7b3d55e0503c4b15a963bc5ba1d90726": {
     "views": [
      {
       "cell_index": 11
      }
     ]
    },
    "7c19fea68a7f463c917610979af52121": {
     "views": [
      {
       "cell_index": 10
      }
     ]
    },
    "7c31cd2542524ba283317009660b59e8": {
     "views": []
    },
    "7c64ac1b3ff84826a5829be52f0860f9": {
     "views": []
    },
    "7c8625076c124f8ca872eb5f14c7e2d8": {
     "views": []
    },
    "7d3abd89cced4acabb61ce5cc8b41728": {
     "views": []
    },
    "7d4ad74e75f246149b7926dddee9a191": {
     "views": []
    },
    "7dd0ae0f1a804f1d9813f9f0469d8969": {
     "views": [
      {
       "cell_index": 12
      }
     ]
    },
    "7deeab52725e467d9f10485bbdc4c2cc": {
     "views": []
    },
    "7e34a4f32fa94d548e276d0fc11052be": {
     "views": []
    },
    "7e61afbec4e446fea202e609b4b90a7e": {
     "views": []
    },
    "7ed6068b19994a32b8147b2200de1587": {
     "views": [
      {
       "cell_index": 10
      }
     ]
    },
    "7f9e5756f3ec450b850fca106268a925": {
     "views": []
    },
    "7fb4e865459a44e19cf8a84fb15b13ec": {
     "views": [
      {
       "cell_index": 8
      }
     ]
    },
    "811653b6742b4196a7866e8b44d26ad9": {
     "views": [
      {
       "cell_index": 13
      }
     ]
    },
    "816082c3c650417f8ef27ba97bda43f8": {
     "views": []
    },
    "819670bde921495e9b12d0847c10964e": {
     "views": []
    },
    "819ed7fef25e4d33941fb5e12a655edd": {
     "views": [
      {
       "cell_index": 13
      }
     ]
    },
    "830cabaa7e6646fbac382fd024d93814": {
     "views": []
    },
    "8378992a616948b48548f4702d9982c2": {
     "views": []
    },
    "83be8be4bb6841388f59cefb90e7ed5a": {
     "views": []
    },
    "8485f96cecfc4917b00e015be0f9311c": {
     "views": []
    },
    "84b19fdad9de4a9c98675cbfb601ff59": {
     "views": []
    },
    "84d8a17fe0a9498ca5434beca7187613": {
     "views": []
    },
    "84fa7daad50747ff9c48db7869daa850": {
     "views": []
    },
    "8529353e438a43a29bc6fa0a2a15902f": {
     "views": []
    },
    "85f1f7d5800b4a82b4a06b2fd7b6d389": {
     "views": []
    },
    "864dcba6bb294dc99994a6f6c3bfc3ad": {
     "views": []
    },
    "86b18db52be44e32ad05bc9dee1fdf41": {
     "views": []
    },
    "8705f62916bd49bdb5d388a0f30ba34c": {
     "views": []
    },
    "872a5e5e2acd4334b3a25d99b3550bb1": {
     "views": [
      {
       "cell_index": 15
      }
     ]
    },
    "873e20d4ec81418a8b50b7bb0162c86d": {
     "views": []
    },
    "8791c9f177804810995b97da342158c4": {
     "views": [
      {
       "cell_index": 15
      }
     ]
    },
    "8795f1320bd74982bc5290cdf5750307": {
     "views": []
    },
    "88825699fa794210b58d9de4238eb5c9": {
     "views": []
    },
    "89063c02117c42af9cdbbe9e6231be40": {
     "views": [
      {
       "cell_index": 13
      }
     ]
    },
    "895494ae5b8c4028ac46df0a815fd1c0": {
     "views": []
    },
    "89cc4c4969644b0b929b61501c81559c": {
     "views": []
    },
    "89d7befe430149b8afb8403aea486e48": {
     "views": [
      {
       "cell_index": 13
      }
     ]
    },
    "8a26aae229c4442f8b35d5d1ae380174": {
     "views": []
    },
    "8a3e0634054842a88ece743e06561ae1": {
     "views": []
    },
    "8a6e2033cc414da99a0180fe4dac5f81": {
     "views": [
      {
       "cell_index": 15
      }
     ]
    },
    "8a8d140db55d439584ee825e1d5ce09e": {
     "views": []
    },
    "8a970351a16144df9aab606d9bb8762a": {
     "views": []
    },
    "8c7fc292668b452ea12b231712a2fb89": {
     "views": []
    },
    "8d83636a3de94129872d5f20d4b0b31f": {
     "views": []
    },
    "8dd3f3f989c64366ae0a845f6232ea2f": {
     "views": []
    },
    "8ecf33305db34349b2ad564287ec8239": {
     "views": []
    },
    "8f67aa77b3a346279c44899199d81e5c": {
     "views": []
    },
    "8ff25fd120bf4da0ad86b26791f65c8e": {
     "views": [
      {
       "cell_index": 8
      }
     ]
    },
    "9001836932994fb6833beb28273f0f01": {
     "views": [
      {
       "cell_index": 15
      }
     ]
    },
    "90d88c71135c4f0986cde7eca4989b07": {
     "views": []
    },
    "913ff0884ca948f6a529f43cd39cc5c0": {
     "views": []
    },
    "9199fb0bec38438b977ffdb296d263db": {
     "views": []
    },
    "91af4bd0e19742d6ac52d282fd75c7af": {
     "views": []
    },
    "91efba9dd8614f58becc1145d8537bf9": {
     "views": [
      {
       "cell_index": 11
      }
     ]
    },
    "9202d15141764063a3630a4fed93e7bf": {
     "views": []
    },
    "9224c44f4ea749e989320d3e183c91ed": {
     "views": [
      {
       "cell_index": 12
      }
     ]
    },
    "92936d50f7a8419da605236062eead7c": {
     "views": []
    },
    "92ae8358821e49e2a1ec1999d929c441": {
     "views": [
      {
       "cell_index": 12
      }
     ]
    },
    "92fee3bb609049789e55b12666217fe6": {
     "views": [
      {
       "cell_index": 13
      }
     ]
    },
    "936ece0639af4183b06e06598fb55c09": {
     "views": [
      {
       "cell_index": 12
      }
     ]
    },
    "9373359ab9924a0bb39daeb0ad9058ef": {
     "views": []
    },
    "9374c62ee85f4ea58e1f47a340c2c9d6": {
     "views": []
    },
    "939130d85efc401ba6594cd2b24cd751": {
     "views": []
    },
    "940f4065d7a949abadde3f7680d1c494": {
     "views": []
    },
    "94421cd2c2924642ae73756dccadd279": {
     "views": []
    },
    "94b85fddf2d3433699604e89b817ac64": {
     "views": []
    },
    "94c77ff3be764f53abde32c76cf09f69": {
     "views": []
    },
    "94c849189811424984a3df8776221a2f": {
     "views": []
    },
    "954e259f4a584c51bfc281acf72ed9d3": {
     "views": []
    },
    "9564e344dd99499199c701991c780536": {
     "views": []
    },
    "957725d0d2c2469ab32e141c1e072ba8": {
     "views": []
    },
    "959777dec3c641139270255fe0abb64a": {
     "views": []
    },
    "95ac7ccf49f4482b844f97503a193143": {
     "views": []
    },
    "9604ea2a1546463ead5aef16c3ad33f0": {
     "views": []
    },
    "96a680fb232846e89104714a2e374443": {
     "views": []
    },
    "96a9820797b147fbb039d672c6101a0e": {
     "views": []
    },
    "972a06eb255b476d896602c881e5f491": {
     "views": []
    },
    "9788e28221b849e0a66437807888b443": {
     "views": []
    },
    "97ce377c194344cea4010b95cef89d22": {
     "views": []
    },
    "98cc304dd2974980b8e8a7424dbeaf20": {
     "views": []
    },
    "98f6b335ad27497abb2b5ad5c952e198": {
     "views": []
    },
    "99006724ec8b4c90a1c83cb3b1f4719a": {
     "views": []
    },
    "992bc1aeea9b41acbd38dd9f6abedfc4": {
     "views": []
    },
    "999ee91841144f839b84f1d21a78da38": {
     "views": []
    },
    "99b486250e994350b1a59bcf723da684": {
     "views": [
      {
       "cell_index": 12
      }
     ]
    },
    "99cb0f96bd0e4c16bb745bc211b63c64": {
     "views": []
    },
    "99eca2d12a7e4432a8158e35b5f93117": {
     "views": []
    },
    "9a12128d13374a3193c8a67d9a593583": {
     "views": []
    },
    "9a2578d5018d4670bacdb7a8e0bc4a4b": {
     "views": []
    },
    "9a6ac6e85a57485db214b068d14cbf55": {
     "views": []
    },
    "9a9bc890d74a45eeb13998e667c6274a": {
     "views": []
    },
    "9ad06d6c9837492296615e32c0441ab0": {
     "views": []
    },
    "9bc11abbc9314bdd9f8befb568ad911c": {
     "views": []
    },
    "9c2d953a6ada453f852ce6a4b3d45912": {
     "views": []
    },
    "9ccf316f4bf244e2bb513404e6760f4d": {
     "views": []
    },
    "9d42979808384a7e8f27d3c1087e3af6": {
     "views": []
    },
    "9e4ce68ae1ce4ce6a500893b58ebc99b": {
     "views": []
    },
    "9e6b37fd50f24c2e844e4d3c376ce6b5": {
     "views": [
      {
       "cell_index": 12
      }
     ]
    },
    "9ec446e5e6bb4a41b971cad4bd7d2455": {
     "views": []
    },
    "9fb841e9ce114403a1505d22000b5cfe": {
     "views": []
    },
    "9fbe80b646a0411e97f28e1a0c40b4a1": {
     "views": []
    },
    "9ff51ecc38084fc0a9698281d9379a56": {
     "views": []
    },
    "a01f574985e746f38cb1d49a4295ca24": {
     "views": []
    },
    "a06ab99e3f184024b94ac6cb4f662158": {
     "views": []
    },
    "a087ca4f08844ca4932b5ac79799e683": {
     "views": []
    },
    "a095da613b5240a3886d38eaeeff08ca": {
     "views": []
    },
    "a0cca0959e6847159b1c75651f947e95": {
     "views": []
    },
    "a0f3cb3919054accb57008b0a70bfeb9": {
     "views": []
    },
    "a1d0d8294cb3443da818ee21a97af2d7": {
     "views": []
    },
    "a2035b7112cf48418a74c112cc1fc37b": {
     "views": [
      {
       "cell_index": 11
      }
     ]
    },
    "a2dc820694934747ba822024ef2c707c": {
     "views": [
      {
       "cell_index": 15
      }
     ]
    },
    "a3c6ff2917fd48b2b13854da57bbe0b9": {
     "views": []
    },
    "a43c882fcb0c4be6b2415bc10fadd05f": {
     "views": []
    },
    "a4d6f22d50d342d49503650ab39f235b": {
     "views": []
    },
    "a55ccd057aca45049328a498b6afaf55": {
     "views": []
    },
    "a55f0620a6d940d7bb3186123efc4305": {
     "views": [
      {
       "cell_index": 12
      }
     ]
    },
    "a5bc944ebfe74392a56f6bbc4742edae": {
     "views": []
    },
    "a600e415a4b04d5cb23ed3184acaa3ae": {
     "views": [
      {
       "cell_index": 8
      }
     ]
    },
    "a674294fbc394a71abc0447b072123b1": {
     "views": []
    },
    "a68026ce715546bfa093c8f6ac7c27cd": {
     "views": []
    },
    "a686be006fbd430f81dcbc43be6a4060": {
     "views": []
    },
    "a6aebe0f1b014f4e8000870eb006440d": {
     "views": []
    },
    "a6e58caa33fe42969a6032cc5f4e9f25": {
     "views": []
    },
    "a76cd8e615e44312ae7f0c9ce33d6757": {
     "views": []
    },
    "a774e2db20f147aa9b87bcd999998cd8": {
     "views": []
    },
    "a7a6363516f24586a1bcd039ff552792": {
     "views": []
    },
    "a7b250583b5b42b39813ef0c3cb2ce65": {
     "views": []
    },
    "a86e964305284fdfb1befd5ada668e92": {
     "views": [
      {
       "cell_index": 13
      }
     ]
    },
    "a8c67d160a48407ca39d19c98d325ee5": {
     "views": []
    },
    "a97f6f9672c54d398829e58e71d06a5e": {
     "views": []
    },
    "a9d30181f4f4413d91ac36296696418e": {
     "views": []
    },
    "a9d67aa9cb0244f18623bb37f610d3d9": {
     "views": []
    },
    "aa3f4e4c554747ca8adc83a933821b0b": {
     "views": []
    },
    "aa76dfae8ab8410d90b36c84acf12334": {
     "views": []
    },
    "aaa419c8d506487fba186b12c7b1b3d5": {
     "views": [
      {
       "cell_index": 12
      }
     ]
    },
    "aad0174a144140c0aa9feda28bd4247b": {
     "views": []
    },
    "ab0bf0ff676846ce813926fc4dc3b45f": {
     "views": [
      {
       "cell_index": 8
      }
     ]
    },
    "ab32758fe33e42e996a021586ec4de2d": {
     "views": []
    },
    "abb521a8f52e4951a97f0811b38cf915": {
     "views": []
    },
    "abd88cb3b65e48ac8a8dabc434f90fa2": {
     "views": []
    },
    "abfd91ba9e2443608776ca8469e23b6c": {
     "views": []
    },
    "ac09a03baa8349b48df2e933e9bd0426": {
     "views": [
      {
       "cell_index": 12
      }
     ]
    },
    "ac13676f901f4c33a3f56f7b81af0e69": {
     "views": []
    },
    "accd5609249a4e3cb67e4a16b57cbc5c": {
     "views": []
    },
    "ad792309c64a4587a7a0d013ad5aff90": {
     "views": []
    },
    "ada197835a6a4faaa614ddcbaefd10f2": {
     "views": []
    },
    "ae664d690601447aac48c8e1c2dd7c8b": {
     "views": []
    },
    "af22985f0ffc42a894f978df535407e0": {
     "views": [
      {
       "cell_index": 15
      }
     ]
    },
    "af4cccf5592d4747a732baf17fca1200": {
     "views": []
    },
    "afadad2ff5104990a04ad2a2fffdb9a3": {
     "views": []
    },
    "afd199be815e451db39b1eab158a5188": {
     "views": []
    },
    "b00c251feb054170bead6d0b6817aec2": {
     "views": []
    },
    "b08bdec251c242818fdbc71793322bb0": {
     "views": []
    },
    "b0a237271d604833ac364b7858a7bb36": {
     "views": []
    },
    "b0b23063f6774e538924950aa7ff7753": {
     "views": [
      {
       "cell_index": 10
      }
     ]
    },
    "b0de8fe1bec441dc93773245df991a4c": {
     "views": []
    },
    "b0e3e9ce87854af6bf77f73bc0e9cc3b": {
     "views": []
    },
    "b16d2fb5c2ba41848d84a2b8b59b2dfa": {
     "views": []
    },
    "b18b42102a4e4d1cb773da2c37cacfe4": {
     "views": []
    },
    "b1a744d2477d4836a25ad8571d86b085": {
     "views": []
    },
    "b1ed30c2d26e41ff99fc35a017788e8d": {
     "views": []
    },
    "b2a6fc32ca3b4384bdb130606e740ce7": {
     "views": [
      {
       "cell_index": 8
      }
     ]
    },
    "b2d0966d83e947358b5bfc65ebb0b6d9": {
     "views": []
    },
    "b317888e6e504dd49a32245289e8d646": {
     "views": []
    },
    "b31dfebf48e14fe5b48590442b667c13": {
     "views": []
    },
    "b3adc9dfad254bc5b93633806f698dbf": {
     "views": []
    },
    "b4a55792ca004d51b44ecb808de374e4": {
     "views": []
    },
    "b5519514160a46cc8c33e8f0516ed6e9": {
     "views": []
    },
    "b574069f2e8947fd91e1e92a49a23bb7": {
     "views": []
    },
    "b5d7c489ff5d4c22b46a4415a8511a7c": {
     "views": []
    },
    "b6bafc9d8a6d45ef91b6c2fe5112937e": {
     "views": []
    },
    "b6d7ed6767874a2d8bdd914e1bc865a1": {
     "views": []
    },
    "b7521d7e41064bf5b229598bc3fca0e8": {
     "views": []
    },
    "b9a08b3ae3db4accb78f52e6bac836db": {
     "views": []
    },
    "ba3f085f4e204baba4145e0b7395c285": {
     "views": []
    },
    "bb2424617bb8471fa95ea47c4395c5b7": {
     "views": []
    },
    "bb7e374261c14718986f4ecfda2b5043": {
     "views": []
    },
    "bbd16a6163354b5181df73cfdfdc6117": {
     "views": [
      {
       "cell_index": 12
      }
     ]
    },
    "bbfd9b7902e04ed2a4482c70ff6908a9": {
     "views": [
      {
       "cell_index": 12
      }
     ]
    },
    "bc4b13f0f75b49e6990593847629b687": {
     "views": []
    },
    "bc56cbcdd69b4324b6d9aef46bf0af8e": {
     "views": []
    },
    "bca81ca0316a4cefaaeab087c72ac61a": {
     "views": []
    },
    "bdb9a7b11a234e069278b93be39b9d61": {
     "views": []
    },
    "be7198c2b891471a8a9981b5c3cd6957": {
     "views": []
    },
    "be926b6a2fb94bc08dc3ada2e57a8672": {
     "views": []
    },
    "becc755a6a474be1ab4c18cc0c52154a": {
     "views": []
    },
    "bf7f6bcd8342494a8bb48e665bc57bbf": {
     "views": []
    },
    "c00c76449a264a6ca01bcb759754d85a": {
     "views": []
    },
    "c044bda8eb9c4a68b47492a2186844a2": {
     "views": []
    },
    "c06ee7f075ef4aa79f405d7cdb7e1295": {
     "views": []
    },
    "c24ae5585143470995ccd8c8897093b6": {
     "views": []
    },
    "c2f757c5dca040758b236ff105196134": {
     "views": []
    },
    "c33f081f54764052ae9b945b1ffa7eb2": {
     "views": [
      {
       "cell_index": 8
      }
     ]
    },
    "c39d7228894b4e61b8acbca4a94d33ac": {
     "views": []
    },
    "c411626383cb4201a3a14c772c614c6c": {
     "views": []
    },
    "c4902386486e4ea1a8609625e7a6fbc2": {
     "views": []
    },
    "c527287b29e5452ab35eb18b54eed970": {
     "views": []
    },
    "c53b62b041b64d14a59742b4bd5d1805": {
     "views": []
    },
    "c54eb729678948369a64a7e926468bef": {
     "views": []
    },
    "c5bff44b19d34327b7900b84873527eb": {
     "views": []
    },
    "c5d175f9f98d4fea8fec50d79ebd0587": {
     "views": []
    },
    "c5e0bc1fb1974a0d8b9ce67de89cccaa": {
     "views": [
      {
       "cell_index": 8
      }
     ]
    },
    "c60311f6dae3465a8eb75fcb06adcf6b": {
     "views": []
    },
    "c66824004c10407ba18bb7d2701e787b": {
     "views": [
      {
       "cell_index": 10
      }
     ]
    },
    "c694de2b84fc493481cd41d776117d01": {
     "views": []
    },
    "c719125e742f483d8155a4d2935ba310": {
     "views": []
    },
    "c7505fb184394abf97c75d07f3a2ff1e": {
     "views": []
    },
    "c79c56107696414e92f9f160a8ee8ab3": {
     "views": []
    },
    "c8bb3070fb6d461dae79e0d1e5bd2248": {
     "views": []
    },
    "c8f0026e54e24702b7e61383167de943": {
     "views": []
    },
    "c9a6dc979a6e46a2ac3198f502b53179": {
     "views": []
    },
    "c9c72931f5e744ee8fbb8dc2e2ee003b": {
     "views": []
    },
    "caa2ed96b6aa46da8f94820466eead9c": {
     "views": []
    },
    "cb0114c3efec4b7f8d3692028ffca285": {
     "views": []
    },
    "cb19afe2feaf4bb0b89fccc70e0b064f": {
     "views": []
    },
    "cb3d4a77ca3f422db80e1d4d1f14bc4e": {
     "views": []
    },
    "cb589dc3855844deb91ec7e7f84f1194": {
     "views": []
    },
    "cb59ff6ce97c493c9c09a8e218098026": {
     "views": []
    },
    "cb77cd8c6b6d4369bc0fdcd5c9afdbd1": {
     "views": [
      {
       "cell_index": 12
      }
     ]
    },
    "cb9085e482ec40e8893c35a298f928a6": {
     "views": []
    },
    "cbc144029e794b7ab65a1b4eedda864a": {
     "views": []
    },
    "cbf81ca415e04078aa46188af54cc6be": {
     "views": [
      {
       "cell_index": 10
      }
     ]
    },
    "cc1cee8a7ba6426384fe0e48e701b7d4": {
     "views": []
    },
    "cc482773794740eb983a835520e3526e": {
     "views": []
    },
    "cd1ddf3af6ec4199a96d60195537cfe6": {
     "views": []
    },
    "cd60e6c9231247d6998f48c5526e0c75": {
     "views": []
    },
    "ce23073cf78f4b86b400821bafa01f63": {
     "views": [
      {
       "cell_index": 12
      }
     ]
    },
    "ce6ab6bff010424086cc30f4988d2042": {
     "views": []
    },
    "ce94be3fbbfb4d349c0e88e6bd509543": {
     "views": [
      {
       "cell_index": 12
      }
     ]
    },
    "cf77abd71e5d4a9696350e2b194924c8": {
     "views": []
    },
    "d0a79de48baa44b7a981ceb50edea00e": {
     "views": []
    },
    "d0af3bbf12f74999ade28b13b65f3729": {
     "views": []
    },
    "d0e20d33d6a041dd9aef40a1174964c1": {
     "views": []
    },
    "d17d3013ee194654a02b90f83ba52e82": {
     "views": []
    },
    "d1bd84f1494541239c864db746a913e2": {
     "views": [
      {
       "cell_index": 10
      }
     ]
    },
    "d1dfa880b13d4a8da4768f81a9ab4581": {
     "views": [
      {
       "cell_index": 12
      }
     ]
    },
    "d233587e3fa141f69c7237c983db9920": {
     "views": []
    },
    "d313ac1500084785b0e46dbffccfe41d": {
     "views": []
    },
    "d3357c1df5904941a1a55b26749bd615": {
     "views": []
    },
    "d34d34afcb5a46d987a5de38ff2bceb6": {
     "views": []
    },
    "d3532c9b00b74ed2b884c8af091918a3": {
     "views": []
    },
    "d365825701c04ca3b2c3fb6b11d69f8e": {
     "views": []
    },
    "d3affe8eeffc401da3f6e6edc76f8bc7": {
     "views": []
    },
    "d404c8a8a76b45d6a79ed4ed0bbb254c": {
     "views": [
      {
       "cell_index": 12
      }
     ]
    },
    "d40deda45ee84cb7bf8a9add75bb6caa": {
     "views": []
    },
    "d442de244ac340cf8fff1ff4bf2cbf3a": {
     "views": []
    },
    "d474619ebea94e4ea01a92b16cd51587": {
     "views": []
    },
    "d4f7d0edd4f944059e9402cf66ea4bbe": {
     "views": []
    },
    "d5e094acf1ff46e29af67142b961bce8": {
     "views": [
      {
       "cell_index": 15
      }
     ]
    },
    "d68a1b1759ca4e64a46b82452b2ebaee": {
     "views": []
    },
    "d6cef5678dde4427b5268ff98849299f": {
     "views": []
    },
    "d7448e44e91440189fb27b309436922a": {
     "views": []
    },
    "d7542338d6054d42a27b5c62dd2aa831": {
     "views": []
    },
    "d7f113b196ad4dc28c89b7f84f02b394": {
     "views": []
    },
    "d7f2bdf5dc184539b4e24d0149cca271": {
     "views": []
    },
    "d81ad62ca7e547cf84a8a875b0874139": {
     "views": []
    },
    "d8796bd86fb1441185b6407ad0741bc2": {
     "views": []
    },
    "d8807e214e534e71b67fee4adda60507": {
     "views": []
    },
    "d881ab969c9d4f21859d7c0afc8da895": {
     "views": [
      {
       "cell_index": 13
      }
     ]
    },
    "d8aa1e6ba05c40e4928587d7b05a39c0": {
     "views": []
    },
    "d90ab837a25f4e5f82a1e35dd015922c": {
     "views": [
      {
       "cell_index": 12
      }
     ]
    },
    "d9128da1aa4a4ae2aa6987bcb97c872c": {
     "views": []
    },
    "d98e845c87bd448ca8ae12e19851b64f": {
     "views": []
    },
    "db28de0b89df4f319dbea1792b3f9e88": {
     "views": []
    },
    "db748fbbf29f4c4ea854238478c3bf51": {
     "views": []
    },
    "dbac23e7c7d94bea90a8d084361f6330": {
     "views": []
    },
    "dbb8eaa697c24512a8705df5dc714c7c": {
     "views": []
    },
    "dbe0fe4d92c244a58a78f4172d84635f": {
     "views": []
    },
    "dc39b151e8c2426392abe09ff7975fb4": {
     "views": []
    },
    "dca9635442ef4564b5f0151a28a9097f": {
     "views": []
    },
    "dccce9e7deba4b87a97177557bb2922e": {
     "views": []
    },
    "dd74a7c4e4004fef8399cc6b60233141": {
     "views": []
    },
    "de1f167bbf954d7a8f8935c8361572b6": {
     "views": []
    },
    "ded1e91fcb7b4745b8b8fa40b36ed067": {
     "views": []
    },
    "deedbd8a391e44cd8bc007078fe7116a": {
     "views": []
    },
    "df503ed15dab48099c8761817712d215": {
     "views": []
    },
    "df69bf2cf6534214a572f9305ddf71ff": {
     "views": []
    },
    "e007bd7273fe4d8092066270cc07257a": {
     "views": []
    },
    "e01bfecdd74f450989ed65bd1058b80f": {
     "views": [
      {
       "cell_index": 12
      }
     ]
    },
    "e04354c5536440df983917f2cee9ad9b": {
     "views": []
    },
    "e04e9700675e4d1fa89674d59d1066ff": {
     "views": [
      {
       "cell_index": 12
      }
     ]
    },
    "e107bc29063d47f496c513dbb02fc261": {
     "views": []
    },
    "e130da79fa90441d9ebad11e03dffedb": {
     "views": [
      {
       "cell_index": 11
      }
     ]
    },
    "e23ffc8e1238484c8a681110f3f46c79": {
     "views": []
    },
    "e2765d5c46f1414c8f87588a50a54007": {
     "views": []
    },
    "e337fa997caa4b008c7588546f93b9a8": {
     "views": []
    },
    "e3564ddf3b8241d1a32092ed0c4b0b4d": {
     "views": []
    },
    "e3b30f221b7f4c97a3f7f810ab8f428a": {
     "views": []
    },
    "e3cebbe983534717a6f7816293a29bb2": {
     "views": [
      {
       "cell_index": 12
      }
     ]
    },
    "e41d16c6a26643959c9d788e66404c66": {
     "views": [
      {
       "cell_index": 13
      }
     ]
    },
    "e44156d301784432a12dd4ccd2f54b9d": {
     "views": [
      {
       "cell_index": 11
      }
     ]
    },
    "e4a6f48124814f5a9c5b11c235fe66c6": {
     "views": []
    },
    "e4c0092dc15a4955ab639484e85fe9bd": {
     "views": []
    },
    "e5067b834c5f44f1b50272f534b92278": {
     "views": []
    },
    "e5bb35dbb0594877ad7b7df82a3bef77": {
     "views": []
    },
    "e5f73bc485af45f7a9d9e7ce19dafdaa": {
     "views": []
    },
    "e6e0216cee844bd487a85a229358fbeb": {
     "views": []
    },
    "e6ff34b01d2b4e4aad6bd55210030d91": {
     "views": []
    },
    "e70364833c164b4297f66a3e31065f85": {
     "views": []
    },
    "e70bbf4beb5b479abc225f82ec20cccb": {
     "views": []
    },
    "e71a90e591a54378bef942930400f846": {
     "views": []
    },
    "e736af0e618d4643b7e389939e647959": {
     "views": []
    },
    "e7cd51fa6a034b3e9523850d2add0ee9": {
     "views": [
      {
       "cell_index": 10
      }
     ]
    },
    "e7d7013265904b6f8d2cc06b73ac5447": {
     "views": []
    },
    "e7ecf298f3b741d692fa7fb6790e1f76": {
     "views": []
    },
    "e87f26e2c94f46bfbf1e1793846469be": {
     "views": []
    },
    "e8d5bee6776042dd8fc6874bf9d82b75": {
     "views": []
    },
    "e8e2d5eb0d7e42b1b38c292d515fe745": {
     "views": []
    },
    "e8e97d32405d456094f5a52e8be192e3": {
     "views": []
    },
    "ea3e43b6590347fbbeabe3bdb4c6e553": {
     "views": []
    },
    "ea67e3a3188b4e8d92faf599fc101c43": {
     "views": []
    },
    "ea6dc8724dfa4c3e85917a2719feaf2d": {
     "views": []
    },
    "ebccdb56a6484dc38617df0f756c533d": {
     "views": []
    },
    "ec3958c39cea4d35b56170cc4b0377c3": {
     "views": []
    },
    "ec9ef24aabe9410690e5e09238fee4b6": {
     "views": [
      {
       "cell_index": 13
      }
     ]
    },
    "ece29557e06f4c76a8004dcf8258baca": {
     "views": []
    },
    "ed5ac24043644475babf1b0bc9f1e9fe": {
     "views": []
    },
    "eda86780f7974e578fe8ebf4d46f0b29": {
     "views": []
    },
    "ee1bd6f0281a413f8f60ff64baae9e4a": {
     "views": []
    },
    "ee1e052f6d0b408b8d3177a50d092806": {
     "views": []
    },
    "eeea98fd090f4d54a39429b5152f7018": {
     "views": []
    },
    "ef9c1dff14e04dd6a855501e2ec22e2a": {
     "views": []
    },
    "efb7781daef34417be92789b4ea9eb90": {
     "views": []
    },
    "f02d8ff2f8d640fabe70a0f4c4ce9672": {
     "views": []
    },
    "f0603694af0945ddba6ff81fc0255f18": {
     "views": []
    },
    "f0aff090633c43e89a674b9ccf16a4d6": {
     "views": []
    },
    "f1e06fdff61246aaaac436d5c3a29b3b": {
     "views": []
    },
    "f24d1fdf80d548549b237453c7face8a": {
     "views": []
    },
    "f25269aaad3d456796c97d463c320a6e": {
     "views": []
    },
    "f3156a1a18f145f180845f3433f4729f": {
     "views": []
    },
    "f3498cdaa7ad4687bf0eec7999d3528c": {
     "views": [
      {
       "cell_index": 15
      }
     ]
    },
    "f38bfd7f4e6b4c3ea74d4014ec6dbde6": {
     "views": [
      {
       "cell_index": 12
      }
     ]
    },
    "f3a5b7dc68ac4ee085f0db02f11c2ab2": {
     "views": [
      {
       "cell_index": 11
      }
     ]
    },
    "f3d6c268a95749e0a81a60d0caa5044b": {
     "views": []
    },
    "f3e28f6b6c794d11a3b320dbcb4093dd": {
     "views": []
    },
    "f3f08a150ed943079709e77fe75439dd": {
     "views": []
    },
    "f415fdc051a544deb2c86cd6e8aac21d": {
     "views": []
    },
    "f4bb552b557e472d8e12a175d381a020": {
     "views": []
    },
    "f4edaaaea47b40af86bc4a7bf67109a5": {
     "views": []
    },
    "f51bc76d4b544409a4b4621ef2718635": {
     "views": []
    },
    "f53122dfa26b4187b37e052dfd13a93f": {
     "views": []
    },
    "f6131f292f584da3a8562dc8cfb954bd": {
     "views": []
    },
    "f64842157f7443bbae96325f1aed89d6": {
     "views": []
    },
    "f65850b6016e4ede9e47a1b9ab4cd0ba": {
     "views": []
    },
    "f6781d2a0a8c430783f4d206678e18ff": {
     "views": []
    },
    "f6df4cb1aef7450b8c03bcc5b4c15a4e": {
     "views": [
      {
       "cell_index": 11
      }
     ]
    },
    "f7f723f9ab7447acacc514e6b5185d03": {
     "views": []
    },
    "f80decd2c39c485085a6e046af37185d": {
     "views": []
    },
    "f84f9e6a276a4d4f83d68b0ca6003de8": {
     "views": []
    },
    "f871419218814988bbbbd70dc8341138": {
     "views": [
      {
       "cell_index": 12
      }
     ]
    },
    "f89199ad6563493bb76abe139a8e3317": {
     "views": []
    },
    "f8b0bd4115e044dd86a966572c91675a": {
     "views": []
    },
    "f969efad48e84fc095ea74489b2d5b01": {
     "views": [
      {
       "cell_index": 12
      }
     ]
    },
    "f9c1010ba9fb4735b38afa5a0d58cf22": {
     "views": []
    },
    "f9d67ec264754c1190088f6f9fb9af34": {
     "views": [
      {
       "cell_index": 15
      }
     ]
    },
    "fbac7d6a913b46e0a6303c94dcc9f07c": {
     "views": []
    },
    "fbbbd034e44d455eb27a330ff2d9dafb": {
     "views": []
    },
    "fbbbeb4058b941068a38ebb7e5ef30aa": {
     "views": []
    },
    "fbc3486cbcca4308aecb43a4ca5f9e80": {
     "views": []
    },
    "fce74ad7e0eb451fbcd1b7df14179a4c": {
     "views": []
    },
    "fd0dd02d67cf4541bdbb9ffb731ebc04": {
     "views": []
    },
    "feaeccd669a64606a2324ca80ced542e": {
     "views": []
    },
    "ff0ec5e098f541418781641bbc249da7": {
     "views": []
    },
    "ffdeacd46814481ebe90eb370fd206c4": {
     "views": []
    },
    "ffe810027b9e49c0b9dcefc0dcfc5a9f": {
     "views": []
    }
   },
   "version": "1.1.2"
  }
 },
 "nbformat": 4,
 "nbformat_minor": 0
}
