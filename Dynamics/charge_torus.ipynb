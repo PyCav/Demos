{
 "cells": [
  {
   "cell_type": "markdown",
   "metadata": {},
   "source": [
    "<center><b>Charged particle above fixed oppositely charged ring</b></center>\n",
    "\n",
    "If the particle is placed, on axis, a distance z above the centre of the ring and released, the force on the particle can be found by integrating around the ring.\n",
    "\n",
    "<center>$ \\mathbf{F} = - \\int \\frac{q(\\mathbf{R-r})}{4\\pi\\epsilon_0 |\\mathbf{R-r}|^3} dQ$</center>\n",
    "\n",
    "In the case that z << r, the radius of the ring, then the force is approximately proportional the displacement. Hence SHM will occur. Otherwise the motion produced is non-trivial, especially if the particle is placed off-axis. The on-axis result:\n",
    "\n",
    "<center>$ \\mathbf{F}_z = - \\int \\frac{qz}{4\\pi\\epsilon_0}(r^2+z^2)^{-3/2} dQ = - \\frac{qQ}{4\\pi\\epsilon_0}z\\ (r^2+z^2)^{-3/2}$</center>\n",
    "\n",
    "<center> For $z \\ll r, \\ \\ \\ \\mathbf{F}_z \\approx - \\frac{qQ}{4\\pi\\epsilon_0r^3}z = -\\omega_{0}^2z$</center>\n",
    "\n",
    "Using the above, it can be noted that for 2 fixed particles the linear restoring force occurs at all angles normal to the line connecting them. A charged particle in this plane, close to the midpoint, will then be capable of circular motion about the midpoint. However as the distance to the midpoint increases, z is not longer << r and the force no longer proportional to z, this will mean that the orbits will no longer close.\n",
    "\n",
    "Importing numpy along with charge_module which contains the Animation class created for this notebook along with plotter for the electric field on-axis. Using %matplotlib notebook allows interactive plots and animations within the notebook"
   ]
  },
  {
   "cell_type": "code",
   "execution_count": 1,
   "metadata": {
    "collapsed": false
   },
   "outputs": [],
   "source": [
    "import numpy as np\n",
    "import charge_module as cm\n",
    "\n",
    "from pycav import display"
   ]
  },
  {
   "cell_type": "markdown",
   "metadata": {},
   "source": [
    "Time stepping of the particle position is done via a 4th order RK method"
   ]
  },
  {
   "cell_type": "markdown",
   "metadata": {},
   "source": [
    "The acceleration caused by the charged ring (which is modelled as point particle sections as a approximation to the integration required) for a unit mass:\n",
    "\n",
    "<center>$ \\mathbf{F} = - \\sum_i \\frac{q(\\mathbf{R-r})}{4\\pi\\epsilon_0 |\\mathbf{R-r}|^3} Q_i$</center>"
   ]
  },
  {
   "cell_type": "code",
   "execution_count": 2,
   "metadata": {
    "collapsed": true
   },
   "outputs": [],
   "source": [
    "def a(R,ring_r,ring_steps,q):\n",
    "\t# Function to calculate the acceleration of the particle(s) at position R\n",
    "\t# R - position vector of the the particle(s)\n",
    "\t# ring_r -  radius of the charged ring\n",
    "\t# q - ratio of the charge on the particle to that on the ring\n",
    "\t# ring_steps - Number of sections of ring considered\n",
    "\n",
    "\t# Charge density of the ring\n",
    "\trho = q/(2*np.pi*ring_r)\n",
    "\n",
    "\t# Azimuthal angle steps\n",
    "\tphi_h = 2*np.pi/float(ring_steps)\n",
    "\t\n",
    "\ttotal_acc = np.array((0.0,0.0,0.0))\n",
    "\tfor i in range(ring_steps):\n",
    "\t\t# Azimuthal angle\n",
    "\t\tphi = i*phi_h\n",
    "\t\t# Relative position vector of particle to element of ring dq\n",
    "\t\tP = R-np.array((ring_r*np.cos(phi),ring_r*np.sin(phi),0))\n",
    "\t\n",
    "\t\t# Magnitude of the relative position vector\n",
    "\t\tP_mag = np.linalg.norm(P)\n",
    "\n",
    "\t\tacc = -ring_r*phi_h*rho*P/(4*np.pi*P_mag**3)\n",
    "\n",
    "\t\ttotal_acc = total_acc + acc\n",
    "\n",
    "\treturn total_acc"
   ]
  },
  {
   "cell_type": "markdown",
   "metadata": {},
   "source": [
    "Function to calculate the SHM frequency found if the displacement of the particle is assumed to be much less than the radius of the ring."
   ]
  },
  {
   "cell_type": "code",
   "execution_count": 3,
   "metadata": {
    "collapsed": true
   },
   "outputs": [],
   "source": [
    "def shm_freq(ring_r,q):\n",
    "\treturn (q/(4*np.pi*ring_r**3))**0.5"
   ]
  },
  {
   "cell_type": "markdown",
   "metadata": {},
   "source": [
    "Animation object, contains the necessary methods to create an interactive animation of the motion of the charged particle near the ring. Sliders are introduced to modify parameters and a run button which will restart the animation for these new parameters. The RK4 routine is run before producing the plotting to allow for a smooth animation. Also contains if statements for when the number of ring elements is set to 2 for the later investigation"
   ]
  },
  {
   "cell_type": "markdown",
   "metadata": {},
   "source": [
    "Contains the necessary initial parameters and creates an Animation object for the user to interact with. Off axis starting positions can be investigated by changing the R vector, where the components represent (x,y,z), below."
   ]
  },
  {
   "cell_type": "code",
   "execution_count": 6,
   "metadata": {
    "collapsed": false
   },
   "outputs": [],
   "source": [
    "# initial conditions\n",
    "# Particle position and velocity\n",
    "R = np.array((0.0,0.0,0.01))\n",
    "V = np.array((0.0,0.0,0.0))\n",
    "\n",
    "# Ring radius\n",
    "ring_r = 1.0\n",
    "# Ring sections\n",
    "ring_steps = 25\n",
    "# Charge factor = qQ/epsilon_0\n",
    "q = 10000.0\n",
    "\n",
    "# Time step\n",
    "h = 10.0**-3\n",
    "N = 1000\n",
    "\n",
    "# Animation frame change\n",
    "N_output = 10\n",
    "\n",
    "Anim = cm.Animation(a,q,ring_r,ring_steps,h,N,N_output)\n",
    "Anim.create_sliders(R,V)"
   ]
  },
  {
   "cell_type": "code",
   "execution_count": null,
   "metadata": {
    "collapsed": false
   },
   "outputs": [],
   "source": [
    "animate = display.create_animation(Anim.animate, temp = True)\n",
    "display.display_animation(animate)"
   ]
  },
  {
   "cell_type": "markdown",
   "metadata": {
    "collapsed": true
   },
   "source": [
    "The left hand graph shows the position of the particle in red and the ring in blue. The right hand graph shows the z value of the particle as a function of time (blue for actual position and red shows SHM approximation). The two sliders control the charge factor (q Q / epsilon_0) and the height from which the particle is dropped.\n",
    "\n",
    "Note the left hand graph can be dragged to reposition the view point.\n",
    "\n",
    "For small particle heights the SHM approximation is good but as the dropping height becomes comparable to the the size of the ring, it breaks down.\n",
    "\n",
    "Some interesting/fun simulations to try:\n",
    "\n",
    "    Initial position R = (0.01,0.01,0.5)\n",
    "    \n",
    "    Initial velocity - at rest\n",
    "    \n",
    "    Charge factor 10,000\n",
    "    \n",
    "    Ring sections 50 and ring radius 1\n",
    "    \n",
    "-> This produces some nice looping motion about the ring.\n",
    "\n",
    "Now looking at the orbit of the charged particle about 2 fixed charges, at close distances there should be a linear restoring force so closed orbits must be possible. However at larger distances this should no longer hold and anharmonic behaviour will occur."
   ]
  },
  {
   "cell_type": "code",
   "execution_count": 7,
   "metadata": {
    "collapsed": false
   },
   "outputs": [
    {
     "name": "stdout",
     "output_type": "stream",
     "text": [
      "Commencing RK4 routine...\n",
      "RK4 time stepping has been completed\n",
      "Run cell below to create animation inline\n"
     ]
    }
   ],
   "source": [
    "Anim2 = cm.Animation(a,q,ring_r,ring_steps,h,N,N_output)\n",
    "\n",
    "Anim2.R_i = np.array((0.0,0.0,0.01))\n",
    "Anim2.ring_steps = 2\n",
    "Anim2.create_sliders(R,V)"
   ]
  },
  {
   "cell_type": "code",
   "execution_count": 11,
   "metadata": {
    "collapsed": false
   },
   "outputs": [
    {
     "data": {
      "text/html": [
       "<video controls>\n",
       " <source src=\"data:video/x-m4v;base64,AAAAIGZ0eXBpc29tAAACAGlzb21pc28yYXZjMW1wNDEAAAAIZnJlZQAAsT5tZGF0AAACrQYF//+p3EXpvebZSLeWLNgg2SPu73gyNjQgLSBjb3JlIDE0OCByMjY0MyA1YzY1NzA0IC0gSC4yNjQvTVBFRy00IEFWQyBjb2RlYyAtIENvcHlsZWZ0IDIwMDMtMjAxNSAtIGh0dHA6Ly93d3cudmlkZW9sYW4ub3JnL3gyNjQuaHRtbCAtIG9wdGlvbnM6IGNhYmFjPTEgcmVmPTMgZGVibG9jaz0xOjA6MCBhbmFseXNlPTB4MzoweDExMyBtZT1oZXggc3VibWU9NyBwc3k9MSBwc3lfcmQ9MS4wMDowLjAwIG1peGVkX3JlZj0xIG1lX3JhbmdlPTE2IGNocm9tYV9tZT0xIHRyZWxsaXM9MSA4eDhkY3Q9MSBjcW09MCBkZWFkem9uZT0yMSwxMSBmYXN0X3Bza2lwPTEgY2hyb21hX3FwX29mZnNldD00IHRocmVhZHM9MSBsb29rYWhlYWRfdGhyZWFkcz0xIHNsaWNlZF90aHJlYWRzPTAgbnI9MCBkZWNpbWF0ZT0xIGludGVybGFjZWQ9MCBibHVyYXlfY29tcGF0PTAgY29uc3RyYWluZWRfaW50cmE9MCBiZnJhbWVzPTMgYl9weXJhbWlkPTIgYl9hZGFwdD0xIGJfYmlhcz0wIGRpcmVjdD0xIHdlaWdodGI9MSBvcGVuX2dvcD0wIHdlaWdodHA9MiBrZXlpbnQ9MjUwIGtleWludF9taW49MjAgc2NlbmVjdXQ9NDAgaW50cmFfcmVmcmVzaD0wIHJjX2xvb2thaGVhZD00MCByYz1jcmYgbWJ0cmVlPTEgY3JmPTIzLjAgcWNvbXA9MC42MCBxcG1pbj0wIHFwbWF4PTY5IHFwc3RlcD00IGlwX3JhdGlvPTEuNDAgYXE9MToxLjAwAIAAADZZZYiEADv//vb8/AptFl7dP/9P+VxN2UIE1zAAAAMAAAcyAAADABrZZcsQE/yWy8W0YVjnlKF74LkqQ/vg3//hJ/1jSe+vUvd+HVt7+LqNeV9lhVv1d5hlzAjYwgW2W98xFK6sjs6BmB12nkYTLvGLW/YCU/BMzeQd5flJENrzByEQGziV5QnRfW4oE28giQvP8htT9uM+sJAn90cxsAhuSSnN2Th387dB3jDHW28ykFeeR3XR42GbGITu35sxAlgtNZBxAz5EyCvVQQgPqFy6/IxtZhuWdKi724/1cppeG+whXdUgeXRJpEmIGk6zGgv3M3ugoHo5hriAXr1X5KrES/jCn//vxpVTuVHZznmdaAki0ko/8pgLdvnUyP21n2SZkwb7Fs95RRzBx3oIczo/L+FmsPVNBF4+bndE6uliBkBBk/OlHWFhUN/ZgR135hikfhWllz6i2sNynnaj8ul1x1CyvPd9fmFvzYG8HvTG9Pdyiuc+qyjrVvZvk0a2jPJVoSJ6TWwfuuRJmMpZwpBsxZJyu6XPgMpssLywU/sATHb5XFGNNOKLHgs2naSXVqom3QsXaZAJEoPc0WahQP6q4cvcyijd0M6l3ZyMk7IQdrZOpS3BU9/7d5I1S5tFMRWGyIjxnnWWD7ANcMP2IGNy+IBTud+2YTixV4VftQwWiM5/gvgMSUba1ald/Mq3/J+4B715W+oWFxObO6HBogDgKKUVIBdqvAe1oTI0C90Z3ykj5ln++3Fs7+e4npgoUSkwrH2uY2KSjPVzRj/8Hmzkb4kTYv00/3/xItyxsb/4Y3vvMYB0TiuGc7f9PDr6+DXWr+iBhuathXE5BZckX4bKAZg3SsxLYw24nT+P4fX8ZS30713As0EFLfzHsuSoaLZcxwpy8lSMi3rG5zg6MXnEtF832ApAEW5Zq4CBowMoJlg4hVe41mW7QUPC3aMadEWF/pnQJiSlu+NlpZowm5EhLn/zmt71i0KCTC1M4KKCpn+Jz/w/QMzNYBV2MycI2+DZpJCcdG+wpDtK7Zn2NvM/LCJ1Hn05hhu9IVpxvTv2HRxt8wuIn0d8oCZB/K1+K17KP8Jm5Zx2hJ0Z7bh6fK1vbQOkMAvxwFLjaMNK/7E8MHeBxxg81h4tRkLeSL9BZh4drYrtpAb7vP+jcBZLBYVzI5FfhkXojjsoWI3r1YlBDehCdjzUmiMAxpRqPtOswa63nKNmN44XaVU0czyuVNWvV3cad4H6S7j0Tz6WSubas7stH/+vP1RbWM1EdxV4Dh1imxFeH2I2T/n46h0y8hqWMKjwLG7eqWfcqtXKr0NNIB0QUJDgkittPnk+9Z4oeCMGZSmkFY74AZQwM8IW2QgKfCtAJtJ2qobHU9ogC1OX7YhpR2ZJzw58HINPRQqj3Ds86WNYPZUNrMKXY8qcVIdFg/rRdyRSovsY3PSsJyw3hcPh2e8QjsSWJFIgCGRxXhqIXwmkCnTX8RTFKwmD+7gjCCdrpKjx2YTtdc4ATX6eQdhJgh3RmwAmxuGjjF2mlwLwuDgS98oV1vH9TiEsbq52ekwbeuQTyq/arnPcix4KKVi6qrFjIRS0VntYJsz5YGB3AoWAJOwO2KGtJnC66xGrL7u+tQAc/jj6eBtv7Vhk/vqBX8Sb3wnTaz5Xg8jOuTCTAgbaIS6nZnH7dtql2nq9Wlps339bcQg/WLapec+Bw0e7gnag0zcDEz+aT7Z2N6oWZadI8Ne5+EdQlF/gogEcPNdYI4mSaaWOMQMThLfBOhI8Mfy7Ykh2B4ILGeQai4S1XJqr/gY06SzrnjdUxz6kSQ/R0z8cc7dCaKzaqpaVakQ3uCeVlZEzeNuehKJfgF6X33CZUAP9fadtC/4itdKAZzw2yHZkcP3mIcpTXgIvUo920wRFcShBQkVPFwa3jBi0+wnXc8yFzkkEWrBWNYp1MUnDozgkPvbAfrh7o4bJyCA4aJdm9+Xqo8h/5Q7dj08WMahJVHrufzdtebxS9c+ssSFfytxmi6sdzcU80+EmejhtEOpoASYeh3S3OKKg0W1GlF1w8TTyK27MxCVnR7nRhkOihTPYoFPGZm1oJAHApssiBXmPhb3BZ4pfqfk2QKwysmlHEUW2DAG9M/DBqAJP/+qLcVsBt9aOfck/YppYoT0z0nZGoRENQzChy3S9emvAsoSsiDObpuUaxfdhYR+wQRib+Gx2Ari/B96h2gT4aZ6NsD1F7S77L5Hl2Hy/9GCeZfx/XKUDiz+zCiueXxucrR2dkuiH7BhzcDDSNYEQEyZ6b7BqiedM5YnuovsekdCR/QqwZyacwoVHr8buYHELxu/YdVd9wXuvsbnoEOLOOlGLaPUHDWAecg+TJb7FLfhI0JzvL0HfLXjcs7knXF1Nwv7ej9P4yve9eG4cNMmL181gHfBW7mxoX6u3dv+P4D8+DeAm7PvUjR/PNQBzcDVQV2Ttf15sU/o9sEdgq15qU+JzAgzQIc2BXSegUi1kX13P7I6Fs7L2mdKVDYYjMQ1RYMqis+uYFQ5p+T6hhPDu3ng3lK2nBb9KYmAiTO6ont2jbqoQPeKaZC9NWBy38filxPLsDD42OdXHuGqoP6z4Hj7MAxfgDuAC4yS2uTO3LUExi0JjNuRcLOLxLFgK6FlK6NtdJrNqxlirWpYD9CWrMeungGrjH2kfOcqyAL6PgqpMtqreWO2eVNf/sumTL6nq6qpfue8z0U8eWkgtaAyAydSjFdyr6qGw0IFxDakAZUCQRb13pTq6U6oGLDEBRirkUAn4Kqes86/Fvo7+9AIpH7ojJdfDua/9/PeGAhBQaM7C3YFvBGY1h4FQb/wYGuI070lYMNfuOo/BcjR3H8sFX/tz05Ez7V3H4izVBujJbugGlQd6ku90Nvb7Ra7k41BeqN64s/HXn1L181S+4yzM/1w4Mu/LNBOP+s73SGPq/XHpQvVqlny3ClulJi6lkqBhAVaixtjQRaOGjOA8F2/abOA3P20zBHEmJuVj0GCwvq9oX/yL8YlN1LG/h6papLONUqijnAjacY2mAqGJLsHk9x7Fm6T7kaU9vjSEopLDHjjRr+YwX2GCfg+RkK11sCmuDWd92wKxUCaA7VupI1CPOvX67aKjSJ71TmBSMiH2/lKHPSUc4zUu85nBXHocEhgIlVOi3Iut8RxrW4w3pMlHJ0eJ09IPCd3LPzWd/HDqqi4hUcZLqdiEtNliMAfdWs9KaiAMwNH+9+3PxOSzjLGmnRhwa4OBK8LXlVh8z3n+IV89TYVHJ3O5YGjYw8L/nGWazWb3icLYTEK3WN/q44EOQUz2ADFgUnIMzCk2Qe4gMgalyZbF+a4qmfmHsPC68SxEuWnLcUZVdf7kZHO6wmnmYnKc3mxuRijNlittB9RUIyj5aDKTkepu6+TQF2GjkfOzYzwplV5p1/YSHARMqAcxGmit5Meslflqhis/FgRDlSaFpXwKYPodDMhCD/Yl6kXk7LuPMRz3/X+DppZFikvDBgZ2xsRbYBw96NJOlxlsh+Z1R6lt7JuMtwcLD6RFxgEwJVgtyzCjXOfKfW9R8a25Nkv49F0p0uy5gWOgaSJWC+KpEY1obnVCcsM37lmgYheb/jSMz3wE+BUgv9KJNzpbjOW30ptg3eM/F0q8s4W060Og3ew7zgBCjTdIJOgyKOPjcB6+RvLNmcXzcRiy1SCqr9TZ0u/sGyfrbkF8a4hMzAIuoe2J+Bmvktw2RvKoN2ZcV8YelFm5OX7/DEOIgjKxohd5gMEAXyS4OCGeyhL6ErKzOEym4X5WFCCBzpAeW5XW07IkT0j0NPMXvE4k9U2W6AmISwrfJ9drIM7kARQor7sU2GxVYBKcoRTAVWTdVKZvS08KYrn6A9JKeQAsPEy6t4E2UbP0uSb0PZnFWXqiYCvZ1ExGhuBbKZrlOr1rLPLh8Vzo+Uj8O3lBigYoSul4O0b9GqcdVjV4LQrwM8ykTWopmcZCFjNHxzq5wLduh3NNIbRuHXN0VYaBZiK/nczBUQTjW5A2HrAVYjPgZfPjblnh6WX3/alBqu7Me89q4rQGd5B+Z2Hj5TSrcT7SQ0U0FfFKEJvnDfuG9h4rGBN6JNIRVL11dbHRJ9cQ0BEgsdXajE6ic04ownrDDkFI3A32A5AsmdsIEaiY2ac0qUzk4piSb/O1oy4VOuw3INUEceEn5di8klG73SdIf5zkZ1HdAUpmLwNfsnASdUR7FWiWuAds/6fZMfvrLUgKly6bjPO3nEg02ltkStyd1u6nXkTC8yZXdiklmehzV8We0WEjXQ43iZjShZ/VPVc36H8gN+UP49KD8Wyzca3OrbHvw03m9g7EPSM2eU2kpS7MyIo5Oe6RN00Dv2PbA7/NMcZNl8vP/BxId5QsChHzPdAVPEUUHCgmzi26aYPxY+sASuSwKEH4qPGw4+41ozaEFpoDwDtAy42TDOf8N/bCENc0uyXNyN5kmlYLvn81Z3mlLUdBo2X1JpBk+Crh3jEfMDiPZlAX0v1k5dQna06/0kR4bdvLptwzkwAsLmO1yXCHnZ2o6/GbVVYTAnJfdh+mzMyap0s698oj82PmgIjHv2/0pvUqqWPnAhJX/6wm+EqAftKjXTl4xoEAHSFu9EYlkolka6M0Hu4vbCvcZW8nFNYQOwV2TNwtLPsmg44zo0erXgbFbi3lYE0KwXv+d7I2nv/6DSCw0bW0AAAkdjW6KUSiBKEDwYJiKauNF6lj8MbQWD73R6bqGHS6+br5XWgKOhrisvEZOaujHrktptOuu1MFLlvSMxALLqwZzlGhzLcP06k+WBcIE/miLyIgXAAaUKys5+kvfIcNT5pmwnz1nJBsPZNYGmJ3n9qCLXHSwmWSyCkRjV7U5bjNieSPU5oi2Otvh0ykxmLcL/9m6smfzT0dBNvRLt5u/aHH22oT7gYCJhCqdAUjFni44k+QVBL7WdoBCn8dcmIxFOCse3ldShVsGp5DGs5LdnlZntC5LFe5x8Aqh5u/jNA4aby2eItr6Vg6e2N4m07VKMNtPNU1WCAJf+duGAAdBzP0aC7ZJt8JZWC9QAB4qSu+3q2FFgsvozIEvM+w7O33jI/eo0w1e+jdAtCTl3AVlhY6tVIPGwVnhuFitvp0w7r7rdMvABjBazF0/KpFH38SWEkC1xH6170OA5vabE1F6PONxR9YhnEmxClEW3JI83xn3x4+tbvd7Jlv/FjwKbh6V/VTZaHILm5LvqRFW9LpgzWqNfcD5LPpvnzu5aJkotp+wsbBZQLPeLjFtgE86pZhn8lgD5kxI9hjVUrimm9aTJH9qCMMLzdIsIcfvAcmqu/DP2Jw96pU2rJ59HDZgR6JhsHp5fSjq0bTFYvFXlEqdPjCWqEE7RQVqfBeGpuMh0Oeo1/9nM3NUZ/ZSy0drCjLOJL7KTEcBZr60RnDaF0UwXpnxiIpyNBdwXp5X+YmC2KugIrDYWhIY/LPs9lThGUANfK5IV1HBsPhc2QsAF8GvklsO49ImRvch2Er8JHRA3gMkxGXtBlF/nNONlggNl4PBqdkpjok8KU6DN86ViiBqwp+vaP3qrE7i2v6YjYVMkTi/caNgz0k0zJPeSEHiR3LxhQGdDb0T3suHkOwEze7HJNLs8oNbF2WDHK1KJPC0CqjzwlFsRU1ZhNCQ3zaXssk9f5g3YgCkAWDW/8Np1BjwKwQUQDWqNvpMP3dL4NDuQO1kipllzXePTxxMx+tZ+itnyH9BdYEZqJeSdNFojlNTq7NEXyRcO05h4zlYOcTCHex9KZXfDnLorNpDNHTfWNyBQh0lQog7KhwbOmByG69FKSIj42hwwVgfABdknm/ygytmatetRFPYzqaDEXk9an8KXlUax+0YdnfloT7rNy3gIfm3CtEIJJmfI9o+8S3bc3hSTPhUol4axWN8khO9hq3D4FhEgJLbbciB/J1OdWEsmGFo9tBmiX7kqOv9WrV8a7p6pmvwc8niqFTolRjxZregKr5e3Qtgq1eqlYLfN2s9C/IHuXVsR2C2Et6499m79OulGKlyegVQLEhfsib367KsQYUPE9b6+5+WEjNa2O2mGXQs+pbfewCa+eBDKozVgAA+JOr8XoadzmQhte37D0fXb75KLhY1Yqtcy0whaGQM6Odvx0MBV6Ea2Xw7mShxSn9an/RGTkAhO18gjybI6WkQxGtD77Dez7HZ6TNsweYKrBp3tpQCcf97T0Y3b700omnzzNu6XdFbMtJp5kJXBKAA0eyXNb8WEytoWj5MdwdATlL52+RJ4PKRSgl8jDR9a2tCpx/I4c1ofCs0uX9mtmHtgiLWShc1W14Af9kT83IULVmtXpRM7UMEjHfKn2d+3OSplJob1AlZBCXPPf+OP8ZdZL09rcag4Ux1QsowWXiY8rDw+I1Anum243sq+2lXgNmZusfaim/Sb61yUJdovN04OCvB7g7mp3XS5mwo1pYxxxH091OK1ntP9Nac6v1scByAvyHXCQtjObfeVtx1dsFQwhcSbZbJO8AUqt5oZ235GoaxSKVRx2eELtgivU3G1Z5l0Xs6viDtpwEJwmKMBX2eflFbtrW1VkTcy0/GVce9/+gJI0BRX2uWcSP1QkFOL1cIwMB+IZysaFmsNBePjLkIA1aqMVNB0H3yPRb9/f6LlprjcIetHm6m3poulk4c7y5ANrQVvUkZMmghk7/7u15REbtl98HZ04CWR+9/xuAcb9+g3LuMsPcdr+UGSC4eM1+yHCLkMAfLyBy8kTTerEqZJPKRhzUxwKDu0tFvNvTPhEQnUAL8T9HRQM1YEonu6EdP2J0+CgkuIjeiB1mXqPuq7Se5WvjlEinwfBvDQNctVnK+An3Ewv6YFf4E2DOWJteYUaV0mBmZF7H1M7tn8S5pvEcOgJ1DJbLxM/WOEJbpWq+lgbZybt/Xn1QAACjH66NOEcbtAFRosSKnUheN9WKlhnWnwEkCu9mG8LsekXujiNqpEt2d6Lx99xlXSvXR1Fb0BRPXU6BW46VXaq+CVcXJiAHUGk7/CWKN1IA9pgCSApep27Ok+0q7mJt7XaWPDt6tgCjGzv2wsAmhRxZLNr1mrG90KmXn1hV/Geayd/sgTj6bBu6TtZ+cBcBeP+DwCJ7oLtGo69tt9TF7kfW/OEzh1C/Cd/U78B4qFbVroZu4pw7xWd7lmQZFzX5m3Q1EDGE2TWuUYID9D8MHicmbc287dxzBWvFTOfH52rnqNJgncbC7Pu/+x6Jszm8g7zBCH+BkKujP+u9juDhAvAmNihi8UYTAwlsE+PB2f78/2BRTU2LpR8djVOPH5Udh+Up8GronOpMWVgYcqI34Tm1P+tfvKkNBc3Anm8F/PDm7/wAWD+QEZ+Qrl80JZyD9tUUqLbXLmUq2ZVxZtqORBqRH0SpXPfRWt7hDebNIIrU7h2yho+2jA2XjT7lAUJEByvoTrS88AKCRPSVxlgOAGa7dpYHyRw9pKbAHZUM4e+cyzKxe1U2KKyiQgmVqR2a7AudPhjaB5kkpb8luBH1F4izCrcANp+ClZ3xv0XBl3ObQPfexFCNd4i+vJaJkISuL3fg11RpQW3x3KqJPEq39pMdygE2dxmwp05DSQVdJWn4xX4iEJuDAoH1njDFJtI0spFvwRMLgQ62PSMXCsWv+FVY5OZSPfDuQ4NO5Rt1XZGOpylNkabe1oYvmUsndfHxeAXe27Om3RPfR32sZDlFLh4Ifilj2MFCXNhL0ZVvysnh1o5HU8+AHfBgTr/WrS8VU3yas/Idv6hoNLjCEMo3ugmXbNnqIXyfpRB6Hll8VtaQY9mOwn0PgiyRaE3s/mp9mDNoz2PnGpYyvekWjF0CHGIgui6uhl7FtETViCOb2JS0K2u8xe89vo8vaBDY75cL2xTr4WdyrUOaaiYwAkyWLOW6DEEc+N9I1Eo7DSfi1MbOc+XK+S8sy7xfl4q7r2VgX3ra3ju8zGJGqgH1BP85r/m2yFeNS4j+dsJLprpLMLI4BAPpSDibqO3N31F47flRsfGvHl3K5YDFph4Ap8qEJhuVQv3QH6NaUSU0REW7MAt6euI8E7+3/TnGlAKSkVSJSefhkKPCxLxEG5otot0SK7UUoX6LbxLih+ZnzUTqCmFyWzK7FrmgbRuXjrETPZn8/Wlk4GH9ZLGcfKAWNQkgRJiUneJkdk8UBli+5BNl4lJKzy1cre8y5s8pKh1goqarnQrfjJ7HA8QFgLWfsnNW5eOoWHLp/DHIt4vkt1VWd9V2Zs0GCopdbfB/xk+I+UcZ3eRb32OQzV4cp4/FycroztFMWKD8ZiE2Qu2M0J00XLS1n2ij9KavI4X2Zgf9s3zJVlDwjdnN7GmUQJ9GY4NF26uSRhRSdJfsbTbI3B65zU4tD4TPhbZXK6o2XbGFVQ4ZvQZatKyO/ZPFxn0xp/1qvyVmZ3sICyWcihVJLcHuNZgiB9+AcQ/VdNYbJmEMbnvUqSamrXj7Q5MqqCx0h4A9Gebh1gvL/rfg/PwSCPfxzCrLonme+h/AJUsCc48MGidUi3Jr3RELdanriqsv5IBt9Nhk4W5GMshBiTA+/0qytLP056P8XtX7bK9ldQkK4z8VMPvaJZTLp+TxZm9PL7h6wNjKVIIPuwPxJRc2sCtutSqMhNmBv8vnwF11jXE+Afqvc+6wK2Yt7ldZTI2fv1v4Id0Zul0P6+7kNQhe1HFeXqKVBgnhIWt6Hp2YoCA1dSGcMaE9tEr+BV1Bg+n6XJesG8UBNC/HeapcGG1Z5u5WBJc5znpXudmrtbdoQ9jWx3Cfb5VD561fB778FoFf1GB7LTepBAnhcYkedRb0nEd+DyZhE1rR2kwM131LsvNmva+46iW7nlyFmR+upJ4MuNwH2sNFSgDWExQ8fG/OTc8hxYnuoqv7acfYmZV6Y9P8RTlKK0IKngfDbqYwFgICdzCvOgCgztXpkMjk62Jkr34K+khNxL/PTCZNEL2gOR95PFKta0Qjd5Ww1qPCpMDCFCy1FeAYFDcDRsJVoJQVw1eNPKn94v0YKE7sTlCxZKcKVlXiYUAyznJBzyyliVI53BhRAwAy2UmXfOSbsz/519Ak1Ybl706iaaWGv3IyuzS24/typD3iqXlr5ypvxnlR/J0XFhFMd8KIkft0HNQ1+wf0ASsJqbqXJN0pR2Q42Ku40aXUB63dBl7s/E9MM6+8oD6FYnf6QqgWYMPG3aJjaMTHA5T7FoB7on/kC75oOnKFAXAOmqq7FRCX20OTuPY21MSG6zXTWhslzFWfucM79uobvtlNLxBZoBvRNYF7/5OMDwVhx987Df1DaVAdddoNift2UHVcx5nZXNZNiEjHkr2ef5SWWe7Z9WkWkfjnTxio60zpCiolyMnEYLDbBvH7cVjfJv1Rkz7FyZiu6fOz7x87/FNIZuO0J7w1N2tTTOFFGhA2xiaLWrYFyw2paGjXtEuz9TEUKAW7HhW6F/PFm5IuidTfBsNX5DFtn6bKicUDUboXvp2WPvLLUiI5P9u1n1EOtIUOrxQKesOiwud0g4A7Cabl4iHRuqTLMr3L32mw0NI3eSlvOZoPZ684S+yPqGFxomtt+trAIDl676T8BoBVvQaJiqWpwo3s0E4wWI3AM4d+0BxmNEctkivEkjBHdgtO0y9BPlmXfOha18xZB3+RhrFNNdvhTD+lXaKga45hWFD8jdFHAbGNM6SVVB9wM/ZR6uP8p0pIWx5r6i/N1JbZM3DZ1ReArccbtwEgnMzRWMf3CcQ7XxO+d+vgWLF5f+6HJ4RA2q4cncfxEnougelSUxXeHjJ/N+2MqmS4mQk71j1kMSV2ebAZDcm9oK4ujw3d9KrUsgiVk/ilVRCLaezqvqCoOmOU8GCdo/7KpXJoDpz1vIPE8J/bkhoDNvXi687R3K/5OfG38bPhDtzn/9vqLWjDKt4fwNTPB5d6608UMft8s/TQsZerNZO/Nrv/2uLIZmaKAuVyC8l66iF52BPDe26fF/HmBQpDwRFL+45FnSRZFrq5ei5KJAiIlJojrCHo9j9XaMa3KUH2iW1iFFKsfNAEURYHdpsJyeWIcPLw4KasE85405vyM7Dl2LFIv37zsiLwCw2UhiNiFeXf/xzXvbduBC47weV8RhnBfgeAir09BwLgZbj2+ToH5YNQ4jNuT6/puCcltiZQuBNP+hZ4YggrY/6+1GVVP/CyWs59hIkkBVAIlSDG2kgKQaetYqMVrzxw4Wna/9XaPqsjn7gNEKsZTdJ+vm0D4IcN7J30YqIvzQSyAytAKq5kvpY9r95gBsOLolTZ7nyqJ4k508g+pqQ+EUWFAKhHKHltyrfdIOzezOOvzyQM+YRCV1/hXe4txkl5sDmmnXjLyx8YfesN2uzjWgu2fJf/VyAiSafo51wdwwHhcWTX4eHukgRBG79ctvTVtc7pk2k42f8edjcWgELjS/asxdYBnOFH2/Nzd5LrpVCXhMUi6eDq4BEZEoUfJc20V/ILSNrOeWaUdxjAYwgt/GGuQAhnJBiRwNePtmCjN+UuFY2io37/RH1e3HhKwh7h5g5HM1KobdyYGXImJ5EVG6BGq8rNLUEGCuGXAh6Jv4nXXxBSv/S54AUiMeqk8Gm/kpXtVX9U5tXFKl/Vzx3pLfSo1UN40KwpNsRp5yq+EfHO1RR1AwtEJGbIpfBA5XvncQLAqw1QeqBLxNGZAKU4ouBvNRi3ZHk4xX/XMn8syWjWm9ck6wsru7t4KwURE9o7PPfTjD2G/R+uSXnrHucR0E3Lyq/Or4Nj0Q2/jqeggSZxqbHa0Y49PWdiKJz7/bfE1jZEA5Muo9GaR10CuUYmV/HiyvRBZEtblhNhbXRT2hspbGv48Ae3Q2gUdW61MI2Aw0izc+tUax9XzlQO/nGck5LhFyc8U6Wxy4uc+KQme50+lLr5zLBI9EFMhJmpsos0+WC/N334Mcn9MkGx9qTPGGR85sThJDNhaAbn+X9QTWj5bVPJZ1WfQLP9nH/d1zp7EGKWIcNWlKUmJL9ifqYzPN4Pw575yYf4RYjIkhMp22fhwgab741iM4QT7uzc+pwaw8puNnZkEt83VUqaBwsSyo4duwTSZ6pD3t3vrl6A+zekd+s4uq6plesr6SClOOWFC7SUjU2kYni0iCI0s2V8g9zsXu5O5+yVv4BqS0bUxdOhv53cn0yXN1DpqzynrVAVwdo8C9w4wfdEfaRtClRXj1z0i/4vwzrte2J5i6LXwbi+IyQEKzDKS/zsyqulB00Wk/922YaFwEMAKxZkWf5NSwfgnpCQiRpXL125MN4rhhKe8YRu0qyKjDOq9t0QQAMiUIpvg9bz9m7gXH+jP98iHKpl+xsrPXeRi5oNY7j71hqtVVI464uAfGy8jWUCEWUgvPJYu2VzVNdYWPPH0saqmEhYQf55J+2143TrXMrBe1Ctka//8+RAhzkLt9HsChT7OhMjOYBwXaQthKq2//Xp0TczH7eWPagUapb/7LGlkPFL4Acf0topWad3uJaBfrIxuJqrGh477OH9vPcoai+wGVvo7cNKJlxgBCcTSZkU6XNKM/rKJFbU3mGOooOcvgoMdowGJShVyegV/F9QVbSXbi8zfbQCiMp9ClIPei/fbGjREoqyxeVgUufNDvCZ59m6rJIi4/rEPVAirHjjiagL5sUV7LfSphL7xcZbT1vF05fBJ1tZWW53Qq8k9x8yXhNMIGZyHWEvoz9P4PRvcP5niNfLh2hQ06b4kqyEvvk88alM+XO6FIbl4D/FFNmKUt9db704XIOYmYBu5WJ70lVHkwSgeIrcLHL0VB7XBph36J8Uj7aGIXQgTOPi+XEVl4FJtZ234AV8skkzaGzRBpQNcMjRBkaJ7jGQVImMRStwDIinWSGffUS/PPNFlBZSXaxAS84vAsyyXlJLiVuS350eAVDLeB+q8Hgv0u5XOjmRhNDaEx5gltonIlKvaeaWxCQgHFOOqZVUUngsl2wIeZ36rur+vbJAr9lSfWcjRk1OqHho7Ds0/Hb1/8o3+WYf+MTV4UbuBzULrkifjAtZyoKe3blokFtjNs4hr6N1Jm8DH0Ah+xJM//ZSF2rbDrPXWZMXsLd1yZ7zRXEJoeMLN2x5MWKfzdtvij84xlvDJ5JEN5z9KN//IhUzEQzrCGCL/1bWwNcJb6E5YeV0oK6GwNLkcgTfvMi4QiOrmTBzFo8Mq97dj5ehbWPdi4pOT5iHzUKjRvHgCLnw6ARXfVAicAxxfDI1e+ld/aH3HibUcZPgVknkt2vixfriA42myLOrlxUx3UaQOArpJ3VIEerL3MOQcc6wjDNPtJJEH3QVCzBG4/Y6Z44efGabKszEX9/UTvGhVzJZFqDCk42QztH/CyqKHmHimALpCEnMRdikIiLH3g+xZHsbL0J1Ab+syx6yAly/U0LJNAFJFx2EkYaEAKCJseriWD/xFT+glhImqRGmpdRfJDbyQCLp3jnPLK3G2jtybmlp5g9qwRbuC+w+Sa40+1u81tiB69pSPIafW3AMEKl80MQt67umIvHdRMjIJkY1elBeRT0CNymwq+j20+DH9kWgVeaBSr1CXBuPqSvGecCeKSwzdInj9pukDeMeTB+gtNuIpw/pnanBbgX6qo/u/8oqYp1PtWalypy/K6RuujHCslXp9nbUgwu/Ykd1y6jCtSsQvisAOiHBJeN6kZQGDHtoaMyRRwtf7g5/Vbrx1LHgaFHEJxY/7UyEPO/2Y31wMOV6cwSysee7+Zv/GUSgsJhkuZVnUhpty6DUVfdQGG9z1YqhY4YHotZPItRuYLwoym6Zgic0/a7Ev0wfLOixp1tUzDwXtCV/Yurhumw1EYxk+MXYV/ap6Sh2XELe8pK4cYbFsDvM9Zb5tpakh/4eTTk7HA9AXNFqtp9zAnE89iJrDa9AhAnQq//d+280n7bH8T9BAFzHv2u/S6XySVahTexXCCtLumgK1ha8HScj7DyT/GWNBSomBf96zAivuo7PXHBsqMLWr/qbI+xd7wBWbx9mXg6AHFm8/nMtYG5EKC8c/EbQ9QJdvlMQUB4qzqCYAvA8ZPMJ1lYgXa5d0ZJqUlrEBK0CoyL8gDZVsDWGQc+Kc07UFNmFC8DY2stiXSB4UTOKUaAYrWGs/1yVuRAVnkBe2s+ptgArx8zQpVJYr5UHAQBElfq1TwExyVkQU34z9B+XHVX3Q51pwMl0cG5O4b16uKjK9kkgNQ0eMj/LsJx4rNTCNqK4GektYiWLhf+ehX6B/5Tq1CCcOUKU4GKMd5chIRSimkiNCHrsk5aEaysbwozNmzsBv389+2v2YGPwg1XqTfEe6gRcTe0kFcFZMpUN1Nqs5uMOK1CYHngL4pg7+Fs8cgkGSIPTDR2m9+eBnzyqvO81IqU1O0rRNb3AETv5wd2xWmNmWtkPJKBxsay9UozyEkHmBPSOb994RLQQSK97ha8rIs+zCUXls7LLphMGamqbaoGH/3lfZVH1t3CW36Q0yo0ZsxWKjPOh9P0LPBxvT8AdjcZiUgGQok0DZsdTQHQVLZA7hWSWyT/3/mnskQrfne/hEgcnF10IktIpAJVwIEcKMvpUf3FgXmgNe5LEqYp6urs8nOIu3bL6HG6n4xWRUUvBz8IIfWkhZidacIVlHO1KUt/vNwjOQ3ULZtacLuuHbWeOwG9ZM//5ZeeJhvu8k5HgotUMc+XTkkHe69FLZ6WuK4L28VEHf5TfK9r6ashfpprsOg9wAzT6utIzpml83CxpgdpIanSSFTrWZMpF7twTFcx8yOyHoJ2P+vh8q5USVttb/kGwUbMFbu50yUGmvO8TgV8WiMKDYTjMK2C3LlsqmQeXXsULcolVYhKemUgooQlUP+bgtH6iFGkxCNg7jqjP+KpYY908n/7gKc1NmoltHUMBTHej//JaFifDJMY5Y+o9UiJ9qmQ1B0ollSjzNHHSz0e0oT81o2iQ+kxs/VPGUi0XVEO/oaj/kRZCZt0VvNngk3SKSCGDhq8N0xCexrM9t1HcyO+be0DnK7TlZoaOuMaYgOdy6CbYqq+v/9uWMd9lgQwo4UkGQF63O6+IETRzpQ8okkDJLGMIdgJokePPqD8qZwR/83PgqjVfjSISL5wHjZaGpWMKX1Nw+mxvC8V5sGRAE5GWziS/rO5dT/1/XsYcRx3yLfmeanQl0eMASNYzw/T+wHOfyE6s8AAAAwB0kPbbv9z51vZUq3GLfSC3s5bLcD4AldhnXIcZqydBIJzrHiPp3uMITy2gvmp+iQlIQ+u53Kvvyh6s2G2YMYRhoH8vUAk0JuGaGokN7+lopMPGzjgmIGSM9hqObTWwuCCf4/1cql7BsJUIhhrKp6LSZ3rGR7bLh67XXrFp8tQQ5ZT+nwwk3PTjAplzcrOxOBBWPnN5DZrgSlsE68CjWFjVHP9iFqUVM00OSjBxaDFOHoyRgjxD4JnY7NUI9chIdaNhaTxrKzk3oI3RaDja854cFxF1puAl9vmZP+DSIbyghmzw3aG4oa1xKQKsW+AjQE51eAYkyPs1bE2rRczV6r6GuWcQEZ2RbcBnc9lueB8dane1i8zstoKXE+vvVS0PPsddzlqltLXNg5LW84orGbIwSg2+femIF0oGmF+Y8qzO5peM2s663AOh6j+odzqF7pCQVzb84DyzcAvW/W6SxU+EaiTWCCypqjKL6xDlR+UQebCG53sc5xtgq0wpLXzrn1zvQDX1WFBL+geBYvobsW2j/2KzgkAkiaZeCO2t1GaSNT3ghBEzqHsdtM1AAP6J6HcsjPgha1sLJFKVn1dhHhs3ZkB9LVJu/fTO7Ax2oVHegLFRiC0RTIB6GxsvwIMvZRt5XGws551Ovhgkkku+cem7ruIlx1qr57iCyFIghJTDxCVTtN7sB6gmWTVLbHWWVMXJ/wHLeVMzC031AHQiWkanR7ACPV3MMFCwrpltmADpnEPnm+VtytNYxu/ITTdsGTW7GDVig7acE7FO+n10ZOU3jIKYSB57rHPeKlJ1vXCjgCvQDQTcMjc9JSTrwXPOhrtU5CooDwCuOMJEvCRuYmJfYdctbg0no3Jfz8fQ3bGlO9FGd1hf+3u5ucm6rlFSCb1IzoJWiIFWvr6Q409eJDlOZglEIuFB4FxZ4fnDrX6sC0e6DVRgR4jW+aL1srDRqA3Mz1LxK5M0gCpt7gOW6OLAWIQEScKeX4xjcBZ1ouB4pbe776AxnWXp197B7dTIZMTexwoq9bpzS0aNlmwjyqIE+NJUS38jWsJ/M3XaSthEvY2NEElhWVuRWToS94396kBFQ+D/pYvcR2ZoINqK/QigulY0/2fy0oWxD+JSFR5WlOeI/s/sImG+ZRc7ByWKz32hpORikSdHKXfrwAAAklNNIW8x6uVvACw8jjYgR/IIVVHsL5hZge9C5NtSaXyg6xWR9ebhjncuEKNqPhjXXX3iZ+TtCAFEReemQWh6/VTTISTp+5VYmPq3pLCblugNVQ1AXGpq137y6P2S4qKqfjAgeOiM63e9m27BgOFNw2/bZASOEUQm/Xnt7gO+EPl4GCopAs/XlYhXT+vLtgh5T93uLEc1a2iFbSyoJQhmTOFkSgFofvloyOwUuXjbrBdubuxaiyiaevxArC6tJ0uLj65MZEVrIP/0HZDSjPT4KoWXEb1k20yDGwmFjcsmk2w5XwNGjIssww/EbcPCUUetdZ22NV4JvLgLFhTsGvetN6XZTiqfRImR9Wt0A7i7zT9XOwaxBr68KH6g+JrhSp/zOv3L1AkMsH3IPmyE0eJwQiJV/zLI1wBcmG3ArQUgHao+fH5lT8vgaBbMWramNN4GzAtkD48//33Rg2gg3Cr+HcEr/7spn3blxGdd37HTnqLoMIT8SRBxjGMPxTaOzAWvDEkgaT4hhG3biJodgA89NjzEWvIeIAmGAZwUct/kG2fCnK7w3hz4XfAXKksANR39cHYarSaP6p97ynUcyRfYbu4xT/tQzj6pLsB90cenN9P+WITSH5k/7pgICPvKDn0yUIgXay24xwa1HwqUhHkq0Vlr1CkvZqXhmfrMtbW89998aCcj1Plf0nMnie6Xq6W8ZoOv+n4tx+yE0F4mCZSaiH4QGPvSXjpOSABFJe/7MRYV5X6WHa3I/Wq9IJFYQL7k7GwVR7a0K79BS4rt02s2ClN2/QUuLcAE3s1/xXsa9c/IXrOvn8DCc+T+22PERDEDG8Dc089SfeRv25qMOTDRbaCiRoKKaFhKBCvnkkhXxDXEuabGdhpmw3SxcGAE+PllQsLm9ePhgK6KVS5U6c4z9p2ymbkZyoXi5cC7GnyE65i4EDQgdOFPsfRuXxMTcg6x8EFT5haHjgGnalH+BtDjg4UQz0/859NZVNUX1/VJzW9VHsOk1I8oZGBvJ+NimBAzu9OyPpzjZpFlG9PmOIuXla7KJDxwE/GLkzOQcKdUF3FzzytEnXl7gzegDk0wb4LzymLkYw5jRIwAks3kMlGXHPne+Add9hupJ+h4zqPf/zB4D5//lMR/XoqOggFVsIFlxPm+NpyK4P/4YymRQdcph6irR1MTY726uF2/6V54T8rw5HL8hUQUjvLS0dpsYZkz4DY1CWLkDsEn2ogzWUVn80yQRsRgu6K6XJuVgKHG4aEZQPNFcbqDBDuCAgg1pbaVkaYJXsOlPQs64/Zx5Jbp9xiOZchoIDv008SkX8g1rkM8OTpkulofrqfLB14JOi4OxDtb7hH9G14P/TGpEDZbVS5qUlRYT6rzaujoEBF9Htx+nJEqiU62GBs5orOYJWUvtUd2MHscYmSGWNuQw/1fWWwlmi9P7LR/FUHvjdeUKW0Mqla1LCxrrgBRcWhnFmepzi6/usBphQXc5nddlCF+//ORd8uqBpsIWww+5NwWYhl/+69ghhYt8d743aVkECX7GdnZPByONwP0ismENSVLUdjL0d4PzChhL1oIyYIBT3jC5/JrEEdD+B/i1CIfFvSd0wTB4tiAmNgQbLJq2bguO+3Upg4u0AtqzP/JT7Rbenf/b8FUyJJE1dpJ8yrffj3Hqy5cgZNncdAi06A2a2TqRqqQOYPef7ktYY7e0WFRbJvkl4zJpRcGwh4UhEHqbTcT7yVNVZ0Xv5b4yXoJU7nCfXd2cahDHjL1evzt6WmElkNroKVFC/tweHZ6e5Vdrgery37f9hBGe1hUD5L7Tta3NPRclJqidRy1SFhAABHcEhAZfG3vNzbZjLh9hXwb3DQnxNqhMVR+U7lQTKbqND6GDaxrLc+u1JvFPwxhIja/3UBPexvrvuO2lZvps2W4lYgM9/UbhnXxDeHysT+osei73Bt6l3MjkI3iVC1ylONvB6WNvA/qndJZhchu93O3Ku8rCPf2vqc97ub5r0uWiiarMVJExwbEalpOuq63EBINCRHpanRZ8GbFPafdwhniCnZAAw3U/uql3r+ZmuRRuHsA5h6TqjhIFWXhHQ3VIcXm5jQ50Qr701rK+oO9UFV/OTEjq+jPFfhGgbtE4YqD6Q0Y75UnvW5QNrvW96iGd/nabS1Rv1xofcvxQuQUan2YXVBirred916W49TMhJxlZMOl+kfFsB/K7THsFU9jKOxtJV8FhqzwdPWOlBsAN2hTybB3ZsbGcawnvrvjMZpXL9UHcsaG+ZbHt5cS9Cb3c57jFgNFGFcSRGNiY9UdETjftZpcKC6BdDKSeyCERanBXHDXi0V2/W+wGLtvGro9cy1JF9OYt8EvaaF/sYTxUYtXlqPjZ4y+2oEPrJw0NzMnJhR2NWI95BAODlGoTiH4/BWyKPoNF/o9bl/vzIe6hECnu2UD/yDF5Vg5oWV7tmVU4q0gtuRGR8dYhvW0V/GEAqOqqHLyhusYUR/OxH2QcmN1Sntq5ZpFmhjoV8rT9Jcte/etv27TL/lTFGJmXaGftTdSreafDF2pQC2v0N7L+2+sbLO1P9s718NooFsKebxIxtscS4bSxxuyndG0cAWeilMhwOjYL53MJ4kTSCo6GP2Pn/Pfm9k1WVPtx9azfRQiLvljYeIUoDOGmPn9A6TLCTjMXDb5y3rU38V5TWHGNEE4hNDxoofHKLN2etlqOSafYgE0l1twlHuhhNcJq88bs5WIo4gFUxURiFd+fUXGxruZIJhKiluc8Ujv1fG3JNbfPeAvbN4g8hKfa+De1u4uUXfcVCDXC3zBU8eav93xy8fLxw7gQ9nupQFY3cPVmpHd/EtIFaEs8ElxpGbDIiNCZS2zQkBVFGEjpdyT94jECM0qRMywGkQwOAtZSDSbJV404Qq62Ux/PnB4F8tVrrH1mpoYng7sBjSxVOk7SAYyNu03QTxHxX1lrvK2u5lPL0P6+03qx2PRPGtWHKXkAJfOzyMdJ4/WYctCGC3j2mAGszfMM3+OqH6y/cq7TAEjySz81uxpIR2ikJJsOzMf0udNr56iN9a/OoOko/Fr3MOYi4SvzQeloHJ5aD1fjqOztP+YhjOfs1S3YFwepOJ8N09m3HfKGxgnBTmeeR+gbsR5Ku3BR2GwnVZ9M4Es9sTdY3GH0QG0tVZdx/o/Pw0HWE4p8eqkYA+C2EPY9KiYsQMgMzho+lrrVO0CAbWZNmdzgAAAAwAGOwAAAwAAq4EAAAGqQZohbEO//qmWAAADARhY8gDcILoOrX/mab/5idKDC5pvdOWkJoVHwIXN7/e2InAdq5SQzUCa+/LN6p51Ez/jpmrD4HmSkRE+xCVDuvwWCKcJG/f7BMTyG8/N34b9LamyerXHolHe/d/7DykwqaGg4QLyt3QgFgcN1D7vg8n6dA+cFhm5KQVUeWEjNtdL2+nRycymMFT+YE8g95dfaIfCrWWjxuzjp1J7rdqmJ0ly/+nrZwlkp0w0p7arH/1mOF3TQx5KWcuQJLW3Wza8qywMaxbsRlX7/foBq5SxS+oxtah1VSsCgtPH3FgA1CUSADlm21JnIeG3e+cO4Y6CK3QTc9K+/Mpcz2sovtod3vbwkd8RjmrQcsXAolOaXNFsUsehXb1NYzoF26MMARN91DdPLlak1lfKnVGGhUzaEfV9a4v7CjI89MRRGQYw9kHNiltw+ketzEfSTC055MQf06trPgVTOMlzho6qN9Etex/Jgp5JWQxhhZUQm/qCh317px01t8gL7mU30E9vX1v72Q0BLtbjyMBJ5XK+H0O0pDTwuOagR80ByRtCojugAAADNkGaRTwhkymEN//+p4QAAAMB0dXZmipQ8gAS+KLfvMz0AXNwBJ38VmOPcx9wJi+WYR1sDbijBmgXXL4zEaBETODWQH+lwElPpXioLI2Z9xFsvBWKUL+lHhQDfxG9JHtwNH9nG/MnqKZSkn4+Wg+dofM5cEm/X/WOFNqDHH0l8eOIGLA+Ucp0ykZEzywd6h4UJD+lT18hHDoIArm9GcNEoYpXhgvdWOwvLJrM85lJTjStYRAA2SXfeMGBYHYk+18W2iZbcAvLHHh1gYqlJkeoJ2K+l2dJegTpLcHiwiKdO2JuBs8yBcIU7p1jXFHQu3nYGc1mO4sfUOnIgyuvvMsSvbb9o/5M+Kit5G9A5XYIcD43PcgNSFQmuATgd00nNmB3PKdR+DUCOr7r9Tqs8kk86ck+TYjsCrpAs5EGg1bSe6nWznC2L2N2TK+qra/zwyR4cgPPn3rb+VsARt+xvdshTdW/lbRuwx4mZNrhaZA2PMDhyyCGd4shgvVIp1yk12X3xT1HLUmi+Z484cDQlhzX7+ag3vdE8kGBw3pHFOMs/gbhbK3latxqgJ7zKCj+APsZPoag+PfW/Y2HlM3/dsLXi0sjT5jjx8P+JarZqVE36nYhn96GhBYGhLOLsQsK+0mArtkbYoUFmPHGCvNJ9dl+pRfEkOtagKMQ7Cxa+nEKeu/44LxWa3Q8I1pGyWcbHCOAskh6usmNdyY6NA2zg+jdyfEKae8dOwMann6uWehRmeEn+Xtkg+9pKWHAxhB/Wyn2V8LVHofU4XTL0gVDnuAwNoIRJN14QJel8skcaXz+RW0B0BK11X1jGNjbujM7ifA0acA0+tvFRmQgQKvI18EV0DeHL2wU04uOtB/faZ86HSV2wJuxrE1504SckrxJJnAkOIBtQKp36tyghn+RHQZfNYaoP+93Qmd3/shssBcJEiP8dBsydNA4fSrArQQKYGDj0WuKDoxldSlhOLogpG0lQZb430NP9JeHrem0uo+7nfCdfF+ymA3bn7wPF0d5B5o0yBF5Ji5/e8upR8CLdHTEzR5cdoh61WMgBXDbFt3ZH8q6Z0tPQ8iG6H7bFYbRIq9YT/zcAACDgQAAAEhBnmNqU8M/AABphTT5rl7TVPUGF5VUc2ygynMDAclyABtR6rE/c+RyFQZ4p1WRlXDCm0EWtItNTO6cTQAyRl9L4YL9luMAWcAAAABUAZ6CdEK/AAADAX4GH0ALcLo7FSYPtXY0M58NLzmjC/nDmdzEAD+sbziH3lpAK8HMTXbdit+Z4lrmc1o5DrvvN9VXjJHecUlzIAHtBWjlQ8JjgBqRAAAAWAGehGpCvwAAAwF+dbyIxyKCVtAAB+6enNRK/9p6fvrXiD6qvscAUWaXGzTn9f5vnpVE/c+0yvbJRGgb8vr1H+2+/1p1FTXagsVmEXvIZkAzcsdCStsAYEEAAAEfQZqGSahBaJlMCHf//qmWAAADAOlheYoADcHhFssrAv2xZ/AJeR7QwD7d/D8BafwS1fHUACGyjjIhSFltjh8tcACgaWW88pIRQxMTZfNblb0wzr5gS0nLo4qF3CgIf8vA+9UvDDK/U4kcbE8sRNpkjiSpN4OFOgTZgSStYOKfk9ZK+96Y4/K/yR2xDsJo1xz+qJ9uN2JhI2EkPC8/exhp6COoc48iqL9x1ytFWDAS1tOsJaIi+9KgFfZqWX2145M1fJzDs31PqUst0nSGl33S+QWXOz5FzPBq8yc7FuW5GT205K0c+CkXxlodyz0fXBKD1mlzQoOHb0Y65qCkb+AYEvZFV5ZWrvG/UikwnUrsAUoEYzUlrY9/PrcAAAMABeUAAAD8QZqnSeEKUmUwId/+qZYAAAMD1bP+SEogApCEStMNsXWt2A7WMd4gm3kuIiCVlKzv9YNX62hKrFX9ozIQkXQ0BY4ERIrGjYq30H38SzQWuHrEvni3DZTKDDVBwZQGzSf1+lyDxMMdl/y1woBzN/3JaPtvufIxS7Lm4Us9cIf44z8g7X5tEjx6UDRrxbcOsrohDBEab670H118rTHUCmcx1ePm+ffo8ioCbcpGKcOFmVhHV6tIsG7+1HjDSWp3ihAvRBHHcjxGJ8tZp1E9X2TgP5aOIGR/Z0x2g+DHw6feCi8veks9N/H0nQ0I8rYtrPpjQjpLjA8vUAgAAA0JAAADg0Gay0nhDomUwId//qmWAAADA9Wz/hKZJwFCQiStIte3xh9yTIxzzzmCIA9iv0cx2qNcPCSO1GT83mrfkfMSIJt5L0zz+zI9iowC1Iq72YP0aRAeKo947UixjMBXhDpRyz77g2lUsASaZy+4kWfammO7n5AM77w0EJ/+mnDkj8Hlb9EmLAKnh6fEwvP6yqQYd1w5MaziDb5+SFmocGYWqikyP7LinMOlNmk3k962HTMGX5l9nvh/u8rsv+IUhYWcOTO/ra2WQarZi6ARJrfwhthReefBZBfXTsXyrieoqrNLjJcakDPAEhHxQYaE67eFirOBfjujqA4xm+NoN/J/JMlJoqOBX/ko3ulGhr9UtgPMVCBjH4wI5AA1y4Lf+LfKRdG57grdNsCcRluspk+G8KusF1rvyMmMjQi5d8ku5a/gKD4wpLqOqR0Psv7taqUF0CqB8exRJRwBiRYr8C23RNi/H0B9Ssv8x/X1stV/pHe6uN2plUe2o6Kiavu2e+HuuQXwt7ToNPBHS5mRpOzZwUMTdVR7Hm0oNwg06YBpiZ1qT6r563PRKssxXvStBtEZmB5DUrc4J2UQ84IwmRyIX4S+i2qqpleGuYb5geABplqJMJ2Ze+Q07vf9JZPNCn+3/IO6jvhaF3CXlE0QZTtdxIDeQwnXxTQ6UuhLpQr2/HhFbV1NO/GnBgq8UfgkNsI0fmicwkRfj/X85XFrqfKMrEITLX5xVM1TDeKuODJc48vnGZhpzXxBHQyx4BCDFBUooNo2vdjX4SIIQt9istyEfjJeVL0tr2HvgAXVfiUXWxGvmCgnMP7NImVvELwTe+p+JvEgdydIp9LUioGqnddtz2BkW+kDFXVFb63iPBYBNL5PU0oJ05S33jTp3vDXTnDs+hNiJOq/J9+vnf3jsmQzS1WzubLTmsN9iU6Hf6FpWUKA44207SUek7jqWUZag+dGfBMxOFuczyJ6lkE5oM/PpMB2IeduZ+FmrtN+B/eK1fOsef8GwS+zfMxcpVHdHa1mzD/10BTA382APsEw1UaSqnWm8DeUlOsLJRimvNY483Nr8nodunHalbo76hfcW8/TY7yymrmtcGANY259xO4+5zmecB77uTq10jFk9rBPbkBofFgoG2qQUymrZeK75lVE3drVLo1BvHbX1A9K5ONbWElD9pwGm/cxvg7cUfipP+nAAMqAAAAAskGe6UURPDP/AABphTUSoOJWABOpGagTE/UFSFTM431tepIOucGfTILEmEMtBPDptxp9PH+GtObhSTD/CFFtrQws/TyiFH9wnuo2mh33LpW19unNBfgwPErYljtj1KvfItWhZlLsAM5yJaqNMOhejtx/qRC/NW+fnRi8aL4HjXAjzzN16MtsrT1b0/UNwuPAqoSgtyBzb+bO5VuCMKG2wbMmB/395Wu74wA1Znx9rDpICHgAAABAAZ8IdEK/AAAGNK2ogBbOPLx0xXbI9x5gwyB5rfpPJXpvfQTPjh38oUwaHy2xdc5JEE6sNzv355yAAX7B65AJ2QAAAF0BnwpqQr8AAAZIlDpgbABdR3J7GreEe/rso3N3HjNMWS9UvmUvpzUHmj0AciMcFnPmLIYplTTT5P5gvRD/OjOap+6YSukPukDF0NrddE9KWBkLfiyLwABLgXagAwoAAAO6QZsPSahBaJlMCG///qeEAAADAc9PG7YMjqNgC4NRrzdwF19zfbQY/NCgOMyfiRlSUp2UNatLQW+oE5hbniFsgEINTvuBUb/NPnVIV3h3BR6JWQLYMbPClBrvMViK0BVzu0YkWtN9h6ALHGoFUe9E8fYuIcTisON8m5PGbGbdM0u7jmBzHcTucbXDMpbKTqlFEpnpMrR0r5dMYglzLisgga9gNAr7vgmQbkx+ekx5G6/RrvnJENHcXguYZERFDQpLMMLJMrEbcSvC3utaNPfS/IaTSIuv1lsDCYwJz8ssYb6vWFSrWt7IUbsiEQn6OQz9rW8hu34nTkcK4WYeVFQLIwXIxTcNuFBcSNYStQUEKU9slzhwbTHhe0l9TNyWnrQTKgj2QXzvJxyiU46PfGwEalr9kCaO2UUCa/Qx3wAUsojvfVgihXvmQUmKw479tnOC6qXqG6MlkhhhCJq8AYSc1QV2HHnVBnULJ8wpPrhzUfO702IUtphLpX+/c/GlSForhwbauSkUWikj1gQobys3l1e0eYksFnj9fdmWxujaXssD6qwW2oaU5p3/5CVDyJfmkmxl6jbw0hS3RevHxof0LEBZnEGir799jJfWC64bpiVx3YAzJYZQ8OLpjRbysyYFw68HyfRbRj6gso+zqrJlfLuffWdcCcd7cEs1TMYmXH4yf947dJ0Sp5lw1bzT5tTy7TuI60LSmJ/yKfjnD8p9q3ZvefPhacRahq1W2L0CdBI86fEo+P9q0O6wJO8vEuHTs3f7e3WbpbJkKX4fdS7rY9d3bIp/jhvgQt5ZSp4jTNgPhvMxC2/LRvtyNyqKSd08VNtZXbInqaXMX/piVx54xfQD+8fjqDyBSnbpEIBOQYZfjNMZLc+diC8sSotvzHPlfXEBivHI93X3WQLWhe3QmU3JnlvNO4MOMGHhexZ+QJtkJJCTLifEH8k6FDicLsd17U0OoWaM8MlGVdiIEvm0Vm8aKY63yki4lslJ+RNbaEfbNZq31+ywGesDmHQoDwmaYMUaXm840verjUd1N9rNKJbyX9myURWhXdRteWRZex3iWKMe9b1CfewcFKRVuignR+D7DUEayZaj1Czx5KZaL4NAHWTdSIxKa6xy5QykZxqOBNb+nT7RJ3cbhyT8G/SQXi4tCi0xllULDIgatrF7yqL3LW+Rz4c7ZEHoL9VzxqCbteRvJWCtGEFpjGrJZW4dIgqU11EKoXRfgZE+jefWtO9PfwWozn22GRu8tWO054OJiOdDKXDSAB/gAAAAlkGfLUURLDP/AABphTT5axqDkB4rYAJ29WszMtgcLsPvUext1vhwDHMR1tlUztUIpEwZqPmIV0IWfz76NVulCMMhy+ldpjOMNMFeKJ/bL0N55Tgs0JRgui29OsNKh+C5h3Iol8O2BPiK1I2DPKVpJgMhD3/TiqUXHwU4XKA+6fmeKta0F3OTUn15jyNNEz3YGk9xdGAKaQAAAIgBn0x0Qr8AAAMBa04HT0xACSLXhKmMx9iuJ25F/E03FpsLaFM0+fjTkMLtSTnyN9+lQgMHmVrhhhIkotcWwdcf5W2g93wC26WXBBAuDOkJtZbnXy0+vNcu1UcvdpRgj0GVHlUMXmAqx3kXBD1ud+D67cVTlmsu+S+ZZ9IOZ3Rw3AAAHmloDAMrAAAAXQGfTmpCvwAAAwATWVnbvnfRcNwA3KOQg6dP8hX2ABiwfF0g61E8LTOI/QOHBa+b4d/Jv+9Wig51sKHmdBALSI3TCjMNENf5ujtgjtLTkVlheeYVQjvAF3FTZ4BgQQAAATVBm1BJqEFsmUwIb//+p4QAAAMAB8E8HbCEDXP+aAUIsAHE31J34Ba6cdDcVME5VT6Au3jcsivD7wqh6FfyQL09DCKxjC5LOFSCoksQHxSExurUex7oMifGJwWGbpjpje2MNxtq1EklM4rznhnj2GK/NrkaNJDlXbbzJz2lTePuC0naZS9AjOlurLDpxT7u2l2JVBFSyqwox64vehHl3ZHtcL5aAlSpRzEBEfzu0bqwqF52qIsWxHkbB72ssTmCTUCTW+5LRIUBKBzCNQK1wk9y+sKTN98qxLeVWGpPuM0soBSF2h7q0R2V0bGXrqcPbOoRSXYpBlXuSTzp3EKBEt5BORVHRiPAu+BPcHHKkF1g5jQ+wOyiktXuF/5WH1iCYKre4z0YftlXgHz6/S2xppwoXfAAYMAAAAD/QZtxSeEKUmUwIb/+p4QAAAMAAEuYKKYDIjSc5il0t/8dvsGulsLSlmu2ZUt6dmCyqrSTxafy0LdrMZOBpga+VROYLamEv/PtHDRe6JpxZ1Rd7pj3tr+6mBVQF9OHW9DciwYMlG5PZfJiLnVNRHMZbNzyKDh5+7CnvC00zM7hfuvDG7ePBnebAvvoeZ2d/6No5G/FsN4lbU1nlrLfOWW+bxjjAi8XxAFG1e1nNZ3R/XbGQkOIVVqNWEeIgsZIbXw+q2YBTzRBrlgtwTGiG0u6CpkPB9f1hhVJe/vEPyggu6ZqrpZZZNei3zFfXTxPTUuHuvMObsswOj82n7gIACHgAAABDEGbkknhDomUwIb//qeEAAADAABJOXYP8AX//4I3Blf8Gbg34Zqp++GsEJraVgfa0M+3UwWgLpU+UxhOuBXPi6uoGNXK7WnKCc2EuorXxILeaPJYJmn5+mhMXUBfWdylGYplvgfZKulrCfQpOGSHsaJXol7ZU7FVWgk38auJ3TjOQLFlHu0G5pX0nTBDHZjHyHzCy1pi9xy5te4KhABpDMKQEctJ50jjeK7LxpkxU1dbTYgT5ZcKUxwb1tfWG9LbMk1LgLPLVvN5HC+UgIEwPUP7xj3/QsiwmNngZRVF029wGTppzpy7f3k0Pe4NDR+skUvJ1m1a8EUOaUgjXkn12wTljmF3UGs1GjpADukAAAEjQZuzSeEPJlMCG//+p4QAAAMAAAMA6Oii5D5uoBPZgR4d1DIpVrU+0rXsn7cWBwqVj/KRxAgI1hQv+aqOwFeC3GUr7LLa3FLeFaR6E+m+FiAwm6ZNrNaqntUsQCE0ns9O7WOXv//Vy1tHGF1Mmq5utVj6nH6dlZEyJA17TGljvwf1a93TWZkbgL+a04c0TSbWFtHzft0D7az0eFP9ezJgaH5BN6fcfHf7hlHknWTVcElRrFEtrx31uqF4F67OXpqmG0crP2NeKo5UA2inqTOSa/vJOl7jXkWa6P5RMtkJSr5GOFPX+9QHVEyk0wluLl+oxe1A1pA4lvKX3s0Yp1xhVe50UYQBlXvJ3A/anov7QeV5uyDuSn0+gdYAfgWfSHZIAMWAAAAA60Gb1EnhDyZTAhv//qeEAAADAAADAXTffROs+m3cZNd3171ihcgA4hWtLB31OlncGYZSpZhoInIVfn5hCX1vUwJL0JD2ThUnpzpVpH7xqiSv0nsxZ1sFwtoKutolGxdacTfWf4S6fhjYMO+ixiuCHyBe1EbX2TSyCbFfFgXDHqyAgL47wJYZ21StRtcYkxPg0aJEjMV5dbg2p3MJTLfgwDkprkU2DUK6PIHbdvEFciXeiHy7Ojg9v9CKSRMElbuEtA+nakAdMGL3D5rUW1sjlHMJ7Oxq1oXm5YBcvmtYV9Sc0yjpGnN4rI6ABVQAAAFYQZv1SeEPJlMCG//+p4QAAAMAAAMAWIO0G+apN/Y2AcJD9Ab3aJPNOK6AGAIJzJpYBmNVPf8ufqIqUXYT/HXBJF1ytIchK04P/umuS461EJch2+EhI89vh//F0PL52z6lBae0/AILWjqQ8hupvDp1cYLtSNlgIYvwZifLIpyJwkJhApMP4y7hF+KD8cbhG22O2z/+k5XEpR6KCfpAOPcqPcGv9oNy9yUKAezxBqWZehOwYs1D//yZPUbywRveGL0bme6CjxDqN3lkLPazmusIkEmVv9AhWKQ9Jmo0ZgwRXzYHqfFQ67dF8pUcC0etxz4WGlyDXiTxbMJDDCsBx6TAsVTNrpT+O4qslQL1cPn6+n43xNf6G5TvFXY50+gHUOztOz4ReSZEpKZT0uEuDyERw+YIguW+j1AK+Z/mEhzemup7XTsxrcryWsi9BuPwAsylhRz0+qYAOuEAAAD9QZoWSeEPJlMCHf/+qZYAAAMAAPl/CW95wHIlbjvsHoKiJxiAOWaItPAQI71JK38jtz9rah2mGZNLqGOV1PNTTJd5yldJur6iZUqziXzrQQTCfhecNPujR0TJNKAA0FPfSuROmL7BJ7p2jRctI/owrmM4EPnhSCgebTIjwAI9YlMA6PrP54CCAVtzP2UbiCTPhr4rbFREGJj6jS/9FLAL+zUdtFmTvwBA1bjwsEHjaoRbPLWX5uBk46mChMXY9je7lgEQ5gZD0nhY5r1VGRTRX9KNnHXb8epQUAccbrWsXnVWRSafLKswLbB18bQ+LWn/ozv6h3XgGAc+zftD0gAAAT5BmjdJ4Q8mUwId//6plgAAAwAAAwHq2ffTn8+gCPkMTv9xroBxP5PJ1qH3pMsg95QDA9qydCcoh2U9mZr4aGFNt2xlWUyeNazfUgIDf6Io+TWLfxfbPthe2Me0+55zvIZ3WP3o8SOGH+9WLGed6o1ls1RHHT9sAzXdkBPisOeZus5DDV6/5c12ODC7qeHr74FthZKLrQRwVMcNv2+Jy/boPy3lmMVwLu8rnZo8WOv+j+rAD0zQPQowFIYZAG1oQ0UwK3C6kUWN5HK9PFxvgQ5h7+/aQoNvMegKmBS3KwD9QcOwsOTC80iM3JDQKgoICoqWJfg89TMpTnx/48eUDRAwmb8dmVseAQqVHMiI6oQQ/qggz2+FZUygnQv/lgk3G6kC9dpnMy1JxV8aMN0iRJoGZXjZVfG6bjCRnDgA6YEAAANlQZpbSeEPJlMCG//+p4QAAAMABSNqkSvWxIAEw0r9fUaf7vQB+7smYbE2AF+4/PkA0QqvyB119Kx/e28FHfShYQA0eL+WXVSCq45WangZZ2DXbRlI9/81H9QqM/c6/QgwdrgOe6mRltCrRnPNSdHmImoZxs6nk8lWHlmwuNPbdcfPoRMs6MfyMqYY2jNPx04smEfPuHLp6ow2GHXGiVrzAmPhc5vDKh9z9y+BdEtAZcN081u/D+Tj5rxJpVAuZ5y4Is5BRFjBOGk/Z2oTmeAjAuPnmnD4KGxdycvaYGv3wrUwOlEUHwCDqLx+MJxxU3bWONoiEsmPm5myfFb16FgQq5+uvUcYT7If5P/F4LQT3g7o6vXvl3mc9ZQGTU6DUEJNBZhah/O/lXpID/2X0Q468uy1EFwKAi1fYA5PHcjT88mHx54tlyn4z0FZqBF9y4Q6sKc+b0uV+IQcH4urjiY1FHoDjCkHJDms+QdW9ezCQvPZ2p8EInneBrHl+aqkix4iWePCx5J5Z3P/67UDaSWiybzk1JKqA3jlyLyfh00dz/Xgg25GJAA6pJgE5ERwvXIoqfNHgojh8xKmGxqYbsmcHxsLLvWI9MoBddiH0jxKqZ+D5RGYFfrqeqN6HAByyL8Jv0aY2JdebbDpLzOhcIZdAckPKz+kJsCx9Q1kL5jilO89VsZKSrQR0melncvsNG9QKu+qETsilPXJITxiO5U4klCu8iB92pi+7BYyXe9tQdA8KTn01vZTLcmVfynMFi1ZVhcTS3zf7FUrluvenOUrmDWvFmqkKVGPjSLYIKbpAmWeQxiZAEceKEZuFR+ZX4Cfqfq8QAloWu5qmoFckdhWN2QVP7b4iyH7nfoQOW0gOlxIAMNGuaIkHViii/hyWojip1qqsN3/alPFSIy4xk605jO7xWpEBGqPSSwcKf4mmNoT/ocvNwx3CgUmUbvcWHvPNFjL4mqQk89AohTp5EmsGediUDfrdJRgwR97f+TG4jprRmlV1wyDjnzUB1S83ynxVW4qvq/7aUwDgW+b46xWV7wtVZhdEo1JfO322u+xI+CI/IrDeaadUixbTZXIMwlzoIax01lWLE35VjZTrpqYd57q4jH5lgwTNH7+a9IY3MAyQ8Vnb02+2AxzFarfQjb/R31AHhEAAAC5QZ55RRE8M/8AAGmFNPIiUSbpQepxtzCEo4mCgAvXnCgYeyFWqzn6rt+TwPtHK/SLigyYUEujXXB8fnq/+KwYudhdo8T9cas4wciCY+WpNEMl6r8CAmNJ1i/GPLsKrRtA2i9RZLIfT0pe9fPVPV3nKuYWQtWF82Y848cyG7bwI9mCIM8G0g+DYFsaPd0/YtL8dvC0hRdZy6oaIU/VhJHdF0sUcizFSTk3atToWk+1U+y6bw8evOzEA0YAAABlAZ6YdEK/AAADAAaYAymZy2LfL7DNYMcAEyusgp1Zsrr1guyAZ2Px/9QfOdvGQbZJssXR+fAtnhGs3bMteSr7rblg2+VSeyR+NRT30Bt5QBxUUimQyPu+YcaF8AnMfrxNeMmgBQUAAABaAZ6aakK/AAADAAaZ21jHcVUj14AIH4lO8RkFB/fRPdLancv+Q9BS0F8wnADY+98auieeLfXyP+YpnwXWUsOWv28t8oKgthIAG4UYiN2j7j2R66LbB2Kf/gEfAAABa0GanEmoQWiZTAh3//6plgAAAwALMdeAz6uKAHLYOdIfyJVide4eQUnN3EFBkkY6W2W2AiUwKSDmWInUhR72RCW01m9D+M+a9/lRpfWahV2bj6JaZt/dJZ0tomdExysFfMvNte4d5Y6W8KIedLtVjbOLz2/rSgeambApNulxgUUWBRcQogvnreQoAqUeFTKl685fVaWdNgmGdD4bAKRCKL2pxlq9DF43VP1oJTykJAuUG4EJnCtiF8KuQPq4kyvPmQ+oa8WblKQnecNxY6/px+TSiz0N/dsH6h37bUkwO7aZhqThRGhizptG63OUQ7E1JTOj6YtY4hkna3emSF6ddy742wkSCApcO+jw6Wra0ZR14g8E4o7ofI1bB+EblbTBFAVQoN3DfC1XSE4GSbt/kcllBuibT6E2+sYm12xAgWpQqEuhjTII7CvDWvMbBH3zs+LQsfVYC1wpuIzSfY0Q6XMSvKl9LiO5+AAg4QAAA6JBmqBJ4QpSZTAhv/6nhAAAAwGd178BiAB6oj/W0XvirslDXGi3B6Fhqtf+XiEU9EQfMyfvwjhQb70lxCwNse94f9HALM5caBse9pbaNsyuuV0Pwd+oN3xKkTJ6YkBR1lyVBh3vKHo1H71cvx2c9Mxr8bw1sLxvZyFGit9k/vbW3/TNVCfE2GtfeiDRjH4bFDrmi/6iN4UxTQ1irIVYK2fJyTJ1NQF4msMKMTF6KWnRt+HVJW/90bcqgVBUvpoDGpZ03Rx+8L4LUQNSQyrA/XA47jIW3Qum1Hnn9jYEsqL2YkglZiTPRpjIVc+DZHSJJbXnfN+ra1voI2mer68T0la/iC6pZl9VbRhofQhgY4uUyHbZTQYCWm10w6N14OXJw8f9uteBfexPSZT8rq84eghYLhRAmnURTqIKemfDksUWCsbDr5rmYwQdd4Ydhjh6T4L7wUhR1WiGljOS9/ScKXCF9ugfuh3w7/JawJqo8vV9VNnR6WOp3gp6rm/qnQR4qSfzcVIclSECKibgz3Fb/ThPMWkie9jDNuBljXm5bElUE6HIex8ldSUcaHvW3CpMdTciq3uVp7TtVqSlrdNGO+IA8ZSTNRwycr4BBzBFIfjO4pCc1/tdyE0efuYYGyCjt94KTS7UBJ9ljeZBE9+PVGWH99aFNX8p3jkhjISKLsuuAnGVF1Vb8s1xyQy4rsHkDNKgSdodZcdk3oWYOhu3XxG3BOOEHsKpmgoIkJFZpQj0cWMopvGWo09mQ5bpyBbG2qnU1ZakHm8fMRpHEB8iuLqYyDCT+/qtoSZqvJ7RJwDg3zhcsJGlBP+di6fnqi6AvhC/7Y5+/EKsQNF1YmFlCbtC+2f6EYJAjgdoG4IGBpohMHsUb1vkL1ji/qYZwp2EpN3i94IyO3McVD6sw8f1YPK9JTut2G031D/CPZqHNkLWXx9bnlte9dy5eD4c5ytsg+BtANqrGBDLOIJeYDrKGIDwPFiQbKx6jNaTAzYJJY7NdStegUn8M4ZunnfZHs4LXTp8t54hwnfXzm0LN7Q8/VrsWkhJrXwZdaAmTB5y3jgmymyufUO4hdIxMEqGop7+qHVAaVQXYGLVbim/ZL/qqyGq+emQjIZPYrvxl9STvAaY+6vEzYfglBTpU8fkONsgd7Jz5+QfWvOHzWcGhNfapnppPTUybG2gh2ninx5kAv6DsHq9UbDHhGIw3cdfB4lGwS0DMK7oEISUzYc1KpbXJRHACXkAAABVQZ7eRTRMM/8AAGmFNPjo8pgAcb1apONJWJTXu71JJfB3NnV6srfnOpLUEoJm3KMV97Jx7+cp8cwivN3YFHiRsglWHm6HepLzY0FYDjnP8JxhM+YB6QAAAFoBnv10Qr8AAAMBUMsp2sxtOZGuTABxZ8lZjBslZqR8v25nbNLtiATIRemGum7j61KaGibwqyTxjjuP//jShoLtvBpErQF3/Ys/sRdycKXaZJ6fa4Ca3aWADAgAAABRAZ7/akK/AAADAVBlKx4HQBQgui3HTQbPm3kx/Thwk4NMXj7bv3CaxNdKrkw0WNmHkiOTEPCABSurrYzzEbqWe//bqiLUj8LKiywBeThDACmhAAABGUGa4UmoQWiZTAhv//6nhAAAAwGRmgJgEI9n+V9Bi65/X7IiAxneZs/lGYUgKI/1h/g3grzP8T+VrP2e9AOY+h9JADac8196ZD/v87gIeQCMaW70G8iPdyu/6TVEXfSrqFpxP+RgxhgEWzIaCHAgm8oLwyIjdGuKzs7MRoxTAEAyc8/rbag55yXvh5EEyXCtsQfbU+39qN02/RRkSU48gDXlGFFknHE2LkdDk9LgGoL5SbPoPjMDwH8T16PItCfajftaA1+JTFzoZpPczO+rrWjLrtrSZtjsTLyTLm7N/qsyy5CvOy4pQQ82A6l5EM/qdbUMCKVvHg9rGmrKYMGvrl9hpK0oIvfQE8+Gt4DLqOHi3oPChs9AAAk4AAABPEGbAknhClJlMCG//qeEAAADAZGWwAEyW6coVcqhZTKc761Ahosq3APdSf/S7kArgX9GgkhnZK3EwNphmHkEPZ1+p8/rkJMRpMzdlwUUtRQGwJyQQ8Zx83hwOQqX/m4NTjQZs/Zd9cq8sgdWmCJcFxqXpjYcmtLN/8W+MvczLnMMMP7chxhiEQlF5YF2g/iHrGo+kOmPRI3iXqc6cTd0j/0yU6r14G0a1OW9NTV/mSjOYRDhUvKsERm9OCYcKROBzDya+pAik4iho6HcylCg3nGhS/pSg9nTpTFc1Jegl/F0tUf8cO2dK5Ntb12DcbM0Vhxmhcum6AQxsHp7D0MNptGw15TM/xK18wuefMjzEjXWCP2Eyi5f+sMOqN9uUnSDWUsJ7nhxWTP9riRJ1wLVQVt3NKSWwyXhK7gAA9MAAAE+QZsjSeEOiZTAhv/+p4QAAAMBkmDeXIBjG4fFjq8Sq8QlAiuYZwucCklP+eR47bp44NxvxZ8C8vFhAzNUb8LJxKPntupHkU82Tj0EGauV7I6A6/8X2BkBRu5CYAdEucE7F4aOxNjQ7pBl1h9nTa1WSCDX3e7Abpm+xHFTBNzCwot+gRjf95PuS+EWXyoYNKjjkv80pZymImyLbfj/2LmV83KHfZTxT11qxR85K98w9ZXMoCxuqxAtmimnSX55Si1fsh2rrR2XMtZTSnsXpMXSpkEA2SAX1rz1aITZ2ss2u0YXQ75jLuqm48hLNzPlGC/Nr2eYfJ9IoMh1QlG3vv9wdeNNDZLjIoKcNAUGfnTBtWsc1TlWvujX3NGGs+T84KsTx1SPzQNUe1JlxF10YTvJqN18yk/NVYUiAAADABKwAAABcEGbREnhDyZTAh3//qmWAAADAMZxei2Wtv0Fo9tAD3FjJv3eThgk/4LfaQJqskoPxOeBVhhv/yrrhHmJt24MFDMQWoSoa7mmRWoWho1OC4iTeZM6tlJST/cuT6vdzzfgDsVvy65nza362ax5MF47MQ3BkdyBNG3bJDiSSYWfXlF6DZ3DswiG18YcpPgA/V7yr/YZhv49ikv84L+yNQcI54m9oTmNfurtIcacijkoz1n+X6np1AjbiRQSNuh4RjY5jxM0Cyyef4g0DhdR//lnx6m3wAgVQbOZNLnutr8RO92j1MI356N595OvVk4xZUm++igaccpABChIBf+RGpgJEnwDPYX46rFU8Q304BolLf1lwSOyYyj0x+992gpg1vgjp+Gb0xpLUA4mk7w2JLjd1nQPIQVkGaPp9AVe5taNdLHDdGeDWNFHTIKQa2mj4s/oz/6ZtVW2UQA9kci02ZfyZE9c1WdIJEvfF/L/AAADACHhAAABE0GbZUnhDyZTAh///qmWAAADAEwZBJABx7sdsQRfDdMspkzyWRae3oqsdaKIXe4HN3mQxXfTuyE7GTd8GDYjtLcDCRWCsCrR6dtormGmSjPx9s+CpLRNJCn9va0tSTRdi02D/yD7I0f5k0mNBqjY7HpKAxeGyyjhM/zsRv4d1Z2ie6oUHyPAv7+xZzdWzrafDu/w55n/U04bDglSb7tr72GqFSFm3wtBVgeWbCTfIs9lNTgfpBw/ItaI4Xd9i81v5hczGIETptJdz+Zen+hIqu7sbTP7gQI1BJyHWEt4hK9+/jiVPW2DAeoRaw3AfbnD0Dhln0PqAdMxkmT4Wnc6IxvPurvLDjLRCFT/v4U/WSAAAHzBAAADq0GbiUnhDyZTAh3//qmWAAADA1Wz/gLCgP+6AXeg3fxfuv6bykVwhOdBwW/0LFRCyWq0wer1ereRGu8DqlrGFrrspeZPOtQ/DOJB7ldHeBOmuhYN4hVZrmIOdbqD4hqsfO8MASdgWV+/1Pt13zR84QGJby9DEyfZQE7rrKYwU6yEuv1mxZQHFWyvr4xSSTtknqNqlKXrmEFKI2579s3tWReli9aj2fbnZGqXN66qkNQpSEsGnXZOJiuw2vs41JOXB/1nEvEErVDe9pk/20WiNQTtocofKOfToBMxLG57afJvd7Ip+YBzDkLJohA9DkXXs28A2Wa0t1OIb1kvWV2cIjN2S+R88nO86jNUKAEi9aBmCSQaMsjHm9WSUWA55Qyzp2hZFx2uCUdVoDsQCu0wb9myk1F835p683gkbh1kpcXyiN7HKlxA47hx2CIB7Q2WxlWrMw9U4QVMao0pZNMijVna4ldhkRs6tE2B49bwNBdlqFHpTIbs+LSSn+KBFSp5LzGE6DtZN+9rYAlUbE6VV0i1qu/u5NGcAOjg37ZntQgrnk6KUfOLSkHV3x5MGrsWP3YNgO+3XcOGy52SrrOSzcp9HN78CFzVHsrIJZ66EkcuziQIgwEG7oBBOY1cxjnTDFu4lVVkAUCwMYWz91BYK6c/6BbjYKTwVK4vP/YqIcEITT9VpLGTPsgm+T0pThVtS33EUqlXWwXXd1qoaNrLv22vkGD/SzP5hyHoYd34bpFGM0xnw4EMTAhpxYt3lXwyZLgt3glXna897KA9hllsI98GFmY5aJTz/11NV0gTwu0bow1abfgRHXcYEkp5Z/URtEW7kMcdtuPVUHC1GvnhUbbFn6+OXxxX6xrYScvZ7uvCdEg6aMBgYS+i3kKavD4xS6STZ2b6Qi24JCNMuqdbeAEHdqBlJ/BcgZ5FugiNOLYqLPAuubmR68qit2m8NPq5UQ1v1Bf6cv+JXD3TO1eqSL4qoYzFaJPXS9G+Nv2l7X+FcVRTv0Vh0/Nudk+muQrrHdp8ts167+OFwnaUuY2NQ+wPq3PlvwyuxJz1qhyptfd1YdfggxV7QlRsx2mAzYoOpU8hDDqVf7YHwToTBTqf9RA84Z9XKBcOEcftZC86msufMz3TaJKnz80q7li4s8wUvNDupYhtBV0ORm9rlJ/NnmyzyU9b5VxkCPqAVC53cVeKqrBRvAvo9viZyp/VE+/NgWDaXtVDW/xoYurfPDGS2HJ7snDME4tAAADjgQAAAG9Bn6dFETwz/wAAaYU1DlLrvVFbwhQgA2ftCKgDZ/UYCpRrV+zTGr4VRSfSk6MKgyvkIz4+ZudFp9L5KbGFOzkMTVve+N9eWkb+Ym1NNVune/W5qdysVdZO83k9zxilIPZVuoMqFnA7McjXXz8wD5kAAABNAZ/GdEK/AAADAToV2GsFRAC2MAq1eb8Y5ErwmXVUAXa1d3eb4RI8/scOF+PTNIvDC/p9JRckoDqan2oTPOAzaq85PjPtwB8LcfIAtoAAAABTAZ/IakK/AAAFaZNAHMOrYYvdiWU9PdqEopwI+xgT6wMIVNQnrQ/7+P2641ZbcHlVohq3yu5JL9K6pL0URHIm8yVp0cKIiugf+iF48ABhq9tgB0wAAAMgQZvNSahBaJlMCHf//qmWAAADAzynq+3VtwD+NA0ujbw+iWov/dNqZv0xgIDyt0uV1qMdmGUm7PakD46Esj/jmoXdM3K1jBcM3XyU4rUO3NEBxEJBg6i+Hu8xqFpcKjKj3d3RzXyfwQ4uJ1+OF54isiP23OWKDObXP/3p/7LClGcgMTJcbqLmm96oEq8G8CTPEQ7AVapMCyOOHGU3HMzoS2bUvokWRPuEbNo5TYZUcWjVDltriHCSIvC4Vb5PHPjUqjWxFpLFKxbR5bYL7Q7LSml19hTg3PC7kmFuSxxfjYx680tQEN5wohQp+AjEJ/6qN5pG/4wSpMlmJMr4QzN5ELjSm+3FdTZqnIkaa7BYdBgRusrltFdaIRsNDaFEWrKmtv2bNqlrYCXRyKLQaUWtRU1mEtAFWqDtil2b7K7kQX8/TUZq5jKNILtfLgQmzKcwKATyyGU6MusrhbfCNAFRpEFaQCArRj9ZuI4de+UFZuottwa9jfZGg+vhuhm6G9vFaN/46rdgMrnYy16qLppBYOJFyJJcdekOC/hvPaGx5gr0YtNiMUn2r3c0FrUly6JR3iepFlhIg3Q1vIAZNpClkkdCZ0naE5hgmhGuFSBudvGHmL08arfg6z1zC5ixyvuDQ3d5mrCGcPHjMdUC1GHkynD50XJF9Ank0sTwnUtwPR3es3ZaFpbKC68zHfAxR/rVX/dIfvpMR6Fn8kKKWWabsi2JntzjSe6HfdJ8pqeGkq6wyAHmJOzaLbgNiT0gfghOBfKc1ogOREbXEtd38vKikt5aBczBPNO+niEjLDdQgIvoF9jeJQPJAls+a+4pdzLybNXB2eKux7o7wzOG3cpnmHkUU3TLpk2LayfVUGabvjT811vKRPJE5jtBj/FwHtJrhj1t+xUMzpCtTHRa2GLX59cnPZCTAZkDmrrjrkn5fmA2DHzzviiPXZt98YJpdCG379SyK+4eHbFvvgxGCD91e+aAj8csBjudBLfP0F40lpr6GoR5cuaFKYqf7r3JeoxKKYx+k6heZtq0gFI6WuHjcfQ6W9SpnJSMA7R6HZgAm4EAAACdQZ/rRREsM/8AAGmFNQ2ehKCdLg+X/njJNVnKAB2h9TtKQozvNpNutFboKrijP/4c8NlumEpnbhLh7aNrdz7/+/TYrgpoM2McExoaq8es0Ajc6ln0o4SoJFfzjTLcusFfwZ/bvuripMeXjbKXbWFPP4dtA2kXgQqZrsS1oqgiJcYjrkrenwXjiCZOQi7O+rRwFojdpA5TIC03dNAGfAAAALwBngp0Qr8AAAVBN+CYf4SssAGjjMezVMekwmQL4eVA5vW314jbeMDWzibxRZLVpJMJGn/U/JQUGTXIPT7L/J49TJOfABtqfvBx3G33fUPsHz0WrIIdFFehI0Uma9SaqkTiQX1yewTBmLHyLK0msbEqXKqgIOT4Qg8DYRj5lrICVIPHrwsdnQmWLnVaEIWV8HoiMZl3jbgfBURK3f0THYfKiIz7lqiFLyRWcQwMkLxsmGjA2qE0AAyHtjIBOwAAAJwBngxqQr8AAAMBNZVKGPQBSO+VuwUKUq7/nTjovpivXcacFO0VF/xjK0CC7la67nyETvbGoW7J+VwNlvI+dVZJCJuYNyaY+lp+uxk4KcBeSULfGPScBjbkj5FdX7qUuMUno3kNvc5gyZ9//p+PzG7qrc7wTHOWguqYWY2He4xFp5wRXdaLBJaeWJ1aXY1MKIQccDwC2OLyfd3AGfEAAAMqQZoRSahBbJlMCG///qeEAAADAFh20wBSbkusTK2IF05pYzt/Q76m3rrMrNBcl1mfjPQS7EYig7VNLlDo1HI3iYq017npcY9w1EVF9Y+s8aZr4OUJHYb0hE13crSZwaRupr3LjKxfX56JYnYhKzxuNkCf4YVYKGis7WI9JGGSkLyzw7xr8LV9EvQPhNWTuK7EQGwjnL+eAGS4ee0ABp8YJ6JE8oi2xwjCuo4FUzpglZ7fBSRUpDF9tJuPt5ROLHsjNuFBbN2wTvqMnPuLzwBmQuqQ2GpxfFuZF5oeyiaf7nZ26qTg0/yXgHGP9CvsDVz2M2jhny8MNxkjgna1ppSLJk7yx5mu7fDS5hZ2jx+6gIkELwRIMJqQ1rE0V8pZ6ZOkdON7W8mIOjBYAgxA/1Mckr9w1vg8Wl2USLrECcq0TmsmwlxqWCtWQWNXnT6/Db+QG8JCBNENiTSaN4oV8mA9Xl8Tjhtb/6mUnHB4LKBRj4x5aSC05qK2cKg754qeIDCrG+ZoaHPPnaoLalH+ixaYSHkFi5YjThWBdK9dJCe0tvKShqyFrtAySt3kMjfwk1sxijiHfDyBv8LEoNxa3oV6nSkY4/uV57PrRAdXIhvU3Kd1A7uDK0DupF6+4dv02sWkVd5xGHlAsKCl0vm2G2a/1t2JHtnkBy68pwYyDW/3+J05Ac2B5Egk+zk6lvdr1m94KF7PAbjQVPULQ4Q1PV/lNMw1eif+a8vRlAg98qOr1UN1hBuq13YQi+Ot+51AMc3IPRveGQJZFbZkuIo22oZRVsS/CHbM0wCB1knZe3KJa/y0q8A7whNToWFN9uUdhAjTsBaT8ZGMNRThJTbtkeYtI90u9p0fshmAXOSWXfT35nEc0izsa1y1qO/7e2ZVNhF/UiLY+f7NcQHkyUotWyAp+ZXlG530EdJrzBNfN/y4jk1thmnTAbhrE+kgV3DjIP+4Mv4neGdLYeHUUMfv2gYkmSMCsIpqGQ1PkVAeLlz6OEFnjgJEooZYXt3wMLPCD6wtiiLRtjOz3rPoCWRyLUZDwAVUDehg0PPAf01KPnNCo17XWHU+gX0AABsxAAAAsEGeL0UVLDP/AABphTTzfedLGRAUdo935S7QAhN44E1C5B0yqnYIMqvA7xlt4FRbNfYxovNwg9/YdKFWD3QS1PtTK13Q7Qb3i/Nxkb5hsy//hnDB8PPiIcEHpODUmXv/7JaMnWZCZ1f//rNqMiLVBtOduQy07w1Mz8Fr4G0rV3z4yp5G1Ac3NYesFNqsz4krZsTMziF7u8zDTTvMYjLEnlcUzea8ebUE4b9CD2O0GgKDAAAAqgGeTnRCvwAAAwBHXT/NMjovMAKkZMIiI2FyUeAKXOlkdXH1pofQtIqrPVlLh0tsbdxF8rFjcv/bcQOsQD8R5FFOcGAShRHd8VKXdHohW2Z1jrgva/eP1xr+7pTzO3OKR3Ml4nhURex5+svomLWeopirPINFHKhdIgdjfT5+zqUEhLj8ejR/s4bDYXsuGKJSXr783zhBWoFrjt7VUJJJNTGeji87Bv+fHAEnAAAAawGeUGpCvwAAAwBFdmvIcaiVMBEd6AFvHVVkZVAId5jjdJIzsHJtod5Nv0M60rSKV7oI5hMepoqskcxcs3fIl3bW5ZmfVnwBhGvAy/lV4LQem7JntrqeTxIezAkkk4d9NZD2yFaUMGnPGAOWAAABIkGaUkmoQWyZTAh3//6plgAAAwACUs9cOALhEuktmC7Sx/8CT3Pq/a5k8WEQGG4PihAIBzCBMre9FHwSGW1C/ZoWdLVd6vwMUErBzjpBG5Psae1PiGoziNIkL7LrwbiLo8gkR8//8mFH2PkjOAgfb1B3stm6Tw7WCWMmNflLyVmzoKvc6oFbo/fReaBTWc9BfGAnC6L7/h9SX7yz9qLPn3V0dvobuLAFlUxoklWHKtuaFvQqWhyedUNT0n4ilJ5REC6YhL+ruVZwmyQxFnbaccSeFR828VTGNeGWw8NdB81ccWI+YRW0XsRjYZH56/w1bKNwWDZWJgQG0KvikpCq2CoIIM3rlybKQK3ZawNMDQyRGi1hw2kSyH9nviEj6v+ngBQRAAABjkGac0nhClJlMCHf/qmWAAADAAAM9jkD+ItgGlR8In5L+45Vdbhf1qvGC/rh6YjVAHJZunfh0LL/adRhW90+vV9yoqc2/dXi0gS4gm7UYNEfNou5IyB9ypAm2tF7doC4qsuvIt8xLOH6Z/H+RiKfvo6kUkZtPtmDYN17g2dkV4fJ0zCmmt1KWvJQOQimFwHPROT4uaHHkJJNiiCdjtZaAhfv0eGDjBm5WAKJFtWliVpu2EFu+ZXrplkjTXreq8GVznbBKZfoG2Xhdl1BqyDnJZGNjJcjZayi7XHxeSu2oWlSklZ+YTm5B+G2KaPctTllo6Ou2vFBy+ps7sr3/WoObCi4W82PJIZU2gZWUfg11RORPrJF9QUxZ2Q/hO9TxF8nFokB50Ifa+xhqsz/0LnTSjUQykZUheAW7TooAQHypK6nehPRYVm1gQqbBjQcXBkSOUblNQ/IufuvMeY7x7nCCqT99DHrpaqGnAfhZEPyE4REgbVfxWn7ej3w7frM2xC4ZC9ijxZFVkxmkgQQAMaAAAADWkGal0nhDomUwId//qmWAAADAAAHSXbSANij4RPyX9xyq63C/rs01H/SX2vDAzp9eJ36nuU1sOyVnf6V/4Pdzi0r4zB9E/VJaxDenkb7Rmb2wozv2N1sf4ieSxB8e2NKl7eMAKlQcCJNf2eovg6aSawRn0SZxt9MzJ5jqR7bJweCogX57AjpusBme5h99kRK6dEd6T8XLPdv3m6DfI2YlWu60LJqdgueLUI+pxQeWh4RvG4G5rXDn+aQNt+b25AGlyxlCnq60XcyGzCd6QkZog1xPYf13hQ3hQ7fjh0qn7ZLPMDOetPdhaRKXTcme8X8MFGXjkmsbDENeryf9arz4Rgo5nxMoi23F4Qkpdv04sp42RylbiX2irv42789a1CvqZWXKgP38bgek6KcekgeQ9jks2mfsH8xk4djf2iu0hy+n0wbhsqQ/qO1th5ROEEarZy2QKi6fq+cq9+KJEOOAfLy8I3k7ZB4adCIaQaXPaaCZjRGgJkoDtGkmFPgp8QVUEEBhL9VdlnRM/WvtHD2eROvb4PFABj3U3z1LQzjnAS1RTw26jGzavRqF3b/g/86p+QBrmxqt9sbZ1901U1XZ0b8Af0qyPu4GQXyzgqgXmzrEkxI+oQMOjqWVZjP8qjYGqjSEq51/GUSmWDE+ZwNAdBHI49hj+yAev8ZpVId+7livUh3twAaLaLogFgCNUSfxpS1/csPVSasJ49zUOaJHsXI5CRSayAM9CdgvViehjGk3SarMCZMCFqTIQCSAeayl2Ivy4FRDIiTFXjbk5pXroqRXrtz/kr8leP0GeuZ3kaFrUSfK48Pdx4QZ4IIXi4NtOF2yYZGogC59y5qtRUai/g15JI8a4FG+6QAuMys9JJ/BM3AuhpNX5VWI6xJAkmw5Oxu8bCMc6i/vbB0Gta5IHwaj80genqwOLfZBXBHwDytHoEqoHG6fx4JkZvp5OBPvqS68kA8YNDbCviqfcoGLIThF9JiP2V8/Ql+jI7zVhst05tvdJ8pD+anZi+7Hjo3pYxFR79hm/IH05ztIywM1Q2cJiBo5kRfq38ObvDgBAvRCusYaivHr93s1prmzLoqQIDPDvB3E3Ml4+C79z87CPbUMP609bxP9JvBzoOzIYOfsbgpuK0d3IAekAAAAL1BnrVFETwz/wAAaYU083Se4cc6zODjPRlWW6rjGsiTBQMOE9JQ6FQQeVRwZPEuQAQ9ipSvDVBatJDna1fnYivifOvQ1DDNf1XLG+GY6qoeIK+IDPRQpRF8n5LdRQNvNygs+KY3SmCXOy9Cfsczc7fGReYXxmq7LhDJRD7L5TgA3FC7+fii10EEkm5fSSz5NlMrhYU2oj8sg/KsSpU/59BALZuGBtSATaActM0P4bn6+e3K6XnEMWhFNWU8ATMAAABtAZ7UdEK/AAADAEVdh4q079w7gEhjE3gaw77bVUJHb2IAS1aiJsJTS9WXMBNV1XXGxD/sy9g4kzQNr0dyDyvOXE1RG2tko/wYkTh/sNz8/wWFMbl90sCCDMnSZUxcgPsZ55rO6yd3BPx4X0AqYAAAAHYBntZqQr8AAAMARXZryHGoma1syBICMdgA4s50XRI+1UnzcmSMjy0P24z445FqhV/VlWMSeWR9tMDENViAZmBjzQFKy3G7XM+P0GBDnP2kJha0ftP8IZ5BTV6nt4NYII//K7/OirtGpTZo4xarVHcCpDb1QBbRAAABaUGa2EmoQWiZTAh3//6plgAAAwAAB0l20gDYo+ET8l/ccqutwv652/DBI+7uGVvTmipmBJT3pcAqUMaze9SdiKDsi4euMKdN25Q75900mpnWDFtgBD3Rgs5myyRRe3OCH/2LcYNzpuSUDwE3mJZrHf9tUH41HBmw0SwqwO0hG6pBUQ9Dq9STWeubOAnh2QItHKlPrhf5zTiW1UbmB1UU6LSKF7uwPwKaVdXbBQboSvZup790xiZWHJGhM5ODdUDj1JcSmXuBEpbctMLy5xFQ4uMtYuPx9c94saYTwpDl1tWn42474OukQUcwqkDVN++jDSRVlOCyaV+DTyGAamE444fIE+1fiTg6v9Vw8NRvCvrqj+BQvEzXxMH2vZ4pPBuDWmpSSbpftZJ+DZ+vgwVThM7WJ8yXhUM/BjWESzSM+X0vaBv7UajXU5Wyo4LxMgURbhwETFejBzfNXr4zOmUTR3dTMo8BHtUAxYEAAANwQZr8SeEKUmUwId/+qZYAAAMACY8r/B6iKgCrpaVMK+xa4dGEpVDm2rCoj20oshzVLezjc+q66+wjmlyALepHWelkinGBKapsm2O2QUyWMqKf/a1bHJgTb3m6pMpsM4gEMFZ9U+OJmwX5AD5s/xq8pzv0lXL9CkpCotzl6C8namKcbC67hK7RX1WbNFyD58OTWG16rnV44v/tbVbRsgeEibVduvUzNB/x2AhhtcOlc8QTb8olNeqB/k/D7MGJJIThNtwNelGfrbWOj1PPg/4TsE+MuuMcS76O0Qr2y+fo3OxhJ5bxiUWgM8WHVwZmhXC7skdcr2BkNLVg+T4pPzPVNQpw7IAp7HVfJLmSUZHRgs5f0upZUk1YwpIcQoqFlfCGOG7WcxFxJRrdTQQXhpq83fVJ/VO4ln8lTUz8CyvrvOhX84zxOM4TfuFafwSouNIOVAaTRldP+iNc4Va5D8LN/nDZCIwYdBcZpwrvkjXlindY7oGUjD8W/fUz1kYW5TOKqSAADGb1A8IaEq5gWZd84zOdr80Wl61O257j7mlK1PBjma4duI376jWYIU4+haa0fmhKRXGPjpsG1lcwkT42ldl2RLGx7ICnPYMoXVWjspfRiMq0Imv6eV0mautgwHaqYpLG3pJetDvQG9ZUJmt4k3cqyLAT5yth4YPyF8I6Y63PstrdsRnj33v5HO0bVhYy8B96LLC7pnsWXqexjrbHAvO/YwEdXUE7ntFyUjgau4ilc9kGohsDeEEO/+lCOk9T2id451kpbM9+7WlUA3grbObkP5eObQsmO0N/Dh+KDLCrlc2vMdxmdPQfEFC7rdj3pUJLqFmPQmsUPOf66A1SaJcI509dqKKMYq6pioZlBtxWRFv5aWqUjkqv+IWUNmcZoq3zM+tKNjc+RCD9QPv84lBIqJtu+M1W2ulNdVi6Sh8hnym9bx60hQsSESCB2NDym42RFohXft1G/720wP6X79sbb6pZIo7Ezfp8+uNWVMoYNmLrX4sysJAOfAgA0STLcGGzXj6t8PwQVrcthAp0oFuxkW9DQ68IhTu7MQNKlPs4ReljoKvAq6/1hP4x0g/hZMvsqcifWQTib8zqR19/++mtGo1sbye44pEo9DQbSlYhCGLtEjck/YQp5UTnYzC6Srgc7g4csY9vQ+/XUAAuIAAAAJtBnxpFNEwz/wAAaYU083Se5TjRPoLnk2dWcrpRaWbAAhvjVKi5xdqDDiLmOH2eI1AoJj6ScZWxiXEndLSpeWP30Il2JRRsFBGac1jEn9uRZ7kc7oZL3be4LHUhkVqlhebjm4R5d9gv/I82AXn0WQYTgNefW/Gr9v/wxjuhagLCXiXbu3DwoVnyjKmLJz6eCEol6iBeXFErZFAC4wAAAHQBnzl0Qr8AAAMARV2HirTv3Hwwqom8vtEALBHMGT4cfrf8fzWiH/3ymphPnKtmWxJuzXe4o5Xo5WJ+7+fSFGeJbP/+gmAaRwvcZUtOjSsHT2xTCAH5nA5sA2oRANBXk9mEHiVBEuRLvYTpr1m5QED8YTATcAAAALMBnztqQr8AAAMARXZtysLob+MIuqmxgAtCOORwX/8NJMH7tDtQUFHfANDO+Fcqg4r3bB3GY5XXBYF3CfNGRKuWzP8n8yahnmpI/fQlEMnbEDmRAg0qgWIcl3owP2AsSsdFbuCRGgr67hQcX7TwXAOq4fw9ZuAWcC74m/HfZNCQkG2O/33g/8kH1RQr2kLYwog2bQqFp3emLa9rPXdsXypsIno4VG5N1sGR7pSs6JG65cANSQAAA2pBmyBJqEFomUwId//+qZYAAAMArvC378t/HxAHMugF9osDlv/JhJIihPmH02O836qyX0IsqgzAkJ1RWCIzRxKQeI9aHPe1XYEiYLmiBHWHL1z/XDgI/kO7D2wHB7VQaPtZ4HbIJ3DltgQ65chDv3OV6nH8tCJ15DlSc18Zsq63PUDS3b2CCXRHzq7sMibj4k5vdHUKOVYwrbCp3l0nsca1CNNU5X5q885e98wJMLvH/YdgV41G0PTMrsQ2wvY7yrO+A9wtXto6IMgKvDpkx0FjEgfLde4kMQXPHMuF+ePZXHnCXFdO+4JM6LemXPTx0OaQKkh9K4BOsCf/MgL5nl4/L1VVIJ790vF9hQZWbCY1hVS5YKqKl7/xDnEpPTXm5A4H/TJLFkuNjdVX6rNMT8PV4hkgT+QvHvdwsdt0bNNPJ1Zb6P30c/8h/bG7bp4lqjwDLbD/sa3MVtqNXnA29EhbFCWPEtmPa8pzUZx7465Njz50ARfacEEEFiVWsCnlXjBYybqZmfeviYPxusJiOfns3i0k7W+rbagTYRm5SSQgCSiUFRdXetcYmQmanjORAUE0dgpvs4oHjBLgh/xqrTqMaCSjl90AuGyES3pEnAncS6atAE5Ul3W3QHC5wBldSg1wLuhCydh2is2F4rr8XeOmBgzpNrBqEYUjS6TpTBTDishgQojsiLhnFZWDBExm8Xeuvf2gIUAPm0jGfB8k1E1P+dJBGzh9kPh0JLuTm8SRgb1L/gRR1LX9l1waoTZLAYFaarKmT+tt5LyBUGXmaszfre2/mvj2P4wwJe9tCn6pvYvuTb9QxuzB8/JUQ18POWQop8iCOGZbKROCwIZHJ4zt0M6Rd8h3tHEC31/tEH2rGfR67aE6uaVbtqRYoI50+U+LnAER8jdTelSleVMvAH+2Xb8uJkWeCZ4WMimOUzSdv6jjS4egrB+alaJuAMB0Zp+C5y+fxSTRtlQ0HXaDmS9p0ZsnGzqlsbNaexvvCmNns8IdK27IPLSgzb3w8HJ2G0fYS8u23u1BHz21gyVAIRyOKathMJ2Gh0J/2iTtrBI6oQ1UX9w+Xs0UUb6vbYMNmV6CUT52wlASw5lXNSp0Zc3BvkmQbd3jSNR7RJ6xJ0Shw1eYk5U6/iY1rfL2bkWOdiB8q98fGcEAAJuBAAAA00GfXkURLDP/AABphTT3+OYT/eIVz1qABddcLPRGC+7Z7vgI29UM2umiR+LwtueBOvyqYP1NXFZPpdp6b80HRskGAWYKka4oSCYdGboZ+bKwZmpxGUCq07ua8WCsLgKrsvn+G8uToppZC/pN2b7qP3G8Psn19IAtXs2OSUniVF/ZveOcG3g//604eEQPcscxHpWEuAWwR/pEJ0DHZxhMIQ9xUT6BHfiknTAi/LprQW9WaBW5kgFq07QJr7no72j7HEUovX/W7DWIv6Fk0CY3cEcAwIAAAAB/AZ99dEK/AAADARX0RjVLJqDAAHGFpwRkCKU/iLPUxB9uztSZdvKzMmDncIIO5Zgi6g8z7q8F+yhcMp1a6wRcXb3d4QvQmXOjOLSpcXJn38PhoiVKyBwXlrTI+hzhI7EL8RS2vn9KrbAswzNlm5jrA+DM0FzMdaNhwJHycGAVMAAAAGwBn39qQr8AAAMBHdesNTqPl0AAJTJV9SmLh28HyFa9TC1pM5LOGywSKJLij0LsBC/Bd7P+HQ3z8zVxQLm1g58yR4oPVy+zp9ntrwxpR4Gm5VAazlKSpipwfP1jP8SCjgeDs5Fei2AKYoFAAssAAAFwQZthSahBbJlMCHf//qmWAAADAK30yYADRJOKnMSqEs0GSTTzhpl7uwICka6Toji3kLl+RM2FsUNmkUPucSLeJEjlg9g7NlnTfdJNP0VrtwOtiOMhhXQC+4OAy9wtgTJUgb973xWY9dCbliaLCEQZ3yHucdVAVMdsmbJp9t4VzXHbxPEem29S2iAnL0MBuKyoNWMLvNj2G8oWLpznzjuSxZl9pTB1lB4PlwSc41ne9/Axj8OV8zvVB8DK7eK/hQOgqedHSeTi+djnlQ24lL9pHHRJpUu46E5crdNNZiQ7KcSKtYQfRBeG8GSGeZloUFJEbY1pelivBriItVUfkYZolpHnC2b+J1PHG8RO1rTD+bkvqWCuQAp41nsa/AfO3vwXWbnvLcxW4iqHiiXixCsZBFo2weaxKDzCmcTcy0Yirk9UrLvJTFq6tXO4Nox2L7wbQoROOm8OXjc+/A1q5u94NRVHMRvUkAOuZNrBsMAAg4AAAAFaQZuCSeEKUmUwIf/+qZYAAAMArfcfoAvRSc+nd+UMLJblPkx+F2gz6aPxvN+ZELUb8CFXMIMgu9AaVXwftVM3C2Vi3rP1KqXv+E1nHxMUmwv9ZSSUjBliDx2nKP9hlqVF+bkpRH4TGpcd6SVsF4xXK/4tkhQuKDYlUGvEmaNz9+wY/LW5FULJm8QS/nfeLPvltPftaGWnSFmcOPexD1ZFi8OpeVjZZjmz1tiu07+ob/rtbjntfCVwlbOFc4g7eIKnEjT2sH7MVnoBvwGt1YhM4/0MMjlnH8EYGzJKKXPuxA684z8l3zfSBGVkp7z9SgKz4auDLxt6+0I4utaDHDnpgX9yFTqAsNiNt8gamMAgAE6/WfZUMoK7OATRGuKwTi7/dg8gsCTG7v7frhNEDEZEkoRWHMvluis65UZNf6weBxpoX0wb/AY1JPq19ffwtyReXwfSh5GCOfQBHwAAAwJBm6ZJ4Q6JlMCH//6plgAAAwCqcGZ1F7/2iAL8RN5aDF8nym/Ypw9jLQba1ZBUJDR/oN8f3/fF/aRU96Ax7VCRLNfWx48TLBGzKCSuwL2i8HZsAIN9vIl6ClfFA/aj91TuY4nWz12zw2p52XfUtg/ZXGyGtq+mryhBPIJAeYvRLporrvfzflSrjXR0sFD76sZA+/83vwJjyC9R8OxwODN0x+k+8W2I8Cv7Lu7bzWpqNvjtx78vZp8X+RNYSpYKi3+hruybVET599Rqu4kt05feeKhl4DWpn4k3yZV4o1qwXUm8E4j5nk4fBivYG9KnkspdsoW0Zik1iiizH16eQgISvywI0/+UR5WXIKgbiHEN7/qfPbjeBh61jMXKahq2zAEO3bgscj7w62mMuA/sPjJSmQiDPj674Zp15TI80UNaJ//3ognoZSSZzq7Lf1p49iJmInpygzmAJt6C/Q3IXzQJGZf4M9awBvHPEOwuezWrf8wr1EaGA0pZm2hhS14eRt/YM7IaeE49tSNRBKMgwTam8Qc0666YRcCwJCst/b29cleFA4BmYsEUnT+Jk8F9aE7Xy3JaHDfANHCgaF1TZvOK4k9CmZ4YdNwax9uq2deDg5TT5nQyvGqe57YWrUlTMmtKEjwSF/do4LFHlXM31O035qDCMXl5cpJkLK37KXSSVDfO3kxYgw2hWaJrRNCt+nyobkzopBXeUZmgB28v+8a2Jab68QfgdQGAm9wmxz3mVrjI6kCxbkUn/RkGZlfcjlD4G1RsvOuXVgtqZ2YKEuB1WFCdrPdnzuGUbfGDzW0iIk7MuMhxbSYAE3D0sxI5pmH98zGAWblhRSNmjhiWSvoCz2tY5Z88z+aKP273jn7ognD9MRaqQDbbaKr6Ysfo6GLXO+gF5yCGAiPWjthcX3jb3frObxre+NPW3IRUiuebTdcnrLHMfxJfMqoEBpNSd1mm3dcO33fjBzdyMqhKvYlDEnrOCTQL/N9HZ8MPUt1QM0NUCvtq+OoGuAGnCx+EAAAKaAAAALtBn8RFETwz/wAAaYU1CyWQYp4urSiU4VABsYyOHw5Oqun2/iD55XqNJBv3p9uHez1m19EjyFh7/4aMnEO7HJ1vQEzvS/B/9gJU647ve4mEGTSE6Ekp/gfF+gvk7IZOstGO/38VbSXbdFvUOcd+og6+hy/hm2l+1eG7/ZWqk+c/QlSE8ZYSWHy8HlsLvG/fDLkeKftVuZOUhoOD1Ah4HsdCnCWy+SAyOP+HxMAWU+QIjymN3AGT2AaAAMqBAAAAjgGf43RCvwAABLXYpFw8FsAAJZFpwPdeIfpucd+wZ3QInGs4mGZJkqE/hudwXycIJ7H8E3zpU22wUxd9a5weaavE8RObb/1d6tDFRbGNzclYCAXeJ5XCAvxIDUxevmFv//cQ0R/escxTjCD42sKI5FChYlng3yqB6P5/q/T+JijKMhhNX6hNv9LevUAARMEAAAC3AZ/lakK/AAAEt2biuYN0oQAuB5P8xPoATSMObynnlftVCZN1oBwGRwJIoOevH5Pj/wdFobBOvZHBs4tT3UAz2TuB5Dn7NE4Jdo4GMn/jQRfQrHaI2s3ZGXxg/beAK/MNpcwXKqMT5cMAYa4gOpRy0+1L9HYKXIbMbYn+Kyr+lWDAzEsn3AVnqVabIlJ1iPh7FdfKmqtCMglPnw7quVQxcxIse0UGgbM9Ir0pWxBM/YgvuHhAAAbVAAADS0Gb6kmoQWiZTAh///6plgAAAwCpdR4AHNJUxpFTc8PNl10Of+hNWynMTOcLeGHHmLR+Zazh3OYSkiRulfWbS0ZVV+ESiElnUx1Ty5ifMSOsrEcYJUl9ZLILlsj2nNan28lk+LID8QP5ltfSfYk+dSkPKYbr7dweuOkkP4oa8lx0411VkEvrjLaQesuaqGyXDLijQFwHMAJzWpwwQMzLBzGjB+AnjrEHqAKe8OVcxmRr1S6tYkKH/rZkHzyVz4K6JYf3aMuH3rhkCn6huRJDJV02+4s7bbA0/211du9GN9fMYvc847Vc5+Ml/uyYrgwIYf32zVIp1c+IFg2N2ziVwdRBnEBj0T/o+MN7qC9jvFYsXduTGm7k2YLjNl3KIwsMA8Gcq4xbrEp+gLFmPlhn1CRUV7cnSe7K91/nXk1/M6dk2LstVfmZMcPBy9N1ojDf5y0tfJWWHR4axgnMwNTTdEUXfvHNlIz4pT57f/nT8k/X/b8cezhtmJiwlLtP+VaOxtIh5n+LZYkaaviRp+It1dhe2DbHx/bV2Y/Ob+/+b91KolP6FCPKgYV8KcBKpVsXjfzu1+hvIETOTdNuOCUQgFB98s87SyiBNOGhEipiWt9YPMX0cbCruydN9YXeRsXHs4n3rBFlOaZp5Onx3AbisfMceVs8i4ZYlZjv6qkIc6OAUK4C2u35ql0hp295CUx5/vmbrRQfWkiYIJSxr2rIcaXTtHCYpDIUHzDLJ4VsLZDExRohBz/45CcYbg36/TLmwqlWnng4xsAqa4sAsBlImOl1FgZsj/4K0fYsGoG0L3LfNyQRIRj85jazqdiUG2sVPl6jMzKgwOn5MsTABEWV/YuEVAy2DVWCmgVFSukUeDYoOlFBD4o4/wG3zL3AigdfQqYSHrTdvyOClcn4KGUT7UhjG14BaXitPfWo5jgdlQv8uUnsLqO3Mh4DAXx/xu6pQLbtO4QQHqcLKhBJU1z+j84EPF7G6z7Wl+Bb7U6SGu/5qoHfp4F3t/l+8PTCMSCF4GPGEr9FN6Qymq5fXKyFwaiw3SZQ5N9CmwyNj74ha9fvfs7qxgESSjQIwRDZFZ9UlYZ6hUZd7Y3rljuMAGpNH0Yd5htnzbDQAABNwQAAALVBnghFESwz/wAAaYU1Cyd2CoRSeeziTgBNNLgTemxdme3mVku7wTNI2syoMy8YN4rqJs9ooHh2ffGvXQ12QaO+m2w9uczmyjtVR9z6k8uxSnE7g20gOrZCQtuS8SJtBLQuDkXO7y2p3g2IfTI5GoSBkgd2+EbJiBObEWKc9TBa80kmzf1itmeqKvkMs6MbJ/tpyj5ng/CGu0ZleQtk1CFj4mXAjPYg+dEcUt6kGQnACIpgAEnAAAAAhAGeJ3RCvwAABLXYpFw79G97BBZ3AAUWbDF3m41HaESgLv/scDS0p3bqgp8VVafF/YHUxNP8hJ9JTrQDSbqUse42acnHKVZV6meDYnOdw/d+8sNzVwL9tOo86dUqsPROfl4pfCAfB25xrhS0AEcnZpVqenHbHD+V3PhAA74y4AXKVcIBNwAAAFoBnilqQr8AAAS3ZuK5rcu3yAC4kcVDf/4B1koClLKmN/JLSQ1oL1h0Qs+778GQgdfaEU2UlhXPpFAVRBq3pODyqeWNX/zztkwsfl79ppbWOjOUqqwgUVjoELEAAAM5QZouSahBbJlMCHf//qmWAAADAKUYecAW7tKiI5B7LLpc08T/LbYvezGDbaMld4FJWF6Pkru3/hdKbXyE+EdnlOyYNz8noqLNy2I/F5y10EPkUYIpVayy/lQUJmqb6TkDrtAd0mj+zmLG8QAQpzLlHL7juZhgX3EHnOR+tT3jHMXuWlTlzo45l9na1HbPeQ7p9PC+oo+pBZQhY10jKltBqYTsJdvvyy+iiufGBks17K8H1J2SuoQpfUI271l5BwfJckBHLdvEpJNgKf6G7rAoUFv0NEvPIMIoO1zd4LtuJkgnsAYAvfesgTHQdmGicm8PA0tPms6xix7iy3wL0ba0PzuQ1nSUEqYEDHp+0undPAUP6kEh3/Se5ItiLO5tPmv5GVEgtwpJFwgOBmyY/8boS5fuXO23KwiNFriK5HBLx9HZN48rx2Dz1HcDl4VImezXdcrUvL3CKJvKYZ7pqOx9wLAYROoWV1BCwXMXjhZxBSbwzPXYu69c+LS2p9PafKKZl/lVaqhl+wgzqFPhlamMB0Exlp7oDlG9BhZZeRqnkwpEeV3er3dgtmZEA6tD7gNoFMx78nM5IYqbKziDWPgpM0yEh+GApIW9QDYsQvLp3hSXS1U25nKzT0VdbOfjSbsN6w2sqdc+2rsoqiJJlTM640HdFvqddNZIihiyFhZmiZU4WkoPt5yLo3LRd4LpkaFfbw53NdhbwSflRvqSAuT3jYviqCFkuu3mT5ei6AHd5ljacGUyqB6ymRch0AOW020x+IlX5o00/T8TpfUCrOYEBLXrvKrwpOmOJlbUnK8+UqzIXLwr2JyVgI4lKBWSV6Xffg9lRaTzsDxYTO0gvPBrXjOCfENZSq7LZRlhVfPMF+JJ23OT5Um2cYZIKg4ITz3NQEhcE5HQ5WRG+eKEe3WpYii/uqwjEv2Yz95N/MzncnVX28qafEokydOOpNxmPB1g0cpbLaxc40B/cnZlRhxZSbx3q4PeaxF5E5NrmnYF5JOtFxZmk+lEfckFJr6KLOgpF3QChbijEX8HdoZd+i3UcRAaomaQ1/f5ZhQiAMXaWfJ3qke9+jOAtunwLqZZVUa/EpYj/NlgACygAAAAy0GeTEUVLDP/AABphTULJ3YKhE7Eof1njH1AC1DQ8Ln088GBLD6T0PQx+KqYPWokqM1vDsZq1iiIUmNFRNmlLPpWMgdu1W+cI9tvNRqTmYkjutlZWudradSQBh0np+jPUHKAB4btHnaqiGz9juRHPfxs86DEBFMxDLLm/qrYFqNBIvlooJV02hAx+NqIqB/2LmMTqzaUvZ16n4TVcxOPIDIeq7clBf3FNDjJWU2Ujrl7+Q2/s3mfPH0tl3HprdW951HrMXbiFz1FADugAAAAfQGea3RCvwAABLXYpFwv4+PgAna/Kt2KwwXDr84eZX9O3TOzh2AUiQu761HBO5a47OgLjZDMyFX9Kpvkim58p8oX9kvWGIIgINsUJnHjw+2aT6daIHryZOKWYoQ3CnbrU5jnd5uWuRcmVe60SKB6BWpvu17LRb5rH4QAACphAAAAqgGebWpCvwAABLdm4rmsCbVPO8k5OlytAANQk5ut6Tir+WXuZrZmzKMKAdc69gOCYDjFR4OqX/W+fAQd5zBFOdo+s+dUMUXCsQ+W/XNL+P3biYkxfOpwYENtT9HZviswsJ2JgUxO0T3T6R/D7tO4juxMPb3b5xVRDRqT9QDU2JFr+DJ6fDUN02+eD5jYo5g1z5Eyz131uIVxsW4YLwrqaIx7m6MbDvgAAH3BAAADAUGackmoQWyZTAh3//6plgAAAwARhU4DeFMTmR2EgA44XqndcwnmjV3VpkysBnzFVovhlLwwVv194jCLFPfJE+mNudmQfGwUa1dT9gXI+WXWRqK5gLv9zOb3bsTXW7sNLLOfdgFtmg6ZS2fCa+EPkq+a4OZe2YJUMgJGtBxVJ9COROPvUMDAqJmRlhkHL2uNWUjOex9jAiYh6w17bPlMx5MaZ/hNZIEf1RYho2TztrUdXVIosooQiuJgvzxPd7tFczYn067IkBedFN81gWSV60X+4T9iJVd+vfbeVN4BdDkTldFib5rZFnU1Uh/14Rjiohh51zSyJ0TAIo64AMwwW0AZh+QVpUpUQjfiKf0RwWQOQRqsDzyyl5svv4svgsD5E3nCglyakviU8O84/Ac5mn9Kb8lvz5CuXMvWqHLoJXw3j0ftcgBrjubFeMfP+0yN3yvXUCCG8W1b2q4LWh1xvjRWjw6YZvlJd/BYcvtVe6YObWTuj7zv3Q5LN179ITP6XnQr7zoLWQ46fpeicKVSfje3hrvSJprkWCZ4cBQlaGYwWQ36mWx12axOTM+FeVDR2wPQQeW/8EKdd6f2Cyk5MVONaMg8upa37Q9aqKC9Ha3DJmhztFoeuSsZJn17V7+lRABbWgXAWJHYsOsuvYh8XLappA1wa75oj3plo3jn6w9hvwpKeUsqPND97tfcygJXWE81djanBD1ti7JO9u7/PTAEgyCHx31RbaJqhVHdiEiqqMVg1WhYt+XitAByb5HDOSGuDnyVutBqQbN7L+jk2GOQ3HKGZCTS8zeWH5KRKJJ05O2u3aRI99rQfzxw7v/+Kb7U/2Pyby+yXitrrSU4trCOBk0BmVQc7uEetLY+r5TXACFVPep0cG3A+2XnBD6q68Y1F7PNLlfIC3gDMjiRC/V8oidtRdnLGA37yen0yzYjeTdzqRRumtwmw/fZH2p5UIlKWpOJAXzf3V0klyQ/OHZRVK1CxLfYFfUAsYgwmRqJAwhHztULeaVCTfYNhLgACkkAAAC+QZ6QRRUsM/8AAGmFNQsnf24uCh2sgTT301NFsVNivtb+SfWN9wAuKFzjMUZ3LPcyRoRckcOYD9OT4uH7J9xXuKLVCkvWN5yMLiPmbY04jQZcLMeN1qsCtCyn0uGKU4Uywwf7Yohq8gjE9DIKtFOEqm2Xia5J4W/y/8lwve6hyafK1ow8NxzRz7/9iENmbH/cfs5N2AAXuCCIDIw0qOVy9r+qG9ygnWGfFwflhEr1Rbvwvktira9rcgtUUAC2gAAAAI8Bnq90Qr8AAAS12KRbxD+4DrE+zB3h4SgCEbLeSn/XO4LpoGwnmNK8IS+/oaZG0+nhlTX1viQ04/aq4t3/F7/XyDEcFRlVhS7cktcBavkRxSDp+kw5CzhjZgavEG3b8tKH2fzrsv+c7mt1HRIVk9YUFjpwnhI2ThSXK0BPO+BjNHEr2jMah/5sQte2b8Ah4AAAAJMBnrFqQr8AAAS3ZuK5eiEzYgeP5qJ0tjHZc35UAIdFjIasYQkcCMzWbaUpEagNknuNMuzHjoFIbILLqYN27olkweQIV9Ns6GOgKz4x9p5rs480P+T53kp3djaTE2y5PV5AnV6EsIW10hfOz37beqiK8EWL/uIt+EQLFdTUSukhk5IWdaJEsoeaie9yoXjG75XgIuEAAAEVQZqzSahBbJlMCHf//qmWAAADAAIxhkKlm7AXbMAcUCcrRWvVJvfbJ++SjuRL01rFoNy/d9fOryFowCyVHrrnf6YWXCbxB9r2Zxairadumu+upxU0K7MclOAobl3JBBgyQ9/jtcIlRT7FQDrjLrMkg6/xympDtTAMPNBPgaPye5J6Gkxr1Jtq5/jQWVyag8449NnTnX/q+h+P9EZdDxuJpMLCTuZaIA/oH7ygmNSI1uHVL9rhAMr0lkAWydObIWbR9JZDH6h259WDgoQa+YT43dDdxPSSin7UOnjyq6FJBSwXEadXrrulp9q0XiP1emsiFN6hFhp0n8wJjG28EO7maG2S7baOMLJe5bWX3M6uGTS1QAAakAAAAq1BmtdJ4QpSZTAh3/6plgAAAwAADPXOgYQTKQfe+ztkjbAEZhtxq5TfREXfoqHB1b+HZV/ucAc8bwQ5O3lv8WbiycgKOZOdxIF2bbnFb6ycTAvG72JGqcWcLmI7vSZrxaFDlT2x2HkKkXmI5tjHBw2+/oXS5yWHEk8AZbyNWPvsaYW2pgh0YIGpCqnMMinQwBn0Oqhiyju07k6oM+7UnjV13w9Jlu/6Hv13ikLH0dZeVLk2pxGnlLllO+QHKYur+qEa+pd3mQ34dglV5sQ1Q0LJ0XNZw8svwiup4H5SdmjaR1us9JAExPdTQyo/ZMlTa9RUV8cENUAmtZmXL7tKpJoy550o5RMKQOnPVrgPh750s8kVKfNdBs/8qt8muziTSW0BlX5KDpk7EgXYuaKovuBiqXqvYgfSOmYeO6FMBi8Qz0ESGxp6OwUyi3Qb5RWhovMnVZduFlZxLb/59Kt1EU4EVvMEkzKD3TkPB1+iodlUTGUHVGi3mrsH3xRhft35xAQK+2+5lZzd/SxiGDmwhuWuTnCWZCAUoZet66mIwmrnxGNFXl6zophhIil54L7fy2fTluiKORRDlj5Jf6+2Qn6S3fCI7UkF4comNk5J8vWumTboLC8+dS2k2PAdvCRTwUTCiNLrujVO0dn2NGiXwdQUsk1kcoSezTCuedvp7dOIIISSRgh8nCT/gREC/kCxxjKw+MaF+SCqQxZqEI58Nx5Wda4DtozI74HCKWLjHZgZla8N7Ua04ktUQyaX0VFA8a7XwPCqumgb+xAojiPJrb5ZbnmHAy2qknZ8yF7KONVlzA+bKdKcojTXmKTRskB+AClozhUB08tgxhQxEv/jrLGyVTQw+p1f21pO9qQY67PIcbIwhjya52NS6G2XbJnGSNyV6rXgNIYITNFKgA1IAAAAzEGe9UU0TDP/AABphTULJZgvxgnq3gzRkSUR4IiCRjc6/RKiCnnEsEhjNvGLtanYANqPm1tXOb59hjHkcYTqQlokwqBdn3M6Fd8FzuPbh3prYWv43uvpY+WcwffzR5Nofw/LLjuimss6F8bDY5+R4neULoG9gXELESAJ+At27wR1Bt02CgZZ8SZl52H27cxNo4FmKkR4ocGEKsoFEtDks1WXeYlC/H/t9dtRwwKolLq4IVAXtwKb/O0NkcX//RQgLFaq/BWgOOtbuiAWUQAAAH0BnxR0Qr8AAAS12KRbxD+4FLxtzc+kjQH7B4QcKOVEAJIuOWM+WTpoxNrq9CUklDszBW1LW3TCqXLzavjnBCVPHrmpaMqgtcj+N/rYyDc8ypZYbAHGdDsdQIXmwnT1h2k9bM0s8/X25xQnwMN1LIsL/7vWU9PiHCaQAACVgAAAAGcBnxZqQr8AAAS3ZuK5eiEzYgeP5qEioH0AuXwN8lWvlPN6WynJUKCaMgD0u+ACdV6x7IheQMQHdAj8FPZxS0sf/OpERh8t9v5oomrWXnF7rbf07wLO5CNOmXOQf5Rhog//jJMAAMWBAAABI0GbGEmoQWiZTAh3//6plgAAAwAAAwFm4WsRz+fQAtpDErlsFLh2mad/HWh+6EjSBoYyKw+FCXvF65YpwTfJ0J/0ferlJHwlaE1HCZ/cG+Hl7OafDLEo77vFPnigBMys+DLVQFFoD4YgUSEdipFq97OpnOOXR9R52vw/GbSOWDix0JTNaS/EQSBE4bjPcCq+kBLS1fzE8GwxM6XbAzQyGSWmPcksF64BqgoT0/MV+aAGmrEBiHeC0AjGpotJtdTGqOVHAgxRE6yoDXuNBFPuTMqPSaFDc/7Ul2S0dDVu3RQjz2X1ojZ6/uczcUknM+HGxyUNi/rIVh4++6D/WY8hILMCYDkpjHFIVupEc0y5amUsyEqmEI5OZxsigat4sBjP8MwC0wAAAoNBmzxJ4QpSZTAh3/6plgAAAwAB1NHiubL59ACwwBSDURanDIiXHMHxu9qOUVy+iv7NMKEW7glb1AHfCqpXmT3BjwXgHTCDnjvZQzFNZtHdYrisI7eAVBG27hKChDv8Zk6lJSxwyilXAl2browO1mVrt4Y4H1fLR68u+PlWgY5Xk5Lu6uGSYqy63RIBzi3eFrzCRmNCmWv+ZuC6eBSGP1Z7B8ugXLDUkQYKfnfmcEX4dw9iwu+a1fp+WO/44sf6VGIQaUuL/P1RSnWPeAqf+t0b+3dcAssig8BcUZWSWnzPU9Uq7vq29b1Qffz/0DdVrVdolYMf8K/KMfWzLUf0StU/yvz/MFPa1yyWcKs7+uGCKHX3L5FIuxDi6knticHEMPpEDblWFJiBphPQWzrx/PLR6SKOe1ZBn3rlTf+qYgr4zMW0Fv8L5XZUoIGkCIeBETBmpHw/DO9aJdLLWrhLm7BCyKXCBuwJPjga4xXeQSz2g0+Us36m2qIaIPVMf0uZ93yShlq53nZs0U1DR6FCSRYLQJHan+2yA0PXzvXRqEu1Bug45Ppj9Nl5RUbrejg+C/zA1wrdk4auiKTXNGAHqCFgOEiixMGPGzlcOfvgOoMSWePhkCrRYlleYt+JghWy32t7ICBHw8jocK5KD5GCF6E83JzNUQO8xQ1PdZ2ujsCWYlqEf3oq67hvREvodNodbfyqHfIIZEo43EPR3x1JTFdpL8wcE9+gcPwtKaT6jemKEjIEt3wJ89iu3nhg2GFIgVWrEW1/0ArwahvYVY2s/UJ0jEphrwShqa3Lf/Gm6rSu6wS2EJS5ih4thN9ykGzpDnP3ZtzOZSTVurZ4ngi2dg3bwAI2AAAAtUGfWkU0TDP/AABphTULJZgvxgnq3gzRkSURnzTaGgYudenpAAXrzgtIsRRJiWjpJJH/P/eRC5hdX3/xADIleUhZoTTTPBTi84ldDoOlo8F93DVQ3WE4EnklUq41u1pb6/BdaAUNNNMDu9VKZnPNWd3wcwU8j/wOp2ZoGawtGtwaqaCYJ0OoGyynqgnZS1qpObMlHu2KkgCYq8CoDtrd4osQVzd7knthsw7/wjU30SAB1OgAMaEAAACKAZ95dEK/AAAEtdikW8Q/uBS8bc3P+pAz04K8zoN4tjAC6C6Cdfp4AfzDeuMkhCV5+/WpmcWcHmvgj730NAO62GdW1s3jQZFmu0z1DUMTlz8xyrwxHt+DEGrALAg1XKkSz3t0CVQH9fx5DWtB7rxBx4xnZ9yPRmAT2nGlxOX4FSNCfUQpmavgEBiwAAAAfwGfe2pCvwAABLdm4rl6ITNiB48VQespSDfQA2rgYrt/AbxA68oHSTuqB/dg5/okzz+NjYy3M9jXqZdOevKDTDoKTZHUYhzQ+m8DJUOsNY4CVRGKOd9vq373wOZPke8pOust4JrYtH2UAPD3KzC4lxK3zu0roSVrQiMLTpFwAssAAAJoQZtgSahBaJlMCG///qeEAAADASbkHwe3HYAW9aczYOCJQsZXakPDmDTrn5GAW0w16rmjri1VnkNOKlqWOjrDqpri2iVNx3CzWhULC+WWxvS+HWA4HqvMAPjh50p/6MaEHC1M/jbWRzWRE/Xd3TwFH4TNkZwoc2Oir2aVe5KeRoscIEaRID9r1O1Wii5LnMW/4famUvGyWtv8b9i8SoHxbSk9KxJQWUwM7EJSdcOeAAFImFxmGPdkz6Unhti5BsYZ8jmOGCamDsxkyvpaJE+d8IlkYcQr3fvamuO8QIbH75x15B+hqBbVh5+fNiVmmtm4JER5fqvkVJYQqmcDyHWwIPNERVWkvJ5V6bSdJ1fpXXOFl64VsRAIgJNtZJ6WpacKOcygRb948oW9RjgEUR9EXak4N16TC1didcJFx2FCKMUvp9T3pfuDfpOVch/r0SqXaS8s2KPaNrSBJnirdg1p877dc8sQdxSeJr8M/jwtVBeyqscfc+K4KFY5fJSVOoHjvQz63raG9mtMPm7XQz03xcgu5QsYS7Y5pC4vj3NQqgCwI0f4c4Hbc+jAoWNetMjd4DbQUptpRblPCEQHUZce/oyA/LlAiYWq3ztqoMr/lteXLsDhK93WJ8Xj9CJgYWiDnwV/NjEhNK9dCJV+3yFKhW9fyGKw1iHo3w2+iyjSujD88cXxNurg2AsfhQzT9A7iHmRlPpSxLcMtCJqYpsSIE6iC6m6KC1HNdCPlQT4YmsvWXSsMHT2CtUKdI3AkFH+cU4CNIdmKf1SvEQHNXL6AaCCwirZlmwvbdWNmiPpiiqb0mqxB1NABiwAAAN5Bn55FESwz/wAAaYU1Cyd/bi4KHcIfUZJOMklhMAITpcXVFOMYtQdQzKZm/Yl3mYfXvHZeeDQ3KdfOsTO+KMiOfXUJz/h1ZQaeYgKRrw9cwWID0kPHPgbfvPzwbuFr+R+I+HTxYv/2Kbg8RQPVbdRBOnWs858kEIYkLCEQ6HdA3tPwEW3NqShGc3e0jGWWtPLlwvhp1rVW4x+iSWVbYPX1iC/SSQu2ch3+7J5x3L+NE/JoYOA9eL7e3E9YktIoecclkXCVMxJRKVn9qDClfiewgo8wzUqg9hiZ9WdIBiwAAACsAZ+9dEK/AAAEtdikW8Q/zZ5VVzsEg0AAnHQ1Zo3wD96rMVj/WqGuCWa5GjBxG/iHw5X7R0SLDyQu99m032X9mn1L4PoNLzl4XDjrEbFqAcuYUeLsGXngLpYi+Bw0GlI4LkcqhGRGrpDtTwG7WlapWblwta74erYwh7jzJObeibSuvYg0zxKMK3/J3wH/fM+HaluqykBRU6iNHAiii1XSkuZWQF603BYAAAMDGgAAAIwBn79qQr8AAAS3ZuK5oVhec2wABaIc2rjwhbc3e9uL7xfYvMLx8V5cLwUq02TC1CSF2kaED15s+bbRSr7l59OJ63qgy/qCp6HC9k0ky5RdBZQwFwJO7tKQbcpUMdFB19eNfMyqC0iVcq8qdtPVXQPtLjenq8koDsIO2F3lEqQH4wEKWds5FuzAAAD8gQAAAY5Bm6NJqEFsmUwIV//+OEAAABDZWgEazQAgWhPXVf8MXRMZ+1BMnic0txN4d3XfxGByqQ8F6o2St1A/1SCauIdro5HJ9icN3AzvgSJ63cdmMrmh+hE7YOHXxuu929OqgWAbo65BPtI92/INyv6Jn6KIj/cBpGJQHuC9C1qslkYXFIomMMQF6IEixLj6BRj4wpl/m85jldmWcxwNkyJElt/6/+Ay+HExCv5LNVNOl+0uT1fYC5StueiOkDC36l4f7AB96qYJqHYPAzXhzKNoJhW6J2yF/0FcLSH/r34iHioV7rz/98DL9J2uPw8QcvDD8jI8qLL3qxfCYPBrmsVp2HP6q9ap3RzFBfdCj5YinyyyLJCN3VLH7DG4RwKushZQ5JaF4D662DjESdpJiLlrU3YtXMhwQGDKPTEahf0HWYPWzeeV5tYXDD+KuwNW4da4mhDxUdZDTENaZI/HTgYpIu/LltbHYJfedFBHueKaZT62hAoAFOv5x/iHTMMX7QApp61v9AAHQ05uGtqwQADfgAAAAHdBn8JCFf8AAMRYqB4XjkuXxOh/CiVgBMuqRNHl9tzoTgn0xew2FB+mshr+/k0E2dY3XWysDyScWYAcHCjBBEKMR45aCKMb+QxRjomoG5PCxV/9efvSTHgpZHPSsfqjnszLQxfuYSQipkr/pEgp62WX0AIo+QA1IQAAAIsBn+FpEK8AAAS12KRcDRKjoATLi3u7KMTJUpvCOAhX0dhEgE6WylA1EcYImrUkPCwjsQbeF0TeYp/BZ8y79V4hwLNCvhFJvs7xp7MOjTv8eEFk26hUP8NSv0a9x7nemTgK/qshncQL5Xwkc3Njd5Fw1CukxkvgtXzRt9QhNmBY6avdKjFuFD4YAIuAAAAHTG1vb3YAAABsbXZoZAAAAAAAAAAAAAAAAAAAA+gAABOIAAEAAAEAAAAAAAAAAAAAAAABAAAAAAAAAAAAAAAAAAAAAQAAAAAAAAAAAAAAAAAAQAAAAAAAAAAAAAAAAAAAAAAAAAAAAAAAAAAAAAAAAAIAAAZ2dHJhawAAAFx0a2hkAAAAAwAAAAAAAAAAAAAAAQAAAAAAABOIAAAAAAAAAAAAAAAAAAAAAAABAAAAAAAAAAAAAAAAAAAAAQAAAAAAAAAAAAAAAAAAQAAAAAOEAAABwgAAAAAAJGVkdHMAAAAcZWxzdAAAAAAAAAABAAATiAAABAAAAQAAAAAF7m1kaWEAAAAgbWRoZAAAAAAAAAAAAAAAAAAAKAAAAMgAVcQAAAAAAC1oZGxyAAAAAAAAAAB2aWRlAAAAAAAAAAAAAAAAVmlkZW9IYW5kbGVyAAAABZltaW5mAAAAFHZtaGQAAAABAAAAAAAAAAAAAAAkZGluZgAAABxkcmVmAAAAAAAAAAEAAAAMdXJsIAAAAAEAAAVZc3RibAAAAJlzdHNkAAAAAAAAAAEAAACJYXZjMQAAAAAAAAABAAAAAAAAAAAAAAAAAAAAAAOEAcIASAAAAEgAAAAAAAAAAQAAAAAAAAAAAAAAAAAAAAAAAAAAAAAAAAAAAAAAAAAAABj//wAAADNhdmNDAfQAH//hABpn9AAfkZsoHId8bHwgAAADACAAAAUB4wYywAEABmjr48RIRAAAABhzdHRzAAAAAAAAAAEAAABkAAACAAAAABRzdHNzAAAAAAAAAAEAAAABAAACuGN0dHMAAAAAAAAAVQAAAAIAAAQAAAAAAQAACgAAAAABAAAEAAAAAAEAAAAAAAAAAQAAAgAAAAACAAAEAAAAAAEAAAoAAAAAAQAABAAAAAABAAAAAAAAAAEAAAIAAAAAAQAACgAAAAABAAAEAAAAAAEAAAAAAAAAAQAAAgAAAAAIAAAEAAAAAAEAAAoAAAAAAQAABAAAAAABAAAAAAAAAAEAAAIAAAAAAQAABAAAAAABAAAKAAAAAAEAAAQAAAAAAQAAAAAAAAABAAACAAAAAAUAAAQAAAAAAQAACgAAAAABAAAEAAAAAAEAAAAAAAAAAQAAAgAAAAABAAAKAAAAAAEAAAQAAAAAAQAAAAAAAAABAAACAAAAAAEAAAoAAAAAAQAABAAAAAABAAAAAAAAAAEAAAIAAAAAAgAABAAAAAABAAAKAAAAAAEAAAQAAAAAAQAAAAAAAAABAAACAAAAAAEAAAQAAAAAAQAACgAAAAABAAAEAAAAAAEAAAAAAAAAAQAAAgAAAAABAAAKAAAAAAEAAAQAAAAAAQAAAAAAAAABAAACAAAAAAIAAAQAAAAAAQAACgAAAAABAAAEAAAAAAEAAAAAAAAAAQAAAgAAAAABAAAKAAAAAAEAAAQAAAAAAQAAAAAAAAABAAACAAAAAAEAAAoAAAAAAQAABAAAAAABAAAAAAAAAAEAAAIAAAAAAQAACgAAAAABAAAEAAAAAAEAAAAAAAAAAQAAAgAAAAABAAAEAAAAAAEAAAoAAAAAAQAABAAAAAABAAAAAAAAAAEAAAIAAAAAAQAABAAAAAABAAAKAAAAAAEAAAQAAAAAAQAAAAAAAAABAAACAAAAAAEAAAoAAAAAAQAABAAAAAABAAAAAAAAAAEAAAIAAAAAAQAACAAAAAABAAAEAAAAAAEAAAAAAAAAHHN0c2MAAAAAAAAAAQAAAAEAAABkAAAAAQAAAaRzdHN6AAAAAAAAAAAAAABkAAA5DgAAAa4AAAM6AAAATAAAAFgAAABcAAABIwAAAQAAAAOHAAAAtgAAAEQAAABhAAADvgAAAJoAAACMAAAAYQAAATkAAAEDAAABEAAAAScAAADvAAABXAAAAQEAAAFCAAADaQAAAL0AAABpAAAAXgAAAW8AAAOmAAAAWQAAAF4AAABVAAABHQAAAUAAAAFCAAABdAAAARcAAAOvAAAAcwAAAFEAAABXAAADJAAAAKEAAADAAAAAoAAAAy4AAAC0AAAArgAAAG8AAAEmAAABkgAAA14AAADBAAAAcQAAAHoAAAFtAAADdAAAAJ8AAAB4AAAAtwAAA24AAADXAAAAgwAAAHAAAAF0AAABXgAAAwYAAAC/AAAAkgAAALsAAANPAAAAuQAAAIgAAABeAAADPQAAAM8AAACBAAAArgAAAwUAAADCAAAAkwAAAJcAAAEZAAACsQAAANAAAACBAAAAawAAAScAAAKHAAAAuQAAAI4AAACDAAACbAAAAOIAAACwAAAAkAAAAZIAAAB7AAAAjwAAABRzdGNvAAAAAAAAAAEAAAAwAAAAYnVkdGEAAABabWV0YQAAAAAAAAAhaGRscgAAAAAAAAAAbWRpcmFwcGwAAAAAAAAAAAAAAAAtaWxzdAAAACWpdG9vAAAAHWRhdGEAAAABAAAAAExhdmY1Ny40MS4xMDA=\" type=\"video/mp4\">\n",
       " Your browser does not support the video tag.\n",
       "</video>"
      ],
      "text/plain": [
       "<IPython.core.display.HTML object>"
      ]
     },
     "execution_count": 11,
     "metadata": {},
     "output_type": "execute_result"
    }
   ],
   "source": [
    "animate_2 = display.create_animation(Anim2.animate, temp = True)\n",
    "display.display_animation(animate_2)"
   ]
  },
  {
   "cell_type": "markdown",
   "metadata": {},
   "source": [
    "For the right hand graph, blue still represents the z displacement of the particle but red now represents the y displacement. At small particle heights you should see two sinusoids, pi/4 out of phase, as expected for circular motion.\n",
    "\n",
    "However at larger distances (e.g. try a \"particle height\" of ~ 0.65) this behaviour is lost and the orbit is no longer closed c.f. Bertrand's theorem. Turn on the tracer to see the precession of the semi-major axis in the left hand plot.\n",
    "\n",
    "By looking at the electric field on axis it is clear in which regions the SHM approx is applicable.\n",
    "Using the acceleration function and the SHM frequency calculation, a graphical comparison can be made via the E_field function."
   ]
  },
  {
   "cell_type": "code",
   "execution_count": null,
   "metadata": {
    "collapsed": false
   },
   "outputs": [],
   "source": [
    "# Distance over which to plot in units of ring_r\n",
    "z_lim = 4.0\n",
    "# Step size used in plotting\n",
    "z_step = 0.05\n",
    "\n",
    "%matplotlib notebook\n",
    "\n",
    "cm.E_field(z_lim,z_step,q,ring_r)"
   ]
  },
  {
   "cell_type": "code",
   "execution_count": null,
   "metadata": {
    "collapsed": true
   },
   "outputs": [],
   "source": []
  }
 ],
 "metadata": {
  "kernelspec": {
   "display_name": "Python 3",
   "language": "python",
   "name": "python3"
  },
  "language_info": {
   "codemirror_mode": {
    "name": "ipython",
    "version": 3
   },
   "file_extension": ".py",
   "mimetype": "text/x-python",
   "name": "python",
   "nbconvert_exporter": "python",
   "pygments_lexer": "ipython3",
   "version": "3.5.1"
  },
  "widgets": {
   "state": {
    "00099bf6fd7b493891501461a3b66ab7": {
     "views": []
    },
    "00db406ae56047529c34f050d561c345": {
     "views": []
    },
    "0182e836ecac443697436ab19d7dfe9c": {
     "views": []
    },
    "023ba0835e9b40dc8c4353693167a266": {
     "views": [
      {
       "cell_index": 10
      }
     ]
    },
    "02b218d7e0c44029bf3b28efbeea524d": {
     "views": []
    },
    "032c671fb66d4d8eacec86f668d618f7": {
     "views": []
    },
    "033488931a504f9492d815e877bf6f0d": {
     "views": []
    },
    "042e9b33f7654f89bbe0de0b287b7a39": {
     "views": []
    },
    "04b651b9423240e691a47c72c402f094": {
     "views": [
      {
       "cell_index": 12
      }
     ]
    },
    "04c06ae607144fff8365cc12fd4170f3": {
     "views": []
    },
    "05fe333743eb4e55abc5e6fd754922e7": {
     "views": []
    },
    "06107e42156b4c339546eaeac3af2afd": {
     "views": []
    },
    "06a0db03a0014bd7b79a6aa1b082b4dd": {
     "views": []
    },
    "0715f2b36d6147c798e97b9c6aa3ca6d": {
     "views": []
    },
    "07dcc555656743d4bf2e9943703fb66a": {
     "views": [
      {
       "cell_index": 12
      }
     ]
    },
    "0878bb8950154709958558c5fd96707c": {
     "views": []
    },
    "08b1e2844938406fa252e4d6134722b2": {
     "views": []
    },
    "08e510dbd36a4952b696f0e656b09bab": {
     "views": []
    },
    "0945f003519d4253ab35f54f61faf33b": {
     "views": []
    },
    "0ab9dedf204e43f8b5dc9ef8fd8f0418": {
     "views": [
      {
       "cell_index": 13
      }
     ]
    },
    "0b363d2908564dbbb7d31bc278f943db": {
     "views": []
    },
    "0b4ff869981d4cda970383f02c7bab04": {
     "views": []
    },
    "0bd3d481029a4a3d8e8377e188831ebf": {
     "views": []
    },
    "0bfe5e6113254adaa591d88aa1352fb2": {
     "views": []
    },
    "0c1dec481d63473f9f5dd1f0acf921fd": {
     "views": []
    },
    "0ce43ef5a98148a4b16a7155573dde45": {
     "views": []
    },
    "0d44a6dad11c4e42a82d31e9b01edde6": {
     "views": [
      {
       "cell_index": 12
      }
     ]
    },
    "0d6fda063dd64cb885ef4e79e9a70014": {
     "views": []
    },
    "0da68909d08d41d6b4240759c8b0b7f1": {
     "views": []
    },
    "0dd1e8a857e947489decc29df2652ff6": {
     "views": []
    },
    "0ddc150c3b1a4ebe8379282d8d44110b": {
     "views": []
    },
    "0f3224595ef641c9b61565df3025a838": {
     "views": []
    },
    "0f68b344106d415bbc515eb4d6fb5b0f": {
     "views": []
    },
    "0f7333c4e50b42eb9f29711c29b8b294": {
     "views": []
    },
    "0f8c861670044687b7e0e5e95e44995b": {
     "views": []
    },
    "0fd507ef00cc44da987c41e677ac25d1": {
     "views": [
      {
       "cell_index": 13
      }
     ]
    },
    "0fea1cb089004032aa6164787eaccadb": {
     "views": []
    },
    "10169b9e588b45698bfaf5d144b15832": {
     "views": []
    },
    "10382950cbf44e62b267ec218aed3d5a": {
     "views": []
    },
    "10ca62ea5ce1414d917869a60760a126": {
     "views": [
      {
       "cell_index": 10
      }
     ]
    },
    "10e6dc3409e84595b5a01465881568cd": {
     "views": []
    },
    "11cdbd555dee46588819956bfa2be89e": {
     "views": [
      {
       "cell_index": 15
      }
     ]
    },
    "11fe43a727ca46c0bb72207cd4d01c00": {
     "views": []
    },
    "121fbaf326bd498d94e013e735be0695": {
     "views": []
    },
    "128cc887b0d847abbd4cbcec7beb63e9": {
     "views": [
      {
       "cell_index": 12
      }
     ]
    },
    "13f365b693924b9e9a4354226ae429bf": {
     "views": []
    },
    "14510ea9231c44a09756b0f3344ead4e": {
     "views": []
    },
    "15243d505716415b8230ec85043bfddc": {
     "views": [
      {
       "cell_index": 8
      }
     ]
    },
    "156ea4af895148b399c2c6a1efaf8463": {
     "views": []
    },
    "1637032963eb40d9bc441d908725538a": {
     "views": []
    },
    "17668c89e7de4e65980e32f9be61d9f4": {
     "views": []
    },
    "18c1ce141d574865a0571affe80f05dc": {
     "views": []
    },
    "18fa765cb69f4e7f9a5dcc5410674659": {
     "views": []
    },
    "193f0c3618724afca1b8b1afac747b0d": {
     "views": [
      {
       "cell_index": 12
      }
     ]
    },
    "19df1cf9fd9643a8bc72518a2696f106": {
     "views": []
    },
    "1c3a2de0712b4c429d5feb5a64d3caee": {
     "views": []
    },
    "1d187ecccd514a81b09b321e9cecb269": {
     "views": []
    },
    "1d937782462d4d5bb9f38c39abaa99c4": {
     "views": []
    },
    "1ea547e6a7e34f3daa2388649f8ba701": {
     "views": []
    },
    "1ed9388f63b4426f874c21e0a124ec6d": {
     "views": [
      {
       "cell_index": 11
      }
     ]
    },
    "1ef321404c3d4faebb758e3a6df00cb5": {
     "views": []
    },
    "1f56b9237e8943bb850cc6cadaa70642": {
     "views": []
    },
    "1fe3de0268ee477d9d503ef0d48b7684": {
     "views": []
    },
    "1fef6fd1a9ec4d3d8894f6056a1d1958": {
     "views": []
    },
    "1ffc605db910433ea23895c0143a138d": {
     "views": []
    },
    "1ffd675d9bb84463b7cee286567de9e2": {
     "views": []
    },
    "209a526ae11a4f26929aaba9db63c789": {
     "views": []
    },
    "20f45194470048c29029a08b1d4f7275": {
     "views": [
      {
       "cell_index": 12
      }
     ]
    },
    "21647e0ae8274a3ba5ae0ab7d58d0ba7": {
     "views": []
    },
    "219ac91c81794aa2a1611d04a452bb8a": {
     "views": []
    },
    "21dbbb20311b4742b8d02f6846550533": {
     "views": []
    },
    "22a8a3812f864bf6ae09148a99c569c3": {
     "views": []
    },
    "230104bb434840909eb43497be4feb41": {
     "views": [
      {
       "cell_index": 15
      }
     ]
    },
    "23626869923243beb9d0135ae8ad0a26": {
     "views": []
    },
    "2413488563fe4b0b90479aab2a09a612": {
     "views": [
      {
       "cell_index": 15
      }
     ]
    },
    "241719d1f11e42de805fca4bc1283956": {
     "views": [
      {
       "cell_index": 12
      }
     ]
    },
    "24519fc1ee7f451b998960d302879b9f": {
     "views": []
    },
    "245c5e659f18493cb6d131eee760d1a5": {
     "views": []
    },
    "25e058279aaa4af6b6f532f889dd689c": {
     "views": []
    },
    "25e2a3b59bbd46e8b84875131e7d8790": {
     "views": []
    },
    "268282ad51e14ec0b0dd1fe3e7ea374c": {
     "views": [
      {
       "cell_index": 8
      }
     ]
    },
    "27021598867c424ba00d39c4bea1e56c": {
     "views": []
    },
    "281bcd08cf014e55a4fc79922ccb0128": {
     "views": []
    },
    "281e141fef964eadb9f7892427121300": {
     "views": []
    },
    "285e8bf22cf5447eb0a0e74565ef8471": {
     "views": []
    },
    "2891b728ac454efb959b3e001df3e65a": {
     "views": []
    },
    "294c5156921346ddb161e6ee3ea1a6e6": {
     "views": []
    },
    "2950a5fc3fb54ce78e8f9e124e85dcf9": {
     "views": []
    },
    "296ef542dc3443caaffe61cfc58f7d5c": {
     "views": [
      {
       "cell_index": 15
      }
     ]
    },
    "29881bea4f3148b0a4034d0af7515303": {
     "views": []
    },
    "29f6ff1c0ad6497abaf2c15bdbbf0525": {
     "views": []
    },
    "2a0bfb6371a74fe897085a7c968bc4a0": {
     "views": []
    },
    "2ac4fba9b1714dd7b452c289aab78acd": {
     "views": [
      {
       "cell_index": 10
      }
     ]
    },
    "2bb56ae9b0a340f18637d407024ef65d": {
     "views": [
      {
       "cell_index": 15
      }
     ]
    },
    "2cc31a96b49548b8a6e4132fac39fba6": {
     "views": [
      {
       "cell_index": 15
      }
     ]
    },
    "2d28e14c3d64433ab5c736d79c21a37a": {
     "views": []
    },
    "2d59fc13b8be4f32963caef05bee213a": {
     "views": []
    },
    "2f03867b4d334bad99c61a1a46429e03": {
     "views": []
    },
    "2f76948ebbab4865ad39d048147ef3c2": {
     "views": []
    },
    "2f88ccf8015a4841a4420c3d98954db0": {
     "views": []
    },
    "3014178bce254e03a1c50b46e5784b52": {
     "views": [
      {
       "cell_index": 10
      }
     ]
    },
    "302e1abc48c74a2db769ebc72a327db4": {
     "views": []
    },
    "3068a061af014721beeb8cd97fffd995": {
     "views": []
    },
    "307139c630854707a3629003f2a95156": {
     "views": []
    },
    "314fd167e0254497b46c8b2e7d3d4119": {
     "views": [
      {
       "cell_index": 10
      }
     ]
    },
    "315cf1dc954e4f87837cadfce8444998": {
     "views": []
    },
    "319cc0bcb30d4fb98df894f4baa72cce": {
     "views": []
    },
    "31c646dbbbb1497a8b537688006e49cf": {
     "views": []
    },
    "32f9406226554f16b8b9b2d299168210": {
     "views": []
    },
    "33161647bb764a00bc195bf6ed9d1810": {
     "views": []
    },
    "3318b68c230548259a7cf074b99bb6d6": {
     "views": []
    },
    "3360b7edd4c343d9a229c79dd9e2b82e": {
     "views": []
    },
    "342748187e5841cc9edf673f2c778564": {
     "views": [
      {
       "cell_index": 8
      }
     ]
    },
    "3475c69ce4a84ec7ad23aa3103bea487": {
     "views": []
    },
    "350c5a87d7b24a1da4d46a015518d488": {
     "views": []
    },
    "352db39bd1c4458f83edde103bf03602": {
     "views": []
    },
    "35352107efd64580b747a87d673c36b6": {
     "views": [
      {
       "cell_index": 13
      }
     ]
    },
    "354f290ee97647d7b81ae6a335b0dc11": {
     "views": []
    },
    "3591666222d446b0959655b6930edf8c": {
     "views": []
    },
    "36c9c349693f4cc9a765f42d44d53281": {
     "views": []
    },
    "37a420be9fb54868bbdfc0333995977c": {
     "views": []
    },
    "38ed23f59ace475389c1f2ec8b3354f4": {
     "views": []
    },
    "3adfcd63c7c2401c896fa5ee0edbbce3": {
     "views": [
      {
       "cell_index": 11
      }
     ]
    },
    "3b27e90a3fd64bdfa74599726785ac63": {
     "views": []
    },
    "3baf5c8c4e3f44e790b7451fb27d413e": {
     "views": []
    },
    "3be98465d3164fe79356fdb5150dbfef": {
     "views": []
    },
    "3c0872c407d74c2990192f6986f81acd": {
     "views": []
    },
    "3c7bbc9f69934fa295c7df408b787285": {
     "views": []
    },
    "3d5b0f2b74c842ad9b296f293b61d6eb": {
     "views": []
    },
    "3e0203c2a5c041df80ab46aadcac04eb": {
     "views": []
    },
    "3f700621fb2a413494e2728678d294a1": {
     "views": []
    },
    "3f72c0602c474ceab2f999d200300231": {
     "views": [
      {
       "cell_index": 8
      }
     ]
    },
    "410ab02a4f1c4424b0af490ad2f0be09": {
     "views": []
    },
    "41b9b47b689a4c4b8f370f497b25ea46": {
     "views": []
    },
    "425ca27c819343909d0ba4e39f089d1f": {
     "views": []
    },
    "42c2cbb79f50409a9ace71aa8a5eea99": {
     "views": []
    },
    "438059f9a49146ebacefbe30bd3ca864": {
     "views": []
    },
    "43c4e3c2a9e344afa07224289d07afcd": {
     "views": []
    },
    "43d92d3db27649b4aab4ba3e1606d51e": {
     "views": []
    },
    "440dcba6d555402a9b37761f4655b20c": {
     "views": []
    },
    "441d477fb8164fb2963ce9a1b41b26ca": {
     "views": []
    },
    "44af83d92683448e9a0e7c51fa2b757a": {
     "views": []
    },
    "450d7be0d55f4d38a37fb93c36241126": {
     "views": []
    },
    "4597ab1661c340cc9f15bc1e1e748739": {
     "views": []
    },
    "466c9263edc04f07b5250091125bcf8d": {
     "views": []
    },
    "46a696283174462c869868d5a94c92b5": {
     "views": []
    },
    "46eab080237b4dbf89e89defd059f321": {
     "views": [
      {
       "cell_index": 12
      }
     ]
    },
    "470b1acf4187452ca923487234e30971": {
     "views": []
    },
    "47440b4cbda5477c9c5f2450b7766fe6": {
     "views": [
      {
       "cell_index": 15
      }
     ]
    },
    "476ff91a492d4f0c930a814a24a65875": {
     "views": []
    },
    "477721c5b30e4afdad3b5493424ea7c9": {
     "views": []
    },
    "47b74c8d051043698f856dcb68d2c815": {
     "views": []
    },
    "47d488edf2714cb681e13b46e8e3678c": {
     "views": []
    },
    "484658153d2e4e1f8bcc2670db49c749": {
     "views": []
    },
    "486450abe14c40c5aa0a35e30e07bd30": {
     "views": []
    },
    "48a737e23fdc4bf1b7d1abd502af668e": {
     "views": []
    },
    "4a02de57b6924e7ea992bee144ec6b80": {
     "views": []
    },
    "4aaa08bd43b14e3b9755a35fcec593a1": {
     "views": [
      {
       "cell_index": 12
      }
     ]
    },
    "4b655bd02bd24cc986a688569d1f7ea1": {
     "views": []
    },
    "4b87ada48be14123875c3a28a8235005": {
     "views": []
    },
    "4bb6703e90f94f2fa48e65b702756c13": {
     "views": []
    },
    "4bc475e623da41b4819c6057e24d2039": {
     "views": []
    },
    "4cf2e17eebf840ee89da5314f084baa0": {
     "views": []
    },
    "4d0d14dccea24cec95cffadc3195d21f": {
     "views": []
    },
    "4d55c6e5813248f39e39b83cd4943b6c": {
     "views": []
    },
    "4d75d2cfaa0841849443bc041ed08f9e": {
     "views": [
      {
       "cell_index": 13
      }
     ]
    },
    "4ee2877707304d13b00a4b50eef72d55": {
     "views": [
      {
       "cell_index": 12
      }
     ]
    },
    "4f5238546cdc4341b456f79e85ff7f92": {
     "views": []
    },
    "4f7d0cb38b6a4eea8c145ede5551f287": {
     "views": []
    },
    "4fba61ddf3af47c1804c27de6914d15a": {
     "views": []
    },
    "5060b0b0948246a89671f52fec780cde": {
     "views": [
      {
       "cell_index": 12
      }
     ]
    },
    "5060dfd49d49484695eb6321267866d2": {
     "views": []
    },
    "50696c484af244b28bd8b70b973ad726": {
     "views": []
    },
    "509a6a4d0ce54bb5b5eea2811b31f144": {
     "views": []
    },
    "50a8be244d284b66b47442d89952b7f8": {
     "views": [
      {
       "cell_index": 15
      }
     ]
    },
    "51392cfe9f1d4f56a44fd357ffba98b5": {
     "views": []
    },
    "514ec65397bf4b8eb82d8fdba2f6bb13": {
     "views": [
      {
       "cell_index": 13
      }
     ]
    },
    "515b7952f85040a2b3e2b469a6e27d41": {
     "views": []
    },
    "516b37304fe34560a8258404c2a52ae6": {
     "views": []
    },
    "51825da5b59a4a84a8f16df901e3286d": {
     "views": []
    },
    "51a817e1ab84401c89ad098256c1e58f": {
     "views": [
      {
       "cell_index": 12
      }
     ]
    },
    "51cb069edcbd439a88d54623f43fe784": {
     "views": []
    },
    "5219c5224c874d808326e0b635e37ca5": {
     "views": [
      {
       "cell_index": 11
      }
     ]
    },
    "5270e3833c1547e7b383e5c700087c7f": {
     "views": []
    },
    "53e8097cc9a24829b27a41f2f1a7c4fd": {
     "views": []
    },
    "543843df74d54048a82d29c6a9533991": {
     "views": []
    },
    "54581d8a04534796a07e0283bb297820": {
     "views": []
    },
    "55ad7df7a8c24e62bbdde6d2f6609837": {
     "views": []
    },
    "5678ac0ef7314fa4ac606d500db8dc83": {
     "views": []
    },
    "573972c06f804b8ebce427adf6bc456b": {
     "views": []
    },
    "5809d72505c04491b7f2a4f72397d746": {
     "views": []
    },
    "583fa4a1fdff43aeb0f95857074da852": {
     "views": [
      {
       "cell_index": 8
      }
     ]
    },
    "58a0979e58bc40eb85b0e68c423b9c50": {
     "views": []
    },
    "5901c831ef864884b0d845a61d36bbf0": {
     "views": [
      {
       "cell_index": 12
      }
     ]
    },
    "590e88e9b0b6432696c922b2f1ae41a6": {
     "views": []
    },
    "5912e3878f8c4804bf702ef59d1ebe6f": {
     "views": [
      {
       "cell_index": 11
      }
     ]
    },
    "59379876cf6e4643b3502b9cd971c431": {
     "views": []
    },
    "594807ab38ac40fa8fb1e53a1d667ff2": {
     "views": []
    },
    "595a0eed5659484ba56afffcd6609c66": {
     "views": []
    },
    "59618f225ceb4451b79a8291f07f8298": {
     "views": []
    },
    "5972ba256a40411eac6cc000467539fe": {
     "views": []
    },
    "598c5ea7f2264d6991443910773ebecb": {
     "views": [
      {
       "cell_index": 8
      }
     ]
    },
    "598fb84b864b49d28b3e4e3ea8f8b5a6": {
     "views": []
    },
    "59c19699011c489e93271a25d9476456": {
     "views": []
    },
    "5a56d75bf2a04012aaedf653baa40400": {
     "views": []
    },
    "5a7ef4ee5683490f8bd24879307720a6": {
     "views": [
      {
       "cell_index": 11
      }
     ]
    },
    "5a8fecf81bfb4db68853f28c4a95dad9": {
     "views": []
    },
    "5a9478b247524e279ddf0a26f1c807b9": {
     "views": []
    },
    "5b3eb6f5705445ec99511a0bc1338a86": {
     "views": []
    },
    "5b45ea2366004b17b86cfc2ebd7c408f": {
     "views": []
    },
    "5b713c7417514b2aab49dc553cb30990": {
     "views": []
    },
    "5c2b2fd7a69443a2ad08f090296b7607": {
     "views": []
    },
    "5c3275cc48d44a4da10fb29d34bf4f59": {
     "views": []
    },
    "5c80594332484d2f9b113b983f2f0d3b": {
     "views": []
    },
    "5cbdbffd8ad24fdca6a0c699863421ef": {
     "views": [
      {
       "cell_index": 15
      }
     ]
    },
    "5ce4d0e149fc47a7959e9b55be27b295": {
     "views": []
    },
    "5da13c0dca2e41f5a3930ec0f29e40ed": {
     "views": []
    },
    "5dae6c91b8204227b021f5ad732544bb": {
     "views": [
      {
       "cell_index": 11
      }
     ]
    },
    "5e56cca7fa3643cc984f51cfe7c1d55d": {
     "views": [
      {
       "cell_index": 15
      }
     ]
    },
    "5ea8402140f94061896926a6162e0261": {
     "views": []
    },
    "5faace7ea1b240ef8c8d451aa398db69": {
     "views": []
    },
    "600e861aa9a94eb3a3cfc0c9934bfdf9": {
     "views": []
    },
    "603d5195915e4b38a60f232fa066597d": {
     "views": []
    },
    "6100fd83fd9a4f30a605f40af20288db": {
     "views": []
    },
    "6139cb545adc4023a4e7c52898c1b43a": {
     "views": []
    },
    "61b4cbe1d03843bc80076c275cee0286": {
     "views": []
    },
    "61e6f1e8a19b4a28a676afde37bd2a54": {
     "views": [
      {
       "cell_index": 15
      }
     ]
    },
    "624f11d0b42f498287b7fff4955315de": {
     "views": []
    },
    "62c5383ab07446f5852afdf9de8c2388": {
     "views": []
    },
    "631596d4bf75496f8272a56381af8606": {
     "views": []
    },
    "63f139a624cd40b3b12341f52fcc5057": {
     "views": []
    },
    "64471486b8a14ef1a67ae40cda7953b0": {
     "views": []
    },
    "64dbe102e64d449a890cf86726af570f": {
     "views": []
    },
    "662a3f53e1b7459a942df8e8ef6a79d8": {
     "views": []
    },
    "66cf8ecabce84fd280d5edfaf090d738": {
     "views": []
    },
    "66d002dad1624fe78f59e6a57d5d066b": {
     "views": []
    },
    "66e8ca1e758b42d287c0a4ca32a4e51e": {
     "views": [
      {
       "cell_index": 11
      }
     ]
    },
    "6744d6b77af84468a1f8044632e3d5f1": {
     "views": []
    },
    "678b449052974d88949194cc7639cbce": {
     "views": []
    },
    "67c1cf800dd948368f87b50793d82b85": {
     "views": []
    },
    "67fb131b6d464661a7f98816258431c0": {
     "views": []
    },
    "684efbdf694547e5946f1eb5872b1719": {
     "views": []
    },
    "6855f459d4a34d70bf54d245bcf20816": {
     "views": []
    },
    "686580dd459149cbbb20d5c039ffee60": {
     "views": []
    },
    "686b65b0f2114bdfb36a00b6fe8d0224": {
     "views": []
    },
    "68c7b2b7678041d5af7fc8917d9c2bc4": {
     "views": []
    },
    "6947fe335aa14cada83ebb9e0134d0dd": {
     "views": []
    },
    "695237518d1049449d1ae0affa27af72": {
     "views": [
      {
       "cell_index": 10
      }
     ]
    },
    "69d74019f7a4453e83d7d2eba3638e3e": {
     "views": []
    },
    "6a31f9a025f14154b3642c555fb77a86": {
     "views": []
    },
    "6a680d17d4744e37ab520c51365585fb": {
     "views": []
    },
    "6a7e1a3c2ba04f0081b0b4a950e7b158": {
     "views": []
    },
    "6ad3ba3c6284412cb7e21f8228a3f8b9": {
     "views": [
      {
       "cell_index": 12
      }
     ]
    },
    "6af56f9ace4343849d054aecb3a3b449": {
     "views": []
    },
    "6b1735e80c47432bb7b9518df24e5508": {
     "views": []
    },
    "6c0b5261adea46dab6092172375564b7": {
     "views": []
    },
    "6c513a65ea764d92a8d77c28e18181b4": {
     "views": []
    },
    "6c559583373740348d1dd2ffa24a62cf": {
     "views": []
    },
    "6c562717c6c24ecf986e9bbadf7e06e1": {
     "views": []
    },
    "6c9ffa590c884c67b83fb813c3d82859": {
     "views": []
    },
    "6cdcbed096bf4d588913cfe336fe63da": {
     "views": []
    },
    "6d2cbbc8190e4ca180604d8b8df9e9fe": {
     "views": [
      {
       "cell_index": 12
      }
     ]
    },
    "6df2bb411e7544769e412edeeb4337a9": {
     "views": []
    },
    "6e22fac7d6c94477a6f361a49eb2139b": {
     "views": []
    },
    "6e2999a4cbc0418f8240a6c78cb12952": {
     "views": []
    },
    "6f315d0416394b888352ee686d105377": {
     "views": []
    },
    "6f3cd5947e2748bf8021bb1a3cb8b2b7": {
     "views": []
    },
    "6f84a0b9a21d434ea0ed98f8ff64ccb3": {
     "views": []
    },
    "7004a45185c444efa21f49596e745b0d": {
     "views": []
    },
    "701bcf05bae342abb41fbc6572b24f04": {
     "views": []
    },
    "709694c6936949cead70272b95cf410e": {
     "views": []
    },
    "70a71c1d92684c3a83a8ccc013411562": {
     "views": []
    },
    "712123375de1496fb422d9aaa877af9d": {
     "views": [
      {
       "cell_index": 10
      }
     ]
    },
    "7124ca684b9146998210c7c38f85a955": {
     "views": []
    },
    "71823a9fc73141c2938b49e9e8eb0b9e": {
     "views": []
    },
    "71cd718428974f05b1241edfc9df0af0": {
     "views": []
    },
    "71fdfcbe12e1439884893efb798703de": {
     "views": []
    },
    "72119dc26f2a4a9bb225327ae1a47051": {
     "views": []
    },
    "727b5f2d5b9f42b9b32f3b03dfd5f844": {
     "views": [
      {
       "cell_index": 15
      }
     ]
    },
    "72bcdaf329a64c528af1dcff3d69a1c3": {
     "views": []
    },
    "739831ce6f2b465681424dceb205ca5f": {
     "views": []
    },
    "73f8aba7028e46cb870de632110f9abd": {
     "views": []
    },
    "73fa2f20bc1447dcb9086a46fdcac3c5": {
     "views": []
    },
    "74471f29899c42db802da2317418af58": {
     "views": []
    },
    "745b3480d4a34f128eeffe165f4509b3": {
     "views": []
    },
    "746f24b4854c480caf5f0072adbaf566": {
     "views": []
    },
    "74d9d0eaed654bf1bbfcc9a8bb17d065": {
     "views": []
    },
    "7541871077df4140a24225f0445a16cb": {
     "views": []
    },
    "7556c45347c64f7c8f4727e6e82456d6": {
     "views": []
    },
    "75ec67bdc331498590a976e4f88be1ce": {
     "views": [
      {
       "cell_index": 15
      }
     ]
    },
    "76134eab4b0e4c85bf46839fc2c65f72": {
     "views": []
    },
    "764621865a9f4d159e98a769744c5626": {
     "views": []
    },
    "764fa6777cc94673a9a4a971475fe9e0": {
     "views": []
    },
    "77a3c024b04f47b39a63de257907d0a3": {
     "views": []
    },
    "77dad5354ee94c428ddb45e92ceb7b46": {
     "views": []
    },
    "780538062af44f4ab8f7c518f8823af4": {
     "views": []
    },
    "783d9413850547a782f43f7109c31626": {
     "views": []
    },
    "784e00533fd348fbb9eec0d557e747ec": {
     "views": []
    },
    "789ff2f77426453d92676b2e284998b0": {
     "views": []
    },
    "7927652cd27d477d85d83edad0eabde1": {
     "views": []
    },
    "793b279d3b5e4dd3a5f1586c4836dffe": {
     "views": []
    },
    "79eeae4e7de14414b41f3b261b90cc2d": {
     "views": []
    },
    "79f7afb9c31843d49f6a1a7b6b143bf8": {
     "views": []
    },
    "7a9aa0742f834ab5845b15371740affa": {
     "views": []
    },
    "7aa4264110d04cfd9cc3e8317e5b3283": {
     "views": [
      {
       "cell_index": 8
      }
     ]
    },
    "7b3d55e0503c4b15a963bc5ba1d90726": {
     "views": [
      {
       "cell_index": 11
      }
     ]
    },
    "7c19fea68a7f463c917610979af52121": {
     "views": [
      {
       "cell_index": 10
      }
     ]
    },
    "7c31cd2542524ba283317009660b59e8": {
     "views": []
    },
    "7c64ac1b3ff84826a5829be52f0860f9": {
     "views": []
    },
    "7c8625076c124f8ca872eb5f14c7e2d8": {
     "views": []
    },
    "7d3abd89cced4acabb61ce5cc8b41728": {
     "views": []
    },
    "7d4ad74e75f246149b7926dddee9a191": {
     "views": []
    },
    "7dd0ae0f1a804f1d9813f9f0469d8969": {
     "views": [
      {
       "cell_index": 12
      }
     ]
    },
    "7deeab52725e467d9f10485bbdc4c2cc": {
     "views": []
    },
    "7e34a4f32fa94d548e276d0fc11052be": {
     "views": []
    },
    "7e61afbec4e446fea202e609b4b90a7e": {
     "views": []
    },
    "7ed6068b19994a32b8147b2200de1587": {
     "views": [
      {
       "cell_index": 10
      }
     ]
    },
    "7f9e5756f3ec450b850fca106268a925": {
     "views": []
    },
    "7fb4e865459a44e19cf8a84fb15b13ec": {
     "views": [
      {
       "cell_index": 8
      }
     ]
    },
    "811653b6742b4196a7866e8b44d26ad9": {
     "views": [
      {
       "cell_index": 13
      }
     ]
    },
    "816082c3c650417f8ef27ba97bda43f8": {
     "views": []
    },
    "819670bde921495e9b12d0847c10964e": {
     "views": []
    },
    "819ed7fef25e4d33941fb5e12a655edd": {
     "views": [
      {
       "cell_index": 13
      }
     ]
    },
    "830cabaa7e6646fbac382fd024d93814": {
     "views": []
    },
    "8378992a616948b48548f4702d9982c2": {
     "views": []
    },
    "83be8be4bb6841388f59cefb90e7ed5a": {
     "views": []
    },
    "8485f96cecfc4917b00e015be0f9311c": {
     "views": []
    },
    "84b19fdad9de4a9c98675cbfb601ff59": {
     "views": []
    },
    "84d8a17fe0a9498ca5434beca7187613": {
     "views": []
    },
    "84fa7daad50747ff9c48db7869daa850": {
     "views": []
    },
    "8529353e438a43a29bc6fa0a2a15902f": {
     "views": []
    },
    "85f1f7d5800b4a82b4a06b2fd7b6d389": {
     "views": []
    },
    "864dcba6bb294dc99994a6f6c3bfc3ad": {
     "views": []
    },
    "86b18db52be44e32ad05bc9dee1fdf41": {
     "views": []
    },
    "8705f62916bd49bdb5d388a0f30ba34c": {
     "views": []
    },
    "872a5e5e2acd4334b3a25d99b3550bb1": {
     "views": [
      {
       "cell_index": 15
      }
     ]
    },
    "873e20d4ec81418a8b50b7bb0162c86d": {
     "views": []
    },
    "8791c9f177804810995b97da342158c4": {
     "views": [
      {
       "cell_index": 15
      }
     ]
    },
    "8795f1320bd74982bc5290cdf5750307": {
     "views": []
    },
    "88825699fa794210b58d9de4238eb5c9": {
     "views": []
    },
    "89063c02117c42af9cdbbe9e6231be40": {
     "views": [
      {
       "cell_index": 13
      }
     ]
    },
    "895494ae5b8c4028ac46df0a815fd1c0": {
     "views": []
    },
    "89cc4c4969644b0b929b61501c81559c": {
     "views": []
    },
    "89d7befe430149b8afb8403aea486e48": {
     "views": [
      {
       "cell_index": 13
      }
     ]
    },
    "8a26aae229c4442f8b35d5d1ae380174": {
     "views": []
    },
    "8a3e0634054842a88ece743e06561ae1": {
     "views": []
    },
    "8a6e2033cc414da99a0180fe4dac5f81": {
     "views": [
      {
       "cell_index": 15
      }
     ]
    },
    "8a8d140db55d439584ee825e1d5ce09e": {
     "views": []
    },
    "8a970351a16144df9aab606d9bb8762a": {
     "views": []
    },
    "8c7fc292668b452ea12b231712a2fb89": {
     "views": []
    },
    "8d83636a3de94129872d5f20d4b0b31f": {
     "views": []
    },
    "8dd3f3f989c64366ae0a845f6232ea2f": {
     "views": []
    },
    "8ecf33305db34349b2ad564287ec8239": {
     "views": []
    },
    "8f67aa77b3a346279c44899199d81e5c": {
     "views": []
    },
    "8ff25fd120bf4da0ad86b26791f65c8e": {
     "views": [
      {
       "cell_index": 8
      }
     ]
    },
    "9001836932994fb6833beb28273f0f01": {
     "views": [
      {
       "cell_index": 15
      }
     ]
    },
    "90d88c71135c4f0986cde7eca4989b07": {
     "views": []
    },
    "913ff0884ca948f6a529f43cd39cc5c0": {
     "views": []
    },
    "9199fb0bec38438b977ffdb296d263db": {
     "views": []
    },
    "91af4bd0e19742d6ac52d282fd75c7af": {
     "views": []
    },
    "91efba9dd8614f58becc1145d8537bf9": {
     "views": [
      {
       "cell_index": 11
      }
     ]
    },
    "9202d15141764063a3630a4fed93e7bf": {
     "views": []
    },
    "9224c44f4ea749e989320d3e183c91ed": {
     "views": [
      {
       "cell_index": 12
      }
     ]
    },
    "92936d50f7a8419da605236062eead7c": {
     "views": []
    },
    "92ae8358821e49e2a1ec1999d929c441": {
     "views": [
      {
       "cell_index": 12
      }
     ]
    },
    "92fee3bb609049789e55b12666217fe6": {
     "views": [
      {
       "cell_index": 13
      }
     ]
    },
    "936ece0639af4183b06e06598fb55c09": {
     "views": [
      {
       "cell_index": 12
      }
     ]
    },
    "9373359ab9924a0bb39daeb0ad9058ef": {
     "views": []
    },
    "9374c62ee85f4ea58e1f47a340c2c9d6": {
     "views": []
    },
    "939130d85efc401ba6594cd2b24cd751": {
     "views": []
    },
    "940f4065d7a949abadde3f7680d1c494": {
     "views": []
    },
    "94421cd2c2924642ae73756dccadd279": {
     "views": []
    },
    "94b85fddf2d3433699604e89b817ac64": {
     "views": []
    },
    "94c77ff3be764f53abde32c76cf09f69": {
     "views": []
    },
    "94c849189811424984a3df8776221a2f": {
     "views": []
    },
    "954e259f4a584c51bfc281acf72ed9d3": {
     "views": []
    },
    "9564e344dd99499199c701991c780536": {
     "views": []
    },
    "957725d0d2c2469ab32e141c1e072ba8": {
     "views": []
    },
    "959777dec3c641139270255fe0abb64a": {
     "views": []
    },
    "95ac7ccf49f4482b844f97503a193143": {
     "views": []
    },
    "9604ea2a1546463ead5aef16c3ad33f0": {
     "views": []
    },
    "96a680fb232846e89104714a2e374443": {
     "views": []
    },
    "96a9820797b147fbb039d672c6101a0e": {
     "views": []
    },
    "972a06eb255b476d896602c881e5f491": {
     "views": []
    },
    "9788e28221b849e0a66437807888b443": {
     "views": []
    },
    "97ce377c194344cea4010b95cef89d22": {
     "views": []
    },
    "98cc304dd2974980b8e8a7424dbeaf20": {
     "views": []
    },
    "98f6b335ad27497abb2b5ad5c952e198": {
     "views": []
    },
    "99006724ec8b4c90a1c83cb3b1f4719a": {
     "views": []
    },
    "992bc1aeea9b41acbd38dd9f6abedfc4": {
     "views": []
    },
    "999ee91841144f839b84f1d21a78da38": {
     "views": []
    },
    "99b486250e994350b1a59bcf723da684": {
     "views": [
      {
       "cell_index": 12
      }
     ]
    },
    "99cb0f96bd0e4c16bb745bc211b63c64": {
     "views": []
    },
    "99eca2d12a7e4432a8158e35b5f93117": {
     "views": []
    },
    "9a12128d13374a3193c8a67d9a593583": {
     "views": []
    },
    "9a2578d5018d4670bacdb7a8e0bc4a4b": {
     "views": []
    },
    "9a6ac6e85a57485db214b068d14cbf55": {
     "views": []
    },
    "9a9bc890d74a45eeb13998e667c6274a": {
     "views": []
    },
    "9ad06d6c9837492296615e32c0441ab0": {
     "views": []
    },
    "9bc11abbc9314bdd9f8befb568ad911c": {
     "views": []
    },
    "9c2d953a6ada453f852ce6a4b3d45912": {
     "views": []
    },
    "9ccf316f4bf244e2bb513404e6760f4d": {
     "views": []
    },
    "9d42979808384a7e8f27d3c1087e3af6": {
     "views": []
    },
    "9e4ce68ae1ce4ce6a500893b58ebc99b": {
     "views": []
    },
    "9e6b37fd50f24c2e844e4d3c376ce6b5": {
     "views": [
      {
       "cell_index": 12
      }
     ]
    },
    "9ec446e5e6bb4a41b971cad4bd7d2455": {
     "views": []
    },
    "9fb841e9ce114403a1505d22000b5cfe": {
     "views": []
    },
    "9fbe80b646a0411e97f28e1a0c40b4a1": {
     "views": []
    },
    "9ff51ecc38084fc0a9698281d9379a56": {
     "views": []
    },
    "a01f574985e746f38cb1d49a4295ca24": {
     "views": []
    },
    "a06ab99e3f184024b94ac6cb4f662158": {
     "views": []
    },
    "a087ca4f08844ca4932b5ac79799e683": {
     "views": []
    },
    "a095da613b5240a3886d38eaeeff08ca": {
     "views": []
    },
    "a0cca0959e6847159b1c75651f947e95": {
     "views": []
    },
    "a0f3cb3919054accb57008b0a70bfeb9": {
     "views": []
    },
    "a1d0d8294cb3443da818ee21a97af2d7": {
     "views": []
    },
    "a2035b7112cf48418a74c112cc1fc37b": {
     "views": [
      {
       "cell_index": 11
      }
     ]
    },
    "a2dc820694934747ba822024ef2c707c": {
     "views": [
      {
       "cell_index": 15
      }
     ]
    },
    "a3c6ff2917fd48b2b13854da57bbe0b9": {
     "views": []
    },
    "a43c882fcb0c4be6b2415bc10fadd05f": {
     "views": []
    },
    "a4d6f22d50d342d49503650ab39f235b": {
     "views": []
    },
    "a55ccd057aca45049328a498b6afaf55": {
     "views": []
    },
    "a55f0620a6d940d7bb3186123efc4305": {
     "views": [
      {
       "cell_index": 12
      }
     ]
    },
    "a5bc944ebfe74392a56f6bbc4742edae": {
     "views": []
    },
    "a600e415a4b04d5cb23ed3184acaa3ae": {
     "views": [
      {
       "cell_index": 8
      }
     ]
    },
    "a674294fbc394a71abc0447b072123b1": {
     "views": []
    },
    "a68026ce715546bfa093c8f6ac7c27cd": {
     "views": []
    },
    "a686be006fbd430f81dcbc43be6a4060": {
     "views": []
    },
    "a6aebe0f1b014f4e8000870eb006440d": {
     "views": []
    },
    "a6e58caa33fe42969a6032cc5f4e9f25": {
     "views": []
    },
    "a76cd8e615e44312ae7f0c9ce33d6757": {
     "views": []
    },
    "a774e2db20f147aa9b87bcd999998cd8": {
     "views": []
    },
    "a7a6363516f24586a1bcd039ff552792": {
     "views": []
    },
    "a7b250583b5b42b39813ef0c3cb2ce65": {
     "views": []
    },
    "a86e964305284fdfb1befd5ada668e92": {
     "views": [
      {
       "cell_index": 13
      }
     ]
    },
    "a8c67d160a48407ca39d19c98d325ee5": {
     "views": []
    },
    "a97f6f9672c54d398829e58e71d06a5e": {
     "views": []
    },
    "a9d30181f4f4413d91ac36296696418e": {
     "views": []
    },
    "a9d67aa9cb0244f18623bb37f610d3d9": {
     "views": []
    },
    "aa3f4e4c554747ca8adc83a933821b0b": {
     "views": []
    },
    "aa76dfae8ab8410d90b36c84acf12334": {
     "views": []
    },
    "aaa419c8d506487fba186b12c7b1b3d5": {
     "views": [
      {
       "cell_index": 12
      }
     ]
    },
    "aad0174a144140c0aa9feda28bd4247b": {
     "views": []
    },
    "ab0bf0ff676846ce813926fc4dc3b45f": {
     "views": [
      {
       "cell_index": 8
      }
     ]
    },
    "ab32758fe33e42e996a021586ec4de2d": {
     "views": []
    },
    "abb521a8f52e4951a97f0811b38cf915": {
     "views": []
    },
    "abd88cb3b65e48ac8a8dabc434f90fa2": {
     "views": []
    },
    "abfd91ba9e2443608776ca8469e23b6c": {
     "views": []
    },
    "ac09a03baa8349b48df2e933e9bd0426": {
     "views": [
      {
       "cell_index": 12
      }
     ]
    },
    "ac13676f901f4c33a3f56f7b81af0e69": {
     "views": []
    },
    "accd5609249a4e3cb67e4a16b57cbc5c": {
     "views": []
    },
    "ad792309c64a4587a7a0d013ad5aff90": {
     "views": []
    },
    "ada197835a6a4faaa614ddcbaefd10f2": {
     "views": []
    },
    "ae664d690601447aac48c8e1c2dd7c8b": {
     "views": []
    },
    "af22985f0ffc42a894f978df535407e0": {
     "views": [
      {
       "cell_index": 15
      }
     ]
    },
    "af4cccf5592d4747a732baf17fca1200": {
     "views": []
    },
    "afadad2ff5104990a04ad2a2fffdb9a3": {
     "views": []
    },
    "afd199be815e451db39b1eab158a5188": {
     "views": []
    },
    "b00c251feb054170bead6d0b6817aec2": {
     "views": []
    },
    "b08bdec251c242818fdbc71793322bb0": {
     "views": []
    },
    "b0a237271d604833ac364b7858a7bb36": {
     "views": []
    },
    "b0b23063f6774e538924950aa7ff7753": {
     "views": [
      {
       "cell_index": 10
      }
     ]
    },
    "b0de8fe1bec441dc93773245df991a4c": {
     "views": []
    },
    "b0e3e9ce87854af6bf77f73bc0e9cc3b": {
     "views": []
    },
    "b16d2fb5c2ba41848d84a2b8b59b2dfa": {
     "views": []
    },
    "b18b42102a4e4d1cb773da2c37cacfe4": {
     "views": []
    },
    "b1a744d2477d4836a25ad8571d86b085": {
     "views": []
    },
    "b1ed30c2d26e41ff99fc35a017788e8d": {
     "views": []
    },
    "b2a6fc32ca3b4384bdb130606e740ce7": {
     "views": [
      {
       "cell_index": 8
      }
     ]
    },
    "b2d0966d83e947358b5bfc65ebb0b6d9": {
     "views": []
    },
    "b317888e6e504dd49a32245289e8d646": {
     "views": []
    },
    "b31dfebf48e14fe5b48590442b667c13": {
     "views": []
    },
    "b3adc9dfad254bc5b93633806f698dbf": {
     "views": []
    },
    "b4a55792ca004d51b44ecb808de374e4": {
     "views": []
    },
    "b5519514160a46cc8c33e8f0516ed6e9": {
     "views": []
    },
    "b574069f2e8947fd91e1e92a49a23bb7": {
     "views": []
    },
    "b5d7c489ff5d4c22b46a4415a8511a7c": {
     "views": []
    },
    "b6bafc9d8a6d45ef91b6c2fe5112937e": {
     "views": []
    },
    "b6d7ed6767874a2d8bdd914e1bc865a1": {
     "views": []
    },
    "b7521d7e41064bf5b229598bc3fca0e8": {
     "views": []
    },
    "b9a08b3ae3db4accb78f52e6bac836db": {
     "views": []
    },
    "ba3f085f4e204baba4145e0b7395c285": {
     "views": []
    },
    "bb2424617bb8471fa95ea47c4395c5b7": {
     "views": []
    },
    "bb7e374261c14718986f4ecfda2b5043": {
     "views": []
    },
    "bbd16a6163354b5181df73cfdfdc6117": {
     "views": [
      {
       "cell_index": 12
      }
     ]
    },
    "bbfd9b7902e04ed2a4482c70ff6908a9": {
     "views": [
      {
       "cell_index": 12
      }
     ]
    },
    "bc4b13f0f75b49e6990593847629b687": {
     "views": []
    },
    "bc56cbcdd69b4324b6d9aef46bf0af8e": {
     "views": []
    },
    "bca81ca0316a4cefaaeab087c72ac61a": {
     "views": []
    },
    "bdb9a7b11a234e069278b93be39b9d61": {
     "views": []
    },
    "be7198c2b891471a8a9981b5c3cd6957": {
     "views": []
    },
    "be926b6a2fb94bc08dc3ada2e57a8672": {
     "views": []
    },
    "becc755a6a474be1ab4c18cc0c52154a": {
     "views": []
    },
    "bf7f6bcd8342494a8bb48e665bc57bbf": {
     "views": []
    },
    "c00c76449a264a6ca01bcb759754d85a": {
     "views": []
    },
    "c044bda8eb9c4a68b47492a2186844a2": {
     "views": []
    },
    "c06ee7f075ef4aa79f405d7cdb7e1295": {
     "views": []
    },
    "c24ae5585143470995ccd8c8897093b6": {
     "views": []
    },
    "c2f757c5dca040758b236ff105196134": {
     "views": []
    },
    "c33f081f54764052ae9b945b1ffa7eb2": {
     "views": [
      {
       "cell_index": 8
      }
     ]
    },
    "c39d7228894b4e61b8acbca4a94d33ac": {
     "views": []
    },
    "c411626383cb4201a3a14c772c614c6c": {
     "views": []
    },
    "c4902386486e4ea1a8609625e7a6fbc2": {
     "views": []
    },
    "c527287b29e5452ab35eb18b54eed970": {
     "views": []
    },
    "c53b62b041b64d14a59742b4bd5d1805": {
     "views": []
    },
    "c54eb729678948369a64a7e926468bef": {
     "views": []
    },
    "c5bff44b19d34327b7900b84873527eb": {
     "views": []
    },
    "c5d175f9f98d4fea8fec50d79ebd0587": {
     "views": []
    },
    "c5e0bc1fb1974a0d8b9ce67de89cccaa": {
     "views": [
      {
       "cell_index": 8
      }
     ]
    },
    "c60311f6dae3465a8eb75fcb06adcf6b": {
     "views": []
    },
    "c66824004c10407ba18bb7d2701e787b": {
     "views": [
      {
       "cell_index": 10
      }
     ]
    },
    "c694de2b84fc493481cd41d776117d01": {
     "views": []
    },
    "c719125e742f483d8155a4d2935ba310": {
     "views": []
    },
    "c7505fb184394abf97c75d07f3a2ff1e": {
     "views": []
    },
    "c79c56107696414e92f9f160a8ee8ab3": {
     "views": []
    },
    "c8bb3070fb6d461dae79e0d1e5bd2248": {
     "views": []
    },
    "c8f0026e54e24702b7e61383167de943": {
     "views": []
    },
    "c9a6dc979a6e46a2ac3198f502b53179": {
     "views": []
    },
    "c9c72931f5e744ee8fbb8dc2e2ee003b": {
     "views": []
    },
    "caa2ed96b6aa46da8f94820466eead9c": {
     "views": []
    },
    "cb0114c3efec4b7f8d3692028ffca285": {
     "views": []
    },
    "cb19afe2feaf4bb0b89fccc70e0b064f": {
     "views": []
    },
    "cb3d4a77ca3f422db80e1d4d1f14bc4e": {
     "views": []
    },
    "cb589dc3855844deb91ec7e7f84f1194": {
     "views": []
    },
    "cb59ff6ce97c493c9c09a8e218098026": {
     "views": []
    },
    "cb77cd8c6b6d4369bc0fdcd5c9afdbd1": {
     "views": [
      {
       "cell_index": 12
      }
     ]
    },
    "cb9085e482ec40e8893c35a298f928a6": {
     "views": []
    },
    "cbc144029e794b7ab65a1b4eedda864a": {
     "views": []
    },
    "cbf81ca415e04078aa46188af54cc6be": {
     "views": [
      {
       "cell_index": 10
      }
     ]
    },
    "cc1cee8a7ba6426384fe0e48e701b7d4": {
     "views": []
    },
    "cc482773794740eb983a835520e3526e": {
     "views": []
    },
    "cd1ddf3af6ec4199a96d60195537cfe6": {
     "views": []
    },
    "cd60e6c9231247d6998f48c5526e0c75": {
     "views": []
    },
    "ce23073cf78f4b86b400821bafa01f63": {
     "views": [
      {
       "cell_index": 12
      }
     ]
    },
    "ce6ab6bff010424086cc30f4988d2042": {
     "views": []
    },
    "ce94be3fbbfb4d349c0e88e6bd509543": {
     "views": [
      {
       "cell_index": 12
      }
     ]
    },
    "cf77abd71e5d4a9696350e2b194924c8": {
     "views": []
    },
    "d0a79de48baa44b7a981ceb50edea00e": {
     "views": []
    },
    "d0af3bbf12f74999ade28b13b65f3729": {
     "views": []
    },
    "d0e20d33d6a041dd9aef40a1174964c1": {
     "views": []
    },
    "d17d3013ee194654a02b90f83ba52e82": {
     "views": []
    },
    "d1bd84f1494541239c864db746a913e2": {
     "views": [
      {
       "cell_index": 10
      }
     ]
    },
    "d1dfa880b13d4a8da4768f81a9ab4581": {
     "views": [
      {
       "cell_index": 12
      }
     ]
    },
    "d233587e3fa141f69c7237c983db9920": {
     "views": []
    },
    "d313ac1500084785b0e46dbffccfe41d": {
     "views": []
    },
    "d3357c1df5904941a1a55b26749bd615": {
     "views": []
    },
    "d34d34afcb5a46d987a5de38ff2bceb6": {
     "views": []
    },
    "d3532c9b00b74ed2b884c8af091918a3": {
     "views": []
    },
    "d365825701c04ca3b2c3fb6b11d69f8e": {
     "views": []
    },
    "d3affe8eeffc401da3f6e6edc76f8bc7": {
     "views": []
    },
    "d404c8a8a76b45d6a79ed4ed0bbb254c": {
     "views": [
      {
       "cell_index": 12
      }
     ]
    },
    "d40deda45ee84cb7bf8a9add75bb6caa": {
     "views": []
    },
    "d442de244ac340cf8fff1ff4bf2cbf3a": {
     "views": []
    },
    "d474619ebea94e4ea01a92b16cd51587": {
     "views": []
    },
    "d4f7d0edd4f944059e9402cf66ea4bbe": {
     "views": []
    },
    "d5e094acf1ff46e29af67142b961bce8": {
     "views": [
      {
       "cell_index": 15
      }
     ]
    },
    "d68a1b1759ca4e64a46b82452b2ebaee": {
     "views": []
    },
    "d6cef5678dde4427b5268ff98849299f": {
     "views": []
    },
    "d7448e44e91440189fb27b309436922a": {
     "views": []
    },
    "d7542338d6054d42a27b5c62dd2aa831": {
     "views": []
    },
    "d7f113b196ad4dc28c89b7f84f02b394": {
     "views": []
    },
    "d7f2bdf5dc184539b4e24d0149cca271": {
     "views": []
    },
    "d81ad62ca7e547cf84a8a875b0874139": {
     "views": []
    },
    "d8796bd86fb1441185b6407ad0741bc2": {
     "views": []
    },
    "d8807e214e534e71b67fee4adda60507": {
     "views": []
    },
    "d881ab969c9d4f21859d7c0afc8da895": {
     "views": [
      {
       "cell_index": 13
      }
     ]
    },
    "d8aa1e6ba05c40e4928587d7b05a39c0": {
     "views": []
    },
    "d90ab837a25f4e5f82a1e35dd015922c": {
     "views": [
      {
       "cell_index": 12
      }
     ]
    },
    "d9128da1aa4a4ae2aa6987bcb97c872c": {
     "views": []
    },
    "d98e845c87bd448ca8ae12e19851b64f": {
     "views": []
    },
    "db28de0b89df4f319dbea1792b3f9e88": {
     "views": []
    },
    "db748fbbf29f4c4ea854238478c3bf51": {
     "views": []
    },
    "dbac23e7c7d94bea90a8d084361f6330": {
     "views": []
    },
    "dbb8eaa697c24512a8705df5dc714c7c": {
     "views": []
    },
    "dbe0fe4d92c244a58a78f4172d84635f": {
     "views": []
    },
    "dc39b151e8c2426392abe09ff7975fb4": {
     "views": []
    },
    "dca9635442ef4564b5f0151a28a9097f": {
     "views": []
    },
    "dccce9e7deba4b87a97177557bb2922e": {
     "views": []
    },
    "dd74a7c4e4004fef8399cc6b60233141": {
     "views": []
    },
    "de1f167bbf954d7a8f8935c8361572b6": {
     "views": []
    },
    "ded1e91fcb7b4745b8b8fa40b36ed067": {
     "views": []
    },
    "deedbd8a391e44cd8bc007078fe7116a": {
     "views": []
    },
    "df503ed15dab48099c8761817712d215": {
     "views": []
    },
    "df69bf2cf6534214a572f9305ddf71ff": {
     "views": []
    },
    "e007bd7273fe4d8092066270cc07257a": {
     "views": []
    },
    "e01bfecdd74f450989ed65bd1058b80f": {
     "views": [
      {
       "cell_index": 12
      }
     ]
    },
    "e04354c5536440df983917f2cee9ad9b": {
     "views": []
    },
    "e04e9700675e4d1fa89674d59d1066ff": {
     "views": [
      {
       "cell_index": 12
      }
     ]
    },
    "e107bc29063d47f496c513dbb02fc261": {
     "views": []
    },
    "e130da79fa90441d9ebad11e03dffedb": {
     "views": [
      {
       "cell_index": 11
      }
     ]
    },
    "e23ffc8e1238484c8a681110f3f46c79": {
     "views": []
    },
    "e2765d5c46f1414c8f87588a50a54007": {
     "views": []
    },
    "e337fa997caa4b008c7588546f93b9a8": {
     "views": []
    },
    "e3564ddf3b8241d1a32092ed0c4b0b4d": {
     "views": []
    },
    "e3b30f221b7f4c97a3f7f810ab8f428a": {
     "views": []
    },
    "e3cebbe983534717a6f7816293a29bb2": {
     "views": [
      {
       "cell_index": 12
      }
     ]
    },
    "e41d16c6a26643959c9d788e66404c66": {
     "views": [
      {
       "cell_index": 13
      }
     ]
    },
    "e44156d301784432a12dd4ccd2f54b9d": {
     "views": [
      {
       "cell_index": 11
      }
     ]
    },
    "e4a6f48124814f5a9c5b11c235fe66c6": {
     "views": []
    },
    "e4c0092dc15a4955ab639484e85fe9bd": {
     "views": []
    },
    "e5067b834c5f44f1b50272f534b92278": {
     "views": []
    },
    "e5bb35dbb0594877ad7b7df82a3bef77": {
     "views": []
    },
    "e5f73bc485af45f7a9d9e7ce19dafdaa": {
     "views": []
    },
    "e6e0216cee844bd487a85a229358fbeb": {
     "views": []
    },
    "e6ff34b01d2b4e4aad6bd55210030d91": {
     "views": []
    },
    "e70364833c164b4297f66a3e31065f85": {
     "views": []
    },
    "e70bbf4beb5b479abc225f82ec20cccb": {
     "views": []
    },
    "e71a90e591a54378bef942930400f846": {
     "views": []
    },
    "e736af0e618d4643b7e389939e647959": {
     "views": []
    },
    "e7cd51fa6a034b3e9523850d2add0ee9": {
     "views": [
      {
       "cell_index": 10
      }
     ]
    },
    "e7d7013265904b6f8d2cc06b73ac5447": {
     "views": []
    },
    "e7ecf298f3b741d692fa7fb6790e1f76": {
     "views": []
    },
    "e87f26e2c94f46bfbf1e1793846469be": {
     "views": []
    },
    "e8d5bee6776042dd8fc6874bf9d82b75": {
     "views": []
    },
    "e8e2d5eb0d7e42b1b38c292d515fe745": {
     "views": []
    },
    "e8e97d32405d456094f5a52e8be192e3": {
     "views": []
    },
    "ea3e43b6590347fbbeabe3bdb4c6e553": {
     "views": []
    },
    "ea67e3a3188b4e8d92faf599fc101c43": {
     "views": []
    },
    "ea6dc8724dfa4c3e85917a2719feaf2d": {
     "views": []
    },
    "ebccdb56a6484dc38617df0f756c533d": {
     "views": []
    },
    "ec3958c39cea4d35b56170cc4b0377c3": {
     "views": []
    },
    "ec9ef24aabe9410690e5e09238fee4b6": {
     "views": [
      {
       "cell_index": 13
      }
     ]
    },
    "ece29557e06f4c76a8004dcf8258baca": {
     "views": []
    },
    "ed5ac24043644475babf1b0bc9f1e9fe": {
     "views": []
    },
    "eda86780f7974e578fe8ebf4d46f0b29": {
     "views": []
    },
    "ee1bd6f0281a413f8f60ff64baae9e4a": {
     "views": []
    },
    "ee1e052f6d0b408b8d3177a50d092806": {
     "views": []
    },
    "eeea98fd090f4d54a39429b5152f7018": {
     "views": []
    },
    "ef9c1dff14e04dd6a855501e2ec22e2a": {
     "views": []
    },
    "efb7781daef34417be92789b4ea9eb90": {
     "views": []
    },
    "f02d8ff2f8d640fabe70a0f4c4ce9672": {
     "views": []
    },
    "f0603694af0945ddba6ff81fc0255f18": {
     "views": []
    },
    "f0aff090633c43e89a674b9ccf16a4d6": {
     "views": []
    },
    "f1e06fdff61246aaaac436d5c3a29b3b": {
     "views": []
    },
    "f24d1fdf80d548549b237453c7face8a": {
     "views": []
    },
    "f25269aaad3d456796c97d463c320a6e": {
     "views": []
    },
    "f3156a1a18f145f180845f3433f4729f": {
     "views": []
    },
    "f3498cdaa7ad4687bf0eec7999d3528c": {
     "views": [
      {
       "cell_index": 15
      }
     ]
    },
    "f38bfd7f4e6b4c3ea74d4014ec6dbde6": {
     "views": [
      {
       "cell_index": 12
      }
     ]
    },
    "f3a5b7dc68ac4ee085f0db02f11c2ab2": {
     "views": [
      {
       "cell_index": 11
      }
     ]
    },
    "f3d6c268a95749e0a81a60d0caa5044b": {
     "views": []
    },
    "f3e28f6b6c794d11a3b320dbcb4093dd": {
     "views": []
    },
    "f3f08a150ed943079709e77fe75439dd": {
     "views": []
    },
    "f415fdc051a544deb2c86cd6e8aac21d": {
     "views": []
    },
    "f4bb552b557e472d8e12a175d381a020": {
     "views": []
    },
    "f4edaaaea47b40af86bc4a7bf67109a5": {
     "views": []
    },
    "f51bc76d4b544409a4b4621ef2718635": {
     "views": []
    },
    "f53122dfa26b4187b37e052dfd13a93f": {
     "views": []
    },
    "f6131f292f584da3a8562dc8cfb954bd": {
     "views": []
    },
    "f64842157f7443bbae96325f1aed89d6": {
     "views": []
    },
    "f65850b6016e4ede9e47a1b9ab4cd0ba": {
     "views": []
    },
    "f6781d2a0a8c430783f4d206678e18ff": {
     "views": []
    },
    "f6df4cb1aef7450b8c03bcc5b4c15a4e": {
     "views": [
      {
       "cell_index": 11
      }
     ]
    },
    "f7f723f9ab7447acacc514e6b5185d03": {
     "views": []
    },
    "f80decd2c39c485085a6e046af37185d": {
     "views": []
    },
    "f84f9e6a276a4d4f83d68b0ca6003de8": {
     "views": []
    },
    "f871419218814988bbbbd70dc8341138": {
     "views": [
      {
       "cell_index": 12
      }
     ]
    },
    "f89199ad6563493bb76abe139a8e3317": {
     "views": []
    },
    "f8b0bd4115e044dd86a966572c91675a": {
     "views": []
    },
    "f969efad48e84fc095ea74489b2d5b01": {
     "views": [
      {
       "cell_index": 12
      }
     ]
    },
    "f9c1010ba9fb4735b38afa5a0d58cf22": {
     "views": []
    },
    "f9d67ec264754c1190088f6f9fb9af34": {
     "views": [
      {
       "cell_index": 15
      }
     ]
    },
    "fbac7d6a913b46e0a6303c94dcc9f07c": {
     "views": []
    },
    "fbbbd034e44d455eb27a330ff2d9dafb": {
     "views": []
    },
    "fbbbeb4058b941068a38ebb7e5ef30aa": {
     "views": []
    },
    "fbc3486cbcca4308aecb43a4ca5f9e80": {
     "views": []
    },
    "fce74ad7e0eb451fbcd1b7df14179a4c": {
     "views": []
    },
    "fd0dd02d67cf4541bdbb9ffb731ebc04": {
     "views": []
    },
    "feaeccd669a64606a2324ca80ced542e": {
     "views": []
    },
    "ff0ec5e098f541418781641bbc249da7": {
     "views": []
    },
    "ffdeacd46814481ebe90eb370fd206c4": {
     "views": []
    },
    "ffe810027b9e49c0b9dcefc0dcfc5a9f": {
     "views": []
    }
   },
   "version": "1.1.2"
  }
 },
 "nbformat": 4,
 "nbformat_minor": 0
}
