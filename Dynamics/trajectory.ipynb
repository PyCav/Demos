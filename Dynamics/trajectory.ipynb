{
 "cells": [
  {
   "cell_type": "markdown",
   "metadata": {},
   "source": [
    "# Trajectory of a spinning ball\n",
    "\n",
    "Forces which will be experienced:\n",
    "\n",
    "Gravity: $$ \\mathbf{F}_G = m\\mathbf{g} $$\n",
    "\n",
    "Air Resistance: $$ \\mathbf{F}_D = -\\frac{1}{2}\\rho C_D A v^2 \\ \\hat{\\mathbf{v}} $$\n",
    "\n",
    "Magnus effect: $$ \\mathbf{F}_M = S(\\boldsymbol{\\omega} \\times \\mathbf{v}) $$\n",
    "\n",
    "Where:\n",
    "\n",
    "$m$ - mass of the ball\n",
    "\n",
    "$g$ - gravitational field the ball is moving in\n",
    "\n",
    "$\\rho$ - density of the fluid the ball is travelling through\n",
    "\n",
    "$C_D$ - drag coefficient \n",
    "\n",
    "$A$ - cross sectional area of ball\n",
    "\n",
    "$v$ - velocity of the ball\n",
    "\n",
    "$S$ - air resistance coefficient across the surface of the object\n",
    "\n",
    "$\\omega$ - angular velocity of the ball\n",
    "\n",
    "If we assume the ball is a baseball and is travelling through air then we can assume the following values, [see here](http://physics.wooster.edu/JrIS/Files/nowicki.pdf):\n",
    "\n",
    "$m$ = 0.145 kg\n",
    "\n",
    "$\\rho$ = 1.29 kg/m$^3$\n",
    "\n",
    "$C_D$ = 0.29\n",
    "\n",
    "$A$ = 0.25 x $\\pi$ x 7.32 cm$^2$\n",
    "\n",
    "$S/m$ = 4.1 x 10$^{-4}$\n",
    "\n"
   ]
  },
  {
   "cell_type": "code",
   "execution_count": 10,
   "metadata": {
    "collapsed": false
   },
   "outputs": [],
   "source": [
    "import numpy as np\n",
    "from scipy.integrate import odeint\n",
    "\n",
    "import matplotlib.pyplot as plt\n",
    "%matplotlib inline\n",
    "\n",
    "# mass\n",
    "m = 0.145                   # kg\n",
    "\n",
    "# gravitational field\n",
    "g = np.array([0.,0.,-9.81]) # N/kg\n",
    "\n",
    "# density of fluid\n",
    "rho = 1.29                  # kg/m^3\n",
    "\n",
    "# Drag coefficient\n",
    "C_D = 0.29\n",
    "\n",
    "# A\n",
    "A = 0.25*np.pi*0.0732**2    # m^2\n",
    "\n",
    "# air resistance coefficient / mass\n",
    "S_m = 4.1*10**-4\n",
    "\n",
    "\n",
    "# Initial position\n",
    "r_0 = np.array([0.,0.,2.])\n",
    "# Inital velocity\n",
    "v_0 = np.array([30.,0.,2.])\n",
    "# Spin axis angles of orientation\n",
    "theta = np.pi/2.\n",
    "phi = np.pi/2.\n",
    "# Angular velocity\n",
    "revs = -150\n",
    "w = revs*np.array([np.sin(theta)*np.cos(phi),np.sin(theta)*np.sin(phi),np.cos(theta)])"
   ]
  },
  {
   "cell_type": "code",
   "execution_count": 11,
   "metadata": {
    "collapsed": false
   },
   "outputs": [],
   "source": [
    "def suvat_z_zero():\n",
    "    return (-v_0[2]-np.sqrt(v_0[2]**2-2*r_0[2]*g[2]))/(g[2])\n",
    "\n",
    "def magnus_force(v):\n",
    "    return m*S_m*np.cross(w,v)\n",
    "\n",
    "def drag_force(v):\n",
    "    return -0.5*rho*C_D*A*v**2\n",
    "\n",
    "def grav_force():\n",
    "    return m*g\n",
    "\n",
    "def derivatives(q,t):\n",
    "    v_x,v_y,v_z,x,y,z = q\n",
    "    v = np.array([v_x,v_y,v_z])\n",
    "    F = grav_force()+drag_force(v)+magnus_force(v)\n",
    "    dqdt = [F[0]/m,F[1]/m,F[2]/m,v_x,v_y,v_z]\n",
    "    return dqdt\n",
    "\n",
    "q0 = [v_0[0],v_0[1],v_0[2],r_0[0],r_0[1],r_0[2]]\n",
    "t = np.linspace(0.,suvat_z_zero(),500)\n",
    "\n",
    "sol = odeint(derivatives,q0,t)"
   ]
  },
  {
   "cell_type": "markdown",
   "metadata": {},
   "source": [
    "## Plotting the motion of the ball\n",
    "\n",
    "Plotting the motion of the ball under gravity in red and the motion with air resistance and the Magnus effect included in blue"
   ]
  },
  {
   "cell_type": "code",
   "execution_count": 12,
   "metadata": {
    "collapsed": false
   },
   "outputs": [
    {
     "data": {
      "image/png": "[encoded data removed]",
      "text/plain": [
       "<matplotlib.figure.Figure at 0x225be914fd0>"
      ]
     },
     "metadata": {},
     "output_type": "display_data"
    }
   ],
   "source": [
    "fig = plt.figure(figsize = (18,8))\n",
    "ax = fig.add_subplot(111)\n",
    "\n",
    "ax.plot(sol[:,3],sol[:,5],'b')\n",
    "ax.plot(v_0[0]*t,2+v_0[2]*t+0.5*g[2]*t**2,'r',alpha = 0.5)\n",
    "ax.set_ylim(bottom=0)\n",
    "ax.set_ylabel('z / m', fontsize = 15)\n",
    "ax.set_xlabel('x / m', fontsize = 15);"
   ]
  },
  {
   "cell_type": "code",
   "execution_count": null,
   "metadata": {
    "collapsed": true
   },
   "outputs": [],
   "source": []
  }
 ],
 "metadata": {
  "anaconda-cloud": {},
  "kernelspec": {
   "display_name": "Python [default]",
   "language": "python",
   "name": "python3"
  },
  "language_info": {
   "codemirror_mode": {
    "name": "ipython",
    "version": 3
   },
   "file_extension": ".py",
   "mimetype": "text/x-python",
   "name": "python",
   "nbconvert_exporter": "python",
   "pygments_lexer": "ipython3",
   "version": "3.5.2"
  }
 },
 "nbformat": 4,
 "nbformat_minor": 0
}
