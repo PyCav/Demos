{
 "cells": [
  {
   "cell_type": "markdown",
   "metadata": {},
   "source": [
    "# Solving the 1D time-dependent Non-Linear Schrodinger equation using the split-step method\n",
    "\n",
    "Writing the Non-Linear Schrodinger equation in the form:\n",
    "\\begin{equation}\n",
    "    \\frac{\\partial \\psi}{\\partial t} = i\\mathcal{L}\\psi+i\\mathcal{N}\\psi\n",
    "\\end{equation}\n",
    "Where:\n",
    "\\begin{equation}\n",
    "    \\mathcal{L} = -\\frac{1}{2}\\frac{\\partial^2}{\\partial x^2}, \\ \\ \\ \\ \\ \\mathcal{N} = -V(x)+\\kappa \\ |\\psi(x,t)|^2\n",
    "\\end{equation}\n",
    "\n",
    "We have now included a term which couples the wavefunction evolution to its probability density at that point, through the coupling $\\kappa$. This equation can be used to describe non-linearity in fiber optics and Bose-Einstein condensation when a potential $V(x)$ is included.\n",
    "\n",
    "For an outline of the split-step Fourier method see the [previous notebook](split_step_schrodinger.ipynb)\n"
   ]
  },
  {
   "cell_type": "code",
   "execution_count": null,
   "metadata": {
    "collapsed": false
   },
   "outputs": [],
   "source": [
    "import pycav.display as display\n"
   ]
  },
  {
   "cell_type": "markdown",
   "metadata": {},
   "source": [
    "## Example Animation\n",
    "\n",
    "Gaussian wavefunction placed off centre in a harmonic potential well. Two animations below, the first included the non-linear term and the second without it i.e. the solution for the linear Schrodinger equation."
   ]
  },
  {
   "cell_type": "code",
   "execution_count": null,
   "metadata": {
    "collapsed": false
   },
   "outputs": [],
   "source": [
    "display.display_animation('nonlinwell.mp4')"
   ]
  },
  {
   "cell_type": "code",
   "execution_count": null,
   "metadata": {
    "collapsed": false
   },
   "outputs": [],
   "source": [
    "display.display_animation('linwell.mp4')"
   ]
  },
  {
   "cell_type": "markdown",
   "metadata": {},
   "source": [
    "## Below is the code used to produce this animation\n",
    "\n",
    "The potential now is a function of position, x, and wavefunction, psi. Below is a defined example"
   ]
  },
  {
   "cell_type": "code",
   "execution_count": null,
   "metadata": {
    "collapsed": false
   },
   "outputs": [],
   "source": [
    "import numpy as np\n",
    "\n",
    "import pycav.pde as pde\n",
    "import matplotlib.pyplot as plt\n",
    "import matplotlib.animation as anim\n",
    "\n",
    "def oneD_gaussian(x,mean,std,k0):\n",
    "    return np.exp(-((x-mean)**2)/(2*std**2)+ 1j*x*k0)/np.sqrt(2*np.pi*std**2)\n",
    "\n",
    "def V(x,psi):\n",
    "    V_x = np.zeros_like(x)\n",
    "    V_x = -150.*np.absolute(psi)**2+0.05*x**2\n",
    "    return V_x"
   ]
  },
  {
   "cell_type": "markdown",
   "metadata": {},
   "source": [
    "We must define the spatial domain as well as the time step size and number of steps. Then the initial wavefunction is passed to the split step algorithm. The optional argument, non_linear, must be set to True so that the algorithm knows V is to be both a function of $x$ and $\\psi$"
   ]
  },
  {
   "cell_type": "code",
   "execution_count": null,
   "metadata": {
    "collapsed": false
   },
   "outputs": [],
   "source": [
    "N_x = 2**11\n",
    "dx = 0.05\n",
    "x = dx * (np.arange(N_x) - 0.5 * N_x)\n",
    "\n",
    "dt = 0.01\n",
    "N_t = 3000\n",
    "\n",
    "p0 = 1.5\n",
    "dp2 = p0 * p0 * 1./80\n",
    "d = 1. / np.sqrt(2 * dp2)\n",
    "\n",
    "psi_0 = oneD_gaussian(x,3.5*d,d,0.)\n",
    "\n",
    "psi_x,psi_k,k = pde.split_step_schrodinger(psi_0, dx, dt, V, N_t, x_0 = x[0], non_linear = True)"
   ]
  },
  {
   "cell_type": "markdown",
   "metadata": {},
   "source": [
    "The time evolution can then be animated showing the expected behaviour. The momentum space wavefunction can also be visualised (here shown in the second subplot)."
   ]
  },
  {
   "cell_type": "code",
   "execution_count": null,
   "metadata": {
    "collapsed": false,
    "scrolled": false
   },
   "outputs": [],
   "source": [
    "real_psi = np.real(psi_x)\n",
    "imag_psi = np.imag(psi_x)\n",
    "absl_psi = np.absolute(psi_x)\n",
    "abs_psik = np.absolute(psi_k)\n",
    "\n",
    "fig = plt.figure(figsize = (10,10))\n",
    "ax1 = plt.subplot(211)\n",
    "line1_R = ax1.plot(x,real_psi[:,0],'b')[0]\n",
    "line1_I = ax1.plot(x,imag_psi[:,0],'r')[0]\n",
    "line1_A = ax1.plot(x,absl_psi[:,0],'k')[0]\n",
    "line_V = ax1.plot(x,0.005*V(x,psi_x[:,0]),'k',alpha=0.5)[0]\n",
    "ax1.set_ylim((real_psi.min(),real_psi.max()))\n",
    "\n",
    "ax2 = plt.subplot(212)\n",
    "line2 = ax2.plot(k,abs_psik[:,1],'k')[0]\n",
    "ax2.set_ylim((abs_psik.min(),abs_psik.max()))\n",
    "\n",
    "def nextframe(arg):\n",
    "    line1_R.set_data(x,real_psi[:,10*arg])\n",
    "    line1_I.set_data(x,imag_psi[:,10*arg])\n",
    "    line1_A.set_data(x,absl_psi[:,10*arg])\n",
    "    line_V.set_data(x,0.005*V(x,psi_x[:,10*arg]))\n",
    "    line2.set_data(k,abs_psik[:,10*arg])\n",
    "    \n",
    "animate = anim.FuncAnimation(fig, nextframe, frames = int(N_t/10), interval = 50)\n",
    "animate = display.create_animation(animate,temp = True)\n",
    "display.display_animation(animate)"
   ]
  },
  {
   "cell_type": "code",
   "execution_count": null,
   "metadata": {
    "collapsed": true
   },
   "outputs": [],
   "source": []
  },
  {
   "cell_type": "code",
   "execution_count": null,
   "metadata": {
    "collapsed": true
   },
   "outputs": [],
   "source": []
  }
 ],
 "metadata": {
  "kernelspec": {
   "display_name": "Python 3",
   "language": "python",
   "name": "python3"
  },
  "language_info": {
   "codemirror_mode": {
    "name": "ipython",
    "version": 3
   },
   "file_extension": ".py",
   "mimetype": "text/x-python",
   "name": "python",
   "nbconvert_exporter": "python",
   "pygments_lexer": "ipython3",
   "version": "3.5.1"
  }
 },
 "nbformat": 4,
 "nbformat_minor": 0
}
