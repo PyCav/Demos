{
 "cells": [
  {
   "cell_type": "markdown",
   "metadata": {},
   "source": [
    "Orbits, with Vpython used to render the result, and ipywidgets used for interactivity.\n",
    "The first cell defines the classes used, which could be reused for other demonstrations, and the second cell defines the interactions."
   ]
  },
  {
   "cell_type": "code",
   "execution_count": 1,
   "metadata": {
    "collapsed": false
   },
   "outputs": [
    {
     "data": {
      "application/javascript": [
       "require.undef(\"nbextensions/jquery-ui.custom.min\");"
      ],
      "text/plain": [
       "<IPython.core.display.Javascript object>"
      ]
     },
     "metadata": {},
     "output_type": "display_data"
    },
    {
     "data": {
      "application/javascript": [
       "require.undef(\"nbextensions/glow.2.1.min\");"
      ],
      "text/plain": [
       "<IPython.core.display.Javascript object>"
      ]
     },
     "metadata": {},
     "output_type": "display_data"
    },
    {
     "data": {
      "application/javascript": [
       "require.undef(\"nbextensions/glowcomm\");"
      ],
      "text/plain": [
       "<IPython.core.display.Javascript object>"
      ]
     },
     "metadata": {},
     "output_type": "display_data"
    },
    {
     "data": {
      "application/javascript": [
       "require.undef(\"nbextensions/pako.min\");"
      ],
      "text/plain": [
       "<IPython.core.display.Javascript object>"
      ]
     },
     "metadata": {},
     "output_type": "display_data"
    },
    {
     "data": {
      "application/javascript": [
       "require.undef(\"nbextensions/pako_deflate.min\");"
      ],
      "text/plain": [
       "<IPython.core.display.Javascript object>"
      ]
     },
     "metadata": {},
     "output_type": "display_data"
    },
    {
     "data": {
      "application/javascript": [
       "require.undef(\"nbextensions/pako_inflate.min\");"
      ],
      "text/plain": [
       "<IPython.core.display.Javascript object>"
      ]
     },
     "metadata": {},
     "output_type": "display_data"
    },
    {
     "data": {
      "application/javascript": [
       "require([\"nbextensions/glowcomm\"], function(){console.log(\"glowcomm loaded\");})"
      ],
      "text/plain": [
       "<IPython.core.display.Javascript object>"
      ]
     },
     "metadata": {},
     "output_type": "display_data"
    },
    {
     "data": {
      "text/html": [
       "<div id=\"glowscript\" class=\"glowscript\"></div>"
      ],
      "text/plain": [
       "<IPython.core.display.HTML object>"
      ]
     },
     "metadata": {},
     "output_type": "display_data"
    },
    {
     "data": {
      "application/javascript": [
       "window.__context = { glowscript_container: $(\"#glowscript\").removeAttr(\"id\")}"
      ],
      "text/plain": [
       "<IPython.core.display.Javascript object>"
      ]
     },
     "metadata": {},
     "output_type": "display_data"
    }
   ],
   "source": [
    "# coding: utf-8\n",
    "from __future__ import division, print_function\n",
    "from ipywidgets import widgets\n",
    "from vpython import *\n",
    "import numpy as np\n",
    "import copy\n",
    "\n",
    "class PhysicsError (Exception):\n",
    "    \"\"\"\n",
    "    Error type defined for if two Particles get too close to simulate well\n",
    "    \"\"\"\n",
    "    def __init__(self, exception_type):\n",
    "        self.exception_type = exception_type\n",
    "    def __str__(self):\n",
    "        return repr(self.exception_type)\n",
    "\n",
    "class Particle(sphere):\n",
    "    \"\"\"\n",
    "    Class which describes a Particle under the influence of some force. Subclasses vpython sphere so drawing is no effort.\n",
    "    \"\"\"\n",
    "\n",
    "    G = 1\n",
    "    def __init__(self,pos = vector(0,0,0), velocity = vector(0,0,0), mass = 0.0, radius =0.0, color = color.red):\n",
    "        \"\"\"\n",
    "        Parameters\n",
    "        ----------\n",
    "        pos : vpython vector\n",
    "            Initial position of Particle\n",
    "        velocity : vpython vector\n",
    "            Initial velocity of Particle\n",
    "        mass: float\n",
    "            Mass of Particle (default = 0)\n",
    "        radius : float\n",
    "            Radius of Particle\n",
    "        color: vpython color\n",
    "            Color of particle\n",
    "        \"\"\"\n",
    "        sphere.__init__(self,pos = pos, velocity = velocity, radius = radius, make_trail = True, color = color)\n",
    "        self.velocity = velocity\n",
    "        self.mass = mass\n",
    "    def force_felt_by(self,other,if_at = None):\n",
    "        '''\n",
    "        Parameters\n",
    "        ----------\n",
    "        other: Particle\n",
    "            The particle which feels the force\n",
    "        if_at: vpython vector\n",
    "            If this parameter is used, the function gives the force the 'other' particle would feel if it were at this position\n",
    "\n",
    "        Subclass Particle and change this to implement custom forces, then everything else should work.\n",
    "        Default(The one implemented here) is gravitational\n",
    "        '''\n",
    "        if  not if_at:\n",
    "            if_at = other.pos\n",
    "        position_difference = if_at - self.pos\n",
    "        determinant = position_difference.mag\n",
    "        if determinant == 0:\n",
    "            return vector(0,0,0)\n",
    "        velocity_determinant = self.velocity.mag\n",
    "        g_force_scalar = (-1*self.G*self.mass*other.mass)/(determinant**3)\n",
    "        g_force_vector = g_force_scalar * position_difference\n",
    "        if determinant < self.radius + other.radius:\n",
    "            raise PhysicsError(\"Collision \")\n",
    "        return g_force_vector\n",
    "\n",
    "    def increment_by(self,pos_increment, velocity_increment):\n",
    "        '''\n",
    "        Function to increment coordinates and velocity at the same time.\n",
    "        Parameters\n",
    "        ----------\n",
    "        pos_increment: vpython vector\n",
    "            Increment for pos\n",
    "        velocity_increment: vpython vector\n",
    "            Increment for velocity\n",
    "        '''\n",
    "        self.pos += pos_increment\n",
    "        self.velocity += velocity_increment\n",
    "\n",
    "\n",
    "class System (object):\n",
    "    \"\"\"Class which describes a system composed of a number of Particles.\"\"\"\n",
    "    planets = []\n",
    "\n",
    "    def __init__(self,dt,G = 1):\n",
    "        \"\"\"\n",
    "        Parameters\n",
    "        ----------\n",
    "        dt: float\n",
    "            Specifies time increments to take\n",
    "        G: float\n",
    "            Gravitational constant, set to 1 by default\n",
    "        \"\"\"\n",
    "        self.dt = dt\n",
    "        self.G = G\n",
    "\n",
    "    def set_planets(self,planets):\n",
    "        \"\"\"Sets the array of planets. Use this instead of planets = array_of_planets so that all the planets have the same gravitational constant\"\"\"\n",
    "        for planet in planets:\n",
    "            planet.G = self.G\n",
    "        self.planets = planets\n",
    "\n",
    "    def add_planets(self,planets):\n",
    "        \"\"\"Add array of planets to planets. Use this instead of planets.extend(array_of_planets_to_add) so that all the planets have the same gravitational constant\"\"\"\n",
    "        for planet in planets:\n",
    "            planet.G = self.G\n",
    "        self.planets.extend(planets)\n",
    "\n",
    "    def add_planet(self,planet):\n",
    "        \"\"\"Add one planet to array. Use this instead of planets.append(planet) so that all the planets have the same gravitational constant\"\"\"\n",
    "        planet.G = self.G\n",
    "        self.planets.append(planet)\n",
    "\n",
    "    def move_time(self):\n",
    "        \"\"\"Move time forwards by one step using Euler Method\"\"\"\n",
    "        old_planets = self.planets\n",
    "        try:\n",
    "            for counter_1,planet_1 in enumerate(self.planets):\n",
    "                this_acceleration = vector(0,0,0)\n",
    "                for counter_2,planet_2 in enumerate(old_planets):\n",
    "                    if counter_2 != counter_1:\n",
    "                        this_acceleration += planet_2.force_felt_by(planet_1)/planet_1.mass\n",
    "                x_increment = planet_1.velocity*self.dt\n",
    "                v_increment = this_acceleration*self.dt\n",
    "                planet_1.increment_by(x_increment,v_increment)\n",
    "        except PhysicsError:\n",
    "            print(\"Collision\")\n",
    "\n",
    "    def runge_kutta_move_time(self):\n",
    "        \"\"\"Move time forwards by one step using RK4. Assumes gravitational field doesn't change significantly with time during one time step.\"\"\"\n",
    "        old_planets = self.planets\n",
    "        try:\n",
    "            for counter_1,planet_1 in enumerate(self.planets):\n",
    "                k1 = vector(0,0,0)\n",
    "                k2 = vector(0,0,0)\n",
    "                k3 = vector(0,0,0)\n",
    "                k4 = vector(0,0,0)\n",
    "                for counter_2,planet_2 in enumerate(old_planets):\n",
    "                    if counter_2 != counter_1:\n",
    "                        k1 += planet_2.force_felt_by(planet_1, if_at = None)/planet_1.mass\n",
    "                imagpos = planet_1.pos + (self.dt/2)*k1\n",
    "                for counter_2,planet_2 in enumerate(old_planets):\n",
    "                    if counter_2 != counter_1:\n",
    "                        k2 += planet_2.force_felt_by(planet_1, if_at = imagpos)/planet_1.mass\n",
    "                imagpos = planet_1.pos + (self.dt/2)*k2\n",
    "                for counter_2,planet_2 in enumerate(old_planets):\n",
    "                    if counter_2 != counter_1:\n",
    "                        k3 += planet_2.force_felt_by(planet_1, if_at = imagpos)/planet_1.mass\n",
    "                imagpos = planet_1.pos + (self.dt)*k3\n",
    "                for counter_2,planet_2 in enumerate(old_planets):\n",
    "                    if counter_2 != counter_1:\n",
    "                        k3 += planet_2.force_felt_by(planet_1, if_at = imagpos)/planet_1.mass\n",
    "                x_increment = planet_1.velocity*self.dt\n",
    "                v_increment = (self.dt/6)*(k1 + 2*k2 + 2*k3 + k4)\n",
    "                self.planets[counter_1].increment_by(x_increment,v_increment)\n",
    "        except PhysicsError:\n",
    "            print(\"Collision\")"
   ]
  },
  {
   "cell_type": "code",
   "execution_count": 2,
   "metadata": {
    "collapsed": false
   },
   "outputs": [
    {
     "data": {
      "text/html": [
       "<div id=\"glowscript\" class=\"glowscript\"></div>"
      ],
      "text/plain": [
       "<IPython.core.display.HTML object>"
      ]
     },
     "metadata": {},
     "output_type": "display_data"
    },
    {
     "data": {
      "application/javascript": [
       "window.__context = { glowscript_container: $(\"#glowscript\").removeAttr(\"id\")}"
      ],
      "text/plain": [
       "<IPython.core.display.Javascript object>"
      ]
     },
     "metadata": {},
     "output_type": "display_data"
    }
   ],
   "source": [
    "def b_handler(s):\n",
    "    global running\n",
    "    running = True\n",
    "    if running:\n",
    "        dwarf_planet.pos = vector(x.value,0,0)\n",
    "        dwarf_planet.velocity = vector(0,0,velocity.value)\n",
    "        dwarf_planet.make_trail = False\n",
    "        dwarf_planet.make_trail = True\n",
    "        print(velocity)\n",
    "        while True:\n",
    "            rate(30)\n",
    "            system.runge_kutta_move_time() \n",
    "\n",
    "\n",
    "scene1 = canvas(title = \"Orbits\")\n",
    "scene1.forward = vector(0,1,0)\n",
    "scene1.caption = \"\"\"Right button drag or Ctrl-drag to rotate \"camera\" to view scene.\n",
    "To zoom, drag with middle button or Alt/Option depressed, or use scroll wheel.\n",
    "  On a two-button mouse, middle is left + right.\n",
    "Touch screen: pinch/extend to zoom, swipe or two-finger rotate.\"\"\"\n",
    "giant_planet = Particle(pos = vector(0,0,0), velocity = vector(0, 0, 0), mass = 200000, radius = 20)\n",
    "dwarf_planet = Particle(pos = vector(200,0,0), velocity = vector(0, 0, 31.622), mass = 1, radius = 10)\n",
    "\n",
    "dt = 0.1\n",
    "system = System(dt)\n",
    "planets_array = [giant_planet, dwarf_planet]\n",
    "system.planets = planets_array\n",
    "\n",
    "running = False\n",
    "\n",
    "b = widgets.Button(description='Update')\n",
    "display(b)\n",
    "b.on_click(b_handler)\n",
    "\n",
    "x = widgets.FloatSlider(description='Radius:', min=100, max=500, step=1, value=200)\n",
    "display(x)\n",
    "velocity = widgets.FloatSlider(description='Velocity:', min=20, max=100, step=1, value=31)\n",
    "display(velocity)\n",
    "\n"
   ]
  },
  {
   "cell_type": "code",
   "execution_count": null,
   "metadata": {
    "collapsed": false
   },
   "outputs": [],
   "source": []
  },
  {
   "cell_type": "code",
   "execution_count": null,
   "metadata": {
    "collapsed": false
   },
   "outputs": [],
   "source": []
  },
  {
   "cell_type": "code",
   "execution_count": null,
   "metadata": {
    "collapsed": true
   },
   "outputs": [],
   "source": []
  },
  {
   "cell_type": "code",
   "execution_count": null,
   "metadata": {
    "collapsed": true
   },
   "outputs": [],
   "source": []
  }
 ],
 "metadata": {
  "kernelspec": {
   "display_name": "Python 3",
   "language": "python",
   "name": "python3"
  },
  "language_info": {
   "codemirror_mode": {
    "name": "ipython",
    "version": 3
   },
   "file_extension": ".py",
   "mimetype": "text/x-python",
   "name": "python",
   "nbconvert_exporter": "python",
   "pygments_lexer": "ipython3",
   "version": "3.5.1"
  }
 },
 "nbformat": 4,
 "nbformat_minor": 0
}
