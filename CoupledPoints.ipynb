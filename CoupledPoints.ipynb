{
 "cells": [
  {
   "cell_type": "markdown",
   "metadata": {},
   "source": [
    "$$ \\textbf{Coupled Points} \\\\ $$\n",
    "\n",
    "This notebook simulates particles that are coupled together by springs that obey Hooke's law $F=-k x$. It allows the user to place particles with different initial conditions and to couple together particles of their choosing with springs. The notebook will then produce a simulation of the desired situation. Gravity can be toggled on and off and so can collisions of particles. A particle may also be fixed at its initial position to act as an anchor for other particles.\n",
    "\n",
    "The cell below imports all of the required libraries and sets up variables that are used throughout the notebook. Some of which may be changed including the time step of the simulation, the total simulation run time, default particle radius, the acceleration due to gravity and whether springs should be visible or not. "
   ]
  },
  {
   "cell_type": "code",
   "execution_count": null,
   "metadata": {
    "collapsed": false
   },
   "outputs": [],
   "source": [
    "from math import sqrt\n",
    "from vpython import *\n",
    "from __future__ import division, print_function\n",
    "from ipywidgets import widgets\n",
    "from IPython.display import display\n",
    "from IPython.html import widgets\n",
    "\n",
    "#should not be changed\n",
    "points=[]\n",
    "springs=[]\n",
    "GRAVITY=False\n",
    "COLLISIONS=False\n",
    "flag=0 #start 1, end -1, or 0 if not attached to spring\n",
    "\n",
    "# can be changed\n",
    "DELTAt=0.001\n",
    "tMAX=100.0\n",
    "R=0.4\n",
    "g=-9.81\n",
    "HELICES=True #whether springs should be visible or not"
   ]
  },
  {
   "cell_type": "markdown",
   "metadata": {},
   "source": []
  },
  {
   "cell_type": "code",
   "execution_count": null,
   "metadata": {
    "collapsed": true
   },
   "outputs": [],
   "source": [
    "def sub(e1,e2):\n",
    "    return [e1[0]-e2[0],e1[1]-e2[1],e1[2]-e2[2]]\n",
    "def add(e1,e2):\n",
    "    return [e1[0]+e2[0],e1[1]+e2[1],e1[2]+e2[2]]\n",
    "def sMul(a,e1):\n",
    "    return ([a*e1[0],a*e1[1],a*e1[2]])\n",
    "def norm(e1):\n",
    "    return sqrt(e1[0]**2+e1[1]**2+e1[2]**2)\n",
    "def unit(e1):\n",
    "    try:\n",
    "        return sMul(1.0/norm(e1),e1)\n",
    "    except ZeroDivisionError:\n",
    "        return [0,0,0]\n",
    "def fl(string,m=0,r=0):\n",
    "    try:\n",
    "        return float(string)\n",
    "    except ValueError:\n",
    "        if(m):\n",
    "            return 1.0\n",
    "        else:\n",
    "            if(r):\n",
    "                return R\n",
    "            else:\n",
    "                return 0.0\n",
    "def i(string): #prevent incorrect limits? on integers for fixed toggle and spring indexing\n",
    "    try:\n",
    "        return int(string)\n",
    "    except ValueError:\n",
    "        return 0\n",
    "def allowedRange(a):\n",
    "    if(a>=0 and a<len(points)):\n",
    "        return True\n",
    "    else:\n",
    "        return False\n",
    "def conVec(e1):\n",
    "    vec=vector(0.0,0.0,0.0)\n",
    "    vec.x=e1[0]\n",
    "    vec.y=e1[1]\n",
    "    vec.z=e1[2]\n",
    "    return vec"
   ]
  },
  {
   "cell_type": "markdown",
   "metadata": {},
   "source": []
  },
  {
   "cell_type": "code",
   "execution_count": null,
   "metadata": {
    "collapsed": false
   },
   "outputs": [],
   "source": [
    "class point:\n",
    "    def __init__(self,r0,v0=[0.0,0.0,0.0],m0=1.0,fixed=0,RADIUS=R):\n",
    "        self.r=r0\n",
    "        self.v=v0\n",
    "        self.radius=RADIUS\n",
    "        if m0==0.0:\n",
    "            self.m=0.0001\n",
    "        else:\n",
    "            self.m=m0\n",
    "        self.F=[0.0,0.0,0.0]\n",
    "        self.FIXED=fixed\n",
    "        if(self.FIXED):\n",
    "            self.v=[0.0,0.0,0.0]\n",
    "    def vUpdate(self):\n",
    "        self.v=add(self.v,sMul(DELTAt/self.m,self.F))\n",
    "    def rUpdate(self):\n",
    "        self.r = add(self.r,add(sMul(DELTAt,self.v),sMul(0.5*(DELTAt**2)/self.m,self.F)))"
   ]
  },
  {
   "cell_type": "markdown",
   "metadata": {},
   "source": []
  },
  {
   "cell_type": "code",
   "execution_count": null,
   "metadata": {
    "collapsed": true
   },
   "outputs": [],
   "source": [
    "class spring:   \n",
    "    def length(self):\n",
    "        return norm(sub(points[self.start].r,points[self.end].r))\n",
    "    def force(self):\n",
    "        return self.k*(self.L-self.L0)\n",
    "    def __init__(self,point1,point2,l0,K):\n",
    "        self.start=point1\n",
    "        self.end=point2\n",
    "        self.L0=l0\n",
    "        self.L=self.length()\n",
    "        self.k=K\n",
    "        self.F=self.force()\n",
    "        self.rs=unit(sub(points[self.end].r,points[self.start].r))\n",
    "        self.re=unit(sub(points[self.start].r,points[self.end].r))\n",
    "    def update(self):\n",
    "        self.L=self.length()\n",
    "        self.F=self.force()\n",
    "        self.rs=unit(sub(points[self.end].r,points[self.start].r))\n",
    "        self.re=unit(sub(points[self.start].r,points[self.end].r))"
   ]
  },
  {
   "cell_type": "markdown",
   "metadata": {},
   "source": []
  },
  {
   "cell_type": "code",
   "execution_count": null,
   "metadata": {
    "collapsed": true
   },
   "outputs": [],
   "source": [
    "def collision():\n",
    "    pass\n",
    "    \n",
    "def updateMomentum():\n",
    "    pass"
   ]
  },
  {
   "cell_type": "markdown",
   "metadata": {},
   "source": []
  },
  {
   "cell_type": "code",
   "execution_count": null,
   "metadata": {
    "collapsed": true
   },
   "outputs": [],
   "source": [
    "def updatePoints():\n",
    "    for i in range(0,len(points)):\n",
    "        points[i].F=[0.0,0.0,0.0]\n",
    "        for j in range(0,len(springs)):\n",
    "            if(springs[j].start==i):\n",
    "                flag=1\n",
    "            elif(springs[j].end==i):\n",
    "                flag=-1\n",
    "            else:\n",
    "                flag=0\n",
    "            if(points[i].FIXED):\n",
    "                points[i].F=[0.0,0.0,0.0]\n",
    "            else:\n",
    "                if(flag==1):\n",
    "                    points[i].F=add(points[i].F,sMul(springs[j].F,springs[j].rs))\n",
    "                elif(flag==-1):\n",
    "                    points[i].F=add(points[i].F,sMul(springs[j].F,springs[j].re))\n",
    "                else:\n",
    "                    pass\n",
    "        if (GRAVITY and (not points[i].FIXED)):\n",
    "            points[i].F=add(points[i].F,sMul(g*points[i].m,[0,1,0]))\n",
    "        points[i].vUpdate()\n",
    "        points[i].rUpdate()\n",
    "    \n",
    "    for i in range(0,len(springs)):\n",
    "        springs[i].update()"
   ]
  },
  {
   "cell_type": "markdown",
   "metadata": {},
   "source": []
  },
  {
   "cell_type": "code",
   "execution_count": null,
   "metadata": {
    "collapsed": true
   },
   "outputs": [],
   "source": [
    "class vis3D:\n",
    "    def __init__(self):\n",
    "        self.BALL=[]\n",
    "        self.scene = canvas()\n",
    "        for i in range(0,len(points)):\n",
    "            self.BALL.append(sphere(pos=conVec(points[i].r), radius=points[i].radius))\n",
    "            if(points[i].FIXED):\n",
    "                 self.BALL[i].color=color.red\n",
    "            else:\n",
    "                self.BALL[i].color=color.green\n",
    "        if HELICES:\n",
    "            self.HELIX=[]\n",
    "            for i in range(0,len(springs)):\n",
    "                self.HELIX.append(helix(pos=conVec(points[springs[i].start].r),axis=conVec(sMul(springs[i].L,springs[i].rs)), radius=0.4, color=color.blue))\n",
    "    def update(self):\n",
    "        updatePoints()\n",
    "        for i in range(0,len(points)):\n",
    "            self.BALL[i].pos=conVec(points[i].r)\n",
    "        if HELICES:\n",
    "            for i in range(0,len(springs)):\n",
    "                self.HELIX[i].pos=conVec(points[springs[i].start].r)\n",
    "                self.HELIX[i].axis=conVec(sMul(springs[i].L,springs[i].rs))\n",
    "    def run(self):\n",
    "        t=0.0\n",
    "        self.scene.background=color.white\n",
    "        display(self.scene)\n",
    "        while t<tMAX:\n",
    "            rate(int(1.0/DELTAt))\n",
    "            self.update()\n",
    "            t+=DELTAt"
   ]
  },
  {
   "cell_type": "markdown",
   "metadata": {},
   "source": []
  },
  {
   "cell_type": "code",
   "execution_count": null,
   "metadata": {
    "collapsed": false
   },
   "outputs": [],
   "source": [
    "class gui:\n",
    "    def __init__(self):\n",
    "        self.pos = [widgets.Text(description='X',width=100),widgets.Text(description='Y',width=100 ),widgets.Text(description='Z',width=100)]\n",
    "        self.POS = widgets.HBox(children=self.pos)\n",
    "        self.vel=[widgets.Text(description='Vx',width=100),widgets.Text(description='Vy',width=100 ),widgets.Text(description='Vz',width=100)]\n",
    "        self.VEL=widgets.HBox(children=self.vel)\n",
    "        self.misc=[widgets.Text(description='Mass',width=100),widgets.Text(description='Radius',width=100),widgets.widget_bool.Checkbox(description='Fixed',width=100)]\n",
    "        self.MISC=widgets.HBox(children=self.misc)\n",
    "        self.create=widgets.Button(description=\"Create Point\",width=100)\n",
    "        self.NEXT = widgets.Button(description=\"Next\",width=100)\n",
    "        self.sprAtt = [widgets.Text(description='Start',width=100),widgets.Text(description='End',width=100 )]\n",
    "        self.SPRATT = widgets.HBox(children=self.sprAtt)\n",
    "        self.sprProp = [widgets.Text(description='L0',width=100),widgets.Text(description='K',width=100 )]\n",
    "        self.SPRPROP = widgets.HBox(children=self.sprProp)\n",
    "        self.createSpr=widgets.Button(description=\"Create Spring\",width=100)\n",
    "        self.grav=[widgets.widget_bool.Checkbox(description='Gravity',width=100),widgets.widget_bool.Checkbox(description='Collisions',width=100)]\n",
    "        self.GRAV=widgets.HBox(children=self.grav)\n",
    "        self.START=widgets.Button(description=\"Start\",width=100)\n",
    "        self.create.on_click(self.addPoint)\n",
    "        self.NEXT.on_click(self.nxt)\n",
    "        self.createSpr.on_click(self.addSpring)\n",
    "        self.START.on_click(self.start)\n",
    "\n",
    "    def display(self):\n",
    "        display(self.POS,self.VEL,self.MISC,self.create,self.NEXT)\n",
    "\n",
    "    def addPoint(self,b):\n",
    "        points.append(point([fl(self.pos[0].value),fl(self.pos[1].value),fl(self.pos[2].value)],[fl(self.vel[0].value),fl(self.vel[1].value),fl(self.vel[2].value)],fl(self.misc[0].value,m=1),i(self.misc[2].value),fl(self.misc[1].value,r=1)))\n",
    "        if(points[len(points)-1].FIXED):\n",
    "            print(\"Fixed Particle \" +str(int(len(points)))+\" Created. r0=\"+str(points[len(points)-1].r)+\"m. v0=\"+str(points[len(points)-1].v)+\"m/s. mass=\"+str(points[len(points)-1].m)+\"kg. radius=\"+str(points[len(points)-1].radius)+\"m.\")\n",
    "        else:\n",
    "            print(\"Movable Particle \" +str(int(len(points)))+\" Created. r0=\"+str(points[len(points)-1].r)+\"m. v0=\"+str(points[len(points)-1].v)+\"m/s. mass=\"+str(points[len(points)-1].m)+\"kg. radius=\"+str(points[len(points)-1].radius)+\"m.\")\n",
    "    \n",
    "    def nxt(self,b):\n",
    "        display(self.SPRATT,self.SPRPROP,self.GRAV,self.createSpr,self.START)\n",
    "        #make plot of point location numbered\n",
    "        \n",
    "    def addSpring(self,b):\n",
    "        if(not(allowedRange(i(self.sprAtt[0].value)-1) and allowedRange(i(self.sprAtt[1].value)-1))):\n",
    "            print(\"Couldn't Create Spring\")\n",
    "        else:\n",
    "            springs.append(spring(i(self.sprAtt[0].value)-1,i(self.sprAtt[1].value)-1,fl(self.sprProp[0].value,m=1),fl(self.sprProp[1].value,m=1)))\n",
    "            print(\"Spring Created Between Particles \" +str(i(self.sprAtt[0].value))+\" and \" + str(i(self.sprAtt[1].value))+\". L0=\"+str(springs[len(springs)-1].L0)+\"m. K=\"+str(springs[len(springs)-1].k)+\"Nm.\")\n",
    "    def start(self,b):\n",
    "        if self.grav[0].value:\n",
    "            global GRAVITY\n",
    "            GRAVITY = 1\n",
    "        self.visual=vis3D()\n",
    "        self.visual.run()"
   ]
  },
  {
   "cell_type": "markdown",
   "metadata": {},
   "source": []
  },
  {
   "cell_type": "code",
   "execution_count": null,
   "metadata": {
    "collapsed": false,
    "scrolled": false
   },
   "outputs": [],
   "source": [
    "GUI=gui()\n",
    "GUI.display()"
   ]
  },
  {
   "cell_type": "code",
   "execution_count": null,
   "metadata": {
    "collapsed": true
   },
   "outputs": [],
   "source": []
  }
 ],
 "metadata": {
  "kernelspec": {
   "display_name": "Python 3",
   "language": "python",
   "name": "python3"
  },
  "language_info": {
   "codemirror_mode": {
    "name": "ipython",
    "version": 3
   },
   "file_extension": ".py",
   "mimetype": "text/x-python",
   "name": "python",
   "nbconvert_exporter": "python",
   "pygments_lexer": "ipython3",
   "version": "3.5.1"
  }
 },
 "nbformat": 4,
 "nbformat_minor": 0
}
