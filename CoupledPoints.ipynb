{
 "cells": [
  {
   "cell_type": "markdown",
   "metadata": {},
   "source": [
    "$$ \\textbf{Coupled Points} \\\\ $$"
   ]
  },
  {
   "cell_type": "code",
   "execution_count": null,
   "metadata": {
    "collapsed": false
   },
   "outputs": [],
   "source": [
    "from math import sqrt\n",
    "from vpython import *\n",
    "from matplotlib import pyplot\n",
    "from __future__ import division, print_function\n",
    "from ipywidgets import widgets\n",
    "from IPython.display import display\n",
    "from IPython.html import widgets\n",
    "\n",
    "def sub(e1,e2):\n",
    "    return [e1[0]-e2[0],e1[1]-e2[1],e1[2]-e2[2]]\n",
    "def add(e1,e2):\n",
    "    return [e1[0]+e2[0],e1[1]+e2[1],e1[2]+e2[2]]\n",
    "def sMul(a,e1):\n",
    "    return ([a*e1[0],a*e1[1],a*e1[2]])\n",
    "def norm(e1):\n",
    "    return sqrt(e1[0]**2+e1[1]**2+e1[2]**2)\n",
    "def unit(e1):\n",
    "    try:\n",
    "        return sMul(1.0/norm(e1),e1)\n",
    "    except ZeroDivisionError:\n",
    "        return [0,0,0]\n",
    "def fl(string,m=0):\n",
    "    try:\n",
    "        return float(string)\n",
    "    except ValueError:\n",
    "        if(m):\n",
    "            return 1.0\n",
    "        else:\n",
    "            return 0.0\n",
    "def i(string): #prevent incorrect limits? on integers for fixed toggle and spring indexing\n",
    "    try:\n",
    "        return int(string)\n",
    "    except ValueError:\n",
    "        return 0\n",
    "def conVec(e1):\n",
    "    vec=vector(0.0,0.0,0.0)\n",
    "    vec.x=e1[0]\n",
    "    vec.y=e1[1]\n",
    "    vec.z=e1[2]\n",
    "    return vec\n",
    "\n",
    "points=[]\n",
    "springs=[]\n",
    "DELTAt=0.001\n",
    "tMAX=100.0\n",
    "GRAVITY=0\n",
    "HELICES=1\n",
    "flag=0 #start 1, end -1, or 0 if not attached to spring"
   ]
  },
  {
   "cell_type": "code",
   "execution_count": null,
   "metadata": {
    "collapsed": false
   },
   "outputs": [],
   "source": [
    "class point:\n",
    "    def __init__(self,r0,v0=[0.0,0.0,0.0],m0=1.0,fixed=0):\n",
    "        self.r=r0\n",
    "        self.v=v0\n",
    "        if m0==0.0:\n",
    "            self.m=0.0001\n",
    "        else:\n",
    "            self.m=m0\n",
    "        self.F=[0.0,0.0,0.0]\n",
    "        self.FIXED=fixed\n",
    "        if(self.FIXED):\n",
    "            self.v=[0.0,0.0,0.0]\n",
    "    def vUpdate(self):\n",
    "        self.v=add(self.v,sMul(DELTAt/self.m,self.F))\n",
    "    def rUpdate(self):\n",
    "        self.r = add(self.r,add(sMul(DELTAt,self.v),sMul(0.5*(DELTAt**2)/self.m,self.F)))"
   ]
  },
  {
   "cell_type": "code",
   "execution_count": null,
   "metadata": {
    "collapsed": true
   },
   "outputs": [],
   "source": [
    "class spring:   \n",
    "    def length(self):\n",
    "        return norm(sub(points[self.start].r,points[self.end].r))\n",
    "    def force(self):\n",
    "        return self.k*(self.L-self.L0)\n",
    "    def __init__(self,point1,point2,l0,K):\n",
    "        self.start=point1\n",
    "        self.end=point2\n",
    "        self.L0=l0\n",
    "        self.L=self.length()\n",
    "        self.k=K\n",
    "        self.F=self.force()\n",
    "        self.rs=unit(sub(points[self.end].r,points[self.start].r))\n",
    "        self.re=unit(sub(points[self.start].r,points[self.end].r))\n",
    "    def update(self):\n",
    "        self.L=self.length()\n",
    "        self.F=self.force()\n",
    "        self.rs=unit(sub(points[self.end].r,points[self.start].r))\n",
    "        self.re=unit(sub(points[self.start].r,points[self.end].r))"
   ]
  },
  {
   "cell_type": "code",
   "execution_count": null,
   "metadata": {
    "collapsed": true
   },
   "outputs": [],
   "source": [
    "def updatePoints():\n",
    "    for i in range(0,len(points)):\n",
    "        points[i].F=[0.0,0.0,0.0]\n",
    "        for j in range(0,len(springs)):\n",
    "            if(springs[j].start==i):\n",
    "                flag=1\n",
    "            elif(springs[j].end==i):\n",
    "                flag=-1\n",
    "            else:\n",
    "                flag=0\n",
    "            if(points[i].FIXED):\n",
    "                points[i].F=[0.0,0.0,0.0]\n",
    "            else:\n",
    "                if(flag==1):\n",
    "                    points[i].F=add(points[i].F,sMul(springs[j].F,springs[j].rs))\n",
    "                elif(flag==-1):\n",
    "                    points[i].F=add(points[i].F,sMul(springs[j].F,springs[j].re))\n",
    "                else:\n",
    "                    pass\n",
    "        points[i].vUpdate()\n",
    "        points[i].rUpdate()\n",
    "    \n",
    "    for i in range(0,len(springs)):\n",
    "        springs[i].update()"
   ]
  },
  {
   "cell_type": "code",
   "execution_count": null,
   "metadata": {
    "collapsed": true
   },
   "outputs": [],
   "source": [
    "class vis3D:\n",
    "    def __init__(self):\n",
    "        self.BALL=[]\n",
    "        self.scene = canvas()\n",
    "        for i in range(0,len(points)):\n",
    "            self.BALL.append(sphere(pos=conVec(points[i].r), radius=0.4, color=color.red))\n",
    "        if HELICES:\n",
    "            self.HELIX=[]\n",
    "            for i in range(0,len(springs)):\n",
    "                self.HELIX.append(helix(pos=conVec(points[springs[i].start].r),axis=conVec(sMul(springs[i].L,springs[i].rs)), radius=0.2, color=color.blue))\n",
    "    def update(self):\n",
    "        updatePoints()\n",
    "        for i in range(0,len(points)):\n",
    "            self.BALL[i].pos=conVec(points[i].r)\n",
    "        if HELICES:\n",
    "            for i in range(0,len(springs)):\n",
    "                self.HELIX[i].pos=conVec(points[springs[i].start].r)\n",
    "                self.HELIX[i].axis=conVec(sMul(springs[i].L,springs[i].rs))\n",
    "    def run(self):\n",
    "        t=0.0\n",
    "        self.scene.background=color.white\n",
    "        display(self.scene)\n",
    "        while t<tMAX:\n",
    "            rate(int(1.0/DELTAt))\n",
    "            self.update()\n",
    "            t+=DELTAt"
   ]
  },
  {
   "cell_type": "code",
   "execution_count": null,
   "metadata": {
    "collapsed": false
   },
   "outputs": [],
   "source": [
    "class gui:\n",
    "    def __init__(self):\n",
    "        self.pos = [widgets.Text(description='X',width=100),widgets.Text(description='Y',width=100 ),widgets.Text(description='Z',width=100)]\n",
    "        self.POS = widgets.HBox(children=self.pos)\n",
    "        self.vel=[widgets.Text(description='Vx',width=100),widgets.Text(description='Vy',width=100 ),widgets.Text(description='Vz',width=100)]\n",
    "        self.VEL=widgets.HBox(children=self.vel)\n",
    "        self.misc=[widgets.Text(description='Mass',width=100),widgets.Text(description='Fixed',width=100)]\n",
    "        self.MISC=widgets.HBox(children=self.misc)\n",
    "        self.create=widgets.Button(description=\"Create Point\",width=100)\n",
    "        self.NEXT = widgets.Button(description=\"Next\",width=100)\n",
    "        self.sprAtt = [widgets.Text(description='Start',width=100),widgets.Text(description='End',width=100 )]\n",
    "        self.SPRATT = widgets.HBox(children=self.sprAtt)\n",
    "        self.sprProp = [widgets.Text(description='L0',width=100),widgets.Text(description='K',width=100 )]\n",
    "        self.SPRPROP = widgets.HBox(children=self.sprProp)\n",
    "        self.createSpr=widgets.Button(description=\"Create Spring\",width=100)\n",
    "        self.START=widgets.Button(description=\"Start\",width=100)\n",
    "        self.create.on_click(self.addPoint)\n",
    "        self.NEXT.on_click(self.nxt)\n",
    "        self.createSpr.on_click(self.addSpring)\n",
    "        self.START.on_click(self.start)\n",
    "\n",
    "    def display(self):\n",
    "        display(self.POS,self.VEL,self.MISC,self.create,self.NEXT)\n",
    "\n",
    "    def addPoint(self,b):\n",
    "        points.append(point([fl(self.pos[0].value),fl(self.pos[1].value),fl(self.pos[2].value)],[fl(self.vel[0].value),fl(self.vel[1].value),fl(self.vel[2].value)],fl(self.misc[0].value,m=1),i(self.misc[1].value)))\n",
    "        print(\"Point \" +str(int(len(points)))+\" Created.\")\n",
    "    \n",
    "    def nxt(self,b):\n",
    "        display(self.SPRATT,self.SPRPROP,self.createSpr,self.START)\n",
    "        #make plot of point location numbered?\n",
    "        \n",
    "    def addSpring(self,b):\n",
    "        springs.append(spring(i(self.sprAtt[0].value)-1,i(self.sprAtt[1].value)-1,fl(self.sprProp[0].value),fl(self.sprProp[1].value)))\n",
    "        print(\"Spring Created Between Points \" +str(i(self.sprAtt[0].value))+\" and \" + str(i(self.sprAtt[1].value))+\".\")\n",
    "    \n",
    "    def start(self,b):\n",
    "        self.visual=vis3D()\n",
    "        self.visual.run()"
   ]
  },
  {
   "cell_type": "code",
   "execution_count": null,
   "metadata": {
    "collapsed": false
   },
   "outputs": [],
   "source": [
    "GUI=gui()\n",
    "GUI.display()"
   ]
  },
  {
   "cell_type": "code",
   "execution_count": null,
   "metadata": {
    "collapsed": true
   },
   "outputs": [],
   "source": []
  }
 ],
 "metadata": {
  "kernelspec": {
   "display_name": "Python 3",
   "language": "python",
   "name": "python3"
  },
  "language_info": {
   "codemirror_mode": {
    "name": "ipython",
    "version": 3
   },
   "file_extension": ".py",
   "mimetype": "text/x-python",
   "name": "python",
   "nbconvert_exporter": "python",
   "pygments_lexer": "ipython3",
   "version": "3.5.1"
  }
 },
 "nbformat": 4,
 "nbformat_minor": 0
}
