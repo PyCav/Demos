{
 "cells": [
  {
   "cell_type": "markdown",
   "metadata": {},
   "source": [
    "## Poisson Distribution"
   ]
  },
  {
   "cell_type": "markdown",
   "metadata": {},
   "source": [
    "The Poisson distribution gives the probability of a certain number of counts per interval for random, independent events. For example, the number of stars visible per unit solid angle of sky, or the number of photons received from a star per second.\n",
    "\n",
    "If the mean number of events is $\\lambda$, the probability distribution is:\n",
    "$$P(k) = \\frac{\\lambda^k e^{-\\lambda}}{k!},$$\n",
    "where $k$ is the number of counts per interval."
   ]
  },
  {
   "cell_type": "code",
   "execution_count": 14,
   "metadata": {
    "collapsed": false
   },
   "outputs": [],
   "source": [
    "from ipywidgets import interact\n",
    "from bokeh.io import push_notebook, output_notebook\n",
    "from bokeh.plotting import figure, show\n",
    "from bokeh.charts import Bar\n",
    "\n",
    "import numpy as np\n",
    "from scipy.misc import factorial"
   ]
  },
  {
   "cell_type": "code",
   "execution_count": 15,
   "metadata": {
    "collapsed": true
   },
   "outputs": [],
   "source": [
    "#initialise the poisson and gaussian distributions\n",
    "mean = 5.0\n",
    "count_range = 20\n",
    "count = [i for i in range(count_range)] #number of events\n",
    "\n",
    "def generate_poisson(mean):\n",
    "    prob = np.power(mean, count)*np.exp(-mean)/factorial(count) #probability of 'count'\n",
    "    return prob"
   ]
  },
  {
   "cell_type": "code",
   "execution_count": 16,
   "metadata": {
    "collapsed": false
   },
   "outputs": [],
   "source": [
    "#set up the plot\n",
    "p = figure(title=\"Poisson Distribution\", title_text_font = 'helvetica', title_text_font_size = '16pt', tools = 'save', plot_height = 450, plot_width = 600, y_range = (0,0.3),x_range = (0,count_range))\n",
    "p.grid\n",
    "#format the x axis\n",
    "p.xaxis.axis_label = \"counts per interval\"\n",
    "p.xaxis.axis_label_text_font = \"helvetica\"\n",
    "p.xaxis.axis_label_text_font_size = \"12pt\"\n",
    "#format the y axis\n",
    "p.yaxis.axis_label = \"probability\"\n",
    "p.yaxis.axis_label_text_font = \"helvetica\"\n",
    "p.yaxis.axis_label_text_font_size = \"12pt\"\n",
    "\n",
    "#plot the data\n",
    "y = generate_poisson(mean) #initialise plot's y-data\n",
    "poisson = p.circle(count, y, size = 8, fill_color = 'indigo', line_color = None)"
   ]
  },
  {
   "cell_type": "code",
   "execution_count": 17,
   "metadata": {
    "collapsed": false,
    "scrolled": true
   },
   "outputs": [
    {
     "data": {
      "text/html": [
       "\n",
       "    <div class=\"bk-banner\">\n",
       "        <a href=\"http://bokeh.pydata.org\" target=\"_blank\" class=\"bk-logo bk-logo-small bk-logo-notebook\"></a>\n",
       "        <span id=\"13731448-3e10-4e1c-bfb9-82a497037e6d\">Loading BokehJS ...</span>\n",
       "    </div>"
      ]
     },
     "metadata": {},
     "output_type": "display_data"
    },
    {
     "data": {
      "application/javascript": [
       "\n",
       "(function(global) {\n",
       "  function now() {\n",
       "    return new Date();\n",
       "  }\n",
       "\n",
       "  if (typeof (window._bokeh_onload_callbacks) === \"undefined\") {\n",
       "    window._bokeh_onload_callbacks = [];\n",
       "  }\n",
       "\n",
       "  function run_callbacks() {\n",
       "    window._bokeh_onload_callbacks.forEach(function(callback) { callback() });\n",
       "    delete window._bokeh_onload_callbacks\n",
       "    console.info(\"Bokeh: all callbacks have finished\");\n",
       "  }\n",
       "\n",
       "  function load_libs(js_urls, callback) {\n",
       "    window._bokeh_onload_callbacks.push(callback);\n",
       "    if (window._bokeh_is_loading > 0) {\n",
       "      console.log(\"Bokeh: BokehJS is being loaded, scheduling callback at\", now());\n",
       "      return null;\n",
       "    }\n",
       "    if (js_urls == null || js_urls.length === 0) {\n",
       "      run_callbacks();\n",
       "      return null;\n",
       "    }\n",
       "    console.log(\"Bokeh: BokehJS not loaded, scheduling load and callback at\", now());\n",
       "    window._bokeh_is_loading = js_urls.length;\n",
       "    for (var i = 0; i < js_urls.length; i++) {\n",
       "      var url = js_urls[i];\n",
       "      var s = document.createElement('script');\n",
       "      s.src = url;\n",
       "      s.async = false;\n",
       "      s.onreadystatechange = s.onload = function() {\n",
       "        window._bokeh_is_loading--;\n",
       "        if (window._bokeh_is_loading === 0) {\n",
       "          console.log(\"Bokeh: all BokehJS libraries loaded\");\n",
       "          run_callbacks()\n",
       "        }\n",
       "      };\n",
       "      s.onerror = function() {\n",
       "        console.warn(\"failed to load library \" + url);\n",
       "      };\n",
       "      console.log(\"Bokeh: injecting script tag for BokehJS library: \", url);\n",
       "      document.getElementsByTagName(\"head\")[0].appendChild(s);\n",
       "    }\n",
       "  };\n",
       "\n",
       "  var js_urls = ['https://cdn.pydata.org/bokeh/release/bokeh-0.11.1.min.js', 'https://cdn.pydata.org/bokeh/release/bokeh-widgets-0.11.1.min.js', 'https://cdn.pydata.org/bokeh/release/bokeh-compiler-0.11.1.min.js'];\n",
       "\n",
       "  var inline_js = [\n",
       "    function(Bokeh) {\n",
       "      Bokeh.set_log_level(\"info\");\n",
       "    },\n",
       "    \n",
       "    function(Bokeh) {\n",
       "      Bokeh.$(\"#13731448-3e10-4e1c-bfb9-82a497037e6d\").text(\"BokehJS successfully loaded\");\n",
       "    },\n",
       "    function(Bokeh) {\n",
       "      console.log(\"Bokeh: injecting CSS: https://cdn.pydata.org/bokeh/release/bokeh-0.11.1.min.css\");\n",
       "      Bokeh.embed.inject_css(\"https://cdn.pydata.org/bokeh/release/bokeh-0.11.1.min.css\");\n",
       "      console.log(\"Bokeh: injecting CSS: https://cdn.pydata.org/bokeh/release/bokeh-widgets-0.11.1.min.css\");\n",
       "      Bokeh.embed.inject_css(\"https://cdn.pydata.org/bokeh/release/bokeh-widgets-0.11.1.min.css\");\n",
       "    }\n",
       "  ];\n",
       "\n",
       "  function run_inline_js() {\n",
       "    for (var i = 0; i < inline_js.length; i++) {\n",
       "      inline_js[i](window.Bokeh);\n",
       "    }\n",
       "  }\n",
       "\n",
       "  if (window._bokeh_is_loading === 0) {\n",
       "    console.log(\"Bokeh: BokehJS loaded, going straight to plotting\");\n",
       "    run_inline_js();\n",
       "  } else {\n",
       "    load_libs(js_urls, function() {\n",
       "      console.log(\"Bokeh: BokehJS plotting callback run at\", now());\n",
       "      run_inline_js();\n",
       "    });\n",
       "  }\n",
       "}(this));"
      ]
     },
     "metadata": {},
     "output_type": "display_data"
    }
   ],
   "source": [
    "output_notebook()"
   ]
  },
  {
   "cell_type": "code",
   "execution_count": 18,
   "metadata": {
    "collapsed": false
   },
   "outputs": [
    {
     "data": {
      "text/html": [
       "\n",
       "\n",
       "    <div class=\"plotdiv\" id=\"3de2889c-2231-4d12-99e8-87a077fc8593\"></div>\n",
       "<script type=\"text/javascript\">\n",
       "  \n",
       "  (function(global) {\n",
       "    function now() {\n",
       "      return new Date();\n",
       "    }\n",
       "  \n",
       "    if (typeof (window._bokeh_onload_callbacks) === \"undefined\") {\n",
       "      window._bokeh_onload_callbacks = [];\n",
       "    }\n",
       "  \n",
       "    function run_callbacks() {\n",
       "      window._bokeh_onload_callbacks.forEach(function(callback) { callback() });\n",
       "      delete window._bokeh_onload_callbacks\n",
       "      console.info(\"Bokeh: all callbacks have finished\");\n",
       "    }\n",
       "  \n",
       "    function load_libs(js_urls, callback) {\n",
       "      window._bokeh_onload_callbacks.push(callback);\n",
       "      if (window._bokeh_is_loading > 0) {\n",
       "        console.log(\"Bokeh: BokehJS is being loaded, scheduling callback at\", now());\n",
       "        return null;\n",
       "      }\n",
       "      if (js_urls == null || js_urls.length === 0) {\n",
       "        run_callbacks();\n",
       "        return null;\n",
       "      }\n",
       "      console.log(\"Bokeh: BokehJS not loaded, scheduling load and callback at\", now());\n",
       "      window._bokeh_is_loading = js_urls.length;\n",
       "      for (var i = 0; i < js_urls.length; i++) {\n",
       "        var url = js_urls[i];\n",
       "        var s = document.createElement('script');\n",
       "        s.src = url;\n",
       "        s.async = false;\n",
       "        s.onreadystatechange = s.onload = function() {\n",
       "          window._bokeh_is_loading--;\n",
       "          if (window._bokeh_is_loading === 0) {\n",
       "            console.log(\"Bokeh: all BokehJS libraries loaded\");\n",
       "            run_callbacks()\n",
       "          }\n",
       "        };\n",
       "        s.onerror = function() {\n",
       "          console.warn(\"failed to load library \" + url);\n",
       "        };\n",
       "        console.log(\"Bokeh: injecting script tag for BokehJS library: \", url);\n",
       "        document.getElementsByTagName(\"head\")[0].appendChild(s);\n",
       "      }\n",
       "    };var element = document.getElementById(\"3de2889c-2231-4d12-99e8-87a077fc8593\");\n",
       "    if (element == null) {\n",
       "      console.log(\"Bokeh: ERROR: autoload.js configured with elementid '3de2889c-2231-4d12-99e8-87a077fc8593' but no matching script tag was found. \")\n",
       "      return false;\n",
       "    }\n",
       "  \n",
       "    var js_urls = [];\n",
       "  \n",
       "    var inline_js = [\n",
       "      function(Bokeh) {\n",
       "        Bokeh.$(function() {\n",
       "            var docs_json = {\"4ddd0fec-652a-48ab-965b-209c2f2facfc\":{\"roots\":{\"references\":[{\"attributes\":{\"callback\":null,\"end\":0.3},\"id\":\"79678015-507c-43bc-8750-4f49f49068b3\",\"type\":\"Range1d\"},{\"attributes\":{\"fill_alpha\":{\"value\":0.1},\"fill_color\":{\"value\":\"#1f77b4\"},\"line_alpha\":{\"value\":0.1},\"line_color\":{\"value\":\"#1f77b4\"},\"size\":{\"units\":\"screen\",\"value\":8},\"x\":{\"field\":\"x\"},\"y\":{\"field\":\"y\"}},\"id\":\"da096ebc-9785-47eb-a9e4-03c733f12f4a\",\"type\":\"Circle\"},{\"attributes\":{},\"id\":\"ab593fba-2b2e-4fd7-a9e0-14ec049c5f31\",\"type\":\"BasicTickFormatter\"},{\"attributes\":{\"callback\":null,\"column_names\":[\"y\",\"x\"],\"data\":{\"x\":[0,1,2,3,4,5,6,7,8,9,10,11,12,13,14,15,16,17,18,19],\"y\":[0.006737946999085467,0.03368973499542734,0.08422433748856833,0.14037389581428056,0.1754673697678507,0.1754673697678507,0.1462228081398756,0.104444862957054,0.06527803934815875,0.03626557741564375,0.01813278870782187,0.00824217668537358,0.0034342402855723248,0.0013208616482970478,0.00047173630296323143,0.00015724543432107713,4.91391982253366e-05,1.4452705360393119e-05,4.014640377886977e-06,1.0564843099702573e-06]}},\"id\":\"316d6d20-054c-4fcd-b356-9f2f24671a79\",\"type\":\"ColumnDataSource\"},{\"attributes\":{\"fill_color\":{\"value\":\"indigo\"},\"line_color\":{\"value\":null},\"size\":{\"units\":\"screen\",\"value\":8},\"x\":{\"field\":\"x\"},\"y\":{\"field\":\"y\"}},\"id\":\"2f7d9f71-f80e-4df2-a21c-1e8095a3c2c0\",\"type\":\"Circle\"},{\"attributes\":{\"dimension\":1,\"plot\":{\"id\":\"b2be15d6-f4a9-496a-baa4-c0d779cff78b\",\"subtype\":\"Figure\",\"type\":\"Plot\"},\"ticker\":{\"id\":\"1f69ef00-9827-473a-8209-e00eaec51ef2\",\"type\":\"BasicTicker\"}},\"id\":\"98ccb147-fb83-40d1-974e-39ec3f4e18a9\",\"type\":\"Grid\"},{\"attributes\":{},\"id\":\"f2c3e087-8889-4d3e-825e-331d3d4937ff\",\"type\":\"ToolEvents\"},{\"attributes\":{\"below\":[{\"id\":\"8273b053-ef1a-4034-bce5-a60b52f750ac\",\"type\":\"LinearAxis\"}],\"left\":[{\"id\":\"cb4e4e3e-5d28-447a-a0e9-ed65de75105a\",\"type\":\"LinearAxis\"}],\"plot_height\":450,\"renderers\":[{\"id\":\"8273b053-ef1a-4034-bce5-a60b52f750ac\",\"type\":\"LinearAxis\"},{\"id\":\"856c74a5-cc2b-4225-8501-5b8ac2d64738\",\"type\":\"Grid\"},{\"id\":\"cb4e4e3e-5d28-447a-a0e9-ed65de75105a\",\"type\":\"LinearAxis\"},{\"id\":\"ff1362f3-47bb-42de-8c3e-9a9610247d4b\",\"type\":\"Grid\"},{\"id\":\"96f07ea5-6caf-4511-a446-a8c9c7474ae3\",\"type\":\"GlyphRenderer\"}],\"title\":\"Poisson Distribution\",\"title_text_font_size\":{\"value\":\"16pt\"},\"tool_events\":{\"id\":\"7b479b66-7653-48cf-9394-ef84a5de5d63\",\"type\":\"ToolEvents\"},\"tools\":[{\"id\":\"b06e6e51-927d-4407-8e96-cb6b7a1875d5\",\"type\":\"PreviewSaveTool\"}],\"x_range\":{\"id\":\"4a41cdcc-4d2b-48cd-91cd-8410cb3256c8\",\"type\":\"Range1d\"},\"y_range\":{\"id\":\"6fd1585e-afba-4fd7-aa9f-506a4ad38487\",\"type\":\"Range1d\"}},\"id\":\"7459126a-cdcc-4d79-8db3-ade0d2820b8d\",\"subtype\":\"Figure\",\"type\":\"Plot\"},{\"attributes\":{},\"id\":\"3623cb98-39ed-48e9-8585-4c97ea67179e\",\"type\":\"ToolEvents\"},{\"attributes\":{\"callback\":null,\"column_names\":[\"y\",\"x\"],\"data\":{\"x\":[0,1,2,3,4,5,6,7,8,9,10,11,12,13,14,15,16,17,18,19],\"y\":[0.0030275547453758153,0.017559817523179727,0.05092347081722121,0.098452043579961,0.14275546319094348,0.16559633730149442,0.16007645939144458,0.13263478063862552,0.09616021596300349,0.061969916953935576,0.03594255183328264,0.018951527330276295,0.009159904876300211,0.004086726790964709,0.0016930725276853794,0.0006546547107050135,0.00023731233263056737,8.096538407395826e-05,2.608884597938655e-05,7.963963509496947e-06]}},\"id\":\"5188cd79-a187-434c-b2ba-8fd87872aa76\",\"type\":\"ColumnDataSource\"},{\"attributes\":{\"data_source\":{\"id\":\"316d6d20-054c-4fcd-b356-9f2f24671a79\",\"type\":\"ColumnDataSource\"},\"glyph\":{\"id\":\"2f7d9f71-f80e-4df2-a21c-1e8095a3c2c0\",\"type\":\"Circle\"},\"hover_glyph\":null,\"nonselection_glyph\":{\"id\":\"da096ebc-9785-47eb-a9e4-03c733f12f4a\",\"type\":\"Circle\"},\"selection_glyph\":null},\"id\":\"ff68269e-b219-497e-83c1-0cc8a2006692\",\"type\":\"GlyphRenderer\"},{\"attributes\":{\"fill_alpha\":{\"value\":0.1},\"fill_color\":{\"value\":\"#1f77b4\"},\"line_alpha\":{\"value\":0.1},\"line_color\":{\"value\":\"#1f77b4\"},\"size\":{\"units\":\"screen\",\"value\":8},\"x\":{\"field\":\"x\"},\"y\":{\"field\":\"y\"}},\"id\":\"2284f584-46a6-40fe-ab69-d0190cc73cb8\",\"type\":\"Circle\"},{\"attributes\":{\"dimension\":1,\"plot\":{\"id\":\"0a82d219-a0a4-45f4-9b45-ce230fb2f3cf\",\"subtype\":\"Figure\",\"type\":\"Plot\"},\"ticker\":{\"id\":\"c6cb6876-d939-4f3a-82c8-e876d159c84b\",\"type\":\"BasicTicker\"}},\"id\":\"3ecc7477-055f-4091-a910-b4fb26cc7c90\",\"type\":\"Grid\"},{\"attributes\":{\"fill_color\":{\"value\":\"indigo\"},\"line_color\":{\"value\":null},\"size\":{\"units\":\"screen\",\"value\":8},\"x\":{\"field\":\"x\"},\"y\":{\"field\":\"y\"}},\"id\":\"834f6334-fd11-4299-be43-7e68af81f0c4\",\"type\":\"Circle\"},{\"attributes\":{\"plot\":{\"id\":\"b2be15d6-f4a9-496a-baa4-c0d779cff78b\",\"subtype\":\"Figure\",\"type\":\"Plot\"},\"ticker\":{\"id\":\"c0164a79-288e-4c87-ae72-877c19974e4f\",\"type\":\"BasicTicker\"}},\"id\":\"87d92300-c94b-4fcf-a5cc-8db53470f1c7\",\"type\":\"Grid\"},{\"attributes\":{},\"id\":\"f3592466-171e-4016-b0f2-0a87158d6d59\",\"type\":\"BasicTickFormatter\"},{\"attributes\":{\"fill_color\":{\"value\":\"indigo\"},\"line_color\":{\"value\":null},\"size\":{\"units\":\"screen\",\"value\":8},\"x\":{\"field\":\"x\"},\"y\":{\"field\":\"y\"}},\"id\":\"42191371-ab90-4a2b-a0a7-85f8b10929b8\",\"type\":\"Circle\"},{\"attributes\":{\"axis_label\":\"probability\",\"axis_label_text_font_size\":{\"value\":\"12pt\"},\"formatter\":{\"id\":\"4e1c3534-670e-4a9c-859d-0e2ccb5182f7\",\"type\":\"BasicTickFormatter\"},\"plot\":{\"id\":\"7459126a-cdcc-4d79-8db3-ade0d2820b8d\",\"subtype\":\"Figure\",\"type\":\"Plot\"},\"ticker\":{\"id\":\"09b7495f-ae81-47eb-99d5-66b6907cdd01\",\"type\":\"BasicTicker\"}},\"id\":\"cb4e4e3e-5d28-447a-a0e9-ed65de75105a\",\"type\":\"LinearAxis\"},{\"attributes\":{\"plot\":{\"id\":\"b2be15d6-f4a9-496a-baa4-c0d779cff78b\",\"subtype\":\"Figure\",\"type\":\"Plot\"}},\"id\":\"6d9d9875-1240-4b94-834e-16170feb6557\",\"type\":\"PreviewSaveTool\"},{\"attributes\":{\"plot\":{\"id\":\"0a82d219-a0a4-45f4-9b45-ce230fb2f3cf\",\"subtype\":\"Figure\",\"type\":\"Plot\"},\"ticker\":{\"id\":\"de39ffef-025e-4c2c-8f37-db75c5584952\",\"type\":\"BasicTicker\"}},\"id\":\"dd0d003d-490f-415a-8d96-4eace615674c\",\"type\":\"Grid\"},{\"attributes\":{\"callback\":null,\"end\":0.3},\"id\":\"9068e970-b052-45e8-8982-45e08c79e9d5\",\"type\":\"Range1d\"},{\"attributes\":{\"callback\":null,\"end\":0.3},\"id\":\"ea764a20-6748-4464-96db-d5d1b1edb95a\",\"type\":\"Range1d\"},{\"attributes\":{\"plot\":{\"id\":\"e415678d-9db7-4597-8cb8-7929fc5a2911\",\"subtype\":\"Figure\",\"type\":\"Plot\"},\"ticker\":{\"id\":\"d9a3428a-4cb2-48c8-95c0-5b4db946dbb9\",\"type\":\"BasicTicker\"}},\"id\":\"0f4ca2cb-05c7-4319-a158-c9a325c82a93\",\"type\":\"Grid\"},{\"attributes\":{\"below\":[{\"id\":\"c49dd462-af82-47ed-8e29-68c56205effe\",\"type\":\"LinearAxis\"}],\"left\":[{\"id\":\"31e595e9-dfbf-4705-8c90-bc1fe6f6cc78\",\"type\":\"LinearAxis\"}],\"plot_height\":450,\"renderers\":[{\"id\":\"c49dd462-af82-47ed-8e29-68c56205effe\",\"type\":\"LinearAxis\"},{\"id\":\"87d92300-c94b-4fcf-a5cc-8db53470f1c7\",\"type\":\"Grid\"},{\"id\":\"31e595e9-dfbf-4705-8c90-bc1fe6f6cc78\",\"type\":\"LinearAxis\"},{\"id\":\"98ccb147-fb83-40d1-974e-39ec3f4e18a9\",\"type\":\"Grid\"}],\"title\":\"Poisson Distribution\",\"title_text_font_size\":{\"value\":\"16pt\"},\"tool_events\":{\"id\":\"3623cb98-39ed-48e9-8585-4c97ea67179e\",\"type\":\"ToolEvents\"},\"tools\":[{\"id\":\"6d9d9875-1240-4b94-834e-16170feb6557\",\"type\":\"PreviewSaveTool\"}],\"x_range\":{\"id\":\"b07390b1-190a-49b9-8828-87d6a21572f9\",\"type\":\"Range1d\"},\"y_range\":{\"id\":\"ea764a20-6748-4464-96db-d5d1b1edb95a\",\"type\":\"Range1d\"}},\"id\":\"b2be15d6-f4a9-496a-baa4-c0d779cff78b\",\"subtype\":\"Figure\",\"type\":\"Plot\"},{\"attributes\":{},\"id\":\"fcce00f7-eaa9-4dcb-944d-9cc707d32b9b\",\"type\":\"BasicTickFormatter\"},{\"attributes\":{\"axis_label\":\"probability\",\"axis_label_text_font_size\":{\"value\":\"12pt\"},\"formatter\":{\"id\":\"16350260-6696-4f18-a7b2-37a2771fb637\",\"type\":\"BasicTickFormatter\"},\"plot\":{\"id\":\"e415678d-9db7-4597-8cb8-7929fc5a2911\",\"subtype\":\"Figure\",\"type\":\"Plot\"},\"ticker\":{\"id\":\"5f3faca3-ed7d-4130-9375-8ecc9856de5d\",\"type\":\"BasicTicker\"}},\"id\":\"2861c88f-9e85-4799-b929-3fe54b0fb052\",\"type\":\"LinearAxis\"},{\"attributes\":{},\"id\":\"16350260-6696-4f18-a7b2-37a2771fb637\",\"type\":\"BasicTickFormatter\"},{\"attributes\":{},\"id\":\"9f3375ab-3777-425e-a7d0-3be15e98bbf1\",\"type\":\"BasicTickFormatter\"},{\"attributes\":{\"data_source\":{\"id\":\"3358740f-ad7b-497d-aaf0-212183c3c830\",\"type\":\"ColumnDataSource\"},\"glyph\":{\"id\":\"834f6334-fd11-4299-be43-7e68af81f0c4\",\"type\":\"Circle\"},\"hover_glyph\":null,\"nonselection_glyph\":{\"id\":\"2284f584-46a6-40fe-ab69-d0190cc73cb8\",\"type\":\"Circle\"},\"selection_glyph\":null},\"id\":\"96f07ea5-6caf-4511-a446-a8c9c7474ae3\",\"type\":\"GlyphRenderer\"},{\"attributes\":{\"below\":[{\"id\":\"996cc6d2-2554-4f52-a7bc-25d088ad6610\",\"type\":\"LinearAxis\"}],\"left\":[{\"id\":\"cc962bca-12a7-4311-b0d3-324cb5afd719\",\"type\":\"LinearAxis\"}],\"plot_height\":450,\"renderers\":[{\"id\":\"996cc6d2-2554-4f52-a7bc-25d088ad6610\",\"type\":\"LinearAxis\"},{\"id\":\"dd0d003d-490f-415a-8d96-4eace615674c\",\"type\":\"Grid\"},{\"id\":\"cc962bca-12a7-4311-b0d3-324cb5afd719\",\"type\":\"LinearAxis\"},{\"id\":\"3ecc7477-055f-4091-a910-b4fb26cc7c90\",\"type\":\"Grid\"},{\"id\":\"ff68269e-b219-497e-83c1-0cc8a2006692\",\"type\":\"GlyphRenderer\"}],\"title\":\"Poisson Distribution\",\"title_text_font_size\":{\"value\":\"16pt\"},\"tool_events\":{\"id\":\"89269ffc-f110-494e-b687-165eb8f39957\",\"type\":\"ToolEvents\"},\"tools\":[{\"id\":\"00be58ac-6770-4891-9072-91cdff3a8fc1\",\"type\":\"PreviewSaveTool\"}],\"x_range\":{\"id\":\"d482dcec-27a4-4fe6-b22e-dce14659fbf9\",\"type\":\"Range1d\"},\"y_range\":{\"id\":\"9068e970-b052-45e8-8982-45e08c79e9d5\",\"type\":\"Range1d\"}},\"id\":\"0a82d219-a0a4-45f4-9b45-ce230fb2f3cf\",\"subtype\":\"Figure\",\"type\":\"Plot\"},{\"attributes\":{\"callback\":null,\"end\":20},\"id\":\"d482dcec-27a4-4fe6-b22e-dce14659fbf9\",\"type\":\"Range1d\"},{\"attributes\":{\"axis_label\":\"probability\",\"axis_label_text_font_size\":{\"value\":\"12pt\"},\"formatter\":{\"id\":\"fcce00f7-eaa9-4dcb-944d-9cc707d32b9b\",\"type\":\"BasicTickFormatter\"},\"plot\":{\"id\":\"b2be15d6-f4a9-496a-baa4-c0d779cff78b\",\"subtype\":\"Figure\",\"type\":\"Plot\"},\"ticker\":{\"id\":\"1f69ef00-9827-473a-8209-e00eaec51ef2\",\"type\":\"BasicTicker\"}},\"id\":\"31e595e9-dfbf-4705-8c90-bc1fe6f6cc78\",\"type\":\"LinearAxis\"},{\"attributes\":{\"data_source\":{\"id\":\"5188cd79-a187-434c-b2ba-8fd87872aa76\",\"type\":\"ColumnDataSource\"},\"glyph\":{\"id\":\"42191371-ab90-4a2b-a0a7-85f8b10929b8\",\"type\":\"Circle\"},\"hover_glyph\":null,\"nonselection_glyph\":{\"id\":\"52bd3dc6-324c-4e10-9132-87eadaef15e6\",\"type\":\"Circle\"},\"selection_glyph\":null},\"id\":\"cc9426fc-4b27-487e-b699-aec121ba0284\",\"type\":\"GlyphRenderer\"},{\"attributes\":{},\"id\":\"e3f57a4a-76a2-46e5-9ceb-9d1b819a61b2\",\"type\":\"BasicTickFormatter\"},{\"attributes\":{\"axis_label\":\"counts per interval\",\"axis_label_text_font_size\":{\"value\":\"12pt\"},\"formatter\":{\"id\":\"f3592466-171e-4016-b0f2-0a87158d6d59\",\"type\":\"BasicTickFormatter\"},\"plot\":{\"id\":\"0a82d219-a0a4-45f4-9b45-ce230fb2f3cf\",\"subtype\":\"Figure\",\"type\":\"Plot\"},\"ticker\":{\"id\":\"de39ffef-025e-4c2c-8f37-db75c5584952\",\"type\":\"BasicTicker\"}},\"id\":\"996cc6d2-2554-4f52-a7bc-25d088ad6610\",\"type\":\"LinearAxis\"},{\"attributes\":{\"below\":[{\"id\":\"5c3378cc-ca40-48d3-8bd8-a16a34599467\",\"type\":\"LinearAxis\"}],\"left\":[{\"id\":\"2861c88f-9e85-4799-b929-3fe54b0fb052\",\"type\":\"LinearAxis\"}],\"plot_height\":450,\"renderers\":[{\"id\":\"5c3378cc-ca40-48d3-8bd8-a16a34599467\",\"type\":\"LinearAxis\"},{\"id\":\"0f4ca2cb-05c7-4319-a158-c9a325c82a93\",\"type\":\"Grid\"},{\"id\":\"2861c88f-9e85-4799-b929-3fe54b0fb052\",\"type\":\"LinearAxis\"},{\"id\":\"f3584a57-7d13-4ef1-95de-456b1c95da20\",\"type\":\"Grid\"},{\"id\":\"cc9426fc-4b27-487e-b699-aec121ba0284\",\"type\":\"GlyphRenderer\"}],\"title\":\"Poisson Distribution\",\"title_text_font_size\":{\"value\":\"16pt\"},\"tool_events\":{\"id\":\"f2c3e087-8889-4d3e-825e-331d3d4937ff\",\"type\":\"ToolEvents\"},\"tools\":[{\"id\":\"5fe42661-f7c8-4412-b149-235c0c8a588f\",\"type\":\"PreviewSaveTool\"}],\"x_range\":{\"id\":\"e64d981d-de2b-4e18-9769-a92d19c5cf67\",\"type\":\"Range1d\"},\"y_range\":{\"id\":\"79678015-507c-43bc-8750-4f49f49068b3\",\"type\":\"Range1d\"}},\"id\":\"e415678d-9db7-4597-8cb8-7929fc5a2911\",\"subtype\":\"Figure\",\"type\":\"Plot\"},{\"attributes\":{},\"id\":\"739ea7fe-2e22-473d-9052-f28dd7baf4a1\",\"type\":\"BasicTickFormatter\"},{\"attributes\":{\"axis_label\":\"counts per interval\",\"axis_label_text_font_size\":{\"value\":\"12pt\"},\"formatter\":{\"id\":\"739ea7fe-2e22-473d-9052-f28dd7baf4a1\",\"type\":\"BasicTickFormatter\"},\"plot\":{\"id\":\"e415678d-9db7-4597-8cb8-7929fc5a2911\",\"subtype\":\"Figure\",\"type\":\"Plot\"},\"ticker\":{\"id\":\"d9a3428a-4cb2-48c8-95c0-5b4db946dbb9\",\"type\":\"BasicTicker\"}},\"id\":\"5c3378cc-ca40-48d3-8bd8-a16a34599467\",\"type\":\"LinearAxis\"},{\"attributes\":{},\"id\":\"7b479b66-7653-48cf-9394-ef84a5de5d63\",\"type\":\"ToolEvents\"},{\"attributes\":{\"plot\":{\"id\":\"7459126a-cdcc-4d79-8db3-ade0d2820b8d\",\"subtype\":\"Figure\",\"type\":\"Plot\"},\"ticker\":{\"id\":\"8ccfb276-1048-4ebb-94c0-5afcab9933ee\",\"type\":\"BasicTicker\"}},\"id\":\"856c74a5-cc2b-4225-8501-5b8ac2d64738\",\"type\":\"Grid\"},{\"attributes\":{\"dimension\":1,\"plot\":{\"id\":\"7459126a-cdcc-4d79-8db3-ade0d2820b8d\",\"subtype\":\"Figure\",\"type\":\"Plot\"},\"ticker\":{\"id\":\"09b7495f-ae81-47eb-99d5-66b6907cdd01\",\"type\":\"BasicTicker\"}},\"id\":\"ff1362f3-47bb-42de-8c3e-9a9610247d4b\",\"type\":\"Grid\"},{\"attributes\":{},\"id\":\"8ccfb276-1048-4ebb-94c0-5afcab9933ee\",\"type\":\"BasicTicker\"},{\"attributes\":{},\"id\":\"d9a3428a-4cb2-48c8-95c0-5b4db946dbb9\",\"type\":\"BasicTicker\"},{\"attributes\":{},\"id\":\"c0164a79-288e-4c87-ae72-877c19974e4f\",\"type\":\"BasicTicker\"},{\"attributes\":{\"plot\":{\"id\":\"e415678d-9db7-4597-8cb8-7929fc5a2911\",\"subtype\":\"Figure\",\"type\":\"Plot\"}},\"id\":\"5fe42661-f7c8-4412-b149-235c0c8a588f\",\"type\":\"PreviewSaveTool\"},{\"attributes\":{\"axis_label\":\"probability\",\"axis_label_text_font_size\":{\"value\":\"12pt\"},\"formatter\":{\"id\":\"9f3375ab-3777-425e-a7d0-3be15e98bbf1\",\"type\":\"BasicTickFormatter\"},\"plot\":{\"id\":\"0a82d219-a0a4-45f4-9b45-ce230fb2f3cf\",\"subtype\":\"Figure\",\"type\":\"Plot\"},\"ticker\":{\"id\":\"c6cb6876-d939-4f3a-82c8-e876d159c84b\",\"type\":\"BasicTicker\"}},\"id\":\"cc962bca-12a7-4311-b0d3-324cb5afd719\",\"type\":\"LinearAxis\"},{\"attributes\":{\"axis_label\":\"counts per interval\",\"axis_label_text_font_size\":{\"value\":\"12pt\"},\"formatter\":{\"id\":\"ab593fba-2b2e-4fd7-a9e0-14ec049c5f31\",\"type\":\"BasicTickFormatter\"},\"plot\":{\"id\":\"7459126a-cdcc-4d79-8db3-ade0d2820b8d\",\"subtype\":\"Figure\",\"type\":\"Plot\"},\"ticker\":{\"id\":\"8ccfb276-1048-4ebb-94c0-5afcab9933ee\",\"type\":\"BasicTicker\"}},\"id\":\"8273b053-ef1a-4034-bce5-a60b52f750ac\",\"type\":\"LinearAxis\"},{\"attributes\":{},\"id\":\"c6cb6876-d939-4f3a-82c8-e876d159c84b\",\"type\":\"BasicTicker\"},{\"attributes\":{\"plot\":{\"id\":\"7459126a-cdcc-4d79-8db3-ade0d2820b8d\",\"subtype\":\"Figure\",\"type\":\"Plot\"}},\"id\":\"b06e6e51-927d-4407-8e96-cb6b7a1875d5\",\"type\":\"PreviewSaveTool\"},{\"attributes\":{},\"id\":\"89269ffc-f110-494e-b687-165eb8f39957\",\"type\":\"ToolEvents\"},{\"attributes\":{},\"id\":\"5f3faca3-ed7d-4130-9375-8ecc9856de5d\",\"type\":\"BasicTicker\"},{\"attributes\":{\"callback\":null,\"end\":20},\"id\":\"4a41cdcc-4d2b-48cd-91cd-8410cb3256c8\",\"type\":\"Range1d\"},{\"attributes\":{},\"id\":\"4e1c3534-670e-4a9c-859d-0e2ccb5182f7\",\"type\":\"BasicTickFormatter\"},{\"attributes\":{\"fill_alpha\":{\"value\":0.1},\"fill_color\":{\"value\":\"#1f77b4\"},\"line_alpha\":{\"value\":0.1},\"line_color\":{\"value\":\"#1f77b4\"},\"size\":{\"units\":\"screen\",\"value\":8},\"x\":{\"field\":\"x\"},\"y\":{\"field\":\"y\"}},\"id\":\"52bd3dc6-324c-4e10-9132-87eadaef15e6\",\"type\":\"Circle\"},{\"attributes\":{\"axis_label\":\"counts per interval\",\"axis_label_text_font_size\":{\"value\":\"12pt\"},\"formatter\":{\"id\":\"e3f57a4a-76a2-46e5-9ceb-9d1b819a61b2\",\"type\":\"BasicTickFormatter\"},\"plot\":{\"id\":\"b2be15d6-f4a9-496a-baa4-c0d779cff78b\",\"subtype\":\"Figure\",\"type\":\"Plot\"},\"ticker\":{\"id\":\"c0164a79-288e-4c87-ae72-877c19974e4f\",\"type\":\"BasicTicker\"}},\"id\":\"c49dd462-af82-47ed-8e29-68c56205effe\",\"type\":\"LinearAxis\"},{\"attributes\":{\"callback\":null,\"end\":20},\"id\":\"e64d981d-de2b-4e18-9769-a92d19c5cf67\",\"type\":\"Range1d\"},{\"attributes\":{\"callback\":null,\"column_names\":[\"y\",\"x\"],\"data\":{\"x\":[0,1,2,3,4,5,6,7,8,9,10,11,12,13,14,15,16,17,18,19],\"y\":[4.5399929762484854e-05,0.00045399929762484856,0.0022699964881242427,0.007566654960414142,0.018916637401035354,0.03783327480207071,0.06305545800345118,0.09007922571921599,0.11259903214901998,0.1251100357211333,0.1251100357211333,0.11373639611012118,0.09478033009176766,0.07290794622443666,0.05207710444602619,0.03471806963068413,0.021698793519177577,0.012763996187751515,0.007091108993195286,0.0037321626279975192]}},\"id\":\"3358740f-ad7b-497d-aaf0-212183c3c830\",\"type\":\"ColumnDataSource\"},{\"attributes\":{},\"id\":\"de39ffef-025e-4c2c-8f37-db75c5584952\",\"type\":\"BasicTicker\"},{\"attributes\":{},\"id\":\"09b7495f-ae81-47eb-99d5-66b6907cdd01\",\"type\":\"BasicTicker\"},{\"attributes\":{\"plot\":{\"id\":\"0a82d219-a0a4-45f4-9b45-ce230fb2f3cf\",\"subtype\":\"Figure\",\"type\":\"Plot\"}},\"id\":\"00be58ac-6770-4891-9072-91cdff3a8fc1\",\"type\":\"PreviewSaveTool\"},{\"attributes\":{\"dimension\":1,\"plot\":{\"id\":\"e415678d-9db7-4597-8cb8-7929fc5a2911\",\"subtype\":\"Figure\",\"type\":\"Plot\"},\"ticker\":{\"id\":\"5f3faca3-ed7d-4130-9375-8ecc9856de5d\",\"type\":\"BasicTicker\"}},\"id\":\"f3584a57-7d13-4ef1-95de-456b1c95da20\",\"type\":\"Grid\"},{\"attributes\":{\"callback\":null,\"end\":20},\"id\":\"b07390b1-190a-49b9-8828-87d6a21572f9\",\"type\":\"Range1d\"},{\"attributes\":{},\"id\":\"1f69ef00-9827-473a-8209-e00eaec51ef2\",\"type\":\"BasicTicker\"},{\"attributes\":{\"callback\":null,\"end\":0.3},\"id\":\"6fd1585e-afba-4fd7-aa9f-506a4ad38487\",\"type\":\"Range1d\"}],\"root_ids\":[\"e415678d-9db7-4597-8cb8-7929fc5a2911\",\"b2be15d6-f4a9-496a-baa4-c0d779cff78b\",\"7459126a-cdcc-4d79-8db3-ade0d2820b8d\",\"0a82d219-a0a4-45f4-9b45-ce230fb2f3cf\"]},\"title\":\"Bokeh Application\",\"version\":\"0.11.1\"}};\n",
       "            var render_items = [{\"docid\":\"4ddd0fec-652a-48ab-965b-209c2f2facfc\",\"elementid\":\"3de2889c-2231-4d12-99e8-87a077fc8593\",\"modelid\":\"0a82d219-a0a4-45f4-9b45-ce230fb2f3cf\",\"notebook_comms_target\":\"513a18db-60a6-47ca-ba23-eb3c2eb1c088\"}];\n",
       "            \n",
       "            Bokeh.embed.embed_items(docs_json, render_items);\n",
       "        });\n",
       "      },\n",
       "      function(Bokeh) {\n",
       "      }\n",
       "    ];\n",
       "  \n",
       "    function run_inline_js() {\n",
       "      for (var i = 0; i < inline_js.length; i++) {\n",
       "        inline_js[i](window.Bokeh);\n",
       "      }\n",
       "    }\n",
       "  \n",
       "    if (window._bokeh_is_loading === 0) {\n",
       "      console.log(\"Bokeh: BokehJS loaded, going straight to plotting\");\n",
       "      run_inline_js();\n",
       "    } else {\n",
       "      load_libs(js_urls, function() {\n",
       "        console.log(\"Bokeh: BokehJS plotting callback run at\", now());\n",
       "        run_inline_js();\n",
       "      });\n",
       "    }\n",
       "  }(this));\n",
       "</script>"
      ]
     },
     "metadata": {},
     "output_type": "display_data"
    },
    {
     "data": {
      "text/html": [
       "<p><code>&lt;Bokeh Notebook handle for <strong>In[10]</strong>&gt;</code></p>"
      ],
      "text/plain": [
       "<bokeh.io._CommsHandle at 0x95e0358>"
      ]
     },
     "execution_count": 18,
     "metadata": {},
     "output_type": "execute_result"
    }
   ],
   "source": [
    "show(p)"
   ]
  },
  {
   "cell_type": "code",
   "execution_count": 19,
   "metadata": {
    "collapsed": false,
    "scrolled": false
   },
   "outputs": [],
   "source": [
    "def update(mean):\n",
    "    poisson.data_source.data['y'] = generate_poisson(mean)\n",
    "    push_notebook()"
   ]
  },
  {
   "cell_type": "code",
   "execution_count": 20,
   "metadata": {
    "collapsed": false
   },
   "outputs": [
    {
     "data": {
      "text/plain": [
       "<function __main__.update>"
      ]
     },
     "execution_count": 20,
     "metadata": {},
     "output_type": "execute_result"
    }
   ],
   "source": [
    "interact(update, mean=(0.0,count_range))"
   ]
  },
  {
   "cell_type": "markdown",
   "metadata": {},
   "source": [
    "As the mean number of counts per interval increases, the distribution becomes Gaussian:\n",
    "$$P(k) = \\frac{\\lambda^k e^{-\\lambda}}{k!} \\longrightarrow \\frac{1}{\\sqrt{2\\pi\\lambda}}exp\\big(-\\frac{(k-\\lambda)^2}{2\\lambda}\\big)$$"
   ]
  }
 ],
 "metadata": {
  "kernelspec": {
   "display_name": "Python 2",
   "language": "python",
   "name": "python2"
  },
  "language_info": {
   "codemirror_mode": {
    "name": "ipython",
    "version": 2
   },
   "file_extension": ".py",
   "mimetype": "text/x-python",
   "name": "python",
   "nbconvert_exporter": "python",
   "pygments_lexer": "ipython2",
   "version": "2.7.11"
  }
 },
 "nbformat": 4,
 "nbformat_minor": 0
}
