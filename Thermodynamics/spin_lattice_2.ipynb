{
 "cells": [
  {
   "cell_type": "markdown",
   "metadata": {},
   "source": [
    "## Exchange Interactions on a Spin-1/2 Lattice ##\n",
    "This notebook demonstrates phase transitions in a two-dimensional lattice of spin-1/2 particles. Exchange interactions are limited to nearest neighbours. The results are not quantitatively accurate, but exhibit phenomena characteristic of the system at the chosen temperature.\n",
    "The results apply more generally to two-phase systems with an energy penalty associated with phase boundaries, provided each element can be treated as a member of the canonical ensemble.\n",
    "Cyclic boundary conditions have been imposed, this is equivalent to identifying the left & right edges with one another, as well as the top & bottom. Consequently, the lattice is on the surface of a square torus."
   ]
  },
  {
   "cell_type": "code",
   "execution_count": 1,
   "metadata": {
    "collapsed": false
   },
   "outputs": [
    {
     "data": {
      "text/html": [
       "\n",
       "    <div class=\"bk-banner\">\n",
       "        <a href=\"http://bokeh.pydata.org\" target=\"_blank\" class=\"bk-logo bk-logo-small bk-logo-notebook\"></a>\n",
       "        <span id=\"b9578566-5ff2-420e-9193-56666c45df66\">Loading BokehJS ...</span>\n",
       "    </div>"
      ]
     },
     "metadata": {},
     "output_type": "display_data"
    },
    {
     "data": {
      "application/javascript": [
       "\n",
       "(function(global) {\n",
       "  function now() {\n",
       "    return new Date();\n",
       "  }\n",
       "\n",
       "  if (typeof (window._bokeh_onload_callbacks) === \"undefined\") {\n",
       "    window._bokeh_onload_callbacks = [];\n",
       "  }\n",
       "\n",
       "  function run_callbacks() {\n",
       "    window._bokeh_onload_callbacks.forEach(function(callback) { callback() });\n",
       "    delete window._bokeh_onload_callbacks\n",
       "    console.info(\"Bokeh: all callbacks have finished\");\n",
       "  }\n",
       "\n",
       "  function load_libs(js_urls, callback) {\n",
       "    window._bokeh_onload_callbacks.push(callback);\n",
       "    if (window._bokeh_is_loading > 0) {\n",
       "      console.log(\"Bokeh: BokehJS is being loaded, scheduling callback at\", now());\n",
       "      return null;\n",
       "    }\n",
       "    if (js_urls == null || js_urls.length === 0) {\n",
       "      run_callbacks();\n",
       "      return null;\n",
       "    }\n",
       "    console.log(\"Bokeh: BokehJS not loaded, scheduling load and callback at\", now());\n",
       "    window._bokeh_is_loading = js_urls.length;\n",
       "    for (var i = 0; i < js_urls.length; i++) {\n",
       "      var url = js_urls[i];\n",
       "      var s = document.createElement('script');\n",
       "      s.src = url;\n",
       "      s.async = false;\n",
       "      s.onreadystatechange = s.onload = function() {\n",
       "        window._bokeh_is_loading--;\n",
       "        if (window._bokeh_is_loading === 0) {\n",
       "          console.log(\"Bokeh: all BokehJS libraries loaded\");\n",
       "          run_callbacks()\n",
       "        }\n",
       "      };\n",
       "      s.onerror = function() {\n",
       "        console.warn(\"failed to load library \" + url);\n",
       "      };\n",
       "      console.log(\"Bokeh: injecting script tag for BokehJS library: \", url);\n",
       "      document.getElementsByTagName(\"head\")[0].appendChild(s);\n",
       "    }\n",
       "  };\n",
       "\n",
       "  var js_urls = ['https://cdn.pydata.org/bokeh/release/bokeh-0.11.1.min.js', 'https://cdn.pydata.org/bokeh/release/bokeh-widgets-0.11.1.min.js', 'https://cdn.pydata.org/bokeh/release/bokeh-compiler-0.11.1.min.js'];\n",
       "\n",
       "  var inline_js = [\n",
       "    function(Bokeh) {\n",
       "      Bokeh.set_log_level(\"info\");\n",
       "    },\n",
       "    \n",
       "    function(Bokeh) {\n",
       "      Bokeh.$(\"#b9578566-5ff2-420e-9193-56666c45df66\").text(\"BokehJS successfully loaded\");\n",
       "    },\n",
       "    function(Bokeh) {\n",
       "      console.log(\"Bokeh: injecting CSS: https://cdn.pydata.org/bokeh/release/bokeh-0.11.1.min.css\");\n",
       "      Bokeh.embed.inject_css(\"https://cdn.pydata.org/bokeh/release/bokeh-0.11.1.min.css\");\n",
       "      console.log(\"Bokeh: injecting CSS: https://cdn.pydata.org/bokeh/release/bokeh-widgets-0.11.1.min.css\");\n",
       "      Bokeh.embed.inject_css(\"https://cdn.pydata.org/bokeh/release/bokeh-widgets-0.11.1.min.css\");\n",
       "    }\n",
       "  ];\n",
       "\n",
       "  function run_inline_js() {\n",
       "    for (var i = 0; i < inline_js.length; i++) {\n",
       "      inline_js[i](window.Bokeh);\n",
       "    }\n",
       "  }\n",
       "\n",
       "  if (window._bokeh_is_loading === 0) {\n",
       "    console.log(\"Bokeh: BokehJS loaded, going straight to plotting\");\n",
       "    run_inline_js();\n",
       "  } else {\n",
       "    load_libs(js_urls, function() {\n",
       "      console.log(\"Bokeh: BokehJS plotting callback run at\", now());\n",
       "      run_inline_js();\n",
       "    });\n",
       "  }\n",
       "}(this));"
      ]
     },
     "metadata": {},
     "output_type": "display_data"
    }
   ],
   "source": [
    "import numpy as np\n",
    "from numpy import random\n",
    "from scipy.misc import factorial\n",
    "\n",
    "from IPython.display import display\n",
    "from ipywidgets import widgets, interact\n",
    "from bokeh.plotting import figure, show, output_notebook\n",
    "from bokeh.io import push_notebook, gridplot\n",
    "\n",
    "#prepare notebook for inline plots\n",
    "output_notebook()\n",
    "#seed random number generator for spin-flips\n",
    "random.seed()\n",
    "\n",
    "#set lattice parameters\n",
    "grid_size = 20\n",
    "N = grid_size**2\n",
    "#set interaction properties\n",
    "interaction_range = 1.0"
   ]
  },
  {
   "cell_type": "markdown",
   "metadata": {},
   "source": [
    "### Class for Spins"
   ]
  },
  {
   "cell_type": "code",
   "execution_count": 2,
   "metadata": {
    "collapsed": false
   },
   "outputs": [],
   "source": [
    "#each spin-1/2 lattice site is an instance of the element class\n",
    "class element:\n",
    "    def __init__(self, spin): #spin will take vals of 0 or 1\n",
    "        self.spin = spin    #representing down and up\n",
    "    def flip(self, temperature, up_energy, down_energy): #temperature between 0 and 1\n",
    "        up_boltzmann = np.exp(-up_energy/temperature)\n",
    "        down_boltzmann = np.exp(-down_energy/temperature)\n",
    "        prob_up = up_boltzmann/(up_boltzmann + down_boltzmann)\n",
    "        if random.uniform(0.0,1.0) < prob_up:\n",
    "            self.spin = 1\n",
    "        else:\n",
    "            self.spin = 0"
   ]
  },
  {
   "cell_type": "markdown",
   "metadata": {},
   "source": [
    "### Statistical Mechanics\n",
    "The element class describes the unpaired electrons on each lattice site. The method element.flip flips the spin with a probability set by statistical mechanics.\n",
    "The down and up states have energies $E_{\\downarrow}$ and $E_{\\uparrow}$  respectively, these depend on the element's surroundings.\n",
    "For an element in the canonical ensemble, the partition function is given by\n",
    "\n",
    "$$Z = e^{E_{\\uparrow} / {k_B T}} + e^{E_{\\downarrow} / {k_B T}},$$\n",
    "where $T$ is temperature and Boltzmann's constant, $k_B$, has been set to unity in the code. The probability of an element being spin-up in the next interval is therefore\n",
    "\n",
    "$$\\frac  {e^{E_{\\uparrow}}}{Z} ,$$\n",
    "\n",
    "and the order of spin-flips is up columns, then along rows."
   ]
  },
  {
   "cell_type": "code",
   "execution_count": 3,
   "metadata": {
    "collapsed": true
   },
   "outputs": [],
   "source": [
    "def initialise_lattice():\n",
    "    lattice = []\n",
    "    #initialise lattice as all spin-down\n",
    "    for i in range(grid_size):\n",
    "        lattice.append([])\n",
    "        for j in range(grid_size):\n",
    "            lattice[-1].append(element(0))\n",
    "    #convert to numpy array for iteration\n",
    "    lattice = np.asarray(lattice)\n",
    "    return lattice\n",
    "\n",
    "def get_spins(lattice):\n",
    "    x, y, spins = [], [], []\n",
    "    it = np.nditer(lattice, ['multi_index', 'refs_ok'])\n",
    "    for element in it:\n",
    "        ind_x, ind_y = it.multi_index\n",
    "        x.append(ind_x)\n",
    "        y.append(ind_y)\n",
    "        spins.append(lattice[ind_x][ind_y].spin)\n",
    "    return x, y, spins\n",
    "\n",
    "def calculate_energy(lattice, index, exchange_energy, interaction_range): #i and j are indices of the element\n",
    "    i,j = index\n",
    "    neighbour_indices = []\n",
    "    #find spins which interact with the one at i,j\n",
    "    it = np.nditer(lattice, ['multi_index', 'refs_ok'])\n",
    "    for element in it:\n",
    "        k, l = it.multi_index\n",
    "        #cyclic boundary conditions imposed\n",
    "        if (((i-k)%grid_size)**2 + ((j-l)%grid_size)**2) <= interaction_range**2:\n",
    "            neighbour_indices.append([k, l])        \n",
    "    #find number of up neighbours\n",
    "    up_neighbours = 0 \n",
    "    for k in neighbour_indices:\n",
    "        if lattice[k[0]][k[1]].spin == 1:\n",
    "            up_neighbours += 1 \n",
    "    #calculate energy that the spin would have if up or if down\n",
    "    up_energy = exchange_energy*up_neighbours\n",
    "    #down neighbours = 4 - up neighbours\n",
    "    down_energy = exchange_energy*(4 - up_neighbours)\n",
    "    return up_energy, down_energy\n",
    "\n",
    "def spin_flip(lattice, temperature, exchange_energy, interaction_range):\n",
    "    #create iterable object\n",
    "    it = np.nditer(lattice, ['multi_index', 'refs_ok'])\n",
    "    for element in it:\n",
    "        up_energy, down_energy = calculate_energy(lattice, it.multi_index, exchange_energy, interaction_range)\n",
    "        lattice[it.multi_index].flip(temperature, up_energy, down_energy)\n",
    "        \n",
    "#calculate the entropy of the system\n",
    "#k_B = 1\n",
    "def entropy(spins):\n",
    "    N_down = spins.count(0)\n",
    "    if N_down == 0:\n",
    "        N_down = 1 #to avoid log(0) errors    \n",
    "    N_up = spins.count(1)\n",
    "    if N_up == 0:\n",
    "        N_up = 1     \n",
    "    #use Stirling's approximation to find entropy\n",
    "    S = (N_up+N_down)*np.log(N_up+N_down) - N_down*np.log(N_down) - N_up*np.log(N_up)\n",
    "    #return entropy of current system state\n",
    "    return S\n",
    "        \n",
    "def create_plot_data(lattice):\n",
    "    x, y, spins = get_spins(lattice)\n",
    "    #red for spin up, blue for spin down\n",
    "    colors = [\"#%02x%02x%02x\" % (0, int(200*g), int(200*b)) for g, b in zip(spins, spins)]\n",
    "    return x,y,colors,spins"
   ]
  },
  {
   "cell_type": "markdown",
   "metadata": {},
   "source": [
    "### Set up the Plots"
   ]
  },
  {
   "cell_type": "code",
   "execution_count": 4,
   "metadata": {
    "collapsed": false
   },
   "outputs": [],
   "source": [
    "                \n",
    "lattice = initialise_lattice()\n",
    "#start at high temperature with no exchange interaction...\n",
    "spin_flip(lattice, 10.0, 0.0, 1.0)\n",
    "\n",
    "x,y,colors,spins = create_plot_data(lattice)\n",
    "p1 = figure(height = 500, width = 500)\n",
    "q1 = p1.square(x, y, fill_color = colors, line_color = None, size = 18)\n",
    "\n",
    "entropies = []\n",
    "steps = []\n",
    "p2 = figure(height = 500, width = 500)\n",
    "q2 = p2.line(steps, entropies)\n",
    "p2.xaxis.axis_label = \"Step\"\n",
    "p2.yaxis.axis_label = \"Entropy\"\n",
    "\n",
    "p = gridplot([[p1, p2]])"
   ]
  },
  {
   "cell_type": "markdown",
   "metadata": {},
   "source": [
    "### Control Energetics"
   ]
  },
  {
   "cell_type": "code",
   "execution_count": 5,
   "metadata": {
    "collapsed": false
   },
   "outputs": [],
   "source": [
    "#create a temperature slider\n",
    "T_slider = widgets.FloatSlider(value = 10.0, min = 0.001, max = 10.0, description = \"Temperature\")\n",
    "\n",
    "#create an exchange energy slider\n",
    "EE_slider = widgets.FloatSlider(value = 0.0, min = -10.0, max = 10.0, description = \"Exchange Energy\")\n",
    "\n",
    "#create an interaction range slider\n",
    "range_slider = widgets.FloatSlider(value = 1.0, min = 1.0, max = 10.0, description = \"Interaction Range\")\n",
    "\n",
    "#create buttons to implement these changes\n",
    "single_update_button = widgets.Button(description=\"Update\")\n",
    "multi_update_button = widgets.Button(description=\"Multi-update\")\n"
   ]
  },
  {
   "cell_type": "code",
   "execution_count": 6,
   "metadata": {
    "collapsed": false
   },
   "outputs": [],
   "source": [
    "#temperature and exchange energy buttons\n",
    "def update(b):\n",
    "    \n",
    "    #update grid\n",
    "    spin_flip(lattice, T_slider.value, EE_slider.value, range_slider.value)\n",
    "    q1.data_source.data['fill_color'] = create_plot_data(lattice)[2]\n",
    "    \n",
    "    #update global variables 'step' and 'entropies'\n",
    "    entropies.append(entropy(create_plot_data(lattice)[3])) \n",
    "    if len(steps) == 0:\n",
    "        steps.append(1)\n",
    "    else:\n",
    "        steps.append(steps[-1]+1)\n",
    "    #update entropy plot\n",
    "    q2.data_source.data['entropies'] = entropies\n",
    "    q2.data_source.data['steps'] = steps\n",
    "    push_notebook()\n",
    "    \n",
    "def multi_update(b):\n",
    "    #run update 20 times\n",
    "    for i in range(20):\n",
    "        update(b)\n",
    "    \n",
    "#update the plots when the button is clicked\n",
    "single_update_button.on_click(update)\n",
    "multi_update_button.on_click(multi_update)"
   ]
  },
  {
   "cell_type": "markdown",
   "metadata": {},
   "source": [
    "### Lattice of Spins\n",
    "Aqua and black cells represent spin up and down electrons, respectively. A positive interaction energy leads to diamagnetic and antiferromagnetic behaviour. Negative leads to paramagnetic and ferromagnetic behaviour."
   ]
  },
  {
   "cell_type": "code",
   "execution_count": 7,
   "metadata": {
    "collapsed": false
   },
   "outputs": [
    {
     "data": {
      "text/html": [
       "\n",
       "\n",
       "    <div class=\"plotdiv\" id=\"05c4af86-21dd-4127-96fc-7fbd413302ed\"></div>\n",
       "<script type=\"text/javascript\">\n",
       "  \n",
       "  (function(global) {\n",
       "    function now() {\n",
       "      return new Date();\n",
       "    }\n",
       "  \n",
       "    if (typeof (window._bokeh_onload_callbacks) === \"undefined\") {\n",
       "      window._bokeh_onload_callbacks = [];\n",
       "    }\n",
       "  \n",
       "    function run_callbacks() {\n",
       "      window._bokeh_onload_callbacks.forEach(function(callback) { callback() });\n",
       "      delete window._bokeh_onload_callbacks\n",
       "      console.info(\"Bokeh: all callbacks have finished\");\n",
       "    }\n",
       "  \n",
       "    function load_libs(js_urls, callback) {\n",
       "      window._bokeh_onload_callbacks.push(callback);\n",
       "      if (window._bokeh_is_loading > 0) {\n",
       "        console.log(\"Bokeh: BokehJS is being loaded, scheduling callback at\", now());\n",
       "        return null;\n",
       "      }\n",
       "      if (js_urls == null || js_urls.length === 0) {\n",
       "        run_callbacks();\n",
       "        return null;\n",
       "      }\n",
       "      console.log(\"Bokeh: BokehJS not loaded, scheduling load and callback at\", now());\n",
       "      window._bokeh_is_loading = js_urls.length;\n",
       "      for (var i = 0; i < js_urls.length; i++) {\n",
       "        var url = js_urls[i];\n",
       "        var s = document.createElement('script');\n",
       "        s.src = url;\n",
       "        s.async = false;\n",
       "        s.onreadystatechange = s.onload = function() {\n",
       "          window._bokeh_is_loading--;\n",
       "          if (window._bokeh_is_loading === 0) {\n",
       "            console.log(\"Bokeh: all BokehJS libraries loaded\");\n",
       "            run_callbacks()\n",
       "          }\n",
       "        };\n",
       "        s.onerror = function() {\n",
       "          console.warn(\"failed to load library \" + url);\n",
       "        };\n",
       "        console.log(\"Bokeh: injecting script tag for BokehJS library: \", url);\n",
       "        document.getElementsByTagName(\"head\")[0].appendChild(s);\n",
       "      }\n",
       "    };var element = document.getElementById(\"05c4af86-21dd-4127-96fc-7fbd413302ed\");\n",
       "    if (element == null) {\n",
       "      console.log(\"Bokeh: ERROR: autoload.js configured with elementid '05c4af86-21dd-4127-96fc-7fbd413302ed' but no matching script tag was found. \")\n",
       "      return false;\n",
       "    }\n",
       "  \n",
       "    var js_urls = [];\n",
       "  \n",
       "    var inline_js = [\n",
       "      function(Bokeh) {\n",
       "        Bokeh.$(function() {\n",
       "            var docs_json = {\"ce3d4e12-3de1-4083-85cc-4d62ae77f7ab\":{\"roots\":{\"references\":[{\"attributes\":{},\"id\":\"fb00af74-78a7-48c8-bba4-d5a27220c407\",\"type\":\"BasicTicker\"},{\"attributes\":{\"bottom_units\":\"screen\",\"fill_alpha\":{\"value\":0.5},\"fill_color\":{\"value\":\"lightgrey\"},\"left_units\":\"screen\",\"level\":\"overlay\",\"line_alpha\":{\"value\":1.0},\"line_color\":{\"value\":\"black\"},\"line_dash\":[4,4],\"line_width\":{\"value\":2},\"plot\":null,\"render_mode\":\"css\",\"right_units\":\"screen\",\"top_units\":\"screen\"},\"id\":\"c3bd7efa-7f5b-40cd-a759-2ea5bfec1856\",\"type\":\"BoxAnnotation\"},{\"attributes\":{\"plot\":{\"id\":\"a65a5f53-6565-450b-8d63-1791ce60efbe\",\"subtype\":\"Figure\",\"type\":\"Plot\"}},\"id\":\"7c617b38-384d-4ab3-8943-8f4d46e332ef\",\"type\":\"ResetTool\"},{\"attributes\":{\"callback\":null},\"id\":\"d0d1e9c6-7129-4ac5-97b2-be0ac181f929\",\"type\":\"DataRange1d\"},{\"attributes\":{},\"id\":\"9aeaf424-8ab5-4923-a150-006824d60e98\",\"type\":\"BasicTickFormatter\"},{\"attributes\":{\"fill_color\":{\"field\":\"fill_color\"},\"line_color\":{\"value\":null},\"size\":{\"units\":\"screen\",\"value\":18},\"x\":{\"field\":\"x\"},\"y\":{\"field\":\"y\"}},\"id\":\"4a729ab9-a1ee-4e7d-bb3a-481c606388d3\",\"type\":\"Square\"},{\"attributes\":{\"below\":[{\"id\":\"720d0a63-407b-46ea-b125-54bed99b00be\",\"type\":\"LinearAxis\"}],\"left\":[{\"id\":\"54a59288-7b61-4f8b-abe0-126c5b14b888\",\"type\":\"LinearAxis\"}],\"plot_height\":500,\"plot_width\":500,\"renderers\":[{\"id\":\"720d0a63-407b-46ea-b125-54bed99b00be\",\"type\":\"LinearAxis\"},{\"id\":\"b62d3a80-868d-4f72-acf1-5504a1f10f46\",\"type\":\"Grid\"},{\"id\":\"54a59288-7b61-4f8b-abe0-126c5b14b888\",\"type\":\"LinearAxis\"},{\"id\":\"0d0f3765-93f3-4d24-a1a6-8c1e6e019383\",\"type\":\"Grid\"},{\"id\":\"c3bd7efa-7f5b-40cd-a759-2ea5bfec1856\",\"type\":\"BoxAnnotation\"},{\"id\":\"600aee4a-f932-47c4-85ea-15922ae20380\",\"type\":\"GlyphRenderer\"}],\"tool_events\":{\"id\":\"fb95a77f-3e9d-408d-beab-556c94570eb3\",\"type\":\"ToolEvents\"},\"tools\":[{\"id\":\"6907eff9-dd39-4db8-8dba-c3e6488eb6a0\",\"type\":\"PanTool\"},{\"id\":\"a310a462-a7d5-4fc5-a1b8-4e78f0757350\",\"type\":\"WheelZoomTool\"},{\"id\":\"a541d3d9-5521-463b-aaef-713cb2fb1529\",\"type\":\"BoxZoomTool\"},{\"id\":\"291067ec-6532-475c-befa-b19578143e05\",\"type\":\"PreviewSaveTool\"},{\"id\":\"3a48c865-5db5-400c-b81b-17d50cdba4a2\",\"type\":\"ResizeTool\"},{\"id\":\"120c336e-a309-4035-b0d1-3aef036834a3\",\"type\":\"ResetTool\"},{\"id\":\"8b3ee8fc-369f-4905-a72a-d0a4800f33e4\",\"type\":\"HelpTool\"}],\"x_range\":{\"id\":\"a027bc1c-7fc7-41d6-9865-9e08ab394cf1\",\"type\":\"DataRange1d\"},\"y_range\":{\"id\":\"d0d1e9c6-7129-4ac5-97b2-be0ac181f929\",\"type\":\"DataRange1d\"}},\"id\":\"c71fdacb-eee6-455a-a04f-2e43c767aad5\",\"subtype\":\"Figure\",\"type\":\"Plot\"},{\"attributes\":{\"plot\":{\"id\":\"a65a5f53-6565-450b-8d63-1791ce60efbe\",\"subtype\":\"Figure\",\"type\":\"Plot\"},\"ticker\":{\"id\":\"1125e7aa-86f1-4b9c-b9c5-97cbd7b1ef85\",\"type\":\"BasicTicker\"}},\"id\":\"229f52a2-d044-4fd5-a25f-0cf39382972f\",\"type\":\"Grid\"},{\"attributes\":{\"data_source\":{\"id\":\"6f1c30f2-3d95-4282-9a6e-1a18751b25c8\",\"type\":\"ColumnDataSource\"},\"glyph\":{\"id\":\"4a729ab9-a1ee-4e7d-bb3a-481c606388d3\",\"type\":\"Square\"},\"hover_glyph\":null,\"nonselection_glyph\":{\"id\":\"52bccb1f-2bef-4e1a-a6e9-66d371a90c6a\",\"type\":\"Square\"},\"selection_glyph\":null},\"id\":\"600aee4a-f932-47c4-85ea-15922ae20380\",\"type\":\"GlyphRenderer\"},{\"attributes\":{},\"id\":\"73879fd4-8e15-4577-ae07-8eb3b9134e76\",\"type\":\"BasicTickFormatter\"},{\"attributes\":{\"formatter\":{\"id\":\"73879fd4-8e15-4577-ae07-8eb3b9134e76\",\"type\":\"BasicTickFormatter\"},\"plot\":{\"id\":\"c71fdacb-eee6-455a-a04f-2e43c767aad5\",\"subtype\":\"Figure\",\"type\":\"Plot\"},\"ticker\":{\"id\":\"516b9481-8298-4046-894d-59fd475c27bb\",\"type\":\"BasicTicker\"}},\"id\":\"720d0a63-407b-46ea-b125-54bed99b00be\",\"type\":\"LinearAxis\"},{\"attributes\":{\"plot\":{\"id\":\"a65a5f53-6565-450b-8d63-1791ce60efbe\",\"subtype\":\"Figure\",\"type\":\"Plot\"}},\"id\":\"c1268f8c-99ca-482d-ae16-17639d625478\",\"type\":\"PreviewSaveTool\"},{\"attributes\":{\"plot\":{\"id\":\"a65a5f53-6565-450b-8d63-1791ce60efbe\",\"subtype\":\"Figure\",\"type\":\"Plot\"}},\"id\":\"4c671a88-775e-4431-b812-de3246fa77d2\",\"type\":\"WheelZoomTool\"},{\"attributes\":{},\"id\":\"ddb1706e-06c7-4102-90de-5d8fcc04ced2\",\"type\":\"ToolEvents\"},{\"attributes\":{\"callback\":null},\"id\":\"a027bc1c-7fc7-41d6-9865-9e08ab394cf1\",\"type\":\"DataRange1d\"},{\"attributes\":{\"callback\":null},\"id\":\"864de889-16bb-4177-bd75-5067a0c67dbb\",\"type\":\"DataRange1d\"},{\"attributes\":{},\"id\":\"fb95a77f-3e9d-408d-beab-556c94570eb3\",\"type\":\"ToolEvents\"},{\"attributes\":{\"plot\":{\"id\":\"c71fdacb-eee6-455a-a04f-2e43c767aad5\",\"subtype\":\"Figure\",\"type\":\"Plot\"}},\"id\":\"8b3ee8fc-369f-4905-a72a-d0a4800f33e4\",\"type\":\"HelpTool\"},{\"attributes\":{\"axis_label\":\"Entropy\",\"formatter\":{\"id\":\"9aeaf424-8ab5-4923-a150-006824d60e98\",\"type\":\"BasicTickFormatter\"},\"plot\":{\"id\":\"a65a5f53-6565-450b-8d63-1791ce60efbe\",\"subtype\":\"Figure\",\"type\":\"Plot\"},\"ticker\":{\"id\":\"fb00af74-78a7-48c8-bba4-d5a27220c407\",\"type\":\"BasicTicker\"}},\"id\":\"300b5749-14ce-4939-b67e-4752a8d0d3d2\",\"type\":\"LinearAxis\"},{\"attributes\":{},\"id\":\"0a20e1b6-f442-47f7-8375-0091a98dbb78\",\"type\":\"BasicTickFormatter\"},{\"attributes\":{},\"id\":\"4b17d42a-70e7-41e2-a0b8-5885d4d0cba3\",\"type\":\"BasicTicker\"},{\"attributes\":{\"plot\":{\"id\":\"a65a5f53-6565-450b-8d63-1791ce60efbe\",\"subtype\":\"Figure\",\"type\":\"Plot\"}},\"id\":\"4ceb6258-07bd-4983-9634-89bf2b3d1a6c\",\"type\":\"PanTool\"},{\"attributes\":{\"plot\":{\"id\":\"c71fdacb-eee6-455a-a04f-2e43c767aad5\",\"subtype\":\"Figure\",\"type\":\"Plot\"}},\"id\":\"a310a462-a7d5-4fc5-a1b8-4e78f0757350\",\"type\":\"WheelZoomTool\"},{\"attributes\":{\"plot\":{\"id\":\"a65a5f53-6565-450b-8d63-1791ce60efbe\",\"subtype\":\"Figure\",\"type\":\"Plot\"}},\"id\":\"a4b55048-490d-417c-af21-139e3e4977f4\",\"type\":\"ResizeTool\"},{\"attributes\":{\"line_alpha\":{\"value\":0.1},\"line_color\":{\"value\":\"#1f77b4\"},\"x\":{\"field\":\"x\"},\"y\":{\"field\":\"y\"}},\"id\":\"a8cb5460-000b-43f3-b562-c068627900f5\",\"type\":\"Line\"},{\"attributes\":{\"plot\":{\"id\":\"c71fdacb-eee6-455a-a04f-2e43c767aad5\",\"subtype\":\"Figure\",\"type\":\"Plot\"}},\"id\":\"3a48c865-5db5-400c-b81b-17d50cdba4a2\",\"type\":\"ResizeTool\"},{\"attributes\":{\"fill_alpha\":{\"value\":0.1},\"fill_color\":{\"value\":\"#1f77b4\"},\"line_alpha\":{\"value\":0.1},\"line_color\":{\"value\":\"#1f77b4\"},\"size\":{\"units\":\"screen\",\"value\":18},\"x\":{\"field\":\"x\"},\"y\":{\"field\":\"y\"}},\"id\":\"52bccb1f-2bef-4e1a-a6e9-66d371a90c6a\",\"type\":\"Square\"},{\"attributes\":{\"overlay\":{\"id\":\"c3bd7efa-7f5b-40cd-a759-2ea5bfec1856\",\"type\":\"BoxAnnotation\"},\"plot\":{\"id\":\"c71fdacb-eee6-455a-a04f-2e43c767aad5\",\"subtype\":\"Figure\",\"type\":\"Plot\"}},\"id\":\"a541d3d9-5521-463b-aaef-713cb2fb1529\",\"type\":\"BoxZoomTool\"},{\"attributes\":{\"data_source\":{\"id\":\"b5832bc0-758e-4d1d-b927-99b5707a5ec6\",\"type\":\"ColumnDataSource\"},\"glyph\":{\"id\":\"55716d4f-6caf-4002-9d83-b68e3881183a\",\"type\":\"Line\"},\"hover_glyph\":null,\"nonselection_glyph\":{\"id\":\"a8cb5460-000b-43f3-b562-c068627900f5\",\"type\":\"Line\"},\"selection_glyph\":null},\"id\":\"395125f4-c658-4c8f-91ef-44121e40bd41\",\"type\":\"GlyphRenderer\"},{\"attributes\":{\"below\":[{\"id\":\"272ef7ca-79bc-4a3d-9621-8da520ae905c\",\"type\":\"LinearAxis\"}],\"left\":[{\"id\":\"300b5749-14ce-4939-b67e-4752a8d0d3d2\",\"type\":\"LinearAxis\"}],\"plot_height\":500,\"plot_width\":500,\"renderers\":[{\"id\":\"272ef7ca-79bc-4a3d-9621-8da520ae905c\",\"type\":\"LinearAxis\"},{\"id\":\"229f52a2-d044-4fd5-a25f-0cf39382972f\",\"type\":\"Grid\"},{\"id\":\"300b5749-14ce-4939-b67e-4752a8d0d3d2\",\"type\":\"LinearAxis\"},{\"id\":\"4abf9f87-1637-4533-b902-48f77333dfda\",\"type\":\"Grid\"},{\"id\":\"873e98b3-997f-493b-bf99-0c349652fc99\",\"type\":\"BoxAnnotation\"},{\"id\":\"395125f4-c658-4c8f-91ef-44121e40bd41\",\"type\":\"GlyphRenderer\"}],\"tool_events\":{\"id\":\"ddb1706e-06c7-4102-90de-5d8fcc04ced2\",\"type\":\"ToolEvents\"},\"tools\":[{\"id\":\"4ceb6258-07bd-4983-9634-89bf2b3d1a6c\",\"type\":\"PanTool\"},{\"id\":\"4c671a88-775e-4431-b812-de3246fa77d2\",\"type\":\"WheelZoomTool\"},{\"id\":\"342fe7e6-c2e2-44c0-adc9-5262cc07decc\",\"type\":\"BoxZoomTool\"},{\"id\":\"c1268f8c-99ca-482d-ae16-17639d625478\",\"type\":\"PreviewSaveTool\"},{\"id\":\"a4b55048-490d-417c-af21-139e3e4977f4\",\"type\":\"ResizeTool\"},{\"id\":\"7c617b38-384d-4ab3-8943-8f4d46e332ef\",\"type\":\"ResetTool\"},{\"id\":\"f3653ad2-dbba-443f-b4ab-d7de1f4e7576\",\"type\":\"HelpTool\"}],\"x_range\":{\"id\":\"864de889-16bb-4177-bd75-5067a0c67dbb\",\"type\":\"DataRange1d\"},\"y_range\":{\"id\":\"a2a704f7-e199-4164-9fda-2ab6f0655865\",\"type\":\"DataRange1d\"}},\"id\":\"a65a5f53-6565-450b-8d63-1791ce60efbe\",\"subtype\":\"Figure\",\"type\":\"Plot\"},{\"attributes\":{\"plot\":{\"id\":\"a65a5f53-6565-450b-8d63-1791ce60efbe\",\"subtype\":\"Figure\",\"type\":\"Plot\"}},\"id\":\"f3653ad2-dbba-443f-b4ab-d7de1f4e7576\",\"type\":\"HelpTool\"},{\"attributes\":{\"callback\":null,\"column_names\":[\"y\",\"x\",\"fill_color\"],\"data\":{\"fill_color\":[\"#000000\",\"#000000\",\"#000000\",\"#000000\",\"#000000\",\"#00c8c8\",\"#000000\",\"#00c8c8\",\"#00c8c8\",\"#00c8c8\",\"#00c8c8\",\"#00c8c8\",\"#00c8c8\",\"#000000\",\"#000000\",\"#000000\",\"#000000\",\"#00c8c8\",\"#000000\",\"#000000\",\"#00c8c8\",\"#000000\",\"#00c8c8\",\"#000000\",\"#00c8c8\",\"#000000\",\"#000000\",\"#00c8c8\",\"#00c8c8\",\"#00c8c8\",\"#00c8c8\",\"#000000\",\"#00c8c8\",\"#000000\",\"#00c8c8\",\"#00c8c8\",\"#00c8c8\",\"#00c8c8\",\"#00c8c8\",\"#000000\",\"#00c8c8\",\"#000000\",\"#00c8c8\",\"#000000\",\"#00c8c8\",\"#000000\",\"#000000\",\"#000000\",\"#00c8c8\",\"#00c8c8\",\"#000000\",\"#000000\",\"#00c8c8\",\"#000000\",\"#000000\",\"#000000\",\"#000000\",\"#000000\",\"#00c8c8\",\"#00c8c8\",\"#000000\",\"#00c8c8\",\"#00c8c8\",\"#000000\",\"#000000\",\"#000000\",\"#000000\",\"#000000\",\"#000000\",\"#000000\",\"#00c8c8\",\"#000000\",\"#00c8c8\",\"#000000\",\"#00c8c8\",\"#000000\",\"#00c8c8\",\"#000000\",\"#000000\",\"#00c8c8\",\"#000000\",\"#00c8c8\",\"#000000\",\"#00c8c8\",\"#00c8c8\",\"#00c8c8\",\"#00c8c8\",\"#00c8c8\",\"#00c8c8\",\"#000000\",\"#000000\",\"#000000\",\"#00c8c8\",\"#00c8c8\",\"#00c8c8\",\"#000000\",\"#000000\",\"#000000\",\"#000000\",\"#00c8c8\",\"#00c8c8\",\"#000000\",\"#00c8c8\",\"#000000\",\"#00c8c8\",\"#000000\",\"#000000\",\"#00c8c8\",\"#00c8c8\",\"#00c8c8\",\"#000000\",\"#00c8c8\",\"#00c8c8\",\"#00c8c8\",\"#00c8c8\",\"#000000\",\"#000000\",\"#00c8c8\",\"#000000\",\"#00c8c8\",\"#000000\",\"#000000\",\"#000000\",\"#000000\",\"#000000\",\"#00c8c8\",\"#000000\",\"#000000\",\"#00c8c8\",\"#000000\",\"#000000\",\"#00c8c8\",\"#00c8c8\",\"#000000\",\"#00c8c8\",\"#000000\",\"#000000\",\"#000000\",\"#00c8c8\",\"#000000\",\"#000000\",\"#000000\",\"#000000\",\"#000000\",\"#000000\",\"#00c8c8\",\"#00c8c8\",\"#000000\",\"#00c8c8\",\"#00c8c8\",\"#00c8c8\",\"#000000\",\"#00c8c8\",\"#00c8c8\",\"#00c8c8\",\"#000000\",\"#00c8c8\",\"#00c8c8\",\"#000000\",\"#000000\",\"#000000\",\"#00c8c8\",\"#00c8c8\",\"#000000\",\"#000000\",\"#00c8c8\",\"#000000\",\"#00c8c8\",\"#000000\",\"#000000\",\"#000000\",\"#000000\",\"#000000\",\"#00c8c8\",\"#000000\",\"#00c8c8\",\"#00c8c8\",\"#00c8c8\",\"#00c8c8\",\"#000000\",\"#00c8c8\",\"#00c8c8\",\"#00c8c8\",\"#00c8c8\",\"#000000\",\"#000000\",\"#00c8c8\",\"#000000\",\"#00c8c8\",\"#00c8c8\",\"#00c8c8\",\"#00c8c8\",\"#000000\",\"#000000\",\"#00c8c8\",\"#000000\",\"#00c8c8\",\"#00c8c8\",\"#000000\",\"#00c8c8\",\"#000000\",\"#000000\",\"#000000\",\"#00c8c8\",\"#000000\",\"#00c8c8\",\"#000000\",\"#00c8c8\",\"#000000\",\"#00c8c8\",\"#00c8c8\",\"#00c8c8\",\"#00c8c8\",\"#00c8c8\",\"#000000\",\"#000000\",\"#00c8c8\",\"#000000\",\"#00c8c8\",\"#000000\",\"#00c8c8\",\"#000000\",\"#000000\",\"#000000\",\"#000000\",\"#000000\",\"#000000\",\"#00c8c8\",\"#000000\",\"#000000\",\"#000000\",\"#000000\",\"#000000\",\"#00c8c8\",\"#000000\",\"#00c8c8\",\"#00c8c8\",\"#000000\",\"#000000\",\"#000000\",\"#000000\",\"#00c8c8\",\"#000000\",\"#00c8c8\",\"#000000\",\"#00c8c8\",\"#00c8c8\",\"#00c8c8\",\"#00c8c8\",\"#000000\",\"#000000\",\"#00c8c8\",\"#000000\",\"#00c8c8\",\"#00c8c8\",\"#00c8c8\",\"#000000\",\"#00c8c8\",\"#00c8c8\",\"#000000\",\"#00c8c8\",\"#00c8c8\",\"#000000\",\"#00c8c8\",\"#00c8c8\",\"#00c8c8\",\"#00c8c8\",\"#00c8c8\",\"#000000\",\"#00c8c8\",\"#00c8c8\",\"#000000\",\"#000000\",\"#00c8c8\",\"#00c8c8\",\"#00c8c8\",\"#00c8c8\",\"#00c8c8\",\"#000000\",\"#00c8c8\",\"#000000\",\"#000000\",\"#000000\",\"#000000\",\"#000000\",\"#00c8c8\",\"#000000\",\"#00c8c8\",\"#000000\",\"#000000\",\"#000000\",\"#00c8c8\",\"#000000\",\"#00c8c8\",\"#00c8c8\",\"#00c8c8\",\"#000000\",\"#00c8c8\",\"#000000\",\"#000000\",\"#00c8c8\",\"#000000\",\"#00c8c8\",\"#00c8c8\",\"#000000\",\"#00c8c8\",\"#00c8c8\",\"#00c8c8\",\"#00c8c8\",\"#000000\",\"#00c8c8\",\"#000000\",\"#000000\",\"#000000\",\"#000000\",\"#000000\",\"#00c8c8\",\"#000000\",\"#000000\",\"#000000\",\"#00c8c8\",\"#000000\",\"#00c8c8\",\"#000000\",\"#000000\",\"#000000\",\"#000000\",\"#000000\",\"#00c8c8\",\"#000000\",\"#000000\",\"#000000\",\"#00c8c8\",\"#000000\",\"#00c8c8\",\"#000000\",\"#000000\",\"#00c8c8\",\"#000000\",\"#000000\",\"#000000\",\"#00c8c8\",\"#000000\",\"#00c8c8\",\"#00c8c8\",\"#00c8c8\",\"#000000\",\"#00c8c8\",\"#000000\",\"#000000\",\"#00c8c8\",\"#000000\",\"#00c8c8\",\"#000000\",\"#000000\",\"#00c8c8\",\"#000000\",\"#00c8c8\",\"#000000\",\"#00c8c8\",\"#000000\",\"#000000\",\"#000000\",\"#000000\",\"#000000\",\"#000000\",\"#000000\",\"#000000\",\"#000000\",\"#00c8c8\",\"#00c8c8\",\"#00c8c8\",\"#000000\",\"#000000\",\"#00c8c8\",\"#00c8c8\",\"#000000\",\"#00c8c8\",\"#000000\",\"#00c8c8\",\"#00c8c8\",\"#00c8c8\",\"#000000\",\"#00c8c8\",\"#00c8c8\",\"#00c8c8\",\"#00c8c8\",\"#00c8c8\",\"#000000\",\"#00c8c8\",\"#000000\",\"#00c8c8\",\"#00c8c8\",\"#000000\",\"#00c8c8\",\"#000000\",\"#000000\",\"#000000\",\"#00c8c8\",\"#000000\"],\"x\":[0,0,0,0,0,0,0,0,0,0,0,0,0,0,0,0,0,0,0,0,1,1,1,1,1,1,1,1,1,1,1,1,1,1,1,1,1,1,1,1,2,2,2,2,2,2,2,2,2,2,2,2,2,2,2,2,2,2,2,2,3,3,3,3,3,3,3,3,3,3,3,3,3,3,3,3,3,3,3,3,4,4,4,4,4,4,4,4,4,4,4,4,4,4,4,4,4,4,4,4,5,5,5,5,5,5,5,5,5,5,5,5,5,5,5,5,5,5,5,5,6,6,6,6,6,6,6,6,6,6,6,6,6,6,6,6,6,6,6,6,7,7,7,7,7,7,7,7,7,7,7,7,7,7,7,7,7,7,7,7,8,8,8,8,8,8,8,8,8,8,8,8,8,8,8,8,8,8,8,8,9,9,9,9,9,9,9,9,9,9,9,9,9,9,9,9,9,9,9,9,10,10,10,10,10,10,10,10,10,10,10,10,10,10,10,10,10,10,10,10,11,11,11,11,11,11,11,11,11,11,11,11,11,11,11,11,11,11,11,11,12,12,12,12,12,12,12,12,12,12,12,12,12,12,12,12,12,12,12,12,13,13,13,13,13,13,13,13,13,13,13,13,13,13,13,13,13,13,13,13,14,14,14,14,14,14,14,14,14,14,14,14,14,14,14,14,14,14,14,14,15,15,15,15,15,15,15,15,15,15,15,15,15,15,15,15,15,15,15,15,16,16,16,16,16,16,16,16,16,16,16,16,16,16,16,16,16,16,16,16,17,17,17,17,17,17,17,17,17,17,17,17,17,17,17,17,17,17,17,17,18,18,18,18,18,18,18,18,18,18,18,18,18,18,18,18,18,18,18,18,19,19,19,19,19,19,19,19,19,19,19,19,19,19,19,19,19,19,19,19],\"y\":[0,1,2,3,4,5,6,7,8,9,10,11,12,13,14,15,16,17,18,19,0,1,2,3,4,5,6,7,8,9,10,11,12,13,14,15,16,17,18,19,0,1,2,3,4,5,6,7,8,9,10,11,12,13,14,15,16,17,18,19,0,1,2,3,4,5,6,7,8,9,10,11,12,13,14,15,16,17,18,19,0,1,2,3,4,5,6,7,8,9,10,11,12,13,14,15,16,17,18,19,0,1,2,3,4,5,6,7,8,9,10,11,12,13,14,15,16,17,18,19,0,1,2,3,4,5,6,7,8,9,10,11,12,13,14,15,16,17,18,19,0,1,2,3,4,5,6,7,8,9,10,11,12,13,14,15,16,17,18,19,0,1,2,3,4,5,6,7,8,9,10,11,12,13,14,15,16,17,18,19,0,1,2,3,4,5,6,7,8,9,10,11,12,13,14,15,16,17,18,19,0,1,2,3,4,5,6,7,8,9,10,11,12,13,14,15,16,17,18,19,0,1,2,3,4,5,6,7,8,9,10,11,12,13,14,15,16,17,18,19,0,1,2,3,4,5,6,7,8,9,10,11,12,13,14,15,16,17,18,19,0,1,2,3,4,5,6,7,8,9,10,11,12,13,14,15,16,17,18,19,0,1,2,3,4,5,6,7,8,9,10,11,12,13,14,15,16,17,18,19,0,1,2,3,4,5,6,7,8,9,10,11,12,13,14,15,16,17,18,19,0,1,2,3,4,5,6,7,8,9,10,11,12,13,14,15,16,17,18,19,0,1,2,3,4,5,6,7,8,9,10,11,12,13,14,15,16,17,18,19,0,1,2,3,4,5,6,7,8,9,10,11,12,13,14,15,16,17,18,19,0,1,2,3,4,5,6,7,8,9,10,11,12,13,14,15,16,17,18,19]}},\"id\":\"6f1c30f2-3d95-4282-9a6e-1a18751b25c8\",\"type\":\"ColumnDataSource\"},{\"attributes\":{\"line_color\":{\"value\":\"#1f77b4\"},\"x\":{\"field\":\"x\"},\"y\":{\"field\":\"y\"}},\"id\":\"55716d4f-6caf-4002-9d83-b68e3881183a\",\"type\":\"Line\"},{\"attributes\":{},\"id\":\"e8e335fd-1e4f-4e43-9d7a-85879fe94191\",\"type\":\"BasicTickFormatter\"},{\"attributes\":{\"callback\":null},\"id\":\"a2a704f7-e199-4164-9fda-2ab6f0655865\",\"type\":\"DataRange1d\"},{\"attributes\":{\"dimension\":1,\"plot\":{\"id\":\"c71fdacb-eee6-455a-a04f-2e43c767aad5\",\"subtype\":\"Figure\",\"type\":\"Plot\"},\"ticker\":{\"id\":\"4b17d42a-70e7-41e2-a0b8-5885d4d0cba3\",\"type\":\"BasicTicker\"}},\"id\":\"0d0f3765-93f3-4d24-a1a6-8c1e6e019383\",\"type\":\"Grid\"},{\"attributes\":{\"dimension\":1,\"plot\":{\"id\":\"a65a5f53-6565-450b-8d63-1791ce60efbe\",\"subtype\":\"Figure\",\"type\":\"Plot\"},\"ticker\":{\"id\":\"fb00af74-78a7-48c8-bba4-d5a27220c407\",\"type\":\"BasicTicker\"}},\"id\":\"4abf9f87-1637-4533-b902-48f77333dfda\",\"type\":\"Grid\"},{\"attributes\":{\"plot\":{\"id\":\"c71fdacb-eee6-455a-a04f-2e43c767aad5\",\"subtype\":\"Figure\",\"type\":\"Plot\"}},\"id\":\"120c336e-a309-4035-b0d1-3aef036834a3\",\"type\":\"ResetTool\"},{\"attributes\":{\"formatter\":{\"id\":\"e8e335fd-1e4f-4e43-9d7a-85879fe94191\",\"type\":\"BasicTickFormatter\"},\"plot\":{\"id\":\"c71fdacb-eee6-455a-a04f-2e43c767aad5\",\"subtype\":\"Figure\",\"type\":\"Plot\"},\"ticker\":{\"id\":\"4b17d42a-70e7-41e2-a0b8-5885d4d0cba3\",\"type\":\"BasicTicker\"}},\"id\":\"54a59288-7b61-4f8b-abe0-126c5b14b888\",\"type\":\"LinearAxis\"},{\"attributes\":{\"plot\":{\"id\":\"c71fdacb-eee6-455a-a04f-2e43c767aad5\",\"subtype\":\"Figure\",\"type\":\"Plot\"},\"ticker\":{\"id\":\"516b9481-8298-4046-894d-59fd475c27bb\",\"type\":\"BasicTicker\"}},\"id\":\"b62d3a80-868d-4f72-acf1-5504a1f10f46\",\"type\":\"Grid\"},{\"attributes\":{\"plot\":{\"id\":\"c71fdacb-eee6-455a-a04f-2e43c767aad5\",\"subtype\":\"Figure\",\"type\":\"Plot\"}},\"id\":\"291067ec-6532-475c-befa-b19578143e05\",\"type\":\"PreviewSaveTool\"},{\"attributes\":{\"callback\":null,\"column_names\":[\"y\",\"x\"],\"data\":{\"x\":[],\"y\":[]}},\"id\":\"b5832bc0-758e-4d1d-b927-99b5707a5ec6\",\"type\":\"ColumnDataSource\"},{\"attributes\":{\"bottom_units\":\"screen\",\"fill_alpha\":{\"value\":0.5},\"fill_color\":{\"value\":\"lightgrey\"},\"left_units\":\"screen\",\"level\":\"overlay\",\"line_alpha\":{\"value\":1.0},\"line_color\":{\"value\":\"black\"},\"line_dash\":[4,4],\"line_width\":{\"value\":2},\"plot\":null,\"render_mode\":\"css\",\"right_units\":\"screen\",\"top_units\":\"screen\"},\"id\":\"873e98b3-997f-493b-bf99-0c349652fc99\",\"type\":\"BoxAnnotation\"},{\"attributes\":{\"plot\":{\"id\":\"c71fdacb-eee6-455a-a04f-2e43c767aad5\",\"subtype\":\"Figure\",\"type\":\"Plot\"}},\"id\":\"6907eff9-dd39-4db8-8dba-c3e6488eb6a0\",\"type\":\"PanTool\"},{\"attributes\":{\"overlay\":{\"id\":\"873e98b3-997f-493b-bf99-0c349652fc99\",\"type\":\"BoxAnnotation\"},\"plot\":{\"id\":\"a65a5f53-6565-450b-8d63-1791ce60efbe\",\"subtype\":\"Figure\",\"type\":\"Plot\"}},\"id\":\"342fe7e6-c2e2-44c0-adc9-5262cc07decc\",\"type\":\"BoxZoomTool\"},{\"attributes\":{\"axis_label\":\"Step\",\"formatter\":{\"id\":\"0a20e1b6-f442-47f7-8375-0091a98dbb78\",\"type\":\"BasicTickFormatter\"},\"plot\":{\"id\":\"a65a5f53-6565-450b-8d63-1791ce60efbe\",\"subtype\":\"Figure\",\"type\":\"Plot\"},\"ticker\":{\"id\":\"1125e7aa-86f1-4b9c-b9c5-97cbd7b1ef85\",\"type\":\"BasicTicker\"}},\"id\":\"272ef7ca-79bc-4a3d-9621-8da520ae905c\",\"type\":\"LinearAxis\"},{\"attributes\":{},\"id\":\"516b9481-8298-4046-894d-59fd475c27bb\",\"type\":\"BasicTicker\"},{\"attributes\":{},\"id\":\"1125e7aa-86f1-4b9c-b9c5-97cbd7b1ef85\",\"type\":\"BasicTicker\"},{\"attributes\":{\"children\":[[{\"id\":\"c71fdacb-eee6-455a-a04f-2e43c767aad5\",\"subtype\":\"Figure\",\"type\":\"Plot\"},{\"id\":\"a65a5f53-6565-450b-8d63-1791ce60efbe\",\"subtype\":\"Figure\",\"type\":\"Plot\"}]]},\"id\":\"93500481-8f7e-4e15-84e2-fd0f40d37551\",\"type\":\"GridPlot\"}],\"root_ids\":[\"93500481-8f7e-4e15-84e2-fd0f40d37551\"]},\"title\":\"Bokeh Application\",\"version\":\"0.11.1\"}};\n",
       "            var render_items = [{\"docid\":\"ce3d4e12-3de1-4083-85cc-4d62ae77f7ab\",\"elementid\":\"05c4af86-21dd-4127-96fc-7fbd413302ed\",\"modelid\":\"93500481-8f7e-4e15-84e2-fd0f40d37551\",\"notebook_comms_target\":\"b0fe9e28-db2c-4a71-bc0b-8c7f02d32773\"}];\n",
       "            \n",
       "            Bokeh.embed.embed_items(docs_json, render_items);\n",
       "        });\n",
       "      },\n",
       "      function(Bokeh) {\n",
       "      }\n",
       "    ];\n",
       "  \n",
       "    function run_inline_js() {\n",
       "      for (var i = 0; i < inline_js.length; i++) {\n",
       "        inline_js[i](window.Bokeh);\n",
       "      }\n",
       "    }\n",
       "  \n",
       "    if (window._bokeh_is_loading === 0) {\n",
       "      console.log(\"Bokeh: BokehJS loaded, going straight to plotting\");\n",
       "      run_inline_js();\n",
       "    } else {\n",
       "      load_libs(js_urls, function() {\n",
       "        console.log(\"Bokeh: BokehJS plotting callback run at\", now());\n",
       "        run_inline_js();\n",
       "      });\n",
       "    }\n",
       "  }(this));\n",
       "</script>"
      ]
     },
     "metadata": {},
     "output_type": "display_data"
    },
    {
     "data": {
      "text/html": [
       "<p><code>&lt;Bokeh Notebook handle for <strong>In[7]</strong>&gt;</code></p>"
      ],
      "text/plain": [
       "<bokeh.io._CommsHandle at 0x95fe9e8>"
      ]
     },
     "execution_count": 7,
     "metadata": {},
     "output_type": "execute_result"
    }
   ],
   "source": [
    "show(p) #show the plots"
   ]
  },
  {
   "cell_type": "code",
   "execution_count": 9,
   "metadata": {
    "collapsed": false
   },
   "outputs": [],
   "source": [
    "#UI for energetics\n",
    "display(T_slider, EE_slider, range_slider, single_update_button, multi_update_button)"
   ]
  },
  {
   "cell_type": "markdown",
   "metadata": {},
   "source": [
    "### Dynamic Equilibrium\n",
    "After evolving the lattice a few times with fixed temperature and exchange interaction energy, a state of dynamic equilibrium is reached. The macroscopic properties such as entropy remain roughly fixed with further evolution. However, the individual spin states change; the system moves between microstates.\n",
    "According to the principle of equal equilibrium probability, all such microstates have the same probability of occurring.\n",
    "\n",
    "### Critical Points\n",
    "Phase transitions in the lattice occur across critical points. Near the paramagnetic-ferromagnetic phase transition, state variables such as entropy exhibit large fluctuations. This can observed in the model with a negative exchange energy and a temperature of similar magnitude (use multi-update!)\n",
    "\n",
    "### Phase Co-existence\n",
    "Below the transition temperature, where the exchange interaction dominates the behaviour instead of the thermal energy, multiple magnetic domains can often still be observed. Boundaries between spin-up and spin-down domains can exist provided the entropy associated with phase separation outweighs the energy cost associated with their boundary.\n",
    "To minimise this boundary energy in ferromagnets, small magnetic domains embedded in larger ones tend to a circles as equilibrium is approached."
   ]
  }
 ],
 "metadata": {
  "celltoolbar": "Raw Cell Format",
  "kernelspec": {
   "display_name": "Python 2",
   "language": "python",
   "name": "python2"
  },
  "language_info": {
   "codemirror_mode": {
    "name": "ipython",
    "version": 2
   },
   "file_extension": ".py",
   "mimetype": "text/x-python",
   "name": "python",
   "nbconvert_exporter": "python",
   "pygments_lexer": "ipython2",
   "version": "2.7.11"
  }
 },
 "nbformat": 4,
 "nbformat_minor": 0
}
