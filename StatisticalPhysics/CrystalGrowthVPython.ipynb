{
 "cells": [
  {
   "cell_type": "markdown",
   "metadata": {},
   "source": [
    "This is a model of the statistical mechanics of a growing crystal. Cubes are added at random to the outside of the crystal, with a probability that depends on the number of neighbours. By playing with these probabilities one can find \"crystals\" that are asymptotically cubic or spherical (I think). \n",
    "\n",
    "There's an interesting question of how one could modify the model to get other kinds of facets, e.g. in the (111) and related directions."
   ]
  },
  {
   "cell_type": "code",
   "execution_count": 18,
   "metadata": {
    "collapsed": false,
    "scrolled": false
   },
   "outputs": [],
   "source": [
    "#NAME: Crystal Growth\n",
    "#DESCRIPTION: Statistical mechanics model of the growth of a crystal.\n",
    "\n",
    "from vpython import *\n",
    "import numpy as np"
   ]
  },
  {
   "cell_type": "code",
   "execution_count": 19,
   "metadata": {
    "collapsed": true
   },
   "outputs": [],
   "source": [
    "cube_size = 10\n",
    "x_offset, y_offset, z_offset = 0, 0, 0"
   ]
  },
  {
   "cell_type": "markdown",
   "metadata": {},
   "source": [
    "`surface` keep track of coordinates of outer surface elements (cubes that could be added next). This is the initial outer surface"
   ]
  },
  {
   "cell_type": "code",
   "execution_count": 20,
   "metadata": {
    "collapsed": true
   },
   "outputs": [],
   "source": [
    "surface = [np.array((1,0,0), dtype = np.int), \n",
    "           np.array((-1,0,0), dtype = np.int), \n",
    "           np.array((0,1,0), dtype = np.int), \n",
    "           np.array((0,-1,0), dtype = np.int), \n",
    "           np.array((0,0,1), dtype = np.int), \n",
    "           np.array((0,0,-1), dtype = np.int)]"
   ]
  },
  {
   "cell_type": "markdown",
   "metadata": {},
   "source": [
    "The 3D array `sites` containing the number of neighbours for a given occupied site, while `site_list` lists the occupied sites. "
   ]
  },
  {
   "cell_type": "code",
   "execution_count": 21,
   "metadata": {
    "collapsed": true
   },
   "outputs": [],
   "source": [
    "L = 1000\n",
    "sites = np.zeros((L, L, L), dtype = np.int)\n",
    "site_list = [np.array((0,0,0), dtype = np.int)]    "
   ]
  },
  {
   "cell_type": "markdown",
   "metadata": {},
   "source": [
    "Now we initialize the neighbours"
   ]
  },
  {
   "cell_type": "code",
   "execution_count": 22,
   "metadata": {
    "collapsed": true
   },
   "outputs": [],
   "source": [
    "sites[0,0,0] = 6\n",
    "sites[1,0,0] = 1\n",
    "sites[-1,0,0] = 1\n",
    "sites[0,1,0] = 1\n",
    "sites[0,-1,0] = 1\n",
    "sites[0,0,1] = 1\n",
    "sites[0,0,-1] = 1"
   ]
  },
  {
   "cell_type": "markdown",
   "metadata": {},
   "source": [
    "The acceptance probabilities of adding box with given neighbours"
   ]
  },
  {
   "cell_type": "code",
   "execution_count": 23,
   "metadata": {
    "collapsed": true
   },
   "outputs": [],
   "source": [
    "accept_probs = [0.01, 0.01, 1, 1, 1, 1]"
   ]
  },
  {
   "cell_type": "markdown",
   "metadata": {},
   "source": [
    "The first and second neighbour vectors"
   ]
  },
  {
   "cell_type": "code",
   "execution_count": 24,
   "metadata": {
    "collapsed": true
   },
   "outputs": [],
   "source": [
    "first_neighbours = [(1,0,0), (-1,0,0), (0,1,0), (0,-1,0) ,(0,0,1), (0,0,-1)]\n",
    "\n",
    "second_neighbours = []\n",
    "for a in (1,-1):\n",
    "    for b in (1,-1):\n",
    "        for c in ((a,b,0), (a,0,b), (0,a,b)):\n",
    "            second_neighbours.append(c)"
   ]
  },
  {
   "cell_type": "markdown",
   "metadata": {},
   "source": [
    "Note that if we don't just have corner growth, it is possible to have enclosed regions \n",
    "on the outer surface with 6 neighbours enclosing"
   ]
  },
  {
   "cell_type": "markdown",
   "metadata": {},
   "source": [
    "Here is the main loop. We choose an outer surface element at random, and add it depending on the acceptance probability.\n",
    "\n",
    "When we add a new surface element we increment the number of neighbours for all neighbouring cubes (up to max of six).\n",
    "\n",
    "Those incremented for the first time are added to the outer surface element list. Sites with added cubes are deleted from the outer surface element list."
   ]
  },
  {
   "cell_type": "code",
   "execution_count": 25,
   "metadata": {
    "collapsed": false,
    "scrolled": false
   },
   "outputs": [],
   "source": [
    "fmin = 0 # This is the number of faces you need to be added to surface\n",
    "\n",
    "for step in range(100000):\n",
    "    surface_index = np.random.randint(len(surface))\n",
    "    surface_box = surface[surface_index]  # Choose point on the outer surface at random\n",
    "    occupied_faces = sites[tuple(surface_box)] # The number of occupied faces\n",
    "    \n",
    "    # Check that there are occupied second neighbours. If there are not, don't fill\n",
    "    if step > 1000 & any([sites[tuple(surface_box + vec)] for vec in second_neighbours]):\n",
    "    \n",
    "        if np.random.rand() < accept_probs[occupied_faces - 1]:         # We are going to add the cube\n",
    "\n",
    "            site_list.append(surface_box)\n",
    "            # box(pos=vector(x_offset + surface_box[0] * cube_size, y_offset + surface_box[1] * cube_size,z_offset + surface_box[2] * cube_size),size = vector(cube_size,cube_size,cube_size)) # Draw the box\n",
    "\n",
    "            # remove site from outer surface\n",
    "            del(surface[surface_index])\n",
    "\n",
    "            #increment surrounding sites and add to surface if new\n",
    "\n",
    "            if step == 1000:\n",
    "                fmin = 2 # After some time, we only add sites to the surface if they have fmin + 1 neighbours\n",
    "            \n",
    "            for neighbour in first_neighbours:\n",
    "                \n",
    "                if sites[tuple(surface_box + neighbour)] == fmin:\n",
    "                    surface.append(surface_box + neighbour)\n",
    "                sites[tuple(surface_box + neighbour)] += 1 \n",
    "\n",
    "            \n",
    "        \n",
    "            \n",
    "\n"
   ]
  },
  {
   "cell_type": "markdown",
   "metadata": {},
   "source": [
    "Display the completed crystal, excluding internal sites (with 6 neighbours)."
   ]
  },
  {
   "cell_type": "code",
   "execution_count": 26,
   "metadata": {
    "collapsed": false
   },
   "outputs": [
    {
     "data": {
      "text/html": [
       "<div id=\"glowscript\" class=\"glowscript\"></div>"
      ],
      "text/plain": [
       "<IPython.core.display.HTML object>"
      ]
     },
     "metadata": {},
     "output_type": "display_data"
    },
    {
     "data": {
      "application/javascript": [
       "window.__context = { glowscript_container: $(\"#glowscript\").removeAttr(\"id\")}"
      ],
      "text/plain": [
       "<IPython.core.display.Javascript object>"
      ]
     },
     "metadata": {},
     "output_type": "display_data"
    }
   ],
   "source": [
    "scene = canvas()\n",
    "scene.forward = vector(-1, -1, -1)\n",
    "\n",
    "for site_index in site_list:\n",
    "    if sites[tuple(site_index)] < 6:\n",
    "        box(pos=vector(x_offset + site_index[0] * cube_size, y_offset + site_index[1] * cube_size,z_offset + site_index[2] * cube_size),size = vector(cube_size,cube_size,cube_size), color = color.white)"
   ]
  }
 ],
 "metadata": {
  "anaconda-cloud": {},
  "kernelspec": {
   "display_name": "Python 3",
   "language": "python",
   "name": "python3"
  },
  "language_info": {
   "codemirror_mode": {
    "name": "ipython",
    "version": 3
   },
   "file_extension": ".py",
   "mimetype": "text/x-python",
   "name": "python",
   "nbconvert_exporter": "python",
   "pygments_lexer": "ipython3",
   "version": "3.5.1"
  }
 },
 "nbformat": 4,
 "nbformat_minor": 0
}
