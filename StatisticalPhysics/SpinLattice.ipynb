{
 "cells": [
  {
   "cell_type": "markdown",
   "metadata": {},
   "source": [
    "## Exchange Interactions on a Spin-1/2 Lattice ##\n",
    "This notebook demonstrates phase transitions in a two-dimensional lattice of spin-1/2 particles. Exchange interactions are limited to nearest neighbours. The results are not quantitatively accurate, but exhibit phenomena characteristic of the system at the chosen temperature.\n",
    "The results apply more generally to two-phase systems with an energy penalty associated with phase boundaries, provided each element can be treated as a member of the canonical ensemble.\n",
    "Cyclic boundary conditions have been imposed, this is equivalent to identifying the left & right edges with one another, as well as the top & bottom. Consequently, the lattice is on the surface of a square torus."
   ]
  },
  {
   "cell_type": "code",
   "execution_count": 1,
   "metadata": {
    "collapsed": false
   },
   "outputs": [
    {
     "data": {
      "text/html": [
       "\n",
       "    <div class=\"bk-root\">\n",
       "        <a href=\"http://bokeh.pydata.org\" target=\"_blank\" class=\"bk-logo bk-logo-small bk-logo-notebook\"></a>\n",
       "        <span id=\"3a8ec327-896f-4295-91d4-71b9ec456795\">Loading BokehJS ...</span>\n",
       "    </div>"
      ]
     },
     "metadata": {},
     "output_type": "display_data"
    },
    {
     "data": {
      "application/javascript": [
       "\n",
       "(function(global) {\n",
       "  function now() {\n",
       "    return new Date();\n",
       "  }\n",
       "\n",
       "  if (typeof (window._bokeh_onload_callbacks) === \"undefined\") {\n",
       "    window._bokeh_onload_callbacks = [];\n",
       "  }\n",
       "\n",
       "  function run_callbacks() {\n",
       "    window._bokeh_onload_callbacks.forEach(function(callback) { callback() });\n",
       "    delete window._bokeh_onload_callbacks\n",
       "    console.info(\"Bokeh: all callbacks have finished\");\n",
       "  }\n",
       "\n",
       "  function load_libs(js_urls, callback) {\n",
       "    window._bokeh_onload_callbacks.push(callback);\n",
       "    if (window._bokeh_is_loading > 0) {\n",
       "      console.log(\"Bokeh: BokehJS is being loaded, scheduling callback at\", now());\n",
       "      return null;\n",
       "    }\n",
       "    if (js_urls == null || js_urls.length === 0) {\n",
       "      run_callbacks();\n",
       "      return null;\n",
       "    }\n",
       "    console.log(\"Bokeh: BokehJS not loaded, scheduling load and callback at\", now());\n",
       "    window._bokeh_is_loading = js_urls.length;\n",
       "    for (var i = 0; i < js_urls.length; i++) {\n",
       "      var url = js_urls[i];\n",
       "      var s = document.createElement('script');\n",
       "      s.src = url;\n",
       "      s.async = false;\n",
       "      s.onreadystatechange = s.onload = function() {\n",
       "        window._bokeh_is_loading--;\n",
       "        if (window._bokeh_is_loading === 0) {\n",
       "          console.log(\"Bokeh: all BokehJS libraries loaded\");\n",
       "          run_callbacks()\n",
       "        }\n",
       "      };\n",
       "      s.onerror = function() {\n",
       "        console.warn(\"failed to load library \" + url);\n",
       "      };\n",
       "      console.log(\"Bokeh: injecting script tag for BokehJS library: \", url);\n",
       "      document.getElementsByTagName(\"head\")[0].appendChild(s);\n",
       "    }\n",
       "  };\n",
       "\n",
       "  var js_urls = ['https://cdn.pydata.org/bokeh/release/bokeh-0.12.0.min.js', 'https://cdn.pydata.org/bokeh/release/bokeh-widgets-0.12.0.min.js', 'https://cdn.pydata.org/bokeh/release/bokeh-compiler-0.12.0.min.js'];\n",
       "\n",
       "  var inline_js = [\n",
       "    function(Bokeh) {\n",
       "      Bokeh.set_log_level(\"info\");\n",
       "    },\n",
       "    \n",
       "    function(Bokeh) {\n",
       "      Bokeh.$(\"#3a8ec327-896f-4295-91d4-71b9ec456795\").text(\"BokehJS successfully loaded\");\n",
       "    },\n",
       "    function(Bokeh) {\n",
       "      console.log(\"Bokeh: injecting CSS: https://cdn.pydata.org/bokeh/release/bokeh-0.12.0.min.css\");\n",
       "      Bokeh.embed.inject_css(\"https://cdn.pydata.org/bokeh/release/bokeh-0.12.0.min.css\");\n",
       "      console.log(\"Bokeh: injecting CSS: https://cdn.pydata.org/bokeh/release/bokeh-widgets-0.12.0.min.css\");\n",
       "      Bokeh.embed.inject_css(\"https://cdn.pydata.org/bokeh/release/bokeh-widgets-0.12.0.min.css\");\n",
       "    }\n",
       "  ];\n",
       "\n",
       "  function run_inline_js() {\n",
       "    for (var i = 0; i < inline_js.length; i++) {\n",
       "      inline_js[i](window.Bokeh);\n",
       "    }\n",
       "  }\n",
       "\n",
       "  if (window._bokeh_is_loading === 0) {\n",
       "    console.log(\"Bokeh: BokehJS loaded, going straight to plotting\");\n",
       "    run_inline_js();\n",
       "  } else {\n",
       "    load_libs(js_urls, function() {\n",
       "      console.log(\"Bokeh: BokehJS plotting callback run at\", now());\n",
       "      run_inline_js();\n",
       "    });\n",
       "  }\n",
       "}(this));"
      ]
     },
     "metadata": {},
     "output_type": "display_data"
    }
   ],
   "source": [
    "#NAME: Dynamic Ising Model\n",
    "#DESCRIPTION: Glauber dynamics of the Ising model.\n",
    "\n",
    "import numpy as np\n",
    "from numpy import random\n",
    "from scipy.misc import factorial\n",
    "\n",
    "from IPython.display import display\n",
    "from ipywidgets import widgets, interact\n",
    "from bokeh.plotting import figure, show, output_notebook\n",
    "from bokeh.io import push_notebook, gridplot\n",
    "\n",
    "#prepare notebook for inline plots\n",
    "output_notebook()\n",
    "#seed random number generator for spin-flips\n",
    "random.seed()\n",
    "\n",
    "#set lattice parameters\n",
    "grid_size = 20\n",
    "N = grid_size**2\n",
    "#set interaction properties\n",
    "interaction_range = 1.0\n",
    "#set boundary conditions as \"hard wall\" or \"cyclic\"\n",
    "boundary_conditions = \"hard wall\"\n",
    "\n",
    "if boundary_conditions != \"hard wall\" and boundary_conditions != \"cyclic\":\n",
    "    print(\"invalid boundary conditions. Choose 'hard wall' or cyclic'\")"
   ]
  },
  {
   "cell_type": "markdown",
   "metadata": {},
   "source": [
    "### Class for Spins"
   ]
  },
  {
   "cell_type": "code",
   "execution_count": 2,
   "metadata": {
    "collapsed": false
   },
   "outputs": [],
   "source": [
    "#each spin-1/2 lattice site is an instance of the element class\n",
    "class element:\n",
    "    def __init__(self, spin): #spin will take vals of 0 or 1\n",
    "        self.spin = spin    #representing down and up\n",
    "    def flip(self, temperature, up_energy, down_energy): #temperature between 0 and 1\n",
    "        up_boltzmann = np.exp(-up_energy/temperature)\n",
    "        down_boltzmann = np.exp(-down_energy/temperature)\n",
    "        prob_up = up_boltzmann/(up_boltzmann + down_boltzmann)\n",
    "        if random.uniform(0.0,1.0) < prob_up:\n",
    "            self.spin = 1\n",
    "        else:\n",
    "            self.spin = 0"
   ]
  },
  {
   "cell_type": "markdown",
   "metadata": {},
   "source": [
    "### Statistical Mechanics\n",
    "The element class describes the unpaired electrons on each lattice site. The method element.flip flips the spin with a probability set by statistical mechanics.\n",
    "The down and up states have energies $E_{\\downarrow}$ and $E_{\\uparrow}$  respectively, these depend on the element's surroundings.\n",
    "For an element in the canonical ensemble, the partition function is given by\n",
    "\n",
    "$$Z = e^{E_{\\uparrow} / {k_B T}} + e^{E_{\\downarrow} / {k_B T}},$$\n",
    "where $T$ is temperature and Boltzmann's constant, $k_B$, has been set to unity in the code. The probability of an element being spin-up in the next interval is therefore\n",
    "\n",
    "$$\\frac  {e^{E_{\\uparrow}}}{Z} ,$$\n",
    "\n",
    "and the order of spin-flips is up columns, then along rows."
   ]
  },
  {
   "cell_type": "code",
   "execution_count": 3,
   "metadata": {
    "collapsed": true
   },
   "outputs": [],
   "source": [
    "def initialise_lattice():\n",
    "    lattice = []\n",
    "    #initialise lattice as all spin-down\n",
    "    for i in range(grid_size):\n",
    "        lattice.append([])\n",
    "        for j in range(grid_size):\n",
    "            lattice[-1].append(element(0))\n",
    "    #convert to numpy array for iteration\n",
    "    lattice = np.asarray(lattice)\n",
    "    return lattice\n",
    "\n",
    "def get_spins(lattice):\n",
    "    x, y, spins = [], [], []\n",
    "    it = np.nditer(lattice, ['multi_index', 'refs_ok'])\n",
    "    for element in it:\n",
    "        ind_x, ind_y = it.multi_index\n",
    "        x.append(ind_x)\n",
    "        y.append(ind_y)\n",
    "        spins.append(lattice[ind_x][ind_y].spin)\n",
    "    return x, y, spins\n",
    "\n",
    "def calculate_energy(lattice, index, exchange_energy, interaction_range): #i and j are indices of the element\n",
    "    i,j = index\n",
    "    neighbour_indices = [] \n",
    "    #find spins which interact with the one at i,j\n",
    "    it = np.nditer(lattice, ['multi_index', 'refs_ok'])\n",
    "    if boundary_conditions == \"cyclic\":\n",
    "        for element in it:\n",
    "            k, l = it.multi_index\n",
    "            #cyclic boundary conditions imposed\n",
    "            if (((i-k)%grid_size)**2 + ((j-l)%grid_size)**2) <= interaction_range**2:\n",
    "                neighbour_indices.append([k, l])  \n",
    "    elif boundary_conditions == \"hard wall\":\n",
    "        for element in it:\n",
    "            k, l = it.multi_index\n",
    "            #cyclic boundary conditions imposed\n",
    "            if ((i-k)**2 + (j-l)**2) <= interaction_range**2:\n",
    "                neighbour_indices.append([k, l])             \n",
    "    #find number of up neighbours\n",
    "    up_neighbours = 0 \n",
    "    for k in neighbour_indices:\n",
    "        if lattice[k[0]][k[1]].spin == 1:\n",
    "            up_neighbours += 1 \n",
    "    #calculate energy that the spin would have if up or if down\n",
    "    up_energy = exchange_energy*up_neighbours\n",
    "    #down neighbours = 4 - up neighbours\n",
    "    down_energy = exchange_energy*(4 - up_neighbours)\n",
    "    return up_energy, down_energy\n",
    "\n",
    "def spin_flip(lattice, temperature, exchange_energy, interaction_range):\n",
    "    #create iterable object\n",
    "    it = np.nditer(lattice, ['multi_index', 'refs_ok'])\n",
    "    for element in it:\n",
    "        up_energy, down_energy = calculate_energy(lattice, it.multi_index, exchange_energy, interaction_range)\n",
    "        lattice[it.multi_index].flip(temperature, up_energy, down_energy)\n",
    "        \n",
    "#calculate the entropy of the system\n",
    "#k_B = 1\n",
    "def entropy(spins):\n",
    "    N_down = spins.count(0)\n",
    "    if N_down == 0:\n",
    "        N_down = 1 #to avoid log(0) errors    \n",
    "    N_up = spins.count(1)\n",
    "    if N_up == 0:\n",
    "        N_up = 1     \n",
    "    #use Stirling's approximation to find entropy\n",
    "    S = (N_up+N_down)*np.log(N_up+N_down) - N_down*np.log(N_down) - N_up*np.log(N_up)\n",
    "    #return entropy of current system state\n",
    "    return S\n",
    "        \n",
    "def create_plot_data(lattice):\n",
    "    x, y, spins = get_spins(lattice)\n",
    "    #red for spin up, blue for spin down\n",
    "    colors = [\"#%02x%02x%02x\" % (0, int(200*g), int(200*b)) for g, b in zip(spins, spins)]\n",
    "    return x,y,colors,spins"
   ]
  },
  {
   "cell_type": "markdown",
   "metadata": {},
   "source": [
    "### Set up the Plots"
   ]
  },
  {
   "cell_type": "code",
   "execution_count": 9,
   "metadata": {
    "collapsed": false
   },
   "outputs": [],
   "source": [
    "lattice = initialise_lattice()\n",
    "#start at high temperature with no exchange interaction...\n",
    "spin_flip(lattice, 10.0, 0.0, 1.0)\n",
    "\n",
    "x,y,colors,spins = create_plot_data(lattice)\n",
    "p1 = figure(height = 500, width = 500)\n",
    "q1 = p1.square(x, y, fill_color = colors, line_color = None, size = 20)\n",
    "\n",
    "entropies = []\n",
    "steps = []\n",
    "p2 = figure(height = 500, width = 500)\n",
    "q2 = p2.line(steps, entropies)\n",
    "p2.xaxis.axis_label = \"Step\"\n",
    "p2.yaxis.axis_label = \"Entropy\"\n",
    "\n",
    "p = gridplot([[p1, p2]])"
   ]
  },
  {
   "cell_type": "markdown",
   "metadata": {},
   "source": [
    "### Control Energetics"
   ]
  },
  {
   "cell_type": "code",
   "execution_count": 10,
   "metadata": {
    "collapsed": false
   },
   "outputs": [],
   "source": [
    "#create a temperature slider\n",
    "T_slider = widgets.FloatSlider(value = 10.0, min = 0.001, max = 10.0, description = \"Temperature\")\n",
    "\n",
    "#create an exchange energy slider\n",
    "EE_slider = widgets.FloatSlider(value = 0.0, min = -10.0, max = 10.0, description = \"Exchange Energy\")\n",
    "\n",
    "#create an interaction range slider\n",
    "range_slider = widgets.FloatSlider(value = 1.0, min = 1.0, max = 10.0, description = \"Interaction Range\")\n",
    "\n",
    "#create buttons to implement these changes\n",
    "single_update_button = widgets.Button(description=\"Update\")\n",
    "multi_update_button = widgets.Button(description=\"Multi-update\")\n"
   ]
  },
  {
   "cell_type": "code",
   "execution_count": 11,
   "metadata": {
    "collapsed": false
   },
   "outputs": [],
   "source": [
    "#temperature and exchange energy buttons\n",
    "def update(b):\n",
    "    \n",
    "    #update grid\n",
    "    spin_flip(lattice, T_slider.value, EE_slider.value, range_slider.value)\n",
    "    q1.data_source.data['fill_color'] = create_plot_data(lattice)[2]\n",
    "    \n",
    "    #update global variables 'step' and 'entropies'\n",
    "    entropies.append(entropy(create_plot_data(lattice)[3])) \n",
    "    if len(steps) == 0:\n",
    "        steps.append(1)\n",
    "    else:\n",
    "        steps.append(steps[-1]+1)\n",
    "    #update entropy plot\n",
    "    q2.data_source.data['entropies'] = entropies\n",
    "    q2.data_source.data['steps'] = steps\n",
    "    push_notebook()\n",
    "    \n",
    "def multi_update(b):\n",
    "    #run update 20 times\n",
    "    for i in range(20):\n",
    "        update(b)\n",
    "    \n",
    "#update the plots when the button is clicked\n",
    "single_update_button.on_click(update)\n",
    "multi_update_button.on_click(multi_update)"
   ]
  },
  {
   "cell_type": "markdown",
   "metadata": {},
   "source": [
    "### Lattice of Spins\n",
    "Aqua and black cells represent spin up and down electrons, respectively. A positive interaction energy leads to diamagnetic and antiferromagnetic behaviour. Negative leads to paramagnetic and ferromagnetic behaviour."
   ]
  },
  {
   "cell_type": "code",
   "execution_count": 12,
   "metadata": {
    "collapsed": false
   },
   "outputs": [
    {
     "data": {
      "text/html": [
       "\n",
       "\n",
       "    <div class=\"bk-root\">\n",
       "        <div class=\"plotdiv\" id=\"17d00c7b-eda3-477f-bfdf-48c8870eb6b8\"></div>\n",
       "    </div>\n",
       "<script type=\"text/javascript\">\n",
       "  \n",
       "  (function(global) {\n",
       "    function now() {\n",
       "      return new Date();\n",
       "    }\n",
       "  \n",
       "    if (typeof (window._bokeh_onload_callbacks) === \"undefined\") {\n",
       "      window._bokeh_onload_callbacks = [];\n",
       "    }\n",
       "  \n",
       "    function run_callbacks() {\n",
       "      window._bokeh_onload_callbacks.forEach(function(callback) { callback() });\n",
       "      delete window._bokeh_onload_callbacks\n",
       "      console.info(\"Bokeh: all callbacks have finished\");\n",
       "    }\n",
       "  \n",
       "    function load_libs(js_urls, callback) {\n",
       "      window._bokeh_onload_callbacks.push(callback);\n",
       "      if (window._bokeh_is_loading > 0) {\n",
       "        console.log(\"Bokeh: BokehJS is being loaded, scheduling callback at\", now());\n",
       "        return null;\n",
       "      }\n",
       "      if (js_urls == null || js_urls.length === 0) {\n",
       "        run_callbacks();\n",
       "        return null;\n",
       "      }\n",
       "      console.log(\"Bokeh: BokehJS not loaded, scheduling load and callback at\", now());\n",
       "      window._bokeh_is_loading = js_urls.length;\n",
       "      for (var i = 0; i < js_urls.length; i++) {\n",
       "        var url = js_urls[i];\n",
       "        var s = document.createElement('script');\n",
       "        s.src = url;\n",
       "        s.async = false;\n",
       "        s.onreadystatechange = s.onload = function() {\n",
       "          window._bokeh_is_loading--;\n",
       "          if (window._bokeh_is_loading === 0) {\n",
       "            console.log(\"Bokeh: all BokehJS libraries loaded\");\n",
       "            run_callbacks()\n",
       "          }\n",
       "        };\n",
       "        s.onerror = function() {\n",
       "          console.warn(\"failed to load library \" + url);\n",
       "        };\n",
       "        console.log(\"Bokeh: injecting script tag for BokehJS library: \", url);\n",
       "        document.getElementsByTagName(\"head\")[0].appendChild(s);\n",
       "      }\n",
       "    };var element = document.getElementById(\"17d00c7b-eda3-477f-bfdf-48c8870eb6b8\");\n",
       "    if (element == null) {\n",
       "      console.log(\"Bokeh: ERROR: autoload.js configured with elementid '17d00c7b-eda3-477f-bfdf-48c8870eb6b8' but no matching script tag was found. \")\n",
       "      return false;\n",
       "    }\n",
       "  \n",
       "    var js_urls = [];\n",
       "  \n",
       "    var inline_js = [\n",
       "      function(Bokeh) {\n",
       "        Bokeh.$(function() {\n",
       "            var docs_json = {\"597a26c7-61ea-4667-94e4-b1b5b082e1ad\":{\"roots\":{\"references\":[{\"attributes\":{},\"id\":\"6512b92e-ca61-458b-8df3-30d5ba0939c0\",\"type\":\"BasicTickFormatter\"},{\"attributes\":{\"formatter\":{\"id\":\"e237de1c-e617-44ad-aedc-e61d73555c0d\",\"type\":\"BasicTickFormatter\"},\"plot\":{\"id\":\"2e4e784e-1d04-4483-87ed-0e6409e1f291\",\"subtype\":\"Figure\",\"type\":\"Plot\"},\"ticker\":{\"id\":\"db15b8d1-de2e-443d-a24f-e5452063e563\",\"type\":\"BasicTicker\"}},\"id\":\"f32e45a4-8c73-4460-8916-3321f9c170f1\",\"type\":\"LinearAxis\"},{\"attributes\":{},\"id\":\"6c3ba07b-99ee-4bd9-982f-4b19bf042ab9\",\"type\":\"BasicTicker\"},{\"attributes\":{\"overlay\":{\"id\":\"b071c0f9-0ec0-4854-b76b-4266e4b0146d\",\"type\":\"BoxAnnotation\"},\"plot\":{\"id\":\"ca62f52f-ad2b-4956-a89d-438a88f1a40c\",\"subtype\":\"Figure\",\"type\":\"Plot\"}},\"id\":\"dc94a3df-afe8-4635-b763-1252c4a36258\",\"type\":\"BoxZoomTool\"},{\"attributes\":{\"plot\":{\"id\":\"ca62f52f-ad2b-4956-a89d-438a88f1a40c\",\"subtype\":\"Figure\",\"type\":\"Plot\"}},\"id\":\"f7b102e6-d6fa-4f2a-8c6b-e1d1eae35c43\",\"type\":\"PanTool\"},{\"attributes\":{\"fill_color\":{\"field\":\"fill_color\"},\"line_color\":{\"value\":null},\"size\":{\"units\":\"screen\",\"value\":20},\"x\":{\"field\":\"x\"},\"y\":{\"field\":\"y\"}},\"id\":\"d6a81a81-64b7-4d7e-a8d1-1ceba1093dc3\",\"type\":\"Square\"},{\"attributes\":{\"bottom_units\":\"screen\",\"fill_alpha\":{\"value\":0.5},\"fill_color\":{\"value\":\"lightgrey\"},\"left_units\":\"screen\",\"level\":\"overlay\",\"line_alpha\":{\"value\":1.0},\"line_color\":{\"value\":\"black\"},\"line_dash\":[4,4],\"line_width\":{\"value\":2},\"plot\":null,\"render_mode\":\"css\",\"right_units\":\"screen\",\"top_units\":\"screen\"},\"id\":\"b071c0f9-0ec0-4854-b76b-4266e4b0146d\",\"type\":\"BoxAnnotation\"},{\"attributes\":{\"callback\":null},\"id\":\"d585cc2f-93fc-49fc-944a-c34083840581\",\"type\":\"DataRange1d\"},{\"attributes\":{\"plot\":{\"id\":\"ca62f52f-ad2b-4956-a89d-438a88f1a40c\",\"subtype\":\"Figure\",\"type\":\"Plot\"}},\"id\":\"701da575-0457-4b67-a716-8d66aa07331f\",\"type\":\"WheelZoomTool\"},{\"attributes\":{\"callback\":null},\"id\":\"bc32558c-0422-4e22-9b4f-364402d9437f\",\"type\":\"DataRange1d\"},{\"attributes\":{\"plot\":{\"id\":\"2e4e784e-1d04-4483-87ed-0e6409e1f291\",\"subtype\":\"Figure\",\"type\":\"Plot\"}},\"id\":\"58c3b71d-8014-4c2d-a422-d525f28e7e71\",\"type\":\"SaveTool\"},{\"attributes\":{\"line_alpha\":{\"value\":0.1},\"line_color\":{\"value\":\"#1f77b4\"},\"x\":{\"field\":\"x\"},\"y\":{\"field\":\"y\"}},\"id\":\"4d2fcfca-4e83-479d-8f4c-716ee0c29d0b\",\"type\":\"Line\"},{\"attributes\":{\"axis_label\":\"Entropy\",\"formatter\":{\"id\":\"88331eea-0900-4959-a139-775475307c3a\",\"type\":\"BasicTickFormatter\"},\"plot\":{\"id\":\"ca62f52f-ad2b-4956-a89d-438a88f1a40c\",\"subtype\":\"Figure\",\"type\":\"Plot\"},\"ticker\":{\"id\":\"9cb788b5-2c26-4a25-9e1b-baca81130ae4\",\"type\":\"BasicTicker\"}},\"id\":\"0cbeee74-efc0-4bba-9f66-91feaad6fab2\",\"type\":\"LinearAxis\"},{\"attributes\":{\"children\":[{\"id\":\"41464472-7293-4185-b6c6-8dfca01b46c2\",\"type\":\"Row\"}]},\"id\":\"fe1848c9-e67d-4662-a4c9-260860a5db11\",\"type\":\"Column\"},{\"attributes\":{\"callback\":null,\"column_names\":[\"y\",\"x\"],\"data\":{\"x\":[],\"y\":[]}},\"id\":\"9614498f-8918-45b5-94c5-b96cebc50958\",\"type\":\"ColumnDataSource\"},{\"attributes\":{\"children\":[{\"id\":\"2e4e784e-1d04-4483-87ed-0e6409e1f291\",\"subtype\":\"Figure\",\"type\":\"Plot\"},{\"id\":\"ca62f52f-ad2b-4956-a89d-438a88f1a40c\",\"subtype\":\"Figure\",\"type\":\"Plot\"}]},\"id\":\"41464472-7293-4185-b6c6-8dfca01b46c2\",\"type\":\"Row\"},{\"attributes\":{\"active_drag\":\"auto\",\"active_scroll\":\"auto\",\"active_tap\":\"auto\",\"tools\":[{\"id\":\"8be70de0-e772-4284-9775-602ef093340c\",\"type\":\"PanTool\"},{\"id\":\"6e832dd8-255c-480d-bd92-feab7017646b\",\"type\":\"WheelZoomTool\"},{\"id\":\"744a10d6-bbbb-4173-b916-2c16c99243b4\",\"type\":\"BoxZoomTool\"},{\"id\":\"58c3b71d-8014-4c2d-a422-d525f28e7e71\",\"type\":\"SaveTool\"},{\"id\":\"e42e767a-c529-4dc6-90bd-8ac02820f06c\",\"type\":\"ResetTool\"},{\"id\":\"4897fdad-d033-43fd-b867-29a4f6052ff4\",\"type\":\"HelpTool\"}]},\"id\":\"42c5b31b-59a3-4c66-b6aa-c4ce6dfa50f9\",\"type\":\"Toolbar\"},{\"attributes\":{},\"id\":\"34f06fef-f91e-4a06-9a15-e68fa7aaf68c\",\"type\":\"BasicTickFormatter\"},{\"attributes\":{\"callback\":null,\"column_names\":[\"y\",\"x\",\"fill_color\"],\"data\":{\"fill_color\":[\"#000000\",\"#00c8c8\",\"#00c8c8\",\"#000000\",\"#00c8c8\",\"#000000\",\"#00c8c8\",\"#000000\",\"#000000\",\"#00c8c8\",\"#00c8c8\",\"#00c8c8\",\"#00c8c8\",\"#00c8c8\",\"#00c8c8\",\"#000000\",\"#00c8c8\",\"#000000\",\"#00c8c8\",\"#000000\",\"#000000\",\"#000000\",\"#000000\",\"#000000\",\"#000000\",\"#000000\",\"#00c8c8\",\"#000000\",\"#00c8c8\",\"#000000\",\"#000000\",\"#00c8c8\",\"#000000\",\"#00c8c8\",\"#000000\",\"#00c8c8\",\"#00c8c8\",\"#00c8c8\",\"#00c8c8\",\"#000000\",\"#00c8c8\",\"#000000\",\"#000000\",\"#000000\",\"#00c8c8\",\"#000000\",\"#000000\",\"#000000\",\"#000000\",\"#000000\",\"#000000\",\"#00c8c8\",\"#00c8c8\",\"#00c8c8\",\"#00c8c8\",\"#000000\",\"#00c8c8\",\"#00c8c8\",\"#00c8c8\",\"#000000\",\"#00c8c8\",\"#000000\",\"#000000\",\"#00c8c8\",\"#00c8c8\",\"#000000\",\"#00c8c8\",\"#00c8c8\",\"#00c8c8\",\"#00c8c8\",\"#00c8c8\",\"#000000\",\"#000000\",\"#00c8c8\",\"#00c8c8\",\"#000000\",\"#000000\",\"#000000\",\"#00c8c8\",\"#000000\",\"#00c8c8\",\"#00c8c8\",\"#000000\",\"#00c8c8\",\"#000000\",\"#00c8c8\",\"#000000\",\"#00c8c8\",\"#00c8c8\",\"#000000\",\"#000000\",\"#00c8c8\",\"#00c8c8\",\"#00c8c8\",\"#00c8c8\",\"#00c8c8\",\"#000000\",\"#000000\",\"#000000\",\"#000000\",\"#000000\",\"#00c8c8\",\"#000000\",\"#000000\",\"#000000\",\"#000000\",\"#00c8c8\",\"#000000\",\"#000000\",\"#000000\",\"#00c8c8\",\"#000000\",\"#000000\",\"#00c8c8\",\"#000000\",\"#000000\",\"#00c8c8\",\"#000000\",\"#000000\",\"#00c8c8\",\"#00c8c8\",\"#00c8c8\",\"#000000\",\"#00c8c8\",\"#00c8c8\",\"#000000\",\"#00c8c8\",\"#00c8c8\",\"#00c8c8\",\"#000000\",\"#000000\",\"#00c8c8\",\"#000000\",\"#00c8c8\",\"#00c8c8\",\"#00c8c8\",\"#00c8c8\",\"#00c8c8\",\"#00c8c8\",\"#00c8c8\",\"#00c8c8\",\"#00c8c8\",\"#00c8c8\",\"#00c8c8\",\"#00c8c8\",\"#00c8c8\",\"#000000\",\"#000000\",\"#00c8c8\",\"#000000\",\"#00c8c8\",\"#00c8c8\",\"#000000\",\"#000000\",\"#000000\",\"#000000\",\"#000000\",\"#000000\",\"#000000\",\"#00c8c8\",\"#000000\",\"#000000\",\"#00c8c8\",\"#00c8c8\",\"#00c8c8\",\"#00c8c8\",\"#000000\",\"#000000\",\"#000000\",\"#00c8c8\",\"#000000\",\"#000000\",\"#00c8c8\",\"#00c8c8\",\"#00c8c8\",\"#000000\",\"#000000\",\"#00c8c8\",\"#000000\",\"#000000\",\"#000000\",\"#000000\",\"#000000\",\"#000000\",\"#000000\",\"#00c8c8\",\"#000000\",\"#000000\",\"#000000\",\"#000000\",\"#00c8c8\",\"#00c8c8\",\"#000000\",\"#00c8c8\",\"#00c8c8\",\"#000000\",\"#00c8c8\",\"#000000\",\"#00c8c8\",\"#00c8c8\",\"#00c8c8\",\"#000000\",\"#000000\",\"#00c8c8\",\"#000000\",\"#00c8c8\",\"#00c8c8\",\"#000000\",\"#00c8c8\",\"#00c8c8\",\"#000000\",\"#000000\",\"#000000\",\"#000000\",\"#00c8c8\",\"#000000\",\"#00c8c8\",\"#000000\",\"#00c8c8\",\"#00c8c8\",\"#000000\",\"#00c8c8\",\"#000000\",\"#00c8c8\",\"#000000\",\"#000000\",\"#000000\",\"#000000\",\"#00c8c8\",\"#00c8c8\",\"#00c8c8\",\"#000000\",\"#000000\",\"#000000\",\"#00c8c8\",\"#000000\",\"#00c8c8\",\"#000000\",\"#000000\",\"#00c8c8\",\"#00c8c8\",\"#00c8c8\",\"#000000\",\"#00c8c8\",\"#000000\",\"#000000\",\"#00c8c8\",\"#000000\",\"#000000\",\"#00c8c8\",\"#000000\",\"#00c8c8\",\"#000000\",\"#000000\",\"#00c8c8\",\"#00c8c8\",\"#00c8c8\",\"#000000\",\"#00c8c8\",\"#000000\",\"#00c8c8\",\"#00c8c8\",\"#000000\",\"#00c8c8\",\"#000000\",\"#00c8c8\",\"#000000\",\"#00c8c8\",\"#00c8c8\",\"#00c8c8\",\"#00c8c8\",\"#000000\",\"#000000\",\"#00c8c8\",\"#000000\",\"#000000\",\"#00c8c8\",\"#00c8c8\",\"#00c8c8\",\"#000000\",\"#00c8c8\",\"#000000\",\"#00c8c8\",\"#000000\",\"#00c8c8\",\"#000000\",\"#000000\",\"#000000\",\"#00c8c8\",\"#000000\",\"#00c8c8\",\"#000000\",\"#00c8c8\",\"#000000\",\"#00c8c8\",\"#00c8c8\",\"#00c8c8\",\"#000000\",\"#00c8c8\",\"#000000\",\"#00c8c8\",\"#000000\",\"#000000\",\"#000000\",\"#00c8c8\",\"#00c8c8\",\"#000000\",\"#00c8c8\",\"#00c8c8\",\"#000000\",\"#00c8c8\",\"#00c8c8\",\"#00c8c8\",\"#00c8c8\",\"#00c8c8\",\"#000000\",\"#00c8c8\",\"#000000\",\"#00c8c8\",\"#000000\",\"#000000\",\"#00c8c8\",\"#000000\",\"#000000\",\"#000000\",\"#000000\",\"#000000\",\"#000000\",\"#00c8c8\",\"#000000\",\"#000000\",\"#000000\",\"#00c8c8\",\"#000000\",\"#00c8c8\",\"#000000\",\"#000000\",\"#00c8c8\",\"#00c8c8\",\"#000000\",\"#00c8c8\",\"#00c8c8\",\"#00c8c8\",\"#000000\",\"#00c8c8\",\"#00c8c8\",\"#000000\",\"#00c8c8\",\"#000000\",\"#00c8c8\",\"#000000\",\"#00c8c8\",\"#00c8c8\",\"#00c8c8\",\"#000000\",\"#000000\",\"#000000\",\"#00c8c8\",\"#000000\",\"#000000\",\"#000000\",\"#000000\",\"#00c8c8\",\"#000000\",\"#00c8c8\",\"#000000\",\"#00c8c8\",\"#00c8c8\",\"#00c8c8\",\"#00c8c8\",\"#00c8c8\",\"#00c8c8\",\"#00c8c8\",\"#00c8c8\",\"#000000\",\"#000000\",\"#000000\",\"#00c8c8\",\"#000000\",\"#00c8c8\",\"#00c8c8\",\"#000000\",\"#000000\",\"#00c8c8\",\"#000000\",\"#00c8c8\",\"#00c8c8\",\"#000000\",\"#000000\",\"#000000\",\"#000000\",\"#000000\",\"#000000\",\"#000000\",\"#00c8c8\",\"#000000\",\"#00c8c8\",\"#00c8c8\",\"#00c8c8\",\"#00c8c8\"],\"x\":[0,0,0,0,0,0,0,0,0,0,0,0,0,0,0,0,0,0,0,0,1,1,1,1,1,1,1,1,1,1,1,1,1,1,1,1,1,1,1,1,2,2,2,2,2,2,2,2,2,2,2,2,2,2,2,2,2,2,2,2,3,3,3,3,3,3,3,3,3,3,3,3,3,3,3,3,3,3,3,3,4,4,4,4,4,4,4,4,4,4,4,4,4,4,4,4,4,4,4,4,5,5,5,5,5,5,5,5,5,5,5,5,5,5,5,5,5,5,5,5,6,6,6,6,6,6,6,6,6,6,6,6,6,6,6,6,6,6,6,6,7,7,7,7,7,7,7,7,7,7,7,7,7,7,7,7,7,7,7,7,8,8,8,8,8,8,8,8,8,8,8,8,8,8,8,8,8,8,8,8,9,9,9,9,9,9,9,9,9,9,9,9,9,9,9,9,9,9,9,9,10,10,10,10,10,10,10,10,10,10,10,10,10,10,10,10,10,10,10,10,11,11,11,11,11,11,11,11,11,11,11,11,11,11,11,11,11,11,11,11,12,12,12,12,12,12,12,12,12,12,12,12,12,12,12,12,12,12,12,12,13,13,13,13,13,13,13,13,13,13,13,13,13,13,13,13,13,13,13,13,14,14,14,14,14,14,14,14,14,14,14,14,14,14,14,14,14,14,14,14,15,15,15,15,15,15,15,15,15,15,15,15,15,15,15,15,15,15,15,15,16,16,16,16,16,16,16,16,16,16,16,16,16,16,16,16,16,16,16,16,17,17,17,17,17,17,17,17,17,17,17,17,17,17,17,17,17,17,17,17,18,18,18,18,18,18,18,18,18,18,18,18,18,18,18,18,18,18,18,18,19,19,19,19,19,19,19,19,19,19,19,19,19,19,19,19,19,19,19,19],\"y\":[0,1,2,3,4,5,6,7,8,9,10,11,12,13,14,15,16,17,18,19,0,1,2,3,4,5,6,7,8,9,10,11,12,13,14,15,16,17,18,19,0,1,2,3,4,5,6,7,8,9,10,11,12,13,14,15,16,17,18,19,0,1,2,3,4,5,6,7,8,9,10,11,12,13,14,15,16,17,18,19,0,1,2,3,4,5,6,7,8,9,10,11,12,13,14,15,16,17,18,19,0,1,2,3,4,5,6,7,8,9,10,11,12,13,14,15,16,17,18,19,0,1,2,3,4,5,6,7,8,9,10,11,12,13,14,15,16,17,18,19,0,1,2,3,4,5,6,7,8,9,10,11,12,13,14,15,16,17,18,19,0,1,2,3,4,5,6,7,8,9,10,11,12,13,14,15,16,17,18,19,0,1,2,3,4,5,6,7,8,9,10,11,12,13,14,15,16,17,18,19,0,1,2,3,4,5,6,7,8,9,10,11,12,13,14,15,16,17,18,19,0,1,2,3,4,5,6,7,8,9,10,11,12,13,14,15,16,17,18,19,0,1,2,3,4,5,6,7,8,9,10,11,12,13,14,15,16,17,18,19,0,1,2,3,4,5,6,7,8,9,10,11,12,13,14,15,16,17,18,19,0,1,2,3,4,5,6,7,8,9,10,11,12,13,14,15,16,17,18,19,0,1,2,3,4,5,6,7,8,9,10,11,12,13,14,15,16,17,18,19,0,1,2,3,4,5,6,7,8,9,10,11,12,13,14,15,16,17,18,19,0,1,2,3,4,5,6,7,8,9,10,11,12,13,14,15,16,17,18,19,0,1,2,3,4,5,6,7,8,9,10,11,12,13,14,15,16,17,18,19,0,1,2,3,4,5,6,7,8,9,10,11,12,13,14,15,16,17,18,19]}},\"id\":\"0d4f176f-35a8-466a-89b7-87eff9212e61\",\"type\":\"ColumnDataSource\"},{\"attributes\":{\"plot\":{\"id\":\"2e4e784e-1d04-4483-87ed-0e6409e1f291\",\"subtype\":\"Figure\",\"type\":\"Plot\"}},\"id\":\"8be70de0-e772-4284-9775-602ef093340c\",\"type\":\"PanTool\"},{\"attributes\":{\"callback\":null},\"id\":\"b126086b-c453-4e16-9ea7-34bcea5665d1\",\"type\":\"DataRange1d\"},{\"attributes\":{},\"id\":\"88331eea-0900-4959-a139-775475307c3a\",\"type\":\"BasicTickFormatter\"},{\"attributes\":{\"axis_label\":\"Step\",\"formatter\":{\"id\":\"34f06fef-f91e-4a06-9a15-e68fa7aaf68c\",\"type\":\"BasicTickFormatter\"},\"plot\":{\"id\":\"ca62f52f-ad2b-4956-a89d-438a88f1a40c\",\"subtype\":\"Figure\",\"type\":\"Plot\"},\"ticker\":{\"id\":\"6c3ba07b-99ee-4bd9-982f-4b19bf042ab9\",\"type\":\"BasicTicker\"}},\"id\":\"0d749e7f-83d9-43e4-9805-8243881b3d15\",\"type\":\"LinearAxis\"},{\"attributes\":{\"below\":[{\"id\":\"f32e45a4-8c73-4460-8916-3321f9c170f1\",\"type\":\"LinearAxis\"}],\"left\":[{\"id\":\"8b74e0aa-f89c-4b5d-8090-baab1ba17c04\",\"type\":\"LinearAxis\"}],\"plot_height\":500,\"plot_width\":500,\"renderers\":[{\"id\":\"f32e45a4-8c73-4460-8916-3321f9c170f1\",\"type\":\"LinearAxis\"},{\"id\":\"4f6a05bb-0d4f-4bd5-89c7-a105a1beaba6\",\"type\":\"Grid\"},{\"id\":\"8b74e0aa-f89c-4b5d-8090-baab1ba17c04\",\"type\":\"LinearAxis\"},{\"id\":\"c1494c2b-c2ef-4c27-95ba-528de96fcbb7\",\"type\":\"Grid\"},{\"id\":\"8f0801c3-777b-41e9-9279-8c5b5ad12aec\",\"type\":\"BoxAnnotation\"},{\"id\":\"903987a0-321a-49a0-a8d1-d6a5f99203f5\",\"type\":\"GlyphRenderer\"}],\"title\":{\"id\":\"fba5d992-1f44-49de-b696-991fa42f5f30\",\"type\":\"Title\"},\"tool_events\":{\"id\":\"bc7c265c-5eb8-4e46-9411-e581c00d64df\",\"type\":\"ToolEvents\"},\"toolbar\":{\"id\":\"42c5b31b-59a3-4c66-b6aa-c4ce6dfa50f9\",\"type\":\"Toolbar\"},\"toolbar_location\":null,\"x_range\":{\"id\":\"29bb1134-cce1-4ba4-92a0-75440d1fd828\",\"type\":\"DataRange1d\"},\"y_range\":{\"id\":\"d585cc2f-93fc-49fc-944a-c34083840581\",\"type\":\"DataRange1d\"}},\"id\":\"2e4e784e-1d04-4483-87ed-0e6409e1f291\",\"subtype\":\"Figure\",\"type\":\"Plot\"},{\"attributes\":{\"sizing_mode\":\"scale_width\",\"toolbar_location\":\"above\",\"tools\":[{\"id\":\"8be70de0-e772-4284-9775-602ef093340c\",\"type\":\"PanTool\"},{\"id\":\"6e832dd8-255c-480d-bd92-feab7017646b\",\"type\":\"WheelZoomTool\"},{\"id\":\"744a10d6-bbbb-4173-b916-2c16c99243b4\",\"type\":\"BoxZoomTool\"},{\"id\":\"58c3b71d-8014-4c2d-a422-d525f28e7e71\",\"type\":\"SaveTool\"},{\"id\":\"e42e767a-c529-4dc6-90bd-8ac02820f06c\",\"type\":\"ResetTool\"},{\"id\":\"4897fdad-d033-43fd-b867-29a4f6052ff4\",\"type\":\"HelpTool\"},{\"id\":\"f7b102e6-d6fa-4f2a-8c6b-e1d1eae35c43\",\"type\":\"PanTool\"},{\"id\":\"701da575-0457-4b67-a716-8d66aa07331f\",\"type\":\"WheelZoomTool\"},{\"id\":\"dc94a3df-afe8-4635-b763-1252c4a36258\",\"type\":\"BoxZoomTool\"},{\"id\":\"1444c614-3463-4e3c-8022-68883f565724\",\"type\":\"SaveTool\"},{\"id\":\"eb0c8079-404c-44fc-ae0b-47a08cebbff4\",\"type\":\"ResetTool\"},{\"id\":\"0edc8c1e-6124-4a3d-9b4d-f4851a660ffb\",\"type\":\"HelpTool\"}]},\"id\":\"3b48d783-3756-48b8-b75f-9184a3fa78cc\",\"type\":\"ToolbarBox\"},{\"attributes\":{\"plot\":{\"id\":\"2e4e784e-1d04-4483-87ed-0e6409e1f291\",\"subtype\":\"Figure\",\"type\":\"Plot\"}},\"id\":\"6e832dd8-255c-480d-bd92-feab7017646b\",\"type\":\"WheelZoomTool\"},{\"attributes\":{\"plot\":{\"id\":\"2e4e784e-1d04-4483-87ed-0e6409e1f291\",\"subtype\":\"Figure\",\"type\":\"Plot\"},\"ticker\":{\"id\":\"db15b8d1-de2e-443d-a24f-e5452063e563\",\"type\":\"BasicTicker\"}},\"id\":\"4f6a05bb-0d4f-4bd5-89c7-a105a1beaba6\",\"type\":\"Grid\"},{\"attributes\":{\"plot\":null,\"text\":null},\"id\":\"f2eee678-9e05-42f4-b21a-622f4e859fc9\",\"type\":\"Title\"},{\"attributes\":{},\"id\":\"9cb788b5-2c26-4a25-9e1b-baca81130ae4\",\"type\":\"BasicTicker\"},{\"attributes\":{\"callback\":null},\"id\":\"29bb1134-cce1-4ba4-92a0-75440d1fd828\",\"type\":\"DataRange1d\"},{\"attributes\":{\"data_source\":{\"id\":\"0d4f176f-35a8-466a-89b7-87eff9212e61\",\"type\":\"ColumnDataSource\"},\"glyph\":{\"id\":\"d6a81a81-64b7-4d7e-a8d1-1ceba1093dc3\",\"type\":\"Square\"},\"hover_glyph\":null,\"nonselection_glyph\":{\"id\":\"d17284ad-0150-4f48-9996-14f7815ca21f\",\"type\":\"Square\"},\"selection_glyph\":null},\"id\":\"903987a0-321a-49a0-a8d1-d6a5f99203f5\",\"type\":\"GlyphRenderer\"},{\"attributes\":{\"plot\":{\"id\":\"2e4e784e-1d04-4483-87ed-0e6409e1f291\",\"subtype\":\"Figure\",\"type\":\"Plot\"}},\"id\":\"e42e767a-c529-4dc6-90bd-8ac02820f06c\",\"type\":\"ResetTool\"},{\"attributes\":{},\"id\":\"1167ee1a-572f-4d0e-961f-a09fcee1bad1\",\"type\":\"ToolEvents\"},{\"attributes\":{\"plot\":{\"id\":\"ca62f52f-ad2b-4956-a89d-438a88f1a40c\",\"subtype\":\"Figure\",\"type\":\"Plot\"},\"ticker\":{\"id\":\"6c3ba07b-99ee-4bd9-982f-4b19bf042ab9\",\"type\":\"BasicTicker\"}},\"id\":\"2d7eebd6-3614-4dca-8482-4aac1d7c4e52\",\"type\":\"Grid\"},{\"attributes\":{\"plot\":{\"id\":\"ca62f52f-ad2b-4956-a89d-438a88f1a40c\",\"subtype\":\"Figure\",\"type\":\"Plot\"}},\"id\":\"1444c614-3463-4e3c-8022-68883f565724\",\"type\":\"SaveTool\"},{\"attributes\":{},\"id\":\"bc7c265c-5eb8-4e46-9411-e581c00d64df\",\"type\":\"ToolEvents\"},{\"attributes\":{\"data_source\":{\"id\":\"9614498f-8918-45b5-94c5-b96cebc50958\",\"type\":\"ColumnDataSource\"},\"glyph\":{\"id\":\"f5bb4925-b5b7-406c-9dd1-15d84048a3c4\",\"type\":\"Line\"},\"hover_glyph\":null,\"nonselection_glyph\":{\"id\":\"4d2fcfca-4e83-479d-8f4c-716ee0c29d0b\",\"type\":\"Line\"},\"selection_glyph\":null},\"id\":\"5cc3d922-c7c5-4681-9568-40edd1bf0d07\",\"type\":\"GlyphRenderer\"},{\"attributes\":{\"plot\":{\"id\":\"2e4e784e-1d04-4483-87ed-0e6409e1f291\",\"subtype\":\"Figure\",\"type\":\"Plot\"}},\"id\":\"4897fdad-d033-43fd-b867-29a4f6052ff4\",\"type\":\"HelpTool\"},{\"attributes\":{\"children\":[{\"id\":\"3b48d783-3756-48b8-b75f-9184a3fa78cc\",\"type\":\"ToolbarBox\"},{\"id\":\"fe1848c9-e67d-4662-a4c9-260860a5db11\",\"type\":\"Column\"}]},\"id\":\"7e5b00b9-3ca2-461b-919a-021c03427684\",\"type\":\"Column\"},{\"attributes\":{\"dimension\":1,\"plot\":{\"id\":\"ca62f52f-ad2b-4956-a89d-438a88f1a40c\",\"subtype\":\"Figure\",\"type\":\"Plot\"},\"ticker\":{\"id\":\"9cb788b5-2c26-4a25-9e1b-baca81130ae4\",\"type\":\"BasicTicker\"}},\"id\":\"b54cde98-99eb-481b-b314-0aeafb0e1b27\",\"type\":\"Grid\"},{\"attributes\":{\"dimension\":1,\"plot\":{\"id\":\"2e4e784e-1d04-4483-87ed-0e6409e1f291\",\"subtype\":\"Figure\",\"type\":\"Plot\"},\"ticker\":{\"id\":\"86c65372-142d-4abd-a75c-79619fcd5cea\",\"type\":\"BasicTicker\"}},\"id\":\"c1494c2b-c2ef-4c27-95ba-528de96fcbb7\",\"type\":\"Grid\"},{\"attributes\":{\"line_color\":{\"value\":\"#1f77b4\"},\"x\":{\"field\":\"x\"},\"y\":{\"field\":\"y\"}},\"id\":\"f5bb4925-b5b7-406c-9dd1-15d84048a3c4\",\"type\":\"Line\"},{\"attributes\":{\"plot\":{\"id\":\"ca62f52f-ad2b-4956-a89d-438a88f1a40c\",\"subtype\":\"Figure\",\"type\":\"Plot\"}},\"id\":\"eb0c8079-404c-44fc-ae0b-47a08cebbff4\",\"type\":\"ResetTool\"},{\"attributes\":{\"active_drag\":\"auto\",\"active_scroll\":\"auto\",\"active_tap\":\"auto\",\"tools\":[{\"id\":\"f7b102e6-d6fa-4f2a-8c6b-e1d1eae35c43\",\"type\":\"PanTool\"},{\"id\":\"701da575-0457-4b67-a716-8d66aa07331f\",\"type\":\"WheelZoomTool\"},{\"id\":\"dc94a3df-afe8-4635-b763-1252c4a36258\",\"type\":\"BoxZoomTool\"},{\"id\":\"1444c614-3463-4e3c-8022-68883f565724\",\"type\":\"SaveTool\"},{\"id\":\"eb0c8079-404c-44fc-ae0b-47a08cebbff4\",\"type\":\"ResetTool\"},{\"id\":\"0edc8c1e-6124-4a3d-9b4d-f4851a660ffb\",\"type\":\"HelpTool\"}]},\"id\":\"800c8827-2f2e-4f1e-b1fe-1f5219bb3a48\",\"type\":\"Toolbar\"},{\"attributes\":{\"overlay\":{\"id\":\"8f0801c3-777b-41e9-9279-8c5b5ad12aec\",\"type\":\"BoxAnnotation\"},\"plot\":{\"id\":\"2e4e784e-1d04-4483-87ed-0e6409e1f291\",\"subtype\":\"Figure\",\"type\":\"Plot\"}},\"id\":\"744a10d6-bbbb-4173-b916-2c16c99243b4\",\"type\":\"BoxZoomTool\"},{\"attributes\":{\"plot\":null,\"text\":null},\"id\":\"fba5d992-1f44-49de-b696-991fa42f5f30\",\"type\":\"Title\"},{\"attributes\":{\"formatter\":{\"id\":\"6512b92e-ca61-458b-8df3-30d5ba0939c0\",\"type\":\"BasicTickFormatter\"},\"plot\":{\"id\":\"2e4e784e-1d04-4483-87ed-0e6409e1f291\",\"subtype\":\"Figure\",\"type\":\"Plot\"},\"ticker\":{\"id\":\"86c65372-142d-4abd-a75c-79619fcd5cea\",\"type\":\"BasicTicker\"}},\"id\":\"8b74e0aa-f89c-4b5d-8090-baab1ba17c04\",\"type\":\"LinearAxis\"},{\"attributes\":{\"fill_alpha\":{\"value\":0.1},\"fill_color\":{\"value\":\"#1f77b4\"},\"line_alpha\":{\"value\":0.1},\"line_color\":{\"value\":\"#1f77b4\"},\"size\":{\"units\":\"screen\",\"value\":20},\"x\":{\"field\":\"x\"},\"y\":{\"field\":\"y\"}},\"id\":\"d17284ad-0150-4f48-9996-14f7815ca21f\",\"type\":\"Square\"},{\"attributes\":{},\"id\":\"db15b8d1-de2e-443d-a24f-e5452063e563\",\"type\":\"BasicTicker\"},{\"attributes\":{},\"id\":\"e237de1c-e617-44ad-aedc-e61d73555c0d\",\"type\":\"BasicTickFormatter\"},{\"attributes\":{\"bottom_units\":\"screen\",\"fill_alpha\":{\"value\":0.5},\"fill_color\":{\"value\":\"lightgrey\"},\"left_units\":\"screen\",\"level\":\"overlay\",\"line_alpha\":{\"value\":1.0},\"line_color\":{\"value\":\"black\"},\"line_dash\":[4,4],\"line_width\":{\"value\":2},\"plot\":null,\"render_mode\":\"css\",\"right_units\":\"screen\",\"top_units\":\"screen\"},\"id\":\"8f0801c3-777b-41e9-9279-8c5b5ad12aec\",\"type\":\"BoxAnnotation\"},{\"attributes\":{},\"id\":\"86c65372-142d-4abd-a75c-79619fcd5cea\",\"type\":\"BasicTicker\"},{\"attributes\":{\"plot\":{\"id\":\"ca62f52f-ad2b-4956-a89d-438a88f1a40c\",\"subtype\":\"Figure\",\"type\":\"Plot\"}},\"id\":\"0edc8c1e-6124-4a3d-9b4d-f4851a660ffb\",\"type\":\"HelpTool\"},{\"attributes\":{\"below\":[{\"id\":\"0d749e7f-83d9-43e4-9805-8243881b3d15\",\"type\":\"LinearAxis\"}],\"left\":[{\"id\":\"0cbeee74-efc0-4bba-9f66-91feaad6fab2\",\"type\":\"LinearAxis\"}],\"plot_height\":500,\"plot_width\":500,\"renderers\":[{\"id\":\"0d749e7f-83d9-43e4-9805-8243881b3d15\",\"type\":\"LinearAxis\"},{\"id\":\"2d7eebd6-3614-4dca-8482-4aac1d7c4e52\",\"type\":\"Grid\"},{\"id\":\"0cbeee74-efc0-4bba-9f66-91feaad6fab2\",\"type\":\"LinearAxis\"},{\"id\":\"b54cde98-99eb-481b-b314-0aeafb0e1b27\",\"type\":\"Grid\"},{\"id\":\"b071c0f9-0ec0-4854-b76b-4266e4b0146d\",\"type\":\"BoxAnnotation\"},{\"id\":\"5cc3d922-c7c5-4681-9568-40edd1bf0d07\",\"type\":\"GlyphRenderer\"}],\"title\":{\"id\":\"f2eee678-9e05-42f4-b21a-622f4e859fc9\",\"type\":\"Title\"},\"tool_events\":{\"id\":\"1167ee1a-572f-4d0e-961f-a09fcee1bad1\",\"type\":\"ToolEvents\"},\"toolbar\":{\"id\":\"800c8827-2f2e-4f1e-b1fe-1f5219bb3a48\",\"type\":\"Toolbar\"},\"toolbar_location\":null,\"x_range\":{\"id\":\"bc32558c-0422-4e22-9b4f-364402d9437f\",\"type\":\"DataRange1d\"},\"y_range\":{\"id\":\"b126086b-c453-4e16-9ea7-34bcea5665d1\",\"type\":\"DataRange1d\"}},\"id\":\"ca62f52f-ad2b-4956-a89d-438a88f1a40c\",\"subtype\":\"Figure\",\"type\":\"Plot\"}],\"root_ids\":[\"7e5b00b9-3ca2-461b-919a-021c03427684\"]},\"title\":\"Bokeh Application\",\"version\":\"0.12.0\"}};\n",
       "            var render_items = [{\"docid\":\"597a26c7-61ea-4667-94e4-b1b5b082e1ad\",\"elementid\":\"17d00c7b-eda3-477f-bfdf-48c8870eb6b8\",\"modelid\":\"7e5b00b9-3ca2-461b-919a-021c03427684\",\"notebook_comms_target\":\"c5f235a9-db41-42b3-abe5-f88de87b8f6b\"}];\n",
       "            \n",
       "            Bokeh.embed.embed_items(docs_json, render_items);\n",
       "        });\n",
       "      },\n",
       "      function(Bokeh) {\n",
       "      }\n",
       "    ];\n",
       "  \n",
       "    function run_inline_js() {\n",
       "      for (var i = 0; i < inline_js.length; i++) {\n",
       "        inline_js[i](window.Bokeh);\n",
       "      }\n",
       "    }\n",
       "  \n",
       "    if (window._bokeh_is_loading === 0) {\n",
       "      console.log(\"Bokeh: BokehJS loaded, going straight to plotting\");\n",
       "      run_inline_js();\n",
       "    } else {\n",
       "      load_libs(js_urls, function() {\n",
       "        console.log(\"Bokeh: BokehJS plotting callback run at\", now());\n",
       "        run_inline_js();\n",
       "      });\n",
       "    }\n",
       "  }(this));\n",
       "</script>"
      ]
     },
     "metadata": {},
     "output_type": "display_data"
    },
    {
     "data": {
      "text/html": [
       "<p><code>&lt;Bokeh Notebook handle for <strong>In[12]</strong>&gt;</code></p>"
      ],
      "text/plain": [
       "<bokeh.io._CommsHandle at 0x235a2e12f60>"
      ]
     },
     "execution_count": 12,
     "metadata": {},
     "output_type": "execute_result"
    }
   ],
   "source": [
    "show(p) #show the plots"
   ]
  },
  {
   "cell_type": "code",
   "execution_count": 13,
   "metadata": {
    "collapsed": false
   },
   "outputs": [],
   "source": [
    "#UI for energetics\n",
    "display(T_slider, EE_slider, range_slider, single_update_button, multi_update_button)"
   ]
  },
  {
   "cell_type": "markdown",
   "metadata": {},
   "source": [
    "### Dynamic Equilibrium\n",
    "After evolving the lattice a few times with fixed temperature and exchange interaction energy, a state of dynamic equilibrium is reached. The macroscopic properties such as entropy remain roughly fixed with further evolution. However, the individual spin states change; the system moves between microstates.\n",
    "According to the principle of equal equilibrium probability, all such microstates have the same probability of occurring.\n",
    "\n",
    "### Critical Points\n",
    "Phase transitions in the lattice occur across critical points. Near the paramagnetic-ferromagnetic phase transition, state variables such as entropy exhibit large fluctuations. This can observed in the model with a negative exchange energy and a temperature of similar magnitude (use multi-update!)\n",
    "\n",
    "### Phase Co-existence\n",
    "Below the transition temperature, where the exchange interaction dominates the behaviour instead of the thermal energy, multiple magnetic domains can often still be observed. Boundaries between spin-up and spin-down domains can exist provided the entropy associated with phase separation outweighs the energy cost associated with their boundary.\n",
    "To minimise this boundary energy in ferromagnets, small magnetic domains embedded in larger ones tend to a circles as equilibrium is approached."
   ]
  }
 ],
 "metadata": {
  "anaconda-cloud": {},
  "celltoolbar": "Raw Cell Format",
  "kernelspec": {
   "display_name": "Python 3",
   "language": "python",
   "name": "python3"
  },
  "language_info": {
   "codemirror_mode": {
    "name": "ipython",
    "version": 3
   },
   "file_extension": ".py",
   "mimetype": "text/x-python",
   "name": "python",
   "nbconvert_exporter": "python",
   "pygments_lexer": "ipython3",
   "version": "3.5.2"
  }
 },
 "nbformat": 4,
 "nbformat_minor": 0
}
