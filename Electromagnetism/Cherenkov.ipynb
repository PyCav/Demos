{
 "cells": [
  {
   "cell_type": "markdown",
   "metadata": {},
   "source": [
    "### Cherenkov Radiation\n",
    "Charged particles radiate when travelling faster than light in a medium. This is because the region of non-zero field grows with time, so it occurs even when the particle is in uniform motion.\n",
    "In contrast, if the particle moves slower than the speed of light in the medium, it can't outrun its own electromagnetic field.\n",
    "<img src=\"cherenkov.png\" style=\"height:300px;\">\n",
    "To change the properties of the plot, adjust the function `R(T)` and the evaluation time, `time`, near the bottom of the program. This code won't handle superluminal velocities on curved paths since the potential is computed from only the most recent point on the particle's worldline which satisfies the lightcone condition."
   ]
  },
  {
   "cell_type": "code",
   "execution_count": 62,
   "metadata": {
    "collapsed": true
   },
   "outputs": [],
   "source": [
    "import numpy as np\n",
    "from numpy import linalg as la\n",
    "\n",
    "#speed of light in medium\n",
    "cn = 1.0\n",
    "#charge of particle\n",
    "q = 1.0\n",
    "\n",
    "#time discretisation\n",
    "dt = 0.01\n",
    "Nsteps = 100\n",
    "t = [dt*i for i in range(Nsteps)]\n",
    "\n",
    "#space discretisation\n",
    "dx = 0.02\n",
    "N = 50\n",
    "x = np.linspace(-0.5*N*dx, 0.5*N*dx, N)\n",
    "y = np.linspace(-0.5*N*dx, 0.5*N*dx, N)\n",
    "\n",
    "#discretisation error\n",
    "square_error = dt**2 + 2*(dx/cn)**2\n",
    "\n",
    "#define particle position in xy plane\n",
    "def R(T):\n",
    "    #particle at rest at (0,0) for T<0\n",
    "    X = 0.0\n",
    "    Y = 0.0\n",
    "    if T >= 0:\n",
    "        X = min(x) + 1.0*T**2\n",
    "        Y = max(y) - 1.0*T**2\n",
    "    return np.array([X,Y])"
   ]
  },
  {
   "cell_type": "markdown",
   "metadata": {},
   "source": [
    "To find the electric scalar potential at a given position and time, we search the worldline of the particle to find emission times satisfying the lightcone condition. \n",
    "For general time-varying charge distributions it can be calculated using the retarded potential\n",
    "\n",
    "$$\\phi(\\vec{r}, t) = \\int \\frac{\\rho(\\vec{r}, t - \\frac{|\\vec{r}-\\vec{R}|}{c})}{|\\vec{r}-\\vec{R}|} d^3\\vec{R}.$$"
   ]
  },
  {
   "cell_type": "code",
   "execution_count": 63,
   "metadata": {
    "collapsed": false
   },
   "outputs": [],
   "source": [
    "#find the difference between time and space\n",
    "#interval for obversation and emission.\n",
    "#off_worldline=0 is the lightcone condition.\n",
    "def off_worldline(emission_time, position, time):\n",
    "    return (time - emission_time - la.norm(position - R(emission_time))/cn)**2\n",
    "\n",
    "#for a given position and time, find the time\n",
    "#at which the received radiation was emitted\n",
    "def get_emission_time(position,time):\n",
    "    emission_time = 0.0\n",
    "    #check all emission times < time in reverse order\n",
    "    for T in (t[0:t.index(time)])[::-1]:\n",
    "        ow = off_worldline(T, position, time)\n",
    "        if (ow < square_error):\n",
    "            emission_time = T\n",
    "            break\n",
    "    return emission_time\n",
    "\n",
    "#calculate the scalar potential\n",
    "def get_phi(position, time):\n",
    "    T = get_emission_time(position, time)\n",
    "    return q/(4.0*np.pi*la.norm(position - R(T)))\n",
    "    \n",
    "#scalar potential\n",
    "phi = np.zeros((N,N))\n",
    "time = t[-1]\n",
    "it = np.nditer(phi, ['multi_index'])\n",
    "for element in it:\n",
    "    i,j = it.multi_index\n",
    "    position = np.array([x[j],y[i]])\n",
    "    phi[i,j] = get_phi(position, time)"
   ]
  },
  {
   "cell_type": "markdown",
   "metadata": {},
   "source": [
    "Particles satisfying the Cherenkov condition (i.e. travelling faster than light does) emit cones of radiation around their paths. The angle at which the radiation is emitted is\n",
    "$$cos\\theta = \\frac{1}{n \\beta},$$\n",
    "where $\\beta = \\nu/c$ and $\\nu$ is the particle speed. Since refractive index is a function of wavelength, different wavelengths are emitted in different directions. Also, for a given particle speed, the Cherenkov condition may be satisfied for only a finite range of wavelengths. This often gives it a characteristic colour.\n",
    "<img src=\"cherenkov2.jpg\" style=\"height:300px;\">\n",
    "In the above image, only the wavelengths indicated by the blue shading are emitted by the particle."
   ]
  },
  {
   "cell_type": "code",
   "execution_count": 64,
   "metadata": {
    "collapsed": false
   },
   "outputs": [
    {
     "data": {
      "image/png": "[encoded data removed]",
      "text/plain": [
       "<matplotlib.figure.Figure at 0x23a258827b8>"
      ]
     },
     "metadata": {},
     "output_type": "display_data"
    }
   ],
   "source": [
    "%matplotlib inline\n",
    "import matplotlib.pyplot as plt\n",
    "\n",
    "#plot the electric scalar potential\n",
    "fig = plt.figure(figsize = (9,7))\n",
    "plt.pcolor(x,y,np.log10(phi))\n",
    "plt.xlim(min(x), max(x))\n",
    "plt.ylim(min(y), max(y))\n",
    "plt.xlabel('x')\n",
    "plt.ylabel('y')\n",
    "plt.title(\"Electric Scalar Potential of a Moving Point Charge\")\n",
    "plt.colorbar()\n",
    "plt.show()"
   ]
  },
  {
   "cell_type": "code",
   "execution_count": null,
   "metadata": {
    "collapsed": true
   },
   "outputs": [],
   "source": []
  }
 ],
 "metadata": {
  "anaconda-cloud": {},
  "kernelspec": {
   "display_name": "Python [Root]",
   "language": "python",
   "name": "Python [Root]"
  },
  "language_info": {
   "codemirror_mode": {
    "name": "ipython",
    "version": 3
   },
   "file_extension": ".py",
   "mimetype": "text/x-python",
   "name": "python",
   "nbconvert_exporter": "python",
   "pygments_lexer": "ipython3",
   "version": "3.5.2"
  }
 },
 "nbformat": 4,
 "nbformat_minor": 0
}
