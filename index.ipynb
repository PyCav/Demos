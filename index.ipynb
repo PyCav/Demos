{
 "cells": [
  {
   "cell_type": "markdown",
   "metadata": {},
   "source": [
    "### PyCav Demo Binder\n",
    "\n",
    "\n",
    "[Charged Ring](charge_torus.ipynb): Charged particle above a oppositely charged fixed ring\n",
    "\n",
    "[Crystal Growth](CrystalGrowthVPython.ipynb): Statistical mechanics model of growth of a crystal\n",
    "\n",
    "[Orbits](OrbitsInteractive.ipynb): Interactive (gravitational) orbit simulation\n",
    "\n",
    "[Potential Flow](PotentialFlow.ipynb): Potential flow of a irrotational perfect fluid\n",
    "\n",
    "[Ising Model](ising.ipynb): 2D Ising Ferromagnet, nearest neighbour interactions\n"
   ]
  }
 ],
 "metadata": {
  "kernelspec": {
   "display_name": "Python 3",
   "language": "python",
   "name": "python3"
  },
  "language_info": {
   "codemirror_mode": {
    "name": "ipython",
    "version": 3
   },
   "file_extension": ".py",
   "mimetype": "text/x-python",
   "name": "python",
   "nbconvert_exporter": "python",
   "pygments_lexer": "ipython3",
   "version": "3.5.1"
  }
 },
 "nbformat": 4,
 "nbformat_minor": 0
}
