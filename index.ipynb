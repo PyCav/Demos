{
 "cells": [
  {
   "cell_type": "markdown",
   "metadata": {},
   "source": [
    "# PyCav Demo Binder\n",
    "\n",
    "\n",
    "## Dynamics\n",
    "\n",
    "[Charged Ring](./Dynamics/charge_torus.ipynb): Charged particle above a oppositely charged fixed ring\n",
    "\n",
    "[Orbits](./Dynamics/OrbitsInteractive.ipynb): Interactive (gravitational) orbit simulation\n",
    "\n",
    "[Potential Flow](./Dynamics/PotentialFlow.ipynb): Potential flow of a irrotational perfect fluid\n",
    "\n",
    "[Coupled Points](./Dynamics/CoupledPoints.ipynb): Interactive 3D simulation of systems of particles and springs\n",
    "\n",
    "[Simple Pendulum](./Dynamics/ia_simple_pendulum.ipynb): Plots the displacement, energy and phasor for a simple pendulum\n",
    "\n",
    "\n",
    "## Statistical Physics\n",
    "\n",
    "[Crystal Growth](./StatPhysics/CrystalGrowthVPython.ipynb): Statistical mechanics model of growth of a crystal\n",
    "\n",
    "[Ising Model](./StatPhysics/ising.ipynb): 2D Ising Ferromagnet, nearest neighbour interactions\n",
    "\n",
    "[Dynamic Ising Model](./StatPhysics/spin_lattice.ipynb): Glauber dynamics of the Ising model\n",
    "\n",
    "## Thermodynamics\n",
    "\n",
    "[Kinetic Theory of Gases](./Thermodynamics/KineticGasTheoryPressures.ipynb): Collisional and collisionless gases within a confined volume, macroscopic properties, e.g. pressure, observed\n",
    "\n",
    "## Statistics\n",
    "\n",
    "[Decay Chains](./Statistics/Bateman_Eqn.ipynb): Shows the dynamic behaviour of a decay chain as a function of decay probabilities\n",
    "\n"
   ]
  }
 ],
 "metadata": {
  "kernelspec": {
   "display_name": "Python 3",
   "language": "python",
   "name": "python3"
  },
  "language_info": {
   "codemirror_mode": {
    "name": "ipython",
    "version": 3
   },
   "file_extension": ".py",
   "mimetype": "text/x-python",
   "name": "python",
   "nbconvert_exporter": "python",
   "pygments_lexer": "ipython3",
   "version": "3.5.1"
  },
  "widgets": {
   "state": {},
   "version": "1.1.2"
  }
 },
 "nbformat": 4,
 "nbformat_minor": 0
}
